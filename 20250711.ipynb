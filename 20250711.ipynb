{
 "cells": [
  {
   "cell_type": "markdown",
   "id": "23500c00",
   "metadata": {},
   "source": [
    "# Markdown 문서 작성\n",
    "#### 20250711"
   ]
  },
  {
   "cell_type": "code",
   "execution_count": 1,
   "id": "b9520ba3",
   "metadata": {},
   "outputs": [
    {
     "name": "stdout",
     "output_type": "stream",
     "text": [
      "hell world\n"
     ]
    }
   ],
   "source": [
    "print('hell world')"
   ]
  },
  {
   "cell_type": "code",
   "execution_count": null,
   "id": "b1e2367d",
   "metadata": {},
   "outputs": [],
   "source": []
  }
 ],
 "metadata": {
  "kernelspec": {
   "display_name": ".venv",
   "language": "python",
   "name": "python3"
  },
  "language_info": {
   "codemirror_mode": {
    "name": "ipython",
    "version": 3
   },
   "file_extension": ".py",
   "mimetype": "text/x-python",
   "name": "python",
   "nbconvert_exporter": "python",
   "pygments_lexer": "ipython3",
   "version": "3.12.3"
  }
 },
 "nbformat": 4,
 "nbformat_minor": 5
}
