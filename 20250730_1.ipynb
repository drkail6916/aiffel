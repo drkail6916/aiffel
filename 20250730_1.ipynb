{
 "cells": [
  {
   "cell_type": "markdown",
   "id": "133d3fff",
   "metadata": {},
   "source": [
    "## 미니 프로젝트 : 영국 시장의 중고 자동차 가격 데이터 다루기"
   ]
  },
  {
   "cell_type": "markdown",
   "id": "e63f7ab4",
   "metadata": {},
   "source": [
    "### 데이터 불러오기, 살펴보기"
   ]
  },
  {
   "cell_type": "code",
   "execution_count": 359,
   "id": "303bac57",
   "metadata": {},
   "outputs": [],
   "source": [
    "import numpy as np\n",
    "import pandas as pd\n",
    "\n",
    "import matplotlib.pyplot as plt\n",
    "import seaborn as sns"
   ]
  },
  {
   "cell_type": "code",
   "execution_count": 360,
   "id": "07235c69",
   "metadata": {},
   "outputs": [],
   "source": [
    "df_car = pd.read_csv('./data/cars.csv')\n",
    "df_brand = pd.read_csv('./data/brand.csv')"
   ]
  },
  {
   "cell_type": "code",
   "execution_count": 361,
   "id": "a9a835d3",
   "metadata": {},
   "outputs": [
    {
     "data": {
      "application/vnd.microsoft.datawrangler.viewer.v0+json": {
       "columns": [
        {
         "name": "index",
         "rawType": "int64",
         "type": "integer"
        },
        {
         "name": "title",
         "rawType": "object",
         "type": "string"
        },
        {
         "name": "Price",
         "rawType": "int64",
         "type": "integer"
        },
        {
         "name": "Mileage(miles)",
         "rawType": "int64",
         "type": "integer"
        },
        {
         "name": "Registration_Year",
         "rawType": "int64",
         "type": "integer"
        },
        {
         "name": "Previous Owners",
         "rawType": "float64",
         "type": "float"
        },
        {
         "name": "Fuel type",
         "rawType": "object",
         "type": "string"
        },
        {
         "name": "Body type",
         "rawType": "object",
         "type": "string"
        },
        {
         "name": "Engine",
         "rawType": "object",
         "type": "string"
        },
        {
         "name": "Gearbox",
         "rawType": "object",
         "type": "string"
        },
        {
         "name": "Doors",
         "rawType": "float64",
         "type": "float"
        },
        {
         "name": "Seats",
         "rawType": "float64",
         "type": "float"
        },
        {
         "name": "Emission Class",
         "rawType": "object",
         "type": "string"
        },
        {
         "name": "Service history",
         "rawType": "object",
         "type": "unknown"
        }
       ],
       "ref": "36246246-be56-45c9-9f6d-8d16bde6a15b",
       "rows": [
        [
         "0",
         "SKODA FABIA",
         "6900",
         "70189",
         "2016",
         "3.0",
         "Diesel",
         "Hatchback",
         "1.4L",
         "Manual",
         "5.0",
         "5.0",
         "Euro 6",
         null
        ],
        [
         "1",
         "VAUXHALL CORSA",
         "1495",
         "88585",
         "2008",
         "4.0",
         "Petrol",
         "Hatchback",
         "1.2L",
         "Manual",
         "3.0",
         "5.0",
         "Euro 4",
         "Full"
        ],
        [
         "2",
         "HYUNDAI I30",
         "949",
         "137000",
         "2011",
         null,
         "Petrol",
         "Hatchback",
         "1.4L",
         "Manual",
         "5.0",
         "5.0",
         "Euro 5",
         null
        ],
        [
         "3",
         "MINI HATCH",
         "2395",
         "96731",
         "2010",
         "5.0",
         "Petrol",
         "Hatchback",
         "1.4L",
         "Manual",
         "3.0",
         "4.0",
         "Euro 4",
         "Full"
        ],
        [
         "4",
         "VAUXHALL CORSA",
         "1000",
         "85000",
         "2013",
         null,
         "Diesel",
         "Hatchback",
         "1.3L",
         "Manual",
         "5.0",
         "5.0",
         "Euro 5",
         null
        ]
       ],
       "shape": {
        "columns": 13,
        "rows": 5
       }
      },
      "text/html": [
       "<div>\n",
       "<style scoped>\n",
       "    .dataframe tbody tr th:only-of-type {\n",
       "        vertical-align: middle;\n",
       "    }\n",
       "\n",
       "    .dataframe tbody tr th {\n",
       "        vertical-align: top;\n",
       "    }\n",
       "\n",
       "    .dataframe thead th {\n",
       "        text-align: right;\n",
       "    }\n",
       "</style>\n",
       "<table border=\"1\" class=\"dataframe\">\n",
       "  <thead>\n",
       "    <tr style=\"text-align: right;\">\n",
       "      <th></th>\n",
       "      <th>title</th>\n",
       "      <th>Price</th>\n",
       "      <th>Mileage(miles)</th>\n",
       "      <th>Registration_Year</th>\n",
       "      <th>Previous Owners</th>\n",
       "      <th>Fuel type</th>\n",
       "      <th>Body type</th>\n",
       "      <th>Engine</th>\n",
       "      <th>Gearbox</th>\n",
       "      <th>Doors</th>\n",
       "      <th>Seats</th>\n",
       "      <th>Emission Class</th>\n",
       "      <th>Service history</th>\n",
       "    </tr>\n",
       "  </thead>\n",
       "  <tbody>\n",
       "    <tr>\n",
       "      <th>0</th>\n",
       "      <td>SKODA FABIA</td>\n",
       "      <td>6900</td>\n",
       "      <td>70189</td>\n",
       "      <td>2016</td>\n",
       "      <td>3.0</td>\n",
       "      <td>Diesel</td>\n",
       "      <td>Hatchback</td>\n",
       "      <td>1.4L</td>\n",
       "      <td>Manual</td>\n",
       "      <td>5.0</td>\n",
       "      <td>5.0</td>\n",
       "      <td>Euro 6</td>\n",
       "      <td>NaN</td>\n",
       "    </tr>\n",
       "    <tr>\n",
       "      <th>1</th>\n",
       "      <td>VAUXHALL CORSA</td>\n",
       "      <td>1495</td>\n",
       "      <td>88585</td>\n",
       "      <td>2008</td>\n",
       "      <td>4.0</td>\n",
       "      <td>Petrol</td>\n",
       "      <td>Hatchback</td>\n",
       "      <td>1.2L</td>\n",
       "      <td>Manual</td>\n",
       "      <td>3.0</td>\n",
       "      <td>5.0</td>\n",
       "      <td>Euro 4</td>\n",
       "      <td>Full</td>\n",
       "    </tr>\n",
       "    <tr>\n",
       "      <th>2</th>\n",
       "      <td>HYUNDAI I30</td>\n",
       "      <td>949</td>\n",
       "      <td>137000</td>\n",
       "      <td>2011</td>\n",
       "      <td>NaN</td>\n",
       "      <td>Petrol</td>\n",
       "      <td>Hatchback</td>\n",
       "      <td>1.4L</td>\n",
       "      <td>Manual</td>\n",
       "      <td>5.0</td>\n",
       "      <td>5.0</td>\n",
       "      <td>Euro 5</td>\n",
       "      <td>NaN</td>\n",
       "    </tr>\n",
       "    <tr>\n",
       "      <th>3</th>\n",
       "      <td>MINI HATCH</td>\n",
       "      <td>2395</td>\n",
       "      <td>96731</td>\n",
       "      <td>2010</td>\n",
       "      <td>5.0</td>\n",
       "      <td>Petrol</td>\n",
       "      <td>Hatchback</td>\n",
       "      <td>1.4L</td>\n",
       "      <td>Manual</td>\n",
       "      <td>3.0</td>\n",
       "      <td>4.0</td>\n",
       "      <td>Euro 4</td>\n",
       "      <td>Full</td>\n",
       "    </tr>\n",
       "    <tr>\n",
       "      <th>4</th>\n",
       "      <td>VAUXHALL CORSA</td>\n",
       "      <td>1000</td>\n",
       "      <td>85000</td>\n",
       "      <td>2013</td>\n",
       "      <td>NaN</td>\n",
       "      <td>Diesel</td>\n",
       "      <td>Hatchback</td>\n",
       "      <td>1.3L</td>\n",
       "      <td>Manual</td>\n",
       "      <td>5.0</td>\n",
       "      <td>5.0</td>\n",
       "      <td>Euro 5</td>\n",
       "      <td>NaN</td>\n",
       "    </tr>\n",
       "  </tbody>\n",
       "</table>\n",
       "</div>"
      ],
      "text/plain": [
       "            title  Price  Mileage(miles)  Registration_Year  Previous Owners  \\\n",
       "0     SKODA FABIA   6900           70189               2016              3.0   \n",
       "1  VAUXHALL CORSA   1495           88585               2008              4.0   \n",
       "2     HYUNDAI I30    949          137000               2011              NaN   \n",
       "3      MINI HATCH   2395           96731               2010              5.0   \n",
       "4  VAUXHALL CORSA   1000           85000               2013              NaN   \n",
       "\n",
       "  Fuel type  Body type Engine Gearbox  Doors  Seats Emission Class  \\\n",
       "0    Diesel  Hatchback   1.4L  Manual    5.0    5.0         Euro 6   \n",
       "1    Petrol  Hatchback   1.2L  Manual    3.0    5.0         Euro 4   \n",
       "2    Petrol  Hatchback   1.4L  Manual    5.0    5.0         Euro 5   \n",
       "3    Petrol  Hatchback   1.4L  Manual    3.0    4.0         Euro 4   \n",
       "4    Diesel  Hatchback   1.3L  Manual    5.0    5.0         Euro 5   \n",
       "\n",
       "  Service history  \n",
       "0             NaN  \n",
       "1            Full  \n",
       "2             NaN  \n",
       "3            Full  \n",
       "4             NaN  "
      ]
     },
     "execution_count": 361,
     "metadata": {},
     "output_type": "execute_result"
    }
   ],
   "source": [
    "df_car.head()"
   ]
  },
  {
   "cell_type": "code",
   "execution_count": 362,
   "id": "b780b7fd",
   "metadata": {},
   "outputs": [
    {
     "data": {
      "application/vnd.microsoft.datawrangler.viewer.v0+json": {
       "columns": [
        {
         "name": "index",
         "rawType": "int64",
         "type": "integer"
        },
        {
         "name": "title",
         "rawType": "object",
         "type": "string"
        },
        {
         "name": "country",
         "rawType": "object",
         "type": "string"
        }
       ],
       "ref": "845a9691-a0c5-4cf1-8801-71e06a1a0ca4",
       "rows": [
        [
         "0",
         "skoda",
         "Czech Republic"
        ],
        [
         "1",
         "vauxhall",
         "United Kingdom"
        ],
        [
         "2",
         "hyundai",
         "South Korea"
        ],
        [
         "3",
         "mini",
         "United Kingdom"
        ],
        [
         "4",
         "ford",
         "United States"
        ]
       ],
       "shape": {
        "columns": 2,
        "rows": 5
       }
      },
      "text/html": [
       "<div>\n",
       "<style scoped>\n",
       "    .dataframe tbody tr th:only-of-type {\n",
       "        vertical-align: middle;\n",
       "    }\n",
       "\n",
       "    .dataframe tbody tr th {\n",
       "        vertical-align: top;\n",
       "    }\n",
       "\n",
       "    .dataframe thead th {\n",
       "        text-align: right;\n",
       "    }\n",
       "</style>\n",
       "<table border=\"1\" class=\"dataframe\">\n",
       "  <thead>\n",
       "    <tr style=\"text-align: right;\">\n",
       "      <th></th>\n",
       "      <th>title</th>\n",
       "      <th>country</th>\n",
       "    </tr>\n",
       "  </thead>\n",
       "  <tbody>\n",
       "    <tr>\n",
       "      <th>0</th>\n",
       "      <td>skoda</td>\n",
       "      <td>Czech Republic</td>\n",
       "    </tr>\n",
       "    <tr>\n",
       "      <th>1</th>\n",
       "      <td>vauxhall</td>\n",
       "      <td>United Kingdom</td>\n",
       "    </tr>\n",
       "    <tr>\n",
       "      <th>2</th>\n",
       "      <td>hyundai</td>\n",
       "      <td>South Korea</td>\n",
       "    </tr>\n",
       "    <tr>\n",
       "      <th>3</th>\n",
       "      <td>mini</td>\n",
       "      <td>United Kingdom</td>\n",
       "    </tr>\n",
       "    <tr>\n",
       "      <th>4</th>\n",
       "      <td>ford</td>\n",
       "      <td>United States</td>\n",
       "    </tr>\n",
       "  </tbody>\n",
       "</table>\n",
       "</div>"
      ],
      "text/plain": [
       "      title         country\n",
       "0     skoda  Czech Republic\n",
       "1  vauxhall  United Kingdom\n",
       "2   hyundai     South Korea\n",
       "3      mini  United Kingdom\n",
       "4      ford   United States"
      ]
     },
     "execution_count": 362,
     "metadata": {},
     "output_type": "execute_result"
    }
   ],
   "source": [
    "df_brand.head()"
   ]
  },
  {
   "cell_type": "markdown",
   "id": "0650889e",
   "metadata": {},
   "source": [
    "### 자동차 데이터와 브랜드 데이터 합치기"
   ]
  },
  {
   "cell_type": "markdown",
   "id": "b8965550",
   "metadata": {},
   "source": [
    "- df_car와 df_brand를 합치기 위해, df_car에 brand 컬럼 추가\n",
    "    - title 컬럼의 단어를 추출하여 brand 컬럼에 추가"
   ]
  },
  {
   "cell_type": "code",
   "execution_count": 363,
   "id": "16ad0a44",
   "metadata": {},
   "outputs": [
    {
     "data": {
      "application/vnd.microsoft.datawrangler.viewer.v0+json": {
       "columns": [
        {
         "name": "index",
         "rawType": "int64",
         "type": "integer"
        },
        {
         "name": "title",
         "rawType": "object",
         "type": "string"
        },
        {
         "name": "Price",
         "rawType": "int64",
         "type": "integer"
        },
        {
         "name": "Mileage(miles)",
         "rawType": "int64",
         "type": "integer"
        },
        {
         "name": "Registration_Year",
         "rawType": "int64",
         "type": "integer"
        },
        {
         "name": "Previous Owners",
         "rawType": "float64",
         "type": "float"
        },
        {
         "name": "Fuel type",
         "rawType": "object",
         "type": "string"
        },
        {
         "name": "Body type",
         "rawType": "object",
         "type": "string"
        },
        {
         "name": "Engine",
         "rawType": "object",
         "type": "string"
        },
        {
         "name": "Gearbox",
         "rawType": "object",
         "type": "string"
        },
        {
         "name": "Doors",
         "rawType": "float64",
         "type": "float"
        },
        {
         "name": "Seats",
         "rawType": "float64",
         "type": "float"
        },
        {
         "name": "Emission Class",
         "rawType": "object",
         "type": "string"
        },
        {
         "name": "Service history",
         "rawType": "object",
         "type": "unknown"
        },
        {
         "name": "brand",
         "rawType": "object",
         "type": "string"
        }
       ],
       "ref": "df44e846-1508-4990-a95e-ff7437c8ba8a",
       "rows": [
        [
         "0",
         "SKODA FABIA",
         "6900",
         "70189",
         "2016",
         "3.0",
         "Diesel",
         "Hatchback",
         "1.4L",
         "Manual",
         "5.0",
         "5.0",
         "Euro 6",
         null,
         "SKODA"
        ],
        [
         "1",
         "VAUXHALL CORSA",
         "1495",
         "88585",
         "2008",
         "4.0",
         "Petrol",
         "Hatchback",
         "1.2L",
         "Manual",
         "3.0",
         "5.0",
         "Euro 4",
         "Full",
         "VAUXHALL"
        ],
        [
         "2",
         "HYUNDAI I30",
         "949",
         "137000",
         "2011",
         null,
         "Petrol",
         "Hatchback",
         "1.4L",
         "Manual",
         "5.0",
         "5.0",
         "Euro 5",
         null,
         "HYUNDAI"
        ],
        [
         "3",
         "MINI HATCH",
         "2395",
         "96731",
         "2010",
         "5.0",
         "Petrol",
         "Hatchback",
         "1.4L",
         "Manual",
         "3.0",
         "4.0",
         "Euro 4",
         "Full",
         "MINI"
        ],
        [
         "4",
         "VAUXHALL CORSA",
         "1000",
         "85000",
         "2013",
         null,
         "Diesel",
         "Hatchback",
         "1.3L",
         "Manual",
         "5.0",
         "5.0",
         "Euro 5",
         null,
         "VAUXHALL"
        ]
       ],
       "shape": {
        "columns": 14,
        "rows": 5
       }
      },
      "text/html": [
       "<div>\n",
       "<style scoped>\n",
       "    .dataframe tbody tr th:only-of-type {\n",
       "        vertical-align: middle;\n",
       "    }\n",
       "\n",
       "    .dataframe tbody tr th {\n",
       "        vertical-align: top;\n",
       "    }\n",
       "\n",
       "    .dataframe thead th {\n",
       "        text-align: right;\n",
       "    }\n",
       "</style>\n",
       "<table border=\"1\" class=\"dataframe\">\n",
       "  <thead>\n",
       "    <tr style=\"text-align: right;\">\n",
       "      <th></th>\n",
       "      <th>title</th>\n",
       "      <th>Price</th>\n",
       "      <th>Mileage(miles)</th>\n",
       "      <th>Registration_Year</th>\n",
       "      <th>Previous Owners</th>\n",
       "      <th>Fuel type</th>\n",
       "      <th>Body type</th>\n",
       "      <th>Engine</th>\n",
       "      <th>Gearbox</th>\n",
       "      <th>Doors</th>\n",
       "      <th>Seats</th>\n",
       "      <th>Emission Class</th>\n",
       "      <th>Service history</th>\n",
       "      <th>brand</th>\n",
       "    </tr>\n",
       "  </thead>\n",
       "  <tbody>\n",
       "    <tr>\n",
       "      <th>0</th>\n",
       "      <td>SKODA FABIA</td>\n",
       "      <td>6900</td>\n",
       "      <td>70189</td>\n",
       "      <td>2016</td>\n",
       "      <td>3.0</td>\n",
       "      <td>Diesel</td>\n",
       "      <td>Hatchback</td>\n",
       "      <td>1.4L</td>\n",
       "      <td>Manual</td>\n",
       "      <td>5.0</td>\n",
       "      <td>5.0</td>\n",
       "      <td>Euro 6</td>\n",
       "      <td>NaN</td>\n",
       "      <td>SKODA</td>\n",
       "    </tr>\n",
       "    <tr>\n",
       "      <th>1</th>\n",
       "      <td>VAUXHALL CORSA</td>\n",
       "      <td>1495</td>\n",
       "      <td>88585</td>\n",
       "      <td>2008</td>\n",
       "      <td>4.0</td>\n",
       "      <td>Petrol</td>\n",
       "      <td>Hatchback</td>\n",
       "      <td>1.2L</td>\n",
       "      <td>Manual</td>\n",
       "      <td>3.0</td>\n",
       "      <td>5.0</td>\n",
       "      <td>Euro 4</td>\n",
       "      <td>Full</td>\n",
       "      <td>VAUXHALL</td>\n",
       "    </tr>\n",
       "    <tr>\n",
       "      <th>2</th>\n",
       "      <td>HYUNDAI I30</td>\n",
       "      <td>949</td>\n",
       "      <td>137000</td>\n",
       "      <td>2011</td>\n",
       "      <td>NaN</td>\n",
       "      <td>Petrol</td>\n",
       "      <td>Hatchback</td>\n",
       "      <td>1.4L</td>\n",
       "      <td>Manual</td>\n",
       "      <td>5.0</td>\n",
       "      <td>5.0</td>\n",
       "      <td>Euro 5</td>\n",
       "      <td>NaN</td>\n",
       "      <td>HYUNDAI</td>\n",
       "    </tr>\n",
       "    <tr>\n",
       "      <th>3</th>\n",
       "      <td>MINI HATCH</td>\n",
       "      <td>2395</td>\n",
       "      <td>96731</td>\n",
       "      <td>2010</td>\n",
       "      <td>5.0</td>\n",
       "      <td>Petrol</td>\n",
       "      <td>Hatchback</td>\n",
       "      <td>1.4L</td>\n",
       "      <td>Manual</td>\n",
       "      <td>3.0</td>\n",
       "      <td>4.0</td>\n",
       "      <td>Euro 4</td>\n",
       "      <td>Full</td>\n",
       "      <td>MINI</td>\n",
       "    </tr>\n",
       "    <tr>\n",
       "      <th>4</th>\n",
       "      <td>VAUXHALL CORSA</td>\n",
       "      <td>1000</td>\n",
       "      <td>85000</td>\n",
       "      <td>2013</td>\n",
       "      <td>NaN</td>\n",
       "      <td>Diesel</td>\n",
       "      <td>Hatchback</td>\n",
       "      <td>1.3L</td>\n",
       "      <td>Manual</td>\n",
       "      <td>5.0</td>\n",
       "      <td>5.0</td>\n",
       "      <td>Euro 5</td>\n",
       "      <td>NaN</td>\n",
       "      <td>VAUXHALL</td>\n",
       "    </tr>\n",
       "  </tbody>\n",
       "</table>\n",
       "</div>"
      ],
      "text/plain": [
       "            title  Price  Mileage(miles)  Registration_Year  Previous Owners  \\\n",
       "0     SKODA FABIA   6900           70189               2016              3.0   \n",
       "1  VAUXHALL CORSA   1495           88585               2008              4.0   \n",
       "2     HYUNDAI I30    949          137000               2011              NaN   \n",
       "3      MINI HATCH   2395           96731               2010              5.0   \n",
       "4  VAUXHALL CORSA   1000           85000               2013              NaN   \n",
       "\n",
       "  Fuel type  Body type Engine Gearbox  Doors  Seats Emission Class  \\\n",
       "0    Diesel  Hatchback   1.4L  Manual    5.0    5.0         Euro 6   \n",
       "1    Petrol  Hatchback   1.2L  Manual    3.0    5.0         Euro 4   \n",
       "2    Petrol  Hatchback   1.4L  Manual    5.0    5.0         Euro 5   \n",
       "3    Petrol  Hatchback   1.4L  Manual    3.0    4.0         Euro 4   \n",
       "4    Diesel  Hatchback   1.3L  Manual    5.0    5.0         Euro 5   \n",
       "\n",
       "  Service history     brand  \n",
       "0             NaN     SKODA  \n",
       "1            Full  VAUXHALL  \n",
       "2             NaN   HYUNDAI  \n",
       "3            Full      MINI  \n",
       "4             NaN  VAUXHALL  "
      ]
     },
     "execution_count": 363,
     "metadata": {},
     "output_type": "execute_result"
    }
   ],
   "source": [
    "df_car['brand'] = df_car['title'].str.split().str[0]\n",
    "df_car.head()"
   ]
  },
  {
   "cell_type": "markdown",
   "id": "da34e647",
   "metadata": {},
   "source": [
    "- df_brand의 title 컬럼에 저장된 값을 대문자로 변환"
   ]
  },
  {
   "cell_type": "code",
   "execution_count": 364,
   "id": "d6af2b5e",
   "metadata": {},
   "outputs": [
    {
     "data": {
      "application/vnd.microsoft.datawrangler.viewer.v0+json": {
       "columns": [
        {
         "name": "index",
         "rawType": "int64",
         "type": "integer"
        },
        {
         "name": "title",
         "rawType": "object",
         "type": "string"
        },
        {
         "name": "country",
         "rawType": "object",
         "type": "string"
        }
       ],
       "ref": "36801fd3-8f23-44a6-8f2a-26d2f805123a",
       "rows": [
        [
         "0",
         "SKODA",
         "Czech Republic"
        ],
        [
         "1",
         "VAUXHALL",
         "United Kingdom"
        ],
        [
         "2",
         "HYUNDAI",
         "South Korea"
        ],
        [
         "3",
         "MINI",
         "United Kingdom"
        ],
        [
         "4",
         "FORD",
         "United States"
        ]
       ],
       "shape": {
        "columns": 2,
        "rows": 5
       }
      },
      "text/html": [
       "<div>\n",
       "<style scoped>\n",
       "    .dataframe tbody tr th:only-of-type {\n",
       "        vertical-align: middle;\n",
       "    }\n",
       "\n",
       "    .dataframe tbody tr th {\n",
       "        vertical-align: top;\n",
       "    }\n",
       "\n",
       "    .dataframe thead th {\n",
       "        text-align: right;\n",
       "    }\n",
       "</style>\n",
       "<table border=\"1\" class=\"dataframe\">\n",
       "  <thead>\n",
       "    <tr style=\"text-align: right;\">\n",
       "      <th></th>\n",
       "      <th>title</th>\n",
       "      <th>country</th>\n",
       "    </tr>\n",
       "  </thead>\n",
       "  <tbody>\n",
       "    <tr>\n",
       "      <th>0</th>\n",
       "      <td>SKODA</td>\n",
       "      <td>Czech Republic</td>\n",
       "    </tr>\n",
       "    <tr>\n",
       "      <th>1</th>\n",
       "      <td>VAUXHALL</td>\n",
       "      <td>United Kingdom</td>\n",
       "    </tr>\n",
       "    <tr>\n",
       "      <th>2</th>\n",
       "      <td>HYUNDAI</td>\n",
       "      <td>South Korea</td>\n",
       "    </tr>\n",
       "    <tr>\n",
       "      <th>3</th>\n",
       "      <td>MINI</td>\n",
       "      <td>United Kingdom</td>\n",
       "    </tr>\n",
       "    <tr>\n",
       "      <th>4</th>\n",
       "      <td>FORD</td>\n",
       "      <td>United States</td>\n",
       "    </tr>\n",
       "  </tbody>\n",
       "</table>\n",
       "</div>"
      ],
      "text/plain": [
       "      title         country\n",
       "0     SKODA  Czech Republic\n",
       "1  VAUXHALL  United Kingdom\n",
       "2   HYUNDAI     South Korea\n",
       "3      MINI  United Kingdom\n",
       "4      FORD   United States"
      ]
     },
     "execution_count": 364,
     "metadata": {},
     "output_type": "execute_result"
    }
   ],
   "source": [
    "df_brand['title'] = df_brand['title'].str.upper()\n",
    "df_brand.head()"
   ]
  },
  {
   "cell_type": "markdown",
   "id": "625a7d8f",
   "metadata": {},
   "source": [
    "- df_car의 brand 컬럼과 df_brand의 title 컬럼을 기준으로 데이터 합치기"
   ]
  },
  {
   "cell_type": "code",
   "execution_count": 365,
   "id": "ed923211",
   "metadata": {},
   "outputs": [
    {
     "data": {
      "application/vnd.microsoft.datawrangler.viewer.v0+json": {
       "columns": [
        {
         "name": "index",
         "rawType": "int64",
         "type": "integer"
        },
        {
         "name": "title_x",
         "rawType": "object",
         "type": "string"
        },
        {
         "name": "Price",
         "rawType": "int64",
         "type": "integer"
        },
        {
         "name": "Mileage(miles)",
         "rawType": "int64",
         "type": "integer"
        },
        {
         "name": "Registration_Year",
         "rawType": "int64",
         "type": "integer"
        },
        {
         "name": "Previous Owners",
         "rawType": "float64",
         "type": "float"
        },
        {
         "name": "Fuel type",
         "rawType": "object",
         "type": "string"
        },
        {
         "name": "Body type",
         "rawType": "object",
         "type": "string"
        },
        {
         "name": "Engine",
         "rawType": "object",
         "type": "string"
        },
        {
         "name": "Gearbox",
         "rawType": "object",
         "type": "string"
        },
        {
         "name": "Doors",
         "rawType": "float64",
         "type": "float"
        },
        {
         "name": "Seats",
         "rawType": "float64",
         "type": "float"
        },
        {
         "name": "Emission Class",
         "rawType": "object",
         "type": "string"
        },
        {
         "name": "Service history",
         "rawType": "object",
         "type": "unknown"
        },
        {
         "name": "brand",
         "rawType": "object",
         "type": "string"
        },
        {
         "name": "title_y",
         "rawType": "object",
         "type": "string"
        },
        {
         "name": "country",
         "rawType": "object",
         "type": "string"
        }
       ],
       "ref": "4308df5f-5b3f-4fcd-8de9-656ecee0cbe6",
       "rows": [
        [
         "0",
         "SKODA FABIA",
         "6900",
         "70189",
         "2016",
         "3.0",
         "Diesel",
         "Hatchback",
         "1.4L",
         "Manual",
         "5.0",
         "5.0",
         "Euro 6",
         null,
         "SKODA",
         "SKODA",
         "Czech Republic"
        ],
        [
         "1",
         "VAUXHALL CORSA",
         "1495",
         "88585",
         "2008",
         "4.0",
         "Petrol",
         "Hatchback",
         "1.2L",
         "Manual",
         "3.0",
         "5.0",
         "Euro 4",
         "Full",
         "VAUXHALL",
         "VAUXHALL",
         "United Kingdom"
        ],
        [
         "2",
         "HYUNDAI I30",
         "949",
         "137000",
         "2011",
         null,
         "Petrol",
         "Hatchback",
         "1.4L",
         "Manual",
         "5.0",
         "5.0",
         "Euro 5",
         null,
         "HYUNDAI",
         "HYUNDAI",
         "South Korea"
        ],
        [
         "3",
         "MINI HATCH",
         "2395",
         "96731",
         "2010",
         "5.0",
         "Petrol",
         "Hatchback",
         "1.4L",
         "Manual",
         "3.0",
         "4.0",
         "Euro 4",
         "Full",
         "MINI",
         "MINI",
         "United Kingdom"
        ],
        [
         "4",
         "VAUXHALL CORSA",
         "1000",
         "85000",
         "2013",
         null,
         "Diesel",
         "Hatchback",
         "1.3L",
         "Manual",
         "5.0",
         "5.0",
         "Euro 5",
         null,
         "VAUXHALL",
         "VAUXHALL",
         "United Kingdom"
        ]
       ],
       "shape": {
        "columns": 16,
        "rows": 5
       }
      },
      "text/html": [
       "<div>\n",
       "<style scoped>\n",
       "    .dataframe tbody tr th:only-of-type {\n",
       "        vertical-align: middle;\n",
       "    }\n",
       "\n",
       "    .dataframe tbody tr th {\n",
       "        vertical-align: top;\n",
       "    }\n",
       "\n",
       "    .dataframe thead th {\n",
       "        text-align: right;\n",
       "    }\n",
       "</style>\n",
       "<table border=\"1\" class=\"dataframe\">\n",
       "  <thead>\n",
       "    <tr style=\"text-align: right;\">\n",
       "      <th></th>\n",
       "      <th>title_x</th>\n",
       "      <th>Price</th>\n",
       "      <th>Mileage(miles)</th>\n",
       "      <th>Registration_Year</th>\n",
       "      <th>Previous Owners</th>\n",
       "      <th>Fuel type</th>\n",
       "      <th>Body type</th>\n",
       "      <th>Engine</th>\n",
       "      <th>Gearbox</th>\n",
       "      <th>Doors</th>\n",
       "      <th>Seats</th>\n",
       "      <th>Emission Class</th>\n",
       "      <th>Service history</th>\n",
       "      <th>brand</th>\n",
       "      <th>title_y</th>\n",
       "      <th>country</th>\n",
       "    </tr>\n",
       "  </thead>\n",
       "  <tbody>\n",
       "    <tr>\n",
       "      <th>0</th>\n",
       "      <td>SKODA FABIA</td>\n",
       "      <td>6900</td>\n",
       "      <td>70189</td>\n",
       "      <td>2016</td>\n",
       "      <td>3.0</td>\n",
       "      <td>Diesel</td>\n",
       "      <td>Hatchback</td>\n",
       "      <td>1.4L</td>\n",
       "      <td>Manual</td>\n",
       "      <td>5.0</td>\n",
       "      <td>5.0</td>\n",
       "      <td>Euro 6</td>\n",
       "      <td>NaN</td>\n",
       "      <td>SKODA</td>\n",
       "      <td>SKODA</td>\n",
       "      <td>Czech Republic</td>\n",
       "    </tr>\n",
       "    <tr>\n",
       "      <th>1</th>\n",
       "      <td>VAUXHALL CORSA</td>\n",
       "      <td>1495</td>\n",
       "      <td>88585</td>\n",
       "      <td>2008</td>\n",
       "      <td>4.0</td>\n",
       "      <td>Petrol</td>\n",
       "      <td>Hatchback</td>\n",
       "      <td>1.2L</td>\n",
       "      <td>Manual</td>\n",
       "      <td>3.0</td>\n",
       "      <td>5.0</td>\n",
       "      <td>Euro 4</td>\n",
       "      <td>Full</td>\n",
       "      <td>VAUXHALL</td>\n",
       "      <td>VAUXHALL</td>\n",
       "      <td>United Kingdom</td>\n",
       "    </tr>\n",
       "    <tr>\n",
       "      <th>2</th>\n",
       "      <td>HYUNDAI I30</td>\n",
       "      <td>949</td>\n",
       "      <td>137000</td>\n",
       "      <td>2011</td>\n",
       "      <td>NaN</td>\n",
       "      <td>Petrol</td>\n",
       "      <td>Hatchback</td>\n",
       "      <td>1.4L</td>\n",
       "      <td>Manual</td>\n",
       "      <td>5.0</td>\n",
       "      <td>5.0</td>\n",
       "      <td>Euro 5</td>\n",
       "      <td>NaN</td>\n",
       "      <td>HYUNDAI</td>\n",
       "      <td>HYUNDAI</td>\n",
       "      <td>South Korea</td>\n",
       "    </tr>\n",
       "    <tr>\n",
       "      <th>3</th>\n",
       "      <td>MINI HATCH</td>\n",
       "      <td>2395</td>\n",
       "      <td>96731</td>\n",
       "      <td>2010</td>\n",
       "      <td>5.0</td>\n",
       "      <td>Petrol</td>\n",
       "      <td>Hatchback</td>\n",
       "      <td>1.4L</td>\n",
       "      <td>Manual</td>\n",
       "      <td>3.0</td>\n",
       "      <td>4.0</td>\n",
       "      <td>Euro 4</td>\n",
       "      <td>Full</td>\n",
       "      <td>MINI</td>\n",
       "      <td>MINI</td>\n",
       "      <td>United Kingdom</td>\n",
       "    </tr>\n",
       "    <tr>\n",
       "      <th>4</th>\n",
       "      <td>VAUXHALL CORSA</td>\n",
       "      <td>1000</td>\n",
       "      <td>85000</td>\n",
       "      <td>2013</td>\n",
       "      <td>NaN</td>\n",
       "      <td>Diesel</td>\n",
       "      <td>Hatchback</td>\n",
       "      <td>1.3L</td>\n",
       "      <td>Manual</td>\n",
       "      <td>5.0</td>\n",
       "      <td>5.0</td>\n",
       "      <td>Euro 5</td>\n",
       "      <td>NaN</td>\n",
       "      <td>VAUXHALL</td>\n",
       "      <td>VAUXHALL</td>\n",
       "      <td>United Kingdom</td>\n",
       "    </tr>\n",
       "  </tbody>\n",
       "</table>\n",
       "</div>"
      ],
      "text/plain": [
       "          title_x  Price  Mileage(miles)  Registration_Year  Previous Owners  \\\n",
       "0     SKODA FABIA   6900           70189               2016              3.0   \n",
       "1  VAUXHALL CORSA   1495           88585               2008              4.0   \n",
       "2     HYUNDAI I30    949          137000               2011              NaN   \n",
       "3      MINI HATCH   2395           96731               2010              5.0   \n",
       "4  VAUXHALL CORSA   1000           85000               2013              NaN   \n",
       "\n",
       "  Fuel type  Body type Engine Gearbox  Doors  Seats Emission Class  \\\n",
       "0    Diesel  Hatchback   1.4L  Manual    5.0    5.0         Euro 6   \n",
       "1    Petrol  Hatchback   1.2L  Manual    3.0    5.0         Euro 4   \n",
       "2    Petrol  Hatchback   1.4L  Manual    5.0    5.0         Euro 5   \n",
       "3    Petrol  Hatchback   1.4L  Manual    3.0    4.0         Euro 4   \n",
       "4    Diesel  Hatchback   1.3L  Manual    5.0    5.0         Euro 5   \n",
       "\n",
       "  Service history     brand   title_y         country  \n",
       "0             NaN     SKODA     SKODA  Czech Republic  \n",
       "1            Full  VAUXHALL  VAUXHALL  United Kingdom  \n",
       "2             NaN   HYUNDAI   HYUNDAI     South Korea  \n",
       "3            Full      MINI      MINI  United Kingdom  \n",
       "4             NaN  VAUXHALL  VAUXHALL  United Kingdom  "
      ]
     },
     "execution_count": 365,
     "metadata": {},
     "output_type": "execute_result"
    }
   ],
   "source": [
    "df_merge = pd.merge(df_car, df_brand, how='left', left_on='brand', right_on='title')\n",
    "df_merge.head()"
   ]
  },
  {
   "cell_type": "markdown",
   "id": "96b56ad9",
   "metadata": {},
   "source": [
    "- df_merge에서 중복되는 컬럼 title_y를 제거"
   ]
  },
  {
   "cell_type": "code",
   "execution_count": 366,
   "id": "8b300a12",
   "metadata": {},
   "outputs": [],
   "source": [
    "df_merge = df_merge.drop('title_y', axis=1)"
   ]
  },
  {
   "cell_type": "markdown",
   "id": "0784d775",
   "metadata": {},
   "source": [
    "- df_merge에서 title_x 컬럼의 이름을 title로 변경"
   ]
  },
  {
   "cell_type": "code",
   "execution_count": 367,
   "id": "71b4049d",
   "metadata": {},
   "outputs": [],
   "source": [
    "df_merge = df_merge.rename({'title_x':'title'}, axis=1)"
   ]
  },
  {
   "cell_type": "markdown",
   "id": "dc74226f",
   "metadata": {},
   "source": [
    "- df_merge의 복사본 생성"
   ]
  },
  {
   "cell_type": "code",
   "execution_count": 368,
   "id": "5da957f0",
   "metadata": {},
   "outputs": [],
   "source": [
    "df_bonus = df_merge.copy()"
   ]
  },
  {
   "cell_type": "markdown",
   "id": "488df40b",
   "metadata": {},
   "source": [
    "### 카테고리형 변수를 숫자 형태로 변환하기"
   ]
  },
  {
   "cell_type": "markdown",
   "id": "3cadaf35",
   "metadata": {},
   "source": [
    "- df_merge의 컬럼들의 자료형 확인"
   ]
  },
  {
   "cell_type": "code",
   "execution_count": 369,
   "id": "b639bf4e",
   "metadata": {},
   "outputs": [
    {
     "name": "stdout",
     "output_type": "stream",
     "text": [
      "<class 'pandas.core.frame.DataFrame'>\n",
      "RangeIndex: 3687 entries, 0 to 3686\n",
      "Data columns (total 15 columns):\n",
      " #   Column             Non-Null Count  Dtype  \n",
      "---  ------             --------------  -----  \n",
      " 0   title              3687 non-null   object \n",
      " 1   Price              3687 non-null   int64  \n",
      " 2   Mileage(miles)     3687 non-null   int64  \n",
      " 3   Registration_Year  3687 non-null   int64  \n",
      " 4   Previous Owners    2276 non-null   float64\n",
      " 5   Fuel type          3687 non-null   object \n",
      " 6   Body type          3687 non-null   object \n",
      " 7   Engine             3642 non-null   object \n",
      " 8   Gearbox            3687 non-null   object \n",
      " 9   Doors              3662 non-null   float64\n",
      " 10  Seats              3652 non-null   float64\n",
      " 11  Emission Class     3600 non-null   object \n",
      " 12  Service history    540 non-null    object \n",
      " 13  brand              3687 non-null   object \n",
      " 14  country            3687 non-null   object \n",
      "dtypes: float64(3), int64(3), object(9)\n",
      "memory usage: 432.2+ KB\n"
     ]
    }
   ],
   "source": [
    "df_merge.info()"
   ]
  },
  {
   "cell_type": "markdown",
   "id": "e26c4a33",
   "metadata": {},
   "source": [
    "- Engine 컬럼의 데이터에서 L 문자를 제거하여 숫자 부분만 저장"
   ]
  },
  {
   "cell_type": "code",
   "execution_count": 370,
   "id": "85741468",
   "metadata": {},
   "outputs": [
    {
     "data": {
      "text/plain": [
       "array(['1.4L', '1.2L', '1.3L', '2.0L', '1.6L', '2.3L', '1.8L', '1.0L',\n",
       "       '3.0L', '1.5L', '1.9L', '2.4L', '2.2L', '3.5L', '3.2L', '2.5L',\n",
       "       '1.1L', '3.1L', '3.7L', '2.6L', '2.1L', '2.8L', '5.0L', '0.8L',\n",
       "       '2.7L', '1.7L', '0.9L', '4.2L', nan, '4.4L', '4.3L', '3.3L',\n",
       "       '5.5L', '4.8L', '6.3L'], dtype=object)"
      ]
     },
     "execution_count": 370,
     "metadata": {},
     "output_type": "execute_result"
    }
   ],
   "source": [
    "df_merge['Engine'].unique()"
   ]
  },
  {
   "cell_type": "code",
   "execution_count": 371,
   "id": "fc39453d",
   "metadata": {},
   "outputs": [],
   "source": [
    "# df_merge['Engine'] = df_merge['Engine'].str.removesuffix('L')\n",
    "df_merge['Engine'] = df_merge['Engine'].str[:3]"
   ]
  },
  {
   "cell_type": "code",
   "execution_count": 372,
   "id": "69873369",
   "metadata": {},
   "outputs": [
    {
     "data": {
      "text/plain": [
       "array(['1.4', '1.2', '1.3', '2.0', '1.6', '2.3', '1.8', '1.0', '3.0',\n",
       "       '1.5', '1.9', '2.4', '2.2', '3.5', '3.2', '2.5', '1.1', '3.1',\n",
       "       '3.7', '2.6', '2.1', '2.8', '5.0', '0.8', '2.7', '1.7', '0.9',\n",
       "       '4.2', nan, '4.4', '4.3', '3.3', '5.5', '4.8', '6.3'], dtype=object)"
      ]
     },
     "execution_count": 372,
     "metadata": {},
     "output_type": "execute_result"
    }
   ],
   "source": [
    "df_merge['Engine'].unique()"
   ]
  },
  {
   "cell_type": "markdown",
   "id": "990de191",
   "metadata": {},
   "source": [
    "- Emission Class 컬럼에서 숫자 부분만 추출하여 저장"
   ]
  },
  {
   "cell_type": "code",
   "execution_count": 373,
   "id": "6a218ffe",
   "metadata": {},
   "outputs": [],
   "source": [
    "df_merge['Emission Class'] = df_merge['Emission Class'].str[-1]"
   ]
  },
  {
   "cell_type": "code",
   "execution_count": 374,
   "id": "2af6fc4f",
   "metadata": {},
   "outputs": [
    {
     "data": {
      "text/plain": [
       "array(['6', '4', '5', nan, '3', '2', '1'], dtype=object)"
      ]
     },
     "execution_count": 374,
     "metadata": {},
     "output_type": "execute_result"
    }
   ],
   "source": [
    "df_merge['Emission Class'].unique()"
   ]
  },
  {
   "cell_type": "markdown",
   "id": "63d3aca2",
   "metadata": {},
   "source": [
    "- to_numeric 메소드를 사용하여 Engine, Emission Class 컬럼의 자료형을 숫자 형태로 변환"
   ]
  },
  {
   "cell_type": "code",
   "execution_count": 375,
   "id": "7b58f4c2",
   "metadata": {},
   "outputs": [],
   "source": [
    "df_merge['Engine'] = pd.to_numeric(df_merge['Engine'])\n",
    "df_merge['Emission Class'] = pd.to_numeric(df_merge['Emission Class'])\n",
    "df_merge['Emission Class'] = df_merge['Emission Class'].astype('Int64')"
   ]
  },
  {
   "cell_type": "code",
   "execution_count": 376,
   "id": "ef6a3a38",
   "metadata": {},
   "outputs": [
    {
     "data": {
      "application/vnd.microsoft.datawrangler.viewer.v0+json": {
       "columns": [
        {
         "name": "index",
         "rawType": "int64",
         "type": "integer"
        },
        {
         "name": "Emission Class",
         "rawType": "Int64",
         "type": "integer"
        }
       ],
       "ref": "a06f4f08-bb95-4b8a-a1e3-6532a67b013e",
       "rows": [
        [
         "0",
         "6"
        ],
        [
         "1",
         "4"
        ],
        [
         "2",
         "5"
        ],
        [
         "3",
         "4"
        ],
        [
         "4",
         "5"
        ],
        [
         "5",
         "4"
        ],
        [
         "6",
         "4"
        ],
        [
         "7",
         "4"
        ],
        [
         "8",
         null
        ],
        [
         "9",
         "4"
        ],
        [
         "10",
         "4"
        ],
        [
         "11",
         "5"
        ],
        [
         "12",
         "6"
        ],
        [
         "13",
         "6"
        ],
        [
         "14",
         "4"
        ],
        [
         "15",
         "4"
        ],
        [
         "16",
         "4"
        ],
        [
         "17",
         "4"
        ],
        [
         "18",
         "4"
        ],
        [
         "19",
         "5"
        ],
        [
         "20",
         "5"
        ],
        [
         "21",
         "4"
        ],
        [
         "22",
         "6"
        ],
        [
         "23",
         "4"
        ],
        [
         "24",
         "3"
        ],
        [
         "25",
         "5"
        ],
        [
         "26",
         "6"
        ],
        [
         "27",
         "6"
        ],
        [
         "28",
         "5"
        ],
        [
         "29",
         "4"
        ],
        [
         "30",
         "4"
        ],
        [
         "31",
         "4"
        ],
        [
         "32",
         "4"
        ],
        [
         "33",
         "5"
        ],
        [
         "34",
         "5"
        ],
        [
         "35",
         "4"
        ],
        [
         "36",
         "5"
        ],
        [
         "37",
         "5"
        ],
        [
         "38",
         "5"
        ],
        [
         "39",
         "6"
        ],
        [
         "40",
         "6"
        ],
        [
         "41",
         "4"
        ],
        [
         "42",
         "4"
        ],
        [
         "43",
         "4"
        ],
        [
         "44",
         "4"
        ],
        [
         "45",
         "4"
        ],
        [
         "46",
         "3"
        ],
        [
         "47",
         "3"
        ],
        [
         "48",
         "4"
        ],
        [
         "49",
         "5"
        ]
       ],
       "shape": {
        "columns": 1,
        "rows": 3687
       }
      },
      "text/plain": [
       "0       6\n",
       "1       4\n",
       "2       5\n",
       "3       4\n",
       "4       5\n",
       "       ..\n",
       "3682    4\n",
       "3683    5\n",
       "3684    5\n",
       "3685    4\n",
       "3686    5\n",
       "Name: Emission Class, Length: 3687, dtype: Int64"
      ]
     },
     "execution_count": 376,
     "metadata": {},
     "output_type": "execute_result"
    }
   ],
   "source": [
    "df_merge['Emission Class']"
   ]
  },
  {
   "cell_type": "markdown",
   "id": "5e41ba13",
   "metadata": {},
   "source": [
    "- df_merge의 컬럼별로 결측치 비율 확인"
   ]
  },
  {
   "cell_type": "code",
   "execution_count": 377,
   "id": "f4c2e88c",
   "metadata": {},
   "outputs": [
    {
     "data": {
      "application/vnd.microsoft.datawrangler.viewer.v0+json": {
       "columns": [
        {
         "name": "index",
         "rawType": "object",
         "type": "string"
        },
        {
         "name": "0",
         "rawType": "int64",
         "type": "integer"
        }
       ],
       "ref": "1cce42e0-4776-4df6-b7e7-582239ece595",
       "rows": [
        [
         "title",
         "0"
        ],
        [
         "Price",
         "0"
        ],
        [
         "Mileage(miles)",
         "0"
        ],
        [
         "Registration_Year",
         "0"
        ],
        [
         "Previous Owners",
         "1411"
        ],
        [
         "Fuel type",
         "0"
        ],
        [
         "Body type",
         "0"
        ],
        [
         "Engine",
         "45"
        ],
        [
         "Gearbox",
         "0"
        ],
        [
         "Doors",
         "25"
        ],
        [
         "Seats",
         "35"
        ],
        [
         "Emission Class",
         "87"
        ],
        [
         "Service history",
         "3147"
        ],
        [
         "brand",
         "0"
        ],
        [
         "country",
         "0"
        ]
       ],
       "shape": {
        "columns": 1,
        "rows": 15
       }
      },
      "text/plain": [
       "title                   0\n",
       "Price                   0\n",
       "Mileage(miles)          0\n",
       "Registration_Year       0\n",
       "Previous Owners      1411\n",
       "Fuel type               0\n",
       "Body type               0\n",
       "Engine                 45\n",
       "Gearbox                 0\n",
       "Doors                  25\n",
       "Seats                  35\n",
       "Emission Class         87\n",
       "Service history      3147\n",
       "brand                   0\n",
       "country                 0\n",
       "dtype: int64"
      ]
     },
     "execution_count": 377,
     "metadata": {},
     "output_type": "execute_result"
    }
   ],
   "source": [
    "df_merge.isna().sum()"
   ]
  },
  {
   "cell_type": "code",
   "execution_count": 378,
   "id": "47885f02",
   "metadata": {},
   "outputs": [
    {
     "data": {
      "application/vnd.microsoft.datawrangler.viewer.v0+json": {
       "columns": [
        {
         "name": "index",
         "rawType": "object",
         "type": "string"
        },
        {
         "name": "0",
         "rawType": "int64",
         "type": "integer"
        }
       ],
       "ref": "ef79c53e-72c9-42bf-9d1c-a5efaaa718a3",
       "rows": [
        [
         "title",
         "3687"
        ],
        [
         "Price",
         "3687"
        ],
        [
         "Mileage(miles)",
         "3687"
        ],
        [
         "Registration_Year",
         "3687"
        ],
        [
         "Previous Owners",
         "2276"
        ],
        [
         "Fuel type",
         "3687"
        ],
        [
         "Body type",
         "3687"
        ],
        [
         "Engine",
         "3642"
        ],
        [
         "Gearbox",
         "3687"
        ],
        [
         "Doors",
         "3662"
        ],
        [
         "Seats",
         "3652"
        ],
        [
         "Emission Class",
         "3600"
        ],
        [
         "Service history",
         "540"
        ],
        [
         "brand",
         "3687"
        ],
        [
         "country",
         "3687"
        ]
       ],
       "shape": {
        "columns": 1,
        "rows": 15
       }
      },
      "text/plain": [
       "title                3687\n",
       "Price                3687\n",
       "Mileage(miles)       3687\n",
       "Registration_Year    3687\n",
       "Previous Owners      2276\n",
       "Fuel type            3687\n",
       "Body type            3687\n",
       "Engine               3642\n",
       "Gearbox              3687\n",
       "Doors                3662\n",
       "Seats                3652\n",
       "Emission Class       3600\n",
       "Service history       540\n",
       "brand                3687\n",
       "country              3687\n",
       "dtype: int64"
      ]
     },
     "execution_count": 378,
     "metadata": {},
     "output_type": "execute_result"
    }
   ],
   "source": [
    "df_merge.count()"
   ]
  },
  {
   "cell_type": "code",
   "execution_count": 379,
   "id": "b842a6b4",
   "metadata": {},
   "outputs": [
    {
     "data": {
      "application/vnd.microsoft.datawrangler.viewer.v0+json": {
       "columns": [
        {
         "name": "index",
         "rawType": "object",
         "type": "string"
        },
        {
         "name": "0",
         "rawType": "int64",
         "type": "integer"
        }
       ],
       "ref": "294fb51f-981b-40ac-89a5-560a9a35a392",
       "rows": [
        [
         "title",
         "3687"
        ],
        [
         "Price",
         "3687"
        ],
        [
         "Mileage(miles)",
         "3687"
        ],
        [
         "Registration_Year",
         "3687"
        ],
        [
         "Previous Owners",
         "3687"
        ],
        [
         "Fuel type",
         "3687"
        ],
        [
         "Body type",
         "3687"
        ],
        [
         "Engine",
         "3687"
        ],
        [
         "Gearbox",
         "3687"
        ],
        [
         "Doors",
         "3687"
        ],
        [
         "Seats",
         "3687"
        ],
        [
         "Emission Class",
         "3687"
        ],
        [
         "Service history",
         "3687"
        ],
        [
         "brand",
         "3687"
        ],
        [
         "country",
         "3687"
        ]
       ],
       "shape": {
        "columns": 1,
        "rows": 15
       }
      },
      "text/plain": [
       "title                3687\n",
       "Price                3687\n",
       "Mileage(miles)       3687\n",
       "Registration_Year    3687\n",
       "Previous Owners      3687\n",
       "Fuel type            3687\n",
       "Body type            3687\n",
       "Engine               3687\n",
       "Gearbox              3687\n",
       "Doors                3687\n",
       "Seats                3687\n",
       "Emission Class       3687\n",
       "Service history      3687\n",
       "brand                3687\n",
       "country              3687\n",
       "dtype: int64"
      ]
     },
     "execution_count": 379,
     "metadata": {},
     "output_type": "execute_result"
    }
   ],
   "source": [
    "(df_merge.count() + df_merge.isna().sum())"
   ]
  },
  {
   "cell_type": "code",
   "execution_count": 380,
   "id": "d97a8f98",
   "metadata": {},
   "outputs": [
    {
     "data": {
      "application/vnd.microsoft.datawrangler.viewer.v0+json": {
       "columns": [
        {
         "name": "index",
         "rawType": "object",
         "type": "string"
        },
        {
         "name": "0",
         "rawType": "float64",
         "type": "float"
        }
       ],
       "ref": "c881b95c-ed15-4704-b19b-44d95bcc5b43",
       "rows": [
        [
         "title",
         "0.0"
        ],
        [
         "Price",
         "0.0"
        ],
        [
         "Mileage(miles)",
         "0.0"
        ],
        [
         "Registration_Year",
         "0.0"
        ],
        [
         "Previous Owners",
         "0.3826959587740711"
        ],
        [
         "Fuel type",
         "0.0"
        ],
        [
         "Body type",
         "0.0"
        ],
        [
         "Engine",
         "0.012205044751830757"
        ],
        [
         "Gearbox",
         "0.0"
        ],
        [
         "Doors",
         "0.0067805804176837535"
        ],
        [
         "Seats",
         "0.009492812584757255"
        ],
        [
         "Emission Class",
         "0.023596419853539462"
        ],
        [
         "Service history",
         "0.853539462978031"
        ],
        [
         "brand",
         "0.0"
        ],
        [
         "country",
         "0.0"
        ]
       ],
       "shape": {
        "columns": 1,
        "rows": 15
       }
      },
      "text/plain": [
       "title                0.000000\n",
       "Price                0.000000\n",
       "Mileage(miles)       0.000000\n",
       "Registration_Year    0.000000\n",
       "Previous Owners      0.382696\n",
       "Fuel type            0.000000\n",
       "Body type            0.000000\n",
       "Engine               0.012205\n",
       "Gearbox              0.000000\n",
       "Doors                0.006781\n",
       "Seats                0.009493\n",
       "Emission Class       0.023596\n",
       "Service history      0.853539\n",
       "brand                0.000000\n",
       "country              0.000000\n",
       "dtype: float64"
      ]
     },
     "execution_count": 380,
     "metadata": {},
     "output_type": "execute_result"
    }
   ],
   "source": [
    "df_merge.isna().sum() / (df_merge.count() + df_merge.isna().sum())\n",
    "## df_merge.isna().mean()과 동일"
   ]
  },
  {
   "cell_type": "markdown",
   "id": "cd83edf3",
   "metadata": {},
   "source": [
    "- Service history 컬럼에 포함된 값들을 중복 없이 출력"
   ]
  },
  {
   "cell_type": "code",
   "execution_count": 381,
   "id": "3add1cc3",
   "metadata": {},
   "outputs": [
    {
     "data": {
      "text/plain": [
       "array([nan, 'Full'], dtype=object)"
      ]
     },
     "execution_count": 381,
     "metadata": {},
     "output_type": "execute_result"
    }
   ],
   "source": [
    "df_merge['Service history'].unique()"
   ]
  },
  {
   "cell_type": "markdown",
   "id": "2c90036b",
   "metadata": {},
   "source": [
    "- Service history 값에 따라 그룹으로 묶어 Price의 평균 계산"
   ]
  },
  {
   "cell_type": "code",
   "execution_count": 382,
   "id": "3d19e764",
   "metadata": {},
   "outputs": [
    {
     "data": {
      "application/vnd.microsoft.datawrangler.viewer.v0+json": {
       "columns": [
        {
         "name": "index",
         "rawType": "int64",
         "type": "integer"
        },
        {
         "name": "Service history",
         "rawType": "object",
         "type": "string"
        },
        {
         "name": "Price",
         "rawType": "float64",
         "type": "float"
        }
       ],
       "ref": "3009d8ca-a64a-47b0-8e80-c89c9234e873",
       "rows": [
        [
         "0",
         "Full",
         "7290.209259259259"
        ]
       ],
       "shape": {
        "columns": 2,
        "rows": 1
       }
      },
      "text/html": [
       "<div>\n",
       "<style scoped>\n",
       "    .dataframe tbody tr th:only-of-type {\n",
       "        vertical-align: middle;\n",
       "    }\n",
       "\n",
       "    .dataframe tbody tr th {\n",
       "        vertical-align: top;\n",
       "    }\n",
       "\n",
       "    .dataframe thead th {\n",
       "        text-align: right;\n",
       "    }\n",
       "</style>\n",
       "<table border=\"1\" class=\"dataframe\">\n",
       "  <thead>\n",
       "    <tr style=\"text-align: right;\">\n",
       "      <th></th>\n",
       "      <th>Service history</th>\n",
       "      <th>Price</th>\n",
       "    </tr>\n",
       "  </thead>\n",
       "  <tbody>\n",
       "    <tr>\n",
       "      <th>0</th>\n",
       "      <td>Full</td>\n",
       "      <td>7290.209259</td>\n",
       "    </tr>\n",
       "  </tbody>\n",
       "</table>\n",
       "</div>"
      ],
      "text/plain": [
       "  Service history        Price\n",
       "0            Full  7290.209259"
      ]
     },
     "execution_count": 382,
     "metadata": {},
     "output_type": "execute_result"
    }
   ],
   "source": [
    "df_merge.groupby(by='Service history', as_index=False)['Price'].mean()"
   ]
  },
  {
   "cell_type": "markdown",
   "id": "dfeffe91",
   "metadata": {},
   "source": [
    "- Service history 컬럼의 결측치를 'Unknown' 문자열로 채우기"
   ]
  },
  {
   "cell_type": "code",
   "execution_count": 383,
   "id": "3d97f939",
   "metadata": {},
   "outputs": [],
   "source": [
    "df_merge['Service history'] = df_merge['Service history'].fillna(\"Unknown\")"
   ]
  },
  {
   "cell_type": "code",
   "execution_count": 384,
   "id": "7d37de39",
   "metadata": {},
   "outputs": [
    {
     "data": {
      "application/vnd.microsoft.datawrangler.viewer.v0+json": {
       "columns": [
        {
         "name": "Service history",
         "rawType": "object",
         "type": "string"
        },
        {
         "name": "Price",
         "rawType": "float64",
         "type": "float"
        }
       ],
       "ref": "57187883-04ac-403e-9f39-2f3feb6e8f20",
       "rows": [
        [
         "Full",
         "7290.209259259259"
        ],
        [
         "Unknown",
         "5529.414045122338"
        ]
       ],
       "shape": {
        "columns": 1,
        "rows": 2
       }
      },
      "text/plain": [
       "Service history\n",
       "Full       7290.209259\n",
       "Unknown    5529.414045\n",
       "Name: Price, dtype: float64"
      ]
     },
     "execution_count": 384,
     "metadata": {},
     "output_type": "execute_result"
    }
   ],
   "source": [
    "df_merge.groupby('Service history')['Price'].mean()"
   ]
  },
  {
   "cell_type": "markdown",
   "id": "3b1fd084",
   "metadata": {},
   "source": [
    "- Engine 컬럼의 결측치 확인"
   ]
  },
  {
   "cell_type": "code",
   "execution_count": 385,
   "id": "6e838c24",
   "metadata": {},
   "outputs": [
    {
     "data": {
      "text/plain": [
       "array([1.4, 1.2, 1.3, 2. , 1.6, 2.3, 1.8, 1. , 3. , 1.5, 1.9, 2.4, 2.2,\n",
       "       3.5, 3.2, 2.5, 1.1, 3.1, 3.7, 2.6, 2.1, 2.8, 5. , 0.8, 2.7, 1.7,\n",
       "       0.9, 4.2, nan, 4.4, 4.3, 3.3, 5.5, 4.8, 6.3])"
      ]
     },
     "execution_count": 385,
     "metadata": {},
     "output_type": "execute_result"
    }
   ],
   "source": [
    "df_merge['Engine'].unique()"
   ]
  },
  {
   "cell_type": "code",
   "execution_count": 386,
   "id": "b2f33f97",
   "metadata": {},
   "outputs": [
    {
     "data": {
      "text/plain": [
       "np.int64(45)"
      ]
     },
     "execution_count": 386,
     "metadata": {},
     "output_type": "execute_result"
    }
   ],
   "source": [
    "df_merge['Engine'].isna().sum()"
   ]
  },
  {
   "cell_type": "code",
   "execution_count": 387,
   "id": "2a66b2f0",
   "metadata": {},
   "outputs": [
    {
     "data": {
      "application/vnd.microsoft.datawrangler.viewer.v0+json": {
       "columns": [
        {
         "name": "index",
         "rawType": "int64",
         "type": "integer"
        },
        {
         "name": "Engine",
         "rawType": "bool",
         "type": "boolean"
        }
       ],
       "ref": "1ab05e70-6eb8-4faa-ab30-a75619d5881b",
       "rows": [
        [
         "0",
         "False"
        ],
        [
         "1",
         "False"
        ],
        [
         "2",
         "False"
        ],
        [
         "3",
         "False"
        ],
        [
         "4",
         "False"
        ],
        [
         "5",
         "False"
        ],
        [
         "6",
         "False"
        ],
        [
         "7",
         "False"
        ],
        [
         "8",
         "False"
        ],
        [
         "9",
         "False"
        ],
        [
         "10",
         "False"
        ],
        [
         "11",
         "False"
        ],
        [
         "12",
         "False"
        ],
        [
         "13",
         "False"
        ],
        [
         "14",
         "False"
        ],
        [
         "15",
         "False"
        ],
        [
         "16",
         "False"
        ],
        [
         "17",
         "False"
        ],
        [
         "18",
         "False"
        ],
        [
         "19",
         "False"
        ],
        [
         "20",
         "False"
        ],
        [
         "21",
         "False"
        ],
        [
         "22",
         "False"
        ],
        [
         "23",
         "False"
        ],
        [
         "24",
         "False"
        ],
        [
         "25",
         "False"
        ],
        [
         "26",
         "False"
        ],
        [
         "27",
         "False"
        ],
        [
         "28",
         "False"
        ],
        [
         "29",
         "False"
        ],
        [
         "30",
         "False"
        ],
        [
         "31",
         "False"
        ],
        [
         "32",
         "False"
        ],
        [
         "33",
         "False"
        ],
        [
         "34",
         "False"
        ],
        [
         "35",
         "False"
        ],
        [
         "36",
         "False"
        ],
        [
         "37",
         "False"
        ],
        [
         "38",
         "False"
        ],
        [
         "39",
         "False"
        ],
        [
         "40",
         "False"
        ],
        [
         "41",
         "False"
        ],
        [
         "42",
         "False"
        ],
        [
         "43",
         "False"
        ],
        [
         "44",
         "False"
        ],
        [
         "45",
         "False"
        ],
        [
         "46",
         "False"
        ],
        [
         "47",
         "False"
        ],
        [
         "48",
         "False"
        ],
        [
         "49",
         "False"
        ]
       ],
       "shape": {
        "columns": 1,
        "rows": 3687
       }
      },
      "text/plain": [
       "0       False\n",
       "1       False\n",
       "2       False\n",
       "3       False\n",
       "4       False\n",
       "        ...  \n",
       "3682    False\n",
       "3683    False\n",
       "3684    False\n",
       "3685    False\n",
       "3686    False\n",
       "Name: Engine, Length: 3687, dtype: bool"
      ]
     },
     "execution_count": 387,
     "metadata": {},
     "output_type": "execute_result"
    }
   ],
   "source": [
    "df_merge['Engine'].isna()"
   ]
  },
  {
   "cell_type": "markdown",
   "id": "ef4bd804",
   "metadata": {},
   "source": [
    "- 결측치가 포함된 컬럼의 개수를 데이터마다 계산하여 na_values 컬럼에 저장"
   ]
  },
  {
   "cell_type": "code",
   "execution_count": 388,
   "id": "ba2a9844",
   "metadata": {},
   "outputs": [
    {
     "data": {
      "application/vnd.microsoft.datawrangler.viewer.v0+json": {
       "columns": [
        {
         "name": "index",
         "rawType": "int64",
         "type": "integer"
        },
        {
         "name": "title",
         "rawType": "object",
         "type": "string"
        },
        {
         "name": "Price",
         "rawType": "int64",
         "type": "integer"
        },
        {
         "name": "Mileage(miles)",
         "rawType": "int64",
         "type": "integer"
        },
        {
         "name": "Registration_Year",
         "rawType": "int64",
         "type": "integer"
        },
        {
         "name": "Previous Owners",
         "rawType": "float64",
         "type": "float"
        },
        {
         "name": "Fuel type",
         "rawType": "object",
         "type": "string"
        },
        {
         "name": "Body type",
         "rawType": "object",
         "type": "string"
        },
        {
         "name": "Engine",
         "rawType": "float64",
         "type": "float"
        },
        {
         "name": "Gearbox",
         "rawType": "object",
         "type": "string"
        },
        {
         "name": "Doors",
         "rawType": "float64",
         "type": "float"
        },
        {
         "name": "Seats",
         "rawType": "float64",
         "type": "float"
        },
        {
         "name": "Emission Class",
         "rawType": "Int64",
         "type": "integer"
        },
        {
         "name": "Service history",
         "rawType": "object",
         "type": "string"
        },
        {
         "name": "brand",
         "rawType": "object",
         "type": "string"
        },
        {
         "name": "country",
         "rawType": "object",
         "type": "string"
        }
       ],
       "ref": "7ebd1ffc-9a11-4a48-a231-f6586d856562",
       "rows": [
        [
         "0",
         "SKODA FABIA",
         "6900",
         "70189",
         "2016",
         "3.0",
         "Diesel",
         "Hatchback",
         "1.4",
         "Manual",
         "5.0",
         "5.0",
         "6",
         "Unknown",
         "SKODA",
         "Czech Republic"
        ],
        [
         "1",
         "VAUXHALL CORSA",
         "1495",
         "88585",
         "2008",
         "4.0",
         "Petrol",
         "Hatchback",
         "1.2",
         "Manual",
         "3.0",
         "5.0",
         "4",
         "Full",
         "VAUXHALL",
         "United Kingdom"
        ],
        [
         "2",
         "HYUNDAI I30",
         "949",
         "137000",
         "2011",
         null,
         "Petrol",
         "Hatchback",
         "1.4",
         "Manual",
         "5.0",
         "5.0",
         "5",
         "Unknown",
         "HYUNDAI",
         "South Korea"
        ],
        [
         "3",
         "MINI HATCH",
         "2395",
         "96731",
         "2010",
         "5.0",
         "Petrol",
         "Hatchback",
         "1.4",
         "Manual",
         "3.0",
         "4.0",
         "4",
         "Full",
         "MINI",
         "United Kingdom"
        ],
        [
         "4",
         "VAUXHALL CORSA",
         "1000",
         "85000",
         "2013",
         null,
         "Diesel",
         "Hatchback",
         "1.3",
         "Manual",
         "5.0",
         "5.0",
         "5",
         "Unknown",
         "VAUXHALL",
         "United Kingdom"
        ],
        [
         "5",
         "HYUNDAI COUPE",
         "800",
         "124196",
         "2007",
         "3.0",
         "Petrol",
         "Coupe",
         "2.0",
         "Manual",
         "3.0",
         "4.0",
         "4",
         "Unknown",
         "HYUNDAI",
         "South Korea"
        ],
        [
         "6",
         "FORD FOCUS",
         "798",
         "140599",
         "2008",
         null,
         "Petrol",
         "Hatchback",
         "1.6",
         "Manual",
         "5.0",
         "5.0",
         "4",
         "Unknown",
         "FORD",
         "United States"
        ],
        [
         "7",
         "VAUXHALL CORSA",
         "1995",
         "90000",
         "2009",
         null,
         "Petrol",
         "Hatchback",
         "1.2",
         "Manual",
         "3.0",
         "5.0",
         "4",
         "Unknown",
         "VAUXHALL",
         "United Kingdom"
        ],
        [
         "8",
         "VOLVO 740",
         "750",
         "225318",
         "2025",
         null,
         "Petrol",
         "Estate",
         "2.3",
         "Automatic",
         "5.0",
         null,
         null,
         "Unknown",
         "VOLVO",
         "Sweden"
        ],
        [
         "9",
         "PEUGEOT 207",
         "1299",
         "87000",
         "2008",
         "5.0",
         "Diesel",
         "Hatchback",
         "1.6",
         "Manual",
         "5.0",
         "5.0",
         "4",
         "Unknown",
         "PEUGEOT",
         "France"
        ]
       ],
       "shape": {
        "columns": 15,
        "rows": 10
       }
      },
      "text/html": [
       "<div>\n",
       "<style scoped>\n",
       "    .dataframe tbody tr th:only-of-type {\n",
       "        vertical-align: middle;\n",
       "    }\n",
       "\n",
       "    .dataframe tbody tr th {\n",
       "        vertical-align: top;\n",
       "    }\n",
       "\n",
       "    .dataframe thead th {\n",
       "        text-align: right;\n",
       "    }\n",
       "</style>\n",
       "<table border=\"1\" class=\"dataframe\">\n",
       "  <thead>\n",
       "    <tr style=\"text-align: right;\">\n",
       "      <th></th>\n",
       "      <th>title</th>\n",
       "      <th>Price</th>\n",
       "      <th>Mileage(miles)</th>\n",
       "      <th>Registration_Year</th>\n",
       "      <th>Previous Owners</th>\n",
       "      <th>Fuel type</th>\n",
       "      <th>Body type</th>\n",
       "      <th>Engine</th>\n",
       "      <th>Gearbox</th>\n",
       "      <th>Doors</th>\n",
       "      <th>Seats</th>\n",
       "      <th>Emission Class</th>\n",
       "      <th>Service history</th>\n",
       "      <th>brand</th>\n",
       "      <th>country</th>\n",
       "    </tr>\n",
       "  </thead>\n",
       "  <tbody>\n",
       "    <tr>\n",
       "      <th>0</th>\n",
       "      <td>SKODA FABIA</td>\n",
       "      <td>6900</td>\n",
       "      <td>70189</td>\n",
       "      <td>2016</td>\n",
       "      <td>3.0</td>\n",
       "      <td>Diesel</td>\n",
       "      <td>Hatchback</td>\n",
       "      <td>1.4</td>\n",
       "      <td>Manual</td>\n",
       "      <td>5.0</td>\n",
       "      <td>5.0</td>\n",
       "      <td>6</td>\n",
       "      <td>Unknown</td>\n",
       "      <td>SKODA</td>\n",
       "      <td>Czech Republic</td>\n",
       "    </tr>\n",
       "    <tr>\n",
       "      <th>1</th>\n",
       "      <td>VAUXHALL CORSA</td>\n",
       "      <td>1495</td>\n",
       "      <td>88585</td>\n",
       "      <td>2008</td>\n",
       "      <td>4.0</td>\n",
       "      <td>Petrol</td>\n",
       "      <td>Hatchback</td>\n",
       "      <td>1.2</td>\n",
       "      <td>Manual</td>\n",
       "      <td>3.0</td>\n",
       "      <td>5.0</td>\n",
       "      <td>4</td>\n",
       "      <td>Full</td>\n",
       "      <td>VAUXHALL</td>\n",
       "      <td>United Kingdom</td>\n",
       "    </tr>\n",
       "    <tr>\n",
       "      <th>2</th>\n",
       "      <td>HYUNDAI I30</td>\n",
       "      <td>949</td>\n",
       "      <td>137000</td>\n",
       "      <td>2011</td>\n",
       "      <td>NaN</td>\n",
       "      <td>Petrol</td>\n",
       "      <td>Hatchback</td>\n",
       "      <td>1.4</td>\n",
       "      <td>Manual</td>\n",
       "      <td>5.0</td>\n",
       "      <td>5.0</td>\n",
       "      <td>5</td>\n",
       "      <td>Unknown</td>\n",
       "      <td>HYUNDAI</td>\n",
       "      <td>South Korea</td>\n",
       "    </tr>\n",
       "    <tr>\n",
       "      <th>3</th>\n",
       "      <td>MINI HATCH</td>\n",
       "      <td>2395</td>\n",
       "      <td>96731</td>\n",
       "      <td>2010</td>\n",
       "      <td>5.0</td>\n",
       "      <td>Petrol</td>\n",
       "      <td>Hatchback</td>\n",
       "      <td>1.4</td>\n",
       "      <td>Manual</td>\n",
       "      <td>3.0</td>\n",
       "      <td>4.0</td>\n",
       "      <td>4</td>\n",
       "      <td>Full</td>\n",
       "      <td>MINI</td>\n",
       "      <td>United Kingdom</td>\n",
       "    </tr>\n",
       "    <tr>\n",
       "      <th>4</th>\n",
       "      <td>VAUXHALL CORSA</td>\n",
       "      <td>1000</td>\n",
       "      <td>85000</td>\n",
       "      <td>2013</td>\n",
       "      <td>NaN</td>\n",
       "      <td>Diesel</td>\n",
       "      <td>Hatchback</td>\n",
       "      <td>1.3</td>\n",
       "      <td>Manual</td>\n",
       "      <td>5.0</td>\n",
       "      <td>5.0</td>\n",
       "      <td>5</td>\n",
       "      <td>Unknown</td>\n",
       "      <td>VAUXHALL</td>\n",
       "      <td>United Kingdom</td>\n",
       "    </tr>\n",
       "    <tr>\n",
       "      <th>5</th>\n",
       "      <td>HYUNDAI COUPE</td>\n",
       "      <td>800</td>\n",
       "      <td>124196</td>\n",
       "      <td>2007</td>\n",
       "      <td>3.0</td>\n",
       "      <td>Petrol</td>\n",
       "      <td>Coupe</td>\n",
       "      <td>2.0</td>\n",
       "      <td>Manual</td>\n",
       "      <td>3.0</td>\n",
       "      <td>4.0</td>\n",
       "      <td>4</td>\n",
       "      <td>Unknown</td>\n",
       "      <td>HYUNDAI</td>\n",
       "      <td>South Korea</td>\n",
       "    </tr>\n",
       "    <tr>\n",
       "      <th>6</th>\n",
       "      <td>FORD FOCUS</td>\n",
       "      <td>798</td>\n",
       "      <td>140599</td>\n",
       "      <td>2008</td>\n",
       "      <td>NaN</td>\n",
       "      <td>Petrol</td>\n",
       "      <td>Hatchback</td>\n",
       "      <td>1.6</td>\n",
       "      <td>Manual</td>\n",
       "      <td>5.0</td>\n",
       "      <td>5.0</td>\n",
       "      <td>4</td>\n",
       "      <td>Unknown</td>\n",
       "      <td>FORD</td>\n",
       "      <td>United States</td>\n",
       "    </tr>\n",
       "    <tr>\n",
       "      <th>7</th>\n",
       "      <td>VAUXHALL CORSA</td>\n",
       "      <td>1995</td>\n",
       "      <td>90000</td>\n",
       "      <td>2009</td>\n",
       "      <td>NaN</td>\n",
       "      <td>Petrol</td>\n",
       "      <td>Hatchback</td>\n",
       "      <td>1.2</td>\n",
       "      <td>Manual</td>\n",
       "      <td>3.0</td>\n",
       "      <td>5.0</td>\n",
       "      <td>4</td>\n",
       "      <td>Unknown</td>\n",
       "      <td>VAUXHALL</td>\n",
       "      <td>United Kingdom</td>\n",
       "    </tr>\n",
       "    <tr>\n",
       "      <th>8</th>\n",
       "      <td>VOLVO 740</td>\n",
       "      <td>750</td>\n",
       "      <td>225318</td>\n",
       "      <td>2025</td>\n",
       "      <td>NaN</td>\n",
       "      <td>Petrol</td>\n",
       "      <td>Estate</td>\n",
       "      <td>2.3</td>\n",
       "      <td>Automatic</td>\n",
       "      <td>5.0</td>\n",
       "      <td>NaN</td>\n",
       "      <td>&lt;NA&gt;</td>\n",
       "      <td>Unknown</td>\n",
       "      <td>VOLVO</td>\n",
       "      <td>Sweden</td>\n",
       "    </tr>\n",
       "    <tr>\n",
       "      <th>9</th>\n",
       "      <td>PEUGEOT 207</td>\n",
       "      <td>1299</td>\n",
       "      <td>87000</td>\n",
       "      <td>2008</td>\n",
       "      <td>5.0</td>\n",
       "      <td>Diesel</td>\n",
       "      <td>Hatchback</td>\n",
       "      <td>1.6</td>\n",
       "      <td>Manual</td>\n",
       "      <td>5.0</td>\n",
       "      <td>5.0</td>\n",
       "      <td>4</td>\n",
       "      <td>Unknown</td>\n",
       "      <td>PEUGEOT</td>\n",
       "      <td>France</td>\n",
       "    </tr>\n",
       "  </tbody>\n",
       "</table>\n",
       "</div>"
      ],
      "text/plain": [
       "            title  Price  Mileage(miles)  Registration_Year  Previous Owners  \\\n",
       "0     SKODA FABIA   6900           70189               2016              3.0   \n",
       "1  VAUXHALL CORSA   1495           88585               2008              4.0   \n",
       "2     HYUNDAI I30    949          137000               2011              NaN   \n",
       "3      MINI HATCH   2395           96731               2010              5.0   \n",
       "4  VAUXHALL CORSA   1000           85000               2013              NaN   \n",
       "5   HYUNDAI COUPE    800          124196               2007              3.0   \n",
       "6      FORD FOCUS    798          140599               2008              NaN   \n",
       "7  VAUXHALL CORSA   1995           90000               2009              NaN   \n",
       "8       VOLVO 740    750          225318               2025              NaN   \n",
       "9     PEUGEOT 207   1299           87000               2008              5.0   \n",
       "\n",
       "  Fuel type  Body type  Engine    Gearbox  Doors  Seats  Emission Class  \\\n",
       "0    Diesel  Hatchback     1.4     Manual    5.0    5.0               6   \n",
       "1    Petrol  Hatchback     1.2     Manual    3.0    5.0               4   \n",
       "2    Petrol  Hatchback     1.4     Manual    5.0    5.0               5   \n",
       "3    Petrol  Hatchback     1.4     Manual    3.0    4.0               4   \n",
       "4    Diesel  Hatchback     1.3     Manual    5.0    5.0               5   \n",
       "5    Petrol      Coupe     2.0     Manual    3.0    4.0               4   \n",
       "6    Petrol  Hatchback     1.6     Manual    5.0    5.0               4   \n",
       "7    Petrol  Hatchback     1.2     Manual    3.0    5.0               4   \n",
       "8    Petrol     Estate     2.3  Automatic    5.0    NaN            <NA>   \n",
       "9    Diesel  Hatchback     1.6     Manual    5.0    5.0               4   \n",
       "\n",
       "  Service history     brand         country  \n",
       "0         Unknown     SKODA  Czech Republic  \n",
       "1            Full  VAUXHALL  United Kingdom  \n",
       "2         Unknown   HYUNDAI     South Korea  \n",
       "3            Full      MINI  United Kingdom  \n",
       "4         Unknown  VAUXHALL  United Kingdom  \n",
       "5         Unknown   HYUNDAI     South Korea  \n",
       "6         Unknown      FORD   United States  \n",
       "7         Unknown  VAUXHALL  United Kingdom  \n",
       "8         Unknown     VOLVO          Sweden  \n",
       "9         Unknown   PEUGEOT          France  "
      ]
     },
     "execution_count": 388,
     "metadata": {},
     "output_type": "execute_result"
    }
   ],
   "source": [
    "df_merge.head(10)"
   ]
  },
  {
   "cell_type": "code",
   "execution_count": 389,
   "id": "1194a2fd",
   "metadata": {},
   "outputs": [],
   "source": [
    "df_merge['na_values'] = df_merge.isna().sum(axis=1)"
   ]
  },
  {
   "cell_type": "markdown",
   "id": "cf7e1a62",
   "metadata": {},
   "source": [
    "- na_values 컬럼의 값이 4 이상인 데이터 제거"
   ]
  },
  {
   "cell_type": "code",
   "execution_count": 390,
   "id": "41a5aebf",
   "metadata": {},
   "outputs": [],
   "source": [
    "df_merge = df_merge[ df_merge['na_values'] < 4 ]\n",
    "df_merge = df_merge.reset_index(drop=True)"
   ]
  },
  {
   "cell_type": "markdown",
   "id": "cc797f4f",
   "metadata": {},
   "source": [
    "- na_values 컬럼 제거"
   ]
  },
  {
   "cell_type": "code",
   "execution_count": 391,
   "id": "cb8787a9",
   "metadata": {},
   "outputs": [],
   "source": [
    "df_merge = df_merge.drop('na_values', axis=1)"
   ]
  },
  {
   "cell_type": "markdown",
   "id": "8f3d5c38",
   "metadata": {},
   "source": [
    "- 다른 컬럼들의 결측치를 채우기 위해, 히스토그램 그리고 중앙값 계산"
   ]
  },
  {
   "cell_type": "code",
   "execution_count": 392,
   "id": "116d210b",
   "metadata": {},
   "outputs": [
    {
     "data": {
      "application/vnd.microsoft.datawrangler.viewer.v0+json": {
       "columns": [
        {
         "name": "index",
         "rawType": "object",
         "type": "string"
        },
        {
         "name": "0",
         "rawType": "float64",
         "type": "float"
        }
       ],
       "ref": "5b79ae09-710c-4f2a-be35-b9b5b00afdba",
       "rows": [
        [
         "title",
         "0.0"
        ],
        [
         "Price",
         "0.0"
        ],
        [
         "Mileage(miles)",
         "0.0"
        ],
        [
         "Registration_Year",
         "0.0"
        ],
        [
         "Previous Owners",
         "0.3829613500272183"
        ],
        [
         "Fuel type",
         "0.0"
        ],
        [
         "Body type",
         "0.0"
        ],
        [
         "Engine",
         "0.009526401741970605"
        ],
        [
         "Gearbox",
         "0.0"
        ],
        [
         "Doors",
         "0.00326619488296135"
        ],
        [
         "Seats",
         "0.005988023952095809"
        ],
        [
         "Emission Class",
         "0.020141535111594992"
        ],
        [
         "Service history",
         "0.0"
        ],
        [
         "brand",
         "0.0"
        ],
        [
         "country",
         "0.0"
        ]
       ],
       "shape": {
        "columns": 1,
        "rows": 15
       }
      },
      "text/plain": [
       "title                0.000000\n",
       "Price                0.000000\n",
       "Mileage(miles)       0.000000\n",
       "Registration_Year    0.000000\n",
       "Previous Owners      0.382961\n",
       "Fuel type            0.000000\n",
       "Body type            0.000000\n",
       "Engine               0.009526\n",
       "Gearbox              0.000000\n",
       "Doors                0.003266\n",
       "Seats                0.005988\n",
       "Emission Class       0.020142\n",
       "Service history      0.000000\n",
       "brand                0.000000\n",
       "country              0.000000\n",
       "dtype: float64"
      ]
     },
     "execution_count": 392,
     "metadata": {},
     "output_type": "execute_result"
    }
   ],
   "source": [
    "df_merge.isna().mean()"
   ]
  },
  {
   "cell_type": "markdown",
   "id": "90e078ab",
   "metadata": {},
   "source": [
    "- Previous Owners 컬럼의 히스토그램 그리기"
   ]
  },
  {
   "cell_type": "code",
   "execution_count": 393,
   "id": "4c07e0b0",
   "metadata": {},
   "outputs": [
    {
     "data": {
      "image/png": "[encoded data removed]",
      "text/plain": [
       "<Figure size 640x480 with 1 Axes>"
      ]
     },
     "metadata": {},
     "output_type": "display_data"
    }
   ],
   "source": [
    "sns.histplot(df_merge['Previous Owners'])\n",
    "plt.show()\n",
    "\n",
    "## displot과의 차이는?\n",
    "## distplot은 레거시 데이터가 됨"
   ]
  },
  {
   "cell_type": "markdown",
   "id": "f599c4f6",
   "metadata": {},
   "source": [
    "- Previous Owners 컬럼의 중앙값 계산"
   ]
  },
  {
   "cell_type": "code",
   "execution_count": 394,
   "id": "b4403dd8",
   "metadata": {},
   "outputs": [
    {
     "data": {
      "text/plain": [
       "np.float64(3.0)"
      ]
     },
     "execution_count": 394,
     "metadata": {},
     "output_type": "execute_result"
    }
   ],
   "source": [
    "df_merge['Previous Owners'].median()"
   ]
  },
  {
   "cell_type": "markdown",
   "id": "c6105de5",
   "metadata": {},
   "source": [
    "- 다른 컬럼들의 히스토그램 그리기"
   ]
  },
  {
   "cell_type": "code",
   "execution_count": 395,
   "id": "90a45413",
   "metadata": {},
   "outputs": [
    {
     "data": {
      "image/png": "[encoded data removed]",
      "text/plain": [
       "<Figure size 640x480 with 1 Axes>"
      ]
     },
     "metadata": {},
     "output_type": "display_data"
    },
    {
     "name": "stdout",
     "output_type": "stream",
     "text": [
      "Engine 평균:  1.6061555372355043\n",
      "Engine 중앙값:  1.6\n"
     ]
    },
    {
     "data": {
      "image/png": "[encoded data removed]",
      "text/plain": [
       "<Figure size 640x480 with 1 Axes>"
      ]
     },
     "metadata": {},
     "output_type": "display_data"
    },
    {
     "name": "stdout",
     "output_type": "stream",
     "text": [
      "Doors 평균:  4.321409066084107\n",
      "Doors 중앙값:  5.0\n"
     ]
    },
    {
     "data": {
      "image/png": "[encoded data removed]",
      "text/plain": [
       "<Figure size 640x480 with 1 Axes>"
      ]
     },
     "metadata": {},
     "output_type": "display_data"
    },
    {
     "name": "stdout",
     "output_type": "stream",
     "text": [
      "Seats 평균:  4.900328587075575\n",
      "Seats 중앙값:  5.0\n"
     ]
    },
    {
     "data": {
      "image/png": "[encoded data removed]",
      "text/plain": [
       "<Figure size 640x480 with 1 Axes>"
      ]
     },
     "metadata": {},
     "output_type": "display_data"
    },
    {
     "name": "stdout",
     "output_type": "stream",
     "text": [
      "Emission Class 평균:  4.91\n",
      "Emission Class 중앙값:  5.0\n"
     ]
    }
   ],
   "source": [
    "cols = ['Engine', 'Doors', 'Seats', 'Emission Class']\n",
    "\n",
    "for col in cols :\n",
    "    sns.histplot(df_merge[col])\n",
    "    plt.show()\n",
    "    \n",
    "    print(f'{col} 평균: ', df_merge[col].mean())\n",
    "    print(f'{col} 중앙값: ', df_merge[col].median())"
   ]
  },
  {
   "cell_type": "markdown",
   "id": "a405c66b",
   "metadata": {},
   "source": [
    "- 각 컬럼들의 중앙값으로 결측치 채우기"
   ]
  },
  {
   "cell_type": "code",
   "execution_count": 396,
   "id": "a91821d2",
   "metadata": {},
   "outputs": [
    {
     "data": {
      "application/vnd.microsoft.datawrangler.viewer.v0+json": {
       "columns": [
        {
         "name": "index",
         "rawType": "int64",
         "type": "integer"
        },
        {
         "name": "Previous Owners",
         "rawType": "float64",
         "type": "float"
        }
       ],
       "ref": "bbfde4da-3dfe-4219-8567-d3740be2600a",
       "rows": [
        [
         "0",
         "3.0"
        ],
        [
         "1",
         "4.0"
        ],
        [
         "2",
         "3.0"
        ],
        [
         "3",
         "5.0"
        ],
        [
         "4",
         "3.0"
        ],
        [
         "5",
         "3.0"
        ],
        [
         "6",
         "3.0"
        ],
        [
         "7",
         "3.0"
        ],
        [
         "8",
         "3.0"
        ],
        [
         "9",
         "5.0"
        ],
        [
         "10",
         "3.0"
        ],
        [
         "11",
         "4.0"
        ],
        [
         "12",
         "3.0"
        ],
        [
         "13",
         "1.0"
        ],
        [
         "14",
         "3.0"
        ],
        [
         "15",
         "3.0"
        ],
        [
         "16",
         "2.0"
        ],
        [
         "17",
         "3.0"
        ],
        [
         "18",
         "5.0"
        ],
        [
         "19",
         "3.0"
        ],
        [
         "20",
         "3.0"
        ],
        [
         "21",
         "3.0"
        ],
        [
         "22",
         "3.0"
        ],
        [
         "23",
         "3.0"
        ],
        [
         "24",
         "3.0"
        ],
        [
         "25",
         "4.0"
        ],
        [
         "26",
         "1.0"
        ],
        [
         "27",
         "3.0"
        ],
        [
         "28",
         "2.0"
        ],
        [
         "29",
         "2.0"
        ],
        [
         "30",
         "3.0"
        ],
        [
         "31",
         "3.0"
        ],
        [
         "32",
         "3.0"
        ],
        [
         "33",
         "4.0"
        ],
        [
         "34",
         "3.0"
        ],
        [
         "35",
         "3.0"
        ],
        [
         "36",
         "5.0"
        ],
        [
         "37",
         "3.0"
        ],
        [
         "38",
         "1.0"
        ],
        [
         "39",
         "1.0"
        ],
        [
         "40",
         "3.0"
        ],
        [
         "41",
         "3.0"
        ],
        [
         "42",
         "4.0"
        ],
        [
         "43",
         "3.0"
        ],
        [
         "44",
         "3.0"
        ],
        [
         "45",
         "3.0"
        ],
        [
         "46",
         "3.0"
        ],
        [
         "47",
         "4.0"
        ],
        [
         "48",
         "4.0"
        ],
        [
         "49",
         "3.0"
        ]
       ],
       "shape": {
        "columns": 1,
        "rows": 3674
       }
      },
      "text/plain": [
       "0       3.0\n",
       "1       4.0\n",
       "2       3.0\n",
       "3       5.0\n",
       "4       3.0\n",
       "       ... \n",
       "3669    4.0\n",
       "3670    3.0\n",
       "3671    3.0\n",
       "3672    3.0\n",
       "3673    7.0\n",
       "Name: Previous Owners, Length: 3674, dtype: float64"
      ]
     },
     "execution_count": 396,
     "metadata": {},
     "output_type": "execute_result"
    }
   ],
   "source": [
    "df_merge['Previous Owners'].fillna( df_merge['Previous Owners'].median() )"
   ]
  },
  {
   "cell_type": "code",
   "execution_count": 397,
   "id": "8cff7322",
   "metadata": {},
   "outputs": [],
   "source": [
    "cols = ['Previous Owners', 'Engine', 'Doors', 'Seats', 'Emission Class']\n",
    "\n",
    "for col in cols :\n",
    "    df_merge[col] = df_merge[col].fillna( df_merge[col].median() )"
   ]
  },
  {
   "cell_type": "markdown",
   "id": "550890c4",
   "metadata": {},
   "source": [
    "### 이상치 제거"
   ]
  },
  {
   "cell_type": "code",
   "execution_count": 398,
   "id": "d6b1c7c8",
   "metadata": {},
   "outputs": [
    {
     "data": {
      "application/vnd.microsoft.datawrangler.viewer.v0+json": {
       "columns": [
        {
         "name": "index",
         "rawType": "object",
         "type": "string"
        },
        {
         "name": "Price",
         "rawType": "float64",
         "type": "float"
        },
        {
         "name": "Mileage(miles)",
         "rawType": "float64",
         "type": "float"
        },
        {
         "name": "Registration_Year",
         "rawType": "float64",
         "type": "float"
        },
        {
         "name": "Previous Owners",
         "rawType": "float64",
         "type": "float"
        },
        {
         "name": "Engine",
         "rawType": "float64",
         "type": "float"
        },
        {
         "name": "Doors",
         "rawType": "float64",
         "type": "float"
        },
        {
         "name": "Seats",
         "rawType": "float64",
         "type": "float"
        },
        {
         "name": "Emission Class",
         "rawType": "Float64",
         "type": "float"
        }
       ],
       "ref": "942307ec-3176-4625-96e9-9b295bb2a8b6",
       "rows": [
        [
         "count",
         "3674.0",
         "3674.0",
         "3674.0",
         "3674.0",
         "3674.0",
         "3674.0",
         "3674.0",
         "3674.0"
        ],
        [
         "mean",
         "5788.852476864453",
         "81345.86690255853",
         "2011.8473053892214",
         "2.882144801306478",
         "1.6060968971148613",
         "4.323625476320087",
         "4.900925421883506",
         "4.911812738160044"
        ],
        [
         "std",
         "4486.599984106178",
         "39437.692924783136",
         "5.083172602185401",
         "1.2190037908173812",
         "0.4843264693519799",
         "0.9859079640895309",
         "0.5753671287552449",
         "0.9015561654777735"
        ],
        [
         "min",
         "400.0",
         "1.0",
         "1953.0",
         "1.0",
         "0.8",
         "2.0",
         "2.0",
         "1.0"
        ],
        [
         "25%",
         "2490.0",
         "56984.0",
         "2008.0",
         "2.0",
         "1.3",
         "3.0",
         "5.0",
         "4.0"
        ],
        [
         "50%",
         "4000.0",
         "80000.0",
         "2012.0",
         "3.0",
         "1.6",
         "5.0",
         "5.0",
         "5.0"
        ],
        [
         "75%",
         "7995.0",
         "103000.0",
         "2016.0",
         "3.0",
         "1.9",
         "5.0",
         "5.0",
         "6.0"
        ],
        [
         "max",
         "33900.0",
         "1110100.0",
         "2025.0",
         "9.0",
         "6.3",
         "5.0",
         "7.0",
         "6.0"
        ]
       ],
       "shape": {
        "columns": 8,
        "rows": 8
       }
      },
      "text/html": [
       "<div>\n",
       "<style scoped>\n",
       "    .dataframe tbody tr th:only-of-type {\n",
       "        vertical-align: middle;\n",
       "    }\n",
       "\n",
       "    .dataframe tbody tr th {\n",
       "        vertical-align: top;\n",
       "    }\n",
       "\n",
       "    .dataframe thead th {\n",
       "        text-align: right;\n",
       "    }\n",
       "</style>\n",
       "<table border=\"1\" class=\"dataframe\">\n",
       "  <thead>\n",
       "    <tr style=\"text-align: right;\">\n",
       "      <th></th>\n",
       "      <th>Price</th>\n",
       "      <th>Mileage(miles)</th>\n",
       "      <th>Registration_Year</th>\n",
       "      <th>Previous Owners</th>\n",
       "      <th>Engine</th>\n",
       "      <th>Doors</th>\n",
       "      <th>Seats</th>\n",
       "      <th>Emission Class</th>\n",
       "    </tr>\n",
       "  </thead>\n",
       "  <tbody>\n",
       "    <tr>\n",
       "      <th>count</th>\n",
       "      <td>3674.000000</td>\n",
       "      <td>3.674000e+03</td>\n",
       "      <td>3674.000000</td>\n",
       "      <td>3674.000000</td>\n",
       "      <td>3674.000000</td>\n",
       "      <td>3674.000000</td>\n",
       "      <td>3674.000000</td>\n",
       "      <td>3674.0</td>\n",
       "    </tr>\n",
       "    <tr>\n",
       "      <th>mean</th>\n",
       "      <td>5788.852477</td>\n",
       "      <td>8.134587e+04</td>\n",
       "      <td>2011.847305</td>\n",
       "      <td>2.882145</td>\n",
       "      <td>1.606097</td>\n",
       "      <td>4.323625</td>\n",
       "      <td>4.900925</td>\n",
       "      <td>4.911813</td>\n",
       "    </tr>\n",
       "    <tr>\n",
       "      <th>std</th>\n",
       "      <td>4486.599984</td>\n",
       "      <td>3.943769e+04</td>\n",
       "      <td>5.083173</td>\n",
       "      <td>1.219004</td>\n",
       "      <td>0.484326</td>\n",
       "      <td>0.985908</td>\n",
       "      <td>0.575367</td>\n",
       "      <td>0.901556</td>\n",
       "    </tr>\n",
       "    <tr>\n",
       "      <th>min</th>\n",
       "      <td>400.000000</td>\n",
       "      <td>1.000000e+00</td>\n",
       "      <td>1953.000000</td>\n",
       "      <td>1.000000</td>\n",
       "      <td>0.800000</td>\n",
       "      <td>2.000000</td>\n",
       "      <td>2.000000</td>\n",
       "      <td>1.0</td>\n",
       "    </tr>\n",
       "    <tr>\n",
       "      <th>25%</th>\n",
       "      <td>2490.000000</td>\n",
       "      <td>5.698400e+04</td>\n",
       "      <td>2008.000000</td>\n",
       "      <td>2.000000</td>\n",
       "      <td>1.300000</td>\n",
       "      <td>3.000000</td>\n",
       "      <td>5.000000</td>\n",
       "      <td>4.0</td>\n",
       "    </tr>\n",
       "    <tr>\n",
       "      <th>50%</th>\n",
       "      <td>4000.000000</td>\n",
       "      <td>8.000000e+04</td>\n",
       "      <td>2012.000000</td>\n",
       "      <td>3.000000</td>\n",
       "      <td>1.600000</td>\n",
       "      <td>5.000000</td>\n",
       "      <td>5.000000</td>\n",
       "      <td>5.0</td>\n",
       "    </tr>\n",
       "    <tr>\n",
       "      <th>75%</th>\n",
       "      <td>7995.000000</td>\n",
       "      <td>1.030000e+05</td>\n",
       "      <td>2016.000000</td>\n",
       "      <td>3.000000</td>\n",
       "      <td>1.900000</td>\n",
       "      <td>5.000000</td>\n",
       "      <td>5.000000</td>\n",
       "      <td>6.0</td>\n",
       "    </tr>\n",
       "    <tr>\n",
       "      <th>max</th>\n",
       "      <td>33900.000000</td>\n",
       "      <td>1.110100e+06</td>\n",
       "      <td>2025.000000</td>\n",
       "      <td>9.000000</td>\n",
       "      <td>6.300000</td>\n",
       "      <td>5.000000</td>\n",
       "      <td>7.000000</td>\n",
       "      <td>6.0</td>\n",
       "    </tr>\n",
       "  </tbody>\n",
       "</table>\n",
       "</div>"
      ],
      "text/plain": [
       "              Price  Mileage(miles)  Registration_Year  Previous Owners  \\\n",
       "count   3674.000000    3.674000e+03        3674.000000      3674.000000   \n",
       "mean    5788.852477    8.134587e+04        2011.847305         2.882145   \n",
       "std     4486.599984    3.943769e+04           5.083173         1.219004   \n",
       "min      400.000000    1.000000e+00        1953.000000         1.000000   \n",
       "25%     2490.000000    5.698400e+04        2008.000000         2.000000   \n",
       "50%     4000.000000    8.000000e+04        2012.000000         3.000000   \n",
       "75%     7995.000000    1.030000e+05        2016.000000         3.000000   \n",
       "max    33900.000000    1.110100e+06        2025.000000         9.000000   \n",
       "\n",
       "            Engine        Doors        Seats  Emission Class  \n",
       "count  3674.000000  3674.000000  3674.000000          3674.0  \n",
       "mean      1.606097     4.323625     4.900925        4.911813  \n",
       "std       0.484326     0.985908     0.575367        0.901556  \n",
       "min       0.800000     2.000000     2.000000             1.0  \n",
       "25%       1.300000     3.000000     5.000000             4.0  \n",
       "50%       1.600000     5.000000     5.000000             5.0  \n",
       "75%       1.900000     5.000000     5.000000             6.0  \n",
       "max       6.300000     5.000000     7.000000             6.0  "
      ]
     },
     "execution_count": 398,
     "metadata": {},
     "output_type": "execute_result"
    }
   ],
   "source": [
    "df_merge.describe()"
   ]
  },
  {
   "cell_type": "markdown",
   "id": "31d57e2b",
   "metadata": {},
   "source": [
    "- Price 컬럼의 값을 정렬하여 확인"
   ]
  },
  {
   "cell_type": "code",
   "execution_count": 399,
   "id": "d6c3586b",
   "metadata": {},
   "outputs": [
    {
     "data": {
      "application/vnd.microsoft.datawrangler.viewer.v0+json": {
       "columns": [
        {
         "name": "index",
         "rawType": "int64",
         "type": "integer"
        },
        {
         "name": "Price",
         "rawType": "int64",
         "type": "integer"
        }
       ],
       "ref": "490395e2-61f1-4d11-a9db-41b3f491eb9f",
       "rows": [
        [
         "3232",
         "400"
        ],
        [
         "3265",
         "450"
        ],
        [
         "1232",
         "495"
        ],
        [
         "3233",
         "499"
        ],
        [
         "3229",
         "500"
        ],
        [
         "3416",
         "500"
        ],
        [
         "3253",
         "595"
        ],
        [
         "3236",
         "640"
        ],
        [
         "3502",
         "695"
        ],
        [
         "3251",
         "699"
        ],
        [
         "3234",
         "700"
        ],
        [
         "3237",
         "700"
        ],
        [
         "3258",
         "700"
        ],
        [
         "59",
         "700"
        ],
        [
         "3408",
         "700"
        ],
        [
         "8",
         "750"
        ],
        [
         "1240",
         "750"
        ],
        [
         "3230",
         "750"
        ],
        [
         "1251",
         "750"
        ],
        [
         "3399",
         "790"
        ],
        [
         "3249",
         "795"
        ],
        [
         "1471",
         "795"
        ],
        [
         "1924",
         "795"
        ],
        [
         "3530",
         "795"
        ],
        [
         "3307",
         "795"
        ],
        [
         "3330",
         "795"
        ],
        [
         "2038",
         "795"
        ],
        [
         "1277",
         "795"
        ],
        [
         "1937",
         "795"
        ],
        [
         "3586",
         "795"
        ],
        [
         "3534",
         "795"
        ],
        [
         "3296",
         "795"
        ],
        [
         "1253",
         "795"
        ],
        [
         "3567",
         "795"
        ],
        [
         "3292",
         "795"
        ],
        [
         "3272",
         "795"
        ],
        [
         "3622",
         "795"
        ],
        [
         "1676",
         "795"
        ],
        [
         "116",
         "798"
        ],
        [
         "673",
         "798"
        ],
        [
         "247",
         "798"
        ],
        [
         "260",
         "798"
        ],
        [
         "273",
         "798"
        ],
        [
         "996",
         "798"
        ],
        [
         "389",
         "798"
        ],
        [
         "6",
         "798"
        ],
        [
         "1099",
         "798"
        ],
        [
         "376",
         "798"
        ],
        [
         "846",
         "798"
        ],
        [
         "3235",
         "799"
        ]
       ],
       "shape": {
        "columns": 1,
        "rows": 3674
       }
      },
      "text/plain": [
       "3232      400\n",
       "3265      450\n",
       "1232      495\n",
       "3233      499\n",
       "3229      500\n",
       "        ...  \n",
       "3089    25995\n",
       "3217    25995\n",
       "3211    28240\n",
       "2923    30000\n",
       "3199    33900\n",
       "Name: Price, Length: 3674, dtype: int64"
      ]
     },
     "execution_count": 399,
     "metadata": {},
     "output_type": "execute_result"
    }
   ],
   "source": [
    "df_merge['Price'].sort_values()"
   ]
  },
  {
   "cell_type": "markdown",
   "id": "e3d5e24a",
   "metadata": {},
   "source": [
    "- Mileage(miles) 컬럼의 값들을 정렬하여 확인"
   ]
  },
  {
   "cell_type": "code",
   "execution_count": 400,
   "id": "d94edd4a",
   "metadata": {},
   "outputs": [
    {
     "data": {
      "application/vnd.microsoft.datawrangler.viewer.v0+json": {
       "columns": [
        {
         "name": "index",
         "rawType": "int64",
         "type": "integer"
        },
        {
         "name": "Mileage(miles)",
         "rawType": "int64",
         "type": "integer"
        }
       ],
       "ref": "294c2f15-400e-45a8-92fc-a26869a826ed",
       "rows": [
        [
         "3206",
         "1"
        ],
        [
         "3087",
         "1"
        ],
        [
         "2004",
         "6"
        ],
        [
         "3089",
         "222"
        ],
        [
         "2747",
         "1048"
        ],
        [
         "3222",
         "4000"
        ],
        [
         "2645",
         "4750"
        ],
        [
         "3214",
         "6461"
        ],
        [
         "2936",
         "6561"
        ],
        [
         "3147",
         "6669"
        ],
        [
         "2884",
         "7083"
        ],
        [
         "3181",
         "7794"
        ],
        [
         "3025",
         "8700"
        ],
        [
         "3177",
         "8720"
        ],
        [
         "3072",
         "8981"
        ],
        [
         "2938",
         "9000"
        ],
        [
         "2032",
         "9669"
        ],
        [
         "2170",
         "10067"
        ],
        [
         "2872",
         "10378"
        ],
        [
         "3138",
         "10424"
        ],
        [
         "2902",
         "10627"
        ],
        [
         "2313",
         "11500"
        ],
        [
         "2738",
         "11500"
        ],
        [
         "2314",
         "11500"
        ],
        [
         "2820",
         "11500"
        ],
        [
         "3008",
         "11500"
        ],
        [
         "2634",
         "11500"
        ],
        [
         "2776",
         "11500"
        ],
        [
         "2384",
         "11500"
        ],
        [
         "2301",
         "11500"
        ],
        [
         "3130",
         "11500"
        ],
        [
         "2941",
         "11500"
        ],
        [
         "2831",
         "11500"
        ],
        [
         "2583",
         "11500"
        ],
        [
         "3154",
         "11500"
        ],
        [
         "2594",
         "11500"
        ],
        [
         "3437",
         "11589"
        ],
        [
         "3402",
         "11589"
        ],
        [
         "3308",
         "11589"
        ],
        [
         "3624",
         "11589"
        ],
        [
         "3556",
         "11589"
        ],
        [
         "3425",
         "11589"
        ],
        [
         "3286",
         "11589"
        ],
        [
         "3115",
         "12080"
        ],
        [
         "2826",
         "12153"
        ],
        [
         "2946",
         "12214"
        ],
        [
         "3034",
         "12294"
        ],
        [
         "851",
         "12500"
        ],
        [
         "2824",
         "12592"
        ],
        [
         "3000",
         "12716"
        ]
       ],
       "shape": {
        "columns": 1,
        "rows": 3674
       }
      },
      "text/plain": [
       "3206          1\n",
       "3087          1\n",
       "2004          6\n",
       "3089        222\n",
       "2747       1048\n",
       "         ...   \n",
       "1253     274100\n",
       "1676     274100\n",
       "2038     274100\n",
       "1937     274100\n",
       "1031    1110100\n",
       "Name: Mileage(miles), Length: 3674, dtype: int64"
      ]
     },
     "execution_count": 400,
     "metadata": {},
     "output_type": "execute_result"
    }
   ],
   "source": [
    "df_merge['Mileage(miles)'].sort_values()"
   ]
  },
  {
   "cell_type": "markdown",
   "id": "d497c7a8",
   "metadata": {},
   "source": [
    "- Mileage 값이 1000 미만인 데이터 확인"
   ]
  },
  {
   "cell_type": "code",
   "execution_count": 401,
   "id": "cc8e0b76",
   "metadata": {},
   "outputs": [
    {
     "data": {
      "application/vnd.microsoft.datawrangler.viewer.v0+json": {
       "columns": [
        {
         "name": "index",
         "rawType": "int64",
         "type": "integer"
        },
        {
         "name": "title",
         "rawType": "object",
         "type": "string"
        },
        {
         "name": "Price",
         "rawType": "int64",
         "type": "integer"
        },
        {
         "name": "Mileage(miles)",
         "rawType": "int64",
         "type": "integer"
        },
        {
         "name": "Registration_Year",
         "rawType": "int64",
         "type": "integer"
        },
        {
         "name": "Previous Owners",
         "rawType": "float64",
         "type": "float"
        },
        {
         "name": "Fuel type",
         "rawType": "object",
         "type": "string"
        },
        {
         "name": "Body type",
         "rawType": "object",
         "type": "string"
        },
        {
         "name": "Engine",
         "rawType": "float64",
         "type": "float"
        },
        {
         "name": "Gearbox",
         "rawType": "object",
         "type": "string"
        },
        {
         "name": "Doors",
         "rawType": "float64",
         "type": "float"
        },
        {
         "name": "Seats",
         "rawType": "float64",
         "type": "float"
        },
        {
         "name": "Emission Class",
         "rawType": "Int64",
         "type": "integer"
        },
        {
         "name": "Service history",
         "rawType": "object",
         "type": "string"
        },
        {
         "name": "brand",
         "rawType": "object",
         "type": "string"
        },
        {
         "name": "country",
         "rawType": "object",
         "type": "string"
        }
       ],
       "ref": "755acb5c-1293-4a85-a468-fa43fb998b6e",
       "rows": [
        [
         "2004",
         "MG ZT",
         "15500",
         "6",
         "2004",
         "4.0",
         "Petrol",
         "Saloon",
         "1.8",
         "Manual",
         "4.0",
         "5.0",
         "3",
         "Unknown",
         "MG",
         "United Kingdom"
        ],
        [
         "3087",
         "MG MG ZS",
         "18365",
         "1",
         "2023",
         "3.0",
         "Petrol",
         "SUV",
         "1.5",
         "Manual",
         "5.0",
         "5.0",
         "6",
         "Unknown",
         "MG",
         "United Kingdom"
        ],
        [
         "3089",
         "SEAT ATECA",
         "25995",
         "222",
         "2023",
         "3.0",
         "Petrol",
         "SUV",
         "1.5",
         "Manual",
         "5.0",
         "5.0",
         "6",
         "Unknown",
         "SEAT",
         "Spain"
        ],
        [
         "3206",
         "MG MG ZS",
         "18515",
         "1",
         "2023",
         "3.0",
         "Petrol",
         "SUV",
         "1.5",
         "Manual",
         "5.0",
         "5.0",
         "6",
         "Unknown",
         "MG",
         "United Kingdom"
        ]
       ],
       "shape": {
        "columns": 15,
        "rows": 4
       }
      },
      "text/html": [
       "<div>\n",
       "<style scoped>\n",
       "    .dataframe tbody tr th:only-of-type {\n",
       "        vertical-align: middle;\n",
       "    }\n",
       "\n",
       "    .dataframe tbody tr th {\n",
       "        vertical-align: top;\n",
       "    }\n",
       "\n",
       "    .dataframe thead th {\n",
       "        text-align: right;\n",
       "    }\n",
       "</style>\n",
       "<table border=\"1\" class=\"dataframe\">\n",
       "  <thead>\n",
       "    <tr style=\"text-align: right;\">\n",
       "      <th></th>\n",
       "      <th>title</th>\n",
       "      <th>Price</th>\n",
       "      <th>Mileage(miles)</th>\n",
       "      <th>Registration_Year</th>\n",
       "      <th>Previous Owners</th>\n",
       "      <th>Fuel type</th>\n",
       "      <th>Body type</th>\n",
       "      <th>Engine</th>\n",
       "      <th>Gearbox</th>\n",
       "      <th>Doors</th>\n",
       "      <th>Seats</th>\n",
       "      <th>Emission Class</th>\n",
       "      <th>Service history</th>\n",
       "      <th>brand</th>\n",
       "      <th>country</th>\n",
       "    </tr>\n",
       "  </thead>\n",
       "  <tbody>\n",
       "    <tr>\n",
       "      <th>2004</th>\n",
       "      <td>MG ZT</td>\n",
       "      <td>15500</td>\n",
       "      <td>6</td>\n",
       "      <td>2004</td>\n",
       "      <td>4.0</td>\n",
       "      <td>Petrol</td>\n",
       "      <td>Saloon</td>\n",
       "      <td>1.8</td>\n",
       "      <td>Manual</td>\n",
       "      <td>4.0</td>\n",
       "      <td>5.0</td>\n",
       "      <td>3</td>\n",
       "      <td>Unknown</td>\n",
       "      <td>MG</td>\n",
       "      <td>United Kingdom</td>\n",
       "    </tr>\n",
       "    <tr>\n",
       "      <th>3087</th>\n",
       "      <td>MG MG ZS</td>\n",
       "      <td>18365</td>\n",
       "      <td>1</td>\n",
       "      <td>2023</td>\n",
       "      <td>3.0</td>\n",
       "      <td>Petrol</td>\n",
       "      <td>SUV</td>\n",
       "      <td>1.5</td>\n",
       "      <td>Manual</td>\n",
       "      <td>5.0</td>\n",
       "      <td>5.0</td>\n",
       "      <td>6</td>\n",
       "      <td>Unknown</td>\n",
       "      <td>MG</td>\n",
       "      <td>United Kingdom</td>\n",
       "    </tr>\n",
       "    <tr>\n",
       "      <th>3089</th>\n",
       "      <td>SEAT ATECA</td>\n",
       "      <td>25995</td>\n",
       "      <td>222</td>\n",
       "      <td>2023</td>\n",
       "      <td>3.0</td>\n",
       "      <td>Petrol</td>\n",
       "      <td>SUV</td>\n",
       "      <td>1.5</td>\n",
       "      <td>Manual</td>\n",
       "      <td>5.0</td>\n",
       "      <td>5.0</td>\n",
       "      <td>6</td>\n",
       "      <td>Unknown</td>\n",
       "      <td>SEAT</td>\n",
       "      <td>Spain</td>\n",
       "    </tr>\n",
       "    <tr>\n",
       "      <th>3206</th>\n",
       "      <td>MG MG ZS</td>\n",
       "      <td>18515</td>\n",
       "      <td>1</td>\n",
       "      <td>2023</td>\n",
       "      <td>3.0</td>\n",
       "      <td>Petrol</td>\n",
       "      <td>SUV</td>\n",
       "      <td>1.5</td>\n",
       "      <td>Manual</td>\n",
       "      <td>5.0</td>\n",
       "      <td>5.0</td>\n",
       "      <td>6</td>\n",
       "      <td>Unknown</td>\n",
       "      <td>MG</td>\n",
       "      <td>United Kingdom</td>\n",
       "    </tr>\n",
       "  </tbody>\n",
       "</table>\n",
       "</div>"
      ],
      "text/plain": [
       "           title  Price  Mileage(miles)  Registration_Year  Previous Owners  \\\n",
       "2004       MG ZT  15500               6               2004              4.0   \n",
       "3087    MG MG ZS  18365               1               2023              3.0   \n",
       "3089  SEAT ATECA  25995             222               2023              3.0   \n",
       "3206    MG MG ZS  18515               1               2023              3.0   \n",
       "\n",
       "     Fuel type Body type  Engine Gearbox  Doors  Seats  Emission Class  \\\n",
       "2004    Petrol    Saloon     1.8  Manual    4.0    5.0               3   \n",
       "3087    Petrol       SUV     1.5  Manual    5.0    5.0               6   \n",
       "3089    Petrol       SUV     1.5  Manual    5.0    5.0               6   \n",
       "3206    Petrol       SUV     1.5  Manual    5.0    5.0               6   \n",
       "\n",
       "     Service history brand         country  \n",
       "2004         Unknown    MG  United Kingdom  \n",
       "3087         Unknown    MG  United Kingdom  \n",
       "3089         Unknown  SEAT           Spain  \n",
       "3206         Unknown    MG  United Kingdom  "
      ]
     },
     "execution_count": 401,
     "metadata": {},
     "output_type": "execute_result"
    }
   ],
   "source": [
    "df_merge.loc[ df_merge['Mileage(miles)'] < 1000 , : ]"
   ]
  },
  {
   "cell_type": "markdown",
   "id": "5ae8906f",
   "metadata": {},
   "source": [
    "- Mileage(miles) 컬럼의 값이 1000 이하인 데이터를 제거"
   ]
  },
  {
   "cell_type": "code",
   "execution_count": 402,
   "id": "d5e8ca55",
   "metadata": {},
   "outputs": [],
   "source": [
    "df_merge = df_merge.loc[ df_merge['Mileage(miles)'] > 1000 , : ]"
   ]
  },
  {
   "cell_type": "markdown",
   "id": "872816cc",
   "metadata": {},
   "source": [
    "- Registration_Year 컬럼 값이 2025 미만인 데이터만 추출"
   ]
  },
  {
   "cell_type": "code",
   "execution_count": 403,
   "id": "52567983",
   "metadata": {},
   "outputs": [],
   "source": [
    "df_merge = df_merge.loc[ df_merge['Registration_Year'] < 2025 , : ]"
   ]
  },
  {
   "cell_type": "markdown",
   "id": "b5822937",
   "metadata": {},
   "source": [
    "- brand 컬럼의 값에 따라 데이터를 그룹화하여 Price의 평균, 표준편차 계산"
   ]
  },
  {
   "cell_type": "code",
   "execution_count": 404,
   "id": "b188295a",
   "metadata": {},
   "outputs": [
    {
     "data": {
      "application/vnd.microsoft.datawrangler.viewer.v0+json": {
       "columns": [
        {
         "name": "index",
         "rawType": "int64",
         "type": "integer"
        },
        {
         "name": "brand",
         "rawType": "object",
         "type": "string"
        },
        {
         "name": "mean",
         "rawType": "float64",
         "type": "float"
        },
        {
         "name": "std",
         "rawType": "float64",
         "type": "float"
        }
       ],
       "ref": "bf2a85ac-2c6f-4423-a6bb-46104d06abe6",
       "rows": [
        [
         "0",
         "ABARTH",
         "11216.333333333334",
         "6039.482621328862"
        ],
        [
         "1",
         "ALFA",
         "3197.3888888888887",
         "2495.6948139897163"
        ],
        [
         "2",
         "AUDI",
         "7719.527397260274",
         "4866.621560136871"
        ],
        [
         "3",
         "BMW",
         "8325.981343283582",
         "6036.639654476874"
        ],
        [
         "4",
         "CHEVROLET",
         "3331.6428571428573",
         "1306.4531907268777"
        ],
        [
         "5",
         "CHRYSLER",
         "2433.8",
         "796.0431520966687"
        ],
        [
         "6",
         "CITROEN",
         "4652.873684210526",
         "3291.7458351836713"
        ],
        [
         "7",
         "DACIA",
         "7439.571428571428",
         "3647.7343382156823"
        ],
        [
         "8",
         "DAEWOO",
         "995.0",
         null
        ],
        [
         "9",
         "DAIHATSU",
         "1695.0",
         "282.842712474619"
        ],
        [
         "10",
         "DODGE",
         "3250.0",
         null
        ],
        [
         "11",
         "DS",
         "14293.833333333334",
         "7117.793490026714"
        ],
        [
         "12",
         "FIAT",
         "4115.359223300971",
         "2352.965329171202"
        ],
        [
         "13",
         "FORD",
         "4859.144254278729",
         "3641.4006915329383"
        ],
        [
         "14",
         "HONDA",
         "3871.953703703704",
         "2954.578029818339"
        ],
        [
         "15",
         "HYUNDAI",
         "4997.118279569892",
         "3881.244925360996"
        ],
        [
         "16",
         "INFINITI",
         "8625.714285714286",
         "1925.935418983523"
        ],
        [
         "17",
         "ISUZU",
         "2250.0",
         null
        ],
        [
         "18",
         "JAGUAR",
         "8680.766666666666",
         "4615.3434562923085"
        ],
        [
         "19",
         "JEEP",
         "2949.4444444444443",
         "3012.0491824964906"
        ],
        [
         "20",
         "KIA",
         "7733.073170731707",
         "4010.2190352435023"
        ],
        [
         "21",
         "LAGONDA",
         "14995.0",
         null
        ],
        [
         "22",
         "LAND",
         "10741.42857142857",
         "7919.4280849867755"
        ],
        [
         "23",
         "LEXUS",
         "4213.222222222223",
         "2166.570664539803"
        ],
        [
         "24",
         "MARCOS",
         "11495.0",
         null
        ],
        [
         "25",
         "MASERATI",
         "13300.0",
         "3044.6674695276656"
        ],
        [
         "26",
         "MAZDA",
         "5489.528301886792",
         "4458.803175067418"
        ],
        [
         "27",
         "MERCEDES-BENZ",
         "7703.041666666667",
         "5530.324245081704"
        ],
        [
         "28",
         "MG",
         "5622.285714285715",
         "7405.182098015004"
        ],
        [
         "29",
         "MINI",
         "6480.1752577319585",
         "3885.228516472973"
        ],
        [
         "30",
         "MITSUBISHI",
         "3061.71875",
         "3432.8488614332473"
        ],
        [
         "31",
         "NISSAN",
         "6529.4157303370785",
         "3970.426951408919"
        ],
        [
         "32",
         "PEUGEOT",
         "5463.955102040816",
         "4315.582212163629"
        ],
        [
         "33",
         "PORSCHE",
         "5451.666666666667",
         "3488.6613956263127"
        ],
        [
         "34",
         "PROTON",
         "2226.6666666666665",
         "1571.466936761106"
        ],
        [
         "35",
         "RENAULT",
         "5623.371428571429",
         "4175.557581912701"
        ],
        [
         "36",
         "ROVER",
         "2382.8",
         "984.8726821269844"
        ],
        [
         "37",
         "SAAB",
         "2983.4285714285716",
         "1425.3978224976186"
        ],
        [
         "38",
         "SEAT",
         "4522.389830508475",
         "3468.099504483435"
        ],
        [
         "39",
         "SKODA",
         "5569.619047619048",
         "3347.865137900095"
        ],
        [
         "40",
         "SMART",
         "5621.25",
         "792.7313016821441"
        ],
        [
         "41",
         "SSANGYONG",
         "8636.0",
         "6164.556918384322"
        ],
        [
         "42",
         "SUBARU",
         "3376.3636363636365",
         "1850.9512296507044"
        ],
        [
         "43",
         "SUZUKI",
         "5076.8536585365855",
         "3687.6740742707707"
        ],
        [
         "44",
         "TOYOTA",
         "5282.5440414507775",
         "4087.34576026248"
        ],
        [
         "45",
         "VAUXHALL",
         "4658.207650273224",
         "3350.9544577583506"
        ],
        [
         "46",
         "VOLKSWAGEN",
         "6513.217712177122",
         "5005.653199746218"
        ],
        [
         "47",
         "VOLVO",
         "3755.2820512820513",
         "2613.0624697823732"
        ]
       ],
       "shape": {
        "columns": 3,
        "rows": 48
       }
      },
      "text/html": [
       "<div>\n",
       "<style scoped>\n",
       "    .dataframe tbody tr th:only-of-type {\n",
       "        vertical-align: middle;\n",
       "    }\n",
       "\n",
       "    .dataframe tbody tr th {\n",
       "        vertical-align: top;\n",
       "    }\n",
       "\n",
       "    .dataframe thead th {\n",
       "        text-align: right;\n",
       "    }\n",
       "</style>\n",
       "<table border=\"1\" class=\"dataframe\">\n",
       "  <thead>\n",
       "    <tr style=\"text-align: right;\">\n",
       "      <th></th>\n",
       "      <th>brand</th>\n",
       "      <th>mean</th>\n",
       "      <th>std</th>\n",
       "    </tr>\n",
       "  </thead>\n",
       "  <tbody>\n",
       "    <tr>\n",
       "      <th>0</th>\n",
       "      <td>ABARTH</td>\n",
       "      <td>11216.333333</td>\n",
       "      <td>6039.482621</td>\n",
       "    </tr>\n",
       "    <tr>\n",
       "      <th>1</th>\n",
       "      <td>ALFA</td>\n",
       "      <td>3197.388889</td>\n",
       "      <td>2495.694814</td>\n",
       "    </tr>\n",
       "    <tr>\n",
       "      <th>2</th>\n",
       "      <td>AUDI</td>\n",
       "      <td>7719.527397</td>\n",
       "      <td>4866.621560</td>\n",
       "    </tr>\n",
       "    <tr>\n",
       "      <th>3</th>\n",
       "      <td>BMW</td>\n",
       "      <td>8325.981343</td>\n",
       "      <td>6036.639654</td>\n",
       "    </tr>\n",
       "    <tr>\n",
       "      <th>4</th>\n",
       "      <td>CHEVROLET</td>\n",
       "      <td>3331.642857</td>\n",
       "      <td>1306.453191</td>\n",
       "    </tr>\n",
       "    <tr>\n",
       "      <th>5</th>\n",
       "      <td>CHRYSLER</td>\n",
       "      <td>2433.800000</td>\n",
       "      <td>796.043152</td>\n",
       "    </tr>\n",
       "    <tr>\n",
       "      <th>6</th>\n",
       "      <td>CITROEN</td>\n",
       "      <td>4652.873684</td>\n",
       "      <td>3291.745835</td>\n",
       "    </tr>\n",
       "    <tr>\n",
       "      <th>7</th>\n",
       "      <td>DACIA</td>\n",
       "      <td>7439.571429</td>\n",
       "      <td>3647.734338</td>\n",
       "    </tr>\n",
       "    <tr>\n",
       "      <th>8</th>\n",
       "      <td>DAEWOO</td>\n",
       "      <td>995.000000</td>\n",
       "      <td>NaN</td>\n",
       "    </tr>\n",
       "    <tr>\n",
       "      <th>9</th>\n",
       "      <td>DAIHATSU</td>\n",
       "      <td>1695.000000</td>\n",
       "      <td>282.842712</td>\n",
       "    </tr>\n",
       "    <tr>\n",
       "      <th>10</th>\n",
       "      <td>DODGE</td>\n",
       "      <td>3250.000000</td>\n",
       "      <td>NaN</td>\n",
       "    </tr>\n",
       "    <tr>\n",
       "      <th>11</th>\n",
       "      <td>DS</td>\n",
       "      <td>14293.833333</td>\n",
       "      <td>7117.793490</td>\n",
       "    </tr>\n",
       "    <tr>\n",
       "      <th>12</th>\n",
       "      <td>FIAT</td>\n",
       "      <td>4115.359223</td>\n",
       "      <td>2352.965329</td>\n",
       "    </tr>\n",
       "    <tr>\n",
       "      <th>13</th>\n",
       "      <td>FORD</td>\n",
       "      <td>4859.144254</td>\n",
       "      <td>3641.400692</td>\n",
       "    </tr>\n",
       "    <tr>\n",
       "      <th>14</th>\n",
       "      <td>HONDA</td>\n",
       "      <td>3871.953704</td>\n",
       "      <td>2954.578030</td>\n",
       "    </tr>\n",
       "    <tr>\n",
       "      <th>15</th>\n",
       "      <td>HYUNDAI</td>\n",
       "      <td>4997.118280</td>\n",
       "      <td>3881.244925</td>\n",
       "    </tr>\n",
       "    <tr>\n",
       "      <th>16</th>\n",
       "      <td>INFINITI</td>\n",
       "      <td>8625.714286</td>\n",
       "      <td>1925.935419</td>\n",
       "    </tr>\n",
       "    <tr>\n",
       "      <th>17</th>\n",
       "      <td>ISUZU</td>\n",
       "      <td>2250.000000</td>\n",
       "      <td>NaN</td>\n",
       "    </tr>\n",
       "    <tr>\n",
       "      <th>18</th>\n",
       "      <td>JAGUAR</td>\n",
       "      <td>8680.766667</td>\n",
       "      <td>4615.343456</td>\n",
       "    </tr>\n",
       "    <tr>\n",
       "      <th>19</th>\n",
       "      <td>JEEP</td>\n",
       "      <td>2949.444444</td>\n",
       "      <td>3012.049182</td>\n",
       "    </tr>\n",
       "    <tr>\n",
       "      <th>20</th>\n",
       "      <td>KIA</td>\n",
       "      <td>7733.073171</td>\n",
       "      <td>4010.219035</td>\n",
       "    </tr>\n",
       "    <tr>\n",
       "      <th>21</th>\n",
       "      <td>LAGONDA</td>\n",
       "      <td>14995.000000</td>\n",
       "      <td>NaN</td>\n",
       "    </tr>\n",
       "    <tr>\n",
       "      <th>22</th>\n",
       "      <td>LAND</td>\n",
       "      <td>10741.428571</td>\n",
       "      <td>7919.428085</td>\n",
       "    </tr>\n",
       "    <tr>\n",
       "      <th>23</th>\n",
       "      <td>LEXUS</td>\n",
       "      <td>4213.222222</td>\n",
       "      <td>2166.570665</td>\n",
       "    </tr>\n",
       "    <tr>\n",
       "      <th>24</th>\n",
       "      <td>MARCOS</td>\n",
       "      <td>11495.000000</td>\n",
       "      <td>NaN</td>\n",
       "    </tr>\n",
       "    <tr>\n",
       "      <th>25</th>\n",
       "      <td>MASERATI</td>\n",
       "      <td>13300.000000</td>\n",
       "      <td>3044.667470</td>\n",
       "    </tr>\n",
       "    <tr>\n",
       "      <th>26</th>\n",
       "      <td>MAZDA</td>\n",
       "      <td>5489.528302</td>\n",
       "      <td>4458.803175</td>\n",
       "    </tr>\n",
       "    <tr>\n",
       "      <th>27</th>\n",
       "      <td>MERCEDES-BENZ</td>\n",
       "      <td>7703.041667</td>\n",
       "      <td>5530.324245</td>\n",
       "    </tr>\n",
       "    <tr>\n",
       "      <th>28</th>\n",
       "      <td>MG</td>\n",
       "      <td>5622.285714</td>\n",
       "      <td>7405.182098</td>\n",
       "    </tr>\n",
       "    <tr>\n",
       "      <th>29</th>\n",
       "      <td>MINI</td>\n",
       "      <td>6480.175258</td>\n",
       "      <td>3885.228516</td>\n",
       "    </tr>\n",
       "    <tr>\n",
       "      <th>30</th>\n",
       "      <td>MITSUBISHI</td>\n",
       "      <td>3061.718750</td>\n",
       "      <td>3432.848861</td>\n",
       "    </tr>\n",
       "    <tr>\n",
       "      <th>31</th>\n",
       "      <td>NISSAN</td>\n",
       "      <td>6529.415730</td>\n",
       "      <td>3970.426951</td>\n",
       "    </tr>\n",
       "    <tr>\n",
       "      <th>32</th>\n",
       "      <td>PEUGEOT</td>\n",
       "      <td>5463.955102</td>\n",
       "      <td>4315.582212</td>\n",
       "    </tr>\n",
       "    <tr>\n",
       "      <th>33</th>\n",
       "      <td>PORSCHE</td>\n",
       "      <td>5451.666667</td>\n",
       "      <td>3488.661396</td>\n",
       "    </tr>\n",
       "    <tr>\n",
       "      <th>34</th>\n",
       "      <td>PROTON</td>\n",
       "      <td>2226.666667</td>\n",
       "      <td>1571.466937</td>\n",
       "    </tr>\n",
       "    <tr>\n",
       "      <th>35</th>\n",
       "      <td>RENAULT</td>\n",
       "      <td>5623.371429</td>\n",
       "      <td>4175.557582</td>\n",
       "    </tr>\n",
       "    <tr>\n",
       "      <th>36</th>\n",
       "      <td>ROVER</td>\n",
       "      <td>2382.800000</td>\n",
       "      <td>984.872682</td>\n",
       "    </tr>\n",
       "    <tr>\n",
       "      <th>37</th>\n",
       "      <td>SAAB</td>\n",
       "      <td>2983.428571</td>\n",
       "      <td>1425.397822</td>\n",
       "    </tr>\n",
       "    <tr>\n",
       "      <th>38</th>\n",
       "      <td>SEAT</td>\n",
       "      <td>4522.389831</td>\n",
       "      <td>3468.099504</td>\n",
       "    </tr>\n",
       "    <tr>\n",
       "      <th>39</th>\n",
       "      <td>SKODA</td>\n",
       "      <td>5569.619048</td>\n",
       "      <td>3347.865138</td>\n",
       "    </tr>\n",
       "    <tr>\n",
       "      <th>40</th>\n",
       "      <td>SMART</td>\n",
       "      <td>5621.250000</td>\n",
       "      <td>792.731302</td>\n",
       "    </tr>\n",
       "    <tr>\n",
       "      <th>41</th>\n",
       "      <td>SSANGYONG</td>\n",
       "      <td>8636.000000</td>\n",
       "      <td>6164.556918</td>\n",
       "    </tr>\n",
       "    <tr>\n",
       "      <th>42</th>\n",
       "      <td>SUBARU</td>\n",
       "      <td>3376.363636</td>\n",
       "      <td>1850.951230</td>\n",
       "    </tr>\n",
       "    <tr>\n",
       "      <th>43</th>\n",
       "      <td>SUZUKI</td>\n",
       "      <td>5076.853659</td>\n",
       "      <td>3687.674074</td>\n",
       "    </tr>\n",
       "    <tr>\n",
       "      <th>44</th>\n",
       "      <td>TOYOTA</td>\n",
       "      <td>5282.544041</td>\n",
       "      <td>4087.345760</td>\n",
       "    </tr>\n",
       "    <tr>\n",
       "      <th>45</th>\n",
       "      <td>VAUXHALL</td>\n",
       "      <td>4658.207650</td>\n",
       "      <td>3350.954458</td>\n",
       "    </tr>\n",
       "    <tr>\n",
       "      <th>46</th>\n",
       "      <td>VOLKSWAGEN</td>\n",
       "      <td>6513.217712</td>\n",
       "      <td>5005.653200</td>\n",
       "    </tr>\n",
       "    <tr>\n",
       "      <th>47</th>\n",
       "      <td>VOLVO</td>\n",
       "      <td>3755.282051</td>\n",
       "      <td>2613.062470</td>\n",
       "    </tr>\n",
       "  </tbody>\n",
       "</table>\n",
       "</div>"
      ],
      "text/plain": [
       "            brand          mean          std\n",
       "0          ABARTH  11216.333333  6039.482621\n",
       "1            ALFA   3197.388889  2495.694814\n",
       "2            AUDI   7719.527397  4866.621560\n",
       "3             BMW   8325.981343  6036.639654\n",
       "4       CHEVROLET   3331.642857  1306.453191\n",
       "5        CHRYSLER   2433.800000   796.043152\n",
       "6         CITROEN   4652.873684  3291.745835\n",
       "7           DACIA   7439.571429  3647.734338\n",
       "8          DAEWOO    995.000000          NaN\n",
       "9        DAIHATSU   1695.000000   282.842712\n",
       "10          DODGE   3250.000000          NaN\n",
       "11             DS  14293.833333  7117.793490\n",
       "12           FIAT   4115.359223  2352.965329\n",
       "13           FORD   4859.144254  3641.400692\n",
       "14          HONDA   3871.953704  2954.578030\n",
       "15        HYUNDAI   4997.118280  3881.244925\n",
       "16       INFINITI   8625.714286  1925.935419\n",
       "17          ISUZU   2250.000000          NaN\n",
       "18         JAGUAR   8680.766667  4615.343456\n",
       "19           JEEP   2949.444444  3012.049182\n",
       "20            KIA   7733.073171  4010.219035\n",
       "21        LAGONDA  14995.000000          NaN\n",
       "22           LAND  10741.428571  7919.428085\n",
       "23          LEXUS   4213.222222  2166.570665\n",
       "24         MARCOS  11495.000000          NaN\n",
       "25       MASERATI  13300.000000  3044.667470\n",
       "26          MAZDA   5489.528302  4458.803175\n",
       "27  MERCEDES-BENZ   7703.041667  5530.324245\n",
       "28             MG   5622.285714  7405.182098\n",
       "29           MINI   6480.175258  3885.228516\n",
       "30     MITSUBISHI   3061.718750  3432.848861\n",
       "31         NISSAN   6529.415730  3970.426951\n",
       "32        PEUGEOT   5463.955102  4315.582212\n",
       "33        PORSCHE   5451.666667  3488.661396\n",
       "34         PROTON   2226.666667  1571.466937\n",
       "35        RENAULT   5623.371429  4175.557582\n",
       "36          ROVER   2382.800000   984.872682\n",
       "37           SAAB   2983.428571  1425.397822\n",
       "38           SEAT   4522.389831  3468.099504\n",
       "39          SKODA   5569.619048  3347.865138\n",
       "40          SMART   5621.250000   792.731302\n",
       "41      SSANGYONG   8636.000000  6164.556918\n",
       "42         SUBARU   3376.363636  1850.951230\n",
       "43         SUZUKI   5076.853659  3687.674074\n",
       "44         TOYOTA   5282.544041  4087.345760\n",
       "45       VAUXHALL   4658.207650  3350.954458\n",
       "46     VOLKSWAGEN   6513.217712  5005.653200\n",
       "47          VOLVO   3755.282051  2613.062470"
      ]
     },
     "execution_count": 404,
     "metadata": {},
     "output_type": "execute_result"
    }
   ],
   "source": [
    "df_merge.groupby(by='brand', as_index=False)['Price'].agg(['mean', 'std'])"
   ]
  },
  {
   "cell_type": "markdown",
   "id": "b5dc48ec",
   "metadata": {},
   "source": [
    "- brand와 Fuel type 컬럼을 기준으로 Price 값의 피벗 테이블 생성"
   ]
  },
  {
   "cell_type": "code",
   "execution_count": 405,
   "id": "1bb708f7",
   "metadata": {},
   "outputs": [
    {
     "data": {
      "application/vnd.microsoft.datawrangler.viewer.v0+json": {
       "columns": [
        {
         "name": "brand",
         "rawType": "object",
         "type": "string"
        },
        {
         "name": "Diesel",
         "rawType": "float64",
         "type": "float"
        },
        {
         "name": "Diesel Hybrid",
         "rawType": "float64",
         "type": "float"
        },
        {
         "name": "Electric",
         "rawType": "float64",
         "type": "float"
        },
        {
         "name": "Petrol",
         "rawType": "float64",
         "type": "float"
        },
        {
         "name": "Petrol Hybrid",
         "rawType": "float64",
         "type": "float"
        },
        {
         "name": "Petrol Plug-in Hybrid",
         "rawType": "float64",
         "type": "float"
        }
       ],
       "ref": "48fbbe5c-dd64-4dce-9c6d-c73dd5bb0cea",
       "rows": [
        [
         "ABARTH",
         null,
         null,
         null,
         "11216.333333333334",
         null,
         null
        ],
        [
         "ALFA",
         "4214.666666666667",
         null,
         null,
         "2688.75",
         null,
         null
        ],
        [
         "AUDI",
         "8731.301204819278",
         null,
         null,
         "6386.555555555556",
         null,
         null
        ],
        [
         "BMW",
         "7342.022222222222",
         "23220.0",
         null,
         "7058.48623853211",
         null,
         "19460.652173913044"
        ],
        [
         "CHEVROLET",
         "5249.5",
         null,
         null,
         "3012.0",
         null,
         null
        ],
        [
         "CHRYSLER",
         null,
         null,
         null,
         "2433.8",
         null,
         null
        ],
        [
         "CITROEN",
         "4026.891891891892",
         null,
         null,
         "5052.206896551724",
         null,
         null
        ],
        [
         "DACIA",
         "6754.6",
         null,
         null,
         "7820.111111111111",
         null,
         null
        ],
        [
         "DAEWOO",
         null,
         null,
         null,
         "995.0",
         null,
         null
        ],
        [
         "DAIHATSU",
         null,
         null,
         null,
         "1695.0",
         null,
         null
        ],
        [
         "DODGE",
         null,
         null,
         null,
         "3250.0",
         null,
         null
        ],
        [
         "DS",
         "14025.0",
         null,
         null,
         "10981.0",
         null,
         "24770.0"
        ],
        [
         "FIAT",
         "5036.777777777777",
         null,
         null,
         "4027.1382978723404",
         null,
         null
        ],
        [
         "FORD",
         "5567.482758620689",
         null,
         null,
         "4578.709897610922",
         null,
         null
        ],
        [
         "HONDA",
         "6361.321428571428",
         null,
         null,
         "2884.12",
         "4749.0",
         null
        ],
        [
         "HYUNDAI",
         "5815.222222222223",
         null,
         null,
         "4440.534246575343",
         "17949.5",
         null
        ],
        [
         "INFINITI",
         "8582.0",
         null,
         null,
         "8888.0",
         null,
         null
        ],
        [
         "ISUZU",
         "2250.0",
         null,
         null,
         null,
         null,
         null
        ],
        [
         "JAGUAR",
         "8717.807692307691",
         null,
         null,
         "8440.0",
         null,
         null
        ],
        [
         "JEEP",
         "1915.8333333333333",
         null,
         null,
         "5016.666666666667",
         null,
         null
        ],
        [
         "KIA",
         "7103.0",
         null,
         null,
         "7858.075471698113",
         "18750.0",
         null
        ],
        [
         "LAGONDA",
         null,
         null,
         null,
         "14995.0",
         null,
         null
        ],
        [
         "LAND",
         "11336.833333333334",
         null,
         null,
         "7169.0",
         null,
         null
        ],
        [
         "LEXUS",
         null,
         null,
         null,
         "4209.857142857143",
         "4225.0",
         null
        ],
        [
         "MARCOS",
         null,
         null,
         null,
         "11495.0",
         null,
         null
        ],
        [
         "MASERATI",
         "13900.0",
         null,
         null,
         "13000.0",
         null,
         null
        ],
        [
         "MAZDA",
         "6725.0",
         null,
         "13899.0",
         "4952.951219512195",
         null,
         null
        ],
        [
         "MERCEDES-BENZ",
         "7243.145833333333",
         null,
         null,
         "8316.236111111111",
         null,
         null
        ],
        [
         "MG",
         null,
         null,
         null,
         "5622.285714285715",
         null,
         null
        ],
        [
         "MINI",
         "6334.785714285715",
         null,
         null,
         "6504.698795180723",
         null,
         null
        ],
        [
         "MITSUBISHI",
         "2440.7619047619046",
         null,
         null,
         "4247.181818181818",
         null,
         null
        ],
        [
         "NISSAN",
         "6679.38",
         null,
         "5390.0",
         "6787.444444444444",
         null,
         null
        ],
        [
         "PEUGEOT",
         "6438.769841269841",
         null,
         null,
         "4431.798319327731",
         null,
         null
        ],
        [
         "PORSCHE",
         "8105.0",
         null,
         null,
         "4125.0",
         null,
         null
        ],
        [
         "PROTON",
         null,
         null,
         null,
         "2226.6666666666665",
         null,
         null
        ],
        [
         "RENAULT",
         "4312.788461538462",
         null,
         null,
         "6177.4390243902435",
         null,
         null
        ],
        [
         "ROVER",
         null,
         null,
         null,
         "2382.8",
         null,
         null
        ],
        [
         "SAAB",
         null,
         null,
         null,
         "2983.4285714285716",
         null,
         null
        ],
        [
         "SEAT",
         "5917.0",
         null,
         null,
         "4046.9545454545455",
         null,
         null
        ],
        [
         "SKODA",
         "5364.9",
         null,
         null,
         "5925.652173913043",
         null,
         null
        ],
        [
         "SMART",
         "5400.0",
         null,
         null,
         "5695.0",
         null,
         null
        ],
        [
         "SSANGYONG",
         "8636.0",
         null,
         null,
         null,
         null,
         null
        ],
        [
         "SUBARU",
         "4990.0",
         null,
         null,
         "3215.0",
         null,
         null
        ],
        [
         "SUZUKI",
         "6886.0",
         null,
         null,
         "3507.451612903226",
         "10706.0",
         null
        ],
        [
         "TOYOTA",
         "3180.92",
         null,
         null,
         "4368.142857142857",
         "11731.0",
         null
        ],
        [
         "VAUXHALL",
         "4341.878504672897",
         null,
         "13998.0",
         "4702.904545454546",
         null,
         "9499.0"
        ],
        [
         "VOLKSWAGEN",
         "5466.855555555556",
         null,
         null,
         "6985.865921787709",
         null,
         "11297.5"
        ],
        [
         "VOLVO",
         "4465.045454545455",
         null,
         null,
         "2836.764705882353",
         null,
         null
        ]
       ],
       "shape": {
        "columns": 6,
        "rows": 48
       }
      },
      "text/html": [
       "<div>\n",
       "<style scoped>\n",
       "    .dataframe tbody tr th:only-of-type {\n",
       "        vertical-align: middle;\n",
       "    }\n",
       "\n",
       "    .dataframe tbody tr th {\n",
       "        vertical-align: top;\n",
       "    }\n",
       "\n",
       "    .dataframe thead th {\n",
       "        text-align: right;\n",
       "    }\n",
       "</style>\n",
       "<table border=\"1\" class=\"dataframe\">\n",
       "  <thead>\n",
       "    <tr style=\"text-align: right;\">\n",
       "      <th>Fuel type</th>\n",
       "      <th>Diesel</th>\n",
       "      <th>Diesel Hybrid</th>\n",
       "      <th>Electric</th>\n",
       "      <th>Petrol</th>\n",
       "      <th>Petrol Hybrid</th>\n",
       "      <th>Petrol Plug-in Hybrid</th>\n",
       "    </tr>\n",
       "    <tr>\n",
       "      <th>brand</th>\n",
       "      <th></th>\n",
       "      <th></th>\n",
       "      <th></th>\n",
       "      <th></th>\n",
       "      <th></th>\n",
       "      <th></th>\n",
       "    </tr>\n",
       "  </thead>\n",
       "  <tbody>\n",
       "    <tr>\n",
       "      <th>ABARTH</th>\n",
       "      <td>NaN</td>\n",
       "      <td>NaN</td>\n",
       "      <td>NaN</td>\n",
       "      <td>11216.333333</td>\n",
       "      <td>NaN</td>\n",
       "      <td>NaN</td>\n",
       "    </tr>\n",
       "    <tr>\n",
       "      <th>ALFA</th>\n",
       "      <td>4214.666667</td>\n",
       "      <td>NaN</td>\n",
       "      <td>NaN</td>\n",
       "      <td>2688.750000</td>\n",
       "      <td>NaN</td>\n",
       "      <td>NaN</td>\n",
       "    </tr>\n",
       "    <tr>\n",
       "      <th>AUDI</th>\n",
       "      <td>8731.301205</td>\n",
       "      <td>NaN</td>\n",
       "      <td>NaN</td>\n",
       "      <td>6386.555556</td>\n",
       "      <td>NaN</td>\n",
       "      <td>NaN</td>\n",
       "    </tr>\n",
       "    <tr>\n",
       "      <th>BMW</th>\n",
       "      <td>7342.022222</td>\n",
       "      <td>23220.0</td>\n",
       "      <td>NaN</td>\n",
       "      <td>7058.486239</td>\n",
       "      <td>NaN</td>\n",
       "      <td>19460.652174</td>\n",
       "    </tr>\n",
       "    <tr>\n",
       "      <th>CHEVROLET</th>\n",
       "      <td>5249.500000</td>\n",
       "      <td>NaN</td>\n",
       "      <td>NaN</td>\n",
       "      <td>3012.000000</td>\n",
       "      <td>NaN</td>\n",
       "      <td>NaN</td>\n",
       "    </tr>\n",
       "    <tr>\n",
       "      <th>CHRYSLER</th>\n",
       "      <td>NaN</td>\n",
       "      <td>NaN</td>\n",
       "      <td>NaN</td>\n",
       "      <td>2433.800000</td>\n",
       "      <td>NaN</td>\n",
       "      <td>NaN</td>\n",
       "    </tr>\n",
       "    <tr>\n",
       "      <th>CITROEN</th>\n",
       "      <td>4026.891892</td>\n",
       "      <td>NaN</td>\n",
       "      <td>NaN</td>\n",
       "      <td>5052.206897</td>\n",
       "      <td>NaN</td>\n",
       "      <td>NaN</td>\n",
       "    </tr>\n",
       "    <tr>\n",
       "      <th>DACIA</th>\n",
       "      <td>6754.600000</td>\n",
       "      <td>NaN</td>\n",
       "      <td>NaN</td>\n",
       "      <td>7820.111111</td>\n",
       "      <td>NaN</td>\n",
       "      <td>NaN</td>\n",
       "    </tr>\n",
       "    <tr>\n",
       "      <th>DAEWOO</th>\n",
       "      <td>NaN</td>\n",
       "      <td>NaN</td>\n",
       "      <td>NaN</td>\n",
       "      <td>995.000000</td>\n",
       "      <td>NaN</td>\n",
       "      <td>NaN</td>\n",
       "    </tr>\n",
       "    <tr>\n",
       "      <th>DAIHATSU</th>\n",
       "      <td>NaN</td>\n",
       "      <td>NaN</td>\n",
       "      <td>NaN</td>\n",
       "      <td>1695.000000</td>\n",
       "      <td>NaN</td>\n",
       "      <td>NaN</td>\n",
       "    </tr>\n",
       "    <tr>\n",
       "      <th>DODGE</th>\n",
       "      <td>NaN</td>\n",
       "      <td>NaN</td>\n",
       "      <td>NaN</td>\n",
       "      <td>3250.000000</td>\n",
       "      <td>NaN</td>\n",
       "      <td>NaN</td>\n",
       "    </tr>\n",
       "    <tr>\n",
       "      <th>DS</th>\n",
       "      <td>14025.000000</td>\n",
       "      <td>NaN</td>\n",
       "      <td>NaN</td>\n",
       "      <td>10981.000000</td>\n",
       "      <td>NaN</td>\n",
       "      <td>24770.000000</td>\n",
       "    </tr>\n",
       "    <tr>\n",
       "      <th>FIAT</th>\n",
       "      <td>5036.777778</td>\n",
       "      <td>NaN</td>\n",
       "      <td>NaN</td>\n",
       "      <td>4027.138298</td>\n",
       "      <td>NaN</td>\n",
       "      <td>NaN</td>\n",
       "    </tr>\n",
       "    <tr>\n",
       "      <th>FORD</th>\n",
       "      <td>5567.482759</td>\n",
       "      <td>NaN</td>\n",
       "      <td>NaN</td>\n",
       "      <td>4578.709898</td>\n",
       "      <td>NaN</td>\n",
       "      <td>NaN</td>\n",
       "    </tr>\n",
       "    <tr>\n",
       "      <th>HONDA</th>\n",
       "      <td>6361.321429</td>\n",
       "      <td>NaN</td>\n",
       "      <td>NaN</td>\n",
       "      <td>2884.120000</td>\n",
       "      <td>4749.0</td>\n",
       "      <td>NaN</td>\n",
       "    </tr>\n",
       "    <tr>\n",
       "      <th>HYUNDAI</th>\n",
       "      <td>5815.222222</td>\n",
       "      <td>NaN</td>\n",
       "      <td>NaN</td>\n",
       "      <td>4440.534247</td>\n",
       "      <td>17949.5</td>\n",
       "      <td>NaN</td>\n",
       "    </tr>\n",
       "    <tr>\n",
       "      <th>INFINITI</th>\n",
       "      <td>8582.000000</td>\n",
       "      <td>NaN</td>\n",
       "      <td>NaN</td>\n",
       "      <td>8888.000000</td>\n",
       "      <td>NaN</td>\n",
       "      <td>NaN</td>\n",
       "    </tr>\n",
       "    <tr>\n",
       "      <th>ISUZU</th>\n",
       "      <td>2250.000000</td>\n",
       "      <td>NaN</td>\n",
       "      <td>NaN</td>\n",
       "      <td>NaN</td>\n",
       "      <td>NaN</td>\n",
       "      <td>NaN</td>\n",
       "    </tr>\n",
       "    <tr>\n",
       "      <th>JAGUAR</th>\n",
       "      <td>8717.807692</td>\n",
       "      <td>NaN</td>\n",
       "      <td>NaN</td>\n",
       "      <td>8440.000000</td>\n",
       "      <td>NaN</td>\n",
       "      <td>NaN</td>\n",
       "    </tr>\n",
       "    <tr>\n",
       "      <th>JEEP</th>\n",
       "      <td>1915.833333</td>\n",
       "      <td>NaN</td>\n",
       "      <td>NaN</td>\n",
       "      <td>5016.666667</td>\n",
       "      <td>NaN</td>\n",
       "      <td>NaN</td>\n",
       "    </tr>\n",
       "    <tr>\n",
       "      <th>KIA</th>\n",
       "      <td>7103.000000</td>\n",
       "      <td>NaN</td>\n",
       "      <td>NaN</td>\n",
       "      <td>7858.075472</td>\n",
       "      <td>18750.0</td>\n",
       "      <td>NaN</td>\n",
       "    </tr>\n",
       "    <tr>\n",
       "      <th>LAGONDA</th>\n",
       "      <td>NaN</td>\n",
       "      <td>NaN</td>\n",
       "      <td>NaN</td>\n",
       "      <td>14995.000000</td>\n",
       "      <td>NaN</td>\n",
       "      <td>NaN</td>\n",
       "    </tr>\n",
       "    <tr>\n",
       "      <th>LAND</th>\n",
       "      <td>11336.833333</td>\n",
       "      <td>NaN</td>\n",
       "      <td>NaN</td>\n",
       "      <td>7169.000000</td>\n",
       "      <td>NaN</td>\n",
       "      <td>NaN</td>\n",
       "    </tr>\n",
       "    <tr>\n",
       "      <th>LEXUS</th>\n",
       "      <td>NaN</td>\n",
       "      <td>NaN</td>\n",
       "      <td>NaN</td>\n",
       "      <td>4209.857143</td>\n",
       "      <td>4225.0</td>\n",
       "      <td>NaN</td>\n",
       "    </tr>\n",
       "    <tr>\n",
       "      <th>MARCOS</th>\n",
       "      <td>NaN</td>\n",
       "      <td>NaN</td>\n",
       "      <td>NaN</td>\n",
       "      <td>11495.000000</td>\n",
       "      <td>NaN</td>\n",
       "      <td>NaN</td>\n",
       "    </tr>\n",
       "    <tr>\n",
       "      <th>MASERATI</th>\n",
       "      <td>13900.000000</td>\n",
       "      <td>NaN</td>\n",
       "      <td>NaN</td>\n",
       "      <td>13000.000000</td>\n",
       "      <td>NaN</td>\n",
       "      <td>NaN</td>\n",
       "    </tr>\n",
       "    <tr>\n",
       "      <th>MAZDA</th>\n",
       "      <td>6725.000000</td>\n",
       "      <td>NaN</td>\n",
       "      <td>13899.0</td>\n",
       "      <td>4952.951220</td>\n",
       "      <td>NaN</td>\n",
       "      <td>NaN</td>\n",
       "    </tr>\n",
       "    <tr>\n",
       "      <th>MERCEDES-BENZ</th>\n",
       "      <td>7243.145833</td>\n",
       "      <td>NaN</td>\n",
       "      <td>NaN</td>\n",
       "      <td>8316.236111</td>\n",
       "      <td>NaN</td>\n",
       "      <td>NaN</td>\n",
       "    </tr>\n",
       "    <tr>\n",
       "      <th>MG</th>\n",
       "      <td>NaN</td>\n",
       "      <td>NaN</td>\n",
       "      <td>NaN</td>\n",
       "      <td>5622.285714</td>\n",
       "      <td>NaN</td>\n",
       "      <td>NaN</td>\n",
       "    </tr>\n",
       "    <tr>\n",
       "      <th>MINI</th>\n",
       "      <td>6334.785714</td>\n",
       "      <td>NaN</td>\n",
       "      <td>NaN</td>\n",
       "      <td>6504.698795</td>\n",
       "      <td>NaN</td>\n",
       "      <td>NaN</td>\n",
       "    </tr>\n",
       "    <tr>\n",
       "      <th>MITSUBISHI</th>\n",
       "      <td>2440.761905</td>\n",
       "      <td>NaN</td>\n",
       "      <td>NaN</td>\n",
       "      <td>4247.181818</td>\n",
       "      <td>NaN</td>\n",
       "      <td>NaN</td>\n",
       "    </tr>\n",
       "    <tr>\n",
       "      <th>NISSAN</th>\n",
       "      <td>6679.380000</td>\n",
       "      <td>NaN</td>\n",
       "      <td>5390.0</td>\n",
       "      <td>6787.444444</td>\n",
       "      <td>NaN</td>\n",
       "      <td>NaN</td>\n",
       "    </tr>\n",
       "    <tr>\n",
       "      <th>PEUGEOT</th>\n",
       "      <td>6438.769841</td>\n",
       "      <td>NaN</td>\n",
       "      <td>NaN</td>\n",
       "      <td>4431.798319</td>\n",
       "      <td>NaN</td>\n",
       "      <td>NaN</td>\n",
       "    </tr>\n",
       "    <tr>\n",
       "      <th>PORSCHE</th>\n",
       "      <td>8105.000000</td>\n",
       "      <td>NaN</td>\n",
       "      <td>NaN</td>\n",
       "      <td>4125.000000</td>\n",
       "      <td>NaN</td>\n",
       "      <td>NaN</td>\n",
       "    </tr>\n",
       "    <tr>\n",
       "      <th>PROTON</th>\n",
       "      <td>NaN</td>\n",
       "      <td>NaN</td>\n",
       "      <td>NaN</td>\n",
       "      <td>2226.666667</td>\n",
       "      <td>NaN</td>\n",
       "      <td>NaN</td>\n",
       "    </tr>\n",
       "    <tr>\n",
       "      <th>RENAULT</th>\n",
       "      <td>4312.788462</td>\n",
       "      <td>NaN</td>\n",
       "      <td>NaN</td>\n",
       "      <td>6177.439024</td>\n",
       "      <td>NaN</td>\n",
       "      <td>NaN</td>\n",
       "    </tr>\n",
       "    <tr>\n",
       "      <th>ROVER</th>\n",
       "      <td>NaN</td>\n",
       "      <td>NaN</td>\n",
       "      <td>NaN</td>\n",
       "      <td>2382.800000</td>\n",
       "      <td>NaN</td>\n",
       "      <td>NaN</td>\n",
       "    </tr>\n",
       "    <tr>\n",
       "      <th>SAAB</th>\n",
       "      <td>NaN</td>\n",
       "      <td>NaN</td>\n",
       "      <td>NaN</td>\n",
       "      <td>2983.428571</td>\n",
       "      <td>NaN</td>\n",
       "      <td>NaN</td>\n",
       "    </tr>\n",
       "    <tr>\n",
       "      <th>SEAT</th>\n",
       "      <td>5917.000000</td>\n",
       "      <td>NaN</td>\n",
       "      <td>NaN</td>\n",
       "      <td>4046.954545</td>\n",
       "      <td>NaN</td>\n",
       "      <td>NaN</td>\n",
       "    </tr>\n",
       "    <tr>\n",
       "      <th>SKODA</th>\n",
       "      <td>5364.900000</td>\n",
       "      <td>NaN</td>\n",
       "      <td>NaN</td>\n",
       "      <td>5925.652174</td>\n",
       "      <td>NaN</td>\n",
       "      <td>NaN</td>\n",
       "    </tr>\n",
       "    <tr>\n",
       "      <th>SMART</th>\n",
       "      <td>5400.000000</td>\n",
       "      <td>NaN</td>\n",
       "      <td>NaN</td>\n",
       "      <td>5695.000000</td>\n",
       "      <td>NaN</td>\n",
       "      <td>NaN</td>\n",
       "    </tr>\n",
       "    <tr>\n",
       "      <th>SSANGYONG</th>\n",
       "      <td>8636.000000</td>\n",
       "      <td>NaN</td>\n",
       "      <td>NaN</td>\n",
       "      <td>NaN</td>\n",
       "      <td>NaN</td>\n",
       "      <td>NaN</td>\n",
       "    </tr>\n",
       "    <tr>\n",
       "      <th>SUBARU</th>\n",
       "      <td>4990.000000</td>\n",
       "      <td>NaN</td>\n",
       "      <td>NaN</td>\n",
       "      <td>3215.000000</td>\n",
       "      <td>NaN</td>\n",
       "      <td>NaN</td>\n",
       "    </tr>\n",
       "    <tr>\n",
       "      <th>SUZUKI</th>\n",
       "      <td>6886.000000</td>\n",
       "      <td>NaN</td>\n",
       "      <td>NaN</td>\n",
       "      <td>3507.451613</td>\n",
       "      <td>10706.0</td>\n",
       "      <td>NaN</td>\n",
       "    </tr>\n",
       "    <tr>\n",
       "      <th>TOYOTA</th>\n",
       "      <td>3180.920000</td>\n",
       "      <td>NaN</td>\n",
       "      <td>NaN</td>\n",
       "      <td>4368.142857</td>\n",
       "      <td>11731.0</td>\n",
       "      <td>NaN</td>\n",
       "    </tr>\n",
       "    <tr>\n",
       "      <th>VAUXHALL</th>\n",
       "      <td>4341.878505</td>\n",
       "      <td>NaN</td>\n",
       "      <td>13998.0</td>\n",
       "      <td>4702.904545</td>\n",
       "      <td>NaN</td>\n",
       "      <td>9499.000000</td>\n",
       "    </tr>\n",
       "    <tr>\n",
       "      <th>VOLKSWAGEN</th>\n",
       "      <td>5466.855556</td>\n",
       "      <td>NaN</td>\n",
       "      <td>NaN</td>\n",
       "      <td>6985.865922</td>\n",
       "      <td>NaN</td>\n",
       "      <td>11297.500000</td>\n",
       "    </tr>\n",
       "    <tr>\n",
       "      <th>VOLVO</th>\n",
       "      <td>4465.045455</td>\n",
       "      <td>NaN</td>\n",
       "      <td>NaN</td>\n",
       "      <td>2836.764706</td>\n",
       "      <td>NaN</td>\n",
       "      <td>NaN</td>\n",
       "    </tr>\n",
       "  </tbody>\n",
       "</table>\n",
       "</div>"
      ],
      "text/plain": [
       "Fuel type            Diesel  Diesel Hybrid  Electric        Petrol  \\\n",
       "brand                                                                \n",
       "ABARTH                  NaN            NaN       NaN  11216.333333   \n",
       "ALFA            4214.666667            NaN       NaN   2688.750000   \n",
       "AUDI            8731.301205            NaN       NaN   6386.555556   \n",
       "BMW             7342.022222        23220.0       NaN   7058.486239   \n",
       "CHEVROLET       5249.500000            NaN       NaN   3012.000000   \n",
       "CHRYSLER                NaN            NaN       NaN   2433.800000   \n",
       "CITROEN         4026.891892            NaN       NaN   5052.206897   \n",
       "DACIA           6754.600000            NaN       NaN   7820.111111   \n",
       "DAEWOO                  NaN            NaN       NaN    995.000000   \n",
       "DAIHATSU                NaN            NaN       NaN   1695.000000   \n",
       "DODGE                   NaN            NaN       NaN   3250.000000   \n",
       "DS             14025.000000            NaN       NaN  10981.000000   \n",
       "FIAT            5036.777778            NaN       NaN   4027.138298   \n",
       "FORD            5567.482759            NaN       NaN   4578.709898   \n",
       "HONDA           6361.321429            NaN       NaN   2884.120000   \n",
       "HYUNDAI         5815.222222            NaN       NaN   4440.534247   \n",
       "INFINITI        8582.000000            NaN       NaN   8888.000000   \n",
       "ISUZU           2250.000000            NaN       NaN           NaN   \n",
       "JAGUAR          8717.807692            NaN       NaN   8440.000000   \n",
       "JEEP            1915.833333            NaN       NaN   5016.666667   \n",
       "KIA             7103.000000            NaN       NaN   7858.075472   \n",
       "LAGONDA                 NaN            NaN       NaN  14995.000000   \n",
       "LAND           11336.833333            NaN       NaN   7169.000000   \n",
       "LEXUS                   NaN            NaN       NaN   4209.857143   \n",
       "MARCOS                  NaN            NaN       NaN  11495.000000   \n",
       "MASERATI       13900.000000            NaN       NaN  13000.000000   \n",
       "MAZDA           6725.000000            NaN   13899.0   4952.951220   \n",
       "MERCEDES-BENZ   7243.145833            NaN       NaN   8316.236111   \n",
       "MG                      NaN            NaN       NaN   5622.285714   \n",
       "MINI            6334.785714            NaN       NaN   6504.698795   \n",
       "MITSUBISHI      2440.761905            NaN       NaN   4247.181818   \n",
       "NISSAN          6679.380000            NaN    5390.0   6787.444444   \n",
       "PEUGEOT         6438.769841            NaN       NaN   4431.798319   \n",
       "PORSCHE         8105.000000            NaN       NaN   4125.000000   \n",
       "PROTON                  NaN            NaN       NaN   2226.666667   \n",
       "RENAULT         4312.788462            NaN       NaN   6177.439024   \n",
       "ROVER                   NaN            NaN       NaN   2382.800000   \n",
       "SAAB                    NaN            NaN       NaN   2983.428571   \n",
       "SEAT            5917.000000            NaN       NaN   4046.954545   \n",
       "SKODA           5364.900000            NaN       NaN   5925.652174   \n",
       "SMART           5400.000000            NaN       NaN   5695.000000   \n",
       "SSANGYONG       8636.000000            NaN       NaN           NaN   \n",
       "SUBARU          4990.000000            NaN       NaN   3215.000000   \n",
       "SUZUKI          6886.000000            NaN       NaN   3507.451613   \n",
       "TOYOTA          3180.920000            NaN       NaN   4368.142857   \n",
       "VAUXHALL        4341.878505            NaN   13998.0   4702.904545   \n",
       "VOLKSWAGEN      5466.855556            NaN       NaN   6985.865922   \n",
       "VOLVO           4465.045455            NaN       NaN   2836.764706   \n",
       "\n",
       "Fuel type      Petrol Hybrid  Petrol Plug-in Hybrid  \n",
       "brand                                                \n",
       "ABARTH                   NaN                    NaN  \n",
       "ALFA                     NaN                    NaN  \n",
       "AUDI                     NaN                    NaN  \n",
       "BMW                      NaN           19460.652174  \n",
       "CHEVROLET                NaN                    NaN  \n",
       "CHRYSLER                 NaN                    NaN  \n",
       "CITROEN                  NaN                    NaN  \n",
       "DACIA                    NaN                    NaN  \n",
       "DAEWOO                   NaN                    NaN  \n",
       "DAIHATSU                 NaN                    NaN  \n",
       "DODGE                    NaN                    NaN  \n",
       "DS                       NaN           24770.000000  \n",
       "FIAT                     NaN                    NaN  \n",
       "FORD                     NaN                    NaN  \n",
       "HONDA                 4749.0                    NaN  \n",
       "HYUNDAI              17949.5                    NaN  \n",
       "INFINITI                 NaN                    NaN  \n",
       "ISUZU                    NaN                    NaN  \n",
       "JAGUAR                   NaN                    NaN  \n",
       "JEEP                     NaN                    NaN  \n",
       "KIA                  18750.0                    NaN  \n",
       "LAGONDA                  NaN                    NaN  \n",
       "LAND                     NaN                    NaN  \n",
       "LEXUS                 4225.0                    NaN  \n",
       "MARCOS                   NaN                    NaN  \n",
       "MASERATI                 NaN                    NaN  \n",
       "MAZDA                    NaN                    NaN  \n",
       "MERCEDES-BENZ            NaN                    NaN  \n",
       "MG                       NaN                    NaN  \n",
       "MINI                     NaN                    NaN  \n",
       "MITSUBISHI               NaN                    NaN  \n",
       "NISSAN                   NaN                    NaN  \n",
       "PEUGEOT                  NaN                    NaN  \n",
       "PORSCHE                  NaN                    NaN  \n",
       "PROTON                   NaN                    NaN  \n",
       "RENAULT                  NaN                    NaN  \n",
       "ROVER                    NaN                    NaN  \n",
       "SAAB                     NaN                    NaN  \n",
       "SEAT                     NaN                    NaN  \n",
       "SKODA                    NaN                    NaN  \n",
       "SMART                    NaN                    NaN  \n",
       "SSANGYONG                NaN                    NaN  \n",
       "SUBARU                   NaN                    NaN  \n",
       "SUZUKI               10706.0                    NaN  \n",
       "TOYOTA               11731.0                    NaN  \n",
       "VAUXHALL                 NaN            9499.000000  \n",
       "VOLKSWAGEN               NaN           11297.500000  \n",
       "VOLVO                    NaN                    NaN  "
      ]
     },
     "execution_count": 405,
     "metadata": {},
     "output_type": "execute_result"
    }
   ],
   "source": [
    "pd.pivot_table(data=df_merge,\n",
    "               values='Price',\n",
    "               index='brand',\n",
    "               columns='Fuel type'\n",
    "               )"
   ]
  },
  {
   "cell_type": "markdown",
   "id": "22a4a798",
   "metadata": {},
   "source": [
    "- Previous Owners와 Price 사이의 scatter plot"
   ]
  },
  {
   "cell_type": "code",
   "execution_count": 406,
   "id": "4fc710c9",
   "metadata": {},
   "outputs": [
    {
     "data": {
      "image/png": "[encoded data removed]",
      "text/plain": [
       "<Figure size 640x480 with 1 Axes>"
      ]
     },
     "metadata": {},
     "output_type": "display_data"
    }
   ],
   "source": [
    "sns.scatterplot(x=df_merge['Previous Owners'],\n",
    "                y=df_merge['Price']\n",
    "                )\n",
    "plt.show()"
   ]
  },
  {
   "cell_type": "markdown",
   "id": "8c56aeb9",
   "metadata": {},
   "source": [
    "- Registration Year와 Price 사이의 scatter plot"
   ]
  },
  {
   "cell_type": "code",
   "execution_count": 407,
   "id": "05ca1f95",
   "metadata": {},
   "outputs": [
    {
     "data": {
      "text/plain": [
       "<Axes: xlabel='Registration_Year', ylabel='Price'>"
      ]
     },
     "execution_count": 407,
     "metadata": {},
     "output_type": "execute_result"
    },
    {
     "data": {
      "image/png": "[encoded data removed]",
      "text/plain": [
       "<Figure size 640x480 with 1 Axes>"
      ]
     },
     "metadata": {},
     "output_type": "display_data"
    }
   ],
   "source": [
    "sns.scatterplot(x=df_merge['Registration_Year'],\n",
    "                y=df_merge['Price'],)"
   ]
  },
  {
   "cell_type": "code",
   "execution_count": 408,
   "id": "3205ca91",
   "metadata": {},
   "outputs": [
    {
     "data": {
      "text/plain": [
       "<Axes: xlabel='Registration_Year', ylabel='Price'>"
      ]
     },
     "execution_count": 408,
     "metadata": {},
     "output_type": "execute_result"
    },
    {
     "data": {
      "image/png": "[encoded data removed]",
      "text/plain": [
       "<Figure size 640x480 with 1 Axes>"
      ]
     },
     "metadata": {},
     "output_type": "display_data"
    }
   ],
   "source": [
    "sns.scatterplot(x=df_merge['Registration_Year'],\n",
    "                y=np.log(df_merge['Price']),\n",
    "                )"
   ]
  },
  {
   "cell_type": "markdown",
   "id": "8fb0ac13",
   "metadata": {},
   "source": [
    "### Scaler 활용하기"
   ]
  },
  {
   "cell_type": "markdown",
   "id": "79433eb2",
   "metadata": {},
   "source": [
    "- 특정 컬럼들이 몇 종류의 데이터로 이루어져 있는지 계산"
   ]
  },
  {
   "cell_type": "code",
   "execution_count": 409,
   "id": "3fbdfbe8",
   "metadata": {},
   "outputs": [
    {
     "data": {
      "application/vnd.microsoft.datawrangler.viewer.v0+json": {
       "columns": [
        {
         "name": "index",
         "rawType": "object",
         "type": "string"
        },
        {
         "name": "0",
         "rawType": "int64",
         "type": "integer"
        }
       ],
       "ref": "306cad29-e923-4198-b322-f69235006405",
       "rows": [
        [
         "title",
         "448"
        ],
        [
         "Fuel type",
         "6"
        ],
        [
         "Body type",
         "10"
        ],
        [
         "Gearbox",
         "2"
        ],
        [
         "Emission Class",
         "6"
        ],
        [
         "Service history",
         "2"
        ],
        [
         "brand",
         "48"
        ],
        [
         "country",
         "12"
        ]
       ],
       "shape": {
        "columns": 1,
        "rows": 8
       }
      },
      "text/plain": [
       "title              448\n",
       "Fuel type            6\n",
       "Body type           10\n",
       "Gearbox              2\n",
       "Emission Class       6\n",
       "Service history      2\n",
       "brand               48\n",
       "country             12\n",
       "dtype: int64"
      ]
     },
     "execution_count": 409,
     "metadata": {},
     "output_type": "execute_result"
    }
   ],
   "source": [
    "df_merge[['title','Fuel type','Body type','Gearbox','Emission Class','Service history','brand','country']].nunique()"
   ]
  },
  {
   "cell_type": "code",
   "execution_count": 410,
   "id": "96d6bb93",
   "metadata": {},
   "outputs": [],
   "source": [
    "df_merge = df_merge.drop('title', axis=1)"
   ]
  },
  {
   "cell_type": "markdown",
   "id": "3d0ca855",
   "metadata": {},
   "source": [
    "- 자동차의 브랜드별로 데이터 수 계산"
   ]
  },
  {
   "cell_type": "code",
   "execution_count": 411,
   "id": "2691d0e7",
   "metadata": {},
   "outputs": [
    {
     "data": {
      "application/vnd.microsoft.datawrangler.viewer.v0+json": {
       "columns": [
        {
         "name": "brand",
         "rawType": "object",
         "type": "string"
        },
        {
         "name": "count",
         "rawType": "int64",
         "type": "integer"
        }
       ],
       "ref": "903875bd-e605-4d14-9023-19bd602b64df",
       "rows": [
        [
         "VAUXHALL",
         "549"
        ],
        [
         "FORD",
         "409"
        ],
        [
         "VOLKSWAGEN",
         "271"
        ],
        [
         "BMW",
         "268"
        ],
        [
         "PEUGEOT",
         "245"
        ],
        [
         "TOYOTA",
         "193"
        ],
        [
         "NISSAN",
         "178"
        ],
        [
         "RENAULT",
         "175"
        ],
        [
         "MERCEDES-BENZ",
         "168"
        ],
        [
         "AUDI",
         "146"
        ],
        [
         "HONDA",
         "108"
        ],
        [
         "FIAT",
         "103"
        ],
        [
         "MINI",
         "97"
        ],
        [
         "CITROEN",
         "95"
        ],
        [
         "HYUNDAI",
         "93"
        ],
        [
         "KIA",
         "82"
        ],
        [
         "SKODA",
         "63"
        ],
        [
         "SEAT",
         "59"
        ],
        [
         "MAZDA",
         "53"
        ],
        [
         "SUZUKI",
         "41"
        ],
        [
         "VOLVO",
         "39"
        ],
        [
         "LAND",
         "35"
        ],
        [
         "MITSUBISHI",
         "32"
        ],
        [
         "JAGUAR",
         "30"
        ],
        [
         "ALFA",
         "18"
        ],
        [
         "DACIA",
         "14"
        ],
        [
         "CHEVROLET",
         "14"
        ],
        [
         "SUBARU",
         "11"
        ],
        [
         "JEEP",
         "9"
        ],
        [
         "LEXUS",
         "9"
        ],
        [
         "MG",
         "7"
        ],
        [
         "SAAB",
         "7"
        ],
        [
         "INFINITI",
         "7"
        ],
        [
         "DS",
         "6"
        ],
        [
         "ROVER",
         "5"
        ],
        [
         "CHRYSLER",
         "5"
        ],
        [
         "SMART",
         "4"
        ],
        [
         "PROTON",
         "3"
        ],
        [
         "ABARTH",
         "3"
        ],
        [
         "PORSCHE",
         "3"
        ],
        [
         "MASERATI",
         "3"
        ],
        [
         "DAIHATSU",
         "2"
        ],
        [
         "SSANGYONG",
         "2"
        ],
        [
         "DODGE",
         "1"
        ],
        [
         "DAEWOO",
         "1"
        ],
        [
         "MARCOS",
         "1"
        ],
        [
         "LAGONDA",
         "1"
        ],
        [
         "ISUZU",
         "1"
        ]
       ],
       "shape": {
        "columns": 1,
        "rows": 48
       }
      },
      "text/plain": [
       "brand\n",
       "VAUXHALL         549\n",
       "FORD             409\n",
       "VOLKSWAGEN       271\n",
       "BMW              268\n",
       "PEUGEOT          245\n",
       "TOYOTA           193\n",
       "NISSAN           178\n",
       "RENAULT          175\n",
       "MERCEDES-BENZ    168\n",
       "AUDI             146\n",
       "HONDA            108\n",
       "FIAT             103\n",
       "MINI              97\n",
       "CITROEN           95\n",
       "HYUNDAI           93\n",
       "KIA               82\n",
       "SKODA             63\n",
       "SEAT              59\n",
       "MAZDA             53\n",
       "SUZUKI            41\n",
       "VOLVO             39\n",
       "LAND              35\n",
       "MITSUBISHI        32\n",
       "JAGUAR            30\n",
       "ALFA              18\n",
       "DACIA             14\n",
       "CHEVROLET         14\n",
       "SUBARU            11\n",
       "JEEP               9\n",
       "LEXUS              9\n",
       "MG                 7\n",
       "SAAB               7\n",
       "INFINITI           7\n",
       "DS                 6\n",
       "ROVER              5\n",
       "CHRYSLER           5\n",
       "SMART              4\n",
       "PROTON             3\n",
       "ABARTH             3\n",
       "PORSCHE            3\n",
       "MASERATI           3\n",
       "DAIHATSU           2\n",
       "SSANGYONG          2\n",
       "DODGE              1\n",
       "DAEWOO             1\n",
       "MARCOS             1\n",
       "LAGONDA            1\n",
       "ISUZU              1\n",
       "Name: count, dtype: int64"
      ]
     },
     "execution_count": 411,
     "metadata": {},
     "output_type": "execute_result"
    }
   ],
   "source": [
    "df_merge['brand'].value_counts()"
   ]
  },
  {
   "cell_type": "markdown",
   "id": "6c19df76",
   "metadata": {},
   "source": [
    "- 자동차의 브랜드별로 평균 가격 계산"
   ]
  },
  {
   "cell_type": "code",
   "execution_count": 412,
   "id": "baa3da1c",
   "metadata": {},
   "outputs": [
    {
     "data": {
      "application/vnd.microsoft.datawrangler.viewer.v0+json": {
       "columns": [
        {
         "name": "index",
         "rawType": "int64",
         "type": "integer"
        },
        {
         "name": "brand",
         "rawType": "object",
         "type": "string"
        },
        {
         "name": "Price",
         "rawType": "float64",
         "type": "float"
        }
       ],
       "ref": "e8ac3072-5a99-4568-aa73-3d71c2b54fc2",
       "rows": [
        [
         "0",
         "ABARTH",
         "11216.333333333334"
        ],
        [
         "1",
         "ALFA",
         "3197.3888888888887"
        ],
        [
         "2",
         "AUDI",
         "7719.527397260274"
        ],
        [
         "3",
         "BMW",
         "8325.981343283582"
        ],
        [
         "4",
         "CHEVROLET",
         "3331.6428571428573"
        ],
        [
         "5",
         "CHRYSLER",
         "2433.8"
        ],
        [
         "6",
         "CITROEN",
         "4652.873684210526"
        ],
        [
         "7",
         "DACIA",
         "7439.571428571428"
        ],
        [
         "8",
         "DAEWOO",
         "995.0"
        ],
        [
         "9",
         "DAIHATSU",
         "1695.0"
        ],
        [
         "10",
         "DODGE",
         "3250.0"
        ],
        [
         "11",
         "DS",
         "14293.833333333334"
        ],
        [
         "12",
         "FIAT",
         "4115.359223300971"
        ],
        [
         "13",
         "FORD",
         "4859.144254278729"
        ],
        [
         "14",
         "HONDA",
         "3871.953703703704"
        ],
        [
         "15",
         "HYUNDAI",
         "4997.118279569892"
        ],
        [
         "16",
         "INFINITI",
         "8625.714285714286"
        ],
        [
         "17",
         "ISUZU",
         "2250.0"
        ],
        [
         "18",
         "JAGUAR",
         "8680.766666666666"
        ],
        [
         "19",
         "JEEP",
         "2949.4444444444443"
        ],
        [
         "20",
         "KIA",
         "7733.073170731707"
        ],
        [
         "21",
         "LAGONDA",
         "14995.0"
        ],
        [
         "22",
         "LAND",
         "10741.42857142857"
        ],
        [
         "23",
         "LEXUS",
         "4213.222222222223"
        ],
        [
         "24",
         "MARCOS",
         "11495.0"
        ],
        [
         "25",
         "MASERATI",
         "13300.0"
        ],
        [
         "26",
         "MAZDA",
         "5489.528301886792"
        ],
        [
         "27",
         "MERCEDES-BENZ",
         "7703.041666666667"
        ],
        [
         "28",
         "MG",
         "5622.285714285715"
        ],
        [
         "29",
         "MINI",
         "6480.1752577319585"
        ],
        [
         "30",
         "MITSUBISHI",
         "3061.71875"
        ],
        [
         "31",
         "NISSAN",
         "6529.4157303370785"
        ],
        [
         "32",
         "PEUGEOT",
         "5463.955102040816"
        ],
        [
         "33",
         "PORSCHE",
         "5451.666666666667"
        ],
        [
         "34",
         "PROTON",
         "2226.6666666666665"
        ],
        [
         "35",
         "RENAULT",
         "5623.371428571429"
        ],
        [
         "36",
         "ROVER",
         "2382.8"
        ],
        [
         "37",
         "SAAB",
         "2983.4285714285716"
        ],
        [
         "38",
         "SEAT",
         "4522.389830508475"
        ],
        [
         "39",
         "SKODA",
         "5569.619047619048"
        ],
        [
         "40",
         "SMART",
         "5621.25"
        ],
        [
         "41",
         "SSANGYONG",
         "8636.0"
        ],
        [
         "42",
         "SUBARU",
         "3376.3636363636365"
        ],
        [
         "43",
         "SUZUKI",
         "5076.8536585365855"
        ],
        [
         "44",
         "TOYOTA",
         "5282.5440414507775"
        ],
        [
         "45",
         "VAUXHALL",
         "4658.207650273224"
        ],
        [
         "46",
         "VOLKSWAGEN",
         "6513.217712177122"
        ],
        [
         "47",
         "VOLVO",
         "3755.2820512820513"
        ]
       ],
       "shape": {
        "columns": 2,
        "rows": 48
       }
      },
      "text/html": [
       "<div>\n",
       "<style scoped>\n",
       "    .dataframe tbody tr th:only-of-type {\n",
       "        vertical-align: middle;\n",
       "    }\n",
       "\n",
       "    .dataframe tbody tr th {\n",
       "        vertical-align: top;\n",
       "    }\n",
       "\n",
       "    .dataframe thead th {\n",
       "        text-align: right;\n",
       "    }\n",
       "</style>\n",
       "<table border=\"1\" class=\"dataframe\">\n",
       "  <thead>\n",
       "    <tr style=\"text-align: right;\">\n",
       "      <th></th>\n",
       "      <th>brand</th>\n",
       "      <th>Price</th>\n",
       "    </tr>\n",
       "  </thead>\n",
       "  <tbody>\n",
       "    <tr>\n",
       "      <th>0</th>\n",
       "      <td>ABARTH</td>\n",
       "      <td>11216.333333</td>\n",
       "    </tr>\n",
       "    <tr>\n",
       "      <th>1</th>\n",
       "      <td>ALFA</td>\n",
       "      <td>3197.388889</td>\n",
       "    </tr>\n",
       "    <tr>\n",
       "      <th>2</th>\n",
       "      <td>AUDI</td>\n",
       "      <td>7719.527397</td>\n",
       "    </tr>\n",
       "    <tr>\n",
       "      <th>3</th>\n",
       "      <td>BMW</td>\n",
       "      <td>8325.981343</td>\n",
       "    </tr>\n",
       "    <tr>\n",
       "      <th>4</th>\n",
       "      <td>CHEVROLET</td>\n",
       "      <td>3331.642857</td>\n",
       "    </tr>\n",
       "    <tr>\n",
       "      <th>5</th>\n",
       "      <td>CHRYSLER</td>\n",
       "      <td>2433.800000</td>\n",
       "    </tr>\n",
       "    <tr>\n",
       "      <th>6</th>\n",
       "      <td>CITROEN</td>\n",
       "      <td>4652.873684</td>\n",
       "    </tr>\n",
       "    <tr>\n",
       "      <th>7</th>\n",
       "      <td>DACIA</td>\n",
       "      <td>7439.571429</td>\n",
       "    </tr>\n",
       "    <tr>\n",
       "      <th>8</th>\n",
       "      <td>DAEWOO</td>\n",
       "      <td>995.000000</td>\n",
       "    </tr>\n",
       "    <tr>\n",
       "      <th>9</th>\n",
       "      <td>DAIHATSU</td>\n",
       "      <td>1695.000000</td>\n",
       "    </tr>\n",
       "    <tr>\n",
       "      <th>10</th>\n",
       "      <td>DODGE</td>\n",
       "      <td>3250.000000</td>\n",
       "    </tr>\n",
       "    <tr>\n",
       "      <th>11</th>\n",
       "      <td>DS</td>\n",
       "      <td>14293.833333</td>\n",
       "    </tr>\n",
       "    <tr>\n",
       "      <th>12</th>\n",
       "      <td>FIAT</td>\n",
       "      <td>4115.359223</td>\n",
       "    </tr>\n",
       "    <tr>\n",
       "      <th>13</th>\n",
       "      <td>FORD</td>\n",
       "      <td>4859.144254</td>\n",
       "    </tr>\n",
       "    <tr>\n",
       "      <th>14</th>\n",
       "      <td>HONDA</td>\n",
       "      <td>3871.953704</td>\n",
       "    </tr>\n",
       "    <tr>\n",
       "      <th>15</th>\n",
       "      <td>HYUNDAI</td>\n",
       "      <td>4997.118280</td>\n",
       "    </tr>\n",
       "    <tr>\n",
       "      <th>16</th>\n",
       "      <td>INFINITI</td>\n",
       "      <td>8625.714286</td>\n",
       "    </tr>\n",
       "    <tr>\n",
       "      <th>17</th>\n",
       "      <td>ISUZU</td>\n",
       "      <td>2250.000000</td>\n",
       "    </tr>\n",
       "    <tr>\n",
       "      <th>18</th>\n",
       "      <td>JAGUAR</td>\n",
       "      <td>8680.766667</td>\n",
       "    </tr>\n",
       "    <tr>\n",
       "      <th>19</th>\n",
       "      <td>JEEP</td>\n",
       "      <td>2949.444444</td>\n",
       "    </tr>\n",
       "    <tr>\n",
       "      <th>20</th>\n",
       "      <td>KIA</td>\n",
       "      <td>7733.073171</td>\n",
       "    </tr>\n",
       "    <tr>\n",
       "      <th>21</th>\n",
       "      <td>LAGONDA</td>\n",
       "      <td>14995.000000</td>\n",
       "    </tr>\n",
       "    <tr>\n",
       "      <th>22</th>\n",
       "      <td>LAND</td>\n",
       "      <td>10741.428571</td>\n",
       "    </tr>\n",
       "    <tr>\n",
       "      <th>23</th>\n",
       "      <td>LEXUS</td>\n",
       "      <td>4213.222222</td>\n",
       "    </tr>\n",
       "    <tr>\n",
       "      <th>24</th>\n",
       "      <td>MARCOS</td>\n",
       "      <td>11495.000000</td>\n",
       "    </tr>\n",
       "    <tr>\n",
       "      <th>25</th>\n",
       "      <td>MASERATI</td>\n",
       "      <td>13300.000000</td>\n",
       "    </tr>\n",
       "    <tr>\n",
       "      <th>26</th>\n",
       "      <td>MAZDA</td>\n",
       "      <td>5489.528302</td>\n",
       "    </tr>\n",
       "    <tr>\n",
       "      <th>27</th>\n",
       "      <td>MERCEDES-BENZ</td>\n",
       "      <td>7703.041667</td>\n",
       "    </tr>\n",
       "    <tr>\n",
       "      <th>28</th>\n",
       "      <td>MG</td>\n",
       "      <td>5622.285714</td>\n",
       "    </tr>\n",
       "    <tr>\n",
       "      <th>29</th>\n",
       "      <td>MINI</td>\n",
       "      <td>6480.175258</td>\n",
       "    </tr>\n",
       "    <tr>\n",
       "      <th>30</th>\n",
       "      <td>MITSUBISHI</td>\n",
       "      <td>3061.718750</td>\n",
       "    </tr>\n",
       "    <tr>\n",
       "      <th>31</th>\n",
       "      <td>NISSAN</td>\n",
       "      <td>6529.415730</td>\n",
       "    </tr>\n",
       "    <tr>\n",
       "      <th>32</th>\n",
       "      <td>PEUGEOT</td>\n",
       "      <td>5463.955102</td>\n",
       "    </tr>\n",
       "    <tr>\n",
       "      <th>33</th>\n",
       "      <td>PORSCHE</td>\n",
       "      <td>5451.666667</td>\n",
       "    </tr>\n",
       "    <tr>\n",
       "      <th>34</th>\n",
       "      <td>PROTON</td>\n",
       "      <td>2226.666667</td>\n",
       "    </tr>\n",
       "    <tr>\n",
       "      <th>35</th>\n",
       "      <td>RENAULT</td>\n",
       "      <td>5623.371429</td>\n",
       "    </tr>\n",
       "    <tr>\n",
       "      <th>36</th>\n",
       "      <td>ROVER</td>\n",
       "      <td>2382.800000</td>\n",
       "    </tr>\n",
       "    <tr>\n",
       "      <th>37</th>\n",
       "      <td>SAAB</td>\n",
       "      <td>2983.428571</td>\n",
       "    </tr>\n",
       "    <tr>\n",
       "      <th>38</th>\n",
       "      <td>SEAT</td>\n",
       "      <td>4522.389831</td>\n",
       "    </tr>\n",
       "    <tr>\n",
       "      <th>39</th>\n",
       "      <td>SKODA</td>\n",
       "      <td>5569.619048</td>\n",
       "    </tr>\n",
       "    <tr>\n",
       "      <th>40</th>\n",
       "      <td>SMART</td>\n",
       "      <td>5621.250000</td>\n",
       "    </tr>\n",
       "    <tr>\n",
       "      <th>41</th>\n",
       "      <td>SSANGYONG</td>\n",
       "      <td>8636.000000</td>\n",
       "    </tr>\n",
       "    <tr>\n",
       "      <th>42</th>\n",
       "      <td>SUBARU</td>\n",
       "      <td>3376.363636</td>\n",
       "    </tr>\n",
       "    <tr>\n",
       "      <th>43</th>\n",
       "      <td>SUZUKI</td>\n",
       "      <td>5076.853659</td>\n",
       "    </tr>\n",
       "    <tr>\n",
       "      <th>44</th>\n",
       "      <td>TOYOTA</td>\n",
       "      <td>5282.544041</td>\n",
       "    </tr>\n",
       "    <tr>\n",
       "      <th>45</th>\n",
       "      <td>VAUXHALL</td>\n",
       "      <td>4658.207650</td>\n",
       "    </tr>\n",
       "    <tr>\n",
       "      <th>46</th>\n",
       "      <td>VOLKSWAGEN</td>\n",
       "      <td>6513.217712</td>\n",
       "    </tr>\n",
       "    <tr>\n",
       "      <th>47</th>\n",
       "      <td>VOLVO</td>\n",
       "      <td>3755.282051</td>\n",
       "    </tr>\n",
       "  </tbody>\n",
       "</table>\n",
       "</div>"
      ],
      "text/plain": [
       "            brand         Price\n",
       "0          ABARTH  11216.333333\n",
       "1            ALFA   3197.388889\n",
       "2            AUDI   7719.527397\n",
       "3             BMW   8325.981343\n",
       "4       CHEVROLET   3331.642857\n",
       "5        CHRYSLER   2433.800000\n",
       "6         CITROEN   4652.873684\n",
       "7           DACIA   7439.571429\n",
       "8          DAEWOO    995.000000\n",
       "9        DAIHATSU   1695.000000\n",
       "10          DODGE   3250.000000\n",
       "11             DS  14293.833333\n",
       "12           FIAT   4115.359223\n",
       "13           FORD   4859.144254\n",
       "14          HONDA   3871.953704\n",
       "15        HYUNDAI   4997.118280\n",
       "16       INFINITI   8625.714286\n",
       "17          ISUZU   2250.000000\n",
       "18         JAGUAR   8680.766667\n",
       "19           JEEP   2949.444444\n",
       "20            KIA   7733.073171\n",
       "21        LAGONDA  14995.000000\n",
       "22           LAND  10741.428571\n",
       "23          LEXUS   4213.222222\n",
       "24         MARCOS  11495.000000\n",
       "25       MASERATI  13300.000000\n",
       "26          MAZDA   5489.528302\n",
       "27  MERCEDES-BENZ   7703.041667\n",
       "28             MG   5622.285714\n",
       "29           MINI   6480.175258\n",
       "30     MITSUBISHI   3061.718750\n",
       "31         NISSAN   6529.415730\n",
       "32        PEUGEOT   5463.955102\n",
       "33        PORSCHE   5451.666667\n",
       "34         PROTON   2226.666667\n",
       "35        RENAULT   5623.371429\n",
       "36          ROVER   2382.800000\n",
       "37           SAAB   2983.428571\n",
       "38           SEAT   4522.389831\n",
       "39          SKODA   5569.619048\n",
       "40          SMART   5621.250000\n",
       "41      SSANGYONG   8636.000000\n",
       "42         SUBARU   3376.363636\n",
       "43         SUZUKI   5076.853659\n",
       "44         TOYOTA   5282.544041\n",
       "45       VAUXHALL   4658.207650\n",
       "46     VOLKSWAGEN   6513.217712\n",
       "47          VOLVO   3755.282051"
      ]
     },
     "execution_count": 412,
     "metadata": {},
     "output_type": "execute_result"
    }
   ],
   "source": [
    "df_merge.groupby(by='brand', as_index=False)['Price'].mean()"
   ]
  },
  {
   "cell_type": "markdown",
   "id": "b63ed782",
   "metadata": {},
   "source": [
    "- 자동차의 브랜드별로 데이터 수와 평균 가격을 출력"
   ]
  },
  {
   "cell_type": "code",
   "execution_count": 413,
   "id": "9b4a74f2",
   "metadata": {},
   "outputs": [
    {
     "data": {
      "application/vnd.microsoft.datawrangler.viewer.v0+json": {
       "columns": [
        {
         "name": "index",
         "rawType": "int64",
         "type": "integer"
        },
        {
         "name": "brand",
         "rawType": "object",
         "type": "string"
        },
        {
         "name": "count",
         "rawType": "int64",
         "type": "integer"
        },
        {
         "name": "mean",
         "rawType": "float64",
         "type": "float"
        }
       ],
       "ref": "56dc2d9e-9eef-4333-824e-56b3b50d55a1",
       "rows": [
        [
         "0",
         "ABARTH",
         "3",
         "11216.333333333334"
        ],
        [
         "1",
         "ALFA",
         "18",
         "3197.3888888888887"
        ],
        [
         "2",
         "AUDI",
         "146",
         "7719.527397260274"
        ],
        [
         "3",
         "BMW",
         "268",
         "8325.981343283582"
        ],
        [
         "4",
         "CHEVROLET",
         "14",
         "3331.6428571428573"
        ],
        [
         "5",
         "CHRYSLER",
         "5",
         "2433.8"
        ],
        [
         "6",
         "CITROEN",
         "95",
         "4652.873684210526"
        ],
        [
         "7",
         "DACIA",
         "14",
         "7439.571428571428"
        ],
        [
         "8",
         "DAEWOO",
         "1",
         "995.0"
        ],
        [
         "9",
         "DAIHATSU",
         "2",
         "1695.0"
        ],
        [
         "10",
         "DODGE",
         "1",
         "3250.0"
        ],
        [
         "11",
         "DS",
         "6",
         "14293.833333333334"
        ],
        [
         "12",
         "FIAT",
         "103",
         "4115.359223300971"
        ],
        [
         "13",
         "FORD",
         "409",
         "4859.144254278729"
        ],
        [
         "14",
         "HONDA",
         "108",
         "3871.953703703704"
        ],
        [
         "15",
         "HYUNDAI",
         "93",
         "4997.118279569892"
        ],
        [
         "16",
         "INFINITI",
         "7",
         "8625.714285714286"
        ],
        [
         "17",
         "ISUZU",
         "1",
         "2250.0"
        ],
        [
         "18",
         "JAGUAR",
         "30",
         "8680.766666666666"
        ],
        [
         "19",
         "JEEP",
         "9",
         "2949.4444444444443"
        ],
        [
         "20",
         "KIA",
         "82",
         "7733.073170731707"
        ],
        [
         "21",
         "LAGONDA",
         "1",
         "14995.0"
        ],
        [
         "22",
         "LAND",
         "35",
         "10741.42857142857"
        ],
        [
         "23",
         "LEXUS",
         "9",
         "4213.222222222223"
        ],
        [
         "24",
         "MARCOS",
         "1",
         "11495.0"
        ],
        [
         "25",
         "MASERATI",
         "3",
         "13300.0"
        ],
        [
         "26",
         "MAZDA",
         "53",
         "5489.528301886792"
        ],
        [
         "27",
         "MERCEDES-BENZ",
         "168",
         "7703.041666666667"
        ],
        [
         "28",
         "MG",
         "7",
         "5622.285714285715"
        ],
        [
         "29",
         "MINI",
         "97",
         "6480.1752577319585"
        ],
        [
         "30",
         "MITSUBISHI",
         "32",
         "3061.71875"
        ],
        [
         "31",
         "NISSAN",
         "178",
         "6529.4157303370785"
        ],
        [
         "32",
         "PEUGEOT",
         "245",
         "5463.955102040816"
        ],
        [
         "33",
         "PORSCHE",
         "3",
         "5451.666666666667"
        ],
        [
         "34",
         "PROTON",
         "3",
         "2226.6666666666665"
        ],
        [
         "35",
         "RENAULT",
         "175",
         "5623.371428571429"
        ],
        [
         "36",
         "ROVER",
         "5",
         "2382.8"
        ],
        [
         "37",
         "SAAB",
         "7",
         "2983.4285714285716"
        ],
        [
         "38",
         "SEAT",
         "59",
         "4522.389830508475"
        ],
        [
         "39",
         "SKODA",
         "63",
         "5569.619047619048"
        ],
        [
         "40",
         "SMART",
         "4",
         "5621.25"
        ],
        [
         "41",
         "SSANGYONG",
         "2",
         "8636.0"
        ],
        [
         "42",
         "SUBARU",
         "11",
         "3376.3636363636365"
        ],
        [
         "43",
         "SUZUKI",
         "41",
         "5076.8536585365855"
        ],
        [
         "44",
         "TOYOTA",
         "193",
         "5282.5440414507775"
        ],
        [
         "45",
         "VAUXHALL",
         "549",
         "4658.207650273224"
        ],
        [
         "46",
         "VOLKSWAGEN",
         "271",
         "6513.217712177122"
        ],
        [
         "47",
         "VOLVO",
         "39",
         "3755.2820512820513"
        ]
       ],
       "shape": {
        "columns": 3,
        "rows": 48
       }
      },
      "text/html": [
       "<div>\n",
       "<style scoped>\n",
       "    .dataframe tbody tr th:only-of-type {\n",
       "        vertical-align: middle;\n",
       "    }\n",
       "\n",
       "    .dataframe tbody tr th {\n",
       "        vertical-align: top;\n",
       "    }\n",
       "\n",
       "    .dataframe thead th {\n",
       "        text-align: right;\n",
       "    }\n",
       "</style>\n",
       "<table border=\"1\" class=\"dataframe\">\n",
       "  <thead>\n",
       "    <tr style=\"text-align: right;\">\n",
       "      <th></th>\n",
       "      <th>brand</th>\n",
       "      <th>count</th>\n",
       "      <th>mean</th>\n",
       "    </tr>\n",
       "  </thead>\n",
       "  <tbody>\n",
       "    <tr>\n",
       "      <th>0</th>\n",
       "      <td>ABARTH</td>\n",
       "      <td>3</td>\n",
       "      <td>11216.333333</td>\n",
       "    </tr>\n",
       "    <tr>\n",
       "      <th>1</th>\n",
       "      <td>ALFA</td>\n",
       "      <td>18</td>\n",
       "      <td>3197.388889</td>\n",
       "    </tr>\n",
       "    <tr>\n",
       "      <th>2</th>\n",
       "      <td>AUDI</td>\n",
       "      <td>146</td>\n",
       "      <td>7719.527397</td>\n",
       "    </tr>\n",
       "    <tr>\n",
       "      <th>3</th>\n",
       "      <td>BMW</td>\n",
       "      <td>268</td>\n",
       "      <td>8325.981343</td>\n",
       "    </tr>\n",
       "    <tr>\n",
       "      <th>4</th>\n",
       "      <td>CHEVROLET</td>\n",
       "      <td>14</td>\n",
       "      <td>3331.642857</td>\n",
       "    </tr>\n",
       "    <tr>\n",
       "      <th>5</th>\n",
       "      <td>CHRYSLER</td>\n",
       "      <td>5</td>\n",
       "      <td>2433.800000</td>\n",
       "    </tr>\n",
       "    <tr>\n",
       "      <th>6</th>\n",
       "      <td>CITROEN</td>\n",
       "      <td>95</td>\n",
       "      <td>4652.873684</td>\n",
       "    </tr>\n",
       "    <tr>\n",
       "      <th>7</th>\n",
       "      <td>DACIA</td>\n",
       "      <td>14</td>\n",
       "      <td>7439.571429</td>\n",
       "    </tr>\n",
       "    <tr>\n",
       "      <th>8</th>\n",
       "      <td>DAEWOO</td>\n",
       "      <td>1</td>\n",
       "      <td>995.000000</td>\n",
       "    </tr>\n",
       "    <tr>\n",
       "      <th>9</th>\n",
       "      <td>DAIHATSU</td>\n",
       "      <td>2</td>\n",
       "      <td>1695.000000</td>\n",
       "    </tr>\n",
       "    <tr>\n",
       "      <th>10</th>\n",
       "      <td>DODGE</td>\n",
       "      <td>1</td>\n",
       "      <td>3250.000000</td>\n",
       "    </tr>\n",
       "    <tr>\n",
       "      <th>11</th>\n",
       "      <td>DS</td>\n",
       "      <td>6</td>\n",
       "      <td>14293.833333</td>\n",
       "    </tr>\n",
       "    <tr>\n",
       "      <th>12</th>\n",
       "      <td>FIAT</td>\n",
       "      <td>103</td>\n",
       "      <td>4115.359223</td>\n",
       "    </tr>\n",
       "    <tr>\n",
       "      <th>13</th>\n",
       "      <td>FORD</td>\n",
       "      <td>409</td>\n",
       "      <td>4859.144254</td>\n",
       "    </tr>\n",
       "    <tr>\n",
       "      <th>14</th>\n",
       "      <td>HONDA</td>\n",
       "      <td>108</td>\n",
       "      <td>3871.953704</td>\n",
       "    </tr>\n",
       "    <tr>\n",
       "      <th>15</th>\n",
       "      <td>HYUNDAI</td>\n",
       "      <td>93</td>\n",
       "      <td>4997.118280</td>\n",
       "    </tr>\n",
       "    <tr>\n",
       "      <th>16</th>\n",
       "      <td>INFINITI</td>\n",
       "      <td>7</td>\n",
       "      <td>8625.714286</td>\n",
       "    </tr>\n",
       "    <tr>\n",
       "      <th>17</th>\n",
       "      <td>ISUZU</td>\n",
       "      <td>1</td>\n",
       "      <td>2250.000000</td>\n",
       "    </tr>\n",
       "    <tr>\n",
       "      <th>18</th>\n",
       "      <td>JAGUAR</td>\n",
       "      <td>30</td>\n",
       "      <td>8680.766667</td>\n",
       "    </tr>\n",
       "    <tr>\n",
       "      <th>19</th>\n",
       "      <td>JEEP</td>\n",
       "      <td>9</td>\n",
       "      <td>2949.444444</td>\n",
       "    </tr>\n",
       "    <tr>\n",
       "      <th>20</th>\n",
       "      <td>KIA</td>\n",
       "      <td>82</td>\n",
       "      <td>7733.073171</td>\n",
       "    </tr>\n",
       "    <tr>\n",
       "      <th>21</th>\n",
       "      <td>LAGONDA</td>\n",
       "      <td>1</td>\n",
       "      <td>14995.000000</td>\n",
       "    </tr>\n",
       "    <tr>\n",
       "      <th>22</th>\n",
       "      <td>LAND</td>\n",
       "      <td>35</td>\n",
       "      <td>10741.428571</td>\n",
       "    </tr>\n",
       "    <tr>\n",
       "      <th>23</th>\n",
       "      <td>LEXUS</td>\n",
       "      <td>9</td>\n",
       "      <td>4213.222222</td>\n",
       "    </tr>\n",
       "    <tr>\n",
       "      <th>24</th>\n",
       "      <td>MARCOS</td>\n",
       "      <td>1</td>\n",
       "      <td>11495.000000</td>\n",
       "    </tr>\n",
       "    <tr>\n",
       "      <th>25</th>\n",
       "      <td>MASERATI</td>\n",
       "      <td>3</td>\n",
       "      <td>13300.000000</td>\n",
       "    </tr>\n",
       "    <tr>\n",
       "      <th>26</th>\n",
       "      <td>MAZDA</td>\n",
       "      <td>53</td>\n",
       "      <td>5489.528302</td>\n",
       "    </tr>\n",
       "    <tr>\n",
       "      <th>27</th>\n",
       "      <td>MERCEDES-BENZ</td>\n",
       "      <td>168</td>\n",
       "      <td>7703.041667</td>\n",
       "    </tr>\n",
       "    <tr>\n",
       "      <th>28</th>\n",
       "      <td>MG</td>\n",
       "      <td>7</td>\n",
       "      <td>5622.285714</td>\n",
       "    </tr>\n",
       "    <tr>\n",
       "      <th>29</th>\n",
       "      <td>MINI</td>\n",
       "      <td>97</td>\n",
       "      <td>6480.175258</td>\n",
       "    </tr>\n",
       "    <tr>\n",
       "      <th>30</th>\n",
       "      <td>MITSUBISHI</td>\n",
       "      <td>32</td>\n",
       "      <td>3061.718750</td>\n",
       "    </tr>\n",
       "    <tr>\n",
       "      <th>31</th>\n",
       "      <td>NISSAN</td>\n",
       "      <td>178</td>\n",
       "      <td>6529.415730</td>\n",
       "    </tr>\n",
       "    <tr>\n",
       "      <th>32</th>\n",
       "      <td>PEUGEOT</td>\n",
       "      <td>245</td>\n",
       "      <td>5463.955102</td>\n",
       "    </tr>\n",
       "    <tr>\n",
       "      <th>33</th>\n",
       "      <td>PORSCHE</td>\n",
       "      <td>3</td>\n",
       "      <td>5451.666667</td>\n",
       "    </tr>\n",
       "    <tr>\n",
       "      <th>34</th>\n",
       "      <td>PROTON</td>\n",
       "      <td>3</td>\n",
       "      <td>2226.666667</td>\n",
       "    </tr>\n",
       "    <tr>\n",
       "      <th>35</th>\n",
       "      <td>RENAULT</td>\n",
       "      <td>175</td>\n",
       "      <td>5623.371429</td>\n",
       "    </tr>\n",
       "    <tr>\n",
       "      <th>36</th>\n",
       "      <td>ROVER</td>\n",
       "      <td>5</td>\n",
       "      <td>2382.800000</td>\n",
       "    </tr>\n",
       "    <tr>\n",
       "      <th>37</th>\n",
       "      <td>SAAB</td>\n",
       "      <td>7</td>\n",
       "      <td>2983.428571</td>\n",
       "    </tr>\n",
       "    <tr>\n",
       "      <th>38</th>\n",
       "      <td>SEAT</td>\n",
       "      <td>59</td>\n",
       "      <td>4522.389831</td>\n",
       "    </tr>\n",
       "    <tr>\n",
       "      <th>39</th>\n",
       "      <td>SKODA</td>\n",
       "      <td>63</td>\n",
       "      <td>5569.619048</td>\n",
       "    </tr>\n",
       "    <tr>\n",
       "      <th>40</th>\n",
       "      <td>SMART</td>\n",
       "      <td>4</td>\n",
       "      <td>5621.250000</td>\n",
       "    </tr>\n",
       "    <tr>\n",
       "      <th>41</th>\n",
       "      <td>SSANGYONG</td>\n",
       "      <td>2</td>\n",
       "      <td>8636.000000</td>\n",
       "    </tr>\n",
       "    <tr>\n",
       "      <th>42</th>\n",
       "      <td>SUBARU</td>\n",
       "      <td>11</td>\n",
       "      <td>3376.363636</td>\n",
       "    </tr>\n",
       "    <tr>\n",
       "      <th>43</th>\n",
       "      <td>SUZUKI</td>\n",
       "      <td>41</td>\n",
       "      <td>5076.853659</td>\n",
       "    </tr>\n",
       "    <tr>\n",
       "      <th>44</th>\n",
       "      <td>TOYOTA</td>\n",
       "      <td>193</td>\n",
       "      <td>5282.544041</td>\n",
       "    </tr>\n",
       "    <tr>\n",
       "      <th>45</th>\n",
       "      <td>VAUXHALL</td>\n",
       "      <td>549</td>\n",
       "      <td>4658.207650</td>\n",
       "    </tr>\n",
       "    <tr>\n",
       "      <th>46</th>\n",
       "      <td>VOLKSWAGEN</td>\n",
       "      <td>271</td>\n",
       "      <td>6513.217712</td>\n",
       "    </tr>\n",
       "    <tr>\n",
       "      <th>47</th>\n",
       "      <td>VOLVO</td>\n",
       "      <td>39</td>\n",
       "      <td>3755.282051</td>\n",
       "    </tr>\n",
       "  </tbody>\n",
       "</table>\n",
       "</div>"
      ],
      "text/plain": [
       "            brand  count          mean\n",
       "0          ABARTH      3  11216.333333\n",
       "1            ALFA     18   3197.388889\n",
       "2            AUDI    146   7719.527397\n",
       "3             BMW    268   8325.981343\n",
       "4       CHEVROLET     14   3331.642857\n",
       "5        CHRYSLER      5   2433.800000\n",
       "6         CITROEN     95   4652.873684\n",
       "7           DACIA     14   7439.571429\n",
       "8          DAEWOO      1    995.000000\n",
       "9        DAIHATSU      2   1695.000000\n",
       "10          DODGE      1   3250.000000\n",
       "11             DS      6  14293.833333\n",
       "12           FIAT    103   4115.359223\n",
       "13           FORD    409   4859.144254\n",
       "14          HONDA    108   3871.953704\n",
       "15        HYUNDAI     93   4997.118280\n",
       "16       INFINITI      7   8625.714286\n",
       "17          ISUZU      1   2250.000000\n",
       "18         JAGUAR     30   8680.766667\n",
       "19           JEEP      9   2949.444444\n",
       "20            KIA     82   7733.073171\n",
       "21        LAGONDA      1  14995.000000\n",
       "22           LAND     35  10741.428571\n",
       "23          LEXUS      9   4213.222222\n",
       "24         MARCOS      1  11495.000000\n",
       "25       MASERATI      3  13300.000000\n",
       "26          MAZDA     53   5489.528302\n",
       "27  MERCEDES-BENZ    168   7703.041667\n",
       "28             MG      7   5622.285714\n",
       "29           MINI     97   6480.175258\n",
       "30     MITSUBISHI     32   3061.718750\n",
       "31         NISSAN    178   6529.415730\n",
       "32        PEUGEOT    245   5463.955102\n",
       "33        PORSCHE      3   5451.666667\n",
       "34         PROTON      3   2226.666667\n",
       "35        RENAULT    175   5623.371429\n",
       "36          ROVER      5   2382.800000\n",
       "37           SAAB      7   2983.428571\n",
       "38           SEAT     59   4522.389831\n",
       "39          SKODA     63   5569.619048\n",
       "40          SMART      4   5621.250000\n",
       "41      SSANGYONG      2   8636.000000\n",
       "42         SUBARU     11   3376.363636\n",
       "43         SUZUKI     41   5076.853659\n",
       "44         TOYOTA    193   5282.544041\n",
       "45       VAUXHALL    549   4658.207650\n",
       "46     VOLKSWAGEN    271   6513.217712\n",
       "47          VOLVO     39   3755.282051"
      ]
     },
     "execution_count": 413,
     "metadata": {},
     "output_type": "execute_result"
    }
   ],
   "source": [
    "## join 메소드를 사용하라는데... 문제 이해 못함...\n",
    "\n",
    "df_merge.groupby(by='brand', as_index=False)['Price'].agg(['count', 'mean'])"
   ]
  },
  {
   "cell_type": "markdown",
   "id": "150d61d8",
   "metadata": {},
   "source": [
    "- 범주형 컬럼들에 One-Hot Encoding 적용"
   ]
  },
  {
   "cell_type": "code",
   "execution_count": 414,
   "id": "dc9bce67",
   "metadata": {},
   "outputs": [],
   "source": [
    "df_merge2 = pd.get_dummies(df_merge, drop_first=True, dtype=int)\n",
    "df_bonus2 = df_merge2.copy()"
   ]
  },
  {
   "cell_type": "markdown",
   "id": "7e0b1361",
   "metadata": {},
   "source": [
    "- Robust Scaler를 rs 변수로 정의"
   ]
  },
  {
   "cell_type": "code",
   "execution_count": 337,
   "id": "b3604fe5",
   "metadata": {},
   "outputs": [],
   "source": [
    "from sklearn.preprocessing import RobustScaler"
   ]
  },
  {
   "cell_type": "code",
   "execution_count": 338,
   "id": "0f167d13",
   "metadata": {},
   "outputs": [],
   "source": [
    "rs = RobustScaler()"
   ]
  },
  {
   "cell_type": "markdown",
   "id": "d9797531",
   "metadata": {},
   "source": [
    "- robust scaling을 적용한 데이터프레임을 다시 저장"
   ]
  },
  {
   "cell_type": "code",
   "execution_count": 339,
   "id": "c14e902d",
   "metadata": {},
   "outputs": [],
   "source": [
    "df_merge2_rs = rs.fit_transform(df_merge2)"
   ]
  },
  {
   "cell_type": "markdown",
   "id": "f0d63d67",
   "metadata": {},
   "source": [
    "- 주성분이 5개인 PCA 모델을 정의"
   ]
  },
  {
   "cell_type": "code",
   "execution_count": 324,
   "id": "82822705",
   "metadata": {},
   "outputs": [],
   "source": [
    "from sklearn.decomposition import PCA"
   ]
  },
  {
   "cell_type": "code",
   "execution_count": 325,
   "id": "cbfaa3d7",
   "metadata": {},
   "outputs": [],
   "source": [
    "pca = PCA(n_components=5)"
   ]
  },
  {
   "cell_type": "markdown",
   "id": "e38ca121",
   "metadata": {},
   "source": [
    "- df_merge2 데이터에 PCA 적용"
   ]
  },
  {
   "cell_type": "code",
   "execution_count": 326,
   "id": "20380366",
   "metadata": {},
   "outputs": [
    {
     "data": {
      "text/plain": [
       "array([[-0.51498042, -0.422637  ,  0.41500261,  0.64667595,  0.28728176],\n",
       "       [ 1.31238365, -1.21716972, -0.34955436, -0.2683556 , -0.15976308],\n",
       "       [ 0.81207976, -0.22388179, -1.00603021,  0.65440695,  0.66323238],\n",
       "       ...,\n",
       "       [ 0.75728139,  1.45564165,  0.08526004,  0.2309435 ,  0.86444619],\n",
       "       [ 1.65873026,  1.68212774, -1.00138436,  0.81134425,  0.40960241],\n",
       "       [ 2.9199769 , -2.38625535,  1.90195228,  0.80652735,  0.06097284]],\n",
       "      shape=(3669, 5))"
      ]
     },
     "execution_count": 326,
     "metadata": {},
     "output_type": "execute_result"
    }
   ],
   "source": [
    "pca.fit_transform(df_merge2_rs)"
   ]
  },
  {
   "cell_type": "markdown",
   "id": "e6b068ff",
   "metadata": {},
   "source": [
    "- 원본 데이터 대비 PCA 데이터의 분산(explained variance) 비율을 계산"
   ]
  },
  {
   "cell_type": "code",
   "execution_count": 327,
   "id": "5440be03",
   "metadata": {},
   "outputs": [
    {
     "data": {
      "text/plain": [
       "array([0.28119681, 0.1300397 , 0.10793743, 0.06884774, 0.05220485])"
      ]
     },
     "execution_count": 327,
     "metadata": {},
     "output_type": "execute_result"
    }
   ],
   "source": [
    "pca.explained_variance_ratio_"
   ]
  },
  {
   "cell_type": "markdown",
   "id": "298cdd5e",
   "metadata": {},
   "source": [
    "- 주성분 갯수가 2 ~ 10개일 때, explained variance ratio 각각 계산"
   ]
  },
  {
   "cell_type": "code",
   "execution_count": 328,
   "id": "1bb76d8e",
   "metadata": {},
   "outputs": [
    {
     "name": "stdout",
     "output_type": "stream",
     "text": [
      "2 0.41\n",
      "3 0.52\n",
      "4 0.59\n",
      "5 0.64\n",
      "6 0.68\n",
      "7 0.71\n",
      "8 0.74\n",
      "9 0.77\n",
      "10 0.79\n"
     ]
    }
   ],
   "source": [
    "for i in range(2, 11) :\n",
    "    pca = PCA(n_components=i)\n",
    "    pca.fit(df_merge2_rs)\n",
    "    print(i, round(pca.explained_variance_ratio_.sum(), 2))"
   ]
  },
  {
   "cell_type": "markdown",
   "id": "f0a59f34",
   "metadata": {},
   "source": [
    "- 주성분 갯수가 7개일  때, PC1 ~ PC7 컬럼 출력"
   ]
  },
  {
   "cell_type": "code",
   "execution_count": 341,
   "id": "11b852aa",
   "metadata": {},
   "outputs": [
    {
     "data": {
      "application/vnd.microsoft.datawrangler.viewer.v0+json": {
       "columns": [
        {
         "name": "index",
         "rawType": "int64",
         "type": "integer"
        },
        {
         "name": "Price",
         "rawType": "float64",
         "type": "float"
        },
        {
         "name": "Mileage(miles)",
         "rawType": "float64",
         "type": "float"
        },
        {
         "name": "Registration_Year",
         "rawType": "float64",
         "type": "float"
        },
        {
         "name": "Previous Owners",
         "rawType": "float64",
         "type": "float"
        },
        {
         "name": "Engine",
         "rawType": "float64",
         "type": "float"
        },
        {
         "name": "Doors",
         "rawType": "float64",
         "type": "float"
        },
        {
         "name": "Seats",
         "rawType": "float64",
         "type": "float"
        },
        {
         "name": "Emission Class",
         "rawType": "float64",
         "type": "float"
        },
        {
         "name": "Fuel type_Diesel Hybrid",
         "rawType": "float64",
         "type": "float"
        },
        {
         "name": "Fuel type_Electric",
         "rawType": "float64",
         "type": "float"
        },
        {
         "name": "Fuel type_Petrol",
         "rawType": "float64",
         "type": "float"
        },
        {
         "name": "Fuel type_Petrol Hybrid",
         "rawType": "float64",
         "type": "float"
        },
        {
         "name": "Fuel type_Petrol Plug-in Hybrid",
         "rawType": "float64",
         "type": "float"
        },
        {
         "name": "Body type_Convertible",
         "rawType": "float64",
         "type": "float"
        },
        {
         "name": "Body type_Coupe",
         "rawType": "float64",
         "type": "float"
        },
        {
         "name": "Body type_Estate",
         "rawType": "float64",
         "type": "float"
        },
        {
         "name": "Body type_Hatchback",
         "rawType": "float64",
         "type": "float"
        },
        {
         "name": "Body type_MPV",
         "rawType": "float64",
         "type": "float"
        },
        {
         "name": "Body type_Minibus",
         "rawType": "float64",
         "type": "float"
        },
        {
         "name": "Body type_Pickup",
         "rawType": "float64",
         "type": "float"
        },
        {
         "name": "Body type_SUV",
         "rawType": "float64",
         "type": "float"
        },
        {
         "name": "Body type_Saloon",
         "rawType": "float64",
         "type": "float"
        },
        {
         "name": "Gearbox_Manual",
         "rawType": "float64",
         "type": "float"
        },
        {
         "name": "Service history_Unknown",
         "rawType": "float64",
         "type": "float"
        },
        {
         "name": "brand_ALFA",
         "rawType": "float64",
         "type": "float"
        },
        {
         "name": "brand_AUDI",
         "rawType": "float64",
         "type": "float"
        },
        {
         "name": "brand_BMW",
         "rawType": "float64",
         "type": "float"
        },
        {
         "name": "brand_CHEVROLET",
         "rawType": "float64",
         "type": "float"
        },
        {
         "name": "brand_CHRYSLER",
         "rawType": "float64",
         "type": "float"
        },
        {
         "name": "brand_CITROEN",
         "rawType": "float64",
         "type": "float"
        },
        {
         "name": "brand_DACIA",
         "rawType": "float64",
         "type": "float"
        },
        {
         "name": "brand_DAEWOO",
         "rawType": "float64",
         "type": "float"
        },
        {
         "name": "brand_DAIHATSU",
         "rawType": "float64",
         "type": "float"
        },
        {
         "name": "brand_DODGE",
         "rawType": "float64",
         "type": "float"
        },
        {
         "name": "brand_DS",
         "rawType": "float64",
         "type": "float"
        },
        {
         "name": "brand_FIAT",
         "rawType": "float64",
         "type": "float"
        },
        {
         "name": "brand_FORD",
         "rawType": "float64",
         "type": "float"
        },
        {
         "name": "brand_HONDA",
         "rawType": "float64",
         "type": "float"
        },
        {
         "name": "brand_HYUNDAI",
         "rawType": "float64",
         "type": "float"
        },
        {
         "name": "brand_INFINITI",
         "rawType": "float64",
         "type": "float"
        },
        {
         "name": "brand_ISUZU",
         "rawType": "float64",
         "type": "float"
        },
        {
         "name": "brand_JAGUAR",
         "rawType": "float64",
         "type": "float"
        },
        {
         "name": "brand_JEEP",
         "rawType": "float64",
         "type": "float"
        },
        {
         "name": "brand_KIA",
         "rawType": "float64",
         "type": "float"
        },
        {
         "name": "brand_LAGONDA",
         "rawType": "float64",
         "type": "float"
        },
        {
         "name": "brand_LAND",
         "rawType": "float64",
         "type": "float"
        },
        {
         "name": "brand_LEXUS",
         "rawType": "float64",
         "type": "float"
        },
        {
         "name": "brand_MARCOS",
         "rawType": "float64",
         "type": "float"
        },
        {
         "name": "brand_MASERATI",
         "rawType": "float64",
         "type": "float"
        },
        {
         "name": "brand_MAZDA",
         "rawType": "float64",
         "type": "float"
        },
        {
         "name": "brand_MERCEDES-BENZ",
         "rawType": "float64",
         "type": "float"
        },
        {
         "name": "brand_MG",
         "rawType": "float64",
         "type": "float"
        },
        {
         "name": "brand_MINI",
         "rawType": "float64",
         "type": "float"
        },
        {
         "name": "brand_MITSUBISHI",
         "rawType": "float64",
         "type": "float"
        },
        {
         "name": "brand_NISSAN",
         "rawType": "float64",
         "type": "float"
        },
        {
         "name": "brand_PEUGEOT",
         "rawType": "float64",
         "type": "float"
        },
        {
         "name": "brand_PORSCHE",
         "rawType": "float64",
         "type": "float"
        },
        {
         "name": "brand_PROTON",
         "rawType": "float64",
         "type": "float"
        },
        {
         "name": "brand_RENAULT",
         "rawType": "float64",
         "type": "float"
        },
        {
         "name": "brand_ROVER",
         "rawType": "float64",
         "type": "float"
        },
        {
         "name": "brand_SAAB",
         "rawType": "float64",
         "type": "float"
        },
        {
         "name": "brand_SEAT",
         "rawType": "float64",
         "type": "float"
        },
        {
         "name": "brand_SKODA",
         "rawType": "float64",
         "type": "float"
        },
        {
         "name": "brand_SMART",
         "rawType": "float64",
         "type": "float"
        },
        {
         "name": "brand_SSANGYONG",
         "rawType": "float64",
         "type": "float"
        },
        {
         "name": "brand_SUBARU",
         "rawType": "float64",
         "type": "float"
        },
        {
         "name": "brand_SUZUKI",
         "rawType": "float64",
         "type": "float"
        },
        {
         "name": "brand_TOYOTA",
         "rawType": "float64",
         "type": "float"
        },
        {
         "name": "brand_VAUXHALL",
         "rawType": "float64",
         "type": "float"
        },
        {
         "name": "brand_VOLKSWAGEN",
         "rawType": "float64",
         "type": "float"
        },
        {
         "name": "brand_VOLVO",
         "rawType": "float64",
         "type": "float"
        },
        {
         "name": "country_France",
         "rawType": "float64",
         "type": "float"
        },
        {
         "name": "country_Germany",
         "rawType": "float64",
         "type": "float"
        },
        {
         "name": "country_Italy",
         "rawType": "float64",
         "type": "float"
        },
        {
         "name": "country_Japan",
         "rawType": "float64",
         "type": "float"
        },
        {
         "name": "country_Malaysia",
         "rawType": "float64",
         "type": "float"
        },
        {
         "name": "country_Romania",
         "rawType": "float64",
         "type": "float"
        },
        {
         "name": "country_South Korea",
         "rawType": "float64",
         "type": "float"
        },
        {
         "name": "country_Spain",
         "rawType": "float64",
         "type": "float"
        },
        {
         "name": "country_Sweden",
         "rawType": "float64",
         "type": "float"
        },
        {
         "name": "country_United Kingdom",
         "rawType": "float64",
         "type": "float"
        },
        {
         "name": "country_United States",
         "rawType": "float64",
         "type": "float"
        }
       ],
       "ref": "93f70786-344c-4a5a-97de-18deb8628352",
       "rows": [
        [
         "0",
         "0.5267938237965486",
         "-0.21320844923504867",
         "0.5714285714285714",
         "0.0",
         "-0.3333333333333337",
         "0.0",
         "0.0",
         "0.5",
         "0.0",
         "0.0",
         "-1.0",
         "0.0",
         "0.0",
         "0.0",
         "0.0",
         "0.0",
         "0.0",
         "0.0",
         "0.0",
         "0.0",
         "0.0",
         "0.0",
         "0.0",
         "0.0",
         "0.0",
         "0.0",
         "0.0",
         "0.0",
         "0.0",
         "0.0",
         "0.0",
         "0.0",
         "0.0",
         "0.0",
         "0.0",
         "0.0",
         "0.0",
         "0.0",
         "0.0",
         "0.0",
         "0.0",
         "0.0",
         "0.0",
         "0.0",
         "0.0",
         "0.0",
         "0.0",
         "0.0",
         "0.0",
         "0.0",
         "0.0",
         "0.0",
         "0.0",
         "0.0",
         "0.0",
         "0.0",
         "0.0",
         "0.0",
         "0.0",
         "0.0",
         "0.0",
         "0.0",
         "1.0",
         "0.0",
         "0.0",
         "0.0",
         "0.0",
         "0.0",
         "0.0",
         "0.0",
         "0.0",
         "0.0",
         "0.0",
         "0.0",
         "0.0",
         "0.0",
         "0.0",
         "0.0",
         "0.0",
         "0.0",
         "0.0",
         "0.0"
        ],
        [
         "1",
         "-0.4550408719346049",
         "0.18656554242002782",
         "-0.5714285714285714",
         "1.0",
         "-0.6666666666666671",
         "-1.0",
         "0.0",
         "-0.5",
         "0.0",
         "0.0",
         "0.0",
         "0.0",
         "0.0",
         "0.0",
         "0.0",
         "0.0",
         "0.0",
         "0.0",
         "0.0",
         "0.0",
         "0.0",
         "0.0",
         "0.0",
         "-1.0",
         "0.0",
         "0.0",
         "0.0",
         "0.0",
         "0.0",
         "0.0",
         "0.0",
         "0.0",
         "0.0",
         "0.0",
         "0.0",
         "0.0",
         "0.0",
         "0.0",
         "0.0",
         "0.0",
         "0.0",
         "0.0",
         "0.0",
         "0.0",
         "0.0",
         "0.0",
         "0.0",
         "0.0",
         "0.0",
         "0.0",
         "0.0",
         "0.0",
         "0.0",
         "0.0",
         "0.0",
         "0.0",
         "0.0",
         "0.0",
         "0.0",
         "0.0",
         "0.0",
         "0.0",
         "0.0",
         "0.0",
         "0.0",
         "0.0",
         "0.0",
         "0.0",
         "1.0",
         "0.0",
         "0.0",
         "0.0",
         "0.0",
         "0.0",
         "0.0",
         "0.0",
         "0.0",
         "0.0",
         "0.0",
         "0.0",
         "1.0",
         "0.0"
        ],
        [
         "2",
         "-0.5542234332425068",
         "1.2386995827538247",
         "-0.14285714285714285",
         "0.0",
         "-0.3333333333333337",
         "0.0",
         "0.0",
         "0.0",
         "0.0",
         "0.0",
         "0.0",
         "0.0",
         "0.0",
         "0.0",
         "0.0",
         "0.0",
         "0.0",
         "0.0",
         "0.0",
         "0.0",
         "0.0",
         "0.0",
         "0.0",
         "0.0",
         "0.0",
         "0.0",
         "0.0",
         "0.0",
         "0.0",
         "0.0",
         "0.0",
         "0.0",
         "0.0",
         "0.0",
         "0.0",
         "0.0",
         "0.0",
         "0.0",
         "1.0",
         "0.0",
         "0.0",
         "0.0",
         "0.0",
         "0.0",
         "0.0",
         "0.0",
         "0.0",
         "0.0",
         "0.0",
         "0.0",
         "0.0",
         "0.0",
         "0.0",
         "0.0",
         "0.0",
         "0.0",
         "0.0",
         "0.0",
         "0.0",
         "0.0",
         "0.0",
         "0.0",
         "0.0",
         "0.0",
         "0.0",
         "0.0",
         "0.0",
         "0.0",
         "0.0",
         "0.0",
         "0.0",
         "0.0",
         "0.0",
         "0.0",
         "0.0",
         "0.0",
         "0.0",
         "1.0",
         "0.0",
         "0.0",
         "0.0",
         "0.0"
        ],
        [
         "3",
         "-0.29155313351498635",
         "0.36359092489568845",
         "-0.2857142857142857",
         "2.0",
         "-0.3333333333333337",
         "-1.0",
         "-1.0",
         "-0.5",
         "0.0",
         "0.0",
         "0.0",
         "0.0",
         "0.0",
         "0.0",
         "0.0",
         "0.0",
         "0.0",
         "0.0",
         "0.0",
         "0.0",
         "0.0",
         "0.0",
         "0.0",
         "-1.0",
         "0.0",
         "0.0",
         "0.0",
         "0.0",
         "0.0",
         "0.0",
         "0.0",
         "0.0",
         "0.0",
         "0.0",
         "0.0",
         "0.0",
         "0.0",
         "0.0",
         "0.0",
         "0.0",
         "0.0",
         "0.0",
         "0.0",
         "0.0",
         "0.0",
         "0.0",
         "0.0",
         "0.0",
         "0.0",
         "0.0",
         "0.0",
         "0.0",
         "1.0",
         "0.0",
         "0.0",
         "0.0",
         "0.0",
         "0.0",
         "0.0",
         "0.0",
         "0.0",
         "0.0",
         "0.0",
         "0.0",
         "0.0",
         "0.0",
         "0.0",
         "0.0",
         "0.0",
         "0.0",
         "0.0",
         "0.0",
         "0.0",
         "0.0",
         "0.0",
         "0.0",
         "0.0",
         "0.0",
         "0.0",
         "0.0",
         "1.0",
         "0.0"
        ],
        [
         "4",
         "-0.5449591280653951",
         "0.10865785813630041",
         "0.14285714285714285",
         "0.0",
         "-0.5000000000000002",
         "0.0",
         "0.0",
         "0.0",
         "0.0",
         "0.0",
         "-1.0",
         "0.0",
         "0.0",
         "0.0",
         "0.0",
         "0.0",
         "0.0",
         "0.0",
         "0.0",
         "0.0",
         "0.0",
         "0.0",
         "0.0",
         "0.0",
         "0.0",
         "0.0",
         "0.0",
         "0.0",
         "0.0",
         "0.0",
         "0.0",
         "0.0",
         "0.0",
         "0.0",
         "0.0",
         "0.0",
         "0.0",
         "0.0",
         "0.0",
         "0.0",
         "0.0",
         "0.0",
         "0.0",
         "0.0",
         "0.0",
         "0.0",
         "0.0",
         "0.0",
         "0.0",
         "0.0",
         "0.0",
         "0.0",
         "0.0",
         "0.0",
         "0.0",
         "0.0",
         "0.0",
         "0.0",
         "0.0",
         "0.0",
         "0.0",
         "0.0",
         "0.0",
         "0.0",
         "0.0",
         "0.0",
         "0.0",
         "0.0",
         "1.0",
         "0.0",
         "0.0",
         "0.0",
         "0.0",
         "0.0",
         "0.0",
         "0.0",
         "0.0",
         "0.0",
         "0.0",
         "0.0",
         "1.0",
         "0.0"
        ]
       ],
       "shape": {
        "columns": 82,
        "rows": 5
       }
      },
      "text/html": [
       "<div>\n",
       "<style scoped>\n",
       "    .dataframe tbody tr th:only-of-type {\n",
       "        vertical-align: middle;\n",
       "    }\n",
       "\n",
       "    .dataframe tbody tr th {\n",
       "        vertical-align: top;\n",
       "    }\n",
       "\n",
       "    .dataframe thead th {\n",
       "        text-align: right;\n",
       "    }\n",
       "</style>\n",
       "<table border=\"1\" class=\"dataframe\">\n",
       "  <thead>\n",
       "    <tr style=\"text-align: right;\">\n",
       "      <th></th>\n",
       "      <th>Price</th>\n",
       "      <th>Mileage(miles)</th>\n",
       "      <th>Registration_Year</th>\n",
       "      <th>Previous Owners</th>\n",
       "      <th>Engine</th>\n",
       "      <th>Doors</th>\n",
       "      <th>Seats</th>\n",
       "      <th>Emission Class</th>\n",
       "      <th>Fuel type_Diesel Hybrid</th>\n",
       "      <th>Fuel type_Electric</th>\n",
       "      <th>...</th>\n",
       "      <th>country_Germany</th>\n",
       "      <th>country_Italy</th>\n",
       "      <th>country_Japan</th>\n",
       "      <th>country_Malaysia</th>\n",
       "      <th>country_Romania</th>\n",
       "      <th>country_South Korea</th>\n",
       "      <th>country_Spain</th>\n",
       "      <th>country_Sweden</th>\n",
       "      <th>country_United Kingdom</th>\n",
       "      <th>country_United States</th>\n",
       "    </tr>\n",
       "  </thead>\n",
       "  <tbody>\n",
       "    <tr>\n",
       "      <th>0</th>\n",
       "      <td>0.526794</td>\n",
       "      <td>-0.213208</td>\n",
       "      <td>0.571429</td>\n",
       "      <td>0.0</td>\n",
       "      <td>-0.333333</td>\n",
       "      <td>0.0</td>\n",
       "      <td>0.0</td>\n",
       "      <td>0.5</td>\n",
       "      <td>0.0</td>\n",
       "      <td>0.0</td>\n",
       "      <td>...</td>\n",
       "      <td>0.0</td>\n",
       "      <td>0.0</td>\n",
       "      <td>0.0</td>\n",
       "      <td>0.0</td>\n",
       "      <td>0.0</td>\n",
       "      <td>0.0</td>\n",
       "      <td>0.0</td>\n",
       "      <td>0.0</td>\n",
       "      <td>0.0</td>\n",
       "      <td>0.0</td>\n",
       "    </tr>\n",
       "    <tr>\n",
       "      <th>1</th>\n",
       "      <td>-0.455041</td>\n",
       "      <td>0.186566</td>\n",
       "      <td>-0.571429</td>\n",
       "      <td>1.0</td>\n",
       "      <td>-0.666667</td>\n",
       "      <td>-1.0</td>\n",
       "      <td>0.0</td>\n",
       "      <td>-0.5</td>\n",
       "      <td>0.0</td>\n",
       "      <td>0.0</td>\n",
       "      <td>...</td>\n",
       "      <td>0.0</td>\n",
       "      <td>0.0</td>\n",
       "      <td>0.0</td>\n",
       "      <td>0.0</td>\n",
       "      <td>0.0</td>\n",
       "      <td>0.0</td>\n",
       "      <td>0.0</td>\n",
       "      <td>0.0</td>\n",
       "      <td>1.0</td>\n",
       "      <td>0.0</td>\n",
       "    </tr>\n",
       "    <tr>\n",
       "      <th>2</th>\n",
       "      <td>-0.554223</td>\n",
       "      <td>1.238700</td>\n",
       "      <td>-0.142857</td>\n",
       "      <td>0.0</td>\n",
       "      <td>-0.333333</td>\n",
       "      <td>0.0</td>\n",
       "      <td>0.0</td>\n",
       "      <td>0.0</td>\n",
       "      <td>0.0</td>\n",
       "      <td>0.0</td>\n",
       "      <td>...</td>\n",
       "      <td>0.0</td>\n",
       "      <td>0.0</td>\n",
       "      <td>0.0</td>\n",
       "      <td>0.0</td>\n",
       "      <td>0.0</td>\n",
       "      <td>1.0</td>\n",
       "      <td>0.0</td>\n",
       "      <td>0.0</td>\n",
       "      <td>0.0</td>\n",
       "      <td>0.0</td>\n",
       "    </tr>\n",
       "    <tr>\n",
       "      <th>3</th>\n",
       "      <td>-0.291553</td>\n",
       "      <td>0.363591</td>\n",
       "      <td>-0.285714</td>\n",
       "      <td>2.0</td>\n",
       "      <td>-0.333333</td>\n",
       "      <td>-1.0</td>\n",
       "      <td>-1.0</td>\n",
       "      <td>-0.5</td>\n",
       "      <td>0.0</td>\n",
       "      <td>0.0</td>\n",
       "      <td>...</td>\n",
       "      <td>0.0</td>\n",
       "      <td>0.0</td>\n",
       "      <td>0.0</td>\n",
       "      <td>0.0</td>\n",
       "      <td>0.0</td>\n",
       "      <td>0.0</td>\n",
       "      <td>0.0</td>\n",
       "      <td>0.0</td>\n",
       "      <td>1.0</td>\n",
       "      <td>0.0</td>\n",
       "    </tr>\n",
       "    <tr>\n",
       "      <th>4</th>\n",
       "      <td>-0.544959</td>\n",
       "      <td>0.108658</td>\n",
       "      <td>0.142857</td>\n",
       "      <td>0.0</td>\n",
       "      <td>-0.500000</td>\n",
       "      <td>0.0</td>\n",
       "      <td>0.0</td>\n",
       "      <td>0.0</td>\n",
       "      <td>0.0</td>\n",
       "      <td>0.0</td>\n",
       "      <td>...</td>\n",
       "      <td>0.0</td>\n",
       "      <td>0.0</td>\n",
       "      <td>0.0</td>\n",
       "      <td>0.0</td>\n",
       "      <td>0.0</td>\n",
       "      <td>0.0</td>\n",
       "      <td>0.0</td>\n",
       "      <td>0.0</td>\n",
       "      <td>1.0</td>\n",
       "      <td>0.0</td>\n",
       "    </tr>\n",
       "  </tbody>\n",
       "</table>\n",
       "<p>5 rows × 82 columns</p>\n",
       "</div>"
      ],
      "text/plain": [
       "      Price  Mileage(miles)  Registration_Year  Previous Owners    Engine  \\\n",
       "0  0.526794       -0.213208           0.571429              0.0 -0.333333   \n",
       "1 -0.455041        0.186566          -0.571429              1.0 -0.666667   \n",
       "2 -0.554223        1.238700          -0.142857              0.0 -0.333333   \n",
       "3 -0.291553        0.363591          -0.285714              2.0 -0.333333   \n",
       "4 -0.544959        0.108658           0.142857              0.0 -0.500000   \n",
       "\n",
       "   Doors  Seats  Emission Class  Fuel type_Diesel Hybrid  Fuel type_Electric  \\\n",
       "0    0.0    0.0             0.5                      0.0                 0.0   \n",
       "1   -1.0    0.0            -0.5                      0.0                 0.0   \n",
       "2    0.0    0.0             0.0                      0.0                 0.0   \n",
       "3   -1.0   -1.0            -0.5                      0.0                 0.0   \n",
       "4    0.0    0.0             0.0                      0.0                 0.0   \n",
       "\n",
       "   ...  country_Germany  country_Italy  country_Japan  country_Malaysia  \\\n",
       "0  ...              0.0            0.0            0.0               0.0   \n",
       "1  ...              0.0            0.0            0.0               0.0   \n",
       "2  ...              0.0            0.0            0.0               0.0   \n",
       "3  ...              0.0            0.0            0.0               0.0   \n",
       "4  ...              0.0            0.0            0.0               0.0   \n",
       "\n",
       "   country_Romania  country_South Korea  country_Spain  country_Sweden  \\\n",
       "0              0.0                  0.0            0.0             0.0   \n",
       "1              0.0                  0.0            0.0             0.0   \n",
       "2              0.0                  1.0            0.0             0.0   \n",
       "3              0.0                  0.0            0.0             0.0   \n",
       "4              0.0                  0.0            0.0             0.0   \n",
       "\n",
       "   country_United Kingdom  country_United States  \n",
       "0                     0.0                    0.0  \n",
       "1                     1.0                    0.0  \n",
       "2                     0.0                    0.0  \n",
       "3                     1.0                    0.0  \n",
       "4                     1.0                    0.0  \n",
       "\n",
       "[5 rows x 82 columns]"
      ]
     },
     "execution_count": 341,
     "metadata": {},
     "output_type": "execute_result"
    }
   ],
   "source": [
    "df_merge2_rs = pd.DataFrame(df_merge2_rs,\n",
    "                            index=df_merge2.index,\n",
    "                            columns=df_merge2.columns\n",
    "                            )\n",
    "\n",
    "df_merge2_rs.head()"
   ]
  },
  {
   "cell_type": "code",
   "execution_count": 346,
   "id": "1c8e7c3c",
   "metadata": {},
   "outputs": [
    {
     "data": {
      "application/vnd.microsoft.datawrangler.viewer.v0+json": {
       "columns": [
        {
         "name": "index",
         "rawType": "int64",
         "type": "integer"
        },
        {
         "name": "PCA1",
         "rawType": "float64",
         "type": "float"
        },
        {
         "name": "PCA2",
         "rawType": "float64",
         "type": "float"
        },
        {
         "name": "PCA3",
         "rawType": "float64",
         "type": "float"
        },
        {
         "name": "PCA4",
         "rawType": "float64",
         "type": "float"
        },
        {
         "name": "PCA5",
         "rawType": "float64",
         "type": "float"
        },
        {
         "name": "PCA6",
         "rawType": "float64",
         "type": "float"
        },
        {
         "name": "PCA7",
         "rawType": "float64",
         "type": "float"
        }
       ],
       "ref": "462019f9-c8c6-457c-812c-ca67010412f5",
       "rows": [
        [
         "0",
         "-0.514980423500009",
         "-0.42263699894877765",
         "0.4150026146482891",
         "0.6466759494618001",
         "0.28728176141006556",
         "0.03261000279075667",
         "0.017743609538872912"
        ],
        [
         "1",
         "1.3123836505363211",
         "-1.2171697213491621",
         "-0.3495543583244132",
         "-0.2683556006859775",
         "-0.15976308218108354",
         "0.9984146663044196",
         "-0.0701933486496264"
        ],
        [
         "2",
         "0.8120797586761064",
         "-0.22388179404248476",
         "-1.006030211278373",
         "0.6544069506268317",
         "0.6632323830482019",
         "0.05114866490759539",
         "-0.08469685277636951"
        ],
        [
         "3",
         "1.9619832804650088",
         "-1.3126415934800062",
         "0.5176190730982719",
         "-0.7097511036016935",
         "0.5465313278309799",
         "0.6440877819487661",
         "-0.13321681706613103"
        ],
        [
         "4",
         "0.2675748048312649",
         "-0.6533143254922128",
         "-0.5146383568872405",
         "0.5559644653228749",
         "-0.12574190087254516",
         "1.161922675595119",
         "-0.1792727113041898"
        ],
        [
         "5",
         "1.3112221507426494",
         "0.60487704230371",
         "-0.7415424751705633",
         "-1.0139095149212498",
         "0.4323874852398534",
         "0.03988061700600697",
         "-0.40323608369632497"
        ],
        [
         "6",
         "1.1921984886806374",
         "0.03519583571730606",
         "-1.307702255254968",
         "0.5545345335890373",
         "0.426577032688755",
         "-0.15874882283506064",
         "1.0076022054773401"
        ],
        [
         "7",
         "0.589280376048116",
         "-0.8928236715002253",
         "-0.8735405399218079",
         "-0.33645415581358595",
         "-0.11888556521971362",
         "1.0435055101143995",
         "-0.13620493395762212"
        ],
        [
         "8",
         "2.1101288169943833",
         "-0.8477652289697967",
         "0.5744291965503907",
         "0.5873278761382149",
         "-0.22337137638285898",
         "-0.3628091268621158",
         "-0.16930388437005528"
        ],
        [
         "9",
         "1.4083069893574984",
         "0.6327732909101018",
         "-1.3700161556534984",
         "0.617187483436517",
         "1.3173137542490858",
         "0.08306342010614423",
         "0.7942206261299503"
        ],
        [
         "10",
         "1.0354860932765886",
         "-0.6771197393739875",
         "0.29461465409698523",
         "0.20017077927631236",
         "-0.4979398073416683",
         "1.1951270639277607",
         "0.1136578969361382"
        ],
        [
         "11",
         "-0.514980423500009",
         "-0.42263699894877765",
         "0.4150026146482891",
         "0.6466759494618001",
         "0.28728176141006556",
         "0.03261000279075667",
         "0.017743609538872912"
        ],
        [
         "12",
         "-2.7522447268553125",
         "2.109396744944903",
         "1.2538694680501528",
         "-0.33644004961705076",
         "0.5405955905285622",
         "-0.09526786379111749",
         "0.23378420854412008"
        ],
        [
         "13",
         "1.2171437825893083",
         "-0.5295262628002338",
         "-1.528420291508306",
         "-0.27632099656782416",
         "1.582562866486941",
         "-0.13792558348516565",
         "-0.5688390187873495"
        ],
        [
         "14",
         "0.8914708452112474",
         "-0.5063837999507916",
         "-1.0886849759761794",
         "0.16114337204237186",
         "-0.2815364307001572",
         "1.029298669983604",
         "-0.058272064519540256"
        ],
        [
         "15",
         "0.29209047772470476",
         "0.38727953309886193",
         "-1.5072473000734439",
         "0.36415980999705655",
         "-0.09624279297881969",
         "-0.26878848851122566",
         "-0.26819440940928035"
        ],
        [
         "16",
         "0.982584327625165",
         "0.21966388661027186",
         "-0.9200788605635624",
         "0.7546032888551664",
         "0.43883181773727165",
         "-0.0889253726443171",
         "-0.25084692116557733"
        ],
        [
         "17",
         "2.7746981746866664",
         "-0.31829679410596773",
         "0.09333685247092377",
         "0.26058920370498445",
         "-0.21193114534531088",
         "1.0530432215671377",
         "0.07829222797490865"
        ],
        [
         "18",
         "0.5061872312422667",
         "0.018135488806575117",
         "-0.491973362925622",
         "0.7979979886090677",
         "0.4143162506997664",
         "-0.018571611419224872",
         "-0.22272894491146372"
        ],
        [
         "19",
         "0.5061872312422667",
         "0.018135488806575117",
         "-0.491973362925622",
         "0.7979979886090677",
         "0.4143162506997664",
         "-0.018571611419224872",
         "-0.22272894491146372"
        ],
        [
         "20",
         "0.8093921741444027",
         "0.16740949956576162",
         "-0.724857660276061",
         "0.530831116767453",
         "-0.058670789530006144",
         "-0.15906576140854956",
         "1.0367800400490712"
        ],
        [
         "21",
         "-1.3859069059393625",
         "-0.5249824381489004",
         "1.3478491173110219",
         "0.20221956715301448",
         "0.6014879326996441",
         "-0.19467180916992505",
         "0.41853616041380826"
        ],
        [
         "22",
         "1.3063864049349299",
         "1.5964777083571988",
         "0.10713427088466076",
         "-1.785623905404328",
         "-0.45115061430041115",
         "0.03783010595873045",
         "-0.24638196763657455"
        ],
        [
         "23",
         "0.9745926816079323",
         "-0.8960422693938923",
         "-1.1885508981063455",
         "-1.2359768115399987",
         "-0.1676004650851497",
         "-0.5647833890021502",
         "0.919142583346424"
        ],
        [
         "24",
         "1.0354860932765886",
         "-0.6771197393739875",
         "0.29461465409698523",
         "0.20017077927631236",
         "-0.4979398073416683",
         "1.1951270639277607",
         "0.1136578969361382"
        ],
        [
         "25",
         "-2.7883736544029856",
         "0.4867413659455874",
         "0.30288219736733585",
         "-0.07346997340794306",
         "0.6178267396155551",
         "-0.21701809174491127",
         "0.4253358858626565"
        ],
        [
         "26",
         "-0.5589502098824746",
         "-0.202537479014335",
         "0.4663952648882274",
         "0.9038099988809692",
         "0.6184890520438096",
         "-0.05679837226779356",
         "1.0151776755774007"
        ],
        [
         "27",
         "-0.633980800851105",
         "-0.29370398221824695",
         "-0.7760213652875776",
         "-0.04827826989690734",
         "-0.5685413904510881",
         "-0.26674379641940826",
         "0.024009350395940543"
        ],
        [
         "28",
         "0.5635977546687263",
         "1.154014985804617",
         "-1.6026666757181673",
         "0.4770228104608405",
         "0.32634064968419885",
         "0.122082298275874",
         "0.01628170689277178"
        ],
        [
         "29",
         "0.8160565781935212",
         "0.13066305859535005",
         "-0.7276902613761291",
         "0.44854884398516925",
         "-0.18962993089058272",
         "-0.20436421836030333",
         "1.0553796823874375"
        ],
        [
         "30",
         "1.0116914790463707",
         "-0.25832406896113247",
         "-1.2527304598875897",
         "0.5044074737562466",
         "0.34492540904002245",
         "-0.3532607270365506",
         "-0.46722012747168423"
        ],
        [
         "31",
         "1.1274172242574865",
         "0.660218959839149",
         "-0.3919903117574651",
         "-1.618389840679614",
         "0.12109854990366542",
         "-0.07728575461734793",
         "-0.31906113477577897"
        ],
        [
         "32",
         "1.0248343604393517",
         "-0.7315828624431617",
         "0.005663932255895093",
         "0.3904191384219111",
         "0.6991855549199697",
         "-0.2930358380636708",
         "0.2990425131146506"
        ],
        [
         "33",
         "0.6214324265768096",
         "0.5727687712675995",
         "0.12212505937292112",
         "-1.5614498971090862",
         "0.6078279242021166",
         "0.007360699021034388",
         "-0.0893054970593452"
        ],
        [
         "34",
         "0.617295283494576",
         "-0.7843769580124597",
         "-0.7757226703805251",
         "-0.5240326936240746",
         "-0.46629152271410157",
         "1.0356420336038528",
         "-0.0507645986772427"
        ],
        [
         "35",
         "1.8550587240556038",
         "-1.2745439691697",
         "0.4621291704414097",
         "0.5245015370785757",
         "-0.054573524130015816",
         "1.1052119739430268",
         "0.019824270585419468"
        ],
        [
         "36",
         "0.3256779480664198",
         "-0.6170992883762039",
         "-0.6251120874037116",
         "0.2896121661513468",
         "-0.1612630311599737",
         "1.138321069499722",
         "0.0020772793878759133"
        ],
        [
         "37",
         "-0.6097289924327173",
         "0.8588730880334954",
         "-2.075259526341186",
         "0.5251338521952678",
         "1.1454820588197752",
         "-0.1250296117525565",
         "0.006757254039056637"
        ],
        [
         "38",
         "-2.7883736544029856",
         "0.4867413659455874",
         "0.30288219736733585",
         "-0.07346997340794306",
         "0.6178267396155551",
         "-0.21701809174491127",
         "0.4253358858626565"
        ],
        [
         "39",
         "-1.4325659906584298",
         "-1.3671838349132726",
         "1.0413773938339215",
         "0.2369945852773629",
         "-0.31805087387512343",
         "1.0843101186267912",
         "0.0925197002568556"
        ],
        [
         "40",
         "0.456753564534758",
         "-1.0955053124915055",
         "-0.7570509480455601",
         "-0.5609239240456",
         "-0.5344338323143429",
         "0.9375379637239206",
         "-0.07445453583431866"
        ],
        [
         "41",
         "2.255358466679067",
         "0.3463188256558896",
         "-0.6843040905577337",
         "0.5721193244384044",
         "0.49060547866472304",
         "1.2829702032971406",
         "-0.05049919347746196"
        ],
        [
         "42",
         "1.0533069778581023",
         "-0.6873454843242484",
         "-1.3005823615008916",
         "-0.3285367810030585",
         "-0.013593771354918849",
         "1.01814285391918",
         "-0.17809092557323963"
        ],
        [
         "43",
         "0.6993916291613331",
         "-0.19952155794250226",
         "-0.7033953030744056",
         "-0.04859442327872052",
         "-0.7115647282364106",
         "1.0998604054677523",
         "0.14140100793616467"
        ],
        [
         "44",
         "0.8495864866541956",
         "-0.1948824264603407",
         "-0.904464889359587",
         "0.23101750629823584",
         "-0.03161884345470112",
         "1.049901651052485",
         "-0.046178861359585544"
        ],
        [
         "45",
         "1.269034469369495",
         "0.7904683390954095",
         "-0.4209739405097783",
         "-1.348802730567014",
         "-1.2645790827871362",
         "-0.7508977993291103",
         "0.31121093018435664"
        ],
        [
         "46",
         "2.1261324582036907",
         "-0.1752352250702513",
         "-0.7380088938276463",
         "0.10621658433144045",
         "-0.24623732813561747",
         "-0.5323318281243421",
         "1.1616723404156013"
        ],
        [
         "47",
         "1.4805164867019778",
         "-0.7062954042323031",
         "-0.3661195079216309",
         "0.2393050734795718",
         "0.5001671635796427",
         "-0.40161232173502365",
         "0.25203182928510065"
        ],
        [
         "48",
         "0.21200856080872257",
         "-0.6840792458276022",
         "-0.3971906466532414",
         "-0.08682655561887284",
         "0.2185555279410574",
         "1.2986952214762701",
         "-0.11617043236338909"
        ],
        [
         "49",
         "1.006809959589043",
         "1.8436282450339858",
         "-1.6265047766747096",
         "0.12826050574087022",
         "-0.26805398230667077",
         "-0.1493402049601042",
         "-0.5585347502805416"
        ]
       ],
       "shape": {
        "columns": 7,
        "rows": 3669
       }
      },
      "text/html": [
       "<div>\n",
       "<style scoped>\n",
       "    .dataframe tbody tr th:only-of-type {\n",
       "        vertical-align: middle;\n",
       "    }\n",
       "\n",
       "    .dataframe tbody tr th {\n",
       "        vertical-align: top;\n",
       "    }\n",
       "\n",
       "    .dataframe thead th {\n",
       "        text-align: right;\n",
       "    }\n",
       "</style>\n",
       "<table border=\"1\" class=\"dataframe\">\n",
       "  <thead>\n",
       "    <tr style=\"text-align: right;\">\n",
       "      <th></th>\n",
       "      <th>PCA1</th>\n",
       "      <th>PCA2</th>\n",
       "      <th>PCA3</th>\n",
       "      <th>PCA4</th>\n",
       "      <th>PCA5</th>\n",
       "      <th>PCA6</th>\n",
       "      <th>PCA7</th>\n",
       "    </tr>\n",
       "  </thead>\n",
       "  <tbody>\n",
       "    <tr>\n",
       "      <th>0</th>\n",
       "      <td>-0.514980</td>\n",
       "      <td>-0.422637</td>\n",
       "      <td>0.415003</td>\n",
       "      <td>0.646676</td>\n",
       "      <td>0.287282</td>\n",
       "      <td>0.032610</td>\n",
       "      <td>0.017744</td>\n",
       "    </tr>\n",
       "    <tr>\n",
       "      <th>1</th>\n",
       "      <td>1.312384</td>\n",
       "      <td>-1.217170</td>\n",
       "      <td>-0.349554</td>\n",
       "      <td>-0.268356</td>\n",
       "      <td>-0.159763</td>\n",
       "      <td>0.998415</td>\n",
       "      <td>-0.070193</td>\n",
       "    </tr>\n",
       "    <tr>\n",
       "      <th>2</th>\n",
       "      <td>0.812080</td>\n",
       "      <td>-0.223882</td>\n",
       "      <td>-1.006030</td>\n",
       "      <td>0.654407</td>\n",
       "      <td>0.663232</td>\n",
       "      <td>0.051149</td>\n",
       "      <td>-0.084697</td>\n",
       "    </tr>\n",
       "    <tr>\n",
       "      <th>3</th>\n",
       "      <td>1.961983</td>\n",
       "      <td>-1.312642</td>\n",
       "      <td>0.517619</td>\n",
       "      <td>-0.709751</td>\n",
       "      <td>0.546531</td>\n",
       "      <td>0.644088</td>\n",
       "      <td>-0.133217</td>\n",
       "    </tr>\n",
       "    <tr>\n",
       "      <th>4</th>\n",
       "      <td>0.267575</td>\n",
       "      <td>-0.653314</td>\n",
       "      <td>-0.514638</td>\n",
       "      <td>0.555964</td>\n",
       "      <td>-0.125742</td>\n",
       "      <td>1.161923</td>\n",
       "      <td>-0.179273</td>\n",
       "    </tr>\n",
       "    <tr>\n",
       "      <th>...</th>\n",
       "      <td>...</td>\n",
       "      <td>...</td>\n",
       "      <td>...</td>\n",
       "      <td>...</td>\n",
       "      <td>...</td>\n",
       "      <td>...</td>\n",
       "      <td>...</td>\n",
       "    </tr>\n",
       "    <tr>\n",
       "      <th>3664</th>\n",
       "      <td>1.427772</td>\n",
       "      <td>-0.807223</td>\n",
       "      <td>-0.187850</td>\n",
       "      <td>0.093612</td>\n",
       "      <td>-0.565527</td>\n",
       "      <td>-0.429525</td>\n",
       "      <td>0.001001</td>\n",
       "    </tr>\n",
       "    <tr>\n",
       "      <th>3665</th>\n",
       "      <td>0.435272</td>\n",
       "      <td>1.081559</td>\n",
       "      <td>0.283845</td>\n",
       "      <td>-0.141185</td>\n",
       "      <td>0.549215</td>\n",
       "      <td>-0.033513</td>\n",
       "      <td>0.091047</td>\n",
       "    </tr>\n",
       "    <tr>\n",
       "      <th>3666</th>\n",
       "      <td>0.757281</td>\n",
       "      <td>1.455642</td>\n",
       "      <td>0.085260</td>\n",
       "      <td>0.230943</td>\n",
       "      <td>0.864446</td>\n",
       "      <td>0.084921</td>\n",
       "      <td>-0.061957</td>\n",
       "    </tr>\n",
       "    <tr>\n",
       "      <th>3667</th>\n",
       "      <td>1.658730</td>\n",
       "      <td>1.682128</td>\n",
       "      <td>-1.001384</td>\n",
       "      <td>0.811344</td>\n",
       "      <td>0.409602</td>\n",
       "      <td>-0.056047</td>\n",
       "      <td>-0.769035</td>\n",
       "    </tr>\n",
       "    <tr>\n",
       "      <th>3668</th>\n",
       "      <td>2.919977</td>\n",
       "      <td>-2.386255</td>\n",
       "      <td>1.901952</td>\n",
       "      <td>0.806527</td>\n",
       "      <td>0.060973</td>\n",
       "      <td>1.044695</td>\n",
       "      <td>-0.021812</td>\n",
       "    </tr>\n",
       "  </tbody>\n",
       "</table>\n",
       "<p>3669 rows × 7 columns</p>\n",
       "</div>"
      ],
      "text/plain": [
       "          PCA1      PCA2      PCA3      PCA4      PCA5      PCA6      PCA7\n",
       "0    -0.514980 -0.422637  0.415003  0.646676  0.287282  0.032610  0.017744\n",
       "1     1.312384 -1.217170 -0.349554 -0.268356 -0.159763  0.998415 -0.070193\n",
       "2     0.812080 -0.223882 -1.006030  0.654407  0.663232  0.051149 -0.084697\n",
       "3     1.961983 -1.312642  0.517619 -0.709751  0.546531  0.644088 -0.133217\n",
       "4     0.267575 -0.653314 -0.514638  0.555964 -0.125742  1.161923 -0.179273\n",
       "...        ...       ...       ...       ...       ...       ...       ...\n",
       "3664  1.427772 -0.807223 -0.187850  0.093612 -0.565527 -0.429525  0.001001\n",
       "3665  0.435272  1.081559  0.283845 -0.141185  0.549215 -0.033513  0.091047\n",
       "3666  0.757281  1.455642  0.085260  0.230943  0.864446  0.084921 -0.061957\n",
       "3667  1.658730  1.682128 -1.001384  0.811344  0.409602 -0.056047 -0.769035\n",
       "3668  2.919977 -2.386255  1.901952  0.806527  0.060973  1.044695 -0.021812\n",
       "\n",
       "[3669 rows x 7 columns]"
      ]
     },
     "execution_count": 346,
     "metadata": {},
     "output_type": "execute_result"
    }
   ],
   "source": [
    "pca = PCA(n_components=7)\n",
    "pca_array = pca.fit_transform(df_merge2_rs)\n",
    "pca_df = pd.DataFrame(pca_array,\n",
    "                      columns=[f\"PCA{num+1}\" for num in range(pca_array.shape[1])]\n",
    "                      )\n",
    "\n",
    "pca_df"
   ]
  },
  {
   "cell_type": "code",
   "execution_count": 348,
   "id": "d8325940",
   "metadata": {},
   "outputs": [
    {
     "data": {
      "application/vnd.microsoft.datawrangler.viewer.v0+json": {
       "columns": [
        {
         "name": "index",
         "rawType": "object",
         "type": "string"
        },
        {
         "name": "설명 가능한 분산 비율",
         "rawType": "float64",
         "type": "float"
        },
        {
         "name": "기여율",
         "rawType": "float64",
         "type": "float"
        },
        {
         "name": "누적 기여율",
         "rawType": "float64",
         "type": "float"
        }
       ],
       "ref": "de51677f-540b-416e-8aa8-e31b4006094c",
       "rows": [
        [
         "PCA1",
         "2.1713693750276497",
         "0.28119681004731184",
         "0.28119681004731184"
        ],
        [
         "PCA2",
         "1.0041515972606294",
         "0.1300397017665437",
         "0.41123651181385557"
        ],
        [
         "PCA3",
         "0.833480391365562",
         "0.10793742878776513",
         "0.5191739406016207"
        ],
        [
         "PCA4",
         "0.5316342869780089",
         "0.06884773605508257",
         "0.5880216766567032"
        ],
        [
         "PCA5",
         "0.4031198154755605",
         "0.052204847080495054",
         "0.6402265237371982"
        ],
        [
         "PCA6",
         "0.30678304048996974",
         "0.03972903613476463",
         "0.6799555598719629"
        ],
        [
         "PCA7",
         "0.2335650614595879",
         "0.03024715692147225",
         "0.7102027167934352"
        ]
       ],
       "shape": {
        "columns": 3,
        "rows": 7
       }
      },
      "text/html": [
       "<div>\n",
       "<style scoped>\n",
       "    .dataframe tbody tr th:only-of-type {\n",
       "        vertical-align: middle;\n",
       "    }\n",
       "\n",
       "    .dataframe tbody tr th {\n",
       "        vertical-align: top;\n",
       "    }\n",
       "\n",
       "    .dataframe thead th {\n",
       "        text-align: right;\n",
       "    }\n",
       "</style>\n",
       "<table border=\"1\" class=\"dataframe\">\n",
       "  <thead>\n",
       "    <tr style=\"text-align: right;\">\n",
       "      <th></th>\n",
       "      <th>설명 가능한 분산 비율</th>\n",
       "      <th>기여율</th>\n",
       "      <th>누적 기여율</th>\n",
       "    </tr>\n",
       "  </thead>\n",
       "  <tbody>\n",
       "    <tr>\n",
       "      <th>PCA1</th>\n",
       "      <td>2.171369</td>\n",
       "      <td>0.281197</td>\n",
       "      <td>0.281197</td>\n",
       "    </tr>\n",
       "    <tr>\n",
       "      <th>PCA2</th>\n",
       "      <td>1.004152</td>\n",
       "      <td>0.130040</td>\n",
       "      <td>0.411237</td>\n",
       "    </tr>\n",
       "    <tr>\n",
       "      <th>PCA3</th>\n",
       "      <td>0.833480</td>\n",
       "      <td>0.107937</td>\n",
       "      <td>0.519174</td>\n",
       "    </tr>\n",
       "    <tr>\n",
       "      <th>PCA4</th>\n",
       "      <td>0.531634</td>\n",
       "      <td>0.068848</td>\n",
       "      <td>0.588022</td>\n",
       "    </tr>\n",
       "    <tr>\n",
       "      <th>PCA5</th>\n",
       "      <td>0.403120</td>\n",
       "      <td>0.052205</td>\n",
       "      <td>0.640227</td>\n",
       "    </tr>\n",
       "    <tr>\n",
       "      <th>PCA6</th>\n",
       "      <td>0.306783</td>\n",
       "      <td>0.039729</td>\n",
       "      <td>0.679956</td>\n",
       "    </tr>\n",
       "    <tr>\n",
       "      <th>PCA7</th>\n",
       "      <td>0.233565</td>\n",
       "      <td>0.030247</td>\n",
       "      <td>0.710203</td>\n",
       "    </tr>\n",
       "  </tbody>\n",
       "</table>\n",
       "</div>"
      ],
      "text/plain": [
       "      설명 가능한 분산 비율       기여율    누적 기여율\n",
       "PCA1      2.171369  0.281197  0.281197\n",
       "PCA2      1.004152  0.130040  0.411237\n",
       "PCA3      0.833480  0.107937  0.519174\n",
       "PCA4      0.531634  0.068848  0.588022\n",
       "PCA5      0.403120  0.052205  0.640227\n",
       "PCA6      0.306783  0.039729  0.679956\n",
       "PCA7      0.233565  0.030247  0.710203"
      ]
     },
     "execution_count": 348,
     "metadata": {},
     "output_type": "execute_result"
    }
   ],
   "source": [
    "temp = {'설명 가능한 분산 비율': pca.explained_variance_,\n",
    "        '기여율': pca.explained_variance_ratio_,\n",
    "        }\n",
    "\n",
    "results_pca = pd.DataFrame(temp, index=pca_df.columns )\n",
    "results_pca['누적 기여율'] = results_pca['기여율'].cumsum()\n",
    "results_pca"
   ]
  },
  {
   "cell_type": "markdown",
   "id": "d3cabc23",
   "metadata": {},
   "source": [
    "- 국가별로 브랜드 개수 계산"
   ]
  },
  {
   "cell_type": "code",
   "execution_count": 350,
   "id": "5fcb2bad",
   "metadata": {},
   "outputs": [
    {
     "data": {
      "application/vnd.microsoft.datawrangler.viewer.v0+json": {
       "columns": [
        {
         "name": "country",
         "rawType": "object",
         "type": "string"
        },
        {
         "name": "brand",
         "rawType": "int64",
         "type": "integer"
        }
       ],
       "ref": "6d84027f-979c-49c3-a016-d6ee76beb4d6",
       "rows": [
        [
         "Czech Republic",
         "63"
        ],
        [
         "France",
         "522"
        ],
        [
         "Germany",
         "863"
        ],
        [
         "Italy",
         "128"
        ],
        [
         "Japan",
         "641"
        ],
        [
         "Malaysia",
         "3"
        ],
        [
         "Romania",
         "14"
        ],
        [
         "South Korea",
         "178"
        ],
        [
         "Spain",
         "60"
        ],
        [
         "Sweden",
         "47"
        ],
        [
         "United Kingdom",
         "729"
        ],
        [
         "United States",
         "439"
        ]
       ],
       "shape": {
        "columns": 1,
        "rows": 12
       }
      },
      "text/plain": [
       "country\n",
       "Czech Republic     63\n",
       "France            522\n",
       "Germany           863\n",
       "Italy             128\n",
       "Japan             641\n",
       "Malaysia            3\n",
       "Romania            14\n",
       "South Korea       178\n",
       "Spain              60\n",
       "Sweden             47\n",
       "United Kingdom    729\n",
       "United States     439\n",
       "Name: brand, dtype: int64"
      ]
     },
     "execution_count": 350,
     "metadata": {},
     "output_type": "execute_result"
    }
   ],
   "source": [
    "df_bonus.groupby(by=['country'])['brand'].count()"
   ]
  },
  {
   "cell_type": "markdown",
   "id": "26ad335e",
   "metadata": {},
   "source": [
    "- df_bonus의 각 컬럼들에 대해 상관계수 출력"
   ]
  },
  {
   "cell_type": "code",
   "execution_count": 416,
   "id": "bf07e95f",
   "metadata": {},
   "outputs": [
    {
     "data": {
      "application/vnd.microsoft.datawrangler.viewer.v0+json": {
       "columns": [
        {
         "name": "index",
         "rawType": "object",
         "type": "string"
        },
        {
         "name": "Price",
         "rawType": "float64",
         "type": "float"
        },
        {
         "name": "Mileage(miles)",
         "rawType": "float64",
         "type": "float"
        },
        {
         "name": "Registration_Year",
         "rawType": "float64",
         "type": "float"
        },
        {
         "name": "Previous Owners",
         "rawType": "float64",
         "type": "float"
        },
        {
         "name": "Engine",
         "rawType": "float64",
         "type": "float"
        },
        {
         "name": "Doors",
         "rawType": "float64",
         "type": "float"
        },
        {
         "name": "Seats",
         "rawType": "float64",
         "type": "float"
        },
        {
         "name": "Emission Class",
         "rawType": "float64",
         "type": "float"
        },
        {
         "name": "Fuel type_Diesel Hybrid",
         "rawType": "float64",
         "type": "float"
        },
        {
         "name": "Fuel type_Electric",
         "rawType": "float64",
         "type": "float"
        },
        {
         "name": "Fuel type_Petrol",
         "rawType": "float64",
         "type": "float"
        },
        {
         "name": "Fuel type_Petrol Hybrid",
         "rawType": "float64",
         "type": "float"
        },
        {
         "name": "Fuel type_Petrol Plug-in Hybrid",
         "rawType": "float64",
         "type": "float"
        },
        {
         "name": "Body type_Convertible",
         "rawType": "float64",
         "type": "float"
        },
        {
         "name": "Body type_Coupe",
         "rawType": "float64",
         "type": "float"
        },
        {
         "name": "Body type_Estate",
         "rawType": "float64",
         "type": "float"
        },
        {
         "name": "Body type_Hatchback",
         "rawType": "float64",
         "type": "float"
        },
        {
         "name": "Body type_MPV",
         "rawType": "float64",
         "type": "float"
        },
        {
         "name": "Body type_Minibus",
         "rawType": "float64",
         "type": "float"
        },
        {
         "name": "Body type_Pickup",
         "rawType": "float64",
         "type": "float"
        },
        {
         "name": "Body type_SUV",
         "rawType": "float64",
         "type": "float"
        },
        {
         "name": "Body type_Saloon",
         "rawType": "float64",
         "type": "float"
        },
        {
         "name": "Gearbox_Manual",
         "rawType": "float64",
         "type": "float"
        },
        {
         "name": "Service history_Unknown",
         "rawType": "float64",
         "type": "float"
        },
        {
         "name": "brand_ALFA",
         "rawType": "float64",
         "type": "float"
        },
        {
         "name": "brand_AUDI",
         "rawType": "float64",
         "type": "float"
        },
        {
         "name": "brand_BMW",
         "rawType": "float64",
         "type": "float"
        },
        {
         "name": "brand_CHEVROLET",
         "rawType": "float64",
         "type": "float"
        },
        {
         "name": "brand_CHRYSLER",
         "rawType": "float64",
         "type": "float"
        },
        {
         "name": "brand_CITROEN",
         "rawType": "float64",
         "type": "float"
        },
        {
         "name": "brand_DACIA",
         "rawType": "float64",
         "type": "float"
        },
        {
         "name": "brand_DAEWOO",
         "rawType": "float64",
         "type": "float"
        },
        {
         "name": "brand_DAIHATSU",
         "rawType": "float64",
         "type": "float"
        },
        {
         "name": "brand_DODGE",
         "rawType": "float64",
         "type": "float"
        },
        {
         "name": "brand_DS",
         "rawType": "float64",
         "type": "float"
        },
        {
         "name": "brand_FIAT",
         "rawType": "float64",
         "type": "float"
        },
        {
         "name": "brand_FORD",
         "rawType": "float64",
         "type": "float"
        },
        {
         "name": "brand_HONDA",
         "rawType": "float64",
         "type": "float"
        },
        {
         "name": "brand_HYUNDAI",
         "rawType": "float64",
         "type": "float"
        },
        {
         "name": "brand_INFINITI",
         "rawType": "float64",
         "type": "float"
        },
        {
         "name": "brand_ISUZU",
         "rawType": "float64",
         "type": "float"
        },
        {
         "name": "brand_JAGUAR",
         "rawType": "float64",
         "type": "float"
        },
        {
         "name": "brand_JEEP",
         "rawType": "float64",
         "type": "float"
        },
        {
         "name": "brand_KIA",
         "rawType": "float64",
         "type": "float"
        },
        {
         "name": "brand_LAGONDA",
         "rawType": "float64",
         "type": "float"
        },
        {
         "name": "brand_LAND",
         "rawType": "float64",
         "type": "float"
        },
        {
         "name": "brand_LEXUS",
         "rawType": "float64",
         "type": "float"
        },
        {
         "name": "brand_MARCOS",
         "rawType": "float64",
         "type": "float"
        },
        {
         "name": "brand_MASERATI",
         "rawType": "float64",
         "type": "float"
        },
        {
         "name": "brand_MAZDA",
         "rawType": "float64",
         "type": "float"
        },
        {
         "name": "brand_MERCEDES-BENZ",
         "rawType": "float64",
         "type": "float"
        },
        {
         "name": "brand_MG",
         "rawType": "float64",
         "type": "float"
        },
        {
         "name": "brand_MINI",
         "rawType": "float64",
         "type": "float"
        },
        {
         "name": "brand_MITSUBISHI",
         "rawType": "float64",
         "type": "float"
        },
        {
         "name": "brand_NISSAN",
         "rawType": "float64",
         "type": "float"
        },
        {
         "name": "brand_PEUGEOT",
         "rawType": "float64",
         "type": "float"
        },
        {
         "name": "brand_PORSCHE",
         "rawType": "float64",
         "type": "float"
        },
        {
         "name": "brand_PROTON",
         "rawType": "float64",
         "type": "float"
        },
        {
         "name": "brand_RENAULT",
         "rawType": "float64",
         "type": "float"
        },
        {
         "name": "brand_ROVER",
         "rawType": "float64",
         "type": "float"
        },
        {
         "name": "brand_SAAB",
         "rawType": "float64",
         "type": "float"
        },
        {
         "name": "brand_SEAT",
         "rawType": "float64",
         "type": "float"
        },
        {
         "name": "brand_SKODA",
         "rawType": "float64",
         "type": "float"
        },
        {
         "name": "brand_SMART",
         "rawType": "float64",
         "type": "float"
        },
        {
         "name": "brand_SSANGYONG",
         "rawType": "float64",
         "type": "float"
        },
        {
         "name": "brand_SUBARU",
         "rawType": "float64",
         "type": "float"
        },
        {
         "name": "brand_SUZUKI",
         "rawType": "float64",
         "type": "float"
        },
        {
         "name": "brand_TOYOTA",
         "rawType": "float64",
         "type": "float"
        },
        {
         "name": "brand_VAUXHALL",
         "rawType": "float64",
         "type": "float"
        },
        {
         "name": "brand_VOLKSWAGEN",
         "rawType": "float64",
         "type": "float"
        },
        {
         "name": "brand_VOLVO",
         "rawType": "float64",
         "type": "float"
        },
        {
         "name": "country_France",
         "rawType": "float64",
         "type": "float"
        },
        {
         "name": "country_Germany",
         "rawType": "float64",
         "type": "float"
        },
        {
         "name": "country_Italy",
         "rawType": "float64",
         "type": "float"
        },
        {
         "name": "country_Japan",
         "rawType": "float64",
         "type": "float"
        },
        {
         "name": "country_Malaysia",
         "rawType": "float64",
         "type": "float"
        },
        {
         "name": "country_Romania",
         "rawType": "float64",
         "type": "float"
        },
        {
         "name": "country_South Korea",
         "rawType": "float64",
         "type": "float"
        },
        {
         "name": "country_Spain",
         "rawType": "float64",
         "type": "float"
        },
        {
         "name": "country_Sweden",
         "rawType": "float64",
         "type": "float"
        },
        {
         "name": "country_United Kingdom",
         "rawType": "float64",
         "type": "float"
        },
        {
         "name": "country_United States",
         "rawType": "float64",
         "type": "float"
        }
       ],
       "ref": "7caa2831-b809-47bb-8cde-1c2b06382a48",
       "rows": [
        [
         "Price",
         "1.0",
         "-0.4976784034361307",
         "0.7266917751329465",
         "-0.40531914296539057",
         "-0.022015908652442535",
         "0.11273412850569012",
         "-0.02814213589351085",
         "0.6975560400263526",
         "0.0645364770072986",
         "0.003453681348100033",
         "-0.1446532257980142",
         "0.1291414660288057",
         "0.24902371388055808",
         "-0.05412310267002098",
         "0.11927366081237283",
         "-0.015953666274391015",
         "-0.19944846163747862",
         "-0.07943439611280122",
         "-0.0058273030590712755",
         "0.047966861525427826",
         "0.24825504771539292",
         "0.06509488760446658",
         "-0.19949280195191513",
         "-0.1422724700170314",
         "-0.040553712434395456",
         "0.08868461446522896",
         "0.1604334022089025",
         "-0.033883775064670656",
         "-0.027655777350421074",
         "-0.04099656946108176",
         "0.023079706351398575",
         "-0.017684080930402198",
         "-0.0213496963509088",
         "-0.009341792599715433",
         "0.0772470054101369",
         "-0.06320352228561477",
         "-0.07269699624603354",
         "-0.07426233708579882",
         "-0.028113025317787536",
         "0.02792351680249853",
         "-0.01304125527407759",
         "0.05910951770340372",
         "-0.03139531565095517",
         "0.06632611131748718",
         "0.034108396510669034",
         "0.10920027160727441",
         "-0.017354099017246577",
         "0.021160277150401287",
         "0.048229647127765875",
         "-0.007748310986194898",
         "0.09462127047349707",
         "-0.0014976892254285044",
         "0.02602989450307518",
         "-0.05702687319043008",
         "0.038159095279578066",
         "-0.018652522205751854",
         "-0.002073499271001699",
         "-0.022743830186613197",
         "-0.007611922844697173",
         "-0.028077892325065294",
         "-0.027347599696693165",
         "-0.035884136802038544",
         "-0.006087540909526757",
         "-0.0011393494896657897",
         "0.014969388814865857",
         "-0.029472976504150778",
         "-0.016632871931842444",
         "-0.02600843662338184",
         "-0.10497910622868098",
         "0.0466989868979072",
         "-0.04690949636831992",
         "-0.027698537847324102",
         "0.2147608114676388",
         "-0.059617817527650815",
         "-0.05313130554699317",
         "-0.022743830186613197",
         "0.023079706351398575",
         "0.025333261633323334",
         "-0.035884136802038544",
         "-0.05396020531570869",
         "-0.044004879245175606",
         "-0.08541884287662818"
        ],
        [
         "Mileage(miles)",
         "-0.4976784034361307",
         "1.0",
         "-0.415663357048406",
         "0.26460920864081294",
         "0.3313126290904773",
         "-0.03788569383057515",
         "0.09578575835167646",
         "-0.37736540684473974",
         "-0.018740227645441226",
         "-0.054649773551590154",
         "-0.19225704916404218",
         "-0.07189254841209819",
         "-0.020532786142197987",
         "0.015188466559379409",
         "0.0017815629712488541",
         "0.14567181060199874",
         "-0.11842335992073678",
         "0.052788258250247015",
         "0.006136655630882838",
         "0.017222743990608552",
         "-0.0638596516915698",
         "0.11438775443550253",
         "-0.10156840384674251",
         "0.08224838400112969",
         "0.01567320797375565",
         "0.06916232689308495",
         "0.06735481127639706",
         "-0.0021101777006065922",
         "0.018805837348247444",
         "-0.0082235681007783",
         "-0.06522297986884464",
         "-0.007810449961398582",
         "0.015811424367551397",
         "0.018321937532975528",
         "-0.03532081399708498",
         "-0.04612514338798408",
         "0.046853810513248974",
         "0.07646995005624727",
         "-0.006334370560731744",
         "-0.009651036533679845",
         "0.027860071987371945",
         "0.00548336679111618",
         "0.025809523111812574",
         "-0.06956214756656105",
         "0.0010944700162236738",
         "0.0222632075124516",
         "0.0442644502768121",
         "-0.026217368729845973",
         "-0.010479385382578766",
         "-0.015560589343571284",
         "0.0657998938689451",
         "-0.03593305775807727",
         "-0.051498335471627764",
         "0.0528096304712748",
         "-0.030068875773812787",
         "-0.06076285640825649",
         "0.030772548232595225",
         "-0.020930684093199415",
         "-0.055511856437360854",
         "-0.022459599028568613",
         "0.0335144900218203",
         "0.015240700153292203",
         "0.008733525600583096",
         "-0.019707668849001426",
         "-0.0111787895348406",
         "0.054913200763364374",
         "-0.04359589243870314",
         "-0.023214167774920445",
         "-0.09647719297274512",
         "0.03745449786742674",
         "0.14393089660522307",
         "-0.08518115439710729",
         "0.1294198221048946",
         "-0.040980327487789125",
         "0.014150617800261424",
         "-0.020930684093199415",
         "-0.06522297986884464",
         "-0.05430723142181435",
         "0.015240700153292203",
         "0.1457999032372353",
         "-0.10756147093760306",
         "0.0520877423378641"
        ],
        [
         "Registration_Year",
         "0.7266917751329465",
         "-0.415663357048406",
         "1.0",
         "-0.39507988941777367",
         "-0.291125002233079",
         "0.21487157785284638",
         "0.031152674061126383",
         "0.8549812446252567",
         "0.026587248334391012",
         "0.04702551263980525",
         "-0.1480348861917648",
         "0.11186159696539054",
         "0.11536946890855564",
         "-0.14350947833219274",
         "-0.015492166575258481",
         "0.003998693896744763",
         "0.034360352947553005",
         "-0.04664378011012439",
         "0.016816427913816028",
         "0.025373035361712575",
         "0.16554743568523922",
         "-0.1209588571084969",
         "0.07966895434855933",
         "-0.1344054158646647",
         "-0.01851406581961511",
         "-0.003895650456258149",
         "-0.008728574385839084",
         "-0.0032389268879547788",
         "-0.033786599036889256",
         "-0.0011815474008585708",
         "0.061289109774894504",
         "-0.028780734048860602",
         "-0.02458442464498533",
         "-0.012496033347905555",
         "0.05186415076157114",
         "-0.009173215267971808",
         "-0.005334343498347025",
         "-0.10349070453392326",
         "0.014428569697693615",
         "0.016192158669320587",
         "-0.03529461432925111",
         "0.011281941847076175",
         "-0.02557389006726271",
         "0.07724677687340595",
         "-0.19162774105841252",
         "-0.00624215429434579",
         "-0.05600520188403194",
         "-0.10043341713306626",
         "-0.008483310889512182",
         "-0.015025609783936654",
         "-0.015579311488381322",
         "-0.05526475323936237",
         "0.015024900293991377",
         "-0.03687507856042084",
         "0.05756799083777021",
         "0.027566388078237355",
         "-0.0649105546415488",
         "-0.04233965714073648",
         "0.07430758574818964",
         "-0.0920803091349866",
         "-0.06265684757474298",
         "0.0015524925305930022",
         "0.02205206378312123",
         "0.02224266316124702",
         "0.01687530754786428",
         "-0.0847684778455421",
         "0.018766780775357483",
         "-0.055026862617671084",
         "0.04802275688905373",
         "-0.007349950905380746",
         "-0.05432958025645733",
         "0.07055194625700863",
         "-0.0220313246797437",
         "-0.013312834732463068",
         "-0.07536609889241683",
         "-0.04233965714073648",
         "0.061289109774894504",
         "0.06332328267576438",
         "0.0015524925305930022",
         "-0.07464691708163748",
         "0.023406891123053213",
         "-0.014175734238947166"
        ],
        [
         "Previous Owners",
         "-0.40531914296539057",
         "0.26460920864081294",
         "-0.39507988941777367",
         "1.0",
         "0.14808237600162846",
         "-0.12188521844691291",
         "-0.02875117565916168",
         "-0.3764187630169504",
         "-0.02547702438924391",
         "0.008953685026945718",
         "0.03858543560830027",
         "-0.10757900576389307",
         "-0.11977959558815625",
         "0.053830151494806244",
         "0.034427413296900765",
         "0.03943899687304039",
         "-0.0036887843104907625",
         "-0.00128082757123039",
         "0.0016015394821743561",
         "0.0027747043190625314",
         "-0.09792593632310999",
         "0.035972269623216084",
         "-0.013794159056441551",
         "0.1975756047434357",
         "0.016406538306194315",
         "-0.009981292272627142",
         "0.029804722972939186",
         "0.02412783302853545",
         "0.027816126024935214",
         "-0.017960175151460565",
         "-0.030246487872551662",
         "-0.011937742453534845",
         "0.002265227659811959",
         "0.0016015394821743312",
         "-0.023730168281921087",
         "0.002954569718907448",
         "-0.019613922656601",
         "0.040692325678013355",
         "0.02132971232697395",
         "-0.0008808130751921285",
         "0.0016015394821745014",
         "0.008806876631524033",
         "0.031918008305732895",
         "-0.038252892867369805",
         "0.0016015394821744344",
         "0.011818293207787628",
         "0.004809866529405525",
         "0.02868010335359279",
         "0.018412784421428404",
         "-0.016353399700398032",
         "0.003071222578464167",
         "-0.0008808130751920567",
         "0.02712834029257373",
         "0.07399562183308518",
         "-0.0529936870373661",
         "0.05728079199490511",
         "0.07314606477970868",
         "-0.012863375783303427",
         "-0.03911409242734415",
         "0.021757870867302315",
         "0.02472697751815071",
         "-0.017804966953362807",
         "-0.01298522422774299",
         "0.0032043896425585842",
         "-0.007309795708678673",
         "0.07072413190497841",
         "-0.034336973913321286",
         "-0.015187533441872222",
         "0.004348362482406628",
         "-0.05378575793190368",
         "0.03402654744773248",
         "0.006164826020306257",
         "-0.01280533426690531",
         "0.015921449003412195",
         "-0.006431606801351298",
         "-0.012863375783303427",
         "-0.030246487872551662",
         "-0.012425091134052726",
         "-0.017804966953362807",
         "0.041058679096857814",
         "0.022876868436515183",
         "-0.0063344071598632505"
        ],
        [
         "Engine",
         "-0.022015908652442535",
         "0.3313126290904773",
         "-0.291125002233079",
         "0.14808237600162846",
         "1.0",
         "-0.06038306464414199",
         "0.0732638313678637",
         "-0.2616968296576311",
         "0.013431064676222886",
         "-0.0011321992859884252",
         "-0.3699252086741664",
         "-0.023125057224958768",
         "0.05687286574402415",
         "0.08600093321744064",
         "0.19284736470159763",
         "0.09634552539552448",
         "-0.5003521192519014",
         "0.04787260325087584",
         "0.013431064676222747",
         "0.04492175110966629",
         "0.1443106974617217",
         "0.37694699850862273",
         "-0.46514273161254205",
         "-0.011634390352568599",
         "0.0007492698050750651",
         "0.1235714614223029",
         "0.30315555821008744",
         "-0.008059494412212367",
         "0.0666518609024015",
         "-0.05017940525492668",
         "-0.049124264963017694",
         "-0.013836096091275769",
         "-0.005107295274428375",
         "0.07137378130715696",
         "-0.007458502731836979",
         "-0.1236816846146994",
         "-0.0860421603938982",
         "0.04013772829058942",
         "-0.06927286336096629",
         "0.09487248724888243",
         "-0.00020251570752632123",
         "0.15257722701389792",
         "0.06422203286115283",
         "-0.03230407415722822",
         "0.03388143525184673",
         "0.1863316499146968",
         "0.14156337611187175",
         "0.013431064676222865",
         "0.1295618560541771",
         "0.03199397092545676",
         "0.20376054731977009",
         "-0.004404166540818784",
         "-0.01780220937153515",
         "0.08779734251538575",
         "-0.03943083205191988",
         "-0.04858218095746905",
         "0.07641574364715867",
         "-0.018066233965318458",
         "-0.13579485999652882",
         "0.030049162589865706",
         "0.030407127645180318",
         "-0.04942756612037235",
         "-0.03237080221783363",
         "-0.04473246439668527",
         "0.023817839320700706",
         "0.045635722220458905",
         "-0.06820739332557035",
         "-0.12839924844941397",
         "-0.11129403215185084",
         "-0.07273039044239288",
         "0.0859607423326634",
         "-0.14135339196575084",
         "0.3005419992644237",
         "-0.09311716916209814",
         "-0.03178591161263185",
         "-0.018066233965318458",
         "-0.049124264963017694",
         "-0.0713785248996284",
         "-0.04942756612037235",
         "0.09115223769200874",
         "-0.022618093021190267",
         "-0.06403454037368905"
        ],
        [
         "Doors",
         "0.11273412850569012",
         "-0.03788569383057515",
         "0.21487157785284638",
         "-0.12188521844691291",
         "-0.06038306464414199",
         "1.0",
         "0.49092421469156516",
         "0.18036254607097224",
         "-0.005407553041693008",
         "0.06337211363067768",
         "-0.18005465691340214",
         "0.05748480846018663",
         "-0.021731288806066413",
         "-0.4056601041564075",
         "-0.41726913904548385",
         "0.15085441423716936",
         "0.07546550919195054",
         "0.1422293576990341",
         "0.011335326376004385",
         "0.00030043124315882845",
         "0.25425839042460485",
         "-0.10885336636757906",
         "0.0593333143182339",
         "-0.04344327726388361",
         "-0.046728723758733944",
         "-0.1133287709395819",
         "-0.15035138371146325",
         "0.038005593761958716",
         "0.01037693334844269",
         "0.061460013103256265",
         "0.042488267228143986",
         "0.011335326376004446",
         "0.01603275793429695",
         "0.011335326376004443",
         "-0.0064148674838565775",
         "-0.17278070088560699",
         "0.08597437362653344",
         "0.04761204726365591",
         "0.038618935927017",
         "-0.0016519650275921406",
         "0.011335326376004564",
         "-0.023598224107526093",
         "0.03404312384594423",
         "0.07762240957023818",
         "-0.00540755304169305",
         "0.05600059157032017",
         "-0.021827435015555688",
         "0.011335326376004538",
         "-0.02870699589235836",
         "0.013625004164760236",
         "-0.07967523661765667",
         "-0.007985360728987005",
         "-0.1831697381205905",
         "0.040616279893709",
         "0.13315059830317574",
         "0.04967739306819433",
         "-0.009368711135347114",
         "0.01963871600017028",
         "0.029150379728810624",
         "-0.02708171330192759",
         "-0.03331894353456738",
         "-0.05065725509240015",
         "0.08648660910965703",
         "-0.0024446663062606495",
         "0.01603275793429682",
         "-0.002794131611200641",
         "0.023026228373915936",
         "0.03920249183619576",
         "0.006729798610880079",
         "-0.005839887348658678",
         "0.014563591601444775",
         "0.08054802131550799",
         "-0.18838926884435814",
         "-0.1844771308564516",
         "0.13873886163440657",
         "0.01963871600017028",
         "0.042488267228143986",
         "0.08426921540252744",
         "-0.05065725509240015",
         "0.0003554211941963039",
         "-0.06257635382581565",
         "0.09762987966722732"
        ],
        [
         "Seats",
         "-0.02814213589351085",
         "0.09578575835167646",
         "0.031152674061126383",
         "-0.02875117565916168",
         "0.0732638313678637",
         "0.49092421469156516",
         "1.0",
         "0.021417878454271337",
         "0.002845549404943132",
         "0.015908538867791346",
         "-0.2150150204932256",
         "0.01941894101771672",
         "0.009299032411618096",
         "-0.38255964491505706",
         "-0.2557358343848861",
         "0.031093585579517406",
         "-0.10962282488548397",
         "0.42895974992601144",
         "0.060209949222174",
         "0.0049299803794296765",
         "0.17395175502456864",
         "0.0525350541834052",
         "-0.008181963270235819",
         "-0.028497708352823586",
         "-0.048884904948128784",
         "-0.0327358221984326",
         "-0.07171054067107288",
         "0.041383031678286386",
         "0.03203445314978804",
         "0.00424791592266776",
         "0.01066598874330133",
         "0.0028455494049428316",
         "0.004024763230118201",
         "0.002845549404942878",
         "0.006974899585818094",
         "-0.1742162349393278",
         "0.06104268776912641",
         "0.0244106034803376",
         "0.015743351856870303",
         "-0.0033149488590053953",
         "0.0028455494049429322",
         "0.015647695755971216",
         "0.008545972792392931",
         "0.013244928849778556",
         "0.0028455494049430988",
         "0.041267085539581964",
         "-0.001025203695790936",
         "-0.0832010503209034",
         "-0.011634211939367376",
         "-0.05452824149690969",
         "-0.0755001942105443",
         "-0.025014408919115886",
         "-0.22539602128159217",
         "0.19947397366071296",
         "0.08959879649548409",
         "-0.01459182453706373",
         "-0.011634211939367471",
         "-0.02819840425816451",
         "0.09854954455512412",
         "0.006366314122364167",
         "-0.0033149488590061785",
         "0.022031963259109673",
         "0.019134635729535197",
         "-0.08038838184248767",
         "0.004024763230118759",
         "0.009450510866622118",
         "-0.053743952150727116",
         "-0.014533181382121388",
         "0.0762737550764336",
         "0.016085231679768906",
         "0.008629612104691778",
         "0.052477049008632995",
         "-0.09352385434190137",
         "-0.1849275073131039",
         "0.07133337790215394",
         "-0.02819840425816451",
         "0.01066598874330133",
         "0.021285712786652096",
         "0.022031963259109673",
         "0.006653515564896865",
         "-0.014355093135858012",
         "0.0722139788544902"
        ],
        [
         "Emission Class",
         "0.6975560400263526",
         "-0.37736540684473974",
         "0.8549812446252567",
         "-0.3764187630169504",
         "-0.2616968296576311",
         "0.18036254607097224",
         "0.021417878454271337",
         "1.0",
         "0.019949948223594034",
         "0.00907572308504558",
         "-0.16636007953348786",
         "0.09264346449556667",
         "0.10049281644949991",
         "-0.10217666774926125",
         "0.00021613949556525944",
         "0.021604343161919524",
         "0.00836987775637534",
         "-0.04054523906656733",
         "0.0016233683456855033",
         "0.023980006621698826",
         "0.13048789979229297",
         "-0.08759713940898826",
         "0.08134359019330517",
         "-0.10832286116397329",
         "-0.023404244082434772",
         "0.010729128399477598",
         "0.02411139676101306",
         "-0.0037284938991181656",
         "-0.04557026636032093",
         "0.008410029216489055",
         "0.05515175337146113",
         "-0.03502979141013132",
         "-0.023625128941005494",
         "-0.016703211532222918",
         "0.04890053406211026",
         "0.02952926091118722",
         "-0.02573277927514281",
         "-0.11711093512561711",
         "-0.018788726881607758",
         "0.018163482849611653",
         "0.0016233683456856017",
         "0.025723245175610424",
         "-0.03793330400190173",
         "0.0783084885925404",
         "0.001623368345685584",
         "-0.027697781219643752",
         "-0.050164369331278436",
         "0.0016233683456855915",
         "-0.018354959958362765",
         "-0.01091549299375411",
         "-0.017538661314769294",
         "-0.023431327454284133",
         "0.025629855156325723",
         "-0.0428336251630722",
         "0.025016762593817115",
         "0.02993505217702527",
         "-0.018354959958362872",
         "-0.0606899265384244",
         "0.05181151761258251",
         "-0.045570266360321",
         "-0.07195860614216246",
         "-0.009075970933615542",
         "0.02231017231308335",
         "0.030749183719361604",
         "0.0152567182859155",
         "-0.12740580864429843",
         "0.007573908696468576",
         "-0.05678500430531592",
         "0.04124208491080858",
         "0.020825583893525675",
         "-0.07240694688340726",
         "0.06253127240614312",
         "0.025121869512359993",
         "0.018616983716354608",
         "-0.10775457064286927",
         "-0.0606899265384244",
         "0.05515175337146113",
         "0.03909703840481194",
         "-0.009075970933615542",
         "-0.09495621647677496",
         "0.0396733774743969",
         "-0.03750920040568188"
        ],
        [
         "Fuel type_Diesel Hybrid",
         "0.0645364770072986",
         "-0.018740227645441226",
         "0.026587248334391012",
         "-0.02547702438924391",
         "0.013431064676222886",
         "-0.005407553041693008",
         "0.002845549404943132",
         "0.019949948223594034",
         "1.0",
         "-0.0015241750075128226",
         "-0.02202621526314226",
         "-0.0018605017605667303",
         "-0.0014216649221076118",
         "-0.002889173258529135",
         "-0.0032518857028606806",
         "-0.0036282288025497496",
         "-0.02108110944110015",
         "-0.003420785893348012",
         "-0.00027262813522355606",
         "-0.0004723345710314378",
         "-0.006235882490613909",
         "0.049677407526677396",
         "-0.03106980911127596",
         "0.006836937387460427",
         "-0.0011593529530715284",
         "-0.0033612858155753133",
         "0.0588194901161157",
         "-0.0010218935634539775",
         "-0.0006099477114727422",
         "-0.002691967826625212",
         "-0.0010218935634539773",
         "-0.0002726281352235564",
         "-0.00038560697355577466",
         "-0.0002726281352235563",
         "-0.0006682554392307751",
         "-0.00280616549018049",
         "-0.005848415109792739",
         "-0.0028754858009469118",
         "-0.002662735667474479",
         "-0.000721896916079682",
         "-0.00027262813522355476",
         "-0.0014991839913534204",
         "-0.0008187777804926164",
         "-0.0024964712809320347",
         "-0.000272628135223555",
         "-0.0016204173970548908",
         "-0.000818777780492617",
         "-0.0002726281352235554",
         "-0.00047233457103143815",
         "-0.0019989828142625253",
         "-0.003616961799430911",
         "-0.0007218969160796819",
         "-0.002720918155581718",
         "-0.001548776231771223",
         "-0.003728382091354481",
         "-0.004416736605894052",
         "-0.0004723345710314393",
         "-0.00047233457103143886",
         "-0.0036952422133725007",
         "-0.0006099477114727409",
         "-0.0007218969160796829",
         "-0.0021108517912959",
         "-0.002182442196983369",
         "-0.0005454793856186036",
         "-0.000385606973555774",
         "-0.0009054403167280914",
         "-0.0017552687691876094",
         "-0.0038906674097894693",
         "-0.006926186981437695",
         "-0.004662923545107423",
         "-0.0017114504403691756",
         "-0.006717177681221694",
         "0.02984090434136389",
         "-0.0031265322916800187",
         "-0.007553781371487133",
         "-0.00047233457103143886",
         "-0.0010218935634539773",
         "-0.0037283820913544797",
         "-0.0021108517912959",
         "-0.0018605017605667319",
         "-0.008193801467293465",
         "-0.006079304722395712"
        ],
        [
         "Fuel type_Electric",
         "0.003453681348100033",
         "-0.054649773551590154",
         "0.04702551263980525",
         "0.008953685026945718",
         "-0.0011321992859884252",
         "0.06337211363067768",
         "0.015908538867791346",
         "0.00907572308504558",
         "-0.0015241750075128226",
         "1.0",
         "-0.12314138739440868",
         "-0.0104014586849744",
         "-0.007948065013749403",
         "-0.01615242560865384",
         "-0.018180232614378747",
         "-0.0202842441696264",
         "0.06616637913117297",
         "-0.0191244985056956",
         "-0.0015241750075128276",
         "-0.0026406685713492974",
         "-0.0258536603865087",
         "-0.030681452261661045",
         "-0.1737011717325841",
         "0.03822308759641499",
         "-0.006481564327573259",
         "-0.018791852972204218",
         "-0.025912754505419095",
         "-0.005713073701940517",
         "-0.0034100187677037416",
         "-0.015049914342135979",
         "-0.005713073701940521",
         "-0.0015241750075128309",
         "-0.002155802853342445",
         "-0.0015241750075128293",
         "-0.0037359982610556705",
         "-0.015688356242362353",
         "-0.03269658187184889",
         "-0.016075903496414377",
         "-0.014886486872125779",
         "-0.0040358902671105085",
         "-0.0015241750075128224",
         "-0.008381448853070494",
         "-0.004577519589863088",
         "-0.01395695690120166",
         "-0.0015241750075128233",
         "-0.009059225293474625",
         "-0.004577519589863086",
         "-0.0015241750075128235",
         "-0.0026406685713492965",
         "0.013780821297199573",
         "-0.020221254029048178",
         "-0.004035890267110501",
         "-0.015211766191427327",
         "-0.008658702898583434",
         "0.38108413480252906",
         "-0.024692534187458582",
         "-0.0026406685713493004",
         "-0.0026406685713492983",
         "-0.02065889429830971",
         "-0.003410018767703731",
         "-0.00403589026711052",
         "-0.01180108407453508",
         "-0.012201322689075233",
         "-0.0030495973791977555",
         "-0.0021558028533424406",
         "-0.00506202157169074",
         "-0.009813135343752279",
         "-0.021751452848705846",
         "-0.03037425272987203",
         "-0.026068885089823916",
         "-0.009568161355277964",
         "-0.03755355012917423",
         "-0.05107670297378006",
         "-0.017479422566760675",
         "0.1939052274128636",
         "-0.0026406685713492983",
         "-0.005713073701940521",
         "-0.02084416855010617",
         "-0.01180108407453508",
         "-0.010401458684974397",
         "-0.038330663010989016",
         "-0.03398741040917203"
        ],
        [
         "Fuel type_Petrol",
         "-0.1446532257980142",
         "-0.19225704916404218",
         "-0.1480348861917648",
         "0.03858543560830027",
         "-0.3699252086741664",
         "-0.18005465691340214",
         "-0.2150150204932256",
         "-0.16636007953348786",
         "-0.02202621526314226",
         "-0.12314138739440868",
         "1.0",
         "-0.15031395142726037",
         "-0.11485937642027662",
         "0.07096185283396914",
         "-0.03507972188793162",
         "-0.18747343942841105",
         "0.3253629927385031",
         "-0.11056262683315472",
         "0.012377438972902438",
         "-0.03816092909571248",
         "-0.1378400103755588",
         "-0.1834448153592389",
         "0.1854250627797178",
         "-0.024416347313625707",
         "0.0038678853847163297",
         "-0.08853352805848953",
         "-0.13658201105397652",
         "0.02797222234197717",
         "0.027691898230623437",
         "-0.010090174181168792",
         "0.00033892030301264843",
         "0.01237743897290243",
         "0.017506728638988295",
         "0.012377438972902426",
         "-0.011825351834260402",
         "0.09645887428538992",
         "0.05620256057209228",
         "0.019672909308513068",
         "0.04862754923729445",
         "-0.045309602051270485",
         "-0.022026215263142256",
         "-0.0958975184318525",
         "-0.03170959013448121",
         "0.0019256645733477995",
         "0.012377438972902355",
         "-0.10170491905718153",
         "0.01421205431130981",
         "0.012377438972902395",
         "0.0015758238068472041",
         "0.03363995399802171",
         "-0.09660765035483974",
         "0.03277444206620793",
         "0.07397382137777728",
         "-0.05794506218651553",
         "-0.03954465065410094",
         "-0.08612021217654145",
         "0.00157582380684727",
         "0.021444200258127103",
         "0.02920429490012783",
         "0.02769189823062339",
         "0.03277444206620795",
         "0.028111439277983555",
         "-0.07577841299569826",
         "0.007556141485005644",
         "-0.031154019373472383",
         "0.030720133335184446",
         "0.025665122740450925",
         "0.04181113007980137",
         "0.14091890252038464",
         "0.011937795990358407",
         "-0.04412996385570474",
         "-0.04971942970119473",
         "-0.1643514749834533",
         "0.09223947269359643",
         "0.015693970428630098",
         "0.021444200258127103",
         "0.00033892030301264843",
         "0.03446567983718345",
         "0.028111439277983555",
         "-0.027819223727417308",
         "0.11671191353044193",
         "0.058815365444406666"
        ],
        [
         "Fuel type_Petrol Hybrid",
         "0.1291414660288057",
         "-0.07189254841209819",
         "0.11186159696539054",
         "-0.10757900576389307",
         "-0.023125057224958768",
         "0.05748480846018663",
         "0.01941894101771672",
         "0.09264346449556667",
         "-0.0018605017605667303",
         "-0.0104014586849744",
         "-0.15031395142726037",
         "1.0",
         "-0.009701897012016989",
         "-0.019716644174189963",
         "0.0036481781804102156",
         "-0.02476019604266989",
         "0.03779386535818965",
         "0.001317457435676096",
         "-0.0018605017605667334",
         "-0.0032233624759965525",
         "-0.02773349240639786",
         "-0.0047154750202082815",
         "-0.1351857308200079",
         "0.01893723627885777",
         "-0.007911796075409067",
         "-0.022938491555604987",
         "-0.031630701947499375",
         "-0.006973729150730984",
         "-0.004162478645566578",
         "-0.018370851110866854",
         "-0.006973729150730975",
         "-0.0018605017605667368",
         "-0.002631505558291116",
         "-0.001860501760566735",
         "-0.004560389264951146",
         "-0.019150172562495363",
         "-0.03991145887922424",
         "0.0528381714363605",
         "0.012997748049742644",
         "-0.0049264558927955395",
         "-0.00186050176056673",
         "-0.01023091198213762",
         "-0.005587601957774078",
         "-0.00046521266266470735",
         "-0.0018605017605667303",
         "-0.011058247592829936",
         "0.0934506182503085",
         "-0.0018605017605667319",
         "-0.0032233624759965525",
         "-0.013641699314079962",
         "-0.02468330640278831",
         "-0.00492645589279554",
         "-0.018568417433023635",
         "-0.0105693453229669",
         "-0.025443674180371863",
         "-0.030141225976134757",
         "-0.00322336247599656",
         "-0.00322336247599656",
         "-0.02521751703309171",
         "-0.004162478645566571",
         "-0.004926455892795532",
         "-0.014405129062637355",
         "-0.014893684932749588",
         "-0.0037225261305627185",
         "-0.002631505558291112",
         "-0.006179014876727102",
         "0.1744442927484022",
         "0.28068626753405546",
         "-0.047266519511687755",
         "-0.03182128454184165",
         "-0.011679486252651642",
         "-0.04584017306836189",
         "-0.062347365189861344",
         "-0.021336458279955423",
         "0.2268757068532774",
         "-0.00322336247599656",
         "-0.006973729150730975",
         "0.00875985802570454",
         "-0.014405129062637355",
         "-0.012696660226331796",
         "-0.05591712698006464",
         "-0.04148712358599463"
        ],
        [
         "Fuel type_Petrol Plug-in Hybrid",
         "0.24902371388055808",
         "-0.020532786142197987",
         "0.11536946890855564",
         "-0.11977959558815625",
         "0.05687286574402415",
         "-0.021731288806066413",
         "0.009299032411618096",
         "0.10049281644949991",
         "-0.0014216649221076118",
         "-0.007948065013749403",
         "-0.11485937642027662",
         "-0.009701897012016989",
         "1.0",
         "-0.015066076258688832",
         "-0.016957500848800322",
         "-0.018920004766697418",
         "-0.09679253285541133",
         "-0.017838259087329913",
         "-0.0014216649221076064",
         "-0.0024630674694800345",
         "-0.03251805022992653",
         "0.23774231430140547",
         "-0.16201870622729453",
         "0.03565235132620562",
         "-0.006045639509554359",
         "-0.017527985999180904",
         "0.2577027148551845",
         "-0.005328834575707955",
         "-0.003180674162663184",
         "-0.01403771561367693",
         "-0.005328834575707955",
         "-0.001421664922107601",
         "-0.0020108119346332",
         "-0.0014216649221076045",
         "0.07543794139479316",
         "-0.014633218393791846",
         "-0.03049753689104232",
         "-0.014994700726220302",
         "-0.013885279639935638",
         "-0.0037644519782471407",
         "-0.0014216649221076112",
         "-0.007817745188128668",
         "-0.004269653418466772",
         "-0.013018266241082616",
         "-0.0014216649221076116",
         "-0.008449937020171553",
         "-0.004269653418466772",
         "-0.0014216649221076116",
         "-0.0024630674694800336",
         "-0.010424029583750214",
         "-0.01886125109808497",
         "-0.0037644519782471567",
         "-0.014188681936823325",
         "-0.008076352204432742",
         "-0.019442270810187883",
         "-0.023031810336226914",
         "-0.0024630674694800193",
         "-0.0024630674694800163",
         "-0.019269457384268752",
         "-0.0031806741626631786",
         "-0.003764451978247113",
         "-0.011007389039259064",
         "-0.011380709160609875",
         "-0.0028444933155225434",
         "-0.0020108119346332106",
         "-0.004721569680615686",
         "-0.009153142011475743",
         "-0.020288534694151608",
         "-0.027177863814939713",
         "6.978645042827584e-05",
         "-0.0089246440210704",
         "-0.025891769781043517",
         "0.14055468384986558",
         "-0.016303824560415982",
         "-0.039390453946754986",
         "-0.0024630674694800163",
         "-0.005328834575707955",
         "-0.01944227081018793",
         "-0.011007389039259064",
         "-0.009701897012016965",
         "-0.03471932068239612",
         "-0.03170154931935417"
        ],
        [
         "Body type_Convertible",
         "-0.05412310267002098",
         "0.015188466559379409",
         "-0.14350947833219274",
         "0.053830151494806244",
         "0.08600093321744064",
         "-0.4056601041564075",
         "-0.38255964491505706",
         "-0.10217666774926125",
         "-0.002889173258529135",
         "-0.01615242560865384",
         "0.07096185283396914",
         "-0.019716644174189963",
         "-0.015066076258688832",
         "1.0",
         "-0.03446181812744375",
         "-0.03845010942673331",
         "-0.2234067940471707",
         "-0.03625173578695574",
         "-0.002889173258529138",
         "-0.005005559718126091",
         "-0.06608468682235658",
         "-0.0581586963244332",
         "-0.027100184859747543",
         "0.017954836951604644",
         "-0.012286228442506106",
         "0.021866491827856598",
         "0.06192881328856098",
         "-0.010829504277587797",
         "-0.006463913255479094",
         "-0.018419975472634263",
         "-0.010829504277587835",
         "-0.0028891732585291383",
         "-0.0040864650869072774",
         "-0.0028891732585291374",
         "-0.007081828672264575",
         "0.16463211831539143",
         "-0.04667608092137582",
         "-0.030472924867287345",
         "-0.028218307984576283",
         "-0.007650293553311403",
         "-0.002889173258529134",
         "-0.015887583626985297",
         "-0.008676987304106817",
         "-0.026456323224455017",
         "-0.0028891732585291344",
         "-0.017172353129978404",
         "0.023775475915840023",
         "0.09436198899416258",
         "-0.0050055597181260895",
         "0.05954090027613187",
         "0.05382877206849936",
         "0.06592487563960997",
         "0.00118361344370239",
         "-0.01641313677551916",
         "-0.03951148265415562",
         "0.036793038047484516",
         "-0.005005559718126101",
         "-0.005005559718126102",
         "-0.02409563533674857",
         "-0.006463913255479121",
         "0.06592487563960978",
         "-0.022369725498542443",
         "-0.023128403928814805",
         "0.04286476740737911",
         "-0.004086465086907276",
         "-0.009595392449645225",
         "-0.003329861510345817",
         "-0.04123129928969752",
         "-0.050898445398415385",
         "0.011962782242464116",
         "-0.0024831280775745525",
         "0.002400459078845417",
         "0.08507780324249727",
         "0.14250252524215182",
         "-0.04610383802615295",
         "-0.005005559718126102",
         "-0.010829504277587835",
         "-0.03951148265415578",
         "-0.022369725498542443",
         "0.023566383832453183",
         "-0.042486709037247626",
         "-0.04957197956126064"
        ],
        [
         "Body type_Coupe",
         "0.11927366081237283",
         "0.0017815629712488541",
         "-0.015492166575258481",
         "0.034427413296900765",
         "0.19284736470159763",
         "-0.41726913904548385",
         "-0.2557358343848861",
         "0.00021613949556525944",
         "-0.0032518857028606806",
         "-0.018180232614378747",
         "-0.03507972188793162",
         "0.0036481781804102156",
         "-0.016957500848800322",
         "-0.03446181812744375",
         "1.0",
         "-0.04327721113612887",
         "-0.2514537185816923",
         "-0.04080284938311386",
         "-0.00325188570286068",
         "-0.0056339674452325576",
         "-0.07438108726129233",
         "-0.0654600524617633",
         "-0.20755202895771874",
         "-0.04452799919698927",
         "0.027320867153768875",
         "0.11434822566411522",
         "0.20989832250958249",
         "-0.012189061360510072",
         "-0.00727540552923616",
         "-0.03210956815145005",
         "-0.012189061360510046",
         "-0.003251885702860682",
         "-0.004599487881913431",
         "-0.0032518857028606797",
         "-0.00797089525228756",
         "-0.03347170837630603",
         "-0.06519161336606816",
         "-0.00027817157561050996",
         "-0.004322532156269034",
         "0.024332709421397244",
         "-0.0032518857028606806",
         "-0.017882141853929227",
         "-0.009766313209092046",
         "-0.029777701627927058",
         "-0.0032518857028606797",
         "0.01025059902566941",
         "-0.009766313209092057",
         "-0.00325188570286068",
         "0.04466050106220847",
         "-0.011795423851934973",
         "0.13567044544921844",
         "-0.008610726322922492",
         "-0.02349431832739778",
         "-0.003012928122303417",
         "-0.03778081389122135",
         "-0.018130051286667847",
         "0.04466050106220851",
         "-0.005633967445232561",
         "-0.017095631266485594",
         "-0.007275405529236183",
         "-0.00861072632292248",
         "-0.02517806445524902",
         "-0.026031988854967235",
         "-0.0065064327049143954",
         "-0.004599487881913432",
         "-0.010800016727354061",
         "-0.02093669976695014",
         "-0.04640755699739406",
         "-0.04634426642539439",
         "-0.05012253330492814",
         "0.0216404853886344",
         "-0.03893676677420399",
         "0.2201985315031137",
         "-0.013700612916329718",
         "-0.05970095707959553",
         "-0.005633967445232561",
         "-0.012189061360510046",
         "-0.024398779217582225",
         "-0.02517806445524902",
         "0.01656822233477805",
         "-0.05441179250427059",
         "-0.06807968715384363"
        ],
        [
         "Body type_Estate",
         "-0.015953666274391015",
         "0.14567181060199874",
         "0.003998693896744763",
         "0.03943899687304039",
         "0.09634552539552448",
         "0.15085441423716936",
         "0.031093585579517406",
         "0.021604343161919524",
         "-0.0036282288025497496",
         "-0.0202842441696264",
         "-0.18747343942841105",
         "-0.02476019604266989",
         "-0.018920004766697418",
         "-0.03845010942673331",
         "-0.04327721113612887",
         "1.0",
         "-0.2805546404855976",
         "-0.045524992845745016",
         "-0.003628228802549748",
         "-0.006285990599066307",
         "-0.08298926463773959",
         "-0.07303579198655578",
         "-0.04010627603222957",
         "0.013739532506951462",
         "-0.015429067044771363",
         "0.001829283606061674",
         "-0.021709020542376972",
         "0.007489612226358487",
         "-0.008117393507460323",
         "-0.03582563184863453",
         "0.028578934757831395",
         "-0.003628228802549748",
         "-0.0051317899628072535",
         "-0.003628228802549747",
         "-0.008893372762460765",
         "-0.021602284659526322",
         "-0.040649889875527784",
         "-0.015190188064421732",
         "-0.010619481270859021",
         "-0.009607251948682389",
         "-0.003628228802549749",
         "-0.005513268020316017",
         "-0.010896575746428671",
         "0.010757369357721622",
         "-0.0036282288025497496",
         "-0.02156507092463619",
         "-0.010896575746428709",
         "-0.0036282288025497513",
         "-0.0062859905990663096",
         "-0.0048085853456553635",
         "0.026509259167585793",
         "-0.009607251948682373",
         "-0.028106365766062926",
         "-0.020611645706372077",
         "-0.049618588630518774",
         "0.11831271282706533",
         "-0.006285990599066322",
         "-0.006285990599066315",
         "-0.012572492606961975",
         "-0.008117393507460343",
         "0.020189034948794968",
         "-0.007418120399526562",
         "0.08105342590314367",
         "-0.007259426898385519",
         "-0.005131789962807255",
         "0.011732295885380273",
         "-0.023359719272408708",
         "-0.03430511298352665",
         "0.017176276813285023",
         "-0.027256363956138365",
         "0.20544528263318923",
         "0.0596081824407985",
         "-0.01722813390740347",
         "-0.027383246954952638",
         "-0.0695955892247883",
         "-0.006285990599066315",
         "0.028578934757831395",
         "-0.0012040944651379353",
         "-0.007418120399526562",
         "0.1972693931431499",
         "-0.00455407455684801",
         "-0.04080358749595427"
        ],
        [
         "Body type_Hatchback",
         "-0.19944846163747862",
         "-0.11842335992073678",
         "0.034360352947553005",
         "-0.0036887843104907625",
         "-0.5003521192519014",
         "0.07546550919195054",
         "-0.10962282488548397",
         "0.00836987775637534",
         "-0.02108110944110015",
         "0.06616637913117297",
         "0.3253629927385031",
         "0.03779386535818965",
         "-0.09679253285541133",
         "-0.2234067940471707",
         "-0.2514537185816923",
         "-0.2805546404855976",
         "1.0",
         "-0.2645140118539403",
         "-0.021081109441100136",
         "-0.03652351132638545",
         "-0.48219279033206036",
         "-0.424360096282791",
         "0.3194647044784999",
         "0.056906741337487424",
         "0.014816420597011826",
         "-0.09619097114121133",
         "-0.2375712688493383",
         "-0.006165404130454322",
         "-0.01672535924551893",
         "0.04284853250593056",
         "0.012047854931250027",
         "0.012932342862944018",
         "-0.029817255669943518",
         "-0.021081109441100136",
         "-0.023882376901283753",
         "0.024343564236789635",
         "0.1686004276294282",
         "0.04007018970929105",
         "0.04415049475046917",
         "-0.030088238564733784",
         "-0.021081109441100154",
         "-0.11592516586063792",
         "-0.06331240898651977",
         "-0.07909099531998862",
         "-0.021081109441100157",
         "-0.12529960071643226",
         "-0.05196220725821242",
         "-0.02108110944110016",
         "-0.03652351132638546",
         "0.010122962385622209",
         "-0.15612494619603862",
         "-0.004355430337692179",
         "0.10457151758549746",
         "-0.0835297730969152",
         "-0.10014526415317188",
         "-0.008654478899204433",
         "-0.036523511326385524",
         "0.02240558412502533",
         "0.04620034802067261",
         "-0.04716451751526528",
         "-0.0558210467917752",
         "0.07781198856904158",
         "0.02573041647920922",
         "0.00886158419090665",
         "-0.029817255669943556",
         "-0.07001363374942045",
         "0.013826882228090075",
         "0.1040754118998107",
         "0.16013254666383936",
         "0.03228107080697363",
         "-0.11043899711376248",
         "0.038750709896755955",
         "-0.2491941232236712",
         "0.025452856842821975",
         "-0.014195669736533764",
         "0.02240558412502533",
         "0.012047854931250027",
         "-0.024361102599008068",
         "0.07781198856904158",
         "-0.12368001178789156",
         "0.12218467386261281",
         "0.14984497465351276"
        ],
        [
         "Body type_MPV",
         "-0.07943439611280122",
         "0.052788258250247015",
         "-0.04664378011012439",
         "-0.00128082757123039",
         "0.04787260325087584",
         "0.1422293576990341",
         "0.42895974992601144",
         "-0.04054523906656733",
         "-0.003420785893348012",
         "-0.0191244985056956",
         "-0.11056262683315472",
         "0.001317457435676096",
         "-0.017838259087329913",
         "-0.03625173578695574",
         "-0.04080284938311386",
         "-0.045524992845745016",
         "-0.2645140118539403",
         "1.0",
         "-0.0034207858933480123",
         "-0.005926590944841427",
         "-0.07824437796552443",
         "-0.06885999217070667",
         "-0.03226891512559002",
         "-0.03842584144245035",
         "-0.014546914697657266",
         "-0.042175541024048115",
         "-0.05288456212784993",
         "-0.012822150888792277",
         "0.029538634942761027",
         "0.11308865373187872",
         "-0.012822150888792324",
         "-0.0034207858933480093",
         "-0.0048383813887534575",
         "-0.003420785893348011",
         "-0.00838489680384317",
         "-0.001985426985339652",
         "0.03560589689744178",
         "-0.01172798895889577",
         "-0.033410523097853334",
         "-0.009057960158630933",
         "-0.0034207858933480114",
         "-0.018810925163500386",
         "-0.010273567249393474",
         "-0.02204239132589132",
         "-0.003420785893348012",
         "-0.020332094369628167",
         "-0.010273567249393442",
         "-0.003420785893348012",
         "-0.005926590944841429",
         "-0.025082122233888726",
         "0.007127418209889027",
         "-0.009057960158630916",
         "-0.03414056453100912",
         "-0.019433180956364933",
         "-0.04039569753713857",
         "-0.033434006364713754",
         "-0.005926590944841422",
         "-0.005926590944841417",
         "0.1081389998558286",
         "-0.007653283933350907",
         "-0.009057960158630926",
         "-0.015578128754679411",
         "-0.006260942772268101",
         "-0.006844371311516195",
         "-0.0048383813887534636",
         "-0.011360960453300983",
         "-0.008971873126258453",
         "0.055664128206579795",
         "0.04002333861063935",
         "-0.016541050865951392",
         "-0.021474326260488178",
         "0.09260021543702286",
         "-0.059574257252418834",
         "-0.00920760081789908",
         "-0.014992313142383678",
         "-0.005926590944841417",
         "-0.012822150888792324",
         "-0.04039569753713861",
         "-0.015578128754679411",
         "-0.02334453915358737",
         "0.01089578597407757",
         "0.03374217098703583"
        ],
        [
         "Body type_Minibus",
         "-0.0058273030590712755",
         "0.006136655630882838",
         "0.016816427913816028",
         "0.0016015394821743561",
         "0.013431064676222747",
         "0.011335326376004385",
         "0.060209949222174",
         "0.0016233683456855033",
         "-0.00027262813522355606",
         "-0.0015241750075128276",
         "0.012377438972902438",
         "-0.0018605017605667334",
         "-0.0014216649221076064",
         "-0.002889173258529138",
         "-0.00325188570286068",
         "-0.003628228802549748",
         "-0.021081109441100136",
         "-0.0034207858933480123",
         "1.0",
         "-0.00047233457103143967",
         "-0.006235882490613918",
         "-0.005487970262481015",
         "-0.031069809111275992",
         "0.006836937387460411",
         "-0.001159352953071528",
         "-0.0033612858155753133",
         "-0.004634996574865917",
         "-0.001021893563453975",
         "-0.0006099477114727409",
         "-0.0026919678266252166",
         "-0.0010218935634539793",
         "-0.00027262813522355546",
         "-0.000385606973555775",
         "-0.00027262813522355514",
         "-0.0006682554392307769",
         "-0.0028061654901804897",
         "-0.005848415109792736",
         "-0.0028754858009469087",
         "-0.002662735667474481",
         "-0.0007218969160796832",
         "-0.000272628135223556",
         "-0.0014991839913534226",
         "-0.0008187777804926182",
         "-0.002496471280932031",
         "-0.00027262813522355606",
         "-0.0016204173970548917",
         "-0.0008187777804926164",
         "-0.00027262813522355606",
         "-0.00047233457103143967",
         "-0.001998982814262526",
         "-0.0036169617994309105",
         "-0.0007218969160796818",
         "-0.00272091815558172",
         "-0.001548776231771227",
         "0.07312237011751987",
         "-0.004416736605894045",
         "-0.00047233457103143875",
         "-0.00047233457103143935",
         "-0.0036952422133725033",
         "-0.0006099477114727401",
         "-0.0007218969160796804",
         "-0.0021108517912959",
         "-0.0021824421969833673",
         "-0.0005454793856186048",
         "-0.00038560697355577536",
         "-0.0009054403167280936",
         "-0.0017552687691876148",
         "-0.0038906674097894697",
         "-0.006926186981437692",
         "-0.004662923545107427",
         "-0.0017114504403691769",
         "-0.006717177681221685",
         "-0.009136054728933014",
         "-0.0031265322916800165",
         "0.03609161052140467",
         "-0.00047233457103143935",
         "-0.0010218935634539793",
         "-0.003728382091354476",
         "-0.0021108517912959",
         "-0.0018605017605667327",
         "-0.008193801467293463",
         "-0.006079304722395708"
        ],
        [
         "Body type_Pickup",
         "0.047966861525427826",
         "0.017222743990608552",
         "0.025373035361712575",
         "0.0027747043190625314",
         "0.04492175110966629",
         "0.00030043124315882845",
         "0.0049299803794296765",
         "0.023980006621698826",
         "-0.0004723345710314378",
         "-0.0026406685713492974",
         "-0.03816092909571248",
         "-0.0032233624759965525",
         "-0.0024630674694800345",
         "-0.005005559718126091",
         "-0.0056339674452325576",
         "-0.006285990599066307",
         "-0.03652351132638545",
         "-0.005926590944841427",
         "-0.00047233457103143967",
         "1.0",
         "-0.010803811128265712",
         "-0.009508035836567938",
         "0.01520236475672505",
         "-0.015131796540455711",
         "-0.0020086058957709454",
         "-0.005823505679309104",
         "-0.008030239128203998",
         "-0.001770454313301259",
         "-0.0010567485649045103",
         "-0.004663896730896132",
         "-0.0017704543133012598",
         "-0.0004723345710314401",
         "-0.0006680730302903139",
         "-0.00047233457103144005",
         "-0.0011577680563661162",
         "0.05286559663218769",
         "-0.01013251489921448",
         "-0.004981845880226313",
         "-0.004613251336790146",
         "-0.0012507031598401007",
         "-0.0004723345710314378",
         "-0.002597371055898033",
         "-0.0014185515057054858",
         "-0.004325194428683674",
         "-0.0004723345710314378",
         "-0.0028074107446841154",
         "-0.001418551505705486",
         "-0.00047233457103143826",
         "-0.0008183306055646501",
         "-0.003463284115191085",
         "-0.006266470254694709",
         "-0.0012507031598401016",
         "-0.00471405384765037",
         "0.09986872809606391",
         "0.037922395384596",
         "-0.007652098666900787",
         "-0.0008183306055646518",
         "-0.0008183306055646513",
         "-0.006402092888466348",
         "-0.0010567485649045107",
         "-0.0012507031598401038",
         "-0.003657099713993669",
         "-0.0037811317532130562",
         "-0.0009450556942752197",
         "-0.0006680730302903126",
         "-0.0015686963608713476",
         "-0.0030410438763382526",
         "-0.006740671576402033",
         "-0.01199977967819899",
         "-0.008078623252235828",
         "-0.0029651276047883792",
         "-0.011637666215191418",
         "-0.015828426834126223",
         "0.04674646903520945",
         "0.037324001352152185",
         "-0.0008183306055646513",
         "-0.0017704543133012598",
         "-0.006459508496132145",
         "-0.003657099713993669",
         "-0.0032233624759965603",
         "-0.014195951191894608",
         "-0.010532536511198948"
        ],
        [
         "Body type_SUV",
         "0.24825504771539292",
         "-0.0638596516915698",
         "0.16554743568523922",
         "-0.09792593632310999",
         "0.1443106974617217",
         "0.25425839042460485",
         "0.17395175502456864",
         "0.13048789979229297",
         "-0.006235882490613909",
         "-0.0258536603865087",
         "-0.1378400103755588",
         "-0.02773349240639786",
         "-0.03251805022992653",
         "-0.06608468682235658",
         "-0.07438108726129233",
         "-0.08298926463773959",
         "-0.48219279033206036",
         "-0.07824437796552443",
         "-0.006235882490613918",
         "-0.010803811128265712",
         "1.0",
         "-0.12552753456921373",
         "-0.02017284083702787",
         "-0.09090503335086005",
         "-0.0265181316468749",
         "-0.03469802958092364",
         "-0.007777859833907629",
         "0.030125184003139304",
         "-0.013951466348269452",
         "-0.04080495710054162",
         "0.003375595400158168",
         "-0.00623588249061392",
         "0.061836792809386684",
         "0.043719254754063845",
         "0.04593888920382821",
         "-0.0392254021318512",
         "-0.07612900520227155",
         "-0.021864034321428978",
         "0.017789435574837927",
         "0.021281352780708317",
         "0.04371925475406382",
         "-0.03429116072053055",
         "0.13130102783768285",
         "0.18835436551974016",
         "-0.00623588249061391",
         "0.24288700439248087",
         "-0.01872808182798466",
         "-0.006235882490613913",
         "-0.010803811128265717",
         "-0.01807905425636279",
         "-0.06695165681339632",
         "0.0023846239926108167",
         "-0.051956385474675855",
         "0.17741752988672974",
         "0.302362302502371",
         "-0.008533238662389687",
         "0.046895145246707924",
         "-0.01080381112826571",
         "-0.04196154663597472",
         "-0.013951466348269466",
         "-0.016512104795486628",
         "-0.04172632926358145",
         "-0.03087658039926643",
         "-0.01247686834295593",
         "0.06183679280938677",
         "0.009454895889795546",
         "0.038297076404590645",
         "-0.06313530691099889",
         "-0.09369659586232766",
         "-0.015224427159935456",
         "-0.02306440904390004",
         "-0.0449717707778264",
         "-0.061031744688555455",
         "-0.04895906681106969",
         "0.18033492065917414",
         "-0.01080381112826571",
         "0.003375595400158168",
         "0.1488405618901901",
         "-0.04172632926358145",
         "-0.027733492406397862",
         "-0.05488167455892387",
         "-0.047496206952372985"
        ],
        [
         "Body type_Saloon",
         "0.06509488760446658",
         "0.11438775443550253",
         "-0.1209588571084969",
         "0.035972269623216084",
         "0.37694699850862273",
         "-0.10885336636757906",
         "0.0525350541834052",
         "-0.08759713940898826",
         "0.049677407526677396",
         "-0.030681452261661045",
         "-0.1834448153592389",
         "-0.0047154750202082815",
         "0.23774231430140547",
         "-0.0581586963244332",
         "-0.0654600524617633",
         "-0.07303579198655578",
         "-0.424360096282791",
         "-0.06885999217070667",
         "-0.005487970262481015",
         "-0.009508035836567938",
         "-0.12552753456921373",
         "1.0",
         "-0.30021053195361636",
         "0.042306490114397875",
         "0.015760892546282337",
         "0.13731287482656337",
         "0.27764898448903896",
         "-0.005800825760801872",
         "0.0370901684944881",
         "-0.04272138506814215",
         "-0.020570589616722847",
         "-0.0054879702624810135",
         "-0.007762220147029601",
         "-0.005487970262481014",
         "0.00908463824004699",
         "-0.05648776032995577",
         "-0.11483444913982876",
         "-0.004008651770084913",
         "-0.04201353541672277",
         "0.027203559845356606",
         "-0.005487970262481014",
         "0.26306457938335387",
         "-0.016481894310868064",
         "-0.037932862194435736",
         "0.04967740752667739",
         "-0.032618799525412245",
         "0.11237792047939776",
         "-0.005487970262481016",
         "0.05420882897506272",
         "-0.0020800865352231562",
         "0.18857670536705526",
         "-0.014531694627824833",
         "-0.05477174214698233",
         "-0.0311766718289298",
         "-0.07081351987648836",
         "-0.045134723087158185",
         "-0.00950803583656794",
         "-0.009508035836567954",
         "-0.06583939534481209",
         "0.11114267794829419",
         "0.06893881431853797",
         "-0.03525179787542931",
         "-0.0299129306494765",
         "-0.01098043180545756",
         "-0.007762220147029606",
         "0.11501925406083788",
         "-0.02667059254570427",
         "-0.0579232248952077",
         "-0.13942327762813017",
         "0.021030333813865185",
         "0.06322482086123873",
         "-0.09086591245719712",
         "0.33844337077825337",
         "-0.03802949149604599",
         "-0.05818140047432125",
         "-0.009508035836567954",
         "-0.020570589616722847",
         "-0.058098484016053734",
         "-0.03525179787542931",
         "0.08530905494222672",
         "-0.08489940278517623",
         "-0.11114161011053579"
        ],
        [
         "Gearbox_Manual",
         "-0.19949280195191513",
         "-0.10156840384674251",
         "0.07966895434855933",
         "-0.013794159056441551",
         "-0.46514273161254205",
         "0.0593333143182339",
         "-0.008181963270235819",
         "0.08134359019330517",
         "-0.03106980911127596",
         "-0.1737011717325841",
         "0.1854250627797178",
         "-0.1351857308200079",
         "-0.16201870622729453",
         "-0.027100184859747543",
         "-0.20755202895771874",
         "-0.04010627603222957",
         "0.3194647044784999",
         "-0.03226891512559002",
         "-0.031069809111275992",
         "0.01520236475672505",
         "-0.02017284083702787",
         "-0.30021053195361636",
         "1.0",
         "0.006959127384094196",
         "0.027901174630076638",
         "-0.08023998527861954",
         "-0.2426015681219963",
         "-0.041784448229283594",
         "-0.0516833891289863",
         "0.024522011914261198",
         "0.032890242736737844",
         "0.00877469617683019",
         "0.012410986246318045",
         "-0.031069809111275982",
         "-0.027324455112622183",
         "0.07837283414824837",
         "0.12344968302992827",
         "-0.012513613217249798",
         "0.03967228078529074",
         "-0.06719816357122688",
         "-0.031069809111275964",
         "-0.1416390662425852",
         "-0.00023917596167077678",
         "0.06255241968850923",
         "0.008774696176830136",
         "-0.09670635763826757",
         "-0.06671922167153345",
         "0.008774696176830115",
         "-0.053829165308156485",
         "0.0202402242144421",
         "-0.31151456813462564",
         "0.008162535213108413",
         "0.05067794195449522",
         "0.02155413281265743",
         "-0.051429593917790666",
         "0.07628744902261027",
         "-0.030818655286529252",
         "0.015202364756725002",
         "0.06338467674474207",
         "-0.06951211747744908",
         "-0.03705388405749277",
         "0.052252548047129393",
         "0.02467701535586583",
         "-0.0023738312487463875",
         "-0.043945336201381184",
         "0.01711214668786266",
         "0.043980601561482736",
         "0.013267205928510975",
         "0.1565456938901039",
         "0.03691727159406197",
         "-0.060359599994799805",
         "0.1012548358507437",
         "-0.3192255051879514",
         "0.0754435159369964",
         "-0.017660383598676225",
         "0.015202364756725002",
         "0.032890242736737844",
         "0.06795898530496403",
         "0.052252548047129393",
         "-0.07016337433661853",
         "0.10019871665334511",
         "0.10438294511804297"
        ],
        [
         "Service history_Unknown",
         "-0.1422724700170314",
         "0.08224838400112969",
         "-0.1344054158646647",
         "0.1975756047434357",
         "-0.011634390352568599",
         "-0.04344327726388361",
         "-0.028497708352823586",
         "-0.10832286116397329",
         "0.006836937387460427",
         "0.03822308759641499",
         "-0.024416347313625707",
         "0.01893723627885777",
         "0.03565235132620562",
         "0.017954836951604644",
         "-0.04452799919698927",
         "0.013739532506951462",
         "0.056906741337487424",
         "-0.03842584144245035",
         "0.006836937387460411",
         "-0.015131796540455711",
         "-0.09090503335086005",
         "0.042306490114397875",
         "0.006959127384094196",
         "1.0",
         "0.01803822751150801",
         "-0.0340478636625377",
         "0.03918952151362214",
         "0.0006135737581728301",
         "-0.026507715350061484",
         "0.009245994845345504",
         "0.0006135737581728973",
         "0.006836937387460383",
         "0.009670207853665165",
         "0.006836937387460387",
         "0.01675843394924833",
         "-0.01832125379342825",
         "-0.01993915664259542",
         "0.031053432553241736",
         "0.007906233383784439",
         "-0.017236754212840728",
         "0.006836937387460368",
         "0.003346566633280781",
         "0.020533216114622575",
         "0.010441479354874883",
         "0.006836937387460422",
         "0.016838423944523347",
         "-0.010642604255561757",
         "0.006836937387460467",
         "-0.04210874576637022",
         "-0.0015693779224635331",
         "0.002171726022956206",
         "0.01810364880862484",
         "-0.01827797093735744",
         "0.013961527693448174",
         "-0.03211254374124782",
         "0.030451772451648946",
         "0.01184515268545884",
         "0.011845152685458816",
         "-0.01948930494656114",
         "0.015296199379951518",
         "-0.034906955723573746",
         "0.010024751689575494",
         "0.001310399936635286",
         "0.013679470031831684",
         "-0.023365167020727405",
         "-0.005500769171665876",
         "-0.022000218524639886",
         "0.06302901355858372",
         "0.020216680988911453",
         "-0.0864878553535459",
         "0.0053242140992525765",
         "0.016025387688197675",
         "-0.04210028447529309",
         "-0.014392806311115544",
         "0.026373775375359135",
         "0.011845152685458816",
         "0.0006135737581728973",
         "0.010954594333005432",
         "0.010024751689575494",
         "-0.008782979123946603",
         "0.019581668309164725",
         "-0.018772624592905282"
        ],
        [
         "brand_ALFA",
         "-0.040553712434395456",
         "0.01567320797375565",
         "-0.01851406581961511",
         "0.016406538306194315",
         "0.0007492698050750651",
         "-0.046728723758733944",
         "-0.048884904948128784",
         "-0.023404244082434772",
         "-0.0011593529530715284",
         "-0.006481564327573259",
         "0.0038678853847163297",
         "-0.007911796075409067",
         "-0.006045639509554359",
         "-0.012286228442506106",
         "0.027320867153768875",
         "-0.015429067044771363",
         "0.014816420597011826",
         "-0.014546914697657266",
         "-0.001159352953071528",
         "-0.0020086058957709454",
         "-0.0265181316468749",
         "0.015760892546282337",
         "0.027901174630076638",
         "0.01803822751150801",
         "1.0",
         "-0.01429389022233235",
         "-0.019710353673295194",
         "-0.004345609155649579",
         "-0.0025938066881295396",
         "-0.01144761103549458",
         "-0.004345609155649592",
         "-0.0011593529530715253",
         "-0.0016397962123398438",
         "-0.001159352953071526",
         "-0.0028417606871096374",
         "-0.011933237357107005",
         "-0.024870424040301042",
         "-0.012228022438364291",
         "-0.011323301084842344",
         "-0.0030698714231527234",
         "-0.0011593529530715284",
         "-0.006375289865618323",
         "-0.003481857941569673",
         "-0.010616260678427395",
         "-0.0011593529530715282",
         "-0.006890835727367569",
         "-0.003481857941569673",
         "-0.0011593529530715288",
         "-0.0020086058957709445",
         "-0.008500687674638298",
         "-0.015381154039287212",
         "-0.0030698714231527256",
         "-0.011570722501376864",
         "-0.006586181196884107",
         "-0.015854969569616736",
         "-0.018782201707771305",
         "-0.002008605895770945",
         "-0.0020086058957709406",
         "-0.015714042018719034",
         "-0.0025938066881295457",
         "-0.0030698714231527187",
         "-0.008976411241372797",
         "-0.009280849916336764",
         "-0.002319654704889502",
         "-0.0016397962123398473",
         "-0.003850390951645405",
         "-0.0074642920816782",
         "-0.016545088962515997",
         "-0.0294536560721102",
         "-0.019829113299455116",
         "-0.007277954347780546",
         "-0.028564842636819944",
         "-0.038851133323881834",
         "0.3708111239268704",
         "-0.032122505377917505",
         "-0.0020086058957709406",
         "-0.004345609155649592",
         "-0.015854969569616736",
         "-0.008976411241372797",
         "-0.007911796075409068",
         "-0.03484419507986172",
         "-0.0258522836491243"
        ],
        [
         "brand_AUDI",
         "0.08868461446522896",
         "0.06916232689308495",
         "-0.003895650456258149",
         "-0.009981292272627142",
         "0.1235714614223029",
         "-0.1133287709395819",
         "-0.0327358221984326",
         "0.010729128399477598",
         "-0.0033612858155753133",
         "-0.018791852972204218",
         "-0.08853352805848953",
         "-0.022938491555604987",
         "-0.017527985999180904",
         "0.021866491827856598",
         "0.11434822566411522",
         "0.001829283606061674",
         "-0.09619097114121133",
         "-0.042175541024048115",
         "-0.0033612858155753133",
         "-0.005823505679309104",
         "-0.03469802958092364",
         "0.13731287482656337",
         "-0.08023998527861954",
         "-0.0340478636625377",
         "-0.01429389022233235",
         "1.0",
         "-0.05714578295289217",
         "-0.012599126414626897",
         "-0.007520165111112895",
         "-0.0331897999603037",
         "-0.012599126414626878",
         "-0.003361285815575316",
         "-0.0047542240992006135",
         "-0.0033612858155753125",
         "-0.008239052536619424",
         "-0.03459776537944663",
         "-0.07210625835085914",
         "-0.03545242910342146",
         "-0.032829390929770476",
         "-0.008900408838348469",
         "-0.0033612858155753133",
         "-0.01848373382645084",
         "-0.010094872040339159",
         "-0.030779484658496722",
         "-0.0033612858155753138",
         "-0.019978444292133708",
         "-0.010094872040339134",
         "-0.0033612858155753133",
         "-0.005823505679309101",
         "-0.024645851660356915",
         "-0.04459423229350711",
         "-0.008900408838348488",
         "-0.03354673425102904",
         "-0.019095166297066046",
         "-0.04596795495240614",
         "-0.05445481293539373",
         "-0.005823505679309125",
         "-0.005823505679309115",
         "-0.04555936688903755",
         "-0.00752016511111292",
         "-0.008900408838348497",
         "-0.026025106246083597",
         "-0.026907758416121932",
         "-0.006725322461913435",
         "-0.004754224099200613",
         "-0.011163351467641212",
         "-0.021641053340128166",
         "-0.04796880251160727",
         "-0.08539431940008176",
         "-0.05749010005306144",
         "-0.02110080855945351",
         "-0.08281740269424248",
         "0.3679143695287249",
         "-0.038547630586053504",
         "-0.09313205387667173",
         "-0.005823505679309115",
         "-0.012599126414626878",
         "-0.045967954952406055",
         "-0.026025106246083597",
         "-0.022938491555604915",
         "-0.101022987319594",
         "-0.07495294172478792"
        ],
        [
         "brand_BMW",
         "0.1604334022089025",
         "0.06735481127639706",
         "-0.008728574385839084",
         "0.029804722972939186",
         "0.30315555821008744",
         "-0.15035138371146325",
         "-0.07171054067107288",
         "0.02411139676101306",
         "0.0588194901161157",
         "-0.025912754505419095",
         "-0.13658201105397652",
         "-0.031630701947499375",
         "0.2577027148551845",
         "0.06192881328856098",
         "0.20989832250958249",
         "-0.021709020542376972",
         "-0.2375712688493383",
         "-0.05288456212784993",
         "-0.004634996574865917",
         "-0.008030239128203998",
         "-0.007777859833907629",
         "0.27764898448903896",
         "-0.2426015681219963",
         "0.03918952151362214",
         "-0.019710353673295194",
         "-0.05714578295289217",
         "1.0",
         "-0.017373383574673266",
         "-0.010369823170324064",
         "-0.04576659575441746",
         "-0.017373383574673256",
         "-0.004634996574865921",
         "-0.00655576872214546",
         "-0.0046349965748659185",
         "-0.01136112261278658",
         "-0.04770808935339014",
         "-0.09942988452037611",
         "-0.048886615563487994",
         "-0.045269614922162214",
         "-0.012273090342241737",
         "-0.004634996574865921",
         "-0.02548787805528207",
         "-0.013920178139529383",
         "-0.042442926247809286",
         "-0.004634996574865922",
         "-0.027548987484523044",
         "-0.013920178139529386",
         "-0.00463499657486592",
         "-0.008030239128204003",
         "-0.03398504152817942",
         "-0.06149257316394054",
         "-0.01227309034224176",
         "-0.04625878514435198",
         "-0.02633100403818164",
         "-0.06338684820276888",
         "-0.0750896785602009",
         "-0.00803023912820399",
         "-0.008030239128203996",
         "-0.06282343158836845",
         "-0.010369823170324068",
         "-0.012273090342241786",
         "-0.03588694473768599",
         "-0.037104065211633196",
         "-0.009273786368120035",
         "-0.0065557687221454615",
         "-0.015393542428549836",
         "-0.029841618241207714",
         "-0.06614588807398553",
         "-0.11775326456867823",
         "-0.07927514393447399",
         "-0.02909665549617323",
         "-0.11419986245989747",
         "0.5073302111673366",
         "-0.0531546989868144",
         "-0.1284231018761845",
         "-0.008030239128203996",
         "-0.017373383574673256",
         "-0.06338684820276896",
         "-0.03588694473768599",
         "-0.03163070194749937",
         "-0.13930419068778216",
         "-0.10335527748361233"
        ],
        [
         "brand_CHEVROLET",
         "-0.033883775064670656",
         "-0.0021101777006065922",
         "-0.0032389268879547788",
         "0.02412783302853545",
         "-0.008059494412212367",
         "0.038005593761958716",
         "0.041383031678286386",
         "-0.0037284938991181656",
         "-0.0010218935634539775",
         "-0.005713073701940517",
         "0.02797222234197717",
         "-0.006973729150730984",
         "-0.005328834575707955",
         "-0.010829504277587797",
         "-0.012189061360510072",
         "0.007489612226358487",
         "-0.006165404130454322",
         "-0.012822150888792277",
         "-0.001021893563453975",
         "-0.001770454313301259",
         "0.030125184003139304",
         "-0.005800825760801872",
         "-0.041784448229283594",
         "0.0006135737581728301",
         "-0.004345609155649579",
         "-0.012599126414626897",
         "-0.017373383574673266",
         "1.0",
         "-0.0022862704169779413",
         "-0.010090318054656194",
         "-0.003830369357045145",
         "-0.0010218935634539723",
         "-0.001445372774810979",
         "-0.0010218935634539739",
         "-0.0025048255989172626",
         "-0.010518365795410904",
         "-0.021921647053058137",
         "-0.010778199503809179",
         "-0.009980746989081862",
         "-0.0027058902464860623",
         "-0.0010218935634539778",
         "-0.0056193997363517",
         "-0.0030690293322016803",
         "-0.009357537259462296",
         "-0.0010218935634539771",
         "-0.006073819588728095",
         "-0.0030690293322016764",
         "-0.001021893563453976",
         "-0.0017704543133012576",
         "-0.007492798458511794",
         "-0.013557478134333136",
         "-0.0027058902464860684",
         "-0.010198832734537934",
         "-0.005805286608367509",
         "-0.01397511543747319",
         "-0.016555278512739167",
         "-0.001770454313301259",
         "-0.0017704543133012513",
         "-0.01385089704755646",
         "-0.0022862704169779556",
         "-0.0027058902464860654",
         "-0.007912117570557351",
         "-0.008180460288439708",
         "-0.002044623430752639",
         "-0.0014453727748109815",
         "-0.0033938670012816355",
         "-0.006579283740813345",
         "-0.014583410403859479",
         "-0.025961465385097155",
         "-0.01747806239336213",
         "-0.006415039253925951",
         "-0.025178034656578904",
         "-0.03424472501785039",
         "-0.01171919846856213",
         "-0.02831388094604211",
         "-0.0017704543133012513",
         "-0.003830369357045145",
         "-0.013975115437473184",
         "-0.007912117570557351",
         "-0.006973729150730978",
         "-0.030712871849344917",
         "0.16809382159926828"
        ],
        [
         "brand_CHRYSLER",
         "-0.027655777350421074",
         "0.018805837348247444",
         "-0.033786599036889256",
         "0.027816126024935214",
         "0.0666518609024015",
         "0.01037693334844269",
         "0.03203445314978804",
         "-0.04557026636032093",
         "-0.0006099477114727422",
         "-0.0034100187677037416",
         "0.027691898230623437",
         "-0.004162478645566578",
         "-0.003180674162663184",
         "-0.006463913255479094",
         "-0.00727540552923616",
         "-0.008117393507460323",
         "-0.01672535924551893",
         "0.029538634942761027",
         "-0.0006099477114727409",
         "-0.0010567485649045103",
         "-0.013951466348269452",
         "0.0370901684944881",
         "-0.0516833891289863",
         "-0.026507715350061484",
         "-0.0025938066881295396",
         "-0.007520165111112895",
         "-0.010369823170324064",
         "-0.0022862704169779413",
         "1.0",
         "-0.006022707868584029",
         "-0.002286270416977948",
         "-0.0006099477114727411",
         "-0.0008627139339650703",
         "-0.0006099477114727403",
         "-0.0014950800125738662",
         "-0.00627820095437268",
         "-0.013084590147071706",
         "-0.006433290468064621",
         "-0.0059573071036894834",
         "-0.0016150914560632912",
         "-0.0006099477114727422",
         "-0.0033541066620023006",
         "-0.0018318418713706268",
         "-0.0055853257526530965",
         "-0.0006099477114727423",
         "-0.003625340730712855",
         "-0.0018318418713706233",
         "-0.0006099477114727421",
         "-0.0010567485649045105",
         "-0.004472300673710583",
         "-0.008092185974269158",
         "-0.0016150914560632858",
         "-0.006087478098109036",
         "-0.0034650587965823964",
         "-0.00834146527926343",
         "-0.009881512715970762",
         "-0.0010567485649045094",
         "-0.0010567485649045096",
         "-0.008267321821116596",
         "-0.0013646288209606936",
         "-0.001615091456063284",
         "-0.00472258381660905",
         "-0.004882752186893628",
         "-0.0012203945958871739",
         "-0.0008627139339650712",
         "-0.0020257309415647497",
         "-0.003927042115105426",
         "-0.008704544308153359",
         "-0.015495876443918833",
         "-0.010432303851465787",
         "-0.003829007884847244",
         "-0.0150282624016677",
         "-0.020439987491507213",
         "-0.006994953820859657",
         "-0.016899985970728636",
         "-0.0010567485649045096",
         "-0.002286270416977948",
         "-0.008341465279263403",
         "-0.00472258381660905",
         "-0.0041624786455665775",
         "-0.018331895382475615",
         "0.10033182071392738"
        ],
        [
         "brand_CITROEN",
         "-0.04099656946108176",
         "-0.0082235681007783",
         "-0.0011815474008585708",
         "-0.017960175151460565",
         "-0.05017940525492668",
         "0.061460013103256265",
         "0.00424791592266776",
         "0.008410029216489055",
         "-0.002691967826625212",
         "-0.015049914342135979",
         "-0.010090174181168792",
         "-0.018370851110866854",
         "-0.01403771561367693",
         "-0.018419975472634263",
         "-0.03210956815145005",
         "-0.03582563184863453",
         "0.04284853250593056",
         "0.11308865373187872",
         "-0.0026919678266252166",
         "-0.004663896730896132",
         "-0.04080495710054162",
         "-0.04272138506814215",
         "0.024522011914261198",
         "0.009245994845345504",
         "-0.01144761103549458",
         "-0.0331897999603037",
         "-0.04576659575441746",
         "-0.010090318054656194",
         "-0.006022707868584029",
         "1.0",
         "-0.01009031805465621",
         "-0.002691967826625214",
         "-0.003807536466048408",
         "-0.0026919678266252153",
         "-0.006598446418237148",
         "-0.0277084652673778",
         "-0.057748057805556106",
         "-0.028392943581260724",
         "-0.026292219406375442",
         "-0.007128109762526655",
         "-0.0026919678266252123",
         "-0.014803149600116165",
         "-0.008084724786142633",
         "-0.024650501911154962",
         "-0.0026919678266252127",
         "-0.01600022497677507",
         "-0.00808472478614265",
         "-0.0026919678266252144",
         "-0.004663896730896131",
         "-0.019738232143791234",
         "-0.035714379905127235",
         "-0.007128109762526668",
         "-0.026866721322435106",
         "-0.0152928302251386",
         "-0.03681455924225061",
         "-0.043611466703519015",
         "-0.004663896730896149",
         "-0.004663896730896147",
         "-0.036487331514148916",
         "-0.006022707868584026",
         "-0.007128109762526635",
         "-0.020842841859601988",
         "-0.021549735403981356",
         "-0.00538613872324098",
         "-0.00380753646604841",
         "-0.008940442627327128",
         "-0.01733176603309291",
         "-0.03841698686991419",
         "-0.06839012598582934",
         "-0.04604235051217045",
         "-0.016899097807933458",
         "0.40075876422783585",
         "-0.0902106650599645",
         "-0.030871811272178026",
         "-0.07458707959371061",
         "-0.004663896730896147",
         "-0.01009031805465621",
         "-0.036814559242250716",
         "-0.020842841859601988",
         "-0.01837085111086691",
         "-0.08090672633483448",
         "-0.06002789370040775"
        ],
        [
         "brand_DACIA",
         "0.023079706351398575",
         "-0.06522297986884464",
         "0.061289109774894504",
         "-0.030246487872551662",
         "-0.049124264963017694",
         "0.042488267228143986",
         "0.01066598874330133",
         "0.05515175337146113",
         "-0.0010218935634539773",
         "-0.005713073701940521",
         "0.00033892030301264843",
         "-0.006973729150730975",
         "-0.005328834575707955",
         "-0.010829504277587835",
         "-0.012189061360510046",
         "0.028578934757831395",
         "0.012047854931250027",
         "-0.012822150888792324",
         "-0.0010218935634539793",
         "-0.0017704543133012598",
         "0.003375595400158168",
         "-0.020570589616722847",
         "0.032890242736737844",
         "0.0006135737581728973",
         "-0.004345609155649592",
         "-0.012599126414626878",
         "-0.017373383574673256",
         "-0.003830369357045145",
         "-0.002286270416977948",
         "-0.01009031805465621",
         "1.0",
         "-0.0010218935634539795",
         "-0.0014453727748109837",
         "-0.001021893563453979",
         "-0.0025048255989172717",
         "-0.010518365795410932",
         "-0.02192164705305813",
         "-0.010778199503809207",
         "-0.009980746989081862",
         "-0.0027058902464860654",
         "-0.0010218935634539773",
         "-0.005619399736351706",
         "-0.003069029332201685",
         "-0.009357537259462303",
         "-0.0010218935634539775",
         "-0.006073819588728109",
         "-0.0030690293322016807",
         "-0.0010218935634539775",
         "-0.0017704543133012598",
         "-0.007492798458511771",
         "-0.013557478134333112",
         "-0.002705890246486066",
         "-0.010198832734537902",
         "-0.005805286608367527",
         "-0.013975115437473195",
         "-0.01655527851273922",
         "-0.001770454313301264",
         "-0.0017704543133012626",
         "-0.013850897047556486",
         "-0.002286270416977948",
         "-0.0027058902464860662",
         "-0.007912117570557346",
         "-0.008180460288439705",
         "-0.002044623430752644",
         "-0.001445372774810982",
         "-0.0033938670012816285",
         "-0.00657928374081335",
         "-0.01458341040385953",
         "-0.02596146538509718",
         "-0.017478062393362186",
         "-0.00641503925392596",
         "-0.025178034656578925",
         "-0.03424472501785024",
         "-0.011719198468562142",
         "-0.028313880946042178",
         "-0.0017704543133012626",
         "1.0",
         "-0.013975115437473155",
         "-0.007912117570557346",
         "-0.006973729150730985",
         "-0.030712871849344986",
         "-0.022787091878823773"
        ],
        [
         "brand_DAEWOO",
         "-0.017684080930402198",
         "-0.007810449961398582",
         "-0.028780734048860602",
         "-0.011937742453534845",
         "-0.013836096091275769",
         "0.011335326376004446",
         "0.0028455494049428316",
         "-0.03502979141013132",
         "-0.0002726281352235564",
         "-0.0015241750075128309",
         "0.01237743897290243",
         "-0.0018605017605667368",
         "-0.001421664922107601",
         "-0.0028891732585291383",
         "-0.003251885702860682",
         "-0.003628228802549748",
         "0.012932342862944018",
         "-0.0034207858933480093",
         "-0.00027262813522355546",
         "-0.0004723345710314401",
         "-0.00623588249061392",
         "-0.0054879702624810135",
         "0.00877469617683019",
         "0.006836937387460383",
         "-0.0011593529530715253",
         "-0.003361285815575316",
         "-0.004634996574865921",
         "-0.0010218935634539723",
         "-0.0006099477114727411",
         "-0.002691967826625214",
         "-0.0010218935634539795",
         "1.0",
         "-0.0003856069735557742",
         "-0.00027262813522355427",
         "-0.0006682554392307769",
         "-0.0028061654901804893",
         "-0.005848415109792732",
         "-0.0028754858009469087",
         "-0.0026627356674744813",
         "-0.0007218969160796838",
         "-0.0002726281352235564",
         "-0.0014991839913534237",
         "-0.0008187777804926185",
         "-0.002496471280932031",
         "-0.0002726281352235564",
         "-0.0016204173970548932",
         "-0.0008187777804926159",
         "-0.00027262813522355606",
         "-0.00047233457103144016",
         "-0.0019989828142625266",
         "-0.003616961799430908",
         "-0.0007218969160796818",
         "-0.002720918155581724",
         "-0.0015487762317712267",
         "-0.003728382091354479",
         "-0.004416736605894049",
         "-0.00047233457103143913",
         "-0.0004723345710314389",
         "-0.003695242213372501",
         "-0.000609947711472739",
         "-0.0007218969160796778",
         "-0.0021108517912958986",
         "-0.0021824421969833673",
         "-0.0005454793856186053",
         "-0.000385606973555776",
         "-0.0009054403167280947",
         "-0.0017552687691876133",
         "-0.003890667409789468",
         "-0.006926186981437693",
         "-0.004662923545107425",
         "-0.0017114504403691767",
         "-0.006717177681221683",
         "-0.009136054728933012",
         "-0.0031265322916800165",
         "-0.0075537813714871335",
         "-0.0004723345710314389",
         "-0.0010218935634539795",
         "0.07312237011751964",
         "-0.0021108517912958986",
         "-0.0018605017605667325",
         "-0.008193801467293458",
         "-0.0060793047223957185"
        ],
        [
         "brand_DAIHATSU",
         "-0.0213496963509088",
         "0.015811424367551397",
         "-0.02458442464498533",
         "0.002265227659811959",
         "-0.005107295274428375",
         "0.01603275793429695",
         "0.004024763230118201",
         "-0.023625128941005494",
         "-0.00038560697355577466",
         "-0.002155802853342445",
         "0.017506728638988295",
         "-0.002631505558291116",
         "-0.0020108119346332",
         "-0.0040864650869072774",
         "-0.004599487881913431",
         "-0.0051317899628072535",
         "-0.029817255669943518",
         "-0.0048383813887534575",
         "-0.000385606973555775",
         "-0.0006680730302903139",
         "0.061836792809386684",
         "-0.007762220147029601",
         "0.012410986246318045",
         "0.009670207853665165",
         "-0.0016397962123398438",
         "-0.0047542240992006135",
         "-0.00655576872214546",
         "-0.001445372774810979",
         "-0.0008627139339650703",
         "-0.003807536466048408",
         "-0.0014453727748109837",
         "-0.0003856069735557742",
         "1.0",
         "-0.0003856069735557746",
         "-0.0009451847560511796",
         "-0.00396905836984818",
         "-0.00827203563834591",
         "-0.004067105459590647",
         "-0.003766190313673591",
         "-0.0010210556030853931",
         "-0.0003856069735557748",
         "-0.0021204554006688274",
         "-0.0011580845157143306",
         "-0.0035310249047470045",
         "-0.0003856069735557748",
         "-0.002291928703041194",
         "-0.0011580845157143284",
         "-0.0003856069735557749",
         "-0.0006680730302903142",
         "-0.0028273740440094438",
         "-0.005115853841723722",
         "-0.0010210556030853908",
         "-0.0038484839959987143",
         "-0.002190598981864797",
         "-0.005273447413370752",
         "-0.006247060429750738",
         "-0.0006680730302903142",
         "-0.000668073030290313",
         "-0.005226574158553673",
         "-0.0008627139339650679",
         "-0.0010210556030853866",
         "-0.0029856022387379387",
         "-0.0030868601652176753",
         "-0.0007715295226333615",
         "-0.0005454049631851668",
         "-0.0012806605597863296",
         "-0.0024826633440029632",
         "-0.005502984802983665",
         "-0.009796443048710081",
         "-0.0065952688070012545",
         "-0.0024206864202049347",
         "-0.009500818961213707",
         "-0.012922094087519532",
         "-0.004422187217509766",
         "0.05104820414995132",
         "-0.000668073030290313",
         "-0.0014453727748109837",
         "-0.005273447413370746",
         "-0.0029856022387379387",
         "-0.0026315055582911144",
         "-0.011589365063620558",
         "-0.008598607379256999"
        ],
        [
         "brand_DODGE",
         "-0.009341792599715433",
         "0.018321937532975528",
         "-0.012496033347905555",
         "0.0016015394821743312",
         "0.07137378130715696",
         "0.011335326376004443",
         "0.002845549404942878",
         "-0.016703211532222918",
         "-0.0002726281352235563",
         "-0.0015241750075128293",
         "0.012377438972902426",
         "-0.001860501760566735",
         "-0.0014216649221076045",
         "-0.0028891732585291374",
         "-0.0032518857028606797",
         "-0.003628228802549747",
         "-0.021081109441100136",
         "-0.003420785893348011",
         "-0.00027262813522355514",
         "-0.00047233457103144005",
         "0.043719254754063845",
         "-0.005487970262481014",
         "-0.031069809111275982",
         "0.006836937387460387",
         "-0.001159352953071526",
         "-0.0033612858155753125",
         "-0.0046349965748659185",
         "-0.0010218935634539739",
         "-0.0006099477114727403",
         "-0.0026919678266252153",
         "-0.001021893563453979",
         "-0.00027262813522355427",
         "-0.0003856069735557746",
         "1.0",
         "-0.0006682554392307767",
         "-0.0028061654901804893",
         "-0.005848415109792735",
         "-0.002875485800946909",
         "-0.002662735667474482",
         "-0.0007218969160796835",
         "-0.0002726281352235563",
         "-0.0014991839913534228",
         "-0.0008187777804926185",
         "-0.0024964712809320303",
         "-0.0002726281352235563",
         "-0.001620417397054893",
         "-0.0008187777804926161",
         "-0.0002726281352235559",
         "-0.00047233457103144",
         "-0.001998982814262526",
         "-0.0036169617994309096",
         "-0.0007218969160796818",
         "-0.0027209181555817225",
         "-0.0015487762317712265",
         "-0.003728382091354479",
         "-0.004416736605894046",
         "-0.0004723345710314388",
         "-0.0004723345710314389",
         "-0.0036952422133725",
         "-0.0006099477114727395",
         "-0.0007218969160796781",
         "-0.002110851791295901",
         "-0.002182442196983366",
         "-0.0005454793856186052",
         "-0.00038560697355577574",
         "-0.000905440316728094",
         "-0.001755268769187613",
         "-0.0038906674097894675",
         "-0.006926186981437695",
         "-0.004662923545107427",
         "-0.0017114504403691762",
         "-0.006717177681221688",
         "-0.009136054728933007",
         "-0.003126532291680018",
         "-0.007553781371487133",
         "-0.0004723345710314389",
         "-0.001021893563453979",
         "-0.003728382091354475",
         "-0.002110851791295901",
         "-0.0018605017605667325",
         "-0.00819380146729346",
         "0.044845282096028484"
        ],
        [
         "brand_DS",
         "0.0772470054101369",
         "-0.03532081399708498",
         "0.05186415076157114",
         "-0.023730168281921087",
         "-0.007458502731836979",
         "-0.0064148674838565775",
         "0.006974899585818094",
         "0.04890053406211026",
         "-0.0006682554392307751",
         "-0.0037359982610556705",
         "-0.011825351834260402",
         "-0.004560389264951146",
         "0.07543794139479316",
         "-0.007081828672264575",
         "-0.00797089525228756",
         "-0.008893372762460765",
         "-0.023882376901283753",
         "-0.00838489680384317",
         "-0.0006682554392307769",
         "-0.0011577680563661162",
         "0.04593888920382821",
         "0.00908463824004699",
         "-0.027324455112622183",
         "0.01675843394924833",
         "-0.0028417606871096374",
         "-0.008239052536619424",
         "-0.01136112261278658",
         "-0.0025048255989172626",
         "-0.0014950800125738662",
         "-0.006598446418237148",
         "-0.0025048255989172717",
         "-0.0006682554392307769",
         "-0.0009451847560511796",
         "-0.0006682554392307767",
         "1.0",
         "-0.0068783632718505345",
         "-0.014335406742938296",
         "-0.0070482785107192185",
         "-0.006526793691210608",
         "-0.0017694855314129348",
         "-0.000668255439230775",
         "-0.0036747412581174684",
         "-0.0020069561231705864",
         "-0.006119252919359417",
         "-0.000668255439230775",
         "-0.003971903848141604",
         "-0.0020069561231705847",
         "-0.0006682554392307752",
         "-0.0011577680563661166",
         "-0.004899828616237251",
         "-0.008865755524379943",
         "-0.001769485531412935",
         "-0.00666940833409683",
         "-0.003796299821307081",
         "-0.00913886459310301",
         "-0.01082613229965472",
         "-0.0011577680563661186",
         "-0.0011577680563661177",
         "-0.009057633418269411",
         "-0.0014950800125738666",
         "-0.001769485531412935",
         "-0.00517403748438079",
         "-0.005349517091275204",
         "-0.0013370577696575118",
         "-0.0009451847560511788",
         "-0.0022193799479141435",
         "-0.004302446265715362",
         "-0.009536652028587443",
         "-0.01697719906890674",
         "-0.011429576111725003",
         "-0.004195040489173238",
         "0.09948455600615201",
         "-0.022393940598659224",
         "-0.0076636338657145265",
         "-0.018515533930924356",
         "-0.0011577680563661177",
         "-0.0025048255989172713",
         "-0.009138864593103022",
         "-0.00517403748438079",
         "-0.004560389264951158",
         "-0.020084326197683203",
         "-0.014901354345364987"
        ],
        [
         "brand_FIAT",
         "-0.06320352228561477",
         "-0.04612514338798408",
         "-0.009173215267971808",
         "0.002954569718907448",
         "-0.1236816846146994",
         "-0.17278070088560699",
         "-0.1742162349393278",
         "0.02952926091118722",
         "-0.00280616549018049",
         "-0.015688356242362353",
         "0.09645887428538992",
         "-0.019150172562495363",
         "-0.014633218393791846",
         "0.16463211831539143",
         "-0.03347170837630603",
         "-0.021602284659526322",
         "0.024343564236789635",
         "-0.001985426985339652",
         "-0.0028061654901804897",
         "0.05286559663218769",
         "-0.0392254021318512",
         "-0.05648776032995577",
         "0.07837283414824837",
         "-0.01832125379342825",
         "-0.011933237357107005",
         "-0.03459776537944663",
         "-0.04770808935339014",
         "-0.010518365795410904",
         "-0.00627820095437268",
         "-0.0277084652673778",
         "-0.010518365795410932",
         "-0.0028061654901804893",
         "-0.00396905836984818",
         "-0.0028061654901804893",
         "-0.0068783632718505345",
         "1.0",
         "-0.06019782455648949",
         "-0.029597418533140588",
         "-0.02740757821423128",
         "-0.00743049579864307",
         "-0.0028061654901804893",
         "-0.01543112333771904",
         "-0.008427691991000498",
         "-0.02569621638659419",
         "-0.0028061654901804893",
         "-0.016678980603285334",
         "-0.008427691991000465",
         "-0.0028061654901804897",
         "-0.004861746833138687",
         "-0.02057556012789218",
         "-0.03722944212100963",
         "-0.007430495798643073",
         "-0.028006451438102636",
         "-0.015941577013114775",
         "-0.03837629285908689",
         "-0.045461536214938134",
         "-0.004861746833138695",
         "-0.0048617468331386944",
         "-0.03803518359732423",
         "-0.00627820095437269",
         "-0.0074304957986430385",
         "-0.02172702918854296",
         "-0.022463910309427498",
         "-0.005614627508171899",
         "-0.003969058369848182",
         "-0.009319710777968709",
         "-0.01806700780184285",
         "-0.040046698078936245",
         "-0.07129134661729002",
         "-0.047995542077492716",
         "-0.01761598508525185",
         "-0.06914001075126867",
         "-0.0940375485300136",
         "0.8975328665716745",
         "-0.07775118509926994",
         "-0.0048617468331386944",
         "-0.010518365795410932",
         "-0.03837629285908702",
         "-0.02172702918854296",
         "-0.019150172562495377",
         "-0.08433892155721463",
         "-0.06257437480650802"
        ],
        [
         "brand_FORD",
         "-0.07269699624603354",
         "0.046853810513248974",
         "-0.005334343498347025",
         "-0.019613922656601",
         "-0.0860421603938982",
         "0.08597437362653344",
         "0.06104268776912641",
         "-0.02573277927514281",
         "-0.005848415109792739",
         "-0.03269658187184889",
         "0.05620256057209228",
         "-0.03991145887922424",
         "-0.03049753689104232",
         "-0.04667608092137582",
         "-0.06519161336606816",
         "-0.040649889875527784",
         "0.1686004276294282",
         "0.03560589689744178",
         "-0.005848415109792736",
         "-0.01013251489921448",
         "-0.07612900520227155",
         "-0.11483444913982876",
         "0.12344968302992827",
         "-0.01993915664259542",
         "-0.024870424040301042",
         "-0.07210625835085914",
         "-0.09942988452037611",
         "-0.021921647053058137",
         "-0.013084590147071706",
         "-0.057748057805556106",
         "-0.02192164705305813",
         "-0.005848415109792732",
         "-0.00827203563834591",
         "-0.005848415109792735",
         "-0.014335406742938296",
         "-0.06019782455648949",
         "1.0",
         "-0.061684882935733786",
         "-0.057120969918501414",
         "-0.015486122986723945",
         "-0.00584841510979274",
         "-0.03216047492750921",
         "-0.017564409994107764",
         "-0.05355426852255821",
         "-0.005848415109792738",
         "-0.03476117232484404",
         "-0.01756440999410775",
         "-0.005848415109792737",
         "-0.010132514899214488",
         "-0.04288215259060643",
         "-0.07759101613628028",
         "-0.015486122986723964",
         "-0.05836909987505455",
         "-0.03322432700554266",
         "-0.07998120274812437",
         "-0.09474777458571529",
         "-0.010132514899214493",
         "-0.010132514899214497",
         "-0.07927028652897616",
         "-0.01308459014707178",
         "-0.015486122986723982",
         "-0.04528196438942379",
         "-0.04681772081454624",
         "-0.01170161648325967",
         "-0.008272035638345918",
         "-0.01942349356212226",
         "-0.03765400215589044",
         "-0.0834625452282553",
         "-0.14858047047225714",
         "-0.10002897351240944",
         "-0.0367140119522474",
         "-0.14409680575999992",
         "-0.19598652382950735",
         "-0.06707032889662129",
         "-0.16204361693209196",
         "-0.010132514899214497",
         "-0.02192164705305813",
         "-0.07998120274812456",
         "-0.04528196438942379",
         "-0.03991145887922411",
         "-0.17577331946560112",
         "0.9620203916161011"
        ],
        [
         "brand_HONDA",
         "-0.07426233708579882",
         "0.07646995005624727",
         "-0.10349070453392326",
         "0.040692325678013355",
         "0.04013772829058942",
         "0.04761204726365591",
         "0.0244106034803376",
         "-0.11711093512561711",
         "-0.0028754858009469118",
         "-0.016075903496414377",
         "0.019672909308513068",
         "0.0528381714363605",
         "-0.014994700726220302",
         "-0.030472924867287345",
         "-0.00027817157561050996",
         "-0.015190188064421732",
         "0.04007018970929105",
         "-0.01172798895889577",
         "-0.0028754858009469087",
         "-0.004981845880226313",
         "-0.021864034321428978",
         "-0.004008651770084913",
         "-0.012513613217249798",
         "0.031053432553241736",
         "-0.012228022438364291",
         "-0.03545242910342146",
         "-0.048886615563487994",
         "-0.010778199503809179",
         "-0.006433290468064621",
         "-0.028392943581260724",
         "-0.010778199503809207",
         "-0.0028754858009469087",
         "-0.004067105459590647",
         "-0.002875485800946909",
         "-0.0070482785107192185",
         "-0.029597418533140588",
         "-0.061684882935733786",
         "1.0",
         "-0.028084623757629813",
         "-0.00761405028953573",
         "-0.002875485800946912",
         "-0.015812316203567062",
         "-0.008635880078946195",
         "-0.026330986399864337",
         "-0.0028754858009469118",
         "-0.017090999111364375",
         "-0.008635880078946149",
         "-0.0028754858009469113",
         "-0.004981845880226312",
         "-0.02108383529101059",
         "-0.03814911578477596",
         "-0.007614050289535709",
         "-0.02869829086238022",
         "-0.0163353795441925",
         "-0.03932429701506574",
         "-0.04658456613935523",
         "-0.004981845880226324",
         "-0.0049818458802263176",
         "-0.038974761379265616",
         "-0.006433290468064628",
         "-0.00761405028953566",
         "-0.02226374892964571",
         "-0.023018833121046234",
         "-0.00575332486050772",
         "-0.0040671054595906525",
         "-0.009549934280339728",
         "-0.018513314550260146",
         "-0.04103596601973123",
         "-0.07305244670912708",
         "-0.04918116919173717",
         "-0.018051150283042064",
         "-0.07084796669629151",
         "-0.09636054484317605",
         "-0.03297641750568376",
         "0.3806683910393365",
         "-0.0049818458802263176",
         "-0.010778199503809207",
         "-0.03932429701506577",
         "-0.02226374892964571",
         "-0.019623236577396955",
         "-0.08642233405462767",
         "-0.06412014077176578"
        ],
        [
         "brand_HYUNDAI",
         "-0.028113025317787536",
         "-0.006334370560731744",
         "0.014428569697693615",
         "0.02132971232697395",
         "-0.06927286336096629",
         "0.038618935927017",
         "0.015743351856870303",
         "-0.018788726881607758",
         "-0.002662735667474479",
         "-0.014886486872125779",
         "0.04862754923729445",
         "0.012997748049742644",
         "-0.013885279639935638",
         "-0.028218307984576283",
         "-0.004322532156269034",
         "-0.010619481270859021",
         "0.04415049475046917",
         "-0.033410523097853334",
         "-0.002662735667474481",
         "-0.004613251336790146",
         "0.017789435574837927",
         "-0.04201353541672277",
         "0.03967228078529074",
         "0.007906233383784439",
         "-0.011323301084842344",
         "-0.032829390929770476",
         "-0.045269614922162214",
         "-0.009980746989081862",
         "-0.0059573071036894834",
         "-0.026292219406375442",
         "-0.009980746989081862",
         "-0.0026627356674744813",
         "-0.003766190313673591",
         "-0.002662735667474482",
         "-0.006526793691210608",
         "-0.02740757821423128",
         "-0.057120969918501414",
         "-0.028084623757629813",
         "1.0",
         "-0.00705070540540131",
         "-0.002662735667474479",
         "-0.014642401755820739",
         "-0.007996932517861823",
         "-0.024382821373562673",
         "-0.002662735667474479",
         "-0.015826478055157932",
         "-0.007996932517861807",
         "-0.0026627356674744796",
         "-0.004613251336790143",
         "-0.019523894090537213",
         "-0.03532655638545862",
         "-0.007050705405401312",
         "-0.026574974791964794",
         "-0.015126764924288851",
         "-0.036414788842252015",
         "-0.043137888482091234",
         "-0.00461325133679016",
         "-0.004613251336790164",
         "-0.036091114489837525",
         "-0.005957307103689497",
         "-0.007050705405401278",
         "-0.02061650881640322",
         "-0.02131572618263968",
         "-0.0053276504817365905",
         "-0.003766190313673594",
         "-0.008843358093412912",
         "-0.017143559867316468",
         "-0.037999815660375136",
         "-0.06764747556208225",
         "-0.045542375250752845",
         "-0.016715589999355927",
         "-0.06560609961215474",
         "-0.08923106474972144",
         "-0.03053657335014432",
         "-0.07377713626537402",
         "-0.004613251336790164",
         "-0.009980746989081862",
         "0.714179931732034",
         "-0.02061650881640322",
         "-0.01817136148915003",
         "-0.08002815777350465",
         "-0.059376049007176995"
        ],
        [
         "brand_INFINITI",
         "0.02792351680249853",
         "-0.009651036533679845",
         "0.016192158669320587",
         "-0.0008808130751921285",
         "0.09487248724888243",
         "-0.0016519650275921406",
         "-0.0033149488590053953",
         "0.018163482849611653",
         "-0.000721896916079682",
         "-0.0040358902671105085",
         "-0.045309602051270485",
         "-0.0049264558927955395",
         "-0.0037644519782471407",
         "-0.007650293553311403",
         "0.024332709421397244",
         "-0.009607251948682389",
         "-0.030088238564733784",
         "-0.009057960158630933",
         "-0.0007218969160796832",
         "-0.0012507031598401007",
         "0.021281352780708317",
         "0.027203559845356606",
         "-0.06719816357122688",
         "-0.017236754212840728",
         "-0.0030698714231527234",
         "-0.008900408838348469",
         "-0.012273090342241737",
         "-0.0027058902464860623",
         "-0.0016150914560632912",
         "-0.007128109762526655",
         "-0.0027058902464860654",
         "-0.0007218969160796838",
         "-0.0010210556030853931",
         "-0.0007218969160796835",
         "-0.0017694855314129348",
         "-0.00743049579864307",
         "-0.015486122986723945",
         "-0.00761405028953573",
         "-0.00705070540540131",
         "1.0",
         "-0.0007218969160796822",
         "-0.0039697161083782255",
         "-0.00216805633141094",
         "-0.006610450962108228",
         "-0.0007218969160796818",
         "-0.004290732211980162",
         "-0.002168056331410933",
         "-0.0007218969160796815",
         "-0.0012507031598401003",
         "-0.005293142352050677",
         "-0.009577417849577802",
         "-0.0019115237575095614",
         "-0.007204767856439292",
         "-0.004101032288895446",
         "-0.009872449633668526",
         "-0.011695155866127425",
         "-0.0012507031598401027",
         "-0.0012507031598401007",
         "-0.009784697957947846",
         "-0.0016150914560632904",
         "-0.0019115237575095575",
         "-0.005589362217469788",
         "-0.0057789277333117174",
         "-0.0014443846228130819",
         "-0.0010210556030853914",
         "-0.002397531611343927",
         "-0.004647807572496031",
         "-0.01030216783134154",
         "-0.018339974405030192",
         "-0.012347038666306915",
         "-0.004531780235787553",
         "-0.017786534940192233",
         "-0.02419152274413568",
         "-0.008278800783112824",
         "0.09556762111286239",
         "-0.0012507031598401007",
         "-0.0027058902464860662",
         "-0.009872449633668514",
         "-0.005589362217469788",
         "-0.00492645589279553",
         "-0.02169651347744407",
         "-0.01609749972213042"
        ],
        [
         "brand_ISUZU",
         "-0.01304125527407759",
         "0.027860071987371945",
         "-0.03529461432925111",
         "0.0016015394821745014",
         "-0.00020251570752632123",
         "0.011335326376004564",
         "0.0028455494049429322",
         "0.0016233683456856017",
         "-0.00027262813522355476",
         "-0.0015241750075128224",
         "-0.022026215263142256",
         "-0.00186050176056673",
         "-0.0014216649221076112",
         "-0.002889173258529134",
         "-0.0032518857028606806",
         "-0.003628228802549749",
         "-0.021081109441100154",
         "-0.0034207858933480114",
         "-0.000272628135223556",
         "-0.0004723345710314378",
         "0.04371925475406382",
         "-0.005487970262481014",
         "-0.031069809111275964",
         "0.006836937387460368",
         "-0.0011593529530715284",
         "-0.0033612858155753133",
         "-0.004634996574865921",
         "-0.0010218935634539778",
         "-0.0006099477114727422",
         "-0.0026919678266252123",
         "-0.0010218935634539773",
         "-0.0002726281352235564",
         "-0.0003856069735557748",
         "-0.0002726281352235563",
         "-0.000668255439230775",
         "-0.0028061654901804893",
         "-0.00584841510979274",
         "-0.002875485800946912",
         "-0.002662735667474479",
         "-0.0007218969160796822",
         "1.0",
         "-0.0014991839913534206",
         "-0.0008187777804926162",
         "-0.0024964712809320347",
         "-0.0002726281352235549",
         "-0.0016204173970548908",
         "-0.000818777780492617",
         "-0.0002726281352235553",
         "-0.0004723345710314381",
         "-0.0019989828142625253",
         "-0.00361696179943091",
         "-0.000721896916079682",
         "-0.002720918155581718",
         "-0.0015487762317712235",
         "-0.0037283820913544805",
         "-0.004416736605894052",
         "-0.0004723345710314392",
         "-0.0004723345710314388",
         "-0.0036952422133725",
         "-0.0006099477114727409",
         "-0.0007218969160796829",
         "-0.0021108517912959007",
         "-0.002182442196983368",
         "-0.0005454793856186033",
         "-0.000385606973555774",
         "-0.0009054403167280914",
         "-0.0017552687691876102",
         "-0.0038906674097894675",
         "-0.00692618698143769",
         "-0.004662923545107421",
         "-0.0017114504403691754",
         "-0.006717177681221693",
         "-0.009136054728933017",
         "-0.003126532291680018",
         "0.03609161052140459",
         "-0.0004723345710314388",
         "-0.0010218935634539773",
         "-0.0037283820913544792",
         "-0.0021108517912959007",
         "-0.0018605017605667323",
         "-0.008193801467293467",
         "-0.006079304722395712"
        ],
        [
         "brand_JAGUAR",
         "0.05910951770340372",
         "0.00548336679111618",
         "0.011281941847076175",
         "0.008806876631524033",
         "0.15257722701389792",
         "-0.023598224107526093",
         "0.015647695755971216",
         "0.025723245175610424",
         "-0.0014991839913534204",
         "-0.008381448853070494",
         "-0.0958975184318525",
         "-0.01023091198213762",
         "-0.007817745188128668",
         "-0.015887583626985297",
         "-0.017882141853929227",
         "-0.005513268020316017",
         "-0.11592516586063792",
         "-0.018810925163500386",
         "-0.0014991839913534226",
         "-0.002597371055898033",
         "-0.03429116072053055",
         "0.26306457938335387",
         "-0.1416390662425852",
         "0.003346566633280781",
         "-0.006375289865618323",
         "-0.01848373382645084",
         "-0.02548787805528207",
         "-0.0056193997363517",
         "-0.0033541066620023006",
         "-0.014803149600116165",
         "-0.005619399736351706",
         "-0.0014991839913534237",
         "-0.0021204554006688274",
         "-0.0014991839913534228",
         "-0.0036747412581174684",
         "-0.01543112333771904",
         "-0.03216047492750921",
         "-0.015812316203567062",
         "-0.014642401755820739",
         "-0.0039697161083782255",
         "-0.0014991839913534206",
         "1.0",
         "-0.004502464648352847",
         "-0.013728112750277568",
         "-0.0014991839913534204",
         "-0.008910686415337326",
         "-0.004502464648352845",
         "-0.0014991839913534204",
         "-0.002597371055898032",
         "-0.010992420249199813",
         "-0.019889697820796238",
         "-0.00396971610837822",
         "-0.014962347658234522",
         "-0.00851673115453083",
         "-0.02050239877268732",
         "-0.02428766498421512",
         "-0.0025973710558980416",
         "-0.0025973710558980416",
         "-0.020320162355652493",
         "-0.003354106662002297",
         "-0.003969716108378214",
         "-0.01160758852359671",
         "-0.012001264657034466",
         "-0.0029995948945699784",
         "-0.0021204554006688256",
         "-0.004979022531374635",
         "-0.009652235038510914",
         "-0.021394806855330427",
         "-0.03808714986506181",
         "-0.025641448656785682",
         "-0.009411277746855797",
         "-0.03693780628513068",
         "-0.050239227813057105",
         "-0.01719282258337973",
         "-0.04153829573397139",
         "-0.0025973710558980416",
         "-0.005619399736351706",
         "-0.02050239877268728",
         "-0.01160758852359671",
         "-0.010230911982137623",
         "0.18296562314056528",
         "-0.033430138495799226"
        ],
        [
         "brand_JEEP",
         "-0.03139531565095517",
         "0.025809523111812574",
         "-0.02557389006726271",
         "0.031918008305732895",
         "0.06422203286115283",
         "0.03404312384594423",
         "0.008545972792392931",
         "-0.03793330400190173",
         "-0.0008187777804926164",
         "-0.004577519589863088",
         "-0.03170959013448121",
         "-0.005587601957774078",
         "-0.004269653418466772",
         "-0.008676987304106817",
         "-0.009766313209092046",
         "-0.010896575746428671",
         "-0.06331240898651977",
         "-0.010273567249393474",
         "-0.0008187777804926182",
         "-0.0014185515057054858",
         "0.13130102783768285",
         "-0.016481894310868064",
         "-0.00023917596167077678",
         "0.020533216114622575",
         "-0.003481857941569673",
         "-0.010094872040339159",
         "-0.013920178139529383",
         "-0.0030690293322016803",
         "-0.0018318418713706268",
         "-0.008084724786142633",
         "-0.003069029332201685",
         "-0.0008187777804926185",
         "-0.0011580845157143306",
         "-0.0008187777804926185",
         "-0.0020069561231705864",
         "-0.008427691991000498",
         "-0.017564409994107764",
         "-0.008635880078946195",
         "-0.007996932517861823",
         "-0.00216805633141094",
         "-0.0008187777804926162",
         "-0.004502464648352847",
         "1.0",
         "-0.007497594526657934",
         "-0.0008187777804926161",
         "-0.0048665621350646076",
         "-0.0024590163934426258",
         "-0.0008187777804926169",
         "-0.0014185515057054863",
         "-0.00600349890726664",
         "-0.010862737816242621",
         "-0.0021680563314109397",
         "-0.008171670640311733",
         "-0.004651403878361687",
         "-0.01119736380503948",
         "-0.013264683016773107",
         "-0.0014185515057054882",
         "-0.0014185515057054865",
         "-0.011097835575065555",
         "-0.001831841871370625",
         "-0.0021680563314109363",
         "-0.006339472421688589",
         "-0.006554478233268851",
         "-0.001638225637625561",
         "-0.00115808451571433",
         "-0.0027192879865141147",
         "-0.005271558145768596",
         "-0.011684751552917282",
         "-0.020801257358446047",
         "-0.01400405056411049",
         "-0.005139959571082135",
         "-0.02017354455546321",
         "-0.027438102114005637",
         "-0.009389842205101515",
         "-0.022686097091927444",
         "-0.0014185515057054865",
         "-0.0030690293322016855",
         "-0.01119736380503948",
         "-0.006339472421688589",
         "-0.005587601957774078",
         "-0.024608254660460373",
         "0.13468279974127584"
        ],
        [
         "brand_KIA",
         "0.06632611131748718",
         "-0.06956214756656105",
         "0.07724677687340595",
         "-0.038252892867369805",
         "-0.03230407415722822",
         "0.07762240957023818",
         "0.013244928849778556",
         "0.0783084885925404",
         "-0.0024964712809320347",
         "-0.01395695690120166",
         "0.0019256645733477995",
         "-0.00046521266266470735",
         "-0.013018266241082616",
         "-0.026456323224455017",
         "-0.029777701627927058",
         "0.010757369357721622",
         "-0.07909099531998862",
         "-0.02204239132589132",
         "-0.002496471280932031",
         "-0.004325194428683674",
         "0.18835436551974016",
         "-0.037932862194435736",
         "0.06255241968850923",
         "0.010441479354874883",
         "-0.010616260678427395",
         "-0.030779484658496722",
         "-0.042442926247809286",
         "-0.009357537259462296",
         "-0.0055853257526530965",
         "-0.024650501911154962",
         "-0.009357537259462303",
         "-0.002496471280932031",
         "-0.0035310249047470045",
         "-0.0024964712809320303",
         "-0.006119252919359417",
         "-0.02569621638659419",
         "-0.05355426852255821",
         "-0.026330986399864337",
         "-0.024382821373562673",
         "-0.006610450962108228",
         "-0.0024964712809320347",
         "-0.013728112750277568",
         "-0.007497594526657934",
         "1.0",
         "-0.002496471280932035",
         "-0.014838253915183815",
         "-0.007497594526657916",
         "-0.0024964712809320347",
         "-0.004325194428683671",
         "-0.01830479888948712",
         "-0.03312072412886956",
         "-0.006610450962108239",
         "-0.024915601713690703",
         "-0.014182231705603223",
         "-0.03414100605491573",
         "-0.040444307345660256",
         "-0.004325194428683664",
         "-0.0043251944286836624",
         "-0.03383754231458014",
         "-0.005585325752653089",
         "-0.006610450962108231",
         "-0.019329189450505564",
         "-0.019984746851587777",
         "-0.004994985640130796",
         "-0.0035310249047470097",
         "-0.008291168281131937",
         "-0.016073095570274",
         "-0.035627061910660826",
         "-0.06342348661610415",
         "-0.042698655096609826",
         "-0.015671848650604628",
         "-0.06150957661188115",
         "-0.08365937078761893",
         "-0.02862983333941474",
         "-0.06917040400431702",
         "-0.0043251944286836624",
         "-0.009357537259462303",
         "0.6695856861669128",
         "-0.019329189450505564",
         "-0.017036720034671708",
         "-0.07503110428416801",
         "-0.05566853778701308"
        ],
        [
         "brand_LAGONDA",
         "0.034108396510669034",
         "0.0010944700162236738",
         "-0.19162774105841252",
         "0.0016015394821744344",
         "0.03388143525184673",
         "-0.00540755304169305",
         "0.0028455494049430988",
         "0.001623368345685584",
         "-0.000272628135223555",
         "-0.0015241750075128233",
         "0.012377438972902355",
         "-0.0018605017605667303",
         "-0.0014216649221076116",
         "-0.0028891732585291344",
         "-0.0032518857028606797",
         "-0.0036282288025497496",
         "-0.021081109441100157",
         "-0.003420785893348012",
         "-0.00027262813522355606",
         "-0.0004723345710314378",
         "-0.00623588249061391",
         "0.04967740752667739",
         "0.008774696176830136",
         "0.006836937387460422",
         "-0.0011593529530715282",
         "-0.0033612858155753138",
         "-0.004634996574865922",
         "-0.0010218935634539771",
         "-0.0006099477114727423",
         "-0.0026919678266252127",
         "-0.0010218935634539775",
         "-0.0002726281352235564",
         "-0.0003856069735557748",
         "-0.0002726281352235563",
         "-0.000668255439230775",
         "-0.0028061654901804893",
         "-0.005848415109792738",
         "-0.0028754858009469118",
         "-0.002662735667474479",
         "-0.0007218969160796818",
         "-0.0002726281352235549",
         "-0.0014991839913534204",
         "-0.0008187777804926161",
         "-0.002496471280932035",
         "1.0",
         "-0.001620417397054891",
         "-0.000818777780492617",
         "-0.00027262813522355535",
         "-0.0004723345710314381",
         "-0.0019989828142625253",
         "-0.003616961799430911",
         "-0.0007218969160796821",
         "-0.002720918155581719",
         "-0.0015487762317712237",
         "-0.0037283820913544814",
         "-0.004416736605894052",
         "-0.00047233457103143924",
         "-0.00047233457103143886",
         "-0.0036952422133724994",
         "-0.0006099477114727409",
         "-0.0007218969160796831",
         "-0.0021108517912959003",
         "-0.0021824421969833686",
         "-0.0005454793856186035",
         "-0.000385606973555774",
         "-0.0009054403167280914",
         "-0.0017552687691876092",
         "-0.003890667409789469",
         "-0.006926186981437696",
         "-0.004662923545107422",
         "-0.0017114504403691756",
         "-0.006717177681221694",
         "-0.00913605472893302",
         "-0.003126532291680019",
         "-0.007553781371487131",
         "-0.00047233457103143886",
         "-0.0010218935634539775",
         "-0.0037283820913544797",
         "-0.0021108517912959003",
         "-0.0018605017605667325",
         "0.03327248485477506",
         "-0.0060793047223957125"
        ],
        [
         "brand_LAND",
         "0.10920027160727441",
         "0.0222632075124516",
         "-0.00624215429434579",
         "0.011818293207787628",
         "0.1863316499146968",
         "0.05600059157032017",
         "0.041267085539581964",
         "-0.027697781219643752",
         "-0.0016204173970548908",
         "-0.009059225293474625",
         "-0.10170491905718153",
         "-0.011058247592829936",
         "-0.008449937020171553",
         "-0.017172353129978404",
         "0.01025059902566941",
         "-0.02156507092463619",
         "-0.12529960071643226",
         "-0.020332094369628167",
         "-0.0016204173970548917",
         "-0.0028074107446841154",
         "0.24288700439248087",
         "-0.032618799525412245",
         "-0.09670635763826757",
         "0.016838423944523347",
         "-0.006890835727367569",
         "-0.019978444292133708",
         "-0.027548987484523044",
         "-0.006073819588728095",
         "-0.003625340730712855",
         "-0.01600022497677507",
         "-0.006073819588728109",
         "-0.0016204173970548932",
         "-0.002291928703041194",
         "-0.001620417397054893",
         "-0.003971903848141604",
         "-0.016678980603285334",
         "-0.03476117232484404",
         "-0.017090999111364375",
         "-0.015826478055157932",
         "-0.004290732211980162",
         "-0.0016204173970548908",
         "-0.008910686415337326",
         "-0.0048665621350646076",
         "-0.014838253915183815",
         "-0.001620417397054891",
         "1.0",
         "-0.004866562135064615",
         "-0.001620417397054891",
         "-0.0028074107446841154",
         "-0.011881336187068936",
         "-0.021498103339462078",
         "-0.00429073221198016",
         "-0.016172296786799812",
         "-0.00920544736899325",
         "-0.022160351127166897",
         "-0.026251717668578735",
         "-0.0028074107446841145",
         "-0.0028074107446841123",
         "-0.02196337793225337",
         "-0.003625340730712855",
         "-0.004290732211980168",
         "-0.012546250820428302",
         "-0.012971762071286773",
         "-0.003242160921749311",
         "-0.002291928703041193",
         "-0.005381657472798978",
         "-0.010432775207762144",
         "-0.02312492491579294",
         "-0.041167115311754876",
         "-0.02771497676655102",
         "-0.010172332600585776",
         "-0.039924828612553476",
         "-0.05430188638112955",
         "-0.018583141882028673",
         "-0.044897342447322644",
         "-0.0028074107446841123",
         "-0.0060738195887281065",
         "-0.02216035112716686",
         "-0.012546250820428302",
         "-0.011058247592829935",
         "0.19776136919145296",
         "-0.03613350884012809"
        ],
        [
         "brand_LEXUS",
         "-0.017354099017246577",
         "0.0442644502768121",
         "-0.05600520188403194",
         "0.004809866529405525",
         "0.14156337611187175",
         "-0.021827435015555688",
         "-0.001025203695790936",
         "-0.050164369331278436",
         "-0.000818777780492617",
         "-0.004577519589863086",
         "0.01421205431130981",
         "0.0934506182503085",
         "-0.004269653418466772",
         "0.023775475915840023",
         "-0.009766313209092057",
         "-0.010896575746428709",
         "-0.05196220725821242",
         "-0.010273567249393442",
         "-0.0008187777804926164",
         "-0.001418551505705486",
         "-0.01872808182798466",
         "0.11237792047939776",
         "-0.06671922167153345",
         "-0.010642604255561757",
         "-0.003481857941569673",
         "-0.010094872040339134",
         "-0.013920178139529386",
         "-0.0030690293322016764",
         "-0.0018318418713706233",
         "-0.00808472478614265",
         "-0.0030690293322016807",
         "-0.0008187777804926159",
         "-0.0011580845157143284",
         "-0.0008187777804926161",
         "-0.0020069561231705847",
         "-0.008427691991000465",
         "-0.01756440999410775",
         "-0.008635880078946149",
         "-0.007996932517861807",
         "-0.002168056331410933",
         "-0.000818777780492617",
         "-0.004502464648352845",
         "-0.0024590163934426258",
         "-0.007497594526657916",
         "-0.000818777780492617",
         "-0.004866562135064615",
         "1.0",
         "-0.0008187777804926172",
         "-0.0014185515057054858",
         "-0.0060034989072666484",
         "-0.01086273781624262",
         "-0.002168056331410935",
         "-0.008171670640311728",
         "-0.004651403878361687",
         "-0.011197363805039454",
         "-0.01326468301677304",
         "-0.001418551505705484",
         "-0.0014185515057054839",
         "-0.011097835575065556",
         "-0.0018318418713706203",
         "-0.0021680563314109237",
         "-0.006339472421688593",
         "-0.006554478233268862",
         "-0.0016382256376255625",
         "-0.001158084515714331",
         "-0.002719287986514124",
         "-0.005271558145768582",
         "-0.01168475155291724",
         "-0.020801257358446075",
         "-0.014004050564110486",
         "-0.005139959571082128",
         "-0.020173544555463205",
         "-0.02743810211400568",
         "-0.009389842205101577",
         "0.108393100121115",
         "-0.0014185515057054839",
         "-0.0030690293322016803",
         "-0.011197363805039471",
         "-0.006339472421688593",
         "-0.005587601957774068",
         "-0.02460825466046041",
         "-0.018257835433822003"
        ],
        [
         "brand_MARCOS",
         "0.021160277150401287",
         "-0.026217368729845973",
         "-0.10043341713306626",
         "0.02868010335359279",
         "0.013431064676222865",
         "0.011335326376004538",
         "-0.0832010503209034",
         "0.0016233683456855915",
         "-0.0002726281352235554",
         "-0.0015241750075128235",
         "0.012377438972902395",
         "-0.0018605017605667319",
         "-0.0014216649221076116",
         "0.09436198899416258",
         "-0.00325188570286068",
         "-0.0036282288025497513",
         "-0.02108110944110016",
         "-0.003420785893348012",
         "-0.00027262813522355606",
         "-0.00047233457103143826",
         "-0.006235882490613913",
         "-0.005487970262481016",
         "0.008774696176830115",
         "0.006836937387460467",
         "-0.0011593529530715288",
         "-0.0033612858155753133",
         "-0.00463499657486592",
         "-0.001021893563453976",
         "-0.0006099477114727421",
         "-0.0026919678266252144",
         "-0.0010218935634539775",
         "-0.00027262813522355606",
         "-0.0003856069735557749",
         "-0.0002726281352235559",
         "-0.0006682554392307752",
         "-0.0028061654901804897",
         "-0.005848415109792737",
         "-0.0028754858009469113",
         "-0.0026627356674744796",
         "-0.0007218969160796815",
         "-0.0002726281352235553",
         "-0.0014991839913534204",
         "-0.0008187777804926169",
         "-0.0024964712809320347",
         "-0.00027262813522355535",
         "-0.001620417397054891",
         "-0.0008187777804926172",
         "1.0",
         "-0.00047233457103143853",
         "-0.001998982814262526",
         "-0.0036169617994309088",
         "-0.0007218969160796825",
         "-0.00272091815558172",
         "-0.001548776231771225",
         "-0.0037283820913544827",
         "-0.004416736605894055",
         "-0.0004723345710314391",
         "-0.0004723345710314385",
         "-0.003695242213372502",
         "-0.0006099477114727412",
         "-0.0007218969160796831",
         "-0.0021108517912959003",
         "-0.0021824421969833686",
         "-0.0005454793856186033",
         "-0.00038560697355577444",
         "-0.0009054403167280911",
         "-0.0017552687691876102",
         "-0.0038906674097894697",
         "-0.006926186981437693",
         "-0.004662923545107424",
         "-0.0017114504403691767",
         "-0.006717177681221698",
         "-0.00913605472893302",
         "-0.003126532291680019",
         "-0.00755378137148713",
         "-0.0004723345710314385",
         "-0.0010218935634539775",
         "-0.003728382091354479",
         "-0.0021108517912959003",
         "-0.0018605017605667334",
         "0.033272484854775124",
         "-0.006079304722395714"
        ],
        [
         "brand_MASERATI",
         "0.048229647127765875",
         "-0.010479385382578766",
         "-0.008483310889512182",
         "0.018412784421428404",
         "0.1295618560541771",
         "-0.02870699589235836",
         "-0.011634211939367376",
         "-0.018354959958362765",
         "-0.00047233457103143815",
         "-0.0026406685713492965",
         "0.0015758238068472041",
         "-0.0032233624759965525",
         "-0.0024630674694800336",
         "-0.0050055597181260895",
         "0.04466050106220847",
         "-0.0062859905990663096",
         "-0.03652351132638546",
         "-0.005926590944841429",
         "-0.00047233457103143967",
         "-0.0008183306055646501",
         "-0.010803811128265717",
         "0.05420882897506272",
         "-0.053829165308156485",
         "-0.04210874576637022",
         "-0.0020086058957709445",
         "-0.005823505679309101",
         "-0.008030239128204003",
         "-0.0017704543133012576",
         "-0.0010567485649045105",
         "-0.004663896730896131",
         "-0.0017704543133012598",
         "-0.00047233457103144016",
         "-0.0006680730302903142",
         "-0.00047233457103144",
         "-0.0011577680563661166",
         "-0.004861746833138687",
         "-0.010132514899214488",
         "-0.004981845880226312",
         "-0.004613251336790143",
         "-0.0012507031598401003",
         "-0.0004723345710314381",
         "-0.002597371055898032",
         "-0.0014185515057054863",
         "-0.004325194428683671",
         "-0.0004723345710314381",
         "-0.0028074107446841154",
         "-0.0014185515057054858",
         "-0.00047233457103143853",
         "1.0",
         "-0.0034632841151910837",
         "-0.006266470254694709",
         "-0.0012507031598401022",
         "-0.0047140538476503745",
         "-0.0026832907632863565",
         "-0.006459508496132139",
         "-0.007652098666900787",
         "-0.0008183306055646515",
         "-0.0008183306055646507",
         "-0.00640209288846635",
         "-0.0010567485649045107",
         "-0.0012507031598401029",
         "-0.0036570997139936685",
         "-0.0037811317532130528",
         "-0.00094505569427522",
         "-0.0006680730302903132",
         "-0.0015686963608713468",
         "-0.0030410438763382535",
         "-0.006740671576402033",
         "-0.01199977967819898",
         "-0.00807862325223582",
         "-0.0029651276047883775",
         "-0.011637666215191422",
         "-0.015828426834126226",
         "0.1510729866083139",
         "-0.013087101523256008",
         "-0.0008183306055646507",
         "-0.0017704543133012598",
         "-0.006459508496132143",
         "-0.0036570997139936685",
         "-0.0032233624759965573",
         "-0.014195951191894603",
         "-0.01053253651119894"
        ],
        [
         "brand_MAZDA",
         "-0.007748310986194898",
         "-0.015560589343571284",
         "-0.015025609783936654",
         "-0.016353399700398032",
         "0.03199397092545676",
         "0.013625004164760236",
         "-0.05452824149690969",
         "-0.01091549299375411",
         "-0.0019989828142625253",
         "0.013780821297199573",
         "0.03363995399802171",
         "-0.013641699314079962",
         "-0.010424029583750214",
         "0.05954090027613187",
         "-0.011795423851934973",
         "-0.0048085853456553635",
         "0.010122962385622209",
         "-0.025082122233888726",
         "-0.001998982814262526",
         "-0.003463284115191085",
         "-0.01807905425636279",
         "-0.0020800865352231562",
         "0.0202402242144421",
         "-0.0015693779224635331",
         "-0.008500687674638298",
         "-0.024645851660356915",
         "-0.03398504152817942",
         "-0.007492798458511794",
         "-0.004472300673710583",
         "-0.019738232143791234",
         "-0.007492798458511771",
         "-0.0019989828142625266",
         "-0.0028273740440094438",
         "-0.001998982814262526",
         "-0.004899828616237251",
         "-0.02057556012789218",
         "-0.04288215259060643",
         "-0.02108383529101059",
         "-0.019523894090537213",
         "-0.005293142352050677",
         "-0.0019989828142625253",
         "-0.010992420249199813",
         "-0.00600349890726664",
         "-0.01830479888948712",
         "-0.0019989828142625253",
         "-0.011881336187068936",
         "-0.0060034989072666484",
         "-0.001998982814262526",
         "-0.0034632841151910837",
         "1.0",
         "-0.02652053674129295",
         "-0.005293142352050684",
         "-0.019950503742259488",
         "-0.011356043894406755",
         "-0.027337500289580742",
         "-0.0323847007318837",
         "-0.0034632841151910855",
         "-0.0034632841151910837",
         "-0.027094509790825255",
         "-0.004472300673710592",
         "-0.005293142352050681",
         "-0.015477333074210215",
         "-0.016002253183860542",
         "-0.003999601568972101",
         "-0.002827374044009444",
         "-0.006638931931936189",
         "-0.012870102717537146",
         "-0.028527419893045892",
         "-0.0507846658339559",
         "-0.03418980958530393",
         "-0.012548814945143738",
         "-0.04925215342906332",
         "-0.06698801053062087",
         "-0.022924575683211507",
         "0.26463339564049143",
         "-0.0034632841151910837",
         "-0.007492798458511771",
         "-0.027337500289580745",
         "-0.015477333074210215",
         "-0.013641699314079983",
         "-0.06007915618528409",
         "-0.044575097330908364"
        ]
       ],
       "shape": {
        "columns": 82,
        "rows": 82
       }
      },
      "text/html": [
       "<div>\n",
       "<style scoped>\n",
       "    .dataframe tbody tr th:only-of-type {\n",
       "        vertical-align: middle;\n",
       "    }\n",
       "\n",
       "    .dataframe tbody tr th {\n",
       "        vertical-align: top;\n",
       "    }\n",
       "\n",
       "    .dataframe thead th {\n",
       "        text-align: right;\n",
       "    }\n",
       "</style>\n",
       "<table border=\"1\" class=\"dataframe\">\n",
       "  <thead>\n",
       "    <tr style=\"text-align: right;\">\n",
       "      <th></th>\n",
       "      <th>Price</th>\n",
       "      <th>Mileage(miles)</th>\n",
       "      <th>Registration_Year</th>\n",
       "      <th>Previous Owners</th>\n",
       "      <th>Engine</th>\n",
       "      <th>Doors</th>\n",
       "      <th>Seats</th>\n",
       "      <th>Emission Class</th>\n",
       "      <th>Fuel type_Diesel Hybrid</th>\n",
       "      <th>Fuel type_Electric</th>\n",
       "      <th>...</th>\n",
       "      <th>country_Germany</th>\n",
       "      <th>country_Italy</th>\n",
       "      <th>country_Japan</th>\n",
       "      <th>country_Malaysia</th>\n",
       "      <th>country_Romania</th>\n",
       "      <th>country_South Korea</th>\n",
       "      <th>country_Spain</th>\n",
       "      <th>country_Sweden</th>\n",
       "      <th>country_United Kingdom</th>\n",
       "      <th>country_United States</th>\n",
       "    </tr>\n",
       "  </thead>\n",
       "  <tbody>\n",
       "    <tr>\n",
       "      <th>Price</th>\n",
       "      <td>1.000000</td>\n",
       "      <td>-0.497678</td>\n",
       "      <td>0.726692</td>\n",
       "      <td>-0.405319</td>\n",
       "      <td>-0.022016</td>\n",
       "      <td>0.112734</td>\n",
       "      <td>-0.028142</td>\n",
       "      <td>0.697556</td>\n",
       "      <td>0.064536</td>\n",
       "      <td>0.003454</td>\n",
       "      <td>...</td>\n",
       "      <td>0.214761</td>\n",
       "      <td>-0.059618</td>\n",
       "      <td>-0.053131</td>\n",
       "      <td>-0.022744</td>\n",
       "      <td>0.023080</td>\n",
       "      <td>0.025333</td>\n",
       "      <td>-0.035884</td>\n",
       "      <td>-0.053960</td>\n",
       "      <td>-0.044005</td>\n",
       "      <td>-0.085419</td>\n",
       "    </tr>\n",
       "    <tr>\n",
       "      <th>Mileage(miles)</th>\n",
       "      <td>-0.497678</td>\n",
       "      <td>1.000000</td>\n",
       "      <td>-0.415663</td>\n",
       "      <td>0.264609</td>\n",
       "      <td>0.331313</td>\n",
       "      <td>-0.037886</td>\n",
       "      <td>0.095786</td>\n",
       "      <td>-0.377365</td>\n",
       "      <td>-0.018740</td>\n",
       "      <td>-0.054650</td>\n",
       "      <td>...</td>\n",
       "      <td>0.129420</td>\n",
       "      <td>-0.040980</td>\n",
       "      <td>0.014151</td>\n",
       "      <td>-0.020931</td>\n",
       "      <td>-0.065223</td>\n",
       "      <td>-0.054307</td>\n",
       "      <td>0.015241</td>\n",
       "      <td>0.145800</td>\n",
       "      <td>-0.107561</td>\n",
       "      <td>0.052088</td>\n",
       "    </tr>\n",
       "    <tr>\n",
       "      <th>Registration_Year</th>\n",
       "      <td>0.726692</td>\n",
       "      <td>-0.415663</td>\n",
       "      <td>1.000000</td>\n",
       "      <td>-0.395080</td>\n",
       "      <td>-0.291125</td>\n",
       "      <td>0.214872</td>\n",
       "      <td>0.031153</td>\n",
       "      <td>0.854981</td>\n",
       "      <td>0.026587</td>\n",
       "      <td>0.047026</td>\n",
       "      <td>...</td>\n",
       "      <td>-0.022031</td>\n",
       "      <td>-0.013313</td>\n",
       "      <td>-0.075366</td>\n",
       "      <td>-0.042340</td>\n",
       "      <td>0.061289</td>\n",
       "      <td>0.063323</td>\n",
       "      <td>0.001552</td>\n",
       "      <td>-0.074647</td>\n",
       "      <td>0.023407</td>\n",
       "      <td>-0.014176</td>\n",
       "    </tr>\n",
       "    <tr>\n",
       "      <th>Previous Owners</th>\n",
       "      <td>-0.405319</td>\n",
       "      <td>0.264609</td>\n",
       "      <td>-0.395080</td>\n",
       "      <td>1.000000</td>\n",
       "      <td>0.148082</td>\n",
       "      <td>-0.121885</td>\n",
       "      <td>-0.028751</td>\n",
       "      <td>-0.376419</td>\n",
       "      <td>-0.025477</td>\n",
       "      <td>0.008954</td>\n",
       "      <td>...</td>\n",
       "      <td>-0.012805</td>\n",
       "      <td>0.015921</td>\n",
       "      <td>-0.006432</td>\n",
       "      <td>-0.012863</td>\n",
       "      <td>-0.030246</td>\n",
       "      <td>-0.012425</td>\n",
       "      <td>-0.017805</td>\n",
       "      <td>0.041059</td>\n",
       "      <td>0.022877</td>\n",
       "      <td>-0.006334</td>\n",
       "    </tr>\n",
       "    <tr>\n",
       "      <th>Engine</th>\n",
       "      <td>-0.022016</td>\n",
       "      <td>0.331313</td>\n",
       "      <td>-0.291125</td>\n",
       "      <td>0.148082</td>\n",
       "      <td>1.000000</td>\n",
       "      <td>-0.060383</td>\n",
       "      <td>0.073264</td>\n",
       "      <td>-0.261697</td>\n",
       "      <td>0.013431</td>\n",
       "      <td>-0.001132</td>\n",
       "      <td>...</td>\n",
       "      <td>0.300542</td>\n",
       "      <td>-0.093117</td>\n",
       "      <td>-0.031786</td>\n",
       "      <td>-0.018066</td>\n",
       "      <td>-0.049124</td>\n",
       "      <td>-0.071379</td>\n",
       "      <td>-0.049428</td>\n",
       "      <td>0.091152</td>\n",
       "      <td>-0.022618</td>\n",
       "      <td>-0.064035</td>\n",
       "    </tr>\n",
       "    <tr>\n",
       "      <th>...</th>\n",
       "      <td>...</td>\n",
       "      <td>...</td>\n",
       "      <td>...</td>\n",
       "      <td>...</td>\n",
       "      <td>...</td>\n",
       "      <td>...</td>\n",
       "      <td>...</td>\n",
       "      <td>...</td>\n",
       "      <td>...</td>\n",
       "      <td>...</td>\n",
       "      <td>...</td>\n",
       "      <td>...</td>\n",
       "      <td>...</td>\n",
       "      <td>...</td>\n",
       "      <td>...</td>\n",
       "      <td>...</td>\n",
       "      <td>...</td>\n",
       "      <td>...</td>\n",
       "      <td>...</td>\n",
       "      <td>...</td>\n",
       "      <td>...</td>\n",
       "    </tr>\n",
       "    <tr>\n",
       "      <th>country_South Korea</th>\n",
       "      <td>0.025333</td>\n",
       "      <td>-0.054307</td>\n",
       "      <td>0.063323</td>\n",
       "      <td>-0.012425</td>\n",
       "      <td>-0.071379</td>\n",
       "      <td>0.084269</td>\n",
       "      <td>0.021286</td>\n",
       "      <td>0.039097</td>\n",
       "      <td>-0.003728</td>\n",
       "      <td>-0.020844</td>\n",
       "      <td>...</td>\n",
       "      <td>-0.124942</td>\n",
       "      <td>-0.042758</td>\n",
       "      <td>-0.103303</td>\n",
       "      <td>-0.006460</td>\n",
       "      <td>-0.013975</td>\n",
       "      <td>1.000000</td>\n",
       "      <td>-0.028867</td>\n",
       "      <td>-0.025444</td>\n",
       "      <td>-0.112056</td>\n",
       "      <td>-0.083139</td>\n",
       "    </tr>\n",
       "    <tr>\n",
       "      <th>country_Spain</th>\n",
       "      <td>-0.035884</td>\n",
       "      <td>0.015241</td>\n",
       "      <td>0.001552</td>\n",
       "      <td>-0.017805</td>\n",
       "      <td>-0.049428</td>\n",
       "      <td>-0.050657</td>\n",
       "      <td>0.022032</td>\n",
       "      <td>-0.009076</td>\n",
       "      <td>-0.002111</td>\n",
       "      <td>-0.011801</td>\n",
       "      <td>...</td>\n",
       "      <td>-0.070737</td>\n",
       "      <td>-0.024208</td>\n",
       "      <td>-0.058486</td>\n",
       "      <td>-0.003657</td>\n",
       "      <td>-0.007912</td>\n",
       "      <td>-0.028867</td>\n",
       "      <td>1.000000</td>\n",
       "      <td>-0.014405</td>\n",
       "      <td>-0.063441</td>\n",
       "      <td>-0.047070</td>\n",
       "    </tr>\n",
       "    <tr>\n",
       "      <th>country_Sweden</th>\n",
       "      <td>-0.053960</td>\n",
       "      <td>0.145800</td>\n",
       "      <td>-0.074647</td>\n",
       "      <td>0.041059</td>\n",
       "      <td>0.091152</td>\n",
       "      <td>0.000355</td>\n",
       "      <td>0.006654</td>\n",
       "      <td>-0.094956</td>\n",
       "      <td>-0.001861</td>\n",
       "      <td>-0.010401</td>\n",
       "      <td>...</td>\n",
       "      <td>-0.062347</td>\n",
       "      <td>-0.021336</td>\n",
       "      <td>-0.051549</td>\n",
       "      <td>-0.003223</td>\n",
       "      <td>-0.006974</td>\n",
       "      <td>-0.025444</td>\n",
       "      <td>-0.014405</td>\n",
       "      <td>1.000000</td>\n",
       "      <td>-0.055917</td>\n",
       "      <td>-0.041487</td>\n",
       "    </tr>\n",
       "    <tr>\n",
       "      <th>country_United Kingdom</th>\n",
       "      <td>-0.044005</td>\n",
       "      <td>-0.107561</td>\n",
       "      <td>0.023407</td>\n",
       "      <td>0.022877</td>\n",
       "      <td>-0.022618</td>\n",
       "      <td>-0.062576</td>\n",
       "      <td>-0.014355</td>\n",
       "      <td>0.039673</td>\n",
       "      <td>-0.008194</td>\n",
       "      <td>-0.038331</td>\n",
       "      <td>...</td>\n",
       "      <td>-0.274583</td>\n",
       "      <td>-0.093968</td>\n",
       "      <td>-0.227028</td>\n",
       "      <td>-0.014196</td>\n",
       "      <td>-0.030713</td>\n",
       "      <td>-0.112056</td>\n",
       "      <td>-0.063441</td>\n",
       "      <td>-0.055917</td>\n",
       "      <td>1.000000</td>\n",
       "      <td>-0.182713</td>\n",
       "    </tr>\n",
       "    <tr>\n",
       "      <th>country_United States</th>\n",
       "      <td>-0.085419</td>\n",
       "      <td>0.052088</td>\n",
       "      <td>-0.014176</td>\n",
       "      <td>-0.006334</td>\n",
       "      <td>-0.064035</td>\n",
       "      <td>0.097630</td>\n",
       "      <td>0.072214</td>\n",
       "      <td>-0.037509</td>\n",
       "      <td>-0.006079</td>\n",
       "      <td>-0.033987</td>\n",
       "      <td>...</td>\n",
       "      <td>-0.203724</td>\n",
       "      <td>-0.069718</td>\n",
       "      <td>-0.168441</td>\n",
       "      <td>-0.010533</td>\n",
       "      <td>-0.022787</td>\n",
       "      <td>-0.083139</td>\n",
       "      <td>-0.047070</td>\n",
       "      <td>-0.041487</td>\n",
       "      <td>-0.182713</td>\n",
       "      <td>1.000000</td>\n",
       "    </tr>\n",
       "  </tbody>\n",
       "</table>\n",
       "<p>82 rows × 82 columns</p>\n",
       "</div>"
      ],
      "text/plain": [
       "                           Price  Mileage(miles)  Registration_Year  \\\n",
       "Price                   1.000000       -0.497678           0.726692   \n",
       "Mileage(miles)         -0.497678        1.000000          -0.415663   \n",
       "Registration_Year       0.726692       -0.415663           1.000000   \n",
       "Previous Owners        -0.405319        0.264609          -0.395080   \n",
       "Engine                 -0.022016        0.331313          -0.291125   \n",
       "...                          ...             ...                ...   \n",
       "country_South Korea     0.025333       -0.054307           0.063323   \n",
       "country_Spain          -0.035884        0.015241           0.001552   \n",
       "country_Sweden         -0.053960        0.145800          -0.074647   \n",
       "country_United Kingdom -0.044005       -0.107561           0.023407   \n",
       "country_United States  -0.085419        0.052088          -0.014176   \n",
       "\n",
       "                        Previous Owners    Engine     Doors     Seats  \\\n",
       "Price                         -0.405319 -0.022016  0.112734 -0.028142   \n",
       "Mileage(miles)                 0.264609  0.331313 -0.037886  0.095786   \n",
       "Registration_Year             -0.395080 -0.291125  0.214872  0.031153   \n",
       "Previous Owners                1.000000  0.148082 -0.121885 -0.028751   \n",
       "Engine                         0.148082  1.000000 -0.060383  0.073264   \n",
       "...                                 ...       ...       ...       ...   \n",
       "country_South Korea           -0.012425 -0.071379  0.084269  0.021286   \n",
       "country_Spain                 -0.017805 -0.049428 -0.050657  0.022032   \n",
       "country_Sweden                 0.041059  0.091152  0.000355  0.006654   \n",
       "country_United Kingdom         0.022877 -0.022618 -0.062576 -0.014355   \n",
       "country_United States         -0.006334 -0.064035  0.097630  0.072214   \n",
       "\n",
       "                        Emission Class  Fuel type_Diesel Hybrid  \\\n",
       "Price                         0.697556                 0.064536   \n",
       "Mileage(miles)               -0.377365                -0.018740   \n",
       "Registration_Year             0.854981                 0.026587   \n",
       "Previous Owners              -0.376419                -0.025477   \n",
       "Engine                       -0.261697                 0.013431   \n",
       "...                                ...                      ...   \n",
       "country_South Korea           0.039097                -0.003728   \n",
       "country_Spain                -0.009076                -0.002111   \n",
       "country_Sweden               -0.094956                -0.001861   \n",
       "country_United Kingdom        0.039673                -0.008194   \n",
       "country_United States        -0.037509                -0.006079   \n",
       "\n",
       "                        Fuel type_Electric  ...  country_Germany  \\\n",
       "Price                             0.003454  ...         0.214761   \n",
       "Mileage(miles)                   -0.054650  ...         0.129420   \n",
       "Registration_Year                 0.047026  ...        -0.022031   \n",
       "Previous Owners                   0.008954  ...        -0.012805   \n",
       "Engine                           -0.001132  ...         0.300542   \n",
       "...                                    ...  ...              ...   \n",
       "country_South Korea              -0.020844  ...        -0.124942   \n",
       "country_Spain                    -0.011801  ...        -0.070737   \n",
       "country_Sweden                   -0.010401  ...        -0.062347   \n",
       "country_United Kingdom           -0.038331  ...        -0.274583   \n",
       "country_United States            -0.033987  ...        -0.203724   \n",
       "\n",
       "                        country_Italy  country_Japan  country_Malaysia  \\\n",
       "Price                       -0.059618      -0.053131         -0.022744   \n",
       "Mileage(miles)              -0.040980       0.014151         -0.020931   \n",
       "Registration_Year           -0.013313      -0.075366         -0.042340   \n",
       "Previous Owners              0.015921      -0.006432         -0.012863   \n",
       "Engine                      -0.093117      -0.031786         -0.018066   \n",
       "...                               ...            ...               ...   \n",
       "country_South Korea         -0.042758      -0.103303         -0.006460   \n",
       "country_Spain               -0.024208      -0.058486         -0.003657   \n",
       "country_Sweden              -0.021336      -0.051549         -0.003223   \n",
       "country_United Kingdom      -0.093968      -0.227028         -0.014196   \n",
       "country_United States       -0.069718      -0.168441         -0.010533   \n",
       "\n",
       "                        country_Romania  country_South Korea  country_Spain  \\\n",
       "Price                          0.023080             0.025333      -0.035884   \n",
       "Mileage(miles)                -0.065223            -0.054307       0.015241   \n",
       "Registration_Year              0.061289             0.063323       0.001552   \n",
       "Previous Owners               -0.030246            -0.012425      -0.017805   \n",
       "Engine                        -0.049124            -0.071379      -0.049428   \n",
       "...                                 ...                  ...            ...   \n",
       "country_South Korea           -0.013975             1.000000      -0.028867   \n",
       "country_Spain                 -0.007912            -0.028867       1.000000   \n",
       "country_Sweden                -0.006974            -0.025444      -0.014405   \n",
       "country_United Kingdom        -0.030713            -0.112056      -0.063441   \n",
       "country_United States         -0.022787            -0.083139      -0.047070   \n",
       "\n",
       "                        country_Sweden  country_United Kingdom  \\\n",
       "Price                        -0.053960               -0.044005   \n",
       "Mileage(miles)                0.145800               -0.107561   \n",
       "Registration_Year            -0.074647                0.023407   \n",
       "Previous Owners               0.041059                0.022877   \n",
       "Engine                        0.091152               -0.022618   \n",
       "...                                ...                     ...   \n",
       "country_South Korea          -0.025444               -0.112056   \n",
       "country_Spain                -0.014405               -0.063441   \n",
       "country_Sweden                1.000000               -0.055917   \n",
       "country_United Kingdom       -0.055917                1.000000   \n",
       "country_United States        -0.041487               -0.182713   \n",
       "\n",
       "                        country_United States  \n",
       "Price                               -0.085419  \n",
       "Mileage(miles)                       0.052088  \n",
       "Registration_Year                   -0.014176  \n",
       "Previous Owners                     -0.006334  \n",
       "Engine                              -0.064035  \n",
       "...                                       ...  \n",
       "country_South Korea                 -0.083139  \n",
       "country_Spain                       -0.047070  \n",
       "country_Sweden                      -0.041487  \n",
       "country_United Kingdom              -0.182713  \n",
       "country_United States                1.000000  \n",
       "\n",
       "[82 rows x 82 columns]"
      ]
     },
     "execution_count": 416,
     "metadata": {},
     "output_type": "execute_result"
    }
   ],
   "source": [
    "df_bonus2.corr()"
   ]
  }
 ],
 "metadata": {
  "kernelspec": {
   "display_name": ".venv (3.12.3)",
   "language": "python",
   "name": "python3"
  },
  "language_info": {
   "codemirror_mode": {
    "name": "ipython",
    "version": 3
   },
   "file_extension": ".py",
   "mimetype": "text/x-python",
   "name": "python",
   "nbconvert_exporter": "python",
   "pygments_lexer": "ipython3",
   "version": "3.12.3"
  }
 },
 "nbformat": 4,
 "nbformat_minor": 5
}
