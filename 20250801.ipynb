{
 "cells": [
  {
   "cell_type": "markdown",
   "id": "24233d14",
   "metadata": {},
   "source": [
    "## 신용거래 이상탐지 데이터 : Feature Engneering\n",
    "<!-- ![](./data/fraud_info.png) -->"
   ]
  },
  {
   "cell_type": "markdown",
   "id": "c248f51b",
   "metadata": {},
   "source": [
    "### 데이터 불러오기, 데이터 확인"
   ]
  },
  {
   "cell_type": "code",
   "execution_count": 1,
   "id": "b7885543",
   "metadata": {},
   "outputs": [],
   "source": [
    "import numpy as np\n",
    "import pandas as pd\n",
    "\n",
    "import matplotlib.pyplot as plt\n",
    "import seaborn as sns"
   ]
  },
  {
   "cell_type": "code",
   "execution_count": 2,
   "id": "7c846693",
   "metadata": {},
   "outputs": [],
   "source": [
    "df = pd.read_csv('./data/fraud.csv')"
   ]
  },
  {
   "cell_type": "code",
   "execution_count": 3,
   "id": "087c1aa2",
   "metadata": {},
   "outputs": [
    {
     "data": {
      "application/vnd.microsoft.datawrangler.viewer.v0+json": {
       "columns": [
        {
         "name": "index",
         "rawType": "int64",
         "type": "integer"
        },
        {
         "name": "trans_date_trans_time",
         "rawType": "object",
         "type": "string"
        },
        {
         "name": "cc_num",
         "rawType": "int64",
         "type": "integer"
        },
        {
         "name": "merchant",
         "rawType": "object",
         "type": "string"
        },
        {
         "name": "category",
         "rawType": "object",
         "type": "string"
        },
        {
         "name": "amt",
         "rawType": "float64",
         "type": "float"
        },
        {
         "name": "first",
         "rawType": "object",
         "type": "string"
        },
        {
         "name": "last",
         "rawType": "object",
         "type": "string"
        },
        {
         "name": "gender",
         "rawType": "object",
         "type": "string"
        },
        {
         "name": "street",
         "rawType": "object",
         "type": "string"
        },
        {
         "name": "city",
         "rawType": "object",
         "type": "string"
        },
        {
         "name": "state",
         "rawType": "object",
         "type": "string"
        },
        {
         "name": "zip",
         "rawType": "int64",
         "type": "integer"
        },
        {
         "name": "lat",
         "rawType": "float64",
         "type": "float"
        },
        {
         "name": "long",
         "rawType": "float64",
         "type": "float"
        },
        {
         "name": "city_pop",
         "rawType": "int64",
         "type": "integer"
        },
        {
         "name": "job",
         "rawType": "object",
         "type": "string"
        },
        {
         "name": "dob",
         "rawType": "object",
         "type": "string"
        },
        {
         "name": "trans_num",
         "rawType": "object",
         "type": "string"
        },
        {
         "name": "unix_time",
         "rawType": "int64",
         "type": "integer"
        },
        {
         "name": "merch_lat",
         "rawType": "float64",
         "type": "float"
        },
        {
         "name": "merch_long",
         "rawType": "float64",
         "type": "float"
        },
        {
         "name": "is_fraud",
         "rawType": "int64",
         "type": "integer"
        }
       ],
       "ref": "aaa06d13-8834-4d84-aa95-22afda27452f",
       "rows": [
        [
         "0",
         "2019-01-01 00:00:44",
         "630423337322",
         "fraud_Heller, Gutmann and Zieme",
         "grocery_pos",
         "107.23",
         "Stephanie",
         "Gill",
         "F",
         "43039 Riley Greens Suite 393",
         "Orient",
         "WA",
         "99160",
         "48.8878",
         "-118.2105",
         "149",
         "Special educational needs teacher",
         "1978-06-21",
         "1f76529f8574734946361c461b024d99",
         "1325376044",
         "49.159047",
         "-118.186462",
         "0"
        ],
        [
         "1",
         "2019-01-01 00:12:34",
         "4956828990005111019",
         "fraud_Schultz, Simonis and Little",
         "grocery_pos",
         "44.71",
         "Kenneth",
         "Robinson",
         "M",
         "269 Sanchez Rapids",
         "Elizabeth",
         "NJ",
         "7208",
         "40.6747",
         "-74.2239",
         "124967",
         "Operational researcher",
         "1980-12-21",
         "09eff9c806365e2a6be12c1bbab3d70e",
         "1325376754",
         "40.079588",
         "-74.84808699999999",
         "0"
        ],
        [
         "2",
         "2019-01-01 00:17:16",
         "180048185037117",
         "fraud_Kling-Grant",
         "grocery_net",
         "46.28",
         "Mary",
         "Wall",
         "F",
         "2481 Mills Lock",
         "Plainfield",
         "NJ",
         "7060",
         "40.6152",
         "-74.415",
         "71485",
         "Leisure centre manager",
         "1974-07-19",
         "19e23c6a300c774354417befe4f31f8c",
         "1325377036",
         "40.021888",
         "-74.228188",
         "0"
        ],
        [
         "3",
         "2019-01-01 00:20:15",
         "374930071163758",
         "fraud_Deckow-O'Conner",
         "grocery_pos",
         "64.09",
         "Daniel",
         "Escobar",
         "M",
         "61390 Hayes Port",
         "Romulus",
         "MI",
         "48174",
         "42.2203",
         "-83.3583",
         "31515",
         "Police officer",
         "1971-11-05",
         "6f363661ba6b55889e488dd178f2a0af",
         "1325377215",
         "42.360426",
         "-83.552316",
         "0"
        ],
        [
         "4",
         "2019-01-01 00:23:41",
         "2712209726293386",
         "fraud_Balistreri-Nader",
         "misc_pos",
         "25.58",
         "Jenna",
         "Brooks",
         "F",
         "50872 Alex Plain Suite 088",
         "Baton Rouge",
         "LA",
         "70808",
         "30.4066",
         "-91.1468",
         "378909",
         "Designer, furniture",
         "1977-02-22",
         "1654da2abfb9e79a5f99167fc9779558",
         "1325377421",
         "29.737426",
         "-90.853194",
         "0"
        ]
       ],
       "shape": {
        "columns": 22,
        "rows": 5
       }
      },
      "text/html": [
       "<div>\n",
       "<style scoped>\n",
       "    .dataframe tbody tr th:only-of-type {\n",
       "        vertical-align: middle;\n",
       "    }\n",
       "\n",
       "    .dataframe tbody tr th {\n",
       "        vertical-align: top;\n",
       "    }\n",
       "\n",
       "    .dataframe thead th {\n",
       "        text-align: right;\n",
       "    }\n",
       "</style>\n",
       "<table border=\"1\" class=\"dataframe\">\n",
       "  <thead>\n",
       "    <tr style=\"text-align: right;\">\n",
       "      <th></th>\n",
       "      <th>trans_date_trans_time</th>\n",
       "      <th>cc_num</th>\n",
       "      <th>merchant</th>\n",
       "      <th>category</th>\n",
       "      <th>amt</th>\n",
       "      <th>first</th>\n",
       "      <th>last</th>\n",
       "      <th>gender</th>\n",
       "      <th>street</th>\n",
       "      <th>city</th>\n",
       "      <th>...</th>\n",
       "      <th>lat</th>\n",
       "      <th>long</th>\n",
       "      <th>city_pop</th>\n",
       "      <th>job</th>\n",
       "      <th>dob</th>\n",
       "      <th>trans_num</th>\n",
       "      <th>unix_time</th>\n",
       "      <th>merch_lat</th>\n",
       "      <th>merch_long</th>\n",
       "      <th>is_fraud</th>\n",
       "    </tr>\n",
       "  </thead>\n",
       "  <tbody>\n",
       "    <tr>\n",
       "      <th>0</th>\n",
       "      <td>2019-01-01 00:00:44</td>\n",
       "      <td>630423337322</td>\n",
       "      <td>fraud_Heller, Gutmann and Zieme</td>\n",
       "      <td>grocery_pos</td>\n",
       "      <td>107.23</td>\n",
       "      <td>Stephanie</td>\n",
       "      <td>Gill</td>\n",
       "      <td>F</td>\n",
       "      <td>43039 Riley Greens Suite 393</td>\n",
       "      <td>Orient</td>\n",
       "      <td>...</td>\n",
       "      <td>48.8878</td>\n",
       "      <td>-118.2105</td>\n",
       "      <td>149</td>\n",
       "      <td>Special educational needs teacher</td>\n",
       "      <td>1978-06-21</td>\n",
       "      <td>1f76529f8574734946361c461b024d99</td>\n",
       "      <td>1325376044</td>\n",
       "      <td>49.159047</td>\n",
       "      <td>-118.186462</td>\n",
       "      <td>0</td>\n",
       "    </tr>\n",
       "    <tr>\n",
       "      <th>1</th>\n",
       "      <td>2019-01-01 00:12:34</td>\n",
       "      <td>4956828990005111019</td>\n",
       "      <td>fraud_Schultz, Simonis and Little</td>\n",
       "      <td>grocery_pos</td>\n",
       "      <td>44.71</td>\n",
       "      <td>Kenneth</td>\n",
       "      <td>Robinson</td>\n",
       "      <td>M</td>\n",
       "      <td>269 Sanchez Rapids</td>\n",
       "      <td>Elizabeth</td>\n",
       "      <td>...</td>\n",
       "      <td>40.6747</td>\n",
       "      <td>-74.2239</td>\n",
       "      <td>124967</td>\n",
       "      <td>Operational researcher</td>\n",
       "      <td>1980-12-21</td>\n",
       "      <td>09eff9c806365e2a6be12c1bbab3d70e</td>\n",
       "      <td>1325376754</td>\n",
       "      <td>40.079588</td>\n",
       "      <td>-74.848087</td>\n",
       "      <td>0</td>\n",
       "    </tr>\n",
       "    <tr>\n",
       "      <th>2</th>\n",
       "      <td>2019-01-01 00:17:16</td>\n",
       "      <td>180048185037117</td>\n",
       "      <td>fraud_Kling-Grant</td>\n",
       "      <td>grocery_net</td>\n",
       "      <td>46.28</td>\n",
       "      <td>Mary</td>\n",
       "      <td>Wall</td>\n",
       "      <td>F</td>\n",
       "      <td>2481 Mills Lock</td>\n",
       "      <td>Plainfield</td>\n",
       "      <td>...</td>\n",
       "      <td>40.6152</td>\n",
       "      <td>-74.4150</td>\n",
       "      <td>71485</td>\n",
       "      <td>Leisure centre manager</td>\n",
       "      <td>1974-07-19</td>\n",
       "      <td>19e23c6a300c774354417befe4f31f8c</td>\n",
       "      <td>1325377036</td>\n",
       "      <td>40.021888</td>\n",
       "      <td>-74.228188</td>\n",
       "      <td>0</td>\n",
       "    </tr>\n",
       "    <tr>\n",
       "      <th>3</th>\n",
       "      <td>2019-01-01 00:20:15</td>\n",
       "      <td>374930071163758</td>\n",
       "      <td>fraud_Deckow-O'Conner</td>\n",
       "      <td>grocery_pos</td>\n",
       "      <td>64.09</td>\n",
       "      <td>Daniel</td>\n",
       "      <td>Escobar</td>\n",
       "      <td>M</td>\n",
       "      <td>61390 Hayes Port</td>\n",
       "      <td>Romulus</td>\n",
       "      <td>...</td>\n",
       "      <td>42.2203</td>\n",
       "      <td>-83.3583</td>\n",
       "      <td>31515</td>\n",
       "      <td>Police officer</td>\n",
       "      <td>1971-11-05</td>\n",
       "      <td>6f363661ba6b55889e488dd178f2a0af</td>\n",
       "      <td>1325377215</td>\n",
       "      <td>42.360426</td>\n",
       "      <td>-83.552316</td>\n",
       "      <td>0</td>\n",
       "    </tr>\n",
       "    <tr>\n",
       "      <th>4</th>\n",
       "      <td>2019-01-01 00:23:41</td>\n",
       "      <td>2712209726293386</td>\n",
       "      <td>fraud_Balistreri-Nader</td>\n",
       "      <td>misc_pos</td>\n",
       "      <td>25.58</td>\n",
       "      <td>Jenna</td>\n",
       "      <td>Brooks</td>\n",
       "      <td>F</td>\n",
       "      <td>50872 Alex Plain Suite 088</td>\n",
       "      <td>Baton Rouge</td>\n",
       "      <td>...</td>\n",
       "      <td>30.4066</td>\n",
       "      <td>-91.1468</td>\n",
       "      <td>378909</td>\n",
       "      <td>Designer, furniture</td>\n",
       "      <td>1977-02-22</td>\n",
       "      <td>1654da2abfb9e79a5f99167fc9779558</td>\n",
       "      <td>1325377421</td>\n",
       "      <td>29.737426</td>\n",
       "      <td>-90.853194</td>\n",
       "      <td>0</td>\n",
       "    </tr>\n",
       "  </tbody>\n",
       "</table>\n",
       "<p>5 rows × 22 columns</p>\n",
       "</div>"
      ],
      "text/plain": [
       "  trans_date_trans_time               cc_num  \\\n",
       "0   2019-01-01 00:00:44         630423337322   \n",
       "1   2019-01-01 00:12:34  4956828990005111019   \n",
       "2   2019-01-01 00:17:16      180048185037117   \n",
       "3   2019-01-01 00:20:15      374930071163758   \n",
       "4   2019-01-01 00:23:41     2712209726293386   \n",
       "\n",
       "                            merchant     category     amt      first  \\\n",
       "0    fraud_Heller, Gutmann and Zieme  grocery_pos  107.23  Stephanie   \n",
       "1  fraud_Schultz, Simonis and Little  grocery_pos   44.71    Kenneth   \n",
       "2                  fraud_Kling-Grant  grocery_net   46.28       Mary   \n",
       "3              fraud_Deckow-O'Conner  grocery_pos   64.09     Daniel   \n",
       "4             fraud_Balistreri-Nader     misc_pos   25.58      Jenna   \n",
       "\n",
       "       last gender                        street         city  ...      lat  \\\n",
       "0      Gill      F  43039 Riley Greens Suite 393       Orient  ...  48.8878   \n",
       "1  Robinson      M            269 Sanchez Rapids    Elizabeth  ...  40.6747   \n",
       "2      Wall      F               2481 Mills Lock   Plainfield  ...  40.6152   \n",
       "3   Escobar      M              61390 Hayes Port      Romulus  ...  42.2203   \n",
       "4    Brooks      F    50872 Alex Plain Suite 088  Baton Rouge  ...  30.4066   \n",
       "\n",
       "       long  city_pop                                job         dob  \\\n",
       "0 -118.2105       149  Special educational needs teacher  1978-06-21   \n",
       "1  -74.2239    124967             Operational researcher  1980-12-21   \n",
       "2  -74.4150     71485             Leisure centre manager  1974-07-19   \n",
       "3  -83.3583     31515                     Police officer  1971-11-05   \n",
       "4  -91.1468    378909                Designer, furniture  1977-02-22   \n",
       "\n",
       "                          trans_num   unix_time  merch_lat  merch_long  \\\n",
       "0  1f76529f8574734946361c461b024d99  1325376044  49.159047 -118.186462   \n",
       "1  09eff9c806365e2a6be12c1bbab3d70e  1325376754  40.079588  -74.848087   \n",
       "2  19e23c6a300c774354417befe4f31f8c  1325377036  40.021888  -74.228188   \n",
       "3  6f363661ba6b55889e488dd178f2a0af  1325377215  42.360426  -83.552316   \n",
       "4  1654da2abfb9e79a5f99167fc9779558  1325377421  29.737426  -90.853194   \n",
       "\n",
       "   is_fraud  \n",
       "0         0  \n",
       "1         0  \n",
       "2         0  \n",
       "3         0  \n",
       "4         0  \n",
       "\n",
       "[5 rows x 22 columns]"
      ]
     },
     "execution_count": 3,
     "metadata": {},
     "output_type": "execute_result"
    }
   ],
   "source": [
    "df.head()"
   ]
  },
  {
   "cell_type": "code",
   "execution_count": 4,
   "id": "f5667637",
   "metadata": {},
   "outputs": [
    {
     "name": "stdout",
     "output_type": "stream",
     "text": [
      "<class 'pandas.core.frame.DataFrame'>\n",
      "RangeIndex: 491134 entries, 0 to 491133\n",
      "Data columns (total 22 columns):\n",
      " #   Column                 Non-Null Count   Dtype  \n",
      "---  ------                 --------------   -----  \n",
      " 0   trans_date_trans_time  491134 non-null  object \n",
      " 1   cc_num                 491134 non-null  int64  \n",
      " 2   merchant               491134 non-null  object \n",
      " 3   category               491134 non-null  object \n",
      " 4   amt                    491134 non-null  float64\n",
      " 5   first                  491134 non-null  object \n",
      " 6   last                   491134 non-null  object \n",
      " 7   gender                 491134 non-null  object \n",
      " 8   street                 491134 non-null  object \n",
      " 9   city                   491134 non-null  object \n",
      " 10  state                  491134 non-null  object \n",
      " 11  zip                    491134 non-null  int64  \n",
      " 12  lat                    491134 non-null  float64\n",
      " 13  long                   491134 non-null  float64\n",
      " 14  city_pop               491134 non-null  int64  \n",
      " 15  job                    491134 non-null  object \n",
      " 16  dob                    491134 non-null  object \n",
      " 17  trans_num              491134 non-null  object \n",
      " 18  unix_time              491134 non-null  int64  \n",
      " 19  merch_lat              491134 non-null  float64\n",
      " 20  merch_long             491134 non-null  float64\n",
      " 21  is_fraud               491134 non-null  int64  \n",
      "dtypes: float64(5), int64(5), object(12)\n",
      "memory usage: 82.4+ MB\n"
     ]
    }
   ],
   "source": [
    "df.info()"
   ]
  },
  {
   "cell_type": "code",
   "execution_count": 5,
   "id": "e091039e",
   "metadata": {},
   "outputs": [
    {
     "data": {
      "application/vnd.microsoft.datawrangler.viewer.v0+json": {
       "columns": [
        {
         "name": "index",
         "rawType": "object",
         "type": "string"
        },
        {
         "name": "trans_date_trans_time",
         "rawType": "object",
         "type": "unknown"
        },
        {
         "name": "cc_num",
         "rawType": "float64",
         "type": "float"
        },
        {
         "name": "merchant",
         "rawType": "object",
         "type": "unknown"
        },
        {
         "name": "category",
         "rawType": "object",
         "type": "unknown"
        },
        {
         "name": "amt",
         "rawType": "float64",
         "type": "float"
        },
        {
         "name": "first",
         "rawType": "object",
         "type": "unknown"
        },
        {
         "name": "last",
         "rawType": "object",
         "type": "unknown"
        },
        {
         "name": "gender",
         "rawType": "object",
         "type": "unknown"
        },
        {
         "name": "street",
         "rawType": "object",
         "type": "unknown"
        },
        {
         "name": "city",
         "rawType": "object",
         "type": "unknown"
        },
        {
         "name": "state",
         "rawType": "object",
         "type": "unknown"
        },
        {
         "name": "zip",
         "rawType": "float64",
         "type": "float"
        },
        {
         "name": "lat",
         "rawType": "float64",
         "type": "float"
        },
        {
         "name": "long",
         "rawType": "float64",
         "type": "float"
        },
        {
         "name": "city_pop",
         "rawType": "float64",
         "type": "float"
        },
        {
         "name": "job",
         "rawType": "object",
         "type": "unknown"
        },
        {
         "name": "dob",
         "rawType": "object",
         "type": "unknown"
        },
        {
         "name": "trans_num",
         "rawType": "object",
         "type": "unknown"
        },
        {
         "name": "unix_time",
         "rawType": "float64",
         "type": "float"
        },
        {
         "name": "merch_lat",
         "rawType": "float64",
         "type": "float"
        },
        {
         "name": "merch_long",
         "rawType": "float64",
         "type": "float"
        },
        {
         "name": "is_fraud",
         "rawType": "float64",
         "type": "float"
        }
       ],
       "ref": "332fcf75-3778-4225-a003-aff4eec254a9",
       "rows": [
        [
         "count",
         "491134",
         "491134.0",
         "491134",
         "491134",
         "491134.0",
         "491134",
         "491134",
         "491134",
         "491134",
         "491134",
         "491134",
         "491134.0",
         "491134.0",
         "491134.0",
         "491134.0",
         "491134",
         "491134",
         "491134",
         "491134.0",
         "491134.0",
         "491134.0",
         "491134.0"
        ],
        [
         "unique",
         "488474",
         null,
         "693",
         "14",
         null,
         "92",
         "102",
         "2",
         "124",
         "121",
         "44",
         null,
         null,
         null,
         null,
         "110",
         "123",
         "491134",
         null,
         null,
         null,
         null
        ],
        [
         "top",
         "2020-04-07 11:34:26",
         null,
         "fraud_Kilback LLC",
         "shopping_pos",
         null,
         "Margaret",
         "Lowe",
         "F",
         "908 Brooks Brook",
         "Birmingham",
         "TX",
         null,
         null,
         null,
         null,
         "Environmental consultant",
         "1977-03-23",
         "1f76529f8574734946361c461b024d99",
         null,
         null,
         null,
         null
        ],
        [
         "freq",
         "3",
         null,
         "1602",
         "48345",
         null,
         "16029",
         "16056",
         "352445",
         "4392",
         "8029",
         "49621",
         null,
         null,
         null,
         null,
         "8777",
         "8044",
         "1",
         null,
         null,
         null,
         null
        ],
        [
         "mean",
         null,
         "3.70601291496033e+17",
         null,
         null,
         "69.0501203744803",
         null,
         null,
         null,
         null,
         null,
         null,
         "50770.532384237296",
         "37.93122960352979",
         "-90.49561857985805",
         "121392.23047681488",
         null,
         null,
         null,
         "1358730376.693316",
         "37.93027171380316",
         "-90.49541107056322",
         "0.0025329136243876418"
        ],
        [
         "std",
         null,
         "1.2602286927231063e+18",
         null,
         null,
         "160.3228668154701",
         null,
         null,
         null,
         null,
         null,
         null,
         "26854.947965193427",
         "5.3411929310922615",
         "12.990732015010986",
         "372575.13932596677",
         null,
         null,
         null,
         "18194023.14215382",
         "5.372985971742335",
         "13.004100232123374",
         "0.050264332455356844"
        ],
        [
         "min",
         null,
         "503874407318.0",
         null,
         null,
         "1.0",
         null,
         null,
         null,
         null,
         null,
         null,
         "1843.0",
         "24.6557",
         "-122.3456",
         "46.0",
         null,
         null,
         null,
         "1325376044.0",
         "23.655789",
         "-123.345106",
         "0.0"
        ],
        [
         "25%",
         null,
         "213112402583773.0",
         null,
         null,
         "8.96",
         null,
         null,
         null,
         null,
         null,
         null,
         "28405.0",
         "33.7467",
         "-97.2351",
         "1228.0",
         null,
         null,
         null,
         "1343087268.25",
         "33.7813875",
         "-96.984814",
         "0.0"
        ],
        [
         "50%",
         null,
         "3531129874770000.0",
         null,
         null,
         "42.17",
         null,
         null,
         null,
         null,
         null,
         null,
         "49628.0",
         "38.5072",
         "-87.5917",
         "5760.0",
         null,
         null,
         null,
         "1357256614.5",
         "38.5451235",
         "-87.5734405",
         "0.0"
        ],
        [
         "75%",
         null,
         "4653879239169997.0",
         null,
         null,
         "80.33",
         null,
         null,
         null,
         null,
         null,
         null,
         "75048.0",
         "41.5205",
         "-80.73100000000001",
         "50835.0",
         null,
         null,
         null,
         "1374625818.5",
         "41.624294000000006",
         "-80.685567",
         "0.0"
        ],
        [
         "max",
         null,
         "4.956828990005111e+18",
         null,
         null,
         "25086.94",
         null,
         null,
         null,
         null,
         null,
         null,
         "99323.0",
         "48.8878",
         "-69.9656",
         "2906700.0",
         null,
         null,
         null,
         "1388534374.0",
         "49.887523",
         "-68.965624",
         "1.0"
        ]
       ],
       "shape": {
        "columns": 22,
        "rows": 11
       }
      },
      "text/html": [
       "<div>\n",
       "<style scoped>\n",
       "    .dataframe tbody tr th:only-of-type {\n",
       "        vertical-align: middle;\n",
       "    }\n",
       "\n",
       "    .dataframe tbody tr th {\n",
       "        vertical-align: top;\n",
       "    }\n",
       "\n",
       "    .dataframe thead th {\n",
       "        text-align: right;\n",
       "    }\n",
       "</style>\n",
       "<table border=\"1\" class=\"dataframe\">\n",
       "  <thead>\n",
       "    <tr style=\"text-align: right;\">\n",
       "      <th></th>\n",
       "      <th>trans_date_trans_time</th>\n",
       "      <th>cc_num</th>\n",
       "      <th>merchant</th>\n",
       "      <th>category</th>\n",
       "      <th>amt</th>\n",
       "      <th>first</th>\n",
       "      <th>last</th>\n",
       "      <th>gender</th>\n",
       "      <th>street</th>\n",
       "      <th>city</th>\n",
       "      <th>...</th>\n",
       "      <th>lat</th>\n",
       "      <th>long</th>\n",
       "      <th>city_pop</th>\n",
       "      <th>job</th>\n",
       "      <th>dob</th>\n",
       "      <th>trans_num</th>\n",
       "      <th>unix_time</th>\n",
       "      <th>merch_lat</th>\n",
       "      <th>merch_long</th>\n",
       "      <th>is_fraud</th>\n",
       "    </tr>\n",
       "  </thead>\n",
       "  <tbody>\n",
       "    <tr>\n",
       "      <th>count</th>\n",
       "      <td>491134</td>\n",
       "      <td>4.911340e+05</td>\n",
       "      <td>491134</td>\n",
       "      <td>491134</td>\n",
       "      <td>491134.000000</td>\n",
       "      <td>491134</td>\n",
       "      <td>491134</td>\n",
       "      <td>491134</td>\n",
       "      <td>491134</td>\n",
       "      <td>491134</td>\n",
       "      <td>...</td>\n",
       "      <td>491134.000000</td>\n",
       "      <td>491134.000000</td>\n",
       "      <td>4.911340e+05</td>\n",
       "      <td>491134</td>\n",
       "      <td>491134</td>\n",
       "      <td>491134</td>\n",
       "      <td>4.911340e+05</td>\n",
       "      <td>491134.000000</td>\n",
       "      <td>491134.000000</td>\n",
       "      <td>491134.000000</td>\n",
       "    </tr>\n",
       "    <tr>\n",
       "      <th>unique</th>\n",
       "      <td>488474</td>\n",
       "      <td>NaN</td>\n",
       "      <td>693</td>\n",
       "      <td>14</td>\n",
       "      <td>NaN</td>\n",
       "      <td>92</td>\n",
       "      <td>102</td>\n",
       "      <td>2</td>\n",
       "      <td>124</td>\n",
       "      <td>121</td>\n",
       "      <td>...</td>\n",
       "      <td>NaN</td>\n",
       "      <td>NaN</td>\n",
       "      <td>NaN</td>\n",
       "      <td>110</td>\n",
       "      <td>123</td>\n",
       "      <td>491134</td>\n",
       "      <td>NaN</td>\n",
       "      <td>NaN</td>\n",
       "      <td>NaN</td>\n",
       "      <td>NaN</td>\n",
       "    </tr>\n",
       "    <tr>\n",
       "      <th>top</th>\n",
       "      <td>2020-04-07 11:34:26</td>\n",
       "      <td>NaN</td>\n",
       "      <td>fraud_Kilback LLC</td>\n",
       "      <td>shopping_pos</td>\n",
       "      <td>NaN</td>\n",
       "      <td>Margaret</td>\n",
       "      <td>Lowe</td>\n",
       "      <td>F</td>\n",
       "      <td>908 Brooks Brook</td>\n",
       "      <td>Birmingham</td>\n",
       "      <td>...</td>\n",
       "      <td>NaN</td>\n",
       "      <td>NaN</td>\n",
       "      <td>NaN</td>\n",
       "      <td>Environmental consultant</td>\n",
       "      <td>1977-03-23</td>\n",
       "      <td>1f76529f8574734946361c461b024d99</td>\n",
       "      <td>NaN</td>\n",
       "      <td>NaN</td>\n",
       "      <td>NaN</td>\n",
       "      <td>NaN</td>\n",
       "    </tr>\n",
       "    <tr>\n",
       "      <th>freq</th>\n",
       "      <td>3</td>\n",
       "      <td>NaN</td>\n",
       "      <td>1602</td>\n",
       "      <td>48345</td>\n",
       "      <td>NaN</td>\n",
       "      <td>16029</td>\n",
       "      <td>16056</td>\n",
       "      <td>352445</td>\n",
       "      <td>4392</td>\n",
       "      <td>8029</td>\n",
       "      <td>...</td>\n",
       "      <td>NaN</td>\n",
       "      <td>NaN</td>\n",
       "      <td>NaN</td>\n",
       "      <td>8777</td>\n",
       "      <td>8044</td>\n",
       "      <td>1</td>\n",
       "      <td>NaN</td>\n",
       "      <td>NaN</td>\n",
       "      <td>NaN</td>\n",
       "      <td>NaN</td>\n",
       "    </tr>\n",
       "    <tr>\n",
       "      <th>mean</th>\n",
       "      <td>NaN</td>\n",
       "      <td>3.706013e+17</td>\n",
       "      <td>NaN</td>\n",
       "      <td>NaN</td>\n",
       "      <td>69.050120</td>\n",
       "      <td>NaN</td>\n",
       "      <td>NaN</td>\n",
       "      <td>NaN</td>\n",
       "      <td>NaN</td>\n",
       "      <td>NaN</td>\n",
       "      <td>...</td>\n",
       "      <td>37.931230</td>\n",
       "      <td>-90.495619</td>\n",
       "      <td>1.213922e+05</td>\n",
       "      <td>NaN</td>\n",
       "      <td>NaN</td>\n",
       "      <td>NaN</td>\n",
       "      <td>1.358730e+09</td>\n",
       "      <td>37.930272</td>\n",
       "      <td>-90.495411</td>\n",
       "      <td>0.002533</td>\n",
       "    </tr>\n",
       "    <tr>\n",
       "      <th>std</th>\n",
       "      <td>NaN</td>\n",
       "      <td>1.260229e+18</td>\n",
       "      <td>NaN</td>\n",
       "      <td>NaN</td>\n",
       "      <td>160.322867</td>\n",
       "      <td>NaN</td>\n",
       "      <td>NaN</td>\n",
       "      <td>NaN</td>\n",
       "      <td>NaN</td>\n",
       "      <td>NaN</td>\n",
       "      <td>...</td>\n",
       "      <td>5.341193</td>\n",
       "      <td>12.990732</td>\n",
       "      <td>3.725751e+05</td>\n",
       "      <td>NaN</td>\n",
       "      <td>NaN</td>\n",
       "      <td>NaN</td>\n",
       "      <td>1.819402e+07</td>\n",
       "      <td>5.372986</td>\n",
       "      <td>13.004100</td>\n",
       "      <td>0.050264</td>\n",
       "    </tr>\n",
       "    <tr>\n",
       "      <th>min</th>\n",
       "      <td>NaN</td>\n",
       "      <td>5.038744e+11</td>\n",
       "      <td>NaN</td>\n",
       "      <td>NaN</td>\n",
       "      <td>1.000000</td>\n",
       "      <td>NaN</td>\n",
       "      <td>NaN</td>\n",
       "      <td>NaN</td>\n",
       "      <td>NaN</td>\n",
       "      <td>NaN</td>\n",
       "      <td>...</td>\n",
       "      <td>24.655700</td>\n",
       "      <td>-122.345600</td>\n",
       "      <td>4.600000e+01</td>\n",
       "      <td>NaN</td>\n",
       "      <td>NaN</td>\n",
       "      <td>NaN</td>\n",
       "      <td>1.325376e+09</td>\n",
       "      <td>23.655789</td>\n",
       "      <td>-123.345106</td>\n",
       "      <td>0.000000</td>\n",
       "    </tr>\n",
       "    <tr>\n",
       "      <th>25%</th>\n",
       "      <td>NaN</td>\n",
       "      <td>2.131124e+14</td>\n",
       "      <td>NaN</td>\n",
       "      <td>NaN</td>\n",
       "      <td>8.960000</td>\n",
       "      <td>NaN</td>\n",
       "      <td>NaN</td>\n",
       "      <td>NaN</td>\n",
       "      <td>NaN</td>\n",
       "      <td>NaN</td>\n",
       "      <td>...</td>\n",
       "      <td>33.746700</td>\n",
       "      <td>-97.235100</td>\n",
       "      <td>1.228000e+03</td>\n",
       "      <td>NaN</td>\n",
       "      <td>NaN</td>\n",
       "      <td>NaN</td>\n",
       "      <td>1.343087e+09</td>\n",
       "      <td>33.781388</td>\n",
       "      <td>-96.984814</td>\n",
       "      <td>0.000000</td>\n",
       "    </tr>\n",
       "    <tr>\n",
       "      <th>50%</th>\n",
       "      <td>NaN</td>\n",
       "      <td>3.531130e+15</td>\n",
       "      <td>NaN</td>\n",
       "      <td>NaN</td>\n",
       "      <td>42.170000</td>\n",
       "      <td>NaN</td>\n",
       "      <td>NaN</td>\n",
       "      <td>NaN</td>\n",
       "      <td>NaN</td>\n",
       "      <td>NaN</td>\n",
       "      <td>...</td>\n",
       "      <td>38.507200</td>\n",
       "      <td>-87.591700</td>\n",
       "      <td>5.760000e+03</td>\n",
       "      <td>NaN</td>\n",
       "      <td>NaN</td>\n",
       "      <td>NaN</td>\n",
       "      <td>1.357257e+09</td>\n",
       "      <td>38.545124</td>\n",
       "      <td>-87.573441</td>\n",
       "      <td>0.000000</td>\n",
       "    </tr>\n",
       "    <tr>\n",
       "      <th>75%</th>\n",
       "      <td>NaN</td>\n",
       "      <td>4.653879e+15</td>\n",
       "      <td>NaN</td>\n",
       "      <td>NaN</td>\n",
       "      <td>80.330000</td>\n",
       "      <td>NaN</td>\n",
       "      <td>NaN</td>\n",
       "      <td>NaN</td>\n",
       "      <td>NaN</td>\n",
       "      <td>NaN</td>\n",
       "      <td>...</td>\n",
       "      <td>41.520500</td>\n",
       "      <td>-80.731000</td>\n",
       "      <td>5.083500e+04</td>\n",
       "      <td>NaN</td>\n",
       "      <td>NaN</td>\n",
       "      <td>NaN</td>\n",
       "      <td>1.374626e+09</td>\n",
       "      <td>41.624294</td>\n",
       "      <td>-80.685567</td>\n",
       "      <td>0.000000</td>\n",
       "    </tr>\n",
       "    <tr>\n",
       "      <th>max</th>\n",
       "      <td>NaN</td>\n",
       "      <td>4.956829e+18</td>\n",
       "      <td>NaN</td>\n",
       "      <td>NaN</td>\n",
       "      <td>25086.940000</td>\n",
       "      <td>NaN</td>\n",
       "      <td>NaN</td>\n",
       "      <td>NaN</td>\n",
       "      <td>NaN</td>\n",
       "      <td>NaN</td>\n",
       "      <td>...</td>\n",
       "      <td>48.887800</td>\n",
       "      <td>-69.965600</td>\n",
       "      <td>2.906700e+06</td>\n",
       "      <td>NaN</td>\n",
       "      <td>NaN</td>\n",
       "      <td>NaN</td>\n",
       "      <td>1.388534e+09</td>\n",
       "      <td>49.887523</td>\n",
       "      <td>-68.965624</td>\n",
       "      <td>1.000000</td>\n",
       "    </tr>\n",
       "  </tbody>\n",
       "</table>\n",
       "<p>11 rows × 22 columns</p>\n",
       "</div>"
      ],
      "text/plain": [
       "       trans_date_trans_time        cc_num           merchant      category  \\\n",
       "count                 491134  4.911340e+05             491134        491134   \n",
       "unique                488474           NaN                693            14   \n",
       "top      2020-04-07 11:34:26           NaN  fraud_Kilback LLC  shopping_pos   \n",
       "freq                       3           NaN               1602         48345   \n",
       "mean                     NaN  3.706013e+17                NaN           NaN   \n",
       "std                      NaN  1.260229e+18                NaN           NaN   \n",
       "min                      NaN  5.038744e+11                NaN           NaN   \n",
       "25%                      NaN  2.131124e+14                NaN           NaN   \n",
       "50%                      NaN  3.531130e+15                NaN           NaN   \n",
       "75%                      NaN  4.653879e+15                NaN           NaN   \n",
       "max                      NaN  4.956829e+18                NaN           NaN   \n",
       "\n",
       "                  amt     first    last  gender            street        city  \\\n",
       "count   491134.000000    491134  491134  491134            491134      491134   \n",
       "unique            NaN        92     102       2               124         121   \n",
       "top               NaN  Margaret    Lowe       F  908 Brooks Brook  Birmingham   \n",
       "freq              NaN     16029   16056  352445              4392        8029   \n",
       "mean        69.050120       NaN     NaN     NaN               NaN         NaN   \n",
       "std        160.322867       NaN     NaN     NaN               NaN         NaN   \n",
       "min          1.000000       NaN     NaN     NaN               NaN         NaN   \n",
       "25%          8.960000       NaN     NaN     NaN               NaN         NaN   \n",
       "50%         42.170000       NaN     NaN     NaN               NaN         NaN   \n",
       "75%         80.330000       NaN     NaN     NaN               NaN         NaN   \n",
       "max      25086.940000       NaN     NaN     NaN               NaN         NaN   \n",
       "\n",
       "        ...            lat           long      city_pop  \\\n",
       "count   ...  491134.000000  491134.000000  4.911340e+05   \n",
       "unique  ...            NaN            NaN           NaN   \n",
       "top     ...            NaN            NaN           NaN   \n",
       "freq    ...            NaN            NaN           NaN   \n",
       "mean    ...      37.931230     -90.495619  1.213922e+05   \n",
       "std     ...       5.341193      12.990732  3.725751e+05   \n",
       "min     ...      24.655700    -122.345600  4.600000e+01   \n",
       "25%     ...      33.746700     -97.235100  1.228000e+03   \n",
       "50%     ...      38.507200     -87.591700  5.760000e+03   \n",
       "75%     ...      41.520500     -80.731000  5.083500e+04   \n",
       "max     ...      48.887800     -69.965600  2.906700e+06   \n",
       "\n",
       "                             job         dob  \\\n",
       "count                     491134      491134   \n",
       "unique                       110         123   \n",
       "top     Environmental consultant  1977-03-23   \n",
       "freq                        8777        8044   \n",
       "mean                         NaN         NaN   \n",
       "std                          NaN         NaN   \n",
       "min                          NaN         NaN   \n",
       "25%                          NaN         NaN   \n",
       "50%                          NaN         NaN   \n",
       "75%                          NaN         NaN   \n",
       "max                          NaN         NaN   \n",
       "\n",
       "                               trans_num     unix_time      merch_lat  \\\n",
       "count                             491134  4.911340e+05  491134.000000   \n",
       "unique                            491134           NaN            NaN   \n",
       "top     1f76529f8574734946361c461b024d99           NaN            NaN   \n",
       "freq                                   1           NaN            NaN   \n",
       "mean                                 NaN  1.358730e+09      37.930272   \n",
       "std                                  NaN  1.819402e+07       5.372986   \n",
       "min                                  NaN  1.325376e+09      23.655789   \n",
       "25%                                  NaN  1.343087e+09      33.781388   \n",
       "50%                                  NaN  1.357257e+09      38.545124   \n",
       "75%                                  NaN  1.374626e+09      41.624294   \n",
       "max                                  NaN  1.388534e+09      49.887523   \n",
       "\n",
       "           merch_long       is_fraud  \n",
       "count   491134.000000  491134.000000  \n",
       "unique            NaN            NaN  \n",
       "top               NaN            NaN  \n",
       "freq              NaN            NaN  \n",
       "mean       -90.495411       0.002533  \n",
       "std         13.004100       0.050264  \n",
       "min       -123.345106       0.000000  \n",
       "25%        -96.984814       0.000000  \n",
       "50%        -87.573441       0.000000  \n",
       "75%        -80.685567       0.000000  \n",
       "max        -68.965624       1.000000  \n",
       "\n",
       "[11 rows x 22 columns]"
      ]
     },
     "execution_count": 5,
     "metadata": {},
     "output_type": "execute_result"
    }
   ],
   "source": [
    "df.describe(include='all')"
   ]
  },
  {
   "cell_type": "markdown",
   "id": "f16b96d8",
   "metadata": {},
   "source": [
    "- 사기 데이터 수 확인\n",
    "    - 사기 거래가 전체 데이터의 0.25%로 불균형한 데이터임을 알 수 있다."
   ]
  },
  {
   "cell_type": "code",
   "execution_count": 6,
   "id": "68ca85a8",
   "metadata": {},
   "outputs": [
    {
     "data": {
      "application/vnd.microsoft.datawrangler.viewer.v0+json": {
       "columns": [
        {
         "name": "is_fraud",
         "rawType": "int64",
         "type": "integer"
        },
        {
         "name": "count",
         "rawType": "int64",
         "type": "integer"
        }
       ],
       "ref": "950f50f2-0cba-4b64-bd2c-044bea89c2e0",
       "rows": [
        [
         "0",
         "489890"
        ],
        [
         "1",
         "1244"
        ]
       ],
       "shape": {
        "columns": 1,
        "rows": 2
       }
      },
      "text/plain": [
       "is_fraud\n",
       "0    489890\n",
       "1      1244\n",
       "Name: count, dtype: int64"
      ]
     },
     "execution_count": 6,
     "metadata": {},
     "output_type": "execute_result"
    }
   ],
   "source": [
    "df['is_fraud'].value_counts()"
   ]
  },
  {
   "cell_type": "code",
   "execution_count": 7,
   "id": "8b4723a9",
   "metadata": {},
   "outputs": [
    {
     "data": {
      "application/vnd.microsoft.datawrangler.viewer.v0+json": {
       "columns": [
        {
         "name": "is_fraud",
         "rawType": "int64",
         "type": "integer"
        },
        {
         "name": "proportion",
         "rawType": "float64",
         "type": "float"
        }
       ],
       "ref": "f5efd413-f409-4cdf-ae08-2ed53e8c8339",
       "rows": [
        [
         "0",
         "0.9974670863756123"
        ],
        [
         "1",
         "0.0025329136243876418"
        ]
       ],
       "shape": {
        "columns": 1,
        "rows": 2
       }
      },
      "text/plain": [
       "is_fraud\n",
       "0    0.997467\n",
       "1    0.002533\n",
       "Name: proportion, dtype: float64"
      ]
     },
     "execution_count": 7,
     "metadata": {},
     "output_type": "execute_result"
    }
   ],
   "source": [
    "df['is_fraud'].value_counts(normalize=True)"
   ]
  },
  {
   "cell_type": "markdown",
   "id": "180091f3",
   "metadata": {},
   "source": [
    "### 불필요한 컬럼 제거하기\n",
    "---\n",
    "- mechant : 상점 이름\n",
    "- first : 카드 소지자 이름\n",
    "- last : 카드 소지자 성\n",
    "- street : 카드 소지자 주소1\n",
    "- city : 카드 소지자 주소2\n",
    "- state : 카드 소지자 주소3\n",
    "- zip : 카드 소지자의 우편번호\n",
    "- city_pop : 카드 소지자 지역의 인구수\n",
    "- trans_num : 거래 id\n",
    "- unix_time : UNIX 형식의 구매 날짜와 시간\n",
    "---\n",
    "**위의 컬럼들은 편향 발생 우려 및 의미없는 값이라 판단하여 제거**"
   ]
  },
  {
   "cell_type": "markdown",
   "id": "5f28a863",
   "metadata": {},
   "source": [
    "- merchant 컬럼 유니크 값이 몇 개인지 확인"
   ]
  },
  {
   "cell_type": "code",
   "execution_count": 8,
   "id": "91d92735",
   "metadata": {},
   "outputs": [
    {
     "data": {
      "text/plain": [
       "693"
      ]
     },
     "execution_count": 8,
     "metadata": {},
     "output_type": "execute_result"
    }
   ],
   "source": [
    "df['merchant'].nunique()"
   ]
  },
  {
   "cell_type": "markdown",
   "id": "c3aa2364",
   "metadata": {},
   "source": [
    "- job 컬럼 유니크 값이 몇 개인지 확인"
   ]
  },
  {
   "cell_type": "code",
   "execution_count": 9,
   "id": "544ee9cc",
   "metadata": {},
   "outputs": [
    {
     "data": {
      "text/plain": [
       "110"
      ]
     },
     "execution_count": 9,
     "metadata": {},
     "output_type": "execute_result"
    }
   ],
   "source": [
    "df['job'].unique()\n",
    "df['job'].nunique()"
   ]
  },
  {
   "cell_type": "markdown",
   "id": "face90bc",
   "metadata": {},
   "source": [
    "- cc_num 컬럼 유니크 값이 몇 개인지 확인"
   ]
  },
  {
   "cell_type": "code",
   "execution_count": 10,
   "id": "8a8dd640",
   "metadata": {},
   "outputs": [
    {
     "data": {
      "text/plain": [
       "124"
      ]
     },
     "execution_count": 10,
     "metadata": {},
     "output_type": "execute_result"
    }
   ],
   "source": [
    "df['cc_num'].unique()\n",
    "df['cc_num'].nunique()"
   ]
  },
  {
   "cell_type": "markdown",
   "id": "c122a87f",
   "metadata": {},
   "source": [
    "- 불필요 컬럼 제거"
   ]
  },
  {
   "cell_type": "code",
   "execution_count": 11,
   "id": "8ea2a976",
   "metadata": {},
   "outputs": [
    {
     "data": {
      "application/vnd.microsoft.datawrangler.viewer.v0+json": {
       "columns": [
        {
         "name": "index",
         "rawType": "int64",
         "type": "integer"
        },
        {
         "name": "trans_date_trans_time",
         "rawType": "object",
         "type": "string"
        },
        {
         "name": "cc_num",
         "rawType": "int64",
         "type": "integer"
        },
        {
         "name": "category",
         "rawType": "object",
         "type": "string"
        },
        {
         "name": "amt",
         "rawType": "float64",
         "type": "float"
        },
        {
         "name": "gender",
         "rawType": "object",
         "type": "string"
        },
        {
         "name": "lat",
         "rawType": "float64",
         "type": "float"
        },
        {
         "name": "long",
         "rawType": "float64",
         "type": "float"
        },
        {
         "name": "job",
         "rawType": "object",
         "type": "string"
        },
        {
         "name": "dob",
         "rawType": "object",
         "type": "string"
        },
        {
         "name": "merch_lat",
         "rawType": "float64",
         "type": "float"
        },
        {
         "name": "merch_long",
         "rawType": "float64",
         "type": "float"
        },
        {
         "name": "is_fraud",
         "rawType": "int64",
         "type": "integer"
        }
       ],
       "ref": "32e8c01c-e919-4a7f-8f02-583801e35135",
       "rows": [
        [
         "0",
         "2019-01-01 00:00:44",
         "630423337322",
         "grocery_pos",
         "107.23",
         "F",
         "48.8878",
         "-118.2105",
         "Special educational needs teacher",
         "1978-06-21",
         "49.159047",
         "-118.186462",
         "0"
        ],
        [
         "1",
         "2019-01-01 00:12:34",
         "4956828990005111019",
         "grocery_pos",
         "44.71",
         "M",
         "40.6747",
         "-74.2239",
         "Operational researcher",
         "1980-12-21",
         "40.079588",
         "-74.84808699999999",
         "0"
        ],
        [
         "2",
         "2019-01-01 00:17:16",
         "180048185037117",
         "grocery_net",
         "46.28",
         "F",
         "40.6152",
         "-74.415",
         "Leisure centre manager",
         "1974-07-19",
         "40.021888",
         "-74.228188",
         "0"
        ],
        [
         "3",
         "2019-01-01 00:20:15",
         "374930071163758",
         "grocery_pos",
         "64.09",
         "M",
         "42.2203",
         "-83.3583",
         "Police officer",
         "1971-11-05",
         "42.360426",
         "-83.552316",
         "0"
        ],
        [
         "4",
         "2019-01-01 00:23:41",
         "2712209726293386",
         "misc_pos",
         "25.58",
         "F",
         "30.4066",
         "-91.1468",
         "Designer, furniture",
         "1977-02-22",
         "29.737426",
         "-90.853194",
         "0"
        ]
       ],
       "shape": {
        "columns": 12,
        "rows": 5
       }
      },
      "text/html": [
       "<div>\n",
       "<style scoped>\n",
       "    .dataframe tbody tr th:only-of-type {\n",
       "        vertical-align: middle;\n",
       "    }\n",
       "\n",
       "    .dataframe tbody tr th {\n",
       "        vertical-align: top;\n",
       "    }\n",
       "\n",
       "    .dataframe thead th {\n",
       "        text-align: right;\n",
       "    }\n",
       "</style>\n",
       "<table border=\"1\" class=\"dataframe\">\n",
       "  <thead>\n",
       "    <tr style=\"text-align: right;\">\n",
       "      <th></th>\n",
       "      <th>trans_date_trans_time</th>\n",
       "      <th>cc_num</th>\n",
       "      <th>category</th>\n",
       "      <th>amt</th>\n",
       "      <th>gender</th>\n",
       "      <th>lat</th>\n",
       "      <th>long</th>\n",
       "      <th>job</th>\n",
       "      <th>dob</th>\n",
       "      <th>merch_lat</th>\n",
       "      <th>merch_long</th>\n",
       "      <th>is_fraud</th>\n",
       "    </tr>\n",
       "  </thead>\n",
       "  <tbody>\n",
       "    <tr>\n",
       "      <th>0</th>\n",
       "      <td>2019-01-01 00:00:44</td>\n",
       "      <td>630423337322</td>\n",
       "      <td>grocery_pos</td>\n",
       "      <td>107.23</td>\n",
       "      <td>F</td>\n",
       "      <td>48.8878</td>\n",
       "      <td>-118.2105</td>\n",
       "      <td>Special educational needs teacher</td>\n",
       "      <td>1978-06-21</td>\n",
       "      <td>49.159047</td>\n",
       "      <td>-118.186462</td>\n",
       "      <td>0</td>\n",
       "    </tr>\n",
       "    <tr>\n",
       "      <th>1</th>\n",
       "      <td>2019-01-01 00:12:34</td>\n",
       "      <td>4956828990005111019</td>\n",
       "      <td>grocery_pos</td>\n",
       "      <td>44.71</td>\n",
       "      <td>M</td>\n",
       "      <td>40.6747</td>\n",
       "      <td>-74.2239</td>\n",
       "      <td>Operational researcher</td>\n",
       "      <td>1980-12-21</td>\n",
       "      <td>40.079588</td>\n",
       "      <td>-74.848087</td>\n",
       "      <td>0</td>\n",
       "    </tr>\n",
       "    <tr>\n",
       "      <th>2</th>\n",
       "      <td>2019-01-01 00:17:16</td>\n",
       "      <td>180048185037117</td>\n",
       "      <td>grocery_net</td>\n",
       "      <td>46.28</td>\n",
       "      <td>F</td>\n",
       "      <td>40.6152</td>\n",
       "      <td>-74.4150</td>\n",
       "      <td>Leisure centre manager</td>\n",
       "      <td>1974-07-19</td>\n",
       "      <td>40.021888</td>\n",
       "      <td>-74.228188</td>\n",
       "      <td>0</td>\n",
       "    </tr>\n",
       "    <tr>\n",
       "      <th>3</th>\n",
       "      <td>2019-01-01 00:20:15</td>\n",
       "      <td>374930071163758</td>\n",
       "      <td>grocery_pos</td>\n",
       "      <td>64.09</td>\n",
       "      <td>M</td>\n",
       "      <td>42.2203</td>\n",
       "      <td>-83.3583</td>\n",
       "      <td>Police officer</td>\n",
       "      <td>1971-11-05</td>\n",
       "      <td>42.360426</td>\n",
       "      <td>-83.552316</td>\n",
       "      <td>0</td>\n",
       "    </tr>\n",
       "    <tr>\n",
       "      <th>4</th>\n",
       "      <td>2019-01-01 00:23:41</td>\n",
       "      <td>2712209726293386</td>\n",
       "      <td>misc_pos</td>\n",
       "      <td>25.58</td>\n",
       "      <td>F</td>\n",
       "      <td>30.4066</td>\n",
       "      <td>-91.1468</td>\n",
       "      <td>Designer, furniture</td>\n",
       "      <td>1977-02-22</td>\n",
       "      <td>29.737426</td>\n",
       "      <td>-90.853194</td>\n",
       "      <td>0</td>\n",
       "    </tr>\n",
       "  </tbody>\n",
       "</table>\n",
       "</div>"
      ],
      "text/plain": [
       "  trans_date_trans_time               cc_num     category     amt gender  \\\n",
       "0   2019-01-01 00:00:44         630423337322  grocery_pos  107.23      F   \n",
       "1   2019-01-01 00:12:34  4956828990005111019  grocery_pos   44.71      M   \n",
       "2   2019-01-01 00:17:16      180048185037117  grocery_net   46.28      F   \n",
       "3   2019-01-01 00:20:15      374930071163758  grocery_pos   64.09      M   \n",
       "4   2019-01-01 00:23:41     2712209726293386     misc_pos   25.58      F   \n",
       "\n",
       "       lat      long                                job         dob  \\\n",
       "0  48.8878 -118.2105  Special educational needs teacher  1978-06-21   \n",
       "1  40.6747  -74.2239             Operational researcher  1980-12-21   \n",
       "2  40.6152  -74.4150             Leisure centre manager  1974-07-19   \n",
       "3  42.2203  -83.3583                     Police officer  1971-11-05   \n",
       "4  30.4066  -91.1468                Designer, furniture  1977-02-22   \n",
       "\n",
       "   merch_lat  merch_long  is_fraud  \n",
       "0  49.159047 -118.186462         0  \n",
       "1  40.079588  -74.848087         0  \n",
       "2  40.021888  -74.228188         0  \n",
       "3  42.360426  -83.552316         0  \n",
       "4  29.737426  -90.853194         0  "
      ]
     },
     "execution_count": 11,
     "metadata": {},
     "output_type": "execute_result"
    }
   ],
   "source": [
    "cols = ['merchant', 'first', 'last', 'street', 'city', 'state', 'zip', 'city_pop', 'trans_num', 'unix_time']\n",
    "\n",
    "df2 = df.drop(cols, axis=1)\n",
    "df2.head()"
   ]
  },
  {
   "cell_type": "markdown",
   "id": "1e03ee27",
   "metadata": {},
   "source": [
    "- cc_num 값 기준으로 정렬"
   ]
  },
  {
   "cell_type": "code",
   "execution_count": 12,
   "id": "0d062c13",
   "metadata": {},
   "outputs": [
    {
     "data": {
      "application/vnd.microsoft.datawrangler.viewer.v0+json": {
       "columns": [
        {
         "name": "index",
         "rawType": "int64",
         "type": "integer"
        },
        {
         "name": "trans_date_trans_time",
         "rawType": "object",
         "type": "string"
        },
        {
         "name": "cc_num",
         "rawType": "int64",
         "type": "integer"
        },
        {
         "name": "category",
         "rawType": "object",
         "type": "string"
        },
        {
         "name": "amt",
         "rawType": "float64",
         "type": "float"
        },
        {
         "name": "gender",
         "rawType": "object",
         "type": "string"
        },
        {
         "name": "lat",
         "rawType": "float64",
         "type": "float"
        },
        {
         "name": "long",
         "rawType": "float64",
         "type": "float"
        },
        {
         "name": "job",
         "rawType": "object",
         "type": "string"
        },
        {
         "name": "dob",
         "rawType": "object",
         "type": "string"
        },
        {
         "name": "merch_lat",
         "rawType": "float64",
         "type": "float"
        },
        {
         "name": "merch_long",
         "rawType": "float64",
         "type": "float"
        },
        {
         "name": "is_fraud",
         "rawType": "int64",
         "type": "integer"
        }
       ],
       "ref": "157e8265-594f-4364-9d1d-8daa3eae613e",
       "rows": [
        [
         "108802",
         "2019-07-05 23:23:58",
         "503874407318",
         "entertainment",
         "15.6",
         "M",
         "29.5894",
         "-98.5201",
         "Exhibition designer",
         "1975-12-28",
         "29.014544",
         "-99.43389",
         "0"
        ],
        [
         "324968",
         "2020-05-27 12:29:45",
         "503874407318",
         "food_dining",
         "48.7",
         "M",
         "29.5894",
         "-98.5201",
         "Exhibition designer",
         "1975-12-28",
         "30.074031",
         "-98.790379",
         "0"
        ],
        [
         "45703",
         "2019-04-01 05:26:03",
         "503874407318",
         "grocery_net",
         "44.71",
         "M",
         "29.5894",
         "-98.5201",
         "Exhibition designer",
         "1975-12-28",
         "29.851166",
         "-98.934171",
         "0"
        ],
        [
         "176940",
         "2019-10-12 17:01:30",
         "503874407318",
         "entertainment",
         "248.46",
         "M",
         "29.5894",
         "-98.5201",
         "Exhibition designer",
         "1975-12-28",
         "29.944531",
         "-98.364703",
         "0"
        ],
        [
         "265331",
         "2020-02-16 00:10:36",
         "503874407318",
         "gas_transport",
         "106.35",
         "M",
         "29.5894",
         "-98.5201",
         "Exhibition designer",
         "1975-12-28",
         "29.655990000000003",
         "-97.707776",
         "0"
        ],
        [
         "489188",
         "2020-12-29 21:18:18",
         "503874407318",
         "health_fitness",
         "23.32",
         "M",
         "29.5894",
         "-98.5201",
         "Exhibition designer",
         "1975-12-28",
         "29.853873",
         "-97.620616",
         "0"
        ],
        [
         "224585",
         "2019-12-15 15:22:10",
         "503874407318",
         "shopping_net",
         "4.83",
         "M",
         "29.5894",
         "-98.5201",
         "Exhibition designer",
         "1975-12-28",
         "30.457821000000003",
         "-98.826287",
         "0"
        ],
        [
         "207153",
         "2019-11-30 23:30:06",
         "503874407318",
         "shopping_pos",
         "3.95",
         "M",
         "29.5894",
         "-98.5201",
         "Exhibition designer",
         "1975-12-28",
         "29.571323",
         "-98.229017",
         "0"
        ],
        [
         "340774",
         "2020-06-16 23:41:02",
         "503874407318",
         "health_fitness",
         "11.77",
         "M",
         "29.5894",
         "-98.5201",
         "Exhibition designer",
         "1975-12-28",
         "29.767228000000003",
         "-99.401412",
         "0"
        ],
        [
         "340808",
         "2020-06-17 01:07:54",
         "503874407318",
         "grocery_pos",
         "78.53",
         "M",
         "29.5894",
         "-98.5201",
         "Exhibition designer",
         "1975-12-28",
         "29.459598",
         "-98.986033",
         "0"
        ],
        [
         "237719",
         "2019-12-26 19:01:25",
         "503874407318",
         "entertainment",
         "10.89",
         "M",
         "29.5894",
         "-98.5201",
         "Exhibition designer",
         "1975-12-28",
         "28.853244",
         "-97.64841",
         "0"
        ],
        [
         "237742",
         "2019-12-26 19:29:09",
         "503874407318",
         "home",
         "25.14",
         "M",
         "29.5894",
         "-98.5201",
         "Exhibition designer",
         "1975-12-28",
         "30.394406",
         "-98.996956",
         "0"
        ],
        [
         "190598",
         "2019-11-03 22:54:26",
         "503874407318",
         "food_dining",
         "74.59",
         "M",
         "29.5894",
         "-98.5201",
         "Exhibition designer",
         "1975-12-28",
         "30.252131",
         "-97.966473",
         "0"
        ],
        [
         "340795",
         "2020-06-16 23:55:53",
         "503874407318",
         "home",
         "45.93",
         "M",
         "29.5894",
         "-98.5201",
         "Exhibition designer",
         "1975-12-28",
         "29.736407",
         "-98.508325",
         "0"
        ],
        [
         "340932",
         "2020-06-17 12:44:23",
         "503874407318",
         "shopping_net",
         "76.82",
         "M",
         "29.5894",
         "-98.5201",
         "Exhibition designer",
         "1975-12-28",
         "30.398207",
         "-97.666633",
         "0"
        ],
        [
         "418040",
         "2020-10-04 18:47:23",
         "503874407318",
         "misc_pos",
         "98.89",
         "M",
         "29.5894",
         "-98.5201",
         "Exhibition designer",
         "1975-12-28",
         "28.740174",
         "-98.600927",
         "0"
        ],
        [
         "491103",
         "2020-12-31 23:22:02",
         "503874407318",
         "health_fitness",
         "29.68",
         "M",
         "29.5894",
         "-98.5201",
         "Exhibition designer",
         "1975-12-28",
         "28.641258",
         "-99.259961",
         "0"
        ],
        [
         "169053",
         "2019-09-29 09:10:46",
         "503874407318",
         "grocery_net",
         "38.9",
         "M",
         "29.5894",
         "-98.5201",
         "Exhibition designer",
         "1975-12-28",
         "29.678541",
         "-99.058228",
         "0"
        ],
        [
         "35757",
         "2019-03-15 23:19:57",
         "503874407318",
         "home",
         "8.16",
         "M",
         "29.5894",
         "-98.5201",
         "Exhibition designer",
         "1975-12-28",
         "30.252076",
         "-99.012637",
         "0"
        ],
        [
         "254718",
         "2020-01-23 15:46:23",
         "503874407318",
         "home",
         "127.74",
         "M",
         "29.5894",
         "-98.5201",
         "Exhibition designer",
         "1975-12-28",
         "29.329992",
         "-98.359978",
         "0"
        ],
        [
         "254746",
         "2020-01-23 17:45:11",
         "503874407318",
         "kids_pets",
         "155.33",
         "M",
         "29.5894",
         "-98.5201",
         "Exhibition designer",
         "1975-12-28",
         "29.525927000000003",
         "-98.391822",
         "0"
        ],
        [
         "168919",
         "2019-09-29 03:12:32",
         "503874407318",
         "grocery_net",
         "49.93",
         "M",
         "29.5894",
         "-98.5201",
         "Exhibition designer",
         "1975-12-28",
         "29.230095",
         "-98.532488",
         "0"
        ],
        [
         "425157",
         "2020-10-16 08:05:21",
         "503874407318",
         "grocery_pos",
         "63.59",
         "M",
         "29.5894",
         "-98.5201",
         "Exhibition designer",
         "1975-12-28",
         "30.150206",
         "-97.656201",
         "0"
        ],
        [
         "340839",
         "2020-06-17 04:55:51",
         "503874407318",
         "grocery_pos",
         "44.07",
         "M",
         "29.5894",
         "-98.5201",
         "Exhibition designer",
         "1975-12-28",
         "29.604856",
         "-99.472467",
         "0"
        ],
        [
         "122317",
         "2019-07-23 02:48:19",
         "503874407318",
         "grocery_pos",
         "52.05",
         "M",
         "29.5894",
         "-98.5201",
         "Exhibition designer",
         "1975-12-28",
         "30.233971",
         "-97.834612",
         "0"
        ],
        [
         "379486",
         "2020-08-08 05:44:27",
         "503874407318",
         "misc_net",
         "9.6",
         "M",
         "29.5894",
         "-98.5201",
         "Exhibition designer",
         "1975-12-28",
         "29.363407",
         "-97.723404",
         "0"
        ],
        [
         "273942",
         "2020-03-04 20:30:48",
         "503874407318",
         "shopping_pos",
         "1.59",
         "M",
         "29.5894",
         "-98.5201",
         "Exhibition designer",
         "1975-12-28",
         "30.118968",
         "-98.048318",
         "0"
        ],
        [
         "53845",
         "2019-04-14 21:00:53",
         "503874407318",
         "shopping_net",
         "2.96",
         "M",
         "29.5894",
         "-98.5201",
         "Exhibition designer",
         "1975-12-28",
         "28.659526",
         "-98.216221",
         "0"
        ],
        [
         "145429",
         "2019-08-23 17:21:34",
         "503874407318",
         "personal_care",
         "199.62",
         "M",
         "29.5894",
         "-98.5201",
         "Exhibition designer",
         "1975-12-28",
         "29.780372",
         "-98.060723",
         "0"
        ],
        [
         "53788",
         "2019-04-14 19:47:29",
         "503874407318",
         "food_dining",
         "26.67",
         "M",
         "29.5894",
         "-98.5201",
         "Exhibition designer",
         "1975-12-28",
         "29.224819",
         "-98.042767",
         "0"
        ],
        [
         "333146",
         "2020-06-07 19:50:49",
         "503874407318",
         "shopping_net",
         "1.97",
         "M",
         "29.5894",
         "-98.5201",
         "Exhibition designer",
         "1975-12-28",
         "30.088798",
         "-99.044391",
         "0"
        ],
        [
         "333159",
         "2020-06-07 20:10:21",
         "503874407318",
         "home",
         "22.89",
         "M",
         "29.5894",
         "-98.5201",
         "Exhibition designer",
         "1975-12-28",
         "29.083552",
         "-99.148302",
         "0"
        ],
        [
         "29851",
         "2019-03-05 05:54:12",
         "503874407318",
         "grocery_pos",
         "64.25",
         "M",
         "29.5894",
         "-98.5201",
         "Exhibition designer",
         "1975-12-28",
         "29.33031",
         "-98.89849",
         "0"
        ],
        [
         "324940",
         "2020-05-27 11:03:05",
         "503874407318",
         "gas_transport",
         "52.85",
         "M",
         "29.5894",
         "-98.5201",
         "Exhibition designer",
         "1975-12-28",
         "29.557834000000003",
         "-98.061477",
         "0"
        ],
        [
         "303365",
         "2020-04-22 01:24:52",
         "503874407318",
         "grocery_pos",
         "65.19",
         "M",
         "29.5894",
         "-98.5201",
         "Exhibition designer",
         "1975-12-28",
         "30.195133",
         "-98.674001",
         "0"
        ],
        [
         "463024",
         "2020-12-08 14:05:39",
         "503874407318",
         "food_dining",
         "145.51",
         "M",
         "29.5894",
         "-98.5201",
         "Exhibition designer",
         "1975-12-28",
         "28.91538",
         "-99.213342",
         "0"
        ],
        [
         "325029",
         "2020-05-27 14:42:57",
         "503874407318",
         "misc_pos",
         "6.05",
         "M",
         "29.5894",
         "-98.5201",
         "Exhibition designer",
         "1975-12-28",
         "29.075368",
         "-98.818706",
         "0"
        ],
        [
         "265438",
         "2020-02-16 06:11:29",
         "503874407318",
         "grocery_pos",
         "52.86",
         "M",
         "29.5894",
         "-98.5201",
         "Exhibition designer",
         "1975-12-28",
         "29.847",
         "-99.195296",
         "0"
        ],
        [
         "155854",
         "2019-09-07 14:55:05",
         "503874407318",
         "shopping_pos",
         "1.84",
         "M",
         "29.5894",
         "-98.5201",
         "Exhibition designer",
         "1975-12-28",
         "29.842540000000003",
         "-98.782684",
         "0"
        ],
        [
         "265374",
         "2020-02-16 02:44:25",
         "503874407318",
         "misc_net",
         "6.63",
         "M",
         "29.5894",
         "-98.5201",
         "Exhibition designer",
         "1975-12-28",
         "28.741555",
         "-99.032475",
         "0"
        ],
        [
         "265511",
         "2020-02-16 11:15:03",
         "503874407318",
         "gas_transport",
         "64.66",
         "M",
         "29.5894",
         "-98.5201",
         "Exhibition designer",
         "1975-12-28",
         "29.777639",
         "-98.485312",
         "0"
        ],
        [
         "353692",
         "2020-07-05 01:43:09",
         "503874407318",
         "gas_transport",
         "50.7",
         "M",
         "29.5894",
         "-98.5201",
         "Exhibition designer",
         "1975-12-28",
         "29.707252",
         "-98.314966",
         "0"
        ],
        [
         "248758",
         "2020-01-10 20:55:51",
         "503874407318",
         "shopping_pos",
         "9.82",
         "M",
         "29.5894",
         "-98.5201",
         "Exhibition designer",
         "1975-12-28",
         "30.511617",
         "-99.275296",
         "0"
        ],
        [
         "433028",
         "2020-10-28 18:54:50",
         "503874407318",
         "food_dining",
         "52.1",
         "M",
         "29.5894",
         "-98.5201",
         "Exhibition designer",
         "1975-12-28",
         "29.616262",
         "-98.84328",
         "0"
        ],
        [
         "479236",
         "2020-12-21 22:00:34",
         "503874407318",
         "health_fitness",
         "74.86",
         "M",
         "29.5894",
         "-98.5201",
         "Exhibition designer",
         "1975-12-28",
         "30.376117",
         "-97.98992",
         "0"
        ],
        [
         "45601",
         "2019-04-01 00:54:26",
         "503874407318",
         "grocery_pos",
         "52.69",
         "M",
         "29.5894",
         "-98.5201",
         "Exhibition designer",
         "1975-12-28",
         "30.13912",
         "-97.815312",
         "0"
        ],
        [
         "45612",
         "2019-04-01 01:20:12",
         "503874407318",
         "grocery_net",
         "61.04",
         "M",
         "29.5894",
         "-98.5201",
         "Exhibition designer",
         "1975-12-28",
         "29.405566",
         "-99.485136",
         "0"
        ],
        [
         "265250",
         "2020-02-15 21:45:47",
         "503874407318",
         "food_dining",
         "17.19",
         "M",
         "29.5894",
         "-98.5201",
         "Exhibition designer",
         "1975-12-28",
         "30.208989000000003",
         "-98.281455",
         "0"
        ],
        [
         "93800",
         "2019-06-15 18:35:00",
         "503874407318",
         "shopping_net",
         "4.29",
         "M",
         "29.5894",
         "-98.5201",
         "Exhibition designer",
         "1975-12-28",
         "29.452436",
         "-99.022375",
         "0"
        ],
        [
         "93805",
         "2019-06-15 18:40:11",
         "503874407318",
         "health_fitness",
         "32.01",
         "M",
         "29.5894",
         "-98.5201",
         "Exhibition designer",
         "1975-12-28",
         "30.034808",
         "-99.286331",
         "0"
        ]
       ],
       "shape": {
        "columns": 12,
        "rows": 491134
       }
      },
      "text/html": [
       "<div>\n",
       "<style scoped>\n",
       "    .dataframe tbody tr th:only-of-type {\n",
       "        vertical-align: middle;\n",
       "    }\n",
       "\n",
       "    .dataframe tbody tr th {\n",
       "        vertical-align: top;\n",
       "    }\n",
       "\n",
       "    .dataframe thead th {\n",
       "        text-align: right;\n",
       "    }\n",
       "</style>\n",
       "<table border=\"1\" class=\"dataframe\">\n",
       "  <thead>\n",
       "    <tr style=\"text-align: right;\">\n",
       "      <th></th>\n",
       "      <th>trans_date_trans_time</th>\n",
       "      <th>cc_num</th>\n",
       "      <th>category</th>\n",
       "      <th>amt</th>\n",
       "      <th>gender</th>\n",
       "      <th>lat</th>\n",
       "      <th>long</th>\n",
       "      <th>job</th>\n",
       "      <th>dob</th>\n",
       "      <th>merch_lat</th>\n",
       "      <th>merch_long</th>\n",
       "      <th>is_fraud</th>\n",
       "    </tr>\n",
       "  </thead>\n",
       "  <tbody>\n",
       "    <tr>\n",
       "      <th>108802</th>\n",
       "      <td>2019-07-05 23:23:58</td>\n",
       "      <td>503874407318</td>\n",
       "      <td>entertainment</td>\n",
       "      <td>15.60</td>\n",
       "      <td>M</td>\n",
       "      <td>29.5894</td>\n",
       "      <td>-98.5201</td>\n",
       "      <td>Exhibition designer</td>\n",
       "      <td>1975-12-28</td>\n",
       "      <td>29.014544</td>\n",
       "      <td>-99.433890</td>\n",
       "      <td>0</td>\n",
       "    </tr>\n",
       "    <tr>\n",
       "      <th>324968</th>\n",
       "      <td>2020-05-27 12:29:45</td>\n",
       "      <td>503874407318</td>\n",
       "      <td>food_dining</td>\n",
       "      <td>48.70</td>\n",
       "      <td>M</td>\n",
       "      <td>29.5894</td>\n",
       "      <td>-98.5201</td>\n",
       "      <td>Exhibition designer</td>\n",
       "      <td>1975-12-28</td>\n",
       "      <td>30.074031</td>\n",
       "      <td>-98.790379</td>\n",
       "      <td>0</td>\n",
       "    </tr>\n",
       "    <tr>\n",
       "      <th>45703</th>\n",
       "      <td>2019-04-01 05:26:03</td>\n",
       "      <td>503874407318</td>\n",
       "      <td>grocery_net</td>\n",
       "      <td>44.71</td>\n",
       "      <td>M</td>\n",
       "      <td>29.5894</td>\n",
       "      <td>-98.5201</td>\n",
       "      <td>Exhibition designer</td>\n",
       "      <td>1975-12-28</td>\n",
       "      <td>29.851166</td>\n",
       "      <td>-98.934171</td>\n",
       "      <td>0</td>\n",
       "    </tr>\n",
       "    <tr>\n",
       "      <th>176940</th>\n",
       "      <td>2019-10-12 17:01:30</td>\n",
       "      <td>503874407318</td>\n",
       "      <td>entertainment</td>\n",
       "      <td>248.46</td>\n",
       "      <td>M</td>\n",
       "      <td>29.5894</td>\n",
       "      <td>-98.5201</td>\n",
       "      <td>Exhibition designer</td>\n",
       "      <td>1975-12-28</td>\n",
       "      <td>29.944531</td>\n",
       "      <td>-98.364703</td>\n",
       "      <td>0</td>\n",
       "    </tr>\n",
       "    <tr>\n",
       "      <th>265331</th>\n",
       "      <td>2020-02-16 00:10:36</td>\n",
       "      <td>503874407318</td>\n",
       "      <td>gas_transport</td>\n",
       "      <td>106.35</td>\n",
       "      <td>M</td>\n",
       "      <td>29.5894</td>\n",
       "      <td>-98.5201</td>\n",
       "      <td>Exhibition designer</td>\n",
       "      <td>1975-12-28</td>\n",
       "      <td>29.655990</td>\n",
       "      <td>-97.707776</td>\n",
       "      <td>0</td>\n",
       "    </tr>\n",
       "    <tr>\n",
       "      <th>...</th>\n",
       "      <td>...</td>\n",
       "      <td>...</td>\n",
       "      <td>...</td>\n",
       "      <td>...</td>\n",
       "      <td>...</td>\n",
       "      <td>...</td>\n",
       "      <td>...</td>\n",
       "      <td>...</td>\n",
       "      <td>...</td>\n",
       "      <td>...</td>\n",
       "      <td>...</td>\n",
       "      <td>...</td>\n",
       "    </tr>\n",
       "    <tr>\n",
       "      <th>424422</th>\n",
       "      <td>2020-10-14 16:44:57</td>\n",
       "      <td>4956828990005111019</td>\n",
       "      <td>entertainment</td>\n",
       "      <td>17.19</td>\n",
       "      <td>M</td>\n",
       "      <td>40.6747</td>\n",
       "      <td>-74.2239</td>\n",
       "      <td>Operational researcher</td>\n",
       "      <td>1980-12-21</td>\n",
       "      <td>41.337429</td>\n",
       "      <td>-73.919383</td>\n",
       "      <td>0</td>\n",
       "    </tr>\n",
       "    <tr>\n",
       "      <th>118816</th>\n",
       "      <td>2019-07-19 10:31:58</td>\n",
       "      <td>4956828990005111019</td>\n",
       "      <td>gas_transport</td>\n",
       "      <td>62.84</td>\n",
       "      <td>M</td>\n",
       "      <td>40.6747</td>\n",
       "      <td>-74.2239</td>\n",
       "      <td>Operational researcher</td>\n",
       "      <td>1980-12-21</td>\n",
       "      <td>40.912638</td>\n",
       "      <td>-73.306730</td>\n",
       "      <td>0</td>\n",
       "    </tr>\n",
       "    <tr>\n",
       "      <th>443663</th>\n",
       "      <td>2020-11-15 23:50:42</td>\n",
       "      <td>4956828990005111019</td>\n",
       "      <td>food_dining</td>\n",
       "      <td>22.20</td>\n",
       "      <td>M</td>\n",
       "      <td>40.6747</td>\n",
       "      <td>-74.2239</td>\n",
       "      <td>Operational researcher</td>\n",
       "      <td>1980-12-21</td>\n",
       "      <td>40.966284</td>\n",
       "      <td>-74.809641</td>\n",
       "      <td>0</td>\n",
       "    </tr>\n",
       "    <tr>\n",
       "      <th>118741</th>\n",
       "      <td>2019-07-19 04:52:15</td>\n",
       "      <td>4956828990005111019</td>\n",
       "      <td>grocery_pos</td>\n",
       "      <td>56.55</td>\n",
       "      <td>M</td>\n",
       "      <td>40.6747</td>\n",
       "      <td>-74.2239</td>\n",
       "      <td>Operational researcher</td>\n",
       "      <td>1980-12-21</td>\n",
       "      <td>39.944586</td>\n",
       "      <td>-75.006398</td>\n",
       "      <td>0</td>\n",
       "    </tr>\n",
       "    <tr>\n",
       "      <th>118826</th>\n",
       "      <td>2019-07-19 11:29:01</td>\n",
       "      <td>4956828990005111019</td>\n",
       "      <td>grocery_pos</td>\n",
       "      <td>42.41</td>\n",
       "      <td>M</td>\n",
       "      <td>40.6747</td>\n",
       "      <td>-74.2239</td>\n",
       "      <td>Operational researcher</td>\n",
       "      <td>1980-12-21</td>\n",
       "      <td>41.624668</td>\n",
       "      <td>-73.806542</td>\n",
       "      <td>0</td>\n",
       "    </tr>\n",
       "  </tbody>\n",
       "</table>\n",
       "<p>491134 rows × 12 columns</p>\n",
       "</div>"
      ],
      "text/plain": [
       "       trans_date_trans_time               cc_num       category     amt  \\\n",
       "108802   2019-07-05 23:23:58         503874407318  entertainment   15.60   \n",
       "324968   2020-05-27 12:29:45         503874407318    food_dining   48.70   \n",
       "45703    2019-04-01 05:26:03         503874407318    grocery_net   44.71   \n",
       "176940   2019-10-12 17:01:30         503874407318  entertainment  248.46   \n",
       "265331   2020-02-16 00:10:36         503874407318  gas_transport  106.35   \n",
       "...                      ...                  ...            ...     ...   \n",
       "424422   2020-10-14 16:44:57  4956828990005111019  entertainment   17.19   \n",
       "118816   2019-07-19 10:31:58  4956828990005111019  gas_transport   62.84   \n",
       "443663   2020-11-15 23:50:42  4956828990005111019    food_dining   22.20   \n",
       "118741   2019-07-19 04:52:15  4956828990005111019    grocery_pos   56.55   \n",
       "118826   2019-07-19 11:29:01  4956828990005111019    grocery_pos   42.41   \n",
       "\n",
       "       gender      lat     long                     job         dob  \\\n",
       "108802      M  29.5894 -98.5201     Exhibition designer  1975-12-28   \n",
       "324968      M  29.5894 -98.5201     Exhibition designer  1975-12-28   \n",
       "45703       M  29.5894 -98.5201     Exhibition designer  1975-12-28   \n",
       "176940      M  29.5894 -98.5201     Exhibition designer  1975-12-28   \n",
       "265331      M  29.5894 -98.5201     Exhibition designer  1975-12-28   \n",
       "...       ...      ...      ...                     ...         ...   \n",
       "424422      M  40.6747 -74.2239  Operational researcher  1980-12-21   \n",
       "118816      M  40.6747 -74.2239  Operational researcher  1980-12-21   \n",
       "443663      M  40.6747 -74.2239  Operational researcher  1980-12-21   \n",
       "118741      M  40.6747 -74.2239  Operational researcher  1980-12-21   \n",
       "118826      M  40.6747 -74.2239  Operational researcher  1980-12-21   \n",
       "\n",
       "        merch_lat  merch_long  is_fraud  \n",
       "108802  29.014544  -99.433890         0  \n",
       "324968  30.074031  -98.790379         0  \n",
       "45703   29.851166  -98.934171         0  \n",
       "176940  29.944531  -98.364703         0  \n",
       "265331  29.655990  -97.707776         0  \n",
       "...           ...         ...       ...  \n",
       "424422  41.337429  -73.919383         0  \n",
       "118816  40.912638  -73.306730         0  \n",
       "443663  40.966284  -74.809641         0  \n",
       "118741  39.944586  -75.006398         0  \n",
       "118826  41.624668  -73.806542         0  \n",
       "\n",
       "[491134 rows x 12 columns]"
      ]
     },
     "execution_count": 12,
     "metadata": {},
     "output_type": "execute_result"
    }
   ],
   "source": [
    "df2.sort_values(by='cc_num')"
   ]
  },
  {
   "cell_type": "markdown",
   "id": "f1f23d4f",
   "metadata": {},
   "source": [
    "- cc_num을 기준으로 하여 각각 데이터는 몇 건인지, 그 중 사기 거래는 몇 건인지 확인"
   ]
  },
  {
   "cell_type": "code",
   "execution_count": 13,
   "id": "9220be41",
   "metadata": {},
   "outputs": [
    {
     "data": {
      "application/vnd.microsoft.datawrangler.viewer.v0+json": {
       "columns": [
        {
         "name": "index",
         "rawType": "int64",
         "type": "integer"
        },
        {
         "name": "cc_num",
         "rawType": "int64",
         "type": "integer"
        },
        {
         "name": "count",
         "rawType": "int64",
         "type": "integer"
        },
        {
         "name": "sum",
         "rawType": "int64",
         "type": "integer"
        }
       ],
       "ref": "b872b8aa-1b67-489e-8743-15a44dac05bd",
       "rows": [
        [
         "0",
         "503874407318",
         "3655",
         "9"
        ],
        [
         "1",
         "567868110212",
         "3644",
         "3"
        ],
        [
         "2",
         "571365235126",
         "4374",
         "10"
        ],
        [
         "3",
         "581686439828",
         "3653",
         "10"
        ],
        [
         "4",
         "630423337322",
         "4362",
         "7"
        ]
       ],
       "shape": {
        "columns": 3,
        "rows": 5
       }
      },
      "text/html": [
       "<div>\n",
       "<style scoped>\n",
       "    .dataframe tbody tr th:only-of-type {\n",
       "        vertical-align: middle;\n",
       "    }\n",
       "\n",
       "    .dataframe tbody tr th {\n",
       "        vertical-align: top;\n",
       "    }\n",
       "\n",
       "    .dataframe thead th {\n",
       "        text-align: right;\n",
       "    }\n",
       "</style>\n",
       "<table border=\"1\" class=\"dataframe\">\n",
       "  <thead>\n",
       "    <tr style=\"text-align: right;\">\n",
       "      <th></th>\n",
       "      <th>cc_num</th>\n",
       "      <th>count</th>\n",
       "      <th>sum</th>\n",
       "    </tr>\n",
       "  </thead>\n",
       "  <tbody>\n",
       "    <tr>\n",
       "      <th>0</th>\n",
       "      <td>503874407318</td>\n",
       "      <td>3655</td>\n",
       "      <td>9</td>\n",
       "    </tr>\n",
       "    <tr>\n",
       "      <th>1</th>\n",
       "      <td>567868110212</td>\n",
       "      <td>3644</td>\n",
       "      <td>3</td>\n",
       "    </tr>\n",
       "    <tr>\n",
       "      <th>2</th>\n",
       "      <td>571365235126</td>\n",
       "      <td>4374</td>\n",
       "      <td>10</td>\n",
       "    </tr>\n",
       "    <tr>\n",
       "      <th>3</th>\n",
       "      <td>581686439828</td>\n",
       "      <td>3653</td>\n",
       "      <td>10</td>\n",
       "    </tr>\n",
       "    <tr>\n",
       "      <th>4</th>\n",
       "      <td>630423337322</td>\n",
       "      <td>4362</td>\n",
       "      <td>7</td>\n",
       "    </tr>\n",
       "  </tbody>\n",
       "</table>\n",
       "</div>"
      ],
      "text/plain": [
       "         cc_num  count  sum\n",
       "0  503874407318   3655    9\n",
       "1  567868110212   3644    3\n",
       "2  571365235126   4374   10\n",
       "3  581686439828   3653   10\n",
       "4  630423337322   4362    7"
      ]
     },
     "execution_count": 13,
     "metadata": {},
     "output_type": "execute_result"
    }
   ],
   "source": [
    "df_temp = df2.groupby(by=['cc_num'], as_index=False)['is_fraud'].agg(['count', 'sum'])\n",
    "df_temp.head()"
   ]
  },
  {
   "cell_type": "code",
   "execution_count": 14,
   "id": "c7764cd0",
   "metadata": {},
   "outputs": [
    {
     "data": {
      "application/vnd.microsoft.datawrangler.viewer.v0+json": {
       "columns": [
        {
         "name": "index",
         "rawType": "int64",
         "type": "integer"
        },
        {
         "name": "cc_num",
         "rawType": "int64",
         "type": "integer"
        },
        {
         "name": "count",
         "rawType": "int64",
         "type": "integer"
        },
        {
         "name": "sum",
         "rawType": "int64",
         "type": "integer"
        },
        {
         "name": "percent",
         "rawType": "float64",
         "type": "float"
        }
       ],
       "ref": "384872ec-1746-459c-8f46-057dff662049",
       "rows": [
        [
         "0",
         "503874407318",
         "3655",
         "9",
         "0.25"
        ],
        [
         "1",
         "567868110212",
         "3644",
         "3",
         "0.08"
        ],
        [
         "2",
         "571365235126",
         "4374",
         "10",
         "0.23"
        ],
        [
         "3",
         "581686439828",
         "3653",
         "10",
         "0.27"
        ],
        [
         "4",
         "630423337322",
         "4362",
         "7",
         "0.16"
        ],
        [
         "5",
         "630424987505",
         "4376",
         "14",
         "0.32"
        ],
        [
         "6",
         "630451534402",
         "4374",
         "10",
         "0.23"
        ],
        [
         "7",
         "639023984367",
         "3650",
         "14",
         "0.38"
        ],
        [
         "8",
         "676372984911",
         "3649",
         "13",
         "0.36"
        ],
        [
         "9",
         "4464457352619",
         "3646",
         "8",
         "0.22"
        ],
        [
         "10",
         "4561546772499",
         "3650",
         "8",
         "0.22"
        ],
        [
         "11",
         "4681699462969",
         "3652",
         "7",
         "0.19"
        ],
        [
         "12",
         "4745996322265",
         "4384",
         "10",
         "0.23"
        ],
        [
         "13",
         "4755696071492",
         "3651",
         "7",
         "0.19"
        ],
        [
         "14",
         "4900628639996",
         "3650",
         "7",
         "0.19"
        ],
        [
         "15",
         "30044330818990",
         "3650",
         "12",
         "0.33"
        ],
        [
         "16",
         "30131826429364",
         "3653",
         "12",
         "0.33"
        ],
        [
         "17",
         "30199621383748",
         "3658",
         "15",
         "0.41"
        ],
        [
         "18",
         "30234966027947",
         "3649",
         "7",
         "0.19"
        ],
        [
         "19",
         "30235438713303",
         "3650",
         "11",
         "0.3"
        ],
        [
         "20",
         "30238755902988",
         "4369",
         "12",
         "0.27"
        ],
        [
         "21",
         "30270432095985",
         "4392",
         "15",
         "0.34"
        ],
        [
         "22",
         "30273037698427",
         "4375",
         "8",
         "0.18"
        ],
        [
         "23",
         "30551643947183",
         "3638",
         "6",
         "0.16"
        ],
        [
         "24",
         "36722699017270",
         "4383",
         "7",
         "0.16"
        ],
        [
         "25",
         "36913587729122",
         "3641",
         "5",
         "0.14"
        ],
        [
         "26",
         "38052002992326",
         "3655",
         "11",
         "0.3"
        ],
        [
         "27",
         "180031190491743",
         "3655",
         "14",
         "0.38"
        ],
        [
         "28",
         "180036456789979",
         "3655",
         "10",
         "0.27"
        ],
        [
         "29",
         "180048185037117",
         "4382",
         "14",
         "0.32"
        ],
        [
         "30",
         "180094419304907",
         "4378",
         "4",
         "0.09"
        ],
        [
         "31",
         "213112402583773",
         "4380",
         "16",
         "0.37"
        ],
        [
         "32",
         "213141712584544",
         "4371",
         "3",
         "0.07"
        ],
        [
         "33",
         "213156747557083",
         "3648",
         "9",
         "0.25"
        ],
        [
         "34",
         "213157767990030",
         "3643",
         "14",
         "0.38"
        ],
        [
         "35",
         "340953839692349",
         "3648",
         "12",
         "0.33"
        ],
        [
         "36",
         "342952484382519",
         "4382",
         "11",
         "0.25"
        ],
        [
         "37",
         "344709867813900",
         "4385",
         "14",
         "0.32"
        ],
        [
         "38",
         "345933964507467",
         "4378",
         "11",
         "0.25"
        ],
        [
         "39",
         "346273234529002",
         "3645",
         "3",
         "0.08"
        ],
        [
         "40",
         "370877495212014",
         "3644",
         "7",
         "0.19"
        ],
        [
         "41",
         "371226440126102",
         "3646",
         "15",
         "0.41"
        ],
        [
         "42",
         "372509258176510",
         "4379",
         "8",
         "0.18"
        ],
        [
         "43",
         "372520049757633",
         "4376",
         "6",
         "0.14"
        ],
        [
         "44",
         "373905417449658",
         "3648",
         "13",
         "0.36"
        ],
        [
         "45",
         "374930071163758",
         "3647",
         "10",
         "0.27"
        ],
        [
         "46",
         "376445266762684",
         "4378",
         "15",
         "0.34"
        ],
        [
         "47",
         "377026671291680",
         "3654",
         "10",
         "0.27"
        ],
        [
         "48",
         "2242542703101233",
         "4377",
         "15",
         "0.34"
        ],
        [
         "49",
         "2254917871818484",
         "3652",
         "10",
         "0.27"
        ]
       ],
       "shape": {
        "columns": 4,
        "rows": 124
       }
      },
      "text/html": [
       "<div>\n",
       "<style scoped>\n",
       "    .dataframe tbody tr th:only-of-type {\n",
       "        vertical-align: middle;\n",
       "    }\n",
       "\n",
       "    .dataframe tbody tr th {\n",
       "        vertical-align: top;\n",
       "    }\n",
       "\n",
       "    .dataframe thead th {\n",
       "        text-align: right;\n",
       "    }\n",
       "</style>\n",
       "<table border=\"1\" class=\"dataframe\">\n",
       "  <thead>\n",
       "    <tr style=\"text-align: right;\">\n",
       "      <th></th>\n",
       "      <th>cc_num</th>\n",
       "      <th>count</th>\n",
       "      <th>sum</th>\n",
       "      <th>percent</th>\n",
       "    </tr>\n",
       "  </thead>\n",
       "  <tbody>\n",
       "    <tr>\n",
       "      <th>0</th>\n",
       "      <td>503874407318</td>\n",
       "      <td>3655</td>\n",
       "      <td>9</td>\n",
       "      <td>0.25</td>\n",
       "    </tr>\n",
       "    <tr>\n",
       "      <th>1</th>\n",
       "      <td>567868110212</td>\n",
       "      <td>3644</td>\n",
       "      <td>3</td>\n",
       "      <td>0.08</td>\n",
       "    </tr>\n",
       "    <tr>\n",
       "      <th>2</th>\n",
       "      <td>571365235126</td>\n",
       "      <td>4374</td>\n",
       "      <td>10</td>\n",
       "      <td>0.23</td>\n",
       "    </tr>\n",
       "    <tr>\n",
       "      <th>3</th>\n",
       "      <td>581686439828</td>\n",
       "      <td>3653</td>\n",
       "      <td>10</td>\n",
       "      <td>0.27</td>\n",
       "    </tr>\n",
       "    <tr>\n",
       "      <th>4</th>\n",
       "      <td>630423337322</td>\n",
       "      <td>4362</td>\n",
       "      <td>7</td>\n",
       "      <td>0.16</td>\n",
       "    </tr>\n",
       "    <tr>\n",
       "      <th>...</th>\n",
       "      <td>...</td>\n",
       "      <td>...</td>\n",
       "      <td>...</td>\n",
       "      <td>...</td>\n",
       "    </tr>\n",
       "    <tr>\n",
       "      <th>119</th>\n",
       "      <td>4792627764422477317</td>\n",
       "      <td>4357</td>\n",
       "      <td>5</td>\n",
       "      <td>0.11</td>\n",
       "    </tr>\n",
       "    <tr>\n",
       "      <th>120</th>\n",
       "      <td>4797297220948468262</td>\n",
       "      <td>3653</td>\n",
       "      <td>14</td>\n",
       "      <td>0.38</td>\n",
       "    </tr>\n",
       "    <tr>\n",
       "      <th>121</th>\n",
       "      <td>4861310130652566408</td>\n",
       "      <td>3643</td>\n",
       "      <td>9</td>\n",
       "      <td>0.25</td>\n",
       "    </tr>\n",
       "    <tr>\n",
       "      <th>122</th>\n",
       "      <td>4906628655840914250</td>\n",
       "      <td>3655</td>\n",
       "      <td>11</td>\n",
       "      <td>0.30</td>\n",
       "    </tr>\n",
       "    <tr>\n",
       "      <th>123</th>\n",
       "      <td>4956828990005111019</td>\n",
       "      <td>3657</td>\n",
       "      <td>10</td>\n",
       "      <td>0.27</td>\n",
       "    </tr>\n",
       "  </tbody>\n",
       "</table>\n",
       "<p>124 rows × 4 columns</p>\n",
       "</div>"
      ],
      "text/plain": [
       "                  cc_num  count  sum  percent\n",
       "0           503874407318   3655    9     0.25\n",
       "1           567868110212   3644    3     0.08\n",
       "2           571365235126   4374   10     0.23\n",
       "3           581686439828   3653   10     0.27\n",
       "4           630423337322   4362    7     0.16\n",
       "..                   ...    ...  ...      ...\n",
       "119  4792627764422477317   4357    5     0.11\n",
       "120  4797297220948468262   3653   14     0.38\n",
       "121  4861310130652566408   3643    9     0.25\n",
       "122  4906628655840914250   3655   11     0.30\n",
       "123  4956828990005111019   3657   10     0.27\n",
       "\n",
       "[124 rows x 4 columns]"
      ]
     },
     "execution_count": 14,
     "metadata": {},
     "output_type": "execute_result"
    }
   ],
   "source": [
    "df_temp['percent'] = round(df_temp['sum'] / df_temp['count'] * 100, 2)\n",
    "df_temp"
   ]
  },
  {
   "cell_type": "markdown",
   "id": "c6eb5e79",
   "metadata": {},
   "source": [
    "### 구매 금액의 z-score 구하기"
   ]
  },
  {
   "cell_type": "markdown",
   "id": "786d08bc",
   "metadata": {},
   "source": [
    "- cc_num 컬럼의 값마다 amt 컬럼의 평균, 표준편차를 계산하여 새로운 변수 amt_info에 저장"
   ]
  },
  {
   "cell_type": "code",
   "execution_count": 15,
   "id": "699a06f6",
   "metadata": {},
   "outputs": [
    {
     "data": {
      "application/vnd.microsoft.datawrangler.viewer.v0+json": {
       "columns": [
        {
         "name": "index",
         "rawType": "int64",
         "type": "integer"
        },
        {
         "name": "cc_num",
         "rawType": "int64",
         "type": "integer"
        },
        {
         "name": "mean",
         "rawType": "float64",
         "type": "float"
        },
        {
         "name": "std",
         "rawType": "float64",
         "type": "float"
        }
       ],
       "ref": "b97210ec-93f0-495f-8f39-c6825b22f75a",
       "rows": [
        [
         "0",
         "503874407318",
         "60.25340629274966",
         "127.26578312891662"
        ],
        [
         "1",
         "567868110212",
         "83.44255762897915",
         "117.30382809383855"
        ],
        [
         "2",
         "571365235126",
         "59.39297439414723",
         "134.28995894517635"
        ],
        [
         "3",
         "581686439828",
         "58.57867506159321",
         "149.8049915301419"
        ],
        [
         "4",
         "630423337322",
         "56.07811325080239",
         "159.2018519641995"
        ]
       ],
       "shape": {
        "columns": 3,
        "rows": 5
       }
      },
      "text/html": [
       "<div>\n",
       "<style scoped>\n",
       "    .dataframe tbody tr th:only-of-type {\n",
       "        vertical-align: middle;\n",
       "    }\n",
       "\n",
       "    .dataframe tbody tr th {\n",
       "        vertical-align: top;\n",
       "    }\n",
       "\n",
       "    .dataframe thead th {\n",
       "        text-align: right;\n",
       "    }\n",
       "</style>\n",
       "<table border=\"1\" class=\"dataframe\">\n",
       "  <thead>\n",
       "    <tr style=\"text-align: right;\">\n",
       "      <th></th>\n",
       "      <th>cc_num</th>\n",
       "      <th>mean</th>\n",
       "      <th>std</th>\n",
       "    </tr>\n",
       "  </thead>\n",
       "  <tbody>\n",
       "    <tr>\n",
       "      <th>0</th>\n",
       "      <td>503874407318</td>\n",
       "      <td>60.253406</td>\n",
       "      <td>127.265783</td>\n",
       "    </tr>\n",
       "    <tr>\n",
       "      <th>1</th>\n",
       "      <td>567868110212</td>\n",
       "      <td>83.442558</td>\n",
       "      <td>117.303828</td>\n",
       "    </tr>\n",
       "    <tr>\n",
       "      <th>2</th>\n",
       "      <td>571365235126</td>\n",
       "      <td>59.392974</td>\n",
       "      <td>134.289959</td>\n",
       "    </tr>\n",
       "    <tr>\n",
       "      <th>3</th>\n",
       "      <td>581686439828</td>\n",
       "      <td>58.578675</td>\n",
       "      <td>149.804992</td>\n",
       "    </tr>\n",
       "    <tr>\n",
       "      <th>4</th>\n",
       "      <td>630423337322</td>\n",
       "      <td>56.078113</td>\n",
       "      <td>159.201852</td>\n",
       "    </tr>\n",
       "  </tbody>\n",
       "</table>\n",
       "</div>"
      ],
      "text/plain": [
       "         cc_num       mean         std\n",
       "0  503874407318  60.253406  127.265783\n",
       "1  567868110212  83.442558  117.303828\n",
       "2  571365235126  59.392974  134.289959\n",
       "3  581686439828  58.578675  149.804992\n",
       "4  630423337322  56.078113  159.201852"
      ]
     },
     "execution_count": 15,
     "metadata": {},
     "output_type": "execute_result"
    }
   ],
   "source": [
    "amt_info = df2.groupby(by='cc_num', as_index=False)['amt'].agg(['mean', 'std'])\n",
    "amt_info.head()"
   ]
  },
  {
   "cell_type": "code",
   "execution_count": 16,
   "id": "ab2f7208",
   "metadata": {},
   "outputs": [],
   "source": [
    "amt_info.to_pickle('./data/fraud_amt_info.pkl')"
   ]
  },
  {
   "cell_type": "markdown",
   "id": "247e4957",
   "metadata": {},
   "source": [
    "- cc_num 컬럼을 기준으로 정제 중인 데이터프레임과 amt_info 데이터프레임 합치기"
   ]
  },
  {
   "cell_type": "code",
   "execution_count": 17,
   "id": "4d9538fd",
   "metadata": {},
   "outputs": [
    {
     "data": {
      "application/vnd.microsoft.datawrangler.viewer.v0+json": {
       "columns": [
        {
         "name": "index",
         "rawType": "int64",
         "type": "integer"
        },
        {
         "name": "trans_date_trans_time",
         "rawType": "object",
         "type": "string"
        },
        {
         "name": "cc_num",
         "rawType": "int64",
         "type": "integer"
        },
        {
         "name": "category",
         "rawType": "object",
         "type": "string"
        },
        {
         "name": "amt",
         "rawType": "float64",
         "type": "float"
        },
        {
         "name": "gender",
         "rawType": "object",
         "type": "string"
        },
        {
         "name": "lat",
         "rawType": "float64",
         "type": "float"
        },
        {
         "name": "long",
         "rawType": "float64",
         "type": "float"
        },
        {
         "name": "job",
         "rawType": "object",
         "type": "string"
        },
        {
         "name": "dob",
         "rawType": "object",
         "type": "string"
        },
        {
         "name": "merch_lat",
         "rawType": "float64",
         "type": "float"
        },
        {
         "name": "merch_long",
         "rawType": "float64",
         "type": "float"
        },
        {
         "name": "is_fraud",
         "rawType": "int64",
         "type": "integer"
        },
        {
         "name": "mean",
         "rawType": "float64",
         "type": "float"
        },
        {
         "name": "std",
         "rawType": "float64",
         "type": "float"
        }
       ],
       "ref": "9e1071c2-fad8-469d-97ba-9bda8cd47855",
       "rows": [
        [
         "0",
         "2019-01-01 00:00:44",
         "630423337322",
         "grocery_pos",
         "107.23",
         "F",
         "48.8878",
         "-118.2105",
         "Special educational needs teacher",
         "1978-06-21",
         "49.159047",
         "-118.186462",
         "0",
         "56.07811325080239",
         "159.2018519641995"
        ],
        [
         "1",
         "2019-01-01 00:12:34",
         "4956828990005111019",
         "grocery_pos",
         "44.71",
         "M",
         "40.6747",
         "-74.2239",
         "Operational researcher",
         "1980-12-21",
         "40.079588",
         "-74.84808699999999",
         "0",
         "59.85805851791086",
         "132.13880182878174"
        ],
        [
         "2",
         "2019-01-01 00:17:16",
         "180048185037117",
         "grocery_net",
         "46.28",
         "F",
         "40.6152",
         "-74.415",
         "Leisure centre manager",
         "1974-07-19",
         "40.021888",
         "-74.228188",
         "0",
         "87.32806709265176",
         "113.45441572361764"
        ],
        [
         "3",
         "2019-01-01 00:20:15",
         "374930071163758",
         "grocery_pos",
         "64.09",
         "M",
         "42.2203",
         "-83.3583",
         "Police officer",
         "1971-11-05",
         "42.360426",
         "-83.552316",
         "0",
         "64.31783931998903",
         "174.73904227604555"
        ],
        [
         "4",
         "2019-01-01 00:23:41",
         "2712209726293386",
         "misc_pos",
         "25.58",
         "F",
         "30.4066",
         "-91.1468",
         "Designer, furniture",
         "1977-02-22",
         "29.737426",
         "-90.853194",
         "0",
         "90.74712259835316",
         "165.47088148465744"
        ]
       ],
       "shape": {
        "columns": 14,
        "rows": 5
       }
      },
      "text/html": [
       "<div>\n",
       "<style scoped>\n",
       "    .dataframe tbody tr th:only-of-type {\n",
       "        vertical-align: middle;\n",
       "    }\n",
       "\n",
       "    .dataframe tbody tr th {\n",
       "        vertical-align: top;\n",
       "    }\n",
       "\n",
       "    .dataframe thead th {\n",
       "        text-align: right;\n",
       "    }\n",
       "</style>\n",
       "<table border=\"1\" class=\"dataframe\">\n",
       "  <thead>\n",
       "    <tr style=\"text-align: right;\">\n",
       "      <th></th>\n",
       "      <th>trans_date_trans_time</th>\n",
       "      <th>cc_num</th>\n",
       "      <th>category</th>\n",
       "      <th>amt</th>\n",
       "      <th>gender</th>\n",
       "      <th>lat</th>\n",
       "      <th>long</th>\n",
       "      <th>job</th>\n",
       "      <th>dob</th>\n",
       "      <th>merch_lat</th>\n",
       "      <th>merch_long</th>\n",
       "      <th>is_fraud</th>\n",
       "      <th>mean</th>\n",
       "      <th>std</th>\n",
       "    </tr>\n",
       "  </thead>\n",
       "  <tbody>\n",
       "    <tr>\n",
       "      <th>0</th>\n",
       "      <td>2019-01-01 00:00:44</td>\n",
       "      <td>630423337322</td>\n",
       "      <td>grocery_pos</td>\n",
       "      <td>107.23</td>\n",
       "      <td>F</td>\n",
       "      <td>48.8878</td>\n",
       "      <td>-118.2105</td>\n",
       "      <td>Special educational needs teacher</td>\n",
       "      <td>1978-06-21</td>\n",
       "      <td>49.159047</td>\n",
       "      <td>-118.186462</td>\n",
       "      <td>0</td>\n",
       "      <td>56.078113</td>\n",
       "      <td>159.201852</td>\n",
       "    </tr>\n",
       "    <tr>\n",
       "      <th>1</th>\n",
       "      <td>2019-01-01 00:12:34</td>\n",
       "      <td>4956828990005111019</td>\n",
       "      <td>grocery_pos</td>\n",
       "      <td>44.71</td>\n",
       "      <td>M</td>\n",
       "      <td>40.6747</td>\n",
       "      <td>-74.2239</td>\n",
       "      <td>Operational researcher</td>\n",
       "      <td>1980-12-21</td>\n",
       "      <td>40.079588</td>\n",
       "      <td>-74.848087</td>\n",
       "      <td>0</td>\n",
       "      <td>59.858059</td>\n",
       "      <td>132.138802</td>\n",
       "    </tr>\n",
       "    <tr>\n",
       "      <th>2</th>\n",
       "      <td>2019-01-01 00:17:16</td>\n",
       "      <td>180048185037117</td>\n",
       "      <td>grocery_net</td>\n",
       "      <td>46.28</td>\n",
       "      <td>F</td>\n",
       "      <td>40.6152</td>\n",
       "      <td>-74.4150</td>\n",
       "      <td>Leisure centre manager</td>\n",
       "      <td>1974-07-19</td>\n",
       "      <td>40.021888</td>\n",
       "      <td>-74.228188</td>\n",
       "      <td>0</td>\n",
       "      <td>87.328067</td>\n",
       "      <td>113.454416</td>\n",
       "    </tr>\n",
       "    <tr>\n",
       "      <th>3</th>\n",
       "      <td>2019-01-01 00:20:15</td>\n",
       "      <td>374930071163758</td>\n",
       "      <td>grocery_pos</td>\n",
       "      <td>64.09</td>\n",
       "      <td>M</td>\n",
       "      <td>42.2203</td>\n",
       "      <td>-83.3583</td>\n",
       "      <td>Police officer</td>\n",
       "      <td>1971-11-05</td>\n",
       "      <td>42.360426</td>\n",
       "      <td>-83.552316</td>\n",
       "      <td>0</td>\n",
       "      <td>64.317839</td>\n",
       "      <td>174.739042</td>\n",
       "    </tr>\n",
       "    <tr>\n",
       "      <th>4</th>\n",
       "      <td>2019-01-01 00:23:41</td>\n",
       "      <td>2712209726293386</td>\n",
       "      <td>misc_pos</td>\n",
       "      <td>25.58</td>\n",
       "      <td>F</td>\n",
       "      <td>30.4066</td>\n",
       "      <td>-91.1468</td>\n",
       "      <td>Designer, furniture</td>\n",
       "      <td>1977-02-22</td>\n",
       "      <td>29.737426</td>\n",
       "      <td>-90.853194</td>\n",
       "      <td>0</td>\n",
       "      <td>90.747123</td>\n",
       "      <td>165.470881</td>\n",
       "    </tr>\n",
       "  </tbody>\n",
       "</table>\n",
       "</div>"
      ],
      "text/plain": [
       "  trans_date_trans_time               cc_num     category     amt gender  \\\n",
       "0   2019-01-01 00:00:44         630423337322  grocery_pos  107.23      F   \n",
       "1   2019-01-01 00:12:34  4956828990005111019  grocery_pos   44.71      M   \n",
       "2   2019-01-01 00:17:16      180048185037117  grocery_net   46.28      F   \n",
       "3   2019-01-01 00:20:15      374930071163758  grocery_pos   64.09      M   \n",
       "4   2019-01-01 00:23:41     2712209726293386     misc_pos   25.58      F   \n",
       "\n",
       "       lat      long                                job         dob  \\\n",
       "0  48.8878 -118.2105  Special educational needs teacher  1978-06-21   \n",
       "1  40.6747  -74.2239             Operational researcher  1980-12-21   \n",
       "2  40.6152  -74.4150             Leisure centre manager  1974-07-19   \n",
       "3  42.2203  -83.3583                     Police officer  1971-11-05   \n",
       "4  30.4066  -91.1468                Designer, furniture  1977-02-22   \n",
       "\n",
       "   merch_lat  merch_long  is_fraud       mean         std  \n",
       "0  49.159047 -118.186462         0  56.078113  159.201852  \n",
       "1  40.079588  -74.848087         0  59.858059  132.138802  \n",
       "2  40.021888  -74.228188         0  87.328067  113.454416  \n",
       "3  42.360426  -83.552316         0  64.317839  174.739042  \n",
       "4  29.737426  -90.853194         0  90.747123  165.470881  "
      ]
     },
     "execution_count": 17,
     "metadata": {},
     "output_type": "execute_result"
    }
   ],
   "source": [
    "df2 = df2.reset_index(drop=True)\n",
    "amt_info = amt_info.reset_index(drop=True)\n",
    "\n",
    "df3 = pd.merge(df2, amt_info, how='left', on='cc_num')\n",
    "df3.head()"
   ]
  },
  {
   "cell_type": "markdown",
   "id": "eff5e175",
   "metadata": {},
   "source": [
    "- amt의 z-score를 계산하여 amt_z 컬럼에 저장"
   ]
  },
  {
   "cell_type": "code",
   "execution_count": 18,
   "id": "13cfec38",
   "metadata": {},
   "outputs": [
    {
     "data": {
      "application/vnd.microsoft.datawrangler.viewer.v0+json": {
       "columns": [
        {
         "name": "index",
         "rawType": "int64",
         "type": "integer"
        },
        {
         "name": "amt_z",
         "rawType": "float64",
         "type": "float"
        }
       ],
       "ref": "fef0a1a2-8c8a-41e4-b39d-1b7a3bb639e4",
       "rows": [
        [
         "0",
         "0.32130208360076357"
        ],
        [
         "1",
         "-0.11463747444553714"
        ],
        [
         "2",
         "-0.3618022871198555"
        ],
        [
         "3",
         "-0.001303883305192317"
        ],
        [
         "4",
         "-0.39382834015056295"
        ]
       ],
       "shape": {
        "columns": 1,
        "rows": 5
       }
      },
      "text/plain": [
       "0    0.321302\n",
       "1   -0.114637\n",
       "2   -0.361802\n",
       "3   -0.001304\n",
       "4   -0.393828\n",
       "Name: amt_z, dtype: float64"
      ]
     },
     "execution_count": 18,
     "metadata": {},
     "output_type": "execute_result"
    }
   ],
   "source": [
    "df3['amt_z'] = (df3['amt'] - df3['mean']) / df3['std']\n",
    "df3['amt_z'].head()"
   ]
  },
  {
   "cell_type": "markdown",
   "id": "e4a433d4",
   "metadata": {},
   "source": [
    "- mean, std 컬럼 제거"
   ]
  },
  {
   "cell_type": "code",
   "execution_count": 19,
   "id": "24cb67fe",
   "metadata": {},
   "outputs": [],
   "source": [
    "df3 = df3.drop(['mean', 'std'], axis=1)"
   ]
  },
  {
   "cell_type": "code",
   "execution_count": 20,
   "id": "f5685039",
   "metadata": {},
   "outputs": [
    {
     "data": {
      "text/plain": [
       "Index(['trans_date_trans_time', 'cc_num', 'category', 'amt', 'gender', 'lat',\n",
       "       'long', 'job', 'dob', 'merch_lat', 'merch_long', 'is_fraud', 'amt_z'],\n",
       "      dtype='object')"
      ]
     },
     "execution_count": 20,
     "metadata": {},
     "output_type": "execute_result"
    }
   ],
   "source": [
    "df3.columns"
   ]
  },
  {
   "cell_type": "markdown",
   "id": "b390bd33",
   "metadata": {},
   "source": [
    "- cc_num, category 컬럼의 값마다 amt의 평균, 표준편차를 계산하여 cat_info에 저장"
   ]
  },
  {
   "cell_type": "code",
   "execution_count": 21,
   "id": "8e77dee3",
   "metadata": {},
   "outputs": [
    {
     "data": {
      "application/vnd.microsoft.datawrangler.viewer.v0+json": {
       "columns": [
        {
         "name": "index",
         "rawType": "int64",
         "type": "integer"
        },
        {
         "name": "cc_num",
         "rawType": "int64",
         "type": "integer"
        },
        {
         "name": "category",
         "rawType": "object",
         "type": "string"
        },
        {
         "name": "mean",
         "rawType": "float64",
         "type": "float"
        },
        {
         "name": "std",
         "rawType": "float64",
         "type": "float"
        }
       ],
       "ref": "e9307b04-e858-4f43-b211-2f94214e9614",
       "rows": [
        [
         "0",
         "503874407318",
         "entertainment",
         "73.28241803278688",
         "103.05040208085641"
        ],
        [
         "1",
         "503874407318",
         "food_dining",
         "38.712304832713755",
         "46.54843633533717"
        ],
        [
         "2",
         "503874407318",
         "gas_transport",
         "68.45781954887218",
         "14.730439581316402"
        ],
        [
         "3",
         "503874407318",
         "grocery_net",
         "48.93130177514792",
         "18.73625164423896"
        ],
        [
         "4",
         "503874407318",
         "grocery_pos",
         "61.98780555555556",
         "23.449568643031753"
        ]
       ],
       "shape": {
        "columns": 4,
        "rows": 5
       }
      },
      "text/html": [
       "<div>\n",
       "<style scoped>\n",
       "    .dataframe tbody tr th:only-of-type {\n",
       "        vertical-align: middle;\n",
       "    }\n",
       "\n",
       "    .dataframe tbody tr th {\n",
       "        vertical-align: top;\n",
       "    }\n",
       "\n",
       "    .dataframe thead th {\n",
       "        text-align: right;\n",
       "    }\n",
       "</style>\n",
       "<table border=\"1\" class=\"dataframe\">\n",
       "  <thead>\n",
       "    <tr style=\"text-align: right;\">\n",
       "      <th></th>\n",
       "      <th>cc_num</th>\n",
       "      <th>category</th>\n",
       "      <th>mean</th>\n",
       "      <th>std</th>\n",
       "    </tr>\n",
       "  </thead>\n",
       "  <tbody>\n",
       "    <tr>\n",
       "      <th>0</th>\n",
       "      <td>503874407318</td>\n",
       "      <td>entertainment</td>\n",
       "      <td>73.282418</td>\n",
       "      <td>103.050402</td>\n",
       "    </tr>\n",
       "    <tr>\n",
       "      <th>1</th>\n",
       "      <td>503874407318</td>\n",
       "      <td>food_dining</td>\n",
       "      <td>38.712305</td>\n",
       "      <td>46.548436</td>\n",
       "    </tr>\n",
       "    <tr>\n",
       "      <th>2</th>\n",
       "      <td>503874407318</td>\n",
       "      <td>gas_transport</td>\n",
       "      <td>68.457820</td>\n",
       "      <td>14.730440</td>\n",
       "    </tr>\n",
       "    <tr>\n",
       "      <th>3</th>\n",
       "      <td>503874407318</td>\n",
       "      <td>grocery_net</td>\n",
       "      <td>48.931302</td>\n",
       "      <td>18.736252</td>\n",
       "    </tr>\n",
       "    <tr>\n",
       "      <th>4</th>\n",
       "      <td>503874407318</td>\n",
       "      <td>grocery_pos</td>\n",
       "      <td>61.987806</td>\n",
       "      <td>23.449569</td>\n",
       "    </tr>\n",
       "  </tbody>\n",
       "</table>\n",
       "</div>"
      ],
      "text/plain": [
       "         cc_num       category       mean         std\n",
       "0  503874407318  entertainment  73.282418  103.050402\n",
       "1  503874407318    food_dining  38.712305   46.548436\n",
       "2  503874407318  gas_transport  68.457820   14.730440\n",
       "3  503874407318    grocery_net  48.931302   18.736252\n",
       "4  503874407318    grocery_pos  61.987806   23.449569"
      ]
     },
     "execution_count": 21,
     "metadata": {},
     "output_type": "execute_result"
    }
   ],
   "source": [
    "cat_info = df3.groupby(by=['cc_num', 'category'], as_index=False)['amt'].agg(['mean', 'std'])\n",
    "cat_info.head()"
   ]
  },
  {
   "cell_type": "code",
   "execution_count": 22,
   "id": "9a6a3701",
   "metadata": {},
   "outputs": [],
   "source": [
    "cat_info.to_pickle('./data/fraud_cat_info.pkl')"
   ]
  },
  {
   "cell_type": "markdown",
   "id": "fee648ca",
   "metadata": {},
   "source": [
    "- cc_num, category 컬럼을 기준으로, 정제 중인 데이터프레임과 cat_info 데이터프레임 합치기"
   ]
  },
  {
   "cell_type": "code",
   "execution_count": 23,
   "id": "faa598c0",
   "metadata": {},
   "outputs": [],
   "source": [
    "df3 = df3.reset_index(drop=True)\n",
    "cat_info = cat_info.reset_index(drop=True)\n",
    "\n",
    "# df4 = pd.merge(df3, cat_info, how='left', on='cc_num')\n",
    "df4 = pd.merge(df3, cat_info, how='left', on=['cc_num', 'category'] )"
   ]
  },
  {
   "cell_type": "code",
   "execution_count": 24,
   "id": "93c88754",
   "metadata": {},
   "outputs": [
    {
     "name": "stdout",
     "output_type": "stream",
     "text": [
      "<class 'pandas.core.frame.DataFrame'>\n",
      "RangeIndex: 491134 entries, 0 to 491133\n",
      "Data columns (total 15 columns):\n",
      " #   Column                 Non-Null Count   Dtype  \n",
      "---  ------                 --------------   -----  \n",
      " 0   trans_date_trans_time  491134 non-null  object \n",
      " 1   cc_num                 491134 non-null  int64  \n",
      " 2   category               491134 non-null  object \n",
      " 3   amt                    491134 non-null  float64\n",
      " 4   gender                 491134 non-null  object \n",
      " 5   lat                    491134 non-null  float64\n",
      " 6   long                   491134 non-null  float64\n",
      " 7   job                    491134 non-null  object \n",
      " 8   dob                    491134 non-null  object \n",
      " 9   merch_lat              491134 non-null  float64\n",
      " 10  merch_long             491134 non-null  float64\n",
      " 11  is_fraud               491134 non-null  int64  \n",
      " 12  amt_z                  491134 non-null  float64\n",
      " 13  mean                   491134 non-null  float64\n",
      " 14  std                    491134 non-null  float64\n",
      "dtypes: float64(8), int64(2), object(5)\n",
      "memory usage: 56.2+ MB\n"
     ]
    }
   ],
   "source": [
    "df4.info()"
   ]
  },
  {
   "cell_type": "code",
   "execution_count": 25,
   "id": "b24fb141",
   "metadata": {},
   "outputs": [
    {
     "name": "stdout",
     "output_type": "stream",
     "text": [
      "<class 'pandas.core.frame.DataFrame'>\n",
      "RangeIndex: 491134 entries, 0 to 491133\n",
      "Data columns (total 15 columns):\n",
      " #   Column                 Non-Null Count   Dtype  \n",
      "---  ------                 --------------   -----  \n",
      " 0   trans_date_trans_time  491134 non-null  object \n",
      " 1   cc_num                 491134 non-null  int64  \n",
      " 2   category               491134 non-null  object \n",
      " 3   amt                    491134 non-null  float64\n",
      " 4   gender                 491134 non-null  object \n",
      " 5   lat                    491134 non-null  float64\n",
      " 6   long                   491134 non-null  float64\n",
      " 7   job                    491134 non-null  object \n",
      " 8   dob                    491134 non-null  object \n",
      " 9   merch_lat              491134 non-null  float64\n",
      " 10  merch_long             491134 non-null  float64\n",
      " 11  is_fraud               491134 non-null  int64  \n",
      " 12  amt_z                  491134 non-null  float64\n",
      " 13  mean                   491134 non-null  float64\n",
      " 14  std                    491134 non-null  float64\n",
      "dtypes: float64(8), int64(2), object(5)\n",
      "memory usage: 56.2+ MB\n"
     ]
    }
   ],
   "source": [
    "df4.info()"
   ]
  },
  {
   "cell_type": "code",
   "execution_count": 26,
   "id": "b75b814a",
   "metadata": {},
   "outputs": [
    {
     "data": {
      "text/plain": [
       "Index(['trans_date_trans_time', 'cc_num', 'category', 'amt', 'gender', 'lat',\n",
       "       'long', 'job', 'dob', 'merch_lat', 'merch_long', 'is_fraud', 'amt_z',\n",
       "       'mean', 'std'],\n",
       "      dtype='object')"
      ]
     },
     "execution_count": 26,
     "metadata": {},
     "output_type": "execute_result"
    }
   ],
   "source": [
    "df4.columns"
   ]
  },
  {
   "cell_type": "markdown",
   "id": "75e79bfa",
   "metadata": {},
   "source": [
    "- amt의 z-score를 계산하여 cat_amz_z 컬럼에 저장"
   ]
  },
  {
   "cell_type": "code",
   "execution_count": 27,
   "id": "ce96024f",
   "metadata": {},
   "outputs": [],
   "source": [
    "df4['cat_amt_z'] = (df4['amt'] - df4['mean']) / df4['std']"
   ]
  },
  {
   "cell_type": "markdown",
   "id": "fba29bf9",
   "metadata": {},
   "source": [
    "- mean, std 컬럼 제거"
   ]
  },
  {
   "cell_type": "code",
   "execution_count": 28,
   "id": "7b060fff",
   "metadata": {},
   "outputs": [],
   "source": [
    "df5 = df4.drop(['mean', 'std'], axis=1)\n",
    "df5 = df5.reset_index(drop=True)"
   ]
  },
  {
   "cell_type": "markdown",
   "id": "b628d73b",
   "metadata": {},
   "source": [
    "### 결제 시간 관련 분석"
   ]
  },
  {
   "cell_type": "markdown",
   "id": "ffbb3e86",
   "metadata": {},
   "source": [
    "- trans_date_trans_time 컬럼에서 시간 값을 추출하여 hour 컬럼에 저장"
   ]
  },
  {
   "cell_type": "code",
   "execution_count": 29,
   "id": "6d3f61ac",
   "metadata": {},
   "outputs": [],
   "source": [
    "df5['trans_date_trans_time'] = pd.to_datetime(df5['trans_date_trans_time'])"
   ]
  },
  {
   "cell_type": "code",
   "execution_count": 30,
   "id": "3ed85f64",
   "metadata": {},
   "outputs": [],
   "source": [
    "df5['hour'] = df5['trans_date_trans_time'].dt.hour"
   ]
  },
  {
   "cell_type": "code",
   "execution_count": 31,
   "id": "bb2785ce",
   "metadata": {},
   "outputs": [
    {
     "name": "stdout",
     "output_type": "stream",
     "text": [
      "<class 'pandas.core.frame.DataFrame'>\n",
      "RangeIndex: 491134 entries, 0 to 491133\n",
      "Data columns (total 15 columns):\n",
      " #   Column                 Non-Null Count   Dtype         \n",
      "---  ------                 --------------   -----         \n",
      " 0   trans_date_trans_time  491134 non-null  datetime64[ns]\n",
      " 1   cc_num                 491134 non-null  int64         \n",
      " 2   category               491134 non-null  object        \n",
      " 3   amt                    491134 non-null  float64       \n",
      " 4   gender                 491134 non-null  object        \n",
      " 5   lat                    491134 non-null  float64       \n",
      " 6   long                   491134 non-null  float64       \n",
      " 7   job                    491134 non-null  object        \n",
      " 8   dob                    491134 non-null  object        \n",
      " 9   merch_lat              491134 non-null  float64       \n",
      " 10  merch_long             491134 non-null  float64       \n",
      " 11  is_fraud               491134 non-null  int64         \n",
      " 12  amt_z                  491134 non-null  float64       \n",
      " 13  cat_amt_z              491134 non-null  float64       \n",
      " 14  hour                   491134 non-null  int32         \n",
      "dtypes: datetime64[ns](1), float64(7), int32(1), int64(2), object(4)\n",
      "memory usage: 54.3+ MB\n"
     ]
    }
   ],
   "source": [
    "df5.info()"
   ]
  },
  {
   "cell_type": "markdown",
   "id": "864cbb3a",
   "metadata": {},
   "source": [
    "- 결제 시간에 따라 morning, afternoon, evening, night 컬럼으로 분류\n",
    "- hour_cat 컬럼에 저장"
   ]
  },
  {
   "cell_type": "code",
   "execution_count": 32,
   "id": "9f7b7e58",
   "metadata": {},
   "outputs": [],
   "source": [
    "def get_timezone(x) :\n",
    "    if (x >= 6) and (x < 12) :\n",
    "        return 'morning'\n",
    "    elif (x >= 12) and (x < 18) :\n",
    "        return 'afternoon'\n",
    "    elif (x >= 18) and (x <= 23) :\n",
    "        return 'evening'\n",
    "    else :\n",
    "        return 'night'"
   ]
  },
  {
   "cell_type": "code",
   "execution_count": 33,
   "id": "e0d01845",
   "metadata": {},
   "outputs": [],
   "source": [
    "df5['hour_cat'] = df5['hour'].apply(get_timezone)"
   ]
  },
  {
   "cell_type": "code",
   "execution_count": 34,
   "id": "d0beeb92",
   "metadata": {},
   "outputs": [
    {
     "data": {
      "application/vnd.microsoft.datawrangler.viewer.v0+json": {
       "columns": [
        {
         "name": "index",
         "rawType": "int64",
         "type": "integer"
        },
        {
         "name": "trans_date_trans_time",
         "rawType": "datetime64[ns]",
         "type": "datetime"
        },
        {
         "name": "cc_num",
         "rawType": "int64",
         "type": "integer"
        },
        {
         "name": "category",
         "rawType": "object",
         "type": "string"
        },
        {
         "name": "amt",
         "rawType": "float64",
         "type": "float"
        },
        {
         "name": "gender",
         "rawType": "object",
         "type": "string"
        },
        {
         "name": "lat",
         "rawType": "float64",
         "type": "float"
        },
        {
         "name": "long",
         "rawType": "float64",
         "type": "float"
        },
        {
         "name": "job",
         "rawType": "object",
         "type": "string"
        },
        {
         "name": "dob",
         "rawType": "object",
         "type": "string"
        },
        {
         "name": "merch_lat",
         "rawType": "float64",
         "type": "float"
        },
        {
         "name": "merch_long",
         "rawType": "float64",
         "type": "float"
        },
        {
         "name": "is_fraud",
         "rawType": "int64",
         "type": "integer"
        },
        {
         "name": "amt_z",
         "rawType": "float64",
         "type": "float"
        },
        {
         "name": "cat_amt_z",
         "rawType": "float64",
         "type": "float"
        },
        {
         "name": "hour",
         "rawType": "int32",
         "type": "integer"
        },
        {
         "name": "hour_cat",
         "rawType": "object",
         "type": "string"
        }
       ],
       "ref": "eba95ccf-718d-4a2f-97a3-ffa765f70e5e",
       "rows": [
        [
         "0",
         "2019-01-01 00:00:44",
         "630423337322",
         "grocery_pos",
         "107.23",
         "F",
         "48.8878",
         "-118.2105",
         "Special educational needs teacher",
         "1978-06-21",
         "49.159047",
         "-118.186462",
         "0",
         "0.32130208360076357",
         "0.31763059303472113",
         "0",
         "night"
        ],
        [
         "1",
         "2019-01-01 00:12:34",
         "4956828990005111019",
         "grocery_pos",
         "44.71",
         "M",
         "40.6747",
         "-74.2239",
         "Operational researcher",
         "1980-12-21",
         "40.079588",
         "-74.84808699999999",
         "0",
         "-0.11463747444553714",
         "-0.6520596303596424",
         "0",
         "night"
        ],
        [
         "2",
         "2019-01-01 00:17:16",
         "180048185037117",
         "grocery_net",
         "46.28",
         "F",
         "40.6152",
         "-74.415",
         "Leisure centre manager",
         "1974-07-19",
         "40.021888",
         "-74.228188",
         "0",
         "-0.3618022871198555",
         "-0.7233282304862105",
         "0",
         "night"
        ],
        [
         "3",
         "2019-01-01 00:20:15",
         "374930071163758",
         "grocery_pos",
         "64.09",
         "M",
         "42.2203",
         "-83.3583",
         "Police officer",
         "1971-11-05",
         "42.360426",
         "-83.552316",
         "0",
         "-0.001303883305192317",
         "0.21178029279882582",
         "0",
         "night"
        ],
        [
         "4",
         "2019-01-01 00:23:41",
         "2712209726293386",
         "misc_pos",
         "25.58",
         "F",
         "30.4066",
         "-91.1468",
         "Designer, furniture",
         "1977-02-22",
         "29.737426",
         "-90.853194",
         "0",
         "-0.39382834015056295",
         "-0.5756975327728285",
         "0",
         "night"
        ]
       ],
       "shape": {
        "columns": 16,
        "rows": 5
       }
      },
      "text/html": [
       "<div>\n",
       "<style scoped>\n",
       "    .dataframe tbody tr th:only-of-type {\n",
       "        vertical-align: middle;\n",
       "    }\n",
       "\n",
       "    .dataframe tbody tr th {\n",
       "        vertical-align: top;\n",
       "    }\n",
       "\n",
       "    .dataframe thead th {\n",
       "        text-align: right;\n",
       "    }\n",
       "</style>\n",
       "<table border=\"1\" class=\"dataframe\">\n",
       "  <thead>\n",
       "    <tr style=\"text-align: right;\">\n",
       "      <th></th>\n",
       "      <th>trans_date_trans_time</th>\n",
       "      <th>cc_num</th>\n",
       "      <th>category</th>\n",
       "      <th>amt</th>\n",
       "      <th>gender</th>\n",
       "      <th>lat</th>\n",
       "      <th>long</th>\n",
       "      <th>job</th>\n",
       "      <th>dob</th>\n",
       "      <th>merch_lat</th>\n",
       "      <th>merch_long</th>\n",
       "      <th>is_fraud</th>\n",
       "      <th>amt_z</th>\n",
       "      <th>cat_amt_z</th>\n",
       "      <th>hour</th>\n",
       "      <th>hour_cat</th>\n",
       "    </tr>\n",
       "  </thead>\n",
       "  <tbody>\n",
       "    <tr>\n",
       "      <th>0</th>\n",
       "      <td>2019-01-01 00:00:44</td>\n",
       "      <td>630423337322</td>\n",
       "      <td>grocery_pos</td>\n",
       "      <td>107.23</td>\n",
       "      <td>F</td>\n",
       "      <td>48.8878</td>\n",
       "      <td>-118.2105</td>\n",
       "      <td>Special educational needs teacher</td>\n",
       "      <td>1978-06-21</td>\n",
       "      <td>49.159047</td>\n",
       "      <td>-118.186462</td>\n",
       "      <td>0</td>\n",
       "      <td>0.321302</td>\n",
       "      <td>0.317631</td>\n",
       "      <td>0</td>\n",
       "      <td>night</td>\n",
       "    </tr>\n",
       "    <tr>\n",
       "      <th>1</th>\n",
       "      <td>2019-01-01 00:12:34</td>\n",
       "      <td>4956828990005111019</td>\n",
       "      <td>grocery_pos</td>\n",
       "      <td>44.71</td>\n",
       "      <td>M</td>\n",
       "      <td>40.6747</td>\n",
       "      <td>-74.2239</td>\n",
       "      <td>Operational researcher</td>\n",
       "      <td>1980-12-21</td>\n",
       "      <td>40.079588</td>\n",
       "      <td>-74.848087</td>\n",
       "      <td>0</td>\n",
       "      <td>-0.114637</td>\n",
       "      <td>-0.652060</td>\n",
       "      <td>0</td>\n",
       "      <td>night</td>\n",
       "    </tr>\n",
       "    <tr>\n",
       "      <th>2</th>\n",
       "      <td>2019-01-01 00:17:16</td>\n",
       "      <td>180048185037117</td>\n",
       "      <td>grocery_net</td>\n",
       "      <td>46.28</td>\n",
       "      <td>F</td>\n",
       "      <td>40.6152</td>\n",
       "      <td>-74.4150</td>\n",
       "      <td>Leisure centre manager</td>\n",
       "      <td>1974-07-19</td>\n",
       "      <td>40.021888</td>\n",
       "      <td>-74.228188</td>\n",
       "      <td>0</td>\n",
       "      <td>-0.361802</td>\n",
       "      <td>-0.723328</td>\n",
       "      <td>0</td>\n",
       "      <td>night</td>\n",
       "    </tr>\n",
       "    <tr>\n",
       "      <th>3</th>\n",
       "      <td>2019-01-01 00:20:15</td>\n",
       "      <td>374930071163758</td>\n",
       "      <td>grocery_pos</td>\n",
       "      <td>64.09</td>\n",
       "      <td>M</td>\n",
       "      <td>42.2203</td>\n",
       "      <td>-83.3583</td>\n",
       "      <td>Police officer</td>\n",
       "      <td>1971-11-05</td>\n",
       "      <td>42.360426</td>\n",
       "      <td>-83.552316</td>\n",
       "      <td>0</td>\n",
       "      <td>-0.001304</td>\n",
       "      <td>0.211780</td>\n",
       "      <td>0</td>\n",
       "      <td>night</td>\n",
       "    </tr>\n",
       "    <tr>\n",
       "      <th>4</th>\n",
       "      <td>2019-01-01 00:23:41</td>\n",
       "      <td>2712209726293386</td>\n",
       "      <td>misc_pos</td>\n",
       "      <td>25.58</td>\n",
       "      <td>F</td>\n",
       "      <td>30.4066</td>\n",
       "      <td>-91.1468</td>\n",
       "      <td>Designer, furniture</td>\n",
       "      <td>1977-02-22</td>\n",
       "      <td>29.737426</td>\n",
       "      <td>-90.853194</td>\n",
       "      <td>0</td>\n",
       "      <td>-0.393828</td>\n",
       "      <td>-0.575698</td>\n",
       "      <td>0</td>\n",
       "      <td>night</td>\n",
       "    </tr>\n",
       "  </tbody>\n",
       "</table>\n",
       "</div>"
      ],
      "text/plain": [
       "  trans_date_trans_time               cc_num     category     amt gender  \\\n",
       "0   2019-01-01 00:00:44         630423337322  grocery_pos  107.23      F   \n",
       "1   2019-01-01 00:12:34  4956828990005111019  grocery_pos   44.71      M   \n",
       "2   2019-01-01 00:17:16      180048185037117  grocery_net   46.28      F   \n",
       "3   2019-01-01 00:20:15      374930071163758  grocery_pos   64.09      M   \n",
       "4   2019-01-01 00:23:41     2712209726293386     misc_pos   25.58      F   \n",
       "\n",
       "       lat      long                                job         dob  \\\n",
       "0  48.8878 -118.2105  Special educational needs teacher  1978-06-21   \n",
       "1  40.6747  -74.2239             Operational researcher  1980-12-21   \n",
       "2  40.6152  -74.4150             Leisure centre manager  1974-07-19   \n",
       "3  42.2203  -83.3583                     Police officer  1971-11-05   \n",
       "4  30.4066  -91.1468                Designer, furniture  1977-02-22   \n",
       "\n",
       "   merch_lat  merch_long  is_fraud     amt_z  cat_amt_z  hour hour_cat  \n",
       "0  49.159047 -118.186462         0  0.321302   0.317631     0    night  \n",
       "1  40.079588  -74.848087         0 -0.114637  -0.652060     0    night  \n",
       "2  40.021888  -74.228188         0 -0.361802  -0.723328     0    night  \n",
       "3  42.360426  -83.552316         0 -0.001304   0.211780     0    night  \n",
       "4  29.737426  -90.853194         0 -0.393828  -0.575698     0    night  "
      ]
     },
     "execution_count": 34,
     "metadata": {},
     "output_type": "execute_result"
    }
   ],
   "source": [
    "df5.head()"
   ]
  },
  {
   "cell_type": "code",
   "execution_count": 35,
   "id": "0cfc58f2",
   "metadata": {},
   "outputs": [
    {
     "data": {
      "application/vnd.microsoft.datawrangler.viewer.v0+json": {
       "columns": [
        {
         "name": "index",
         "rawType": "int64",
         "type": "integer"
        },
        {
         "name": "trans_date_trans_time",
         "rawType": "datetime64[ns]",
         "type": "datetime"
        },
        {
         "name": "cc_num",
         "rawType": "int64",
         "type": "integer"
        },
        {
         "name": "category",
         "rawType": "object",
         "type": "string"
        },
        {
         "name": "amt",
         "rawType": "float64",
         "type": "float"
        },
        {
         "name": "gender",
         "rawType": "object",
         "type": "string"
        },
        {
         "name": "lat",
         "rawType": "float64",
         "type": "float"
        },
        {
         "name": "long",
         "rawType": "float64",
         "type": "float"
        },
        {
         "name": "job",
         "rawType": "object",
         "type": "string"
        },
        {
         "name": "dob",
         "rawType": "object",
         "type": "string"
        },
        {
         "name": "merch_lat",
         "rawType": "float64",
         "type": "float"
        },
        {
         "name": "merch_long",
         "rawType": "float64",
         "type": "float"
        },
        {
         "name": "is_fraud",
         "rawType": "int64",
         "type": "integer"
        },
        {
         "name": "amt_z",
         "rawType": "float64",
         "type": "float"
        },
        {
         "name": "cat_amt_z",
         "rawType": "float64",
         "type": "float"
        },
        {
         "name": "hour",
         "rawType": "int32",
         "type": "integer"
        },
        {
         "name": "hour_cat",
         "rawType": "object",
         "type": "string"
        }
       ],
       "ref": "ca44847c-2cf9-4b2e-b865-2e41c89eb5a3",
       "rows": [
        [
         "491129",
         "2020-12-31 23:56:48",
         "6011109736646996",
         "home",
         "134.26",
         "F",
         "34.2651",
         "-77.867",
         "English as a second language teacher",
         "1983-02-08",
         "34.853497",
         "-78.664158",
         "0",
         "0.36031114373214146",
         "1.4509796946976548",
         "23",
         "evening"
        ],
        [
         "491130",
         "2020-12-31 23:56:57",
         "213112402583773",
         "shopping_pos",
         "25.49",
         "F",
         "34.0326",
         "-82.2027",
         "Research scientist (physical sciences)",
         "1984-06-03",
         "35.008839",
         "-81.47515600000001",
         "0",
         "-0.17357662429673054",
         "-0.12887672569159933",
         "23",
         "evening"
        ],
        [
         "491131",
         "2020-12-31 23:59:09",
         "3556613125071656",
         "kids_pets",
         "111.84",
         "M",
         "29.0393",
         "-95.4401",
         "Futures trader",
         "1999-12-27",
         "29.661049",
         "-96.186633",
         "0",
         "0.36461928026026097",
         "1.1638223005880437",
         "23",
         "evening"
        ],
        [
         "491132",
         "2020-12-31 23:59:15",
         "6011724471098086",
         "kids_pets",
         "86.88",
         "F",
         "46.1966",
         "-118.9017",
         "Musician",
         "1981-11-29",
         "46.65834",
         "-119.715054",
         "0",
         "-0.015208968784478603",
         "0.44013706788368023",
         "23",
         "evening"
        ],
        [
         "491133",
         "2020-12-31 23:59:34",
         "4170689372027579",
         "entertainment",
         "38.13",
         "M",
         "35.6665",
         "-97.4798",
         "Media buyer",
         "1993-05-10",
         "36.210097",
         "-97.036372",
         "0",
         "-0.1525875796814908",
         "-0.38069775920385873",
         "23",
         "evening"
        ]
       ],
       "shape": {
        "columns": 16,
        "rows": 5
       }
      },
      "text/html": [
       "<div>\n",
       "<style scoped>\n",
       "    .dataframe tbody tr th:only-of-type {\n",
       "        vertical-align: middle;\n",
       "    }\n",
       "\n",
       "    .dataframe tbody tr th {\n",
       "        vertical-align: top;\n",
       "    }\n",
       "\n",
       "    .dataframe thead th {\n",
       "        text-align: right;\n",
       "    }\n",
       "</style>\n",
       "<table border=\"1\" class=\"dataframe\">\n",
       "  <thead>\n",
       "    <tr style=\"text-align: right;\">\n",
       "      <th></th>\n",
       "      <th>trans_date_trans_time</th>\n",
       "      <th>cc_num</th>\n",
       "      <th>category</th>\n",
       "      <th>amt</th>\n",
       "      <th>gender</th>\n",
       "      <th>lat</th>\n",
       "      <th>long</th>\n",
       "      <th>job</th>\n",
       "      <th>dob</th>\n",
       "      <th>merch_lat</th>\n",
       "      <th>merch_long</th>\n",
       "      <th>is_fraud</th>\n",
       "      <th>amt_z</th>\n",
       "      <th>cat_amt_z</th>\n",
       "      <th>hour</th>\n",
       "      <th>hour_cat</th>\n",
       "    </tr>\n",
       "  </thead>\n",
       "  <tbody>\n",
       "    <tr>\n",
       "      <th>491129</th>\n",
       "      <td>2020-12-31 23:56:48</td>\n",
       "      <td>6011109736646996</td>\n",
       "      <td>home</td>\n",
       "      <td>134.26</td>\n",
       "      <td>F</td>\n",
       "      <td>34.2651</td>\n",
       "      <td>-77.8670</td>\n",
       "      <td>English as a second language teacher</td>\n",
       "      <td>1983-02-08</td>\n",
       "      <td>34.853497</td>\n",
       "      <td>-78.664158</td>\n",
       "      <td>0</td>\n",
       "      <td>0.360311</td>\n",
       "      <td>1.450980</td>\n",
       "      <td>23</td>\n",
       "      <td>evening</td>\n",
       "    </tr>\n",
       "    <tr>\n",
       "      <th>491130</th>\n",
       "      <td>2020-12-31 23:56:57</td>\n",
       "      <td>213112402583773</td>\n",
       "      <td>shopping_pos</td>\n",
       "      <td>25.49</td>\n",
       "      <td>F</td>\n",
       "      <td>34.0326</td>\n",
       "      <td>-82.2027</td>\n",
       "      <td>Research scientist (physical sciences)</td>\n",
       "      <td>1984-06-03</td>\n",
       "      <td>35.008839</td>\n",
       "      <td>-81.475156</td>\n",
       "      <td>0</td>\n",
       "      <td>-0.173577</td>\n",
       "      <td>-0.128877</td>\n",
       "      <td>23</td>\n",
       "      <td>evening</td>\n",
       "    </tr>\n",
       "    <tr>\n",
       "      <th>491131</th>\n",
       "      <td>2020-12-31 23:59:09</td>\n",
       "      <td>3556613125071656</td>\n",
       "      <td>kids_pets</td>\n",
       "      <td>111.84</td>\n",
       "      <td>M</td>\n",
       "      <td>29.0393</td>\n",
       "      <td>-95.4401</td>\n",
       "      <td>Futures trader</td>\n",
       "      <td>1999-12-27</td>\n",
       "      <td>29.661049</td>\n",
       "      <td>-96.186633</td>\n",
       "      <td>0</td>\n",
       "      <td>0.364619</td>\n",
       "      <td>1.163822</td>\n",
       "      <td>23</td>\n",
       "      <td>evening</td>\n",
       "    </tr>\n",
       "    <tr>\n",
       "      <th>491132</th>\n",
       "      <td>2020-12-31 23:59:15</td>\n",
       "      <td>6011724471098086</td>\n",
       "      <td>kids_pets</td>\n",
       "      <td>86.88</td>\n",
       "      <td>F</td>\n",
       "      <td>46.1966</td>\n",
       "      <td>-118.9017</td>\n",
       "      <td>Musician</td>\n",
       "      <td>1981-11-29</td>\n",
       "      <td>46.658340</td>\n",
       "      <td>-119.715054</td>\n",
       "      <td>0</td>\n",
       "      <td>-0.015209</td>\n",
       "      <td>0.440137</td>\n",
       "      <td>23</td>\n",
       "      <td>evening</td>\n",
       "    </tr>\n",
       "    <tr>\n",
       "      <th>491133</th>\n",
       "      <td>2020-12-31 23:59:34</td>\n",
       "      <td>4170689372027579</td>\n",
       "      <td>entertainment</td>\n",
       "      <td>38.13</td>\n",
       "      <td>M</td>\n",
       "      <td>35.6665</td>\n",
       "      <td>-97.4798</td>\n",
       "      <td>Media buyer</td>\n",
       "      <td>1993-05-10</td>\n",
       "      <td>36.210097</td>\n",
       "      <td>-97.036372</td>\n",
       "      <td>0</td>\n",
       "      <td>-0.152588</td>\n",
       "      <td>-0.380698</td>\n",
       "      <td>23</td>\n",
       "      <td>evening</td>\n",
       "    </tr>\n",
       "  </tbody>\n",
       "</table>\n",
       "</div>"
      ],
      "text/plain": [
       "       trans_date_trans_time            cc_num       category     amt gender  \\\n",
       "491129   2020-12-31 23:56:48  6011109736646996           home  134.26      F   \n",
       "491130   2020-12-31 23:56:57   213112402583773   shopping_pos   25.49      F   \n",
       "491131   2020-12-31 23:59:09  3556613125071656      kids_pets  111.84      M   \n",
       "491132   2020-12-31 23:59:15  6011724471098086      kids_pets   86.88      F   \n",
       "491133   2020-12-31 23:59:34  4170689372027579  entertainment   38.13      M   \n",
       "\n",
       "            lat      long                                     job         dob  \\\n",
       "491129  34.2651  -77.8670    English as a second language teacher  1983-02-08   \n",
       "491130  34.0326  -82.2027  Research scientist (physical sciences)  1984-06-03   \n",
       "491131  29.0393  -95.4401                          Futures trader  1999-12-27   \n",
       "491132  46.1966 -118.9017                                Musician  1981-11-29   \n",
       "491133  35.6665  -97.4798                             Media buyer  1993-05-10   \n",
       "\n",
       "        merch_lat  merch_long  is_fraud     amt_z  cat_amt_z  hour hour_cat  \n",
       "491129  34.853497  -78.664158         0  0.360311   1.450980    23  evening  \n",
       "491130  35.008839  -81.475156         0 -0.173577  -0.128877    23  evening  \n",
       "491131  29.661049  -96.186633         0  0.364619   1.163822    23  evening  \n",
       "491132  46.658340 -119.715054         0 -0.015209   0.440137    23  evening  \n",
       "491133  36.210097  -97.036372         0 -0.152588  -0.380698    23  evening  "
      ]
     },
     "execution_count": 35,
     "metadata": {},
     "output_type": "execute_result"
    }
   ],
   "source": [
    "df5.tail()"
   ]
  },
  {
   "cell_type": "markdown",
   "id": "e58d0db5",
   "metadata": {},
   "source": [
    "- 시간대별 데이터 수 출력"
   ]
  },
  {
   "cell_type": "code",
   "execution_count": 36,
   "id": "d1d5245e",
   "metadata": {},
   "outputs": [
    {
     "data": {
      "application/vnd.microsoft.datawrangler.viewer.v0+json": {
       "columns": [
        {
         "name": "hour_cat",
         "rawType": "object",
         "type": "string"
        },
        {
         "name": "count",
         "rawType": "int64",
         "type": "integer"
        }
       ],
       "ref": "553d2913-0f00-44bb-b1ec-2c50551e5872",
       "rows": [
        [
         "afternoon",
         "176801"
        ],
        [
         "evening",
         "176251"
        ],
        [
         "night",
         "69108"
        ],
        [
         "morning",
         "68974"
        ]
       ],
       "shape": {
        "columns": 1,
        "rows": 4
       }
      },
      "text/plain": [
       "hour_cat\n",
       "afternoon    176801\n",
       "evening      176251\n",
       "night         69108\n",
       "morning       68974\n",
       "Name: count, dtype: int64"
      ]
     },
     "execution_count": 36,
     "metadata": {},
     "output_type": "execute_result"
    }
   ],
   "source": [
    "df5['hour_cat'].value_counts()"
   ]
  },
  {
   "cell_type": "markdown",
   "id": "e9302edc",
   "metadata": {},
   "source": [
    "- cc_num 컬럼의 값마다 amt 컬럼의 데이터 수를 계산하여 all_cnt 변수로 저장"
   ]
  },
  {
   "cell_type": "code",
   "execution_count": 37,
   "id": "e8459ee8",
   "metadata": {},
   "outputs": [
    {
     "data": {
      "application/vnd.microsoft.datawrangler.viewer.v0+json": {
       "columns": [
        {
         "name": "index",
         "rawType": "int64",
         "type": "integer"
        },
        {
         "name": "cc_num",
         "rawType": "int64",
         "type": "integer"
        },
        {
         "name": "amt",
         "rawType": "int64",
         "type": "integer"
        }
       ],
       "ref": "a1a08855-a23e-4329-8e46-9dea3d16a167",
       "rows": [
        [
         "0",
         "503874407318",
         "3655"
        ],
        [
         "1",
         "567868110212",
         "3644"
        ],
        [
         "2",
         "571365235126",
         "4374"
        ],
        [
         "3",
         "581686439828",
         "3653"
        ],
        [
         "4",
         "630423337322",
         "4362"
        ],
        [
         "5",
         "630424987505",
         "4376"
        ],
        [
         "6",
         "630451534402",
         "4374"
        ],
        [
         "7",
         "639023984367",
         "3650"
        ],
        [
         "8",
         "676372984911",
         "3649"
        ],
        [
         "9",
         "4464457352619",
         "3646"
        ],
        [
         "10",
         "4561546772499",
         "3650"
        ],
        [
         "11",
         "4681699462969",
         "3652"
        ],
        [
         "12",
         "4745996322265",
         "4384"
        ],
        [
         "13",
         "4755696071492",
         "3651"
        ],
        [
         "14",
         "4900628639996",
         "3650"
        ],
        [
         "15",
         "30044330818990",
         "3650"
        ],
        [
         "16",
         "30131826429364",
         "3653"
        ],
        [
         "17",
         "30199621383748",
         "3658"
        ],
        [
         "18",
         "30234966027947",
         "3649"
        ],
        [
         "19",
         "30235438713303",
         "3650"
        ],
        [
         "20",
         "30238755902988",
         "4369"
        ],
        [
         "21",
         "30270432095985",
         "4392"
        ],
        [
         "22",
         "30273037698427",
         "4375"
        ],
        [
         "23",
         "30551643947183",
         "3638"
        ],
        [
         "24",
         "36722699017270",
         "4383"
        ],
        [
         "25",
         "36913587729122",
         "3641"
        ],
        [
         "26",
         "38052002992326",
         "3655"
        ],
        [
         "27",
         "180031190491743",
         "3655"
        ],
        [
         "28",
         "180036456789979",
         "3655"
        ],
        [
         "29",
         "180048185037117",
         "4382"
        ],
        [
         "30",
         "180094419304907",
         "4378"
        ],
        [
         "31",
         "213112402583773",
         "4380"
        ],
        [
         "32",
         "213141712584544",
         "4371"
        ],
        [
         "33",
         "213156747557083",
         "3648"
        ],
        [
         "34",
         "213157767990030",
         "3643"
        ],
        [
         "35",
         "340953839692349",
         "3648"
        ],
        [
         "36",
         "342952484382519",
         "4382"
        ],
        [
         "37",
         "344709867813900",
         "4385"
        ],
        [
         "38",
         "345933964507467",
         "4378"
        ],
        [
         "39",
         "346273234529002",
         "3645"
        ],
        [
         "40",
         "370877495212014",
         "3644"
        ],
        [
         "41",
         "371226440126102",
         "3646"
        ],
        [
         "42",
         "372509258176510",
         "4379"
        ],
        [
         "43",
         "372520049757633",
         "4376"
        ],
        [
         "44",
         "373905417449658",
         "3648"
        ],
        [
         "45",
         "374930071163758",
         "3647"
        ],
        [
         "46",
         "376445266762684",
         "4378"
        ],
        [
         "47",
         "377026671291680",
         "3654"
        ],
        [
         "48",
         "2242542703101233",
         "4377"
        ],
        [
         "49",
         "2254917871818484",
         "3652"
        ]
       ],
       "shape": {
        "columns": 2,
        "rows": 124
       }
      },
      "text/html": [
       "<div>\n",
       "<style scoped>\n",
       "    .dataframe tbody tr th:only-of-type {\n",
       "        vertical-align: middle;\n",
       "    }\n",
       "\n",
       "    .dataframe tbody tr th {\n",
       "        vertical-align: top;\n",
       "    }\n",
       "\n",
       "    .dataframe thead th {\n",
       "        text-align: right;\n",
       "    }\n",
       "</style>\n",
       "<table border=\"1\" class=\"dataframe\">\n",
       "  <thead>\n",
       "    <tr style=\"text-align: right;\">\n",
       "      <th></th>\n",
       "      <th>cc_num</th>\n",
       "      <th>amt</th>\n",
       "    </tr>\n",
       "  </thead>\n",
       "  <tbody>\n",
       "    <tr>\n",
       "      <th>0</th>\n",
       "      <td>503874407318</td>\n",
       "      <td>3655</td>\n",
       "    </tr>\n",
       "    <tr>\n",
       "      <th>1</th>\n",
       "      <td>567868110212</td>\n",
       "      <td>3644</td>\n",
       "    </tr>\n",
       "    <tr>\n",
       "      <th>2</th>\n",
       "      <td>571365235126</td>\n",
       "      <td>4374</td>\n",
       "    </tr>\n",
       "    <tr>\n",
       "      <th>3</th>\n",
       "      <td>581686439828</td>\n",
       "      <td>3653</td>\n",
       "    </tr>\n",
       "    <tr>\n",
       "      <th>4</th>\n",
       "      <td>630423337322</td>\n",
       "      <td>4362</td>\n",
       "    </tr>\n",
       "    <tr>\n",
       "      <th>...</th>\n",
       "      <td>...</td>\n",
       "      <td>...</td>\n",
       "    </tr>\n",
       "    <tr>\n",
       "      <th>119</th>\n",
       "      <td>4792627764422477317</td>\n",
       "      <td>4357</td>\n",
       "    </tr>\n",
       "    <tr>\n",
       "      <th>120</th>\n",
       "      <td>4797297220948468262</td>\n",
       "      <td>3653</td>\n",
       "    </tr>\n",
       "    <tr>\n",
       "      <th>121</th>\n",
       "      <td>4861310130652566408</td>\n",
       "      <td>3643</td>\n",
       "    </tr>\n",
       "    <tr>\n",
       "      <th>122</th>\n",
       "      <td>4906628655840914250</td>\n",
       "      <td>3655</td>\n",
       "    </tr>\n",
       "    <tr>\n",
       "      <th>123</th>\n",
       "      <td>4956828990005111019</td>\n",
       "      <td>3657</td>\n",
       "    </tr>\n",
       "  </tbody>\n",
       "</table>\n",
       "<p>124 rows × 2 columns</p>\n",
       "</div>"
      ],
      "text/plain": [
       "                  cc_num   amt\n",
       "0           503874407318  3655\n",
       "1           567868110212  3644\n",
       "2           571365235126  4374\n",
       "3           581686439828  3653\n",
       "4           630423337322  4362\n",
       "..                   ...   ...\n",
       "119  4792627764422477317  4357\n",
       "120  4797297220948468262  3653\n",
       "121  4861310130652566408  3643\n",
       "122  4906628655840914250  3655\n",
       "123  4956828990005111019  3657\n",
       "\n",
       "[124 rows x 2 columns]"
      ]
     },
     "execution_count": 37,
     "metadata": {},
     "output_type": "execute_result"
    }
   ],
   "source": [
    "all_cnt = df5.groupby(by='cc_num', as_index=False)['amt'].count()\n",
    "all_cnt"
   ]
  },
  {
   "cell_type": "markdown",
   "id": "ea9a49b8",
   "metadata": {},
   "source": [
    "- cc_num, hour_cat 컬럼의 값마다 amt 컬럼의 데이터 수를 계산하여 hour_cnt 변수로 저장"
   ]
  },
  {
   "cell_type": "code",
   "execution_count": 38,
   "id": "aed2995d",
   "metadata": {},
   "outputs": [
    {
     "data": {
      "application/vnd.microsoft.datawrangler.viewer.v0+json": {
       "columns": [
        {
         "name": "index",
         "rawType": "int64",
         "type": "integer"
        },
        {
         "name": "cc_num",
         "rawType": "int64",
         "type": "integer"
        },
        {
         "name": "hour_cat",
         "rawType": "object",
         "type": "string"
        },
        {
         "name": "amt",
         "rawType": "int64",
         "type": "integer"
        }
       ],
       "ref": "c65dd471-2443-4dd9-9692-e7a68dc481a3",
       "rows": [
        [
         "0",
         "503874407318",
         "afternoon",
         "1280"
        ],
        [
         "1",
         "503874407318",
         "evening",
         "1308"
        ],
        [
         "2",
         "503874407318",
         "morning",
         "558"
        ],
        [
         "3",
         "503874407318",
         "night",
         "509"
        ],
        [
         "4",
         "567868110212",
         "afternoon",
         "1228"
        ],
        [
         "5",
         "567868110212",
         "evening",
         "1301"
        ],
        [
         "6",
         "567868110212",
         "morning",
         "529"
        ],
        [
         "7",
         "567868110212",
         "night",
         "586"
        ],
        [
         "8",
         "571365235126",
         "afternoon",
         "1523"
        ],
        [
         "9",
         "571365235126",
         "evening",
         "1523"
        ],
        [
         "10",
         "571365235126",
         "morning",
         "651"
        ],
        [
         "11",
         "571365235126",
         "night",
         "677"
        ],
        [
         "12",
         "581686439828",
         "afternoon",
         "1228"
        ],
        [
         "13",
         "581686439828",
         "evening",
         "1345"
        ],
        [
         "14",
         "581686439828",
         "morning",
         "543"
        ],
        [
         "15",
         "581686439828",
         "night",
         "537"
        ],
        [
         "16",
         "630423337322",
         "afternoon",
         "1576"
        ],
        [
         "17",
         "630423337322",
         "evening",
         "1522"
        ],
        [
         "18",
         "630423337322",
         "morning",
         "645"
        ],
        [
         "19",
         "630423337322",
         "night",
         "619"
        ],
        [
         "20",
         "630424987505",
         "afternoon",
         "1516"
        ],
        [
         "21",
         "630424987505",
         "evening",
         "1509"
        ],
        [
         "22",
         "630424987505",
         "morning",
         "686"
        ],
        [
         "23",
         "630424987505",
         "night",
         "665"
        ],
        [
         "24",
         "630451534402",
         "afternoon",
         "1521"
        ],
        [
         "25",
         "630451534402",
         "evening",
         "1592"
        ],
        [
         "26",
         "630451534402",
         "morning",
         "614"
        ],
        [
         "27",
         "630451534402",
         "night",
         "647"
        ],
        [
         "28",
         "639023984367",
         "afternoon",
         "1216"
        ],
        [
         "29",
         "639023984367",
         "evening",
         "1303"
        ],
        [
         "30",
         "639023984367",
         "morning",
         "540"
        ],
        [
         "31",
         "639023984367",
         "night",
         "591"
        ],
        [
         "32",
         "676372984911",
         "afternoon",
         "1287"
        ],
        [
         "33",
         "676372984911",
         "evening",
         "1264"
        ],
        [
         "34",
         "676372984911",
         "morning",
         "541"
        ],
        [
         "35",
         "676372984911",
         "night",
         "557"
        ],
        [
         "36",
         "4464457352619",
         "afternoon",
         "1285"
        ],
        [
         "37",
         "4464457352619",
         "evening",
         "1274"
        ],
        [
         "38",
         "4464457352619",
         "morning",
         "518"
        ],
        [
         "39",
         "4464457352619",
         "night",
         "569"
        ],
        [
         "40",
         "4561546772499",
         "afternoon",
         "1305"
        ],
        [
         "41",
         "4561546772499",
         "evening",
         "1270"
        ],
        [
         "42",
         "4561546772499",
         "morning",
         "534"
        ],
        [
         "43",
         "4561546772499",
         "night",
         "541"
        ],
        [
         "44",
         "4681699462969",
         "afternoon",
         "1273"
        ],
        [
         "45",
         "4681699462969",
         "evening",
         "1280"
        ],
        [
         "46",
         "4681699462969",
         "morning",
         "550"
        ],
        [
         "47",
         "4681699462969",
         "night",
         "549"
        ],
        [
         "48",
         "4745996322265",
         "afternoon",
         "1770"
        ],
        [
         "49",
         "4745996322265",
         "evening",
         "1703"
        ]
       ],
       "shape": {
        "columns": 3,
        "rows": 496
       }
      },
      "text/html": [
       "<div>\n",
       "<style scoped>\n",
       "    .dataframe tbody tr th:only-of-type {\n",
       "        vertical-align: middle;\n",
       "    }\n",
       "\n",
       "    .dataframe tbody tr th {\n",
       "        vertical-align: top;\n",
       "    }\n",
       "\n",
       "    .dataframe thead th {\n",
       "        text-align: right;\n",
       "    }\n",
       "</style>\n",
       "<table border=\"1\" class=\"dataframe\">\n",
       "  <thead>\n",
       "    <tr style=\"text-align: right;\">\n",
       "      <th></th>\n",
       "      <th>cc_num</th>\n",
       "      <th>hour_cat</th>\n",
       "      <th>amt</th>\n",
       "    </tr>\n",
       "  </thead>\n",
       "  <tbody>\n",
       "    <tr>\n",
       "      <th>0</th>\n",
       "      <td>503874407318</td>\n",
       "      <td>afternoon</td>\n",
       "      <td>1280</td>\n",
       "    </tr>\n",
       "    <tr>\n",
       "      <th>1</th>\n",
       "      <td>503874407318</td>\n",
       "      <td>evening</td>\n",
       "      <td>1308</td>\n",
       "    </tr>\n",
       "    <tr>\n",
       "      <th>2</th>\n",
       "      <td>503874407318</td>\n",
       "      <td>morning</td>\n",
       "      <td>558</td>\n",
       "    </tr>\n",
       "    <tr>\n",
       "      <th>3</th>\n",
       "      <td>503874407318</td>\n",
       "      <td>night</td>\n",
       "      <td>509</td>\n",
       "    </tr>\n",
       "    <tr>\n",
       "      <th>4</th>\n",
       "      <td>567868110212</td>\n",
       "      <td>afternoon</td>\n",
       "      <td>1228</td>\n",
       "    </tr>\n",
       "    <tr>\n",
       "      <th>...</th>\n",
       "      <td>...</td>\n",
       "      <td>...</td>\n",
       "      <td>...</td>\n",
       "    </tr>\n",
       "    <tr>\n",
       "      <th>491</th>\n",
       "      <td>4906628655840914250</td>\n",
       "      <td>night</td>\n",
       "      <td>577</td>\n",
       "    </tr>\n",
       "    <tr>\n",
       "      <th>492</th>\n",
       "      <td>4956828990005111019</td>\n",
       "      <td>afternoon</td>\n",
       "      <td>1277</td>\n",
       "    </tr>\n",
       "    <tr>\n",
       "      <th>493</th>\n",
       "      <td>4956828990005111019</td>\n",
       "      <td>evening</td>\n",
       "      <td>1271</td>\n",
       "    </tr>\n",
       "    <tr>\n",
       "      <th>494</th>\n",
       "      <td>4956828990005111019</td>\n",
       "      <td>morning</td>\n",
       "      <td>558</td>\n",
       "    </tr>\n",
       "    <tr>\n",
       "      <th>495</th>\n",
       "      <td>4956828990005111019</td>\n",
       "      <td>night</td>\n",
       "      <td>551</td>\n",
       "    </tr>\n",
       "  </tbody>\n",
       "</table>\n",
       "<p>496 rows × 3 columns</p>\n",
       "</div>"
      ],
      "text/plain": [
       "                  cc_num   hour_cat   amt\n",
       "0           503874407318  afternoon  1280\n",
       "1           503874407318    evening  1308\n",
       "2           503874407318    morning   558\n",
       "3           503874407318      night   509\n",
       "4           567868110212  afternoon  1228\n",
       "..                   ...        ...   ...\n",
       "491  4906628655840914250      night   577\n",
       "492  4956828990005111019  afternoon  1277\n",
       "493  4956828990005111019    evening  1271\n",
       "494  4956828990005111019    morning   558\n",
       "495  4956828990005111019      night   551\n",
       "\n",
       "[496 rows x 3 columns]"
      ]
     },
     "execution_count": 38,
     "metadata": {},
     "output_type": "execute_result"
    }
   ],
   "source": [
    "hour_cnt = df5.groupby(by=['cc_num', 'hour_cat'], as_index=False)['amt'].count()\n",
    "hour_cnt"
   ]
  },
  {
   "cell_type": "markdown",
   "id": "7c5af149",
   "metadata": {},
   "source": [
    "- cc_num 컬럼을 기준으로 hour_cnt 데이터프레임과 all_cnt 데이터프레임 합치기"
   ]
  },
  {
   "cell_type": "code",
   "execution_count": 39,
   "id": "c3d807f7",
   "metadata": {},
   "outputs": [],
   "source": [
    "merge_cnt = pd.merge(hour_cnt, all_cnt, how='left', on='cc_num')"
   ]
  },
  {
   "cell_type": "code",
   "execution_count": 40,
   "id": "22c326f6",
   "metadata": {},
   "outputs": [
    {
     "data": {
      "application/vnd.microsoft.datawrangler.viewer.v0+json": {
       "columns": [
        {
         "name": "index",
         "rawType": "int64",
         "type": "integer"
        },
        {
         "name": "cc_num",
         "rawType": "int64",
         "type": "integer"
        },
        {
         "name": "hour_cat",
         "rawType": "object",
         "type": "string"
        },
        {
         "name": "amt_x",
         "rawType": "int64",
         "type": "integer"
        },
        {
         "name": "amt_y",
         "rawType": "int64",
         "type": "integer"
        }
       ],
       "ref": "7a7382f8-8ebe-45e3-ba19-fb5e80a9f165",
       "rows": [
        [
         "0",
         "503874407318",
         "afternoon",
         "1280",
         "3655"
        ],
        [
         "1",
         "503874407318",
         "evening",
         "1308",
         "3655"
        ],
        [
         "2",
         "503874407318",
         "morning",
         "558",
         "3655"
        ],
        [
         "3",
         "503874407318",
         "night",
         "509",
         "3655"
        ],
        [
         "4",
         "567868110212",
         "afternoon",
         "1228",
         "3644"
        ]
       ],
       "shape": {
        "columns": 4,
        "rows": 5
       }
      },
      "text/html": [
       "<div>\n",
       "<style scoped>\n",
       "    .dataframe tbody tr th:only-of-type {\n",
       "        vertical-align: middle;\n",
       "    }\n",
       "\n",
       "    .dataframe tbody tr th {\n",
       "        vertical-align: top;\n",
       "    }\n",
       "\n",
       "    .dataframe thead th {\n",
       "        text-align: right;\n",
       "    }\n",
       "</style>\n",
       "<table border=\"1\" class=\"dataframe\">\n",
       "  <thead>\n",
       "    <tr style=\"text-align: right;\">\n",
       "      <th></th>\n",
       "      <th>cc_num</th>\n",
       "      <th>hour_cat</th>\n",
       "      <th>amt_x</th>\n",
       "      <th>amt_y</th>\n",
       "    </tr>\n",
       "  </thead>\n",
       "  <tbody>\n",
       "    <tr>\n",
       "      <th>0</th>\n",
       "      <td>503874407318</td>\n",
       "      <td>afternoon</td>\n",
       "      <td>1280</td>\n",
       "      <td>3655</td>\n",
       "    </tr>\n",
       "    <tr>\n",
       "      <th>1</th>\n",
       "      <td>503874407318</td>\n",
       "      <td>evening</td>\n",
       "      <td>1308</td>\n",
       "      <td>3655</td>\n",
       "    </tr>\n",
       "    <tr>\n",
       "      <th>2</th>\n",
       "      <td>503874407318</td>\n",
       "      <td>morning</td>\n",
       "      <td>558</td>\n",
       "      <td>3655</td>\n",
       "    </tr>\n",
       "    <tr>\n",
       "      <th>3</th>\n",
       "      <td>503874407318</td>\n",
       "      <td>night</td>\n",
       "      <td>509</td>\n",
       "      <td>3655</td>\n",
       "    </tr>\n",
       "    <tr>\n",
       "      <th>4</th>\n",
       "      <td>567868110212</td>\n",
       "      <td>afternoon</td>\n",
       "      <td>1228</td>\n",
       "      <td>3644</td>\n",
       "    </tr>\n",
       "  </tbody>\n",
       "</table>\n",
       "</div>"
      ],
      "text/plain": [
       "         cc_num   hour_cat  amt_x  amt_y\n",
       "0  503874407318  afternoon   1280   3655\n",
       "1  503874407318    evening   1308   3655\n",
       "2  503874407318    morning    558   3655\n",
       "3  503874407318      night    509   3655\n",
       "4  567868110212  afternoon   1228   3644"
      ]
     },
     "execution_count": 40,
     "metadata": {},
     "output_type": "execute_result"
    }
   ],
   "source": [
    "merge_cnt.head()"
   ]
  },
  {
   "cell_type": "markdown",
   "id": "bcf16790",
   "metadata": {},
   "source": [
    "- amt_x, amt_y 컬럼명 변경 --> hour_cnt, total_cnt"
   ]
  },
  {
   "cell_type": "code",
   "execution_count": 41,
   "id": "6bdb7fea",
   "metadata": {},
   "outputs": [],
   "source": [
    "merge_cnt = merge_cnt.rename({'amt_x':'hour_cnt', 'amt_y':'total_cnt'}, axis=1)"
   ]
  },
  {
   "cell_type": "code",
   "execution_count": 42,
   "id": "33386b54",
   "metadata": {},
   "outputs": [
    {
     "data": {
      "application/vnd.microsoft.datawrangler.viewer.v0+json": {
       "columns": [
        {
         "name": "index",
         "rawType": "int64",
         "type": "integer"
        },
        {
         "name": "cc_num",
         "rawType": "int64",
         "type": "integer"
        },
        {
         "name": "hour_cat",
         "rawType": "object",
         "type": "string"
        },
        {
         "name": "hour_cnt",
         "rawType": "int64",
         "type": "integer"
        },
        {
         "name": "total_cnt",
         "rawType": "int64",
         "type": "integer"
        }
       ],
       "ref": "38c61333-0246-4b4a-bb1a-c7d5b0f5dce0",
       "rows": [
        [
         "0",
         "503874407318",
         "afternoon",
         "1280",
         "3655"
        ],
        [
         "1",
         "503874407318",
         "evening",
         "1308",
         "3655"
        ],
        [
         "2",
         "503874407318",
         "morning",
         "558",
         "3655"
        ],
        [
         "3",
         "503874407318",
         "night",
         "509",
         "3655"
        ],
        [
         "4",
         "567868110212",
         "afternoon",
         "1228",
         "3644"
        ],
        [
         "5",
         "567868110212",
         "evening",
         "1301",
         "3644"
        ],
        [
         "6",
         "567868110212",
         "morning",
         "529",
         "3644"
        ],
        [
         "7",
         "567868110212",
         "night",
         "586",
         "3644"
        ],
        [
         "8",
         "571365235126",
         "afternoon",
         "1523",
         "4374"
        ],
        [
         "9",
         "571365235126",
         "evening",
         "1523",
         "4374"
        ]
       ],
       "shape": {
        "columns": 4,
        "rows": 10
       }
      },
      "text/html": [
       "<div>\n",
       "<style scoped>\n",
       "    .dataframe tbody tr th:only-of-type {\n",
       "        vertical-align: middle;\n",
       "    }\n",
       "\n",
       "    .dataframe tbody tr th {\n",
       "        vertical-align: top;\n",
       "    }\n",
       "\n",
       "    .dataframe thead th {\n",
       "        text-align: right;\n",
       "    }\n",
       "</style>\n",
       "<table border=\"1\" class=\"dataframe\">\n",
       "  <thead>\n",
       "    <tr style=\"text-align: right;\">\n",
       "      <th></th>\n",
       "      <th>cc_num</th>\n",
       "      <th>hour_cat</th>\n",
       "      <th>hour_cnt</th>\n",
       "      <th>total_cnt</th>\n",
       "    </tr>\n",
       "  </thead>\n",
       "  <tbody>\n",
       "    <tr>\n",
       "      <th>0</th>\n",
       "      <td>503874407318</td>\n",
       "      <td>afternoon</td>\n",
       "      <td>1280</td>\n",
       "      <td>3655</td>\n",
       "    </tr>\n",
       "    <tr>\n",
       "      <th>1</th>\n",
       "      <td>503874407318</td>\n",
       "      <td>evening</td>\n",
       "      <td>1308</td>\n",
       "      <td>3655</td>\n",
       "    </tr>\n",
       "    <tr>\n",
       "      <th>2</th>\n",
       "      <td>503874407318</td>\n",
       "      <td>morning</td>\n",
       "      <td>558</td>\n",
       "      <td>3655</td>\n",
       "    </tr>\n",
       "    <tr>\n",
       "      <th>3</th>\n",
       "      <td>503874407318</td>\n",
       "      <td>night</td>\n",
       "      <td>509</td>\n",
       "      <td>3655</td>\n",
       "    </tr>\n",
       "    <tr>\n",
       "      <th>4</th>\n",
       "      <td>567868110212</td>\n",
       "      <td>afternoon</td>\n",
       "      <td>1228</td>\n",
       "      <td>3644</td>\n",
       "    </tr>\n",
       "    <tr>\n",
       "      <th>5</th>\n",
       "      <td>567868110212</td>\n",
       "      <td>evening</td>\n",
       "      <td>1301</td>\n",
       "      <td>3644</td>\n",
       "    </tr>\n",
       "    <tr>\n",
       "      <th>6</th>\n",
       "      <td>567868110212</td>\n",
       "      <td>morning</td>\n",
       "      <td>529</td>\n",
       "      <td>3644</td>\n",
       "    </tr>\n",
       "    <tr>\n",
       "      <th>7</th>\n",
       "      <td>567868110212</td>\n",
       "      <td>night</td>\n",
       "      <td>586</td>\n",
       "      <td>3644</td>\n",
       "    </tr>\n",
       "    <tr>\n",
       "      <th>8</th>\n",
       "      <td>571365235126</td>\n",
       "      <td>afternoon</td>\n",
       "      <td>1523</td>\n",
       "      <td>4374</td>\n",
       "    </tr>\n",
       "    <tr>\n",
       "      <th>9</th>\n",
       "      <td>571365235126</td>\n",
       "      <td>evening</td>\n",
       "      <td>1523</td>\n",
       "      <td>4374</td>\n",
       "    </tr>\n",
       "  </tbody>\n",
       "</table>\n",
       "</div>"
      ],
      "text/plain": [
       "         cc_num   hour_cat  hour_cnt  total_cnt\n",
       "0  503874407318  afternoon      1280       3655\n",
       "1  503874407318    evening      1308       3655\n",
       "2  503874407318    morning       558       3655\n",
       "3  503874407318      night       509       3655\n",
       "4  567868110212  afternoon      1228       3644\n",
       "5  567868110212    evening      1301       3644\n",
       "6  567868110212    morning       529       3644\n",
       "7  567868110212      night       586       3644\n",
       "8  571365235126  afternoon      1523       4374\n",
       "9  571365235126    evening      1523       4374"
      ]
     },
     "execution_count": 42,
     "metadata": {},
     "output_type": "execute_result"
    }
   ],
   "source": [
    "merge_cnt.head(10)"
   ]
  },
  {
   "cell_type": "markdown",
   "id": "66ba2903",
   "metadata": {},
   "source": [
    "- 전체 거래 건수(total_cnt)에 대한 시간대별 거래 건수(hour_cnt)의 비율을 계산하여 hour_perc 컬럼에 저장"
   ]
  },
  {
   "cell_type": "code",
   "execution_count": 43,
   "id": "de52ef5a",
   "metadata": {},
   "outputs": [
    {
     "data": {
      "application/vnd.microsoft.datawrangler.viewer.v0+json": {
       "columns": [
        {
         "name": "index",
         "rawType": "int64",
         "type": "integer"
        },
        {
         "name": "cc_num",
         "rawType": "int64",
         "type": "integer"
        },
        {
         "name": "hour_cat",
         "rawType": "object",
         "type": "string"
        },
        {
         "name": "hour_cnt",
         "rawType": "int64",
         "type": "integer"
        },
        {
         "name": "total_cnt",
         "rawType": "int64",
         "type": "integer"
        },
        {
         "name": "hour_perc",
         "rawType": "float64",
         "type": "float"
        }
       ],
       "ref": "c83c243f-1e29-4c41-b4d9-5a01d6f34eab",
       "rows": [
        [
         "0",
         "503874407318",
         "afternoon",
         "1280",
         "3655",
         "35.02051983584131"
        ],
        [
         "1",
         "503874407318",
         "evening",
         "1308",
         "3655",
         "35.78659370725034"
        ],
        [
         "2",
         "503874407318",
         "morning",
         "558",
         "3655",
         "15.266757865937072"
        ],
        [
         "3",
         "503874407318",
         "night",
         "509",
         "3655",
         "13.926128590971274"
        ],
        [
         "4",
         "567868110212",
         "afternoon",
         "1228",
         "3644",
         "33.69923161361142"
        ],
        [
         "5",
         "567868110212",
         "evening",
         "1301",
         "3644",
         "35.70252469813392"
        ],
        [
         "6",
         "567868110212",
         "morning",
         "529",
         "3644",
         "14.517014270032929"
        ],
        [
         "7",
         "567868110212",
         "night",
         "586",
         "3644",
         "16.081229418221735"
        ],
        [
         "8",
         "571365235126",
         "afternoon",
         "1523",
         "4374",
         "34.81938728852309"
        ],
        [
         "9",
         "571365235126",
         "evening",
         "1523",
         "4374",
         "34.81938728852309"
        ]
       ],
       "shape": {
        "columns": 5,
        "rows": 10
       }
      },
      "text/html": [
       "<div>\n",
       "<style scoped>\n",
       "    .dataframe tbody tr th:only-of-type {\n",
       "        vertical-align: middle;\n",
       "    }\n",
       "\n",
       "    .dataframe tbody tr th {\n",
       "        vertical-align: top;\n",
       "    }\n",
       "\n",
       "    .dataframe thead th {\n",
       "        text-align: right;\n",
       "    }\n",
       "</style>\n",
       "<table border=\"1\" class=\"dataframe\">\n",
       "  <thead>\n",
       "    <tr style=\"text-align: right;\">\n",
       "      <th></th>\n",
       "      <th>cc_num</th>\n",
       "      <th>hour_cat</th>\n",
       "      <th>hour_cnt</th>\n",
       "      <th>total_cnt</th>\n",
       "      <th>hour_perc</th>\n",
       "    </tr>\n",
       "  </thead>\n",
       "  <tbody>\n",
       "    <tr>\n",
       "      <th>0</th>\n",
       "      <td>503874407318</td>\n",
       "      <td>afternoon</td>\n",
       "      <td>1280</td>\n",
       "      <td>3655</td>\n",
       "      <td>35.020520</td>\n",
       "    </tr>\n",
       "    <tr>\n",
       "      <th>1</th>\n",
       "      <td>503874407318</td>\n",
       "      <td>evening</td>\n",
       "      <td>1308</td>\n",
       "      <td>3655</td>\n",
       "      <td>35.786594</td>\n",
       "    </tr>\n",
       "    <tr>\n",
       "      <th>2</th>\n",
       "      <td>503874407318</td>\n",
       "      <td>morning</td>\n",
       "      <td>558</td>\n",
       "      <td>3655</td>\n",
       "      <td>15.266758</td>\n",
       "    </tr>\n",
       "    <tr>\n",
       "      <th>3</th>\n",
       "      <td>503874407318</td>\n",
       "      <td>night</td>\n",
       "      <td>509</td>\n",
       "      <td>3655</td>\n",
       "      <td>13.926129</td>\n",
       "    </tr>\n",
       "    <tr>\n",
       "      <th>4</th>\n",
       "      <td>567868110212</td>\n",
       "      <td>afternoon</td>\n",
       "      <td>1228</td>\n",
       "      <td>3644</td>\n",
       "      <td>33.699232</td>\n",
       "    </tr>\n",
       "    <tr>\n",
       "      <th>5</th>\n",
       "      <td>567868110212</td>\n",
       "      <td>evening</td>\n",
       "      <td>1301</td>\n",
       "      <td>3644</td>\n",
       "      <td>35.702525</td>\n",
       "    </tr>\n",
       "    <tr>\n",
       "      <th>6</th>\n",
       "      <td>567868110212</td>\n",
       "      <td>morning</td>\n",
       "      <td>529</td>\n",
       "      <td>3644</td>\n",
       "      <td>14.517014</td>\n",
       "    </tr>\n",
       "    <tr>\n",
       "      <th>7</th>\n",
       "      <td>567868110212</td>\n",
       "      <td>night</td>\n",
       "      <td>586</td>\n",
       "      <td>3644</td>\n",
       "      <td>16.081229</td>\n",
       "    </tr>\n",
       "    <tr>\n",
       "      <th>8</th>\n",
       "      <td>571365235126</td>\n",
       "      <td>afternoon</td>\n",
       "      <td>1523</td>\n",
       "      <td>4374</td>\n",
       "      <td>34.819387</td>\n",
       "    </tr>\n",
       "    <tr>\n",
       "      <th>9</th>\n",
       "      <td>571365235126</td>\n",
       "      <td>evening</td>\n",
       "      <td>1523</td>\n",
       "      <td>4374</td>\n",
       "      <td>34.819387</td>\n",
       "    </tr>\n",
       "  </tbody>\n",
       "</table>\n",
       "</div>"
      ],
      "text/plain": [
       "         cc_num   hour_cat  hour_cnt  total_cnt  hour_perc\n",
       "0  503874407318  afternoon      1280       3655  35.020520\n",
       "1  503874407318    evening      1308       3655  35.786594\n",
       "2  503874407318    morning       558       3655  15.266758\n",
       "3  503874407318      night       509       3655  13.926129\n",
       "4  567868110212  afternoon      1228       3644  33.699232\n",
       "5  567868110212    evening      1301       3644  35.702525\n",
       "6  567868110212    morning       529       3644  14.517014\n",
       "7  567868110212      night       586       3644  16.081229\n",
       "8  571365235126  afternoon      1523       4374  34.819387\n",
       "9  571365235126    evening      1523       4374  34.819387"
      ]
     },
     "execution_count": 43,
     "metadata": {},
     "output_type": "execute_result"
    }
   ],
   "source": [
    "merge_cnt['hour_perc'] = merge_cnt['hour_cnt'] / merge_cnt['total_cnt'] * 100\n",
    "merge_cnt.head(10)"
   ]
  },
  {
   "cell_type": "code",
   "execution_count": 44,
   "id": "f23ecb48",
   "metadata": {},
   "outputs": [],
   "source": [
    "merge_cnt = merge_cnt[['cc_num', 'hour_cat', 'hour_perc']]"
   ]
  },
  {
   "cell_type": "code",
   "execution_count": 45,
   "id": "628e3f8d",
   "metadata": {},
   "outputs": [],
   "source": [
    "merge_cnt.to_pickle('./data/fraud_hour_cnt.pkl')"
   ]
  },
  {
   "cell_type": "markdown",
   "id": "11e2640c",
   "metadata": {},
   "source": [
    "- cc_num, hour_cat 컬럼을 기준으로 정제 중인 데이터프레임과 시간대별 데이터프레임 합치기"
   ]
  },
  {
   "cell_type": "code",
   "execution_count": 46,
   "id": "d50925b5",
   "metadata": {},
   "outputs": [],
   "source": [
    "df6 = pd.merge(df5, merge_cnt, how='left', on=['cc_num', 'hour_cat'])"
   ]
  },
  {
   "cell_type": "markdown",
   "id": "9486a78c",
   "metadata": {},
   "source": [
    "- 불필요 컬럼 제거"
   ]
  },
  {
   "cell_type": "code",
   "execution_count": 47,
   "id": "9875817d",
   "metadata": {},
   "outputs": [],
   "source": [
    "## hour_cat을 지워야 할까...?\n",
    "\n",
    "df6 = df6.drop(['trans_date_trans_time', 'hour', 'hour_cat'], axis=1)"
   ]
  },
  {
   "cell_type": "markdown",
   "id": "acc239c5",
   "metadata": {},
   "source": [
    "### 거리 관련 분석"
   ]
  },
  {
   "cell_type": "code",
   "execution_count": 48,
   "id": "660e2325",
   "metadata": {},
   "outputs": [],
   "source": [
    "from geopy.distance import distance"
   ]
  },
  {
   "cell_type": "code",
   "execution_count": 49,
   "id": "d4214a11",
   "metadata": {},
   "outputs": [],
   "source": [
    "df7 = df6.copy()"
   ]
  },
  {
   "cell_type": "markdown",
   "id": "3a02433c",
   "metadata": {},
   "source": [
    "- 고객의 위치와 상점의 위치 간의 거리를 계산하여 distance 컬럼에 저장"
   ]
  },
  {
   "cell_type": "code",
   "execution_count": 50,
   "id": "6379b6c7",
   "metadata": {},
   "outputs": [],
   "source": [
    "# from datetime import datetime\n",
    "\n",
    "# df7.apply(lambda x: distance((x['lat'], x['long']), (x['merch_lat'], x['merch_long'])).km, axis=1)\n",
    "\n",
    "# s_t = datetime.now()\n",
    "# df7.head(10000).apply(lambda x: distance((x['lat'], x['long']), (x['merch_lat'], x['merch_long'])), axis=1)\n",
    "# datetime.now() - s_t"
   ]
  },
  {
   "cell_type": "code",
   "execution_count": 51,
   "id": "af5012d0",
   "metadata": {},
   "outputs": [],
   "source": [
    "def get_diff_distance_from_row(row):\n",
    "    return distance((row['lat'], row['long']), (row['merch_lat'], row['merch_long'])).km"
   ]
  },
  {
   "cell_type": "code",
   "execution_count": 52,
   "id": "c12ecd38",
   "metadata": {},
   "outputs": [],
   "source": [
    "df7['distance'] = df7.apply(get_diff_distance_from_row, axis=1)"
   ]
  },
  {
   "cell_type": "markdown",
   "id": "0feee6cd",
   "metadata": {},
   "source": [
    "- cc_num 컬럼의 값마다 distance의 평균, 표준편차를 계산하여 dist_info 변수에 저장"
   ]
  },
  {
   "cell_type": "code",
   "execution_count": 53,
   "id": "881a492d",
   "metadata": {},
   "outputs": [],
   "source": [
    "dist_info = df7.groupby(by='cc_num', as_index=False)['distance'].agg(['mean', 'std'])"
   ]
  },
  {
   "cell_type": "code",
   "execution_count": 54,
   "id": "303c5a6c",
   "metadata": {},
   "outputs": [],
   "source": [
    "dist_info.to_pickle('./data/fraud_dist_info.pkl')"
   ]
  },
  {
   "cell_type": "markdown",
   "id": "cebc0c82",
   "metadata": {},
   "source": [
    "- cc_num 컬럼을 기준으로 정제 중인 데이터프레임과 dist_info 데이터프레임 합치기"
   ]
  },
  {
   "cell_type": "code",
   "execution_count": 55,
   "id": "0361ee37",
   "metadata": {},
   "outputs": [
    {
     "data": {
      "text/plain": [
       "(491134, 17)"
      ]
     },
     "execution_count": 55,
     "metadata": {},
     "output_type": "execute_result"
    }
   ],
   "source": [
    "df8 = pd.merge(df7, dist_info, how='left', on='cc_num')\n",
    "df8.shape"
   ]
  },
  {
   "cell_type": "markdown",
   "id": "bd25569f",
   "metadata": {},
   "source": [
    "- distance 값의 z-score 계산 후 dist_z 컬럼에 저장 및 불필요 변수 제거"
   ]
  },
  {
   "cell_type": "code",
   "execution_count": 56,
   "id": "ca060213",
   "metadata": {},
   "outputs": [],
   "source": [
    "df8['dist_z'] = (df8['distance'] - df8['mean']) / df8['std']"
   ]
  },
  {
   "cell_type": "code",
   "execution_count": 57,
   "id": "163de9e7",
   "metadata": {},
   "outputs": [],
   "source": [
    "df8 = df8.drop(['lat', 'long', 'merch_lat', 'merch_long', 'mean', 'std'], axis=1)"
   ]
  },
  {
   "cell_type": "code",
   "execution_count": 58,
   "id": "4d37adbb",
   "metadata": {},
   "outputs": [
    {
     "data": {
      "text/plain": [
       "Index(['cc_num', 'category', 'amt', 'gender', 'job', 'dob', 'is_fraud',\n",
       "       'amt_z', 'cat_amt_z', 'hour_perc', 'distance', 'dist_z'],\n",
       "      dtype='object')"
      ]
     },
     "execution_count": 58,
     "metadata": {},
     "output_type": "execute_result"
    }
   ],
   "source": [
    "df8.columns"
   ]
  },
  {
   "cell_type": "markdown",
   "id": "4635d47c",
   "metadata": {},
   "source": [
    "### 나이 feature 생성"
   ]
  },
  {
   "cell_type": "markdown",
   "id": "915cc8f8",
   "metadata": {},
   "source": [
    "- dob 컬럼에서 연도 값만 추출하여 dob 컬럼에 다시 저장"
   ]
  },
  {
   "cell_type": "code",
   "execution_count": 59,
   "id": "fffb5a88",
   "metadata": {},
   "outputs": [],
   "source": [
    "df8['dob'] = pd.to_datetime(df8['dob'])\n",
    "df8['dob'] = df8['dob'].dt.year"
   ]
  },
  {
   "cell_type": "markdown",
   "id": "07839f6d",
   "metadata": {},
   "source": [
    "- 2025년 기준 몇 살인지 계산하여 age 컬럼에 저장"
   ]
  },
  {
   "cell_type": "code",
   "execution_count": 60,
   "id": "768ab4c3",
   "metadata": {},
   "outputs": [],
   "source": [
    "df8['age'] = 2025 - df8['dob']"
   ]
  },
  {
   "cell_type": "code",
   "execution_count": 61,
   "id": "4c919da5",
   "metadata": {},
   "outputs": [
    {
     "data": {
      "text/plain": [
       "array([47, 45, 51, 54, 48, 55, 41, 38, 28, 53, 42, 25, 50, 27, 30, 49, 40,\n",
       "       52, 37, 26, 22, 35, 36, 44, 21, 29, 32, 34, 43, 46, 39, 31, 33],\n",
       "      dtype=int32)"
      ]
     },
     "execution_count": 61,
     "metadata": {},
     "output_type": "execute_result"
    }
   ],
   "source": [
    "df8['age'].unique()"
   ]
  },
  {
   "cell_type": "markdown",
   "id": "d89cbeb6",
   "metadata": {},
   "source": [
    "### 범주형 데이터 one-hot encoding"
   ]
  },
  {
   "cell_type": "code",
   "execution_count": 62,
   "id": "9c14309b",
   "metadata": {},
   "outputs": [
    {
     "name": "stdout",
     "output_type": "stream",
     "text": [
      "<class 'pandas.core.frame.DataFrame'>\n",
      "RangeIndex: 491134 entries, 0 to 491133\n",
      "Data columns (total 13 columns):\n",
      " #   Column     Non-Null Count   Dtype  \n",
      "---  ------     --------------   -----  \n",
      " 0   cc_num     491134 non-null  int64  \n",
      " 1   category   491134 non-null  object \n",
      " 2   amt        491134 non-null  float64\n",
      " 3   gender     491134 non-null  object \n",
      " 4   job        491134 non-null  object \n",
      " 5   dob        491134 non-null  int32  \n",
      " 6   is_fraud   491134 non-null  int64  \n",
      " 7   amt_z      491134 non-null  float64\n",
      " 8   cat_amt_z  491134 non-null  float64\n",
      " 9   hour_perc  491134 non-null  float64\n",
      " 10  distance   491134 non-null  float64\n",
      " 11  dist_z     491134 non-null  float64\n",
      " 12  age        491134 non-null  int32  \n",
      "dtypes: float64(6), int32(2), int64(2), object(3)\n",
      "memory usage: 45.0+ MB\n"
     ]
    }
   ],
   "source": [
    "df8.info()"
   ]
  },
  {
   "cell_type": "markdown",
   "id": "9f029f43",
   "metadata": {},
   "source": [
    "- 범주형 데이터의 각 컬럼별 몇 종류의 값이 있는지 확인"
   ]
  },
  {
   "cell_type": "code",
   "execution_count": 63,
   "id": "d536b2dc",
   "metadata": {},
   "outputs": [
    {
     "name": "stdout",
     "output_type": "stream",
     "text": [
      "['grocery_pos' 'grocery_net' 'misc_pos' 'gas_transport' 'misc_net'\n",
      " 'health_fitness' 'travel' 'personal_care' 'shopping_net' 'shopping_pos'\n",
      " 'home' 'entertainment' 'food_dining' 'kids_pets']\n",
      "14\n",
      "-------------------------\n",
      "['F' 'M']\n",
      "2\n",
      "-------------------------\n",
      "['Special educational needs teacher' 'Operational researcher'\n",
      " 'Leisure centre manager' 'Police officer' 'Designer, furniture'\n",
      " 'Librarian, public' 'Fine artist' 'Tourism officer' 'Surveyor, minerals'\n",
      " 'Research officer, political party' 'Engineer, electronics'\n",
      " 'Water engineer' 'Tree surgeon' 'Careers information officer'\n",
      " 'Claims inspector/assessor' 'Exhibitions officer, museum/gallery'\n",
      " 'Research scientist (physical sciences)' 'Operations geologist'\n",
      " 'Systems developer' 'Environmental consultant' 'Energy engineer'\n",
      " 'Materials engineer' 'Television production assistant'\n",
      " 'Medical sales representative' 'Therapist, sports' 'Structural engineer'\n",
      " 'Commercial/residential surveyor' 'Film/video editor'\n",
      " 'Electronics engineer'\n",
      " 'Historic buildings inspector/conservation officer' 'Immunologist'\n",
      " 'Psychologist, forensic' 'Contractor' 'Health physicist' 'Land'\n",
      " 'Investment analyst' 'Journalist, newspaper' 'Doctor, hospital'\n",
      " 'Phytotherapist' 'Retail merchandiser' 'Psychotherapist, child'\n",
      " 'Camera operator' 'Designer, ceramics/pottery' 'Financial adviser'\n",
      " 'Pensions consultant' 'Electrical engineer' 'Counsellor'\n",
      " 'Exhibition designer' 'Early years teacher' 'Sales professional, IT'\n",
      " 'Scientist, marine' 'Intelligence analyst' 'Advertising account planner'\n",
      " 'IT trainer' 'Insurance underwriter' 'Trade mark attorney' 'Risk analyst'\n",
      " 'Music therapist' 'Comptroller' 'Scientist, research (maths)'\n",
      " 'Social researcher' 'Press sub' 'Chief Executive Officer'\n",
      " 'Scientist, audiological' 'Travel agency manager'\n",
      " 'Chartered loss adjuster' 'English as a second language teacher'\n",
      " 'Child psychotherapist' 'Paramedic' 'Race relations officer'\n",
      " 'Forensic psychologist' 'Physiotherapist' 'Designer, industrial/product'\n",
      " 'Dispensing optician' 'Learning disability nurse' 'Futures trader'\n",
      " 'Engineer, control and instrumentation' 'Tax inspector' 'Musician'\n",
      " 'Therapist, art' 'Surveyor, rural practice' 'Regulatory affairs officer'\n",
      " 'Designer, exhibition/display' 'Toxicologist' 'Secondary school teacher'\n",
      " 'Chartered public finance accountant' 'Petroleum engineer'\n",
      " 'Press photographer' 'Surveyor, land/geomatics'\n",
      " 'Radio broadcast assistant' 'Prison officer' 'Site engineer'\n",
      " 'Insurance broker' 'Radiographer, therapeutic' 'Energy manager'\n",
      " 'Osteopath' 'Statistician' 'Building surveyor' 'Media buyer'\n",
      " 'Hospital doctor' 'Town planner' 'Lecturer, further education'\n",
      " 'Copywriter, advertising' 'Firefighter' 'Sub'\n",
      " 'Development worker, international aid' 'Clothing/textile technologist'\n",
      " 'Herbalist' 'Ceramics designer' 'Geoscientist']\n",
      "110\n"
     ]
    }
   ],
   "source": [
    "print( df8['category'].unique() )\n",
    "print( df8['category'].nunique() )\n",
    "print('-------------------------')\n",
    "\n",
    "print( df8['gender'].unique() )\n",
    "print( df8['gender'].nunique() )\n",
    "print('-------------------------')\n",
    "\n",
    "print( df8['job'].unique() )\n",
    "print( df8['job'].nunique() )"
   ]
  },
  {
   "cell_type": "markdown",
   "id": "f1001eee",
   "metadata": {},
   "source": [
    "- 정제 중인 데이터프레임에 one-hot encoding 적용"
   ]
  },
  {
   "cell_type": "code",
   "execution_count": 65,
   "id": "98ef003f",
   "metadata": {},
   "outputs": [],
   "source": [
    "cols_cat = ['category', 'gender', 'job']\n",
    "\n",
    "df9 = pd.get_dummies(data=df8, columns=cols_cat, drop_first=True, dtype=int)"
   ]
  },
  {
   "cell_type": "code",
   "execution_count": 67,
   "id": "aabc3379",
   "metadata": {},
   "outputs": [
    {
     "data": {
      "text/plain": [
       "Index(['cc_num', 'amt', 'dob', 'is_fraud', 'amt_z', 'cat_amt_z', 'hour_perc',\n",
       "       'distance', 'dist_z', 'age',\n",
       "       ...\n",
       "       'job_Television production assistant', 'job_Therapist, art',\n",
       "       'job_Therapist, sports', 'job_Tourism officer', 'job_Town planner',\n",
       "       'job_Toxicologist', 'job_Trade mark attorney',\n",
       "       'job_Travel agency manager', 'job_Tree surgeon', 'job_Water engineer'],\n",
       "      dtype='object', length=133)"
      ]
     },
     "execution_count": 67,
     "metadata": {},
     "output_type": "execute_result"
    }
   ],
   "source": [
    "df9.columns"
   ]
  },
  {
   "cell_type": "markdown",
   "id": "84a1f585",
   "metadata": {},
   "source": [
    "- cc_num 변수 제거"
   ]
  },
  {
   "cell_type": "code",
   "execution_count": 68,
   "id": "0cddacc9",
   "metadata": {},
   "outputs": [
    {
     "data": {
      "application/vnd.microsoft.datawrangler.viewer.v0+json": {
       "columns": [
        {
         "name": "index",
         "rawType": "int64",
         "type": "integer"
        },
        {
         "name": "amt",
         "rawType": "float64",
         "type": "float"
        },
        {
         "name": "dob",
         "rawType": "int32",
         "type": "integer"
        },
        {
         "name": "is_fraud",
         "rawType": "int64",
         "type": "integer"
        },
        {
         "name": "amt_z",
         "rawType": "float64",
         "type": "float"
        },
        {
         "name": "cat_amt_z",
         "rawType": "float64",
         "type": "float"
        },
        {
         "name": "hour_perc",
         "rawType": "float64",
         "type": "float"
        },
        {
         "name": "distance",
         "rawType": "float64",
         "type": "float"
        },
        {
         "name": "dist_z",
         "rawType": "float64",
         "type": "float"
        },
        {
         "name": "age",
         "rawType": "int32",
         "type": "integer"
        },
        {
         "name": "category_food_dining",
         "rawType": "int64",
         "type": "integer"
        },
        {
         "name": "category_gas_transport",
         "rawType": "int64",
         "type": "integer"
        },
        {
         "name": "category_grocery_net",
         "rawType": "int64",
         "type": "integer"
        },
        {
         "name": "category_grocery_pos",
         "rawType": "int64",
         "type": "integer"
        },
        {
         "name": "category_health_fitness",
         "rawType": "int64",
         "type": "integer"
        },
        {
         "name": "category_home",
         "rawType": "int64",
         "type": "integer"
        },
        {
         "name": "category_kids_pets",
         "rawType": "int64",
         "type": "integer"
        },
        {
         "name": "category_misc_net",
         "rawType": "int64",
         "type": "integer"
        },
        {
         "name": "category_misc_pos",
         "rawType": "int64",
         "type": "integer"
        },
        {
         "name": "category_personal_care",
         "rawType": "int64",
         "type": "integer"
        },
        {
         "name": "category_shopping_net",
         "rawType": "int64",
         "type": "integer"
        },
        {
         "name": "category_shopping_pos",
         "rawType": "int64",
         "type": "integer"
        },
        {
         "name": "category_travel",
         "rawType": "int64",
         "type": "integer"
        },
        {
         "name": "gender_M",
         "rawType": "int64",
         "type": "integer"
        },
        {
         "name": "job_Building surveyor",
         "rawType": "int64",
         "type": "integer"
        },
        {
         "name": "job_Camera operator",
         "rawType": "int64",
         "type": "integer"
        },
        {
         "name": "job_Careers information officer",
         "rawType": "int64",
         "type": "integer"
        },
        {
         "name": "job_Ceramics designer",
         "rawType": "int64",
         "type": "integer"
        },
        {
         "name": "job_Chartered loss adjuster",
         "rawType": "int64",
         "type": "integer"
        },
        {
         "name": "job_Chartered public finance accountant",
         "rawType": "int64",
         "type": "integer"
        },
        {
         "name": "job_Chief Executive Officer",
         "rawType": "int64",
         "type": "integer"
        },
        {
         "name": "job_Child psychotherapist",
         "rawType": "int64",
         "type": "integer"
        },
        {
         "name": "job_Claims inspector/assessor",
         "rawType": "int64",
         "type": "integer"
        },
        {
         "name": "job_Clothing/textile technologist",
         "rawType": "int64",
         "type": "integer"
        },
        {
         "name": "job_Commercial/residential surveyor",
         "rawType": "int64",
         "type": "integer"
        },
        {
         "name": "job_Comptroller",
         "rawType": "int64",
         "type": "integer"
        },
        {
         "name": "job_Contractor",
         "rawType": "int64",
         "type": "integer"
        },
        {
         "name": "job_Copywriter, advertising",
         "rawType": "int64",
         "type": "integer"
        },
        {
         "name": "job_Counsellor",
         "rawType": "int64",
         "type": "integer"
        },
        {
         "name": "job_Designer, ceramics/pottery",
         "rawType": "int64",
         "type": "integer"
        },
        {
         "name": "job_Designer, exhibition/display",
         "rawType": "int64",
         "type": "integer"
        },
        {
         "name": "job_Designer, furniture",
         "rawType": "int64",
         "type": "integer"
        },
        {
         "name": "job_Designer, industrial/product",
         "rawType": "int64",
         "type": "integer"
        },
        {
         "name": "job_Development worker, international aid",
         "rawType": "int64",
         "type": "integer"
        },
        {
         "name": "job_Dispensing optician",
         "rawType": "int64",
         "type": "integer"
        },
        {
         "name": "job_Doctor, hospital",
         "rawType": "int64",
         "type": "integer"
        },
        {
         "name": "job_Early years teacher",
         "rawType": "int64",
         "type": "integer"
        },
        {
         "name": "job_Electrical engineer",
         "rawType": "int64",
         "type": "integer"
        },
        {
         "name": "job_Electronics engineer",
         "rawType": "int64",
         "type": "integer"
        },
        {
         "name": "job_Energy engineer",
         "rawType": "int64",
         "type": "integer"
        },
        {
         "name": "job_Energy manager",
         "rawType": "int64",
         "type": "integer"
        },
        {
         "name": "job_Engineer, control and instrumentation",
         "rawType": "int64",
         "type": "integer"
        },
        {
         "name": "job_Engineer, electronics",
         "rawType": "int64",
         "type": "integer"
        },
        {
         "name": "job_English as a second language teacher",
         "rawType": "int64",
         "type": "integer"
        },
        {
         "name": "job_Environmental consultant",
         "rawType": "int64",
         "type": "integer"
        },
        {
         "name": "job_Exhibition designer",
         "rawType": "int64",
         "type": "integer"
        },
        {
         "name": "job_Exhibitions officer, museum/gallery",
         "rawType": "int64",
         "type": "integer"
        },
        {
         "name": "job_Film/video editor",
         "rawType": "int64",
         "type": "integer"
        },
        {
         "name": "job_Financial adviser",
         "rawType": "int64",
         "type": "integer"
        },
        {
         "name": "job_Fine artist",
         "rawType": "int64",
         "type": "integer"
        },
        {
         "name": "job_Firefighter",
         "rawType": "int64",
         "type": "integer"
        },
        {
         "name": "job_Forensic psychologist",
         "rawType": "int64",
         "type": "integer"
        },
        {
         "name": "job_Futures trader",
         "rawType": "int64",
         "type": "integer"
        },
        {
         "name": "job_Geoscientist",
         "rawType": "int64",
         "type": "integer"
        },
        {
         "name": "job_Health physicist",
         "rawType": "int64",
         "type": "integer"
        },
        {
         "name": "job_Herbalist",
         "rawType": "int64",
         "type": "integer"
        },
        {
         "name": "job_Historic buildings inspector/conservation officer",
         "rawType": "int64",
         "type": "integer"
        },
        {
         "name": "job_Hospital doctor",
         "rawType": "int64",
         "type": "integer"
        },
        {
         "name": "job_IT trainer",
         "rawType": "int64",
         "type": "integer"
        },
        {
         "name": "job_Immunologist",
         "rawType": "int64",
         "type": "integer"
        },
        {
         "name": "job_Insurance broker",
         "rawType": "int64",
         "type": "integer"
        },
        {
         "name": "job_Insurance underwriter",
         "rawType": "int64",
         "type": "integer"
        },
        {
         "name": "job_Intelligence analyst",
         "rawType": "int64",
         "type": "integer"
        },
        {
         "name": "job_Investment analyst",
         "rawType": "int64",
         "type": "integer"
        },
        {
         "name": "job_Journalist, newspaper",
         "rawType": "int64",
         "type": "integer"
        },
        {
         "name": "job_Land",
         "rawType": "int64",
         "type": "integer"
        },
        {
         "name": "job_Learning disability nurse",
         "rawType": "int64",
         "type": "integer"
        },
        {
         "name": "job_Lecturer, further education",
         "rawType": "int64",
         "type": "integer"
        },
        {
         "name": "job_Leisure centre manager",
         "rawType": "int64",
         "type": "integer"
        },
        {
         "name": "job_Librarian, public",
         "rawType": "int64",
         "type": "integer"
        },
        {
         "name": "job_Materials engineer",
         "rawType": "int64",
         "type": "integer"
        },
        {
         "name": "job_Media buyer",
         "rawType": "int64",
         "type": "integer"
        },
        {
         "name": "job_Medical sales representative",
         "rawType": "int64",
         "type": "integer"
        },
        {
         "name": "job_Music therapist",
         "rawType": "int64",
         "type": "integer"
        },
        {
         "name": "job_Musician",
         "rawType": "int64",
         "type": "integer"
        },
        {
         "name": "job_Operational researcher",
         "rawType": "int64",
         "type": "integer"
        },
        {
         "name": "job_Operations geologist",
         "rawType": "int64",
         "type": "integer"
        },
        {
         "name": "job_Osteopath",
         "rawType": "int64",
         "type": "integer"
        },
        {
         "name": "job_Paramedic",
         "rawType": "int64",
         "type": "integer"
        },
        {
         "name": "job_Pensions consultant",
         "rawType": "int64",
         "type": "integer"
        },
        {
         "name": "job_Petroleum engineer",
         "rawType": "int64",
         "type": "integer"
        },
        {
         "name": "job_Physiotherapist",
         "rawType": "int64",
         "type": "integer"
        },
        {
         "name": "job_Phytotherapist",
         "rawType": "int64",
         "type": "integer"
        },
        {
         "name": "job_Police officer",
         "rawType": "int64",
         "type": "integer"
        },
        {
         "name": "job_Press photographer",
         "rawType": "int64",
         "type": "integer"
        },
        {
         "name": "job_Press sub",
         "rawType": "int64",
         "type": "integer"
        },
        {
         "name": "job_Prison officer",
         "rawType": "int64",
         "type": "integer"
        },
        {
         "name": "job_Psychologist, forensic",
         "rawType": "int64",
         "type": "integer"
        },
        {
         "name": "job_Psychotherapist, child",
         "rawType": "int64",
         "type": "integer"
        },
        {
         "name": "job_Race relations officer",
         "rawType": "int64",
         "type": "integer"
        },
        {
         "name": "job_Radio broadcast assistant",
         "rawType": "int64",
         "type": "integer"
        },
        {
         "name": "job_Radiographer, therapeutic",
         "rawType": "int64",
         "type": "integer"
        },
        {
         "name": "job_Regulatory affairs officer",
         "rawType": "int64",
         "type": "integer"
        },
        {
         "name": "job_Research officer, political party",
         "rawType": "int64",
         "type": "integer"
        },
        {
         "name": "job_Research scientist (physical sciences)",
         "rawType": "int64",
         "type": "integer"
        },
        {
         "name": "job_Retail merchandiser",
         "rawType": "int64",
         "type": "integer"
        },
        {
         "name": "job_Risk analyst",
         "rawType": "int64",
         "type": "integer"
        },
        {
         "name": "job_Sales professional, IT",
         "rawType": "int64",
         "type": "integer"
        },
        {
         "name": "job_Scientist, audiological",
         "rawType": "int64",
         "type": "integer"
        },
        {
         "name": "job_Scientist, marine",
         "rawType": "int64",
         "type": "integer"
        },
        {
         "name": "job_Scientist, research (maths)",
         "rawType": "int64",
         "type": "integer"
        },
        {
         "name": "job_Secondary school teacher",
         "rawType": "int64",
         "type": "integer"
        },
        {
         "name": "job_Site engineer",
         "rawType": "int64",
         "type": "integer"
        },
        {
         "name": "job_Social researcher",
         "rawType": "int64",
         "type": "integer"
        },
        {
         "name": "job_Special educational needs teacher",
         "rawType": "int64",
         "type": "integer"
        },
        {
         "name": "job_Statistician",
         "rawType": "int64",
         "type": "integer"
        },
        {
         "name": "job_Structural engineer",
         "rawType": "int64",
         "type": "integer"
        },
        {
         "name": "job_Sub",
         "rawType": "int64",
         "type": "integer"
        },
        {
         "name": "job_Surveyor, land/geomatics",
         "rawType": "int64",
         "type": "integer"
        },
        {
         "name": "job_Surveyor, minerals",
         "rawType": "int64",
         "type": "integer"
        },
        {
         "name": "job_Surveyor, rural practice",
         "rawType": "int64",
         "type": "integer"
        },
        {
         "name": "job_Systems developer",
         "rawType": "int64",
         "type": "integer"
        },
        {
         "name": "job_Tax inspector",
         "rawType": "int64",
         "type": "integer"
        },
        {
         "name": "job_Television production assistant",
         "rawType": "int64",
         "type": "integer"
        },
        {
         "name": "job_Therapist, art",
         "rawType": "int64",
         "type": "integer"
        },
        {
         "name": "job_Therapist, sports",
         "rawType": "int64",
         "type": "integer"
        },
        {
         "name": "job_Tourism officer",
         "rawType": "int64",
         "type": "integer"
        },
        {
         "name": "job_Town planner",
         "rawType": "int64",
         "type": "integer"
        },
        {
         "name": "job_Toxicologist",
         "rawType": "int64",
         "type": "integer"
        },
        {
         "name": "job_Trade mark attorney",
         "rawType": "int64",
         "type": "integer"
        },
        {
         "name": "job_Travel agency manager",
         "rawType": "int64",
         "type": "integer"
        },
        {
         "name": "job_Tree surgeon",
         "rawType": "int64",
         "type": "integer"
        },
        {
         "name": "job_Water engineer",
         "rawType": "int64",
         "type": "integer"
        }
       ],
       "ref": "30cf6c89-6cd4-445d-984f-fc9ac3408e76",
       "rows": [
        [
         "0",
         "107.23",
         "1978",
         "0",
         "0.32130208360076357",
         "0.31763059303472113",
         "14.190738193489224",
         "30.216618410409005",
         "-1.4752242628739425",
         "47",
         "0",
         "0",
         "0",
         "1",
         "0",
         "0",
         "0",
         "0",
         "0",
         "0",
         "0",
         "0",
         "0",
         "0",
         "0",
         "0",
         "0",
         "0",
         "0",
         "0",
         "0",
         "0",
         "0",
         "0",
         "0",
         "0",
         "0",
         "0",
         "0",
         "0",
         "0",
         "0",
         "0",
         "0",
         "0",
         "0",
         "0",
         "0",
         "0",
         "0",
         "0",
         "0",
         "0",
         "0",
         "0",
         "0",
         "0",
         "0",
         "0",
         "0",
         "0",
         "0",
         "0",
         "0",
         "0",
         "0",
         "0",
         "0",
         "0",
         "0",
         "0",
         "0",
         "0",
         "0",
         "0",
         "0",
         "0",
         "0",
         "0",
         "0",
         "0",
         "0",
         "0",
         "0",
         "0",
         "0",
         "0",
         "0",
         "0",
         "0",
         "0",
         "0",
         "0",
         "0",
         "0",
         "0",
         "0",
         "0",
         "0",
         "0",
         "0",
         "0",
         "0",
         "0",
         "0",
         "0",
         "0",
         "0",
         "0",
         "0",
         "0",
         "0",
         "0",
         "0",
         "1",
         "0",
         "0",
         "0",
         "0",
         "0",
         "0",
         "0",
         "0",
         "0",
         "0",
         "0",
         "0",
         "0",
         "0",
         "0",
         "0",
         "0",
         "0"
        ],
        [
         "1",
         "44.71",
         "1980",
         "0",
         "-0.11463747444553714",
         "-0.6520596303596424",
         "15.066994804484551",
         "84.71460545737266",
         "0.34536953567729506",
         "45",
         "0",
         "0",
         "0",
         "1",
         "0",
         "0",
         "0",
         "0",
         "0",
         "0",
         "0",
         "0",
         "0",
         "1",
         "0",
         "0",
         "0",
         "0",
         "0",
         "0",
         "0",
         "0",
         "0",
         "0",
         "0",
         "0",
         "0",
         "0",
         "0",
         "0",
         "0",
         "0",
         "0",
         "0",
         "0",
         "0",
         "0",
         "0",
         "0",
         "0",
         "0",
         "0",
         "0",
         "0",
         "0",
         "0",
         "0",
         "0",
         "0",
         "0",
         "0",
         "0",
         "0",
         "0",
         "0",
         "0",
         "0",
         "0",
         "0",
         "0",
         "0",
         "0",
         "0",
         "0",
         "0",
         "0",
         "0",
         "0",
         "0",
         "0",
         "0",
         "0",
         "0",
         "0",
         "0",
         "1",
         "0",
         "0",
         "0",
         "0",
         "0",
         "0",
         "0",
         "0",
         "0",
         "0",
         "0",
         "0",
         "0",
         "0",
         "0",
         "0",
         "0",
         "0",
         "0",
         "0",
         "0",
         "0",
         "0",
         "0",
         "0",
         "0",
         "0",
         "0",
         "0",
         "0",
         "0",
         "0",
         "0",
         "0",
         "0",
         "0",
         "0",
         "0",
         "0",
         "0",
         "0",
         "0",
         "0",
         "0",
         "0",
         "0",
         "0"
        ],
        [
         "2",
         "46.28",
         "1974",
         "0",
         "-0.3618022871198555",
         "-0.7233282304862105",
         "14.947512551346417",
         "67.76816723276248",
         "-0.2726931202705275",
         "51",
         "0",
         "0",
         "1",
         "0",
         "0",
         "0",
         "0",
         "0",
         "0",
         "0",
         "0",
         "0",
         "0",
         "0",
         "0",
         "0",
         "0",
         "0",
         "0",
         "0",
         "0",
         "0",
         "0",
         "0",
         "0",
         "0",
         "0",
         "0",
         "0",
         "0",
         "0",
         "0",
         "0",
         "0",
         "0",
         "0",
         "0",
         "0",
         "0",
         "0",
         "0",
         "0",
         "0",
         "0",
         "0",
         "0",
         "0",
         "0",
         "0",
         "0",
         "0",
         "0",
         "0",
         "0",
         "0",
         "0",
         "0",
         "0",
         "0",
         "0",
         "0",
         "0",
         "0",
         "0",
         "0",
         "0",
         "0",
         "0",
         "1",
         "0",
         "0",
         "0",
         "0",
         "0",
         "0",
         "0",
         "0",
         "0",
         "0",
         "0",
         "0",
         "0",
         "0",
         "0",
         "0",
         "0",
         "0",
         "0",
         "0",
         "0",
         "0",
         "0",
         "0",
         "0",
         "0",
         "0",
         "0",
         "0",
         "0",
         "0",
         "0",
         "0",
         "0",
         "0",
         "0",
         "0",
         "0",
         "0",
         "0",
         "0",
         "0",
         "0",
         "0",
         "0",
         "0",
         "0",
         "0",
         "0",
         "0",
         "0",
         "0",
         "0",
         "0"
        ],
        [
         "3",
         "64.09",
         "1971",
         "0",
         "-0.001303883305192317",
         "0.21178029279882582",
         "15.272826981080339",
         "22.322745354978704",
         "-1.824485912629524",
         "54",
         "0",
         "0",
         "0",
         "1",
         "0",
         "0",
         "0",
         "0",
         "0",
         "0",
         "0",
         "0",
         "0",
         "1",
         "0",
         "0",
         "0",
         "0",
         "0",
         "0",
         "0",
         "0",
         "0",
         "0",
         "0",
         "0",
         "0",
         "0",
         "0",
         "0",
         "0",
         "0",
         "0",
         "0",
         "0",
         "0",
         "0",
         "0",
         "0",
         "0",
         "0",
         "0",
         "0",
         "0",
         "0",
         "0",
         "0",
         "0",
         "0",
         "0",
         "0",
         "0",
         "0",
         "0",
         "0",
         "0",
         "0",
         "0",
         "0",
         "0",
         "0",
         "0",
         "0",
         "0",
         "0",
         "0",
         "0",
         "0",
         "0",
         "0",
         "0",
         "0",
         "0",
         "0",
         "0",
         "0",
         "0",
         "0",
         "0",
         "0",
         "0",
         "0",
         "0",
         "1",
         "0",
         "0",
         "0",
         "0",
         "0",
         "0",
         "0",
         "0",
         "0",
         "0",
         "0",
         "0",
         "0",
         "0",
         "0",
         "0",
         "0",
         "0",
         "0",
         "0",
         "0",
         "0",
         "0",
         "0",
         "0",
         "0",
         "0",
         "0",
         "0",
         "0",
         "0",
         "0",
         "0",
         "0",
         "0",
         "0",
         "0",
         "0",
         "0"
        ],
        [
         "4",
         "25.58",
         "1977",
         "0",
         "-0.39382834015056295",
         "-0.5756975327728285",
         "14.272644098810613",
         "79.39824434881983",
         "0.0021377453936807975",
         "48",
         "0",
         "0",
         "0",
         "0",
         "0",
         "0",
         "0",
         "0",
         "1",
         "0",
         "0",
         "0",
         "0",
         "0",
         "0",
         "0",
         "0",
         "0",
         "0",
         "0",
         "0",
         "0",
         "0",
         "0",
         "0",
         "0",
         "0",
         "0",
         "0",
         "0",
         "0",
         "1",
         "0",
         "0",
         "0",
         "0",
         "0",
         "0",
         "0",
         "0",
         "0",
         "0",
         "0",
         "0",
         "0",
         "0",
         "0",
         "0",
         "0",
         "0",
         "0",
         "0",
         "0",
         "0",
         "0",
         "0",
         "0",
         "0",
         "0",
         "0",
         "0",
         "0",
         "0",
         "0",
         "0",
         "0",
         "0",
         "0",
         "0",
         "0",
         "0",
         "0",
         "0",
         "0",
         "0",
         "0",
         "0",
         "0",
         "0",
         "0",
         "0",
         "0",
         "0",
         "0",
         "0",
         "0",
         "0",
         "0",
         "0",
         "0",
         "0",
         "0",
         "0",
         "0",
         "0",
         "0",
         "0",
         "0",
         "0",
         "0",
         "0",
         "0",
         "0",
         "0",
         "0",
         "0",
         "0",
         "0",
         "0",
         "0",
         "0",
         "0",
         "0",
         "0",
         "0",
         "0",
         "0",
         "0",
         "0",
         "0",
         "0",
         "0",
         "0"
        ]
       ],
       "shape": {
        "columns": 132,
        "rows": 5
       }
      },
      "text/html": [
       "<div>\n",
       "<style scoped>\n",
       "    .dataframe tbody tr th:only-of-type {\n",
       "        vertical-align: middle;\n",
       "    }\n",
       "\n",
       "    .dataframe tbody tr th {\n",
       "        vertical-align: top;\n",
       "    }\n",
       "\n",
       "    .dataframe thead th {\n",
       "        text-align: right;\n",
       "    }\n",
       "</style>\n",
       "<table border=\"1\" class=\"dataframe\">\n",
       "  <thead>\n",
       "    <tr style=\"text-align: right;\">\n",
       "      <th></th>\n",
       "      <th>amt</th>\n",
       "      <th>dob</th>\n",
       "      <th>is_fraud</th>\n",
       "      <th>amt_z</th>\n",
       "      <th>cat_amt_z</th>\n",
       "      <th>hour_perc</th>\n",
       "      <th>distance</th>\n",
       "      <th>dist_z</th>\n",
       "      <th>age</th>\n",
       "      <th>category_food_dining</th>\n",
       "      <th>...</th>\n",
       "      <th>job_Television production assistant</th>\n",
       "      <th>job_Therapist, art</th>\n",
       "      <th>job_Therapist, sports</th>\n",
       "      <th>job_Tourism officer</th>\n",
       "      <th>job_Town planner</th>\n",
       "      <th>job_Toxicologist</th>\n",
       "      <th>job_Trade mark attorney</th>\n",
       "      <th>job_Travel agency manager</th>\n",
       "      <th>job_Tree surgeon</th>\n",
       "      <th>job_Water engineer</th>\n",
       "    </tr>\n",
       "  </thead>\n",
       "  <tbody>\n",
       "    <tr>\n",
       "      <th>0</th>\n",
       "      <td>107.23</td>\n",
       "      <td>1978</td>\n",
       "      <td>0</td>\n",
       "      <td>0.321302</td>\n",
       "      <td>0.317631</td>\n",
       "      <td>14.190738</td>\n",
       "      <td>30.216618</td>\n",
       "      <td>-1.475224</td>\n",
       "      <td>47</td>\n",
       "      <td>0</td>\n",
       "      <td>...</td>\n",
       "      <td>0</td>\n",
       "      <td>0</td>\n",
       "      <td>0</td>\n",
       "      <td>0</td>\n",
       "      <td>0</td>\n",
       "      <td>0</td>\n",
       "      <td>0</td>\n",
       "      <td>0</td>\n",
       "      <td>0</td>\n",
       "      <td>0</td>\n",
       "    </tr>\n",
       "    <tr>\n",
       "      <th>1</th>\n",
       "      <td>44.71</td>\n",
       "      <td>1980</td>\n",
       "      <td>0</td>\n",
       "      <td>-0.114637</td>\n",
       "      <td>-0.652060</td>\n",
       "      <td>15.066995</td>\n",
       "      <td>84.714605</td>\n",
       "      <td>0.345370</td>\n",
       "      <td>45</td>\n",
       "      <td>0</td>\n",
       "      <td>...</td>\n",
       "      <td>0</td>\n",
       "      <td>0</td>\n",
       "      <td>0</td>\n",
       "      <td>0</td>\n",
       "      <td>0</td>\n",
       "      <td>0</td>\n",
       "      <td>0</td>\n",
       "      <td>0</td>\n",
       "      <td>0</td>\n",
       "      <td>0</td>\n",
       "    </tr>\n",
       "    <tr>\n",
       "      <th>2</th>\n",
       "      <td>46.28</td>\n",
       "      <td>1974</td>\n",
       "      <td>0</td>\n",
       "      <td>-0.361802</td>\n",
       "      <td>-0.723328</td>\n",
       "      <td>14.947513</td>\n",
       "      <td>67.768167</td>\n",
       "      <td>-0.272693</td>\n",
       "      <td>51</td>\n",
       "      <td>0</td>\n",
       "      <td>...</td>\n",
       "      <td>0</td>\n",
       "      <td>0</td>\n",
       "      <td>0</td>\n",
       "      <td>0</td>\n",
       "      <td>0</td>\n",
       "      <td>0</td>\n",
       "      <td>0</td>\n",
       "      <td>0</td>\n",
       "      <td>0</td>\n",
       "      <td>0</td>\n",
       "    </tr>\n",
       "    <tr>\n",
       "      <th>3</th>\n",
       "      <td>64.09</td>\n",
       "      <td>1971</td>\n",
       "      <td>0</td>\n",
       "      <td>-0.001304</td>\n",
       "      <td>0.211780</td>\n",
       "      <td>15.272827</td>\n",
       "      <td>22.322745</td>\n",
       "      <td>-1.824486</td>\n",
       "      <td>54</td>\n",
       "      <td>0</td>\n",
       "      <td>...</td>\n",
       "      <td>0</td>\n",
       "      <td>0</td>\n",
       "      <td>0</td>\n",
       "      <td>0</td>\n",
       "      <td>0</td>\n",
       "      <td>0</td>\n",
       "      <td>0</td>\n",
       "      <td>0</td>\n",
       "      <td>0</td>\n",
       "      <td>0</td>\n",
       "    </tr>\n",
       "    <tr>\n",
       "      <th>4</th>\n",
       "      <td>25.58</td>\n",
       "      <td>1977</td>\n",
       "      <td>0</td>\n",
       "      <td>-0.393828</td>\n",
       "      <td>-0.575698</td>\n",
       "      <td>14.272644</td>\n",
       "      <td>79.398244</td>\n",
       "      <td>0.002138</td>\n",
       "      <td>48</td>\n",
       "      <td>0</td>\n",
       "      <td>...</td>\n",
       "      <td>0</td>\n",
       "      <td>0</td>\n",
       "      <td>0</td>\n",
       "      <td>0</td>\n",
       "      <td>0</td>\n",
       "      <td>0</td>\n",
       "      <td>0</td>\n",
       "      <td>0</td>\n",
       "      <td>0</td>\n",
       "      <td>0</td>\n",
       "    </tr>\n",
       "  </tbody>\n",
       "</table>\n",
       "<p>5 rows × 132 columns</p>\n",
       "</div>"
      ],
      "text/plain": [
       "      amt   dob  is_fraud     amt_z  cat_amt_z  hour_perc   distance  \\\n",
       "0  107.23  1978         0  0.321302   0.317631  14.190738  30.216618   \n",
       "1   44.71  1980         0 -0.114637  -0.652060  15.066995  84.714605   \n",
       "2   46.28  1974         0 -0.361802  -0.723328  14.947513  67.768167   \n",
       "3   64.09  1971         0 -0.001304   0.211780  15.272827  22.322745   \n",
       "4   25.58  1977         0 -0.393828  -0.575698  14.272644  79.398244   \n",
       "\n",
       "     dist_z  age  category_food_dining  ...  \\\n",
       "0 -1.475224   47                     0  ...   \n",
       "1  0.345370   45                     0  ...   \n",
       "2 -0.272693   51                     0  ...   \n",
       "3 -1.824486   54                     0  ...   \n",
       "4  0.002138   48                     0  ...   \n",
       "\n",
       "   job_Television production assistant  job_Therapist, art  \\\n",
       "0                                    0                   0   \n",
       "1                                    0                   0   \n",
       "2                                    0                   0   \n",
       "3                                    0                   0   \n",
       "4                                    0                   0   \n",
       "\n",
       "   job_Therapist, sports  job_Tourism officer  job_Town planner  \\\n",
       "0                      0                    0                 0   \n",
       "1                      0                    0                 0   \n",
       "2                      0                    0                 0   \n",
       "3                      0                    0                 0   \n",
       "4                      0                    0                 0   \n",
       "\n",
       "   job_Toxicologist  job_Trade mark attorney  job_Travel agency manager  \\\n",
       "0                 0                        0                          0   \n",
       "1                 0                        0                          0   \n",
       "2                 0                        0                          0   \n",
       "3                 0                        0                          0   \n",
       "4                 0                        0                          0   \n",
       "\n",
       "   job_Tree surgeon  job_Water engineer  \n",
       "0                 0                   0  \n",
       "1                 0                   0  \n",
       "2                 0                   0  \n",
       "3                 0                   0  \n",
       "4                 0                   0  \n",
       "\n",
       "[5 rows x 132 columns]"
      ]
     },
     "execution_count": 68,
     "metadata": {},
     "output_type": "execute_result"
    }
   ],
   "source": [
    "df10 = df9.drop(['cc_num'], axis=1)\n",
    "df10.head()"
   ]
  },
  {
   "cell_type": "markdown",
   "id": "0dd04328",
   "metadata": {},
   "source": [
    "## End."
   ]
  }
 ],
 "metadata": {
  "kernelspec": {
   "display_name": ".venv (3.12.3)",
   "language": "python",
   "name": "python3"
  },
  "language_info": {
   "codemirror_mode": {
    "name": "ipython",
    "version": 3
   },
   "file_extension": ".py",
   "mimetype": "text/x-python",
   "name": "python",
   "nbconvert_exporter": "python",
   "pygments_lexer": "ipython3",
   "version": "3.12.3"
  }
 },
 "nbformat": 4,
 "nbformat_minor": 5
}
