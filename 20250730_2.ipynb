{
 "cells": [
  {
   "cell_type": "markdown",
   "id": "5cd80a70",
   "metadata": {},
   "source": [
    "# 미니 프로젝트 : 택시요금 데이터 다루기"
   ]
  },
  {
   "cell_type": "markdown",
   "id": "bd166f41",
   "metadata": {},
   "source": [
    "### 데이터 불러오기 확인"
   ]
  },
  {
   "cell_type": "code",
   "execution_count": 16,
   "id": "7b4daa48",
   "metadata": {},
   "outputs": [],
   "source": [
    "import numpy as np\n",
    "import pandas as pd\n",
    "\n",
    "import seaborn as sns\n",
    "import matplotlib.pyplot as plt"
   ]
  },
  {
   "cell_type": "code",
   "execution_count": 17,
   "id": "d3177657",
   "metadata": {},
   "outputs": [],
   "source": [
    "data = pd.read_csv('data/trip.csv')"
   ]
  },
  {
   "cell_type": "code",
   "execution_count": 18,
   "id": "895853b1",
   "metadata": {},
   "outputs": [
    {
     "data": {
      "application/vnd.microsoft.datawrangler.viewer.v0+json": {
       "columns": [
        {
         "name": "index",
         "rawType": "int64",
         "type": "integer"
        },
        {
         "name": "passenger_name",
         "rawType": "object",
         "type": "string"
        },
        {
         "name": "tpep_pickup_datetime",
         "rawType": "object",
         "type": "string"
        },
        {
         "name": "tpep_dropoff_datetime",
         "rawType": "object",
         "type": "string"
        },
        {
         "name": "payment_method",
         "rawType": "object",
         "type": "string"
        },
        {
         "name": "passenger_count",
         "rawType": "int64",
         "type": "integer"
        },
        {
         "name": "trip_distance",
         "rawType": "float64",
         "type": "float"
        },
        {
         "name": "fare_amount",
         "rawType": "float64",
         "type": "float"
        },
        {
         "name": "tip_amount",
         "rawType": "float64",
         "type": "float"
        },
        {
         "name": "tolls_amount",
         "rawType": "float64",
         "type": "float"
        }
       ],
       "ref": "f0d84590-8c11-48ae-972e-5a86bba59fe8",
       "rows": [
        [
         "0",
         "Pamela Duffy",
         "03/25/2017 8:55:43 AM",
         "03/25/2017 9:09:47 AM",
         "Debit Card",
         "6",
         "3.34",
         "13.0",
         "2.76",
         "0.0"
        ],
        [
         "1",
         "Michelle Foster",
         "04/11/2017 2:53:28 PM",
         "04/11/2017 3:19:58 PM",
         "Debit Card",
         "1",
         "1.8",
         "16.0",
         "4.0",
         "0.0"
        ],
        [
         "2",
         "Tina Combs",
         "12/15/2017 7:26:56 AM",
         "12/15/2017 7:34:08 AM",
         "Debit Card",
         "1",
         "1.0",
         "6.5",
         "1.45",
         "0.0"
        ],
        [
         "3",
         "Anthony Ray",
         "05/07/2017 1:17:59 PM",
         "05/07/2017 1:48:14 PM",
         "Cash",
         "1",
         "3.7",
         "20.5",
         "6.39",
         "0.0"
        ],
        [
         "4",
         "Brianna Johnson",
         "04/15/2017 11:32:20 PM",
         "04/15/2017 11:49:03 PM",
         "Debit Card",
         "1",
         "4.37",
         "16.5",
         "0.0",
         "0.0"
        ]
       ],
       "shape": {
        "columns": 9,
        "rows": 5
       }
      },
      "text/html": [
       "<div>\n",
       "<style scoped>\n",
       "    .dataframe tbody tr th:only-of-type {\n",
       "        vertical-align: middle;\n",
       "    }\n",
       "\n",
       "    .dataframe tbody tr th {\n",
       "        vertical-align: top;\n",
       "    }\n",
       "\n",
       "    .dataframe thead th {\n",
       "        text-align: right;\n",
       "    }\n",
       "</style>\n",
       "<table border=\"1\" class=\"dataframe\">\n",
       "  <thead>\n",
       "    <tr style=\"text-align: right;\">\n",
       "      <th></th>\n",
       "      <th>passenger_name</th>\n",
       "      <th>tpep_pickup_datetime</th>\n",
       "      <th>tpep_dropoff_datetime</th>\n",
       "      <th>payment_method</th>\n",
       "      <th>passenger_count</th>\n",
       "      <th>trip_distance</th>\n",
       "      <th>fare_amount</th>\n",
       "      <th>tip_amount</th>\n",
       "      <th>tolls_amount</th>\n",
       "    </tr>\n",
       "  </thead>\n",
       "  <tbody>\n",
       "    <tr>\n",
       "      <th>0</th>\n",
       "      <td>Pamela Duffy</td>\n",
       "      <td>03/25/2017 8:55:43 AM</td>\n",
       "      <td>03/25/2017 9:09:47 AM</td>\n",
       "      <td>Debit Card</td>\n",
       "      <td>6</td>\n",
       "      <td>3.34</td>\n",
       "      <td>13.0</td>\n",
       "      <td>2.76</td>\n",
       "      <td>0.0</td>\n",
       "    </tr>\n",
       "    <tr>\n",
       "      <th>1</th>\n",
       "      <td>Michelle Foster</td>\n",
       "      <td>04/11/2017 2:53:28 PM</td>\n",
       "      <td>04/11/2017 3:19:58 PM</td>\n",
       "      <td>Debit Card</td>\n",
       "      <td>1</td>\n",
       "      <td>1.80</td>\n",
       "      <td>16.0</td>\n",
       "      <td>4.00</td>\n",
       "      <td>0.0</td>\n",
       "    </tr>\n",
       "    <tr>\n",
       "      <th>2</th>\n",
       "      <td>Tina Combs</td>\n",
       "      <td>12/15/2017 7:26:56 AM</td>\n",
       "      <td>12/15/2017 7:34:08 AM</td>\n",
       "      <td>Debit Card</td>\n",
       "      <td>1</td>\n",
       "      <td>1.00</td>\n",
       "      <td>6.5</td>\n",
       "      <td>1.45</td>\n",
       "      <td>0.0</td>\n",
       "    </tr>\n",
       "    <tr>\n",
       "      <th>3</th>\n",
       "      <td>Anthony Ray</td>\n",
       "      <td>05/07/2017 1:17:59 PM</td>\n",
       "      <td>05/07/2017 1:48:14 PM</td>\n",
       "      <td>Cash</td>\n",
       "      <td>1</td>\n",
       "      <td>3.70</td>\n",
       "      <td>20.5</td>\n",
       "      <td>6.39</td>\n",
       "      <td>0.0</td>\n",
       "    </tr>\n",
       "    <tr>\n",
       "      <th>4</th>\n",
       "      <td>Brianna Johnson</td>\n",
       "      <td>04/15/2017 11:32:20 PM</td>\n",
       "      <td>04/15/2017 11:49:03 PM</td>\n",
       "      <td>Debit Card</td>\n",
       "      <td>1</td>\n",
       "      <td>4.37</td>\n",
       "      <td>16.5</td>\n",
       "      <td>0.00</td>\n",
       "      <td>0.0</td>\n",
       "    </tr>\n",
       "  </tbody>\n",
       "</table>\n",
       "</div>"
      ],
      "text/plain": [
       "    passenger_name    tpep_pickup_datetime   tpep_dropoff_datetime  \\\n",
       "0     Pamela Duffy   03/25/2017 8:55:43 AM   03/25/2017 9:09:47 AM   \n",
       "1  Michelle Foster   04/11/2017 2:53:28 PM   04/11/2017 3:19:58 PM   \n",
       "2       Tina Combs   12/15/2017 7:26:56 AM   12/15/2017 7:34:08 AM   \n",
       "3      Anthony Ray   05/07/2017 1:17:59 PM   05/07/2017 1:48:14 PM   \n",
       "4  Brianna Johnson  04/15/2017 11:32:20 PM  04/15/2017 11:49:03 PM   \n",
       "\n",
       "  payment_method  passenger_count  trip_distance  fare_amount  tip_amount  \\\n",
       "0     Debit Card                6           3.34         13.0        2.76   \n",
       "1     Debit Card                1           1.80         16.0        4.00   \n",
       "2     Debit Card                1           1.00          6.5        1.45   \n",
       "3           Cash                1           3.70         20.5        6.39   \n",
       "4     Debit Card                1           4.37         16.5        0.00   \n",
       "\n",
       "   tolls_amount  \n",
       "0           0.0  \n",
       "1           0.0  \n",
       "2           0.0  \n",
       "3           0.0  \n",
       "4           0.0  "
      ]
     },
     "execution_count": 18,
     "metadata": {},
     "output_type": "execute_result"
    }
   ],
   "source": [
    "data.head()"
   ]
  },
  {
   "cell_type": "markdown",
   "id": "fcb4e0d2",
   "metadata": {},
   "source": [
    "- info() 메소드를 사용하여 데이터 컬럼명과 자료형 확인"
   ]
  },
  {
   "cell_type": "code",
   "execution_count": 19,
   "id": "a977068a",
   "metadata": {},
   "outputs": [
    {
     "name": "stdout",
     "output_type": "stream",
     "text": [
      "<class 'pandas.core.frame.DataFrame'>\n",
      "RangeIndex: 22701 entries, 0 to 22700\n",
      "Data columns (total 9 columns):\n",
      " #   Column                 Non-Null Count  Dtype  \n",
      "---  ------                 --------------  -----  \n",
      " 0   passenger_name         22701 non-null  object \n",
      " 1   tpep_pickup_datetime   22701 non-null  object \n",
      " 2   tpep_dropoff_datetime  22701 non-null  object \n",
      " 3   payment_method         22701 non-null  object \n",
      " 4   passenger_count        22701 non-null  int64  \n",
      " 5   trip_distance          22701 non-null  float64\n",
      " 6   fare_amount            22698 non-null  float64\n",
      " 7   tip_amount             22701 non-null  float64\n",
      " 8   tolls_amount           22701 non-null  float64\n",
      "dtypes: float64(4), int64(1), object(4)\n",
      "memory usage: 1.6+ MB\n"
     ]
    }
   ],
   "source": [
    "data.info()"
   ]
  },
  {
   "cell_type": "markdown",
   "id": "00ed47ae",
   "metadata": {},
   "source": [
    "- describe() 메서드를 사용하여 데이터 컬럼별 통계량 확인"
   ]
  },
  {
   "cell_type": "code",
   "execution_count": 20,
   "id": "c4cecff1",
   "metadata": {},
   "outputs": [
    {
     "data": {
      "application/vnd.microsoft.datawrangler.viewer.v0+json": {
       "columns": [
        {
         "name": "index",
         "rawType": "object",
         "type": "string"
        },
        {
         "name": "passenger_count",
         "rawType": "float64",
         "type": "float"
        },
        {
         "name": "trip_distance",
         "rawType": "float64",
         "type": "float"
        },
        {
         "name": "fare_amount",
         "rawType": "float64",
         "type": "float"
        },
        {
         "name": "tip_amount",
         "rawType": "float64",
         "type": "float"
        },
        {
         "name": "tolls_amount",
         "rawType": "float64",
         "type": "float"
        }
       ],
       "ref": "7094a3df-b6c3-47ad-bd26-22100d25bfc6",
       "rows": [
        [
         "count",
         "22701.0",
         "22701.0",
         "22698.0",
         "22701.0",
         "22701.0"
        ],
        [
         "mean",
         "1.6435839830844456",
         "2.9133998502268623",
         "13.024009163802976",
         "1.8357451213602924",
         "0.31251398616801024"
        ],
        [
         "std",
         "1.3049421140492088",
         "3.6530230713002565",
         "13.240074290200637",
         "2.8005374902716937",
         "1.399153366200501"
        ],
        [
         "min",
         "0.0",
         "0.0",
         "-120.0",
         "0.0",
         "0.0"
        ],
        [
         "25%",
         "1.0",
         "0.99",
         "6.5",
         "0.0",
         "0.0"
        ],
        [
         "50%",
         "1.0",
         "1.61",
         "9.5",
         "1.35",
         "0.0"
        ],
        [
         "75%",
         "2.0",
         "3.06",
         "14.5",
         "2.45",
         "0.0"
        ],
        [
         "max",
         "36.0",
         "33.96",
         "999.99",
         "200.0",
         "19.1"
        ]
       ],
       "shape": {
        "columns": 5,
        "rows": 8
       }
      },
      "text/html": [
       "<div>\n",
       "<style scoped>\n",
       "    .dataframe tbody tr th:only-of-type {\n",
       "        vertical-align: middle;\n",
       "    }\n",
       "\n",
       "    .dataframe tbody tr th {\n",
       "        vertical-align: top;\n",
       "    }\n",
       "\n",
       "    .dataframe thead th {\n",
       "        text-align: right;\n",
       "    }\n",
       "</style>\n",
       "<table border=\"1\" class=\"dataframe\">\n",
       "  <thead>\n",
       "    <tr style=\"text-align: right;\">\n",
       "      <th></th>\n",
       "      <th>passenger_count</th>\n",
       "      <th>trip_distance</th>\n",
       "      <th>fare_amount</th>\n",
       "      <th>tip_amount</th>\n",
       "      <th>tolls_amount</th>\n",
       "    </tr>\n",
       "  </thead>\n",
       "  <tbody>\n",
       "    <tr>\n",
       "      <th>count</th>\n",
       "      <td>22701.000000</td>\n",
       "      <td>22701.000000</td>\n",
       "      <td>22698.000000</td>\n",
       "      <td>22701.000000</td>\n",
       "      <td>22701.000000</td>\n",
       "    </tr>\n",
       "    <tr>\n",
       "      <th>mean</th>\n",
       "      <td>1.643584</td>\n",
       "      <td>2.913400</td>\n",
       "      <td>13.024009</td>\n",
       "      <td>1.835745</td>\n",
       "      <td>0.312514</td>\n",
       "    </tr>\n",
       "    <tr>\n",
       "      <th>std</th>\n",
       "      <td>1.304942</td>\n",
       "      <td>3.653023</td>\n",
       "      <td>13.240074</td>\n",
       "      <td>2.800537</td>\n",
       "      <td>1.399153</td>\n",
       "    </tr>\n",
       "    <tr>\n",
       "      <th>min</th>\n",
       "      <td>0.000000</td>\n",
       "      <td>0.000000</td>\n",
       "      <td>-120.000000</td>\n",
       "      <td>0.000000</td>\n",
       "      <td>0.000000</td>\n",
       "    </tr>\n",
       "    <tr>\n",
       "      <th>25%</th>\n",
       "      <td>1.000000</td>\n",
       "      <td>0.990000</td>\n",
       "      <td>6.500000</td>\n",
       "      <td>0.000000</td>\n",
       "      <td>0.000000</td>\n",
       "    </tr>\n",
       "    <tr>\n",
       "      <th>50%</th>\n",
       "      <td>1.000000</td>\n",
       "      <td>1.610000</td>\n",
       "      <td>9.500000</td>\n",
       "      <td>1.350000</td>\n",
       "      <td>0.000000</td>\n",
       "    </tr>\n",
       "    <tr>\n",
       "      <th>75%</th>\n",
       "      <td>2.000000</td>\n",
       "      <td>3.060000</td>\n",
       "      <td>14.500000</td>\n",
       "      <td>2.450000</td>\n",
       "      <td>0.000000</td>\n",
       "    </tr>\n",
       "    <tr>\n",
       "      <th>max</th>\n",
       "      <td>36.000000</td>\n",
       "      <td>33.960000</td>\n",
       "      <td>999.990000</td>\n",
       "      <td>200.000000</td>\n",
       "      <td>19.100000</td>\n",
       "    </tr>\n",
       "  </tbody>\n",
       "</table>\n",
       "</div>"
      ],
      "text/plain": [
       "       passenger_count  trip_distance   fare_amount    tip_amount  \\\n",
       "count     22701.000000   22701.000000  22698.000000  22701.000000   \n",
       "mean          1.643584       2.913400     13.024009      1.835745   \n",
       "std           1.304942       3.653023     13.240074      2.800537   \n",
       "min           0.000000       0.000000   -120.000000      0.000000   \n",
       "25%           1.000000       0.990000      6.500000      0.000000   \n",
       "50%           1.000000       1.610000      9.500000      1.350000   \n",
       "75%           2.000000       3.060000     14.500000      2.450000   \n",
       "max          36.000000      33.960000    999.990000    200.000000   \n",
       "\n",
       "       tolls_amount  \n",
       "count  22701.000000  \n",
       "mean       0.312514  \n",
       "std        1.399153  \n",
       "min        0.000000  \n",
       "25%        0.000000  \n",
       "50%        0.000000  \n",
       "75%        0.000000  \n",
       "max       19.100000  "
      ]
     },
     "execution_count": 20,
     "metadata": {},
     "output_type": "execute_result"
    }
   ],
   "source": [
    "data.describe()"
   ]
  },
  {
   "cell_type": "markdown",
   "id": "f8a3dd51",
   "metadata": {},
   "source": [
    "### 중복 데이터 확인"
   ]
  },
  {
   "cell_type": "markdown",
   "id": "e8a11ab1",
   "metadata": {},
   "source": [
    "- 중복 데이터 확인"
   ]
  },
  {
   "cell_type": "code",
   "execution_count": 21,
   "id": "61fd23c2",
   "metadata": {},
   "outputs": [
    {
     "data": {
      "application/vnd.microsoft.datawrangler.viewer.v0+json": {
       "columns": [
        {
         "name": "index",
         "rawType": "int64",
         "type": "integer"
        },
        {
         "name": "passenger_name",
         "rawType": "object",
         "type": "string"
        },
        {
         "name": "tpep_pickup_datetime",
         "rawType": "object",
         "type": "string"
        },
        {
         "name": "tpep_dropoff_datetime",
         "rawType": "object",
         "type": "string"
        },
        {
         "name": "payment_method",
         "rawType": "object",
         "type": "string"
        },
        {
         "name": "passenger_count",
         "rawType": "int64",
         "type": "integer"
        },
        {
         "name": "trip_distance",
         "rawType": "float64",
         "type": "float"
        },
        {
         "name": "fare_amount",
         "rawType": "float64",
         "type": "float"
        },
        {
         "name": "tip_amount",
         "rawType": "float64",
         "type": "float"
        },
        {
         "name": "tolls_amount",
         "rawType": "float64",
         "type": "float"
        }
       ],
       "ref": "0f6034ce-58e3-4261-a329-4a8eaf8229c2",
       "rows": [
        [
         "17",
         "Sarah Gross",
         "08/15/2017 7:48:08 PM",
         "08/15/2017 8:00:37 PM",
         "Cash",
         "1",
         "3.6",
         "12.5",
         "2.85",
         "0.0"
        ],
        [
         "204",
         "Lisa Bullock",
         "02/13/2017 4:25:41 PM",
         "02/13/2017 4:55:35 PM",
         "Cash",
         "1",
         "4.2",
         "21.0",
         "0.0",
         "0.0"
        ]
       ],
       "shape": {
        "columns": 9,
        "rows": 2
       }
      },
      "text/html": [
       "<div>\n",
       "<style scoped>\n",
       "    .dataframe tbody tr th:only-of-type {\n",
       "        vertical-align: middle;\n",
       "    }\n",
       "\n",
       "    .dataframe tbody tr th {\n",
       "        vertical-align: top;\n",
       "    }\n",
       "\n",
       "    .dataframe thead th {\n",
       "        text-align: right;\n",
       "    }\n",
       "</style>\n",
       "<table border=\"1\" class=\"dataframe\">\n",
       "  <thead>\n",
       "    <tr style=\"text-align: right;\">\n",
       "      <th></th>\n",
       "      <th>passenger_name</th>\n",
       "      <th>tpep_pickup_datetime</th>\n",
       "      <th>tpep_dropoff_datetime</th>\n",
       "      <th>payment_method</th>\n",
       "      <th>passenger_count</th>\n",
       "      <th>trip_distance</th>\n",
       "      <th>fare_amount</th>\n",
       "      <th>tip_amount</th>\n",
       "      <th>tolls_amount</th>\n",
       "    </tr>\n",
       "  </thead>\n",
       "  <tbody>\n",
       "    <tr>\n",
       "      <th>17</th>\n",
       "      <td>Sarah Gross</td>\n",
       "      <td>08/15/2017 7:48:08 PM</td>\n",
       "      <td>08/15/2017 8:00:37 PM</td>\n",
       "      <td>Cash</td>\n",
       "      <td>1</td>\n",
       "      <td>3.6</td>\n",
       "      <td>12.5</td>\n",
       "      <td>2.85</td>\n",
       "      <td>0.0</td>\n",
       "    </tr>\n",
       "    <tr>\n",
       "      <th>204</th>\n",
       "      <td>Lisa Bullock</td>\n",
       "      <td>02/13/2017 4:25:41 PM</td>\n",
       "      <td>02/13/2017 4:55:35 PM</td>\n",
       "      <td>Cash</td>\n",
       "      <td>1</td>\n",
       "      <td>4.2</td>\n",
       "      <td>21.0</td>\n",
       "      <td>0.00</td>\n",
       "      <td>0.0</td>\n",
       "    </tr>\n",
       "  </tbody>\n",
       "</table>\n",
       "</div>"
      ],
      "text/plain": [
       "    passenger_name   tpep_pickup_datetime  tpep_dropoff_datetime  \\\n",
       "17     Sarah Gross  08/15/2017 7:48:08 PM  08/15/2017 8:00:37 PM   \n",
       "204   Lisa Bullock  02/13/2017 4:25:41 PM  02/13/2017 4:55:35 PM   \n",
       "\n",
       "    payment_method  passenger_count  trip_distance  fare_amount  tip_amount  \\\n",
       "17            Cash                1            3.6         12.5        2.85   \n",
       "204           Cash                1            4.2         21.0        0.00   \n",
       "\n",
       "     tolls_amount  \n",
       "17            0.0  \n",
       "204           0.0  "
      ]
     },
     "execution_count": 21,
     "metadata": {},
     "output_type": "execute_result"
    }
   ],
   "source": [
    "data[ data.duplicated() ]"
   ]
  },
  {
   "cell_type": "code",
   "execution_count": 22,
   "id": "2eb8a4f7",
   "metadata": {},
   "outputs": [
    {
     "data": {
      "application/vnd.microsoft.datawrangler.viewer.v0+json": {
       "columns": [
        {
         "name": "index",
         "rawType": "int64",
         "type": "integer"
        },
        {
         "name": "passenger_name",
         "rawType": "object",
         "type": "string"
        },
        {
         "name": "tpep_pickup_datetime",
         "rawType": "object",
         "type": "string"
        },
        {
         "name": "tpep_dropoff_datetime",
         "rawType": "object",
         "type": "string"
        },
        {
         "name": "payment_method",
         "rawType": "object",
         "type": "string"
        },
        {
         "name": "passenger_count",
         "rawType": "int64",
         "type": "integer"
        },
        {
         "name": "trip_distance",
         "rawType": "float64",
         "type": "float"
        },
        {
         "name": "fare_amount",
         "rawType": "float64",
         "type": "float"
        },
        {
         "name": "tip_amount",
         "rawType": "float64",
         "type": "float"
        },
        {
         "name": "tolls_amount",
         "rawType": "float64",
         "type": "float"
        }
       ],
       "ref": "05a3f376-ce2b-477a-a011-98e1cabe71b7",
       "rows": [
        [
         "16",
         "Sarah Gross",
         "08/15/2017 7:48:08 PM",
         "08/15/2017 8:00:37 PM",
         "Cash",
         "1",
         "3.6",
         "12.5",
         "2.85",
         "0.0"
        ],
        [
         "17",
         "Sarah Gross",
         "08/15/2017 7:48:08 PM",
         "08/15/2017 8:00:37 PM",
         "Cash",
         "1",
         "3.6",
         "12.5",
         "2.85",
         "0.0"
        ]
       ],
       "shape": {
        "columns": 9,
        "rows": 2
       }
      },
      "text/html": [
       "<div>\n",
       "<style scoped>\n",
       "    .dataframe tbody tr th:only-of-type {\n",
       "        vertical-align: middle;\n",
       "    }\n",
       "\n",
       "    .dataframe tbody tr th {\n",
       "        vertical-align: top;\n",
       "    }\n",
       "\n",
       "    .dataframe thead th {\n",
       "        text-align: right;\n",
       "    }\n",
       "</style>\n",
       "<table border=\"1\" class=\"dataframe\">\n",
       "  <thead>\n",
       "    <tr style=\"text-align: right;\">\n",
       "      <th></th>\n",
       "      <th>passenger_name</th>\n",
       "      <th>tpep_pickup_datetime</th>\n",
       "      <th>tpep_dropoff_datetime</th>\n",
       "      <th>payment_method</th>\n",
       "      <th>passenger_count</th>\n",
       "      <th>trip_distance</th>\n",
       "      <th>fare_amount</th>\n",
       "      <th>tip_amount</th>\n",
       "      <th>tolls_amount</th>\n",
       "    </tr>\n",
       "  </thead>\n",
       "  <tbody>\n",
       "    <tr>\n",
       "      <th>16</th>\n",
       "      <td>Sarah Gross</td>\n",
       "      <td>08/15/2017 7:48:08 PM</td>\n",
       "      <td>08/15/2017 8:00:37 PM</td>\n",
       "      <td>Cash</td>\n",
       "      <td>1</td>\n",
       "      <td>3.6</td>\n",
       "      <td>12.5</td>\n",
       "      <td>2.85</td>\n",
       "      <td>0.0</td>\n",
       "    </tr>\n",
       "    <tr>\n",
       "      <th>17</th>\n",
       "      <td>Sarah Gross</td>\n",
       "      <td>08/15/2017 7:48:08 PM</td>\n",
       "      <td>08/15/2017 8:00:37 PM</td>\n",
       "      <td>Cash</td>\n",
       "      <td>1</td>\n",
       "      <td>3.6</td>\n",
       "      <td>12.5</td>\n",
       "      <td>2.85</td>\n",
       "      <td>0.0</td>\n",
       "    </tr>\n",
       "  </tbody>\n",
       "</table>\n",
       "</div>"
      ],
      "text/plain": [
       "   passenger_name   tpep_pickup_datetime  tpep_dropoff_datetime  \\\n",
       "16    Sarah Gross  08/15/2017 7:48:08 PM  08/15/2017 8:00:37 PM   \n",
       "17    Sarah Gross  08/15/2017 7:48:08 PM  08/15/2017 8:00:37 PM   \n",
       "\n",
       "   payment_method  passenger_count  trip_distance  fare_amount  tip_amount  \\\n",
       "16           Cash                1            3.6         12.5        2.85   \n",
       "17           Cash                1            3.6         12.5        2.85   \n",
       "\n",
       "    tolls_amount  \n",
       "16           0.0  \n",
       "17           0.0  "
      ]
     },
     "execution_count": 22,
     "metadata": {},
     "output_type": "execute_result"
    }
   ],
   "source": [
    "data[ data['passenger_name']=='Sarah Gross' ]"
   ]
  },
  {
   "cell_type": "code",
   "execution_count": 23,
   "id": "6a11c462",
   "metadata": {},
   "outputs": [
    {
     "data": {
      "application/vnd.microsoft.datawrangler.viewer.v0+json": {
       "columns": [
        {
         "name": "index",
         "rawType": "int64",
         "type": "integer"
        },
        {
         "name": "passenger_name",
         "rawType": "object",
         "type": "string"
        },
        {
         "name": "tpep_pickup_datetime",
         "rawType": "object",
         "type": "string"
        },
        {
         "name": "tpep_dropoff_datetime",
         "rawType": "object",
         "type": "string"
        },
        {
         "name": "payment_method",
         "rawType": "object",
         "type": "string"
        },
        {
         "name": "passenger_count",
         "rawType": "int64",
         "type": "integer"
        },
        {
         "name": "trip_distance",
         "rawType": "float64",
         "type": "float"
        },
        {
         "name": "fare_amount",
         "rawType": "float64",
         "type": "float"
        },
        {
         "name": "tip_amount",
         "rawType": "float64",
         "type": "float"
        },
        {
         "name": "tolls_amount",
         "rawType": "float64",
         "type": "float"
        }
       ],
       "ref": "f411ab8e-1d80-436d-bf0c-b5bb05297df5",
       "rows": [
        [
         "203",
         "Lisa Bullock",
         "02/13/2017 4:25:41 PM",
         "02/13/2017 4:55:35 PM",
         "Cash",
         "1",
         "4.2",
         "21.0",
         "0.0",
         "0.0"
        ],
        [
         "204",
         "Lisa Bullock",
         "02/13/2017 4:25:41 PM",
         "02/13/2017 4:55:35 PM",
         "Cash",
         "1",
         "4.2",
         "21.0",
         "0.0",
         "0.0"
        ]
       ],
       "shape": {
        "columns": 9,
        "rows": 2
       }
      },
      "text/html": [
       "<div>\n",
       "<style scoped>\n",
       "    .dataframe tbody tr th:only-of-type {\n",
       "        vertical-align: middle;\n",
       "    }\n",
       "\n",
       "    .dataframe tbody tr th {\n",
       "        vertical-align: top;\n",
       "    }\n",
       "\n",
       "    .dataframe thead th {\n",
       "        text-align: right;\n",
       "    }\n",
       "</style>\n",
       "<table border=\"1\" class=\"dataframe\">\n",
       "  <thead>\n",
       "    <tr style=\"text-align: right;\">\n",
       "      <th></th>\n",
       "      <th>passenger_name</th>\n",
       "      <th>tpep_pickup_datetime</th>\n",
       "      <th>tpep_dropoff_datetime</th>\n",
       "      <th>payment_method</th>\n",
       "      <th>passenger_count</th>\n",
       "      <th>trip_distance</th>\n",
       "      <th>fare_amount</th>\n",
       "      <th>tip_amount</th>\n",
       "      <th>tolls_amount</th>\n",
       "    </tr>\n",
       "  </thead>\n",
       "  <tbody>\n",
       "    <tr>\n",
       "      <th>203</th>\n",
       "      <td>Lisa Bullock</td>\n",
       "      <td>02/13/2017 4:25:41 PM</td>\n",
       "      <td>02/13/2017 4:55:35 PM</td>\n",
       "      <td>Cash</td>\n",
       "      <td>1</td>\n",
       "      <td>4.2</td>\n",
       "      <td>21.0</td>\n",
       "      <td>0.0</td>\n",
       "      <td>0.0</td>\n",
       "    </tr>\n",
       "    <tr>\n",
       "      <th>204</th>\n",
       "      <td>Lisa Bullock</td>\n",
       "      <td>02/13/2017 4:25:41 PM</td>\n",
       "      <td>02/13/2017 4:55:35 PM</td>\n",
       "      <td>Cash</td>\n",
       "      <td>1</td>\n",
       "      <td>4.2</td>\n",
       "      <td>21.0</td>\n",
       "      <td>0.0</td>\n",
       "      <td>0.0</td>\n",
       "    </tr>\n",
       "  </tbody>\n",
       "</table>\n",
       "</div>"
      ],
      "text/plain": [
       "    passenger_name   tpep_pickup_datetime  tpep_dropoff_datetime  \\\n",
       "203   Lisa Bullock  02/13/2017 4:25:41 PM  02/13/2017 4:55:35 PM   \n",
       "204   Lisa Bullock  02/13/2017 4:25:41 PM  02/13/2017 4:55:35 PM   \n",
       "\n",
       "    payment_method  passenger_count  trip_distance  fare_amount  tip_amount  \\\n",
       "203           Cash                1            4.2         21.0         0.0   \n",
       "204           Cash                1            4.2         21.0         0.0   \n",
       "\n",
       "     tolls_amount  \n",
       "203           0.0  \n",
       "204           0.0  "
      ]
     },
     "execution_count": 23,
     "metadata": {},
     "output_type": "execute_result"
    }
   ],
   "source": [
    "data[ data['passenger_name']=='Lisa Bullock' ] "
   ]
  },
  {
   "cell_type": "markdown",
   "id": "f5066661",
   "metadata": {},
   "source": [
    "- 중복 데이터 제거"
   ]
  },
  {
   "cell_type": "code",
   "execution_count": 24,
   "id": "a47ae50d",
   "metadata": {},
   "outputs": [],
   "source": [
    "data = data.drop_duplicates()\n",
    "data = data.reset_index(drop=True)"
   ]
  },
  {
   "cell_type": "code",
   "execution_count": 25,
   "id": "4529922e",
   "metadata": {},
   "outputs": [
    {
     "data": {
      "application/vnd.microsoft.datawrangler.viewer.v0+json": {
       "columns": [
        {
         "name": "index",
         "rawType": "int64",
         "type": "integer"
        },
        {
         "name": "passenger_name",
         "rawType": "object",
         "type": "string"
        },
        {
         "name": "tpep_pickup_datetime",
         "rawType": "object",
         "type": "string"
        },
        {
         "name": "tpep_dropoff_datetime",
         "rawType": "object",
         "type": "string"
        },
        {
         "name": "payment_method",
         "rawType": "object",
         "type": "string"
        },
        {
         "name": "passenger_count",
         "rawType": "int64",
         "type": "integer"
        },
        {
         "name": "trip_distance",
         "rawType": "float64",
         "type": "float"
        },
        {
         "name": "fare_amount",
         "rawType": "float64",
         "type": "float"
        },
        {
         "name": "tip_amount",
         "rawType": "float64",
         "type": "float"
        },
        {
         "name": "tolls_amount",
         "rawType": "float64",
         "type": "float"
        }
       ],
       "ref": "488748f0-fd0a-43f4-988c-052e6fc7cfa9",
       "rows": [
        [
         "16",
         "Sarah Gross",
         "08/15/2017 7:48:08 PM",
         "08/15/2017 8:00:37 PM",
         "Cash",
         "1",
         "3.6",
         "12.5",
         "2.85",
         "0.0"
        ]
       ],
       "shape": {
        "columns": 9,
        "rows": 1
       }
      },
      "text/html": [
       "<div>\n",
       "<style scoped>\n",
       "    .dataframe tbody tr th:only-of-type {\n",
       "        vertical-align: middle;\n",
       "    }\n",
       "\n",
       "    .dataframe tbody tr th {\n",
       "        vertical-align: top;\n",
       "    }\n",
       "\n",
       "    .dataframe thead th {\n",
       "        text-align: right;\n",
       "    }\n",
       "</style>\n",
       "<table border=\"1\" class=\"dataframe\">\n",
       "  <thead>\n",
       "    <tr style=\"text-align: right;\">\n",
       "      <th></th>\n",
       "      <th>passenger_name</th>\n",
       "      <th>tpep_pickup_datetime</th>\n",
       "      <th>tpep_dropoff_datetime</th>\n",
       "      <th>payment_method</th>\n",
       "      <th>passenger_count</th>\n",
       "      <th>trip_distance</th>\n",
       "      <th>fare_amount</th>\n",
       "      <th>tip_amount</th>\n",
       "      <th>tolls_amount</th>\n",
       "    </tr>\n",
       "  </thead>\n",
       "  <tbody>\n",
       "    <tr>\n",
       "      <th>16</th>\n",
       "      <td>Sarah Gross</td>\n",
       "      <td>08/15/2017 7:48:08 PM</td>\n",
       "      <td>08/15/2017 8:00:37 PM</td>\n",
       "      <td>Cash</td>\n",
       "      <td>1</td>\n",
       "      <td>3.6</td>\n",
       "      <td>12.5</td>\n",
       "      <td>2.85</td>\n",
       "      <td>0.0</td>\n",
       "    </tr>\n",
       "  </tbody>\n",
       "</table>\n",
       "</div>"
      ],
      "text/plain": [
       "   passenger_name   tpep_pickup_datetime  tpep_dropoff_datetime  \\\n",
       "16    Sarah Gross  08/15/2017 7:48:08 PM  08/15/2017 8:00:37 PM   \n",
       "\n",
       "   payment_method  passenger_count  trip_distance  fare_amount  tip_amount  \\\n",
       "16           Cash                1            3.6         12.5        2.85   \n",
       "\n",
       "    tolls_amount  \n",
       "16           0.0  "
      ]
     },
     "execution_count": 25,
     "metadata": {},
     "output_type": "execute_result"
    }
   ],
   "source": [
    "data[ data['passenger_name']=='Sarah Gross' ]"
   ]
  },
  {
   "cell_type": "code",
   "execution_count": 26,
   "id": "de0e60c1",
   "metadata": {},
   "outputs": [
    {
     "data": {
      "application/vnd.microsoft.datawrangler.viewer.v0+json": {
       "columns": [
        {
         "name": "index",
         "rawType": "int64",
         "type": "integer"
        },
        {
         "name": "passenger_name",
         "rawType": "object",
         "type": "string"
        },
        {
         "name": "tpep_pickup_datetime",
         "rawType": "object",
         "type": "string"
        },
        {
         "name": "tpep_dropoff_datetime",
         "rawType": "object",
         "type": "string"
        },
        {
         "name": "payment_method",
         "rawType": "object",
         "type": "string"
        },
        {
         "name": "passenger_count",
         "rawType": "int64",
         "type": "integer"
        },
        {
         "name": "trip_distance",
         "rawType": "float64",
         "type": "float"
        },
        {
         "name": "fare_amount",
         "rawType": "float64",
         "type": "float"
        },
        {
         "name": "tip_amount",
         "rawType": "float64",
         "type": "float"
        },
        {
         "name": "tolls_amount",
         "rawType": "float64",
         "type": "float"
        }
       ],
       "ref": "931e6c62-05c1-4e04-a0ff-eda7fb9d895f",
       "rows": [
        [
         "202",
         "Lisa Bullock",
         "02/13/2017 4:25:41 PM",
         "02/13/2017 4:55:35 PM",
         "Cash",
         "1",
         "4.2",
         "21.0",
         "0.0",
         "0.0"
        ]
       ],
       "shape": {
        "columns": 9,
        "rows": 1
       }
      },
      "text/html": [
       "<div>\n",
       "<style scoped>\n",
       "    .dataframe tbody tr th:only-of-type {\n",
       "        vertical-align: middle;\n",
       "    }\n",
       "\n",
       "    .dataframe tbody tr th {\n",
       "        vertical-align: top;\n",
       "    }\n",
       "\n",
       "    .dataframe thead th {\n",
       "        text-align: right;\n",
       "    }\n",
       "</style>\n",
       "<table border=\"1\" class=\"dataframe\">\n",
       "  <thead>\n",
       "    <tr style=\"text-align: right;\">\n",
       "      <th></th>\n",
       "      <th>passenger_name</th>\n",
       "      <th>tpep_pickup_datetime</th>\n",
       "      <th>tpep_dropoff_datetime</th>\n",
       "      <th>payment_method</th>\n",
       "      <th>passenger_count</th>\n",
       "      <th>trip_distance</th>\n",
       "      <th>fare_amount</th>\n",
       "      <th>tip_amount</th>\n",
       "      <th>tolls_amount</th>\n",
       "    </tr>\n",
       "  </thead>\n",
       "  <tbody>\n",
       "    <tr>\n",
       "      <th>202</th>\n",
       "      <td>Lisa Bullock</td>\n",
       "      <td>02/13/2017 4:25:41 PM</td>\n",
       "      <td>02/13/2017 4:55:35 PM</td>\n",
       "      <td>Cash</td>\n",
       "      <td>1</td>\n",
       "      <td>4.2</td>\n",
       "      <td>21.0</td>\n",
       "      <td>0.0</td>\n",
       "      <td>0.0</td>\n",
       "    </tr>\n",
       "  </tbody>\n",
       "</table>\n",
       "</div>"
      ],
      "text/plain": [
       "    passenger_name   tpep_pickup_datetime  tpep_dropoff_datetime  \\\n",
       "202   Lisa Bullock  02/13/2017 4:25:41 PM  02/13/2017 4:55:35 PM   \n",
       "\n",
       "    payment_method  passenger_count  trip_distance  fare_amount  tip_amount  \\\n",
       "202           Cash                1            4.2         21.0         0.0   \n",
       "\n",
       "     tolls_amount  \n",
       "202           0.0  "
      ]
     },
     "execution_count": 26,
     "metadata": {},
     "output_type": "execute_result"
    }
   ],
   "source": [
    "data[ data['passenger_name']=='Lisa Bullock' ] "
   ]
  },
  {
   "cell_type": "markdown",
   "id": "be039ae5",
   "metadata": {},
   "source": [
    "### 결측치 확인"
   ]
  },
  {
   "cell_type": "markdown",
   "id": "5348d39d",
   "metadata": {},
   "source": [
    "- 전체 데이터 대비 결측치의 비율 확인"
   ]
  },
  {
   "cell_type": "code",
   "execution_count": 32,
   "id": "45dd57b4",
   "metadata": {},
   "outputs": [
    {
     "data": {
      "application/vnd.microsoft.datawrangler.viewer.v0+json": {
       "columns": [
        {
         "name": "index",
         "rawType": "object",
         "type": "string"
        },
        {
         "name": "0",
         "rawType": "float64",
         "type": "float"
        }
       ],
       "ref": "1f58339a-d345-4278-a26a-7e1b5a0fd0c8",
       "rows": [
        [
         "passenger_name",
         "0.0"
        ],
        [
         "tpep_pickup_datetime",
         "0.0"
        ],
        [
         "tpep_dropoff_datetime",
         "0.0"
        ],
        [
         "payment_method",
         "0.0"
        ],
        [
         "passenger_count",
         "0.0"
        ],
        [
         "trip_distance",
         "0.0"
        ],
        [
         "fare_amount",
         "0.013216441252918631"
        ],
        [
         "tip_amount",
         "0.0"
        ],
        [
         "tolls_amount",
         "0.0"
        ]
       ],
       "shape": {
        "columns": 1,
        "rows": 9
       }
      },
      "text/plain": [
       "passenger_name           0.000000\n",
       "tpep_pickup_datetime     0.000000\n",
       "tpep_dropoff_datetime    0.000000\n",
       "payment_method           0.000000\n",
       "passenger_count          0.000000\n",
       "trip_distance            0.000000\n",
       "fare_amount              0.013216\n",
       "tip_amount               0.000000\n",
       "tolls_amount             0.000000\n",
       "dtype: float64"
      ]
     },
     "execution_count": 32,
     "metadata": {},
     "output_type": "execute_result"
    }
   ],
   "source": [
    "data.isna().sum() / (data.isna().sum() + data.count()) * 100"
   ]
  },
  {
   "cell_type": "code",
   "execution_count": 33,
   "id": "400ae341",
   "metadata": {},
   "outputs": [
    {
     "data": {
      "application/vnd.microsoft.datawrangler.viewer.v0+json": {
       "columns": [
        {
         "name": "index",
         "rawType": "object",
         "type": "string"
        },
        {
         "name": "0",
         "rawType": "float64",
         "type": "float"
        }
       ],
       "ref": "a6fa29ad-ad8f-4af2-8929-b71c6e59cdc9",
       "rows": [
        [
         "passenger_name",
         "0.0"
        ],
        [
         "tpep_pickup_datetime",
         "0.0"
        ],
        [
         "tpep_dropoff_datetime",
         "0.0"
        ],
        [
         "payment_method",
         "0.0"
        ],
        [
         "passenger_count",
         "0.0"
        ],
        [
         "trip_distance",
         "0.0"
        ],
        [
         "fare_amount",
         "0.013216441252918631"
        ],
        [
         "tip_amount",
         "0.0"
        ],
        [
         "tolls_amount",
         "0.0"
        ]
       ],
       "shape": {
        "columns": 1,
        "rows": 9
       }
      },
      "text/plain": [
       "passenger_name           0.000000\n",
       "tpep_pickup_datetime     0.000000\n",
       "tpep_dropoff_datetime    0.000000\n",
       "payment_method           0.000000\n",
       "passenger_count          0.000000\n",
       "trip_distance            0.000000\n",
       "fare_amount              0.013216\n",
       "tip_amount               0.000000\n",
       "tolls_amount             0.000000\n",
       "dtype: float64"
      ]
     },
     "execution_count": 33,
     "metadata": {},
     "output_type": "execute_result"
    }
   ],
   "source": [
    "data.isna().mean() * 100"
   ]
  },
  {
   "cell_type": "markdown",
   "id": "c76ca600",
   "metadata": {},
   "source": [
    "- 결측치 제거"
   ]
  },
  {
   "cell_type": "code",
   "execution_count": 34,
   "id": "a9a32d23",
   "metadata": {},
   "outputs": [],
   "source": [
    "data = data.dropna(axis=0)"
   ]
  },
  {
   "cell_type": "code",
   "execution_count": 35,
   "id": "8f8153b1",
   "metadata": {},
   "outputs": [
    {
     "data": {
      "application/vnd.microsoft.datawrangler.viewer.v0+json": {
       "columns": [
        {
         "name": "index",
         "rawType": "int64",
         "type": "integer"
        },
        {
         "name": "passenger_name",
         "rawType": "object",
         "type": "string"
        },
        {
         "name": "tpep_pickup_datetime",
         "rawType": "object",
         "type": "string"
        },
        {
         "name": "tpep_dropoff_datetime",
         "rawType": "object",
         "type": "string"
        },
        {
         "name": "payment_method",
         "rawType": "object",
         "type": "string"
        },
        {
         "name": "passenger_count",
         "rawType": "int64",
         "type": "integer"
        },
        {
         "name": "trip_distance",
         "rawType": "float64",
         "type": "float"
        },
        {
         "name": "fare_amount",
         "rawType": "float64",
         "type": "float"
        },
        {
         "name": "tip_amount",
         "rawType": "float64",
         "type": "float"
        },
        {
         "name": "tolls_amount",
         "rawType": "float64",
         "type": "float"
        }
       ],
       "ref": "d26c3d20-4fa7-40ae-a772-2878ac2b056f",
       "rows": [
        [
         "0",
         "Pamela Duffy",
         "03/25/2017 8:55:43 AM",
         "03/25/2017 9:09:47 AM",
         "Debit Card",
         "6",
         "3.34",
         "13.0",
         "2.76",
         "0.0"
        ],
        [
         "1",
         "Michelle Foster",
         "04/11/2017 2:53:28 PM",
         "04/11/2017 3:19:58 PM",
         "Debit Card",
         "1",
         "1.8",
         "16.0",
         "4.0",
         "0.0"
        ],
        [
         "2",
         "Tina Combs",
         "12/15/2017 7:26:56 AM",
         "12/15/2017 7:34:08 AM",
         "Debit Card",
         "1",
         "1.0",
         "6.5",
         "1.45",
         "0.0"
        ],
        [
         "3",
         "Anthony Ray",
         "05/07/2017 1:17:59 PM",
         "05/07/2017 1:48:14 PM",
         "Cash",
         "1",
         "3.7",
         "20.5",
         "6.39",
         "0.0"
        ],
        [
         "4",
         "Brianna Johnson",
         "04/15/2017 11:32:20 PM",
         "04/15/2017 11:49:03 PM",
         "Debit Card",
         "1",
         "4.37",
         "16.5",
         "0.0",
         "0.0"
        ],
        [
         "5",
         "Justin Smith",
         "03/25/2017 8:34:11 PM",
         "03/25/2017 8:42:11 PM",
         "Debit Card",
         "6",
         "2.3",
         "9.0",
         "2.06",
         "0.0"
        ],
        [
         "6",
         "Tonya Moreno",
         "05/03/2017 7:04:09 PM",
         "05/03/2017 8:03:47 PM",
         "Cash",
         "1",
         "12.83",
         "47.5",
         "9.86",
         "0.0"
        ],
        [
         "7",
         "Hannah Foley",
         "08/15/2017 5:41:06 PM",
         "08/15/2017 6:03:05 PM",
         "Debit Card",
         "1",
         "2.98",
         "16.0",
         "1.78",
         "0.0"
        ],
        [
         "8",
         "Katie Whitney",
         "02/04/2017 4:17:07 PM",
         "02/04/2017 4:29:14 PM",
         "Cash",
         "1",
         "1.2",
         "9.0",
         "0.0",
         "0.0"
        ],
        [
         "9",
         "Amanda Jones",
         "11/10/2017 3:20:29 PM",
         "11/10/2017 3:40:55 PM",
         "Cash",
         "1",
         "1.6",
         "13.0",
         "2.75",
         "0.0"
        ],
        [
         "10",
         "Cory Jensen",
         "03/04/2017 11:58:00 AM",
         "03/04/2017 12:13:12 PM",
         "Cash",
         "1",
         "1.77",
         "11.5",
         "2.46",
         "0.0"
        ],
        [
         "11",
         "Jamie Brown",
         "03/05/2017 7:15:30 PM",
         "03/05/2017 7:52:18 PM",
         "Debit Card",
         "2",
         "18.9",
         "52.0",
         "14.58",
         "5.54"
        ],
        [
         "12",
         "Ryan Reyes",
         "06/09/2017 7:00:26 PM",
         "06/09/2017 7:20:11 PM",
         "Debit Card",
         "1",
         "3.0",
         "15.0",
         "3.35",
         "0.0"
        ],
        [
         "13",
         "Jessica Mooney",
         "11/06/2017 11:35:05 PM",
         "11/06/2017 11:42:57 PM",
         "Credit Card",
         "1",
         "2.39",
         "9.5",
         "2.16",
         "0.0"
        ],
        [
         "14",
         "Heidi May",
         "02/22/2017 3:18:31 PM",
         "02/22/2017 3:42:50 PM",
         "Cash",
         "1",
         "3.3",
         "17.5",
         "4.55",
         "0.0"
        ],
        [
         "15",
         "Anthony Richard",
         "06/02/2017 6:41:39 AM",
         "06/02/2017 6:57:47 AM",
         "Credit Card",
         "1",
         "5.93",
         "19.0",
         "3.0",
         "0.0"
        ],
        [
         "16",
         "Sarah Gross",
         "08/15/2017 7:48:08 PM",
         "08/15/2017 8:00:37 PM",
         "Cash",
         "1",
         "3.6",
         "12.5",
         "2.85",
         "0.0"
        ],
        [
         "17",
         "Susan Robinson",
         "07/10/2017 1:36:31 PM",
         "07/10/2017 1:48:43 PM",
         "Cash",
         "2",
         "1.71",
         "9.5",
         "0.0",
         "0.0"
        ],
        [
         "18",
         "Cynthia Mendoza",
         "04/10/2017 6:12:58 PM",
         "04/10/2017 6:17:39 PM",
         "Cash",
         "2",
         "0.63",
         "5.0",
         "0.0",
         "0.0"
        ],
        [
         "19",
         "Zachary James",
         "03/05/2017 4:01:07 AM",
         "03/05/2017 4:14:11 AM",
         "Credit Card",
         "2",
         "2.77",
         "11.5",
         "3.2",
         "0.0"
        ],
        [
         "20",
         "Marissa Scott",
         "12/30/2017 11:52:44 PM",
         "12/30/2017 11:58:57 PM",
         "Debit Card",
         "1",
         "1.1",
         "6.5",
         "0.0",
         "0.0"
        ],
        [
         "21",
         "Jacqueline Mclean DVM",
         "10/11/2017 12:34:49 PM",
         "10/11/2017 1:22:38 PM",
         "Debit Card",
         "1",
         "12.3",
         "68.25",
         "12.0",
         "16.26"
        ],
        [
         "22",
         "Krista Stewart",
         "01/06/2017 8:12:07 PM",
         "01/06/2017 8:18:37 PM",
         "Cash",
         "1",
         "0.52",
         "5.5",
         "1.0",
         "0.0"
        ],
        [
         "23",
         "Mike Taylor",
         "06/27/2017 12:08:22 AM",
         "06/27/2017 12:13:45 AM",
         "Credit Card",
         "1",
         "1.7",
         "7.0",
         "2.05",
         "0.0"
        ],
        [
         "24",
         "Heather Johnson",
         "02/13/2017 10:29:33 AM",
         "02/13/2017 10:34:11 AM",
         "Cash",
         "1",
         "0.9",
         "5.5",
         "1.25",
         "0.0"
        ],
        [
         "25",
         "Tiffany Ramirez",
         "01/14/2017 7:58:42 PM",
         "01/14/2017 8:05:59 PM",
         "Debit Card",
         "1",
         "1.72",
         "8.0",
         "2.79",
         "0.0"
        ],
        [
         "26",
         "James Taylor",
         "11/04/2017 1:27:59 AM",
         "11/04/2017 1:44:05 AM",
         "Credit Card",
         "1",
         "2.7",
         "13.0",
         "2.85",
         "0.0"
        ],
        [
         "27",
         "Gabriela Bryan",
         "11/24/2017 10:48:13 AM",
         "11/24/2017 10:52:57 AM",
         "Cash",
         "1",
         "0.85",
         "5.5",
         "0.0",
         "0.0"
        ],
        [
         "28",
         "Janet Hogan MD",
         "11/22/2017 10:24:17 AM",
         "11/22/2017 10:38:52 AM",
         "Cash",
         "1",
         "2.3",
         "11.0",
         "2.35",
         "0.0"
        ],
        [
         "29",
         "David Burton",
         "11/06/2017 8:30:50 PM",
         "11/07/2017 12:00:00 AM",
         "Credit Card",
         "1",
         "30.83",
         "80.0",
         "18.56",
         "11.52"
        ],
        [
         "30",
         "Jessica Cohen",
         "08/09/2017 9:01:50 PM",
         "08/09/2017 9:14:28 PM",
         "Cash",
         "1",
         "2.3",
         "10.5",
         "1.77",
         "0.0"
        ],
        [
         "31",
         "Katherine Martin",
         "04/12/2017 11:07:56 AM",
         "04/12/2017 11:19:29 AM",
         "Cash",
         "4",
         "1.5",
         "9.0",
         "0.0",
         "0.0"
        ],
        [
         "32",
         "Amy Larsen",
         "07/26/2017 11:26:50 PM",
         "07/26/2017 11:55:49 PM",
         "Cash",
         "1",
         "14.32",
         "40.5",
         "0.0",
         "0.0"
        ],
        [
         "33",
         "Adrienne Mitchell",
         "10/26/2017 7:43:07 PM",
         "10/26/2017 8:06:02 PM",
         "Cash",
         "1",
         "2.9",
         "15.5",
         "3.45",
         "0.0"
        ],
        [
         "34",
         "Michael Murphy",
         "03/04/2017 6:19:04 PM",
         "03/04/2017 6:32:13 PM",
         "Credit Card",
         "1",
         "1.7",
         "10.5",
         "1.7",
         "0.0"
        ],
        [
         "35",
         "Benjamin Walls",
         "11/05/2017 1:35:25 AM",
         "11/05/2017 1:43:39 AM",
         "Cash",
         "5",
         "2.69",
         "9.5",
         "0.0",
         "0.0"
        ],
        [
         "36",
         "Steven Valdez",
         "02/24/2017 11:24:50 AM",
         "02/24/2017 11:29:18 AM",
         "Debit Card",
         "1",
         "0.6",
         "5.0",
         "0.0",
         "0.0"
        ],
        [
         "37",
         "Craig Cook",
         "02/23/2017 8:04:57 AM",
         "02/23/2017 8:18:48 AM",
         "Cash",
         "1",
         "2.11",
         "11.5",
         "2.46",
         "0.0"
        ],
        [
         "38",
         "Amanda Burns MD",
         "02/12/2017 6:45:41 PM",
         "02/12/2017 6:48:58 PM",
         "Cash",
         "4",
         "0.4",
         "4.0",
         "0.72",
         "0.0"
        ],
        [
         "39",
         "Gregory Stevens",
         "12/08/2017 12:21:55 PM",
         "12/08/2017 12:30:38 PM",
         "Cash",
         "1",
         "1.28",
         "7.5",
         "5.0",
         "0.0"
        ],
        [
         "40",
         "Jennifer Allen",
         "09/15/2017 7:09:51 PM",
         "09/15/2017 7:23:06 PM",
         "Debit Card",
         "3",
         "1.23",
         "9.5",
         "2.26",
         "0.0"
        ],
        [
         "41",
         "Heather Leonard",
         "02/25/2017 7:41:32 AM",
         "02/25/2017 7:50:26 AM",
         "Cash",
         "1",
         "2.0",
         "9.0",
         "1.95",
         "0.0"
        ],
        [
         "42",
         "Dr. Christy Velasquez",
         "12/08/2017 7:59:11 AM",
         "12/08/2017 8:15:32 AM",
         "Cash",
         "1",
         "4.52",
         "16.5",
         "2.0",
         "0.0"
        ],
        [
         "43",
         "Jasmin Oconnell",
         "04/26/2017 11:18:27 AM",
         "04/26/2017 11:24:59 AM",
         "Cash",
         "2",
         "1.12",
         "6.5",
         "1.82",
         "0.0"
        ],
        [
         "44",
         "Jasmine Hull",
         "02/15/2017 5:30:24 PM",
         "02/15/2017 5:35:24 PM",
         "Credit Card",
         "1",
         "0.59",
         "5.0",
         "1.36",
         "0.0"
        ],
        [
         "45",
         "Grace Duran",
         "08/14/2017 5:15:32 PM",
         "08/14/2017 5:25:28 PM",
         "Credit Card",
         "1",
         "1.5",
         "8.5",
         "2.55",
         "0.0"
        ],
        [
         "46",
         "Lauren Wilson",
         "09/05/2017 3:10:20 PM",
         "09/05/2017 3:25:25 PM",
         "Cash",
         "4",
         "1.71",
         "10.5",
         "0.0",
         "0.0"
        ],
        [
         "47",
         "Amber Wise",
         "01/13/2017 2:37:24 AM",
         "01/13/2017 3:17:34 AM",
         "Debit Card",
         "4",
         "8.69",
         "31.5",
         "6.56",
         "0.0"
        ],
        [
         "48",
         "Daniel Thompson",
         "03/11/2017 4:46:32 AM",
         "03/11/2017 4:57:02 AM",
         "Credit Card",
         "6",
         "2.69",
         "11.0",
         "0.0",
         "0.0"
        ],
        [
         "49",
         "Kayla Navarro",
         "04/27/2017 7:26:57 AM",
         "04/27/2017 7:28:21 AM",
         "Cash",
         "1",
         "0.42",
         "3.5",
         "0.86",
         "0.0"
        ]
       ],
       "shape": {
        "columns": 9,
        "rows": 22696
       }
      },
      "text/html": [
       "<div>\n",
       "<style scoped>\n",
       "    .dataframe tbody tr th:only-of-type {\n",
       "        vertical-align: middle;\n",
       "    }\n",
       "\n",
       "    .dataframe tbody tr th {\n",
       "        vertical-align: top;\n",
       "    }\n",
       "\n",
       "    .dataframe thead th {\n",
       "        text-align: right;\n",
       "    }\n",
       "</style>\n",
       "<table border=\"1\" class=\"dataframe\">\n",
       "  <thead>\n",
       "    <tr style=\"text-align: right;\">\n",
       "      <th></th>\n",
       "      <th>passenger_name</th>\n",
       "      <th>tpep_pickup_datetime</th>\n",
       "      <th>tpep_dropoff_datetime</th>\n",
       "      <th>payment_method</th>\n",
       "      <th>passenger_count</th>\n",
       "      <th>trip_distance</th>\n",
       "      <th>fare_amount</th>\n",
       "      <th>tip_amount</th>\n",
       "      <th>tolls_amount</th>\n",
       "    </tr>\n",
       "  </thead>\n",
       "  <tbody>\n",
       "    <tr>\n",
       "      <th>0</th>\n",
       "      <td>Pamela Duffy</td>\n",
       "      <td>03/25/2017 8:55:43 AM</td>\n",
       "      <td>03/25/2017 9:09:47 AM</td>\n",
       "      <td>Debit Card</td>\n",
       "      <td>6</td>\n",
       "      <td>3.34</td>\n",
       "      <td>13.0</td>\n",
       "      <td>2.76</td>\n",
       "      <td>0.00</td>\n",
       "    </tr>\n",
       "    <tr>\n",
       "      <th>1</th>\n",
       "      <td>Michelle Foster</td>\n",
       "      <td>04/11/2017 2:53:28 PM</td>\n",
       "      <td>04/11/2017 3:19:58 PM</td>\n",
       "      <td>Debit Card</td>\n",
       "      <td>1</td>\n",
       "      <td>1.80</td>\n",
       "      <td>16.0</td>\n",
       "      <td>4.00</td>\n",
       "      <td>0.00</td>\n",
       "    </tr>\n",
       "    <tr>\n",
       "      <th>2</th>\n",
       "      <td>Tina Combs</td>\n",
       "      <td>12/15/2017 7:26:56 AM</td>\n",
       "      <td>12/15/2017 7:34:08 AM</td>\n",
       "      <td>Debit Card</td>\n",
       "      <td>1</td>\n",
       "      <td>1.00</td>\n",
       "      <td>6.5</td>\n",
       "      <td>1.45</td>\n",
       "      <td>0.00</td>\n",
       "    </tr>\n",
       "    <tr>\n",
       "      <th>3</th>\n",
       "      <td>Anthony Ray</td>\n",
       "      <td>05/07/2017 1:17:59 PM</td>\n",
       "      <td>05/07/2017 1:48:14 PM</td>\n",
       "      <td>Cash</td>\n",
       "      <td>1</td>\n",
       "      <td>3.70</td>\n",
       "      <td>20.5</td>\n",
       "      <td>6.39</td>\n",
       "      <td>0.00</td>\n",
       "    </tr>\n",
       "    <tr>\n",
       "      <th>4</th>\n",
       "      <td>Brianna Johnson</td>\n",
       "      <td>04/15/2017 11:32:20 PM</td>\n",
       "      <td>04/15/2017 11:49:03 PM</td>\n",
       "      <td>Debit Card</td>\n",
       "      <td>1</td>\n",
       "      <td>4.37</td>\n",
       "      <td>16.5</td>\n",
       "      <td>0.00</td>\n",
       "      <td>0.00</td>\n",
       "    </tr>\n",
       "    <tr>\n",
       "      <th>...</th>\n",
       "      <td>...</td>\n",
       "      <td>...</td>\n",
       "      <td>...</td>\n",
       "      <td>...</td>\n",
       "      <td>...</td>\n",
       "      <td>...</td>\n",
       "      <td>...</td>\n",
       "      <td>...</td>\n",
       "      <td>...</td>\n",
       "    </tr>\n",
       "    <tr>\n",
       "      <th>22694</th>\n",
       "      <td>Austin Johnson</td>\n",
       "      <td>02/24/2017 5:37:23 PM</td>\n",
       "      <td>02/24/2017 5:40:39 PM</td>\n",
       "      <td>Cash</td>\n",
       "      <td>3</td>\n",
       "      <td>0.61</td>\n",
       "      <td>4.0</td>\n",
       "      <td>0.00</td>\n",
       "      <td>0.00</td>\n",
       "    </tr>\n",
       "    <tr>\n",
       "      <th>22695</th>\n",
       "      <td>Monique Williams</td>\n",
       "      <td>08/06/2017 4:43:59 PM</td>\n",
       "      <td>08/06/2017 5:24:47 PM</td>\n",
       "      <td>Cash</td>\n",
       "      <td>1</td>\n",
       "      <td>16.71</td>\n",
       "      <td>52.0</td>\n",
       "      <td>14.64</td>\n",
       "      <td>5.76</td>\n",
       "    </tr>\n",
       "    <tr>\n",
       "      <th>22696</th>\n",
       "      <td>Drew Graves</td>\n",
       "      <td>09/04/2017 2:54:14 PM</td>\n",
       "      <td>09/04/2017 2:58:22 PM</td>\n",
       "      <td>Debit Card</td>\n",
       "      <td>1</td>\n",
       "      <td>0.42</td>\n",
       "      <td>4.5</td>\n",
       "      <td>0.00</td>\n",
       "      <td>0.00</td>\n",
       "    </tr>\n",
       "    <tr>\n",
       "      <th>22697</th>\n",
       "      <td>Jonathan Copeland</td>\n",
       "      <td>07/15/2017 12:56:30 PM</td>\n",
       "      <td>07/15/2017 1:08:26 PM</td>\n",
       "      <td>Debit Card</td>\n",
       "      <td>1</td>\n",
       "      <td>2.36</td>\n",
       "      <td>10.5</td>\n",
       "      <td>1.70</td>\n",
       "      <td>0.00</td>\n",
       "    </tr>\n",
       "    <tr>\n",
       "      <th>22698</th>\n",
       "      <td>Benjamin Miller</td>\n",
       "      <td>03/02/2017 1:02:49 PM</td>\n",
       "      <td>03/02/2017 1:16:09 PM</td>\n",
       "      <td>Cash</td>\n",
       "      <td>1</td>\n",
       "      <td>2.10</td>\n",
       "      <td>11.0</td>\n",
       "      <td>2.35</td>\n",
       "      <td>0.00</td>\n",
       "    </tr>\n",
       "  </tbody>\n",
       "</table>\n",
       "<p>22696 rows × 9 columns</p>\n",
       "</div>"
      ],
      "text/plain": [
       "          passenger_name    tpep_pickup_datetime   tpep_dropoff_datetime  \\\n",
       "0           Pamela Duffy   03/25/2017 8:55:43 AM   03/25/2017 9:09:47 AM   \n",
       "1        Michelle Foster   04/11/2017 2:53:28 PM   04/11/2017 3:19:58 PM   \n",
       "2             Tina Combs   12/15/2017 7:26:56 AM   12/15/2017 7:34:08 AM   \n",
       "3            Anthony Ray   05/07/2017 1:17:59 PM   05/07/2017 1:48:14 PM   \n",
       "4        Brianna Johnson  04/15/2017 11:32:20 PM  04/15/2017 11:49:03 PM   \n",
       "...                  ...                     ...                     ...   \n",
       "22694     Austin Johnson   02/24/2017 5:37:23 PM   02/24/2017 5:40:39 PM   \n",
       "22695   Monique Williams   08/06/2017 4:43:59 PM   08/06/2017 5:24:47 PM   \n",
       "22696        Drew Graves   09/04/2017 2:54:14 PM   09/04/2017 2:58:22 PM   \n",
       "22697  Jonathan Copeland  07/15/2017 12:56:30 PM   07/15/2017 1:08:26 PM   \n",
       "22698    Benjamin Miller   03/02/2017 1:02:49 PM   03/02/2017 1:16:09 PM   \n",
       "\n",
       "      payment_method  passenger_count  trip_distance  fare_amount  tip_amount  \\\n",
       "0         Debit Card                6           3.34         13.0        2.76   \n",
       "1         Debit Card                1           1.80         16.0        4.00   \n",
       "2         Debit Card                1           1.00          6.5        1.45   \n",
       "3               Cash                1           3.70         20.5        6.39   \n",
       "4         Debit Card                1           4.37         16.5        0.00   \n",
       "...              ...              ...            ...          ...         ...   \n",
       "22694           Cash                3           0.61          4.0        0.00   \n",
       "22695           Cash                1          16.71         52.0       14.64   \n",
       "22696     Debit Card                1           0.42          4.5        0.00   \n",
       "22697     Debit Card                1           2.36         10.5        1.70   \n",
       "22698           Cash                1           2.10         11.0        2.35   \n",
       "\n",
       "       tolls_amount  \n",
       "0              0.00  \n",
       "1              0.00  \n",
       "2              0.00  \n",
       "3              0.00  \n",
       "4              0.00  \n",
       "...             ...  \n",
       "22694          0.00  \n",
       "22695          5.76  \n",
       "22696          0.00  \n",
       "22697          0.00  \n",
       "22698          0.00  \n",
       "\n",
       "[22696 rows x 9 columns]"
      ]
     },
     "execution_count": 35,
     "metadata": {},
     "output_type": "execute_result"
    }
   ],
   "source": [
    "data"
   ]
  },
  {
   "cell_type": "markdown",
   "id": "95c55828",
   "metadata": {},
   "source": [
    "### passenger_count 컬럼 이상치 제거"
   ]
  },
  {
   "cell_type": "markdown",
   "id": "d8f3540b",
   "metadata": {},
   "source": [
    "- passenger_count 컬럼 값 기준으로 정렬"
   ]
  },
  {
   "cell_type": "code",
   "execution_count": 36,
   "id": "3aa9e155",
   "metadata": {},
   "outputs": [
    {
     "data": {
      "application/vnd.microsoft.datawrangler.viewer.v0+json": {
       "columns": [
        {
         "name": "index",
         "rawType": "int64",
         "type": "integer"
        },
        {
         "name": "passenger_count",
         "rawType": "int64",
         "type": "integer"
        }
       ],
       "ref": "5429ad68-13c1-4f90-8d70-70694081d277",
       "rows": [
        [
         "21752",
         "0"
        ],
        [
         "21638",
         "0"
        ],
        [
         "21216",
         "0"
        ],
        [
         "20310",
         "0"
        ],
        [
         "19456",
         "0"
        ],
        [
         "19217",
         "0"
        ],
        [
         "18309",
         "0"
        ],
        [
         "17914",
         "0"
        ],
        [
         "14519",
         "0"
        ],
        [
         "14527",
         "0"
        ],
        [
         "13919",
         "0"
        ],
        [
         "13921",
         "0"
        ],
        [
         "13716",
         "0"
        ],
        [
         "13477",
         "0"
        ],
        [
         "13419",
         "0"
        ],
        [
         "12802",
         "0"
        ],
        [
         "12501",
         "0"
        ],
        [
         "12203",
         "0"
        ],
        [
         "10199",
         "0"
        ],
        [
         "10145",
         "0"
        ],
        [
         "9828",
         "0"
        ],
        [
         "8595",
         "0"
        ],
        [
         "7102",
         "0"
        ],
        [
         "5767",
         "0"
        ],
        [
         "5668",
         "0"
        ],
        [
         "5603",
         "0"
        ],
        [
         "5563",
         "0"
        ],
        [
         "4919",
         "0"
        ],
        [
         "4060",
         "0"
        ],
        [
         "3352",
         "0"
        ],
        [
         "1925",
         "0"
        ],
        [
         "1874",
         "0"
        ],
        [
         "1516",
         "0"
        ],
        [
         "13827",
         "1"
        ],
        [
         "13907",
         "1"
        ],
        [
         "13922",
         "1"
        ],
        [
         "13905",
         "1"
        ],
        [
         "13902",
         "1"
        ],
        [
         "13901",
         "1"
        ],
        [
         "13900",
         "1"
        ],
        [
         "13831",
         "1"
        ],
        [
         "13829",
         "1"
        ],
        [
         "13828",
         "1"
        ],
        [
         "13908",
         "1"
        ],
        [
         "13842",
         "1"
        ],
        [
         "13841",
         "1"
        ],
        [
         "13840",
         "1"
        ],
        [
         "13887",
         "1"
        ],
        [
         "13885",
         "1"
        ],
        [
         "13884",
         "1"
        ]
       ],
       "shape": {
        "columns": 1,
        "rows": 22696
       }
      },
      "text/plain": [
       "21752     0\n",
       "21638     0\n",
       "21216     0\n",
       "20310     0\n",
       "19456     0\n",
       "         ..\n",
       "10450     6\n",
       "5155      6\n",
       "4314      6\n",
       "5170      6\n",
       "63       36\n",
       "Name: passenger_count, Length: 22696, dtype: int64"
      ]
     },
     "execution_count": 36,
     "metadata": {},
     "output_type": "execute_result"
    }
   ],
   "source": [
    "data['passenger_count'].sort_values()"
   ]
  },
  {
   "cell_type": "markdown",
   "id": "979a031d",
   "metadata": {},
   "source": [
    "- passenger_count 값의 scatter plot 그리기"
   ]
  },
  {
   "cell_type": "code",
   "execution_count": 38,
   "id": "3888b3a6",
   "metadata": {},
   "outputs": [
    {
     "data": {
      "image/png": "[encoded data removed]",
      "text/plain": [
       "<Figure size 640x480 with 1 Axes>"
      ]
     },
     "metadata": {},
     "output_type": "display_data"
    }
   ],
   "source": [
    "sns.scatterplot(x=data.index, y=data['passenger_count'])\n",
    "plt.show()"
   ]
  },
  {
   "cell_type": "markdown",
   "id": "2890eca0",
   "metadata": {},
   "source": [
    "- passenger_count 컬럼의 이상치 제거\n",
    "    - passenger_count가 6을 초과하는 경우\n",
    "    - passenger_count가 0인 경우"
   ]
  },
  {
   "cell_type": "code",
   "execution_count": 43,
   "id": "9d4e4acc",
   "metadata": {},
   "outputs": [],
   "source": [
    "data = data.loc[(data['passenger_count']<7)&(data['passenger_count']>0) , : ]\n",
    "data = data.reset_index(drop=True)"
   ]
  },
  {
   "cell_type": "code",
   "execution_count": 44,
   "id": "8cb0817d",
   "metadata": {},
   "outputs": [
    {
     "data": {
      "application/vnd.microsoft.datawrangler.viewer.v0+json": {
       "columns": [
        {
         "name": "index",
         "rawType": "int64",
         "type": "integer"
        },
        {
         "name": "passenger_name",
         "rawType": "object",
         "type": "string"
        },
        {
         "name": "tpep_pickup_datetime",
         "rawType": "object",
         "type": "string"
        },
        {
         "name": "tpep_dropoff_datetime",
         "rawType": "object",
         "type": "string"
        },
        {
         "name": "payment_method",
         "rawType": "object",
         "type": "string"
        },
        {
         "name": "passenger_count",
         "rawType": "int64",
         "type": "integer"
        },
        {
         "name": "trip_distance",
         "rawType": "float64",
         "type": "float"
        },
        {
         "name": "fare_amount",
         "rawType": "float64",
         "type": "float"
        },
        {
         "name": "tip_amount",
         "rawType": "float64",
         "type": "float"
        },
        {
         "name": "tolls_amount",
         "rawType": "float64",
         "type": "float"
        }
       ],
       "ref": "36bdddee-abc3-4e98-8c72-caab174b72fb",
       "rows": [
        [
         "0",
         "Pamela Duffy",
         "03/25/2017 8:55:43 AM",
         "03/25/2017 9:09:47 AM",
         "Debit Card",
         "6",
         "3.34",
         "13.0",
         "2.76",
         "0.0"
        ],
        [
         "1",
         "Michelle Foster",
         "04/11/2017 2:53:28 PM",
         "04/11/2017 3:19:58 PM",
         "Debit Card",
         "1",
         "1.8",
         "16.0",
         "4.0",
         "0.0"
        ],
        [
         "2",
         "Tina Combs",
         "12/15/2017 7:26:56 AM",
         "12/15/2017 7:34:08 AM",
         "Debit Card",
         "1",
         "1.0",
         "6.5",
         "1.45",
         "0.0"
        ],
        [
         "3",
         "Anthony Ray",
         "05/07/2017 1:17:59 PM",
         "05/07/2017 1:48:14 PM",
         "Cash",
         "1",
         "3.7",
         "20.5",
         "6.39",
         "0.0"
        ],
        [
         "4",
         "Brianna Johnson",
         "04/15/2017 11:32:20 PM",
         "04/15/2017 11:49:03 PM",
         "Debit Card",
         "1",
         "4.37",
         "16.5",
         "0.0",
         "0.0"
        ],
        [
         "5",
         "Justin Smith",
         "03/25/2017 8:34:11 PM",
         "03/25/2017 8:42:11 PM",
         "Debit Card",
         "6",
         "2.3",
         "9.0",
         "2.06",
         "0.0"
        ],
        [
         "6",
         "Tonya Moreno",
         "05/03/2017 7:04:09 PM",
         "05/03/2017 8:03:47 PM",
         "Cash",
         "1",
         "12.83",
         "47.5",
         "9.86",
         "0.0"
        ],
        [
         "7",
         "Hannah Foley",
         "08/15/2017 5:41:06 PM",
         "08/15/2017 6:03:05 PM",
         "Debit Card",
         "1",
         "2.98",
         "16.0",
         "1.78",
         "0.0"
        ],
        [
         "8",
         "Katie Whitney",
         "02/04/2017 4:17:07 PM",
         "02/04/2017 4:29:14 PM",
         "Cash",
         "1",
         "1.2",
         "9.0",
         "0.0",
         "0.0"
        ],
        [
         "9",
         "Amanda Jones",
         "11/10/2017 3:20:29 PM",
         "11/10/2017 3:40:55 PM",
         "Cash",
         "1",
         "1.6",
         "13.0",
         "2.75",
         "0.0"
        ],
        [
         "10",
         "Cory Jensen",
         "03/04/2017 11:58:00 AM",
         "03/04/2017 12:13:12 PM",
         "Cash",
         "1",
         "1.77",
         "11.5",
         "2.46",
         "0.0"
        ],
        [
         "11",
         "Jamie Brown",
         "03/05/2017 7:15:30 PM",
         "03/05/2017 7:52:18 PM",
         "Debit Card",
         "2",
         "18.9",
         "52.0",
         "14.58",
         "5.54"
        ],
        [
         "12",
         "Ryan Reyes",
         "06/09/2017 7:00:26 PM",
         "06/09/2017 7:20:11 PM",
         "Debit Card",
         "1",
         "3.0",
         "15.0",
         "3.35",
         "0.0"
        ],
        [
         "13",
         "Jessica Mooney",
         "11/06/2017 11:35:05 PM",
         "11/06/2017 11:42:57 PM",
         "Credit Card",
         "1",
         "2.39",
         "9.5",
         "2.16",
         "0.0"
        ],
        [
         "14",
         "Heidi May",
         "02/22/2017 3:18:31 PM",
         "02/22/2017 3:42:50 PM",
         "Cash",
         "1",
         "3.3",
         "17.5",
         "4.55",
         "0.0"
        ],
        [
         "15",
         "Anthony Richard",
         "06/02/2017 6:41:39 AM",
         "06/02/2017 6:57:47 AM",
         "Credit Card",
         "1",
         "5.93",
         "19.0",
         "3.0",
         "0.0"
        ],
        [
         "16",
         "Sarah Gross",
         "08/15/2017 7:48:08 PM",
         "08/15/2017 8:00:37 PM",
         "Cash",
         "1",
         "3.6",
         "12.5",
         "2.85",
         "0.0"
        ],
        [
         "17",
         "Susan Robinson",
         "07/10/2017 1:36:31 PM",
         "07/10/2017 1:48:43 PM",
         "Cash",
         "2",
         "1.71",
         "9.5",
         "0.0",
         "0.0"
        ],
        [
         "18",
         "Cynthia Mendoza",
         "04/10/2017 6:12:58 PM",
         "04/10/2017 6:17:39 PM",
         "Cash",
         "2",
         "0.63",
         "5.0",
         "0.0",
         "0.0"
        ],
        [
         "19",
         "Zachary James",
         "03/05/2017 4:01:07 AM",
         "03/05/2017 4:14:11 AM",
         "Credit Card",
         "2",
         "2.77",
         "11.5",
         "3.2",
         "0.0"
        ],
        [
         "20",
         "Marissa Scott",
         "12/30/2017 11:52:44 PM",
         "12/30/2017 11:58:57 PM",
         "Debit Card",
         "1",
         "1.1",
         "6.5",
         "0.0",
         "0.0"
        ],
        [
         "21",
         "Jacqueline Mclean DVM",
         "10/11/2017 12:34:49 PM",
         "10/11/2017 1:22:38 PM",
         "Debit Card",
         "1",
         "12.3",
         "68.25",
         "12.0",
         "16.26"
        ],
        [
         "22",
         "Krista Stewart",
         "01/06/2017 8:12:07 PM",
         "01/06/2017 8:18:37 PM",
         "Cash",
         "1",
         "0.52",
         "5.5",
         "1.0",
         "0.0"
        ],
        [
         "23",
         "Mike Taylor",
         "06/27/2017 12:08:22 AM",
         "06/27/2017 12:13:45 AM",
         "Credit Card",
         "1",
         "1.7",
         "7.0",
         "2.05",
         "0.0"
        ],
        [
         "24",
         "Heather Johnson",
         "02/13/2017 10:29:33 AM",
         "02/13/2017 10:34:11 AM",
         "Cash",
         "1",
         "0.9",
         "5.5",
         "1.25",
         "0.0"
        ],
        [
         "25",
         "Tiffany Ramirez",
         "01/14/2017 7:58:42 PM",
         "01/14/2017 8:05:59 PM",
         "Debit Card",
         "1",
         "1.72",
         "8.0",
         "2.79",
         "0.0"
        ],
        [
         "26",
         "James Taylor",
         "11/04/2017 1:27:59 AM",
         "11/04/2017 1:44:05 AM",
         "Credit Card",
         "1",
         "2.7",
         "13.0",
         "2.85",
         "0.0"
        ],
        [
         "27",
         "Gabriela Bryan",
         "11/24/2017 10:48:13 AM",
         "11/24/2017 10:52:57 AM",
         "Cash",
         "1",
         "0.85",
         "5.5",
         "0.0",
         "0.0"
        ],
        [
         "28",
         "Janet Hogan MD",
         "11/22/2017 10:24:17 AM",
         "11/22/2017 10:38:52 AM",
         "Cash",
         "1",
         "2.3",
         "11.0",
         "2.35",
         "0.0"
        ],
        [
         "29",
         "David Burton",
         "11/06/2017 8:30:50 PM",
         "11/07/2017 12:00:00 AM",
         "Credit Card",
         "1",
         "30.83",
         "80.0",
         "18.56",
         "11.52"
        ],
        [
         "30",
         "Jessica Cohen",
         "08/09/2017 9:01:50 PM",
         "08/09/2017 9:14:28 PM",
         "Cash",
         "1",
         "2.3",
         "10.5",
         "1.77",
         "0.0"
        ],
        [
         "31",
         "Katherine Martin",
         "04/12/2017 11:07:56 AM",
         "04/12/2017 11:19:29 AM",
         "Cash",
         "4",
         "1.5",
         "9.0",
         "0.0",
         "0.0"
        ],
        [
         "32",
         "Amy Larsen",
         "07/26/2017 11:26:50 PM",
         "07/26/2017 11:55:49 PM",
         "Cash",
         "1",
         "14.32",
         "40.5",
         "0.0",
         "0.0"
        ],
        [
         "33",
         "Adrienne Mitchell",
         "10/26/2017 7:43:07 PM",
         "10/26/2017 8:06:02 PM",
         "Cash",
         "1",
         "2.9",
         "15.5",
         "3.45",
         "0.0"
        ],
        [
         "34",
         "Michael Murphy",
         "03/04/2017 6:19:04 PM",
         "03/04/2017 6:32:13 PM",
         "Credit Card",
         "1",
         "1.7",
         "10.5",
         "1.7",
         "0.0"
        ],
        [
         "35",
         "Benjamin Walls",
         "11/05/2017 1:35:25 AM",
         "11/05/2017 1:43:39 AM",
         "Cash",
         "5",
         "2.69",
         "9.5",
         "0.0",
         "0.0"
        ],
        [
         "36",
         "Steven Valdez",
         "02/24/2017 11:24:50 AM",
         "02/24/2017 11:29:18 AM",
         "Debit Card",
         "1",
         "0.6",
         "5.0",
         "0.0",
         "0.0"
        ],
        [
         "37",
         "Craig Cook",
         "02/23/2017 8:04:57 AM",
         "02/23/2017 8:18:48 AM",
         "Cash",
         "1",
         "2.11",
         "11.5",
         "2.46",
         "0.0"
        ],
        [
         "38",
         "Amanda Burns MD",
         "02/12/2017 6:45:41 PM",
         "02/12/2017 6:48:58 PM",
         "Cash",
         "4",
         "0.4",
         "4.0",
         "0.72",
         "0.0"
        ],
        [
         "39",
         "Gregory Stevens",
         "12/08/2017 12:21:55 PM",
         "12/08/2017 12:30:38 PM",
         "Cash",
         "1",
         "1.28",
         "7.5",
         "5.0",
         "0.0"
        ],
        [
         "40",
         "Jennifer Allen",
         "09/15/2017 7:09:51 PM",
         "09/15/2017 7:23:06 PM",
         "Debit Card",
         "3",
         "1.23",
         "9.5",
         "2.26",
         "0.0"
        ],
        [
         "41",
         "Heather Leonard",
         "02/25/2017 7:41:32 AM",
         "02/25/2017 7:50:26 AM",
         "Cash",
         "1",
         "2.0",
         "9.0",
         "1.95",
         "0.0"
        ],
        [
         "42",
         "Dr. Christy Velasquez",
         "12/08/2017 7:59:11 AM",
         "12/08/2017 8:15:32 AM",
         "Cash",
         "1",
         "4.52",
         "16.5",
         "2.0",
         "0.0"
        ],
        [
         "43",
         "Jasmin Oconnell",
         "04/26/2017 11:18:27 AM",
         "04/26/2017 11:24:59 AM",
         "Cash",
         "2",
         "1.12",
         "6.5",
         "1.82",
         "0.0"
        ],
        [
         "44",
         "Jasmine Hull",
         "02/15/2017 5:30:24 PM",
         "02/15/2017 5:35:24 PM",
         "Credit Card",
         "1",
         "0.59",
         "5.0",
         "1.36",
         "0.0"
        ],
        [
         "45",
         "Grace Duran",
         "08/14/2017 5:15:32 PM",
         "08/14/2017 5:25:28 PM",
         "Credit Card",
         "1",
         "1.5",
         "8.5",
         "2.55",
         "0.0"
        ],
        [
         "46",
         "Lauren Wilson",
         "09/05/2017 3:10:20 PM",
         "09/05/2017 3:25:25 PM",
         "Cash",
         "4",
         "1.71",
         "10.5",
         "0.0",
         "0.0"
        ],
        [
         "47",
         "Amber Wise",
         "01/13/2017 2:37:24 AM",
         "01/13/2017 3:17:34 AM",
         "Debit Card",
         "4",
         "8.69",
         "31.5",
         "6.56",
         "0.0"
        ],
        [
         "48",
         "Daniel Thompson",
         "03/11/2017 4:46:32 AM",
         "03/11/2017 4:57:02 AM",
         "Credit Card",
         "6",
         "2.69",
         "11.0",
         "0.0",
         "0.0"
        ],
        [
         "49",
         "Kayla Navarro",
         "04/27/2017 7:26:57 AM",
         "04/27/2017 7:28:21 AM",
         "Cash",
         "1",
         "0.42",
         "3.5",
         "0.86",
         "0.0"
        ]
       ],
       "shape": {
        "columns": 9,
        "rows": 22662
       }
      },
      "text/html": [
       "<div>\n",
       "<style scoped>\n",
       "    .dataframe tbody tr th:only-of-type {\n",
       "        vertical-align: middle;\n",
       "    }\n",
       "\n",
       "    .dataframe tbody tr th {\n",
       "        vertical-align: top;\n",
       "    }\n",
       "\n",
       "    .dataframe thead th {\n",
       "        text-align: right;\n",
       "    }\n",
       "</style>\n",
       "<table border=\"1\" class=\"dataframe\">\n",
       "  <thead>\n",
       "    <tr style=\"text-align: right;\">\n",
       "      <th></th>\n",
       "      <th>passenger_name</th>\n",
       "      <th>tpep_pickup_datetime</th>\n",
       "      <th>tpep_dropoff_datetime</th>\n",
       "      <th>payment_method</th>\n",
       "      <th>passenger_count</th>\n",
       "      <th>trip_distance</th>\n",
       "      <th>fare_amount</th>\n",
       "      <th>tip_amount</th>\n",
       "      <th>tolls_amount</th>\n",
       "    </tr>\n",
       "  </thead>\n",
       "  <tbody>\n",
       "    <tr>\n",
       "      <th>0</th>\n",
       "      <td>Pamela Duffy</td>\n",
       "      <td>03/25/2017 8:55:43 AM</td>\n",
       "      <td>03/25/2017 9:09:47 AM</td>\n",
       "      <td>Debit Card</td>\n",
       "      <td>6</td>\n",
       "      <td>3.34</td>\n",
       "      <td>13.0</td>\n",
       "      <td>2.76</td>\n",
       "      <td>0.00</td>\n",
       "    </tr>\n",
       "    <tr>\n",
       "      <th>1</th>\n",
       "      <td>Michelle Foster</td>\n",
       "      <td>04/11/2017 2:53:28 PM</td>\n",
       "      <td>04/11/2017 3:19:58 PM</td>\n",
       "      <td>Debit Card</td>\n",
       "      <td>1</td>\n",
       "      <td>1.80</td>\n",
       "      <td>16.0</td>\n",
       "      <td>4.00</td>\n",
       "      <td>0.00</td>\n",
       "    </tr>\n",
       "    <tr>\n",
       "      <th>2</th>\n",
       "      <td>Tina Combs</td>\n",
       "      <td>12/15/2017 7:26:56 AM</td>\n",
       "      <td>12/15/2017 7:34:08 AM</td>\n",
       "      <td>Debit Card</td>\n",
       "      <td>1</td>\n",
       "      <td>1.00</td>\n",
       "      <td>6.5</td>\n",
       "      <td>1.45</td>\n",
       "      <td>0.00</td>\n",
       "    </tr>\n",
       "    <tr>\n",
       "      <th>3</th>\n",
       "      <td>Anthony Ray</td>\n",
       "      <td>05/07/2017 1:17:59 PM</td>\n",
       "      <td>05/07/2017 1:48:14 PM</td>\n",
       "      <td>Cash</td>\n",
       "      <td>1</td>\n",
       "      <td>3.70</td>\n",
       "      <td>20.5</td>\n",
       "      <td>6.39</td>\n",
       "      <td>0.00</td>\n",
       "    </tr>\n",
       "    <tr>\n",
       "      <th>4</th>\n",
       "      <td>Brianna Johnson</td>\n",
       "      <td>04/15/2017 11:32:20 PM</td>\n",
       "      <td>04/15/2017 11:49:03 PM</td>\n",
       "      <td>Debit Card</td>\n",
       "      <td>1</td>\n",
       "      <td>4.37</td>\n",
       "      <td>16.5</td>\n",
       "      <td>0.00</td>\n",
       "      <td>0.00</td>\n",
       "    </tr>\n",
       "    <tr>\n",
       "      <th>...</th>\n",
       "      <td>...</td>\n",
       "      <td>...</td>\n",
       "      <td>...</td>\n",
       "      <td>...</td>\n",
       "      <td>...</td>\n",
       "      <td>...</td>\n",
       "      <td>...</td>\n",
       "      <td>...</td>\n",
       "      <td>...</td>\n",
       "    </tr>\n",
       "    <tr>\n",
       "      <th>22657</th>\n",
       "      <td>Austin Johnson</td>\n",
       "      <td>02/24/2017 5:37:23 PM</td>\n",
       "      <td>02/24/2017 5:40:39 PM</td>\n",
       "      <td>Cash</td>\n",
       "      <td>3</td>\n",
       "      <td>0.61</td>\n",
       "      <td>4.0</td>\n",
       "      <td>0.00</td>\n",
       "      <td>0.00</td>\n",
       "    </tr>\n",
       "    <tr>\n",
       "      <th>22658</th>\n",
       "      <td>Monique Williams</td>\n",
       "      <td>08/06/2017 4:43:59 PM</td>\n",
       "      <td>08/06/2017 5:24:47 PM</td>\n",
       "      <td>Cash</td>\n",
       "      <td>1</td>\n",
       "      <td>16.71</td>\n",
       "      <td>52.0</td>\n",
       "      <td>14.64</td>\n",
       "      <td>5.76</td>\n",
       "    </tr>\n",
       "    <tr>\n",
       "      <th>22659</th>\n",
       "      <td>Drew Graves</td>\n",
       "      <td>09/04/2017 2:54:14 PM</td>\n",
       "      <td>09/04/2017 2:58:22 PM</td>\n",
       "      <td>Debit Card</td>\n",
       "      <td>1</td>\n",
       "      <td>0.42</td>\n",
       "      <td>4.5</td>\n",
       "      <td>0.00</td>\n",
       "      <td>0.00</td>\n",
       "    </tr>\n",
       "    <tr>\n",
       "      <th>22660</th>\n",
       "      <td>Jonathan Copeland</td>\n",
       "      <td>07/15/2017 12:56:30 PM</td>\n",
       "      <td>07/15/2017 1:08:26 PM</td>\n",
       "      <td>Debit Card</td>\n",
       "      <td>1</td>\n",
       "      <td>2.36</td>\n",
       "      <td>10.5</td>\n",
       "      <td>1.70</td>\n",
       "      <td>0.00</td>\n",
       "    </tr>\n",
       "    <tr>\n",
       "      <th>22661</th>\n",
       "      <td>Benjamin Miller</td>\n",
       "      <td>03/02/2017 1:02:49 PM</td>\n",
       "      <td>03/02/2017 1:16:09 PM</td>\n",
       "      <td>Cash</td>\n",
       "      <td>1</td>\n",
       "      <td>2.10</td>\n",
       "      <td>11.0</td>\n",
       "      <td>2.35</td>\n",
       "      <td>0.00</td>\n",
       "    </tr>\n",
       "  </tbody>\n",
       "</table>\n",
       "<p>22662 rows × 9 columns</p>\n",
       "</div>"
      ],
      "text/plain": [
       "          passenger_name    tpep_pickup_datetime   tpep_dropoff_datetime  \\\n",
       "0           Pamela Duffy   03/25/2017 8:55:43 AM   03/25/2017 9:09:47 AM   \n",
       "1        Michelle Foster   04/11/2017 2:53:28 PM   04/11/2017 3:19:58 PM   \n",
       "2             Tina Combs   12/15/2017 7:26:56 AM   12/15/2017 7:34:08 AM   \n",
       "3            Anthony Ray   05/07/2017 1:17:59 PM   05/07/2017 1:48:14 PM   \n",
       "4        Brianna Johnson  04/15/2017 11:32:20 PM  04/15/2017 11:49:03 PM   \n",
       "...                  ...                     ...                     ...   \n",
       "22657     Austin Johnson   02/24/2017 5:37:23 PM   02/24/2017 5:40:39 PM   \n",
       "22658   Monique Williams   08/06/2017 4:43:59 PM   08/06/2017 5:24:47 PM   \n",
       "22659        Drew Graves   09/04/2017 2:54:14 PM   09/04/2017 2:58:22 PM   \n",
       "22660  Jonathan Copeland  07/15/2017 12:56:30 PM   07/15/2017 1:08:26 PM   \n",
       "22661    Benjamin Miller   03/02/2017 1:02:49 PM   03/02/2017 1:16:09 PM   \n",
       "\n",
       "      payment_method  passenger_count  trip_distance  fare_amount  tip_amount  \\\n",
       "0         Debit Card                6           3.34         13.0        2.76   \n",
       "1         Debit Card                1           1.80         16.0        4.00   \n",
       "2         Debit Card                1           1.00          6.5        1.45   \n",
       "3               Cash                1           3.70         20.5        6.39   \n",
       "4         Debit Card                1           4.37         16.5        0.00   \n",
       "...              ...              ...            ...          ...         ...   \n",
       "22657           Cash                3           0.61          4.0        0.00   \n",
       "22658           Cash                1          16.71         52.0       14.64   \n",
       "22659     Debit Card                1           0.42          4.5        0.00   \n",
       "22660     Debit Card                1           2.36         10.5        1.70   \n",
       "22661           Cash                1           2.10         11.0        2.35   \n",
       "\n",
       "       tolls_amount  \n",
       "0              0.00  \n",
       "1              0.00  \n",
       "2              0.00  \n",
       "3              0.00  \n",
       "4              0.00  \n",
       "...             ...  \n",
       "22657          0.00  \n",
       "22658          5.76  \n",
       "22659          0.00  \n",
       "22660          0.00  \n",
       "22661          0.00  \n",
       "\n",
       "[22662 rows x 9 columns]"
      ]
     },
     "execution_count": 44,
     "metadata": {},
     "output_type": "execute_result"
    }
   ],
   "source": [
    "data"
   ]
  },
  {
   "cell_type": "markdown",
   "id": "2eb84824",
   "metadata": {},
   "source": [
    "- passenger_count 컬럼의 scatter plot 다시 그리기"
   ]
  },
  {
   "cell_type": "code",
   "execution_count": 45,
   "id": "71b4f65e",
   "metadata": {},
   "outputs": [
    {
     "data": {
      "image/png": "[encoded data removed]",
      "text/plain": [
       "<Figure size 640x480 with 1 Axes>"
      ]
     },
     "metadata": {},
     "output_type": "display_data"
    }
   ],
   "source": [
    "sns.scatterplot(x=data.index, y=data['passenger_count'])\n",
    "plt.show()"
   ]
  },
  {
   "cell_type": "markdown",
   "id": "125a54d6",
   "metadata": {},
   "source": [
    "### 수치형 컬럼의 이상치 제거"
   ]
  },
  {
   "cell_type": "markdown",
   "id": "a46157a9",
   "metadata": {},
   "source": [
    "- trip_distance의 이상치 확인"
   ]
  },
  {
   "cell_type": "code",
   "execution_count": 49,
   "id": "c450bbcb",
   "metadata": {},
   "outputs": [
    {
     "data": {
      "image/png": "[encoded data removed]",
      "text/plain": [
       "<Figure size 640x480 with 1 Axes>"
      ]
     },
     "metadata": {},
     "output_type": "display_data"
    }
   ],
   "source": [
    "sns.boxplot( data['trip_distance'], orient='h' )\n",
    "plt.show()"
   ]
  },
  {
   "cell_type": "markdown",
   "id": "eccc784c",
   "metadata": {},
   "source": [
    "- trip_distance의 이상치 제거"
   ]
  },
  {
   "cell_type": "code",
   "execution_count": 50,
   "id": "0de8d344",
   "metadata": {},
   "outputs": [],
   "source": [
    "q1 = np.percentile(data['trip_distance'], 25)\n",
    "q2 = np.percentile(data['trip_distance'], 50)\n",
    "q3 = np.percentile(data['trip_distance'], 75)\n",
    "iqr = q3 - q1\n",
    "\n",
    "lower_bound = q1 - iqr*1.5\n",
    "higher_bound = q3 + iqr*1.5\n",
    "\n",
    "data['trip_distance'] = data.loc[ (data['trip_distance']>lower_bound)&(data['trip_distance']<higher_bound) , 'trip_distance' ]\n",
    "data = data.dropna()"
   ]
  },
  {
   "cell_type": "markdown",
   "id": "44f53cee",
   "metadata": {},
   "source": [
    "- trip_distance의 히스토그램 그리기"
   ]
  },
  {
   "cell_type": "code",
   "execution_count": 52,
   "id": "05edd67d",
   "metadata": {},
   "outputs": [
    {
     "data": {
      "image/png": "[encoded data removed]",
      "text/plain": [
       "<Figure size 640x480 with 1 Axes>"
      ]
     },
     "metadata": {},
     "output_type": "display_data"
    }
   ],
   "source": [
    "sns.histplot(data, x='trip_distance')\n",
    "plt.show()"
   ]
  },
  {
   "cell_type": "markdown",
   "id": "2029d0e2",
   "metadata": {},
   "source": [
    "- fare_amount의 이상치 데이터 갯수 확인\n",
    "    - fare_amount가 0 이하인 경우"
   ]
  },
  {
   "cell_type": "code",
   "execution_count": 54,
   "id": "b8397e6e",
   "metadata": {},
   "outputs": [
    {
     "data": {
      "text/plain": [
       "np.int64(18)"
      ]
     },
     "execution_count": 54,
     "metadata": {},
     "output_type": "execute_result"
    }
   ],
   "source": [
    "(data['fare_amount']<=0).sum()"
   ]
  },
  {
   "cell_type": "markdown",
   "id": "264a79a2",
   "metadata": {},
   "source": [
    "- fare_amount의 이상치 제거"
   ]
  },
  {
   "cell_type": "code",
   "execution_count": 55,
   "id": "55940b45",
   "metadata": {},
   "outputs": [],
   "source": [
    "data.loc[ data['fare_amount']<=0 , 'fare_amount'] = None\n",
    "data = data.dropna(axis=0)\n",
    "data = data.reset_index(drop=True)"
   ]
  },
  {
   "cell_type": "code",
   "execution_count": 59,
   "id": "dd5c6483",
   "metadata": {},
   "outputs": [
    {
     "data": {
      "application/vnd.microsoft.datawrangler.viewer.v0+json": {
       "columns": [
        {
         "name": "index",
         "rawType": "int64",
         "type": "integer"
        },
        {
         "name": "fare_amount",
         "rawType": "float64",
         "type": "float"
        }
       ],
       "ref": "1fd2113f-9da9-4cd0-9350-758c37253d40",
       "rows": [
        [
         "7512",
         "999.99"
        ],
        [
         "18002",
         "450.0"
        ],
        [
         "13698",
         "200.0"
        ],
        [
         "11086",
         "175.0"
        ],
        [
         "9988",
         "120.0"
        ],
        [
         "5963",
         "100.0"
        ],
        [
         "6461",
         "100.0"
        ],
        [
         "10491",
         "99.0"
        ],
        [
         "6116",
         "98.5"
        ],
        [
         "4206",
         "80.84"
        ],
        [
         "2496",
         "75.0"
        ],
        [
         "11837",
         "75.0"
        ],
        [
         "15558",
         "62.0"
        ],
        [
         "2477",
         "60.0"
        ],
        [
         "13830",
         "60.0"
        ],
        [
         "17389",
         "59.0"
        ],
        [
         "19357",
         "59.0"
        ],
        [
         "1336",
         "59.0"
        ],
        [
         "6021",
         "54.7"
        ],
        [
         "7261",
         "52.0"
        ],
        [
         "972",
         "52.0"
        ],
        [
         "17563",
         "52.0"
        ],
        [
         "9756",
         "52.0"
        ],
        [
         "19542",
         "52.0"
        ],
        [
         "4609",
         "52.0"
        ],
        [
         "19145",
         "52.0"
        ],
        [
         "8688",
         "52.0"
        ],
        [
         "14848",
         "52.0"
        ],
        [
         "6360",
         "52.0"
        ],
        [
         "6763",
         "52.0"
        ],
        [
         "2598",
         "52.0"
        ],
        [
         "5570",
         "52.0"
        ],
        [
         "13283",
         "52.0"
        ],
        [
         "4351",
         "52.0"
        ],
        [
         "4619",
         "52.0"
        ],
        [
         "12766",
         "52.0"
        ],
        [
         "12227",
         "52.0"
        ],
        [
         "18477",
         "52.0"
        ],
        [
         "7130",
         "52.0"
        ],
        [
         "8566",
         "52.0"
        ],
        [
         "503",
         "52.0"
        ],
        [
         "957",
         "52.0"
        ],
        [
         "9362",
         "52.0"
        ],
        [
         "4817",
         "52.0"
        ],
        [
         "6430",
         "52.0"
        ],
        [
         "11373",
         "52.0"
        ],
        [
         "1281",
         "52.0"
        ],
        [
         "5203",
         "52.0"
        ],
        [
         "5773",
         "52.0"
        ],
        [
         "355",
         "52.0"
        ]
       ],
       "shape": {
        "columns": 1,
        "rows": 20122
       }
      },
      "text/plain": [
       "7512     999.99\n",
       "18002    450.00\n",
       "13698    200.00\n",
       "11086    175.00\n",
       "9988     120.00\n",
       "          ...  \n",
       "7880       2.50\n",
       "12731      2.50\n",
       "12377      1.00\n",
       "3593       0.01\n",
       "12657      0.01\n",
       "Name: fare_amount, Length: 20122, dtype: float64"
      ]
     },
     "execution_count": 59,
     "metadata": {},
     "output_type": "execute_result"
    }
   ],
   "source": [
    "data['fare_amount'].sort_values(ascending=False)"
   ]
  },
  {
   "cell_type": "markdown",
   "id": "4d6ea262",
   "metadata": {},
   "source": [
    "- fare_amount의 scatter plot 그리기"
   ]
  },
  {
   "cell_type": "code",
   "execution_count": 57,
   "id": "22f68a2c",
   "metadata": {},
   "outputs": [
    {
     "data": {
      "image/png": "[encoded data removed]",
      "text/plain": [
       "<Figure size 640x480 with 1 Axes>"
      ]
     },
     "metadata": {},
     "output_type": "display_data"
    }
   ],
   "source": [
    "sns.scatterplot(data['fare_amount'])\n",
    "plt.show()"
   ]
  },
  {
   "cell_type": "markdown",
   "id": "6435f771",
   "metadata": {},
   "source": [
    "- fare_amount가 150을 초과할 경우, 150으로 변환"
   ]
  },
  {
   "cell_type": "code",
   "execution_count": null,
   "id": "59279973",
   "metadata": {},
   "outputs": [],
   "source": [
    "## case 1\n",
    "\n",
    "def fare_func(x):\n",
    "    if x > 150:\n",
    "        return 150\n",
    "    else:\n",
    "        return x\n",
    "    \n",
    "data['fare_amount'] = data['fare_amount'].apply(fare_func)"
   ]
  },
  {
   "cell_type": "code",
   "execution_count": 62,
   "id": "638768f1",
   "metadata": {},
   "outputs": [],
   "source": [
    "## case 2\n",
    "\n",
    "data['fare_amount'] = data['fare_amount'].apply(lambda x: 150 if x > 150 else x)"
   ]
  },
  {
   "cell_type": "code",
   "execution_count": 63,
   "id": "49295c1a",
   "metadata": {},
   "outputs": [
    {
     "data": {
      "application/vnd.microsoft.datawrangler.viewer.v0+json": {
       "columns": [
        {
         "name": "index",
         "rawType": "int64",
         "type": "integer"
        },
        {
         "name": "fare_amount",
         "rawType": "float64",
         "type": "float"
        }
       ],
       "ref": "38276bb4-32b7-4bfa-ba84-c7e9aac1d63a",
       "rows": [
        [
         "13698",
         "150.0"
        ],
        [
         "18002",
         "150.0"
        ],
        [
         "11086",
         "150.0"
        ],
        [
         "7512",
         "150.0"
        ],
        [
         "9988",
         "120.0"
        ],
        [
         "5963",
         "100.0"
        ],
        [
         "6461",
         "100.0"
        ],
        [
         "10491",
         "99.0"
        ],
        [
         "6116",
         "98.5"
        ],
        [
         "4206",
         "80.84"
        ],
        [
         "2496",
         "75.0"
        ],
        [
         "11837",
         "75.0"
        ],
        [
         "15558",
         "62.0"
        ],
        [
         "2477",
         "60.0"
        ],
        [
         "13830",
         "60.0"
        ],
        [
         "17389",
         "59.0"
        ],
        [
         "19357",
         "59.0"
        ],
        [
         "1336",
         "59.0"
        ],
        [
         "6021",
         "54.7"
        ],
        [
         "7261",
         "52.0"
        ],
        [
         "972",
         "52.0"
        ],
        [
         "17563",
         "52.0"
        ],
        [
         "9756",
         "52.0"
        ],
        [
         "19542",
         "52.0"
        ],
        [
         "4609",
         "52.0"
        ],
        [
         "19145",
         "52.0"
        ],
        [
         "8688",
         "52.0"
        ],
        [
         "14848",
         "52.0"
        ],
        [
         "6360",
         "52.0"
        ],
        [
         "6763",
         "52.0"
        ],
        [
         "2598",
         "52.0"
        ],
        [
         "5570",
         "52.0"
        ],
        [
         "13283",
         "52.0"
        ],
        [
         "4351",
         "52.0"
        ],
        [
         "4619",
         "52.0"
        ],
        [
         "12766",
         "52.0"
        ],
        [
         "12227",
         "52.0"
        ],
        [
         "18477",
         "52.0"
        ],
        [
         "7130",
         "52.0"
        ],
        [
         "8566",
         "52.0"
        ],
        [
         "503",
         "52.0"
        ],
        [
         "957",
         "52.0"
        ],
        [
         "9362",
         "52.0"
        ],
        [
         "4817",
         "52.0"
        ],
        [
         "6430",
         "52.0"
        ],
        [
         "11373",
         "52.0"
        ],
        [
         "1281",
         "52.0"
        ],
        [
         "5203",
         "52.0"
        ],
        [
         "5773",
         "52.0"
        ],
        [
         "355",
         "52.0"
        ]
       ],
       "shape": {
        "columns": 1,
        "rows": 20122
       }
      },
      "text/plain": [
       "13698    150.00\n",
       "18002    150.00\n",
       "11086    150.00\n",
       "7512     150.00\n",
       "9988     120.00\n",
       "          ...  \n",
       "7880       2.50\n",
       "12731      2.50\n",
       "12377      1.00\n",
       "3593       0.01\n",
       "12657      0.01\n",
       "Name: fare_amount, Length: 20122, dtype: float64"
      ]
     },
     "execution_count": 63,
     "metadata": {},
     "output_type": "execute_result"
    }
   ],
   "source": [
    "data['fare_amount'].sort_values(ascending=False)"
   ]
  },
  {
   "cell_type": "markdown",
   "id": "28c63539",
   "metadata": {},
   "source": [
    "- tip_amount의 scatter plot 그리기"
   ]
  },
  {
   "cell_type": "code",
   "execution_count": 64,
   "id": "b6f603b6",
   "metadata": {},
   "outputs": [
    {
     "data": {
      "image/png": "[encoded data removed]",
      "text/plain": [
       "<Figure size 640x480 with 1 Axes>"
      ]
     },
     "metadata": {},
     "output_type": "display_data"
    }
   ],
   "source": [
    "sns.scatterplot(data['tip_amount'])\n",
    "plt.show()"
   ]
  },
  {
   "cell_type": "markdown",
   "id": "337ab239",
   "metadata": {},
   "source": [
    "- tip_amount의 이상치 확인"
   ]
  },
  {
   "cell_type": "code",
   "execution_count": 65,
   "id": "5c5918ab",
   "metadata": {},
   "outputs": [],
   "source": [
    "tip_q1 = np.percentile(data['tip_amount'], 25)\n",
    "tip_q2 = np.percentile(data['tip_amount'], 50)\n",
    "tip_q3 = np.percentile(data['tip_amount'], 75)\n",
    "tip_iqr = tip_q3 - tip_q1\n",
    "\n",
    "tip_lower = tip_q1 - tip_iqr*1.5\n",
    "tip_higher = tip_q3 + tip_iqr*1.5"
   ]
  },
  {
   "cell_type": "markdown",
   "id": "9a59f8e3",
   "metadata": {},
   "source": [
    "- tip_amount의 이상치 제거"
   ]
  },
  {
   "cell_type": "code",
   "execution_count": 67,
   "id": "95795150",
   "metadata": {},
   "outputs": [
    {
     "data": {
      "application/vnd.microsoft.datawrangler.viewer.v0+json": {
       "columns": [
        {
         "name": "index",
         "rawType": "int64",
         "type": "integer"
        },
        {
         "name": "passenger_name",
         "rawType": "object",
         "type": "string"
        },
        {
         "name": "tpep_pickup_datetime",
         "rawType": "object",
         "type": "string"
        },
        {
         "name": "tpep_dropoff_datetime",
         "rawType": "object",
         "type": "string"
        },
        {
         "name": "payment_method",
         "rawType": "object",
         "type": "string"
        },
        {
         "name": "passenger_count",
         "rawType": "int64",
         "type": "integer"
        },
        {
         "name": "trip_distance",
         "rawType": "float64",
         "type": "float"
        },
        {
         "name": "fare_amount",
         "rawType": "float64",
         "type": "float"
        },
        {
         "name": "tip_amount",
         "rawType": "float64",
         "type": "float"
        },
        {
         "name": "tolls_amount",
         "rawType": "float64",
         "type": "float"
        }
       ],
       "ref": "eeac5566-48b0-4f3e-8d4b-adca2fc2b9fa",
       "rows": [
        [
         "0",
         "Pamela Duffy",
         "03/25/2017 8:55:43 AM",
         "03/25/2017 9:09:47 AM",
         "Debit Card",
         "6",
         "3.34",
         "13.0",
         "2.76",
         "0.0"
        ],
        [
         "1",
         "Michelle Foster",
         "04/11/2017 2:53:28 PM",
         "04/11/2017 3:19:58 PM",
         "Debit Card",
         "1",
         "1.8",
         "16.0",
         "4.0",
         "0.0"
        ],
        [
         "2",
         "Tina Combs",
         "12/15/2017 7:26:56 AM",
         "12/15/2017 7:34:08 AM",
         "Debit Card",
         "1",
         "1.0",
         "6.5",
         "1.45",
         "0.0"
        ],
        [
         "3",
         "Brianna Johnson",
         "04/15/2017 11:32:20 PM",
         "04/15/2017 11:49:03 PM",
         "Debit Card",
         "1",
         "4.37",
         "16.5",
         "0.0",
         "0.0"
        ],
        [
         "4",
         "Justin Smith",
         "03/25/2017 8:34:11 PM",
         "03/25/2017 8:42:11 PM",
         "Debit Card",
         "6",
         "2.3",
         "9.0",
         "2.06",
         "0.0"
        ],
        [
         "5",
         "Hannah Foley",
         "08/15/2017 5:41:06 PM",
         "08/15/2017 6:03:05 PM",
         "Debit Card",
         "1",
         "2.98",
         "16.0",
         "1.78",
         "0.0"
        ],
        [
         "6",
         "Katie Whitney",
         "02/04/2017 4:17:07 PM",
         "02/04/2017 4:29:14 PM",
         "Cash",
         "1",
         "1.2",
         "9.0",
         "0.0",
         "0.0"
        ],
        [
         "7",
         "Amanda Jones",
         "11/10/2017 3:20:29 PM",
         "11/10/2017 3:40:55 PM",
         "Cash",
         "1",
         "1.6",
         "13.0",
         "2.75",
         "0.0"
        ],
        [
         "8",
         "Cory Jensen",
         "03/04/2017 11:58:00 AM",
         "03/04/2017 12:13:12 PM",
         "Cash",
         "1",
         "1.77",
         "11.5",
         "2.46",
         "0.0"
        ],
        [
         "9",
         "Ryan Reyes",
         "06/09/2017 7:00:26 PM",
         "06/09/2017 7:20:11 PM",
         "Debit Card",
         "1",
         "3.0",
         "15.0",
         "3.35",
         "0.0"
        ],
        [
         "10",
         "Jessica Mooney",
         "11/06/2017 11:35:05 PM",
         "11/06/2017 11:42:57 PM",
         "Credit Card",
         "1",
         "2.39",
         "9.5",
         "2.16",
         "0.0"
        ],
        [
         "11",
         "Heidi May",
         "02/22/2017 3:18:31 PM",
         "02/22/2017 3:42:50 PM",
         "Cash",
         "1",
         "3.3",
         "17.5",
         "4.55",
         "0.0"
        ],
        [
         "12",
         "Anthony Richard",
         "06/02/2017 6:41:39 AM",
         "06/02/2017 6:57:47 AM",
         "Credit Card",
         "1",
         "5.93",
         "19.0",
         "3.0",
         "0.0"
        ],
        [
         "13",
         "Sarah Gross",
         "08/15/2017 7:48:08 PM",
         "08/15/2017 8:00:37 PM",
         "Cash",
         "1",
         "3.6",
         "12.5",
         "2.85",
         "0.0"
        ],
        [
         "14",
         "Susan Robinson",
         "07/10/2017 1:36:31 PM",
         "07/10/2017 1:48:43 PM",
         "Cash",
         "2",
         "1.71",
         "9.5",
         "0.0",
         "0.0"
        ],
        [
         "15",
         "Cynthia Mendoza",
         "04/10/2017 6:12:58 PM",
         "04/10/2017 6:17:39 PM",
         "Cash",
         "2",
         "0.63",
         "5.0",
         "0.0",
         "0.0"
        ],
        [
         "16",
         "Zachary James",
         "03/05/2017 4:01:07 AM",
         "03/05/2017 4:14:11 AM",
         "Credit Card",
         "2",
         "2.77",
         "11.5",
         "3.2",
         "0.0"
        ],
        [
         "17",
         "Marissa Scott",
         "12/30/2017 11:52:44 PM",
         "12/30/2017 11:58:57 PM",
         "Debit Card",
         "1",
         "1.1",
         "6.5",
         "0.0",
         "0.0"
        ],
        [
         "18",
         "Krista Stewart",
         "01/06/2017 8:12:07 PM",
         "01/06/2017 8:18:37 PM",
         "Cash",
         "1",
         "0.52",
         "5.5",
         "1.0",
         "0.0"
        ],
        [
         "19",
         "Mike Taylor",
         "06/27/2017 12:08:22 AM",
         "06/27/2017 12:13:45 AM",
         "Credit Card",
         "1",
         "1.7",
         "7.0",
         "2.05",
         "0.0"
        ],
        [
         "20",
         "Heather Johnson",
         "02/13/2017 10:29:33 AM",
         "02/13/2017 10:34:11 AM",
         "Cash",
         "1",
         "0.9",
         "5.5",
         "1.25",
         "0.0"
        ],
        [
         "21",
         "Tiffany Ramirez",
         "01/14/2017 7:58:42 PM",
         "01/14/2017 8:05:59 PM",
         "Debit Card",
         "1",
         "1.72",
         "8.0",
         "2.79",
         "0.0"
        ],
        [
         "22",
         "James Taylor",
         "11/04/2017 1:27:59 AM",
         "11/04/2017 1:44:05 AM",
         "Credit Card",
         "1",
         "2.7",
         "13.0",
         "2.85",
         "0.0"
        ],
        [
         "23",
         "Gabriela Bryan",
         "11/24/2017 10:48:13 AM",
         "11/24/2017 10:52:57 AM",
         "Cash",
         "1",
         "0.85",
         "5.5",
         "0.0",
         "0.0"
        ],
        [
         "24",
         "Janet Hogan MD",
         "11/22/2017 10:24:17 AM",
         "11/22/2017 10:38:52 AM",
         "Cash",
         "1",
         "2.3",
         "11.0",
         "2.35",
         "0.0"
        ],
        [
         "25",
         "Jessica Cohen",
         "08/09/2017 9:01:50 PM",
         "08/09/2017 9:14:28 PM",
         "Cash",
         "1",
         "2.3",
         "10.5",
         "1.77",
         "0.0"
        ],
        [
         "26",
         "Katherine Martin",
         "04/12/2017 11:07:56 AM",
         "04/12/2017 11:19:29 AM",
         "Cash",
         "4",
         "1.5",
         "9.0",
         "0.0",
         "0.0"
        ],
        [
         "27",
         "Adrienne Mitchell",
         "10/26/2017 7:43:07 PM",
         "10/26/2017 8:06:02 PM",
         "Cash",
         "1",
         "2.9",
         "15.5",
         "3.45",
         "0.0"
        ],
        [
         "28",
         "Michael Murphy",
         "03/04/2017 6:19:04 PM",
         "03/04/2017 6:32:13 PM",
         "Credit Card",
         "1",
         "1.7",
         "10.5",
         "1.7",
         "0.0"
        ],
        [
         "29",
         "Benjamin Walls",
         "11/05/2017 1:35:25 AM",
         "11/05/2017 1:43:39 AM",
         "Cash",
         "5",
         "2.69",
         "9.5",
         "0.0",
         "0.0"
        ],
        [
         "30",
         "Steven Valdez",
         "02/24/2017 11:24:50 AM",
         "02/24/2017 11:29:18 AM",
         "Debit Card",
         "1",
         "0.6",
         "5.0",
         "0.0",
         "0.0"
        ],
        [
         "31",
         "Craig Cook",
         "02/23/2017 8:04:57 AM",
         "02/23/2017 8:18:48 AM",
         "Cash",
         "1",
         "2.11",
         "11.5",
         "2.46",
         "0.0"
        ],
        [
         "32",
         "Amanda Burns MD",
         "02/12/2017 6:45:41 PM",
         "02/12/2017 6:48:58 PM",
         "Cash",
         "4",
         "0.4",
         "4.0",
         "0.72",
         "0.0"
        ],
        [
         "33",
         "Gregory Stevens",
         "12/08/2017 12:21:55 PM",
         "12/08/2017 12:30:38 PM",
         "Cash",
         "1",
         "1.28",
         "7.5",
         "5.0",
         "0.0"
        ],
        [
         "34",
         "Jennifer Allen",
         "09/15/2017 7:09:51 PM",
         "09/15/2017 7:23:06 PM",
         "Debit Card",
         "3",
         "1.23",
         "9.5",
         "2.26",
         "0.0"
        ],
        [
         "35",
         "Heather Leonard",
         "02/25/2017 7:41:32 AM",
         "02/25/2017 7:50:26 AM",
         "Cash",
         "1",
         "2.0",
         "9.0",
         "1.95",
         "0.0"
        ],
        [
         "36",
         "Dr. Christy Velasquez",
         "12/08/2017 7:59:11 AM",
         "12/08/2017 8:15:32 AM",
         "Cash",
         "1",
         "4.52",
         "16.5",
         "2.0",
         "0.0"
        ],
        [
         "37",
         "Jasmin Oconnell",
         "04/26/2017 11:18:27 AM",
         "04/26/2017 11:24:59 AM",
         "Cash",
         "2",
         "1.12",
         "6.5",
         "1.82",
         "0.0"
        ],
        [
         "38",
         "Jasmine Hull",
         "02/15/2017 5:30:24 PM",
         "02/15/2017 5:35:24 PM",
         "Credit Card",
         "1",
         "0.59",
         "5.0",
         "1.36",
         "0.0"
        ],
        [
         "39",
         "Grace Duran",
         "08/14/2017 5:15:32 PM",
         "08/14/2017 5:25:28 PM",
         "Credit Card",
         "1",
         "1.5",
         "8.5",
         "2.55",
         "0.0"
        ],
        [
         "40",
         "Lauren Wilson",
         "09/05/2017 3:10:20 PM",
         "09/05/2017 3:25:25 PM",
         "Cash",
         "4",
         "1.71",
         "10.5",
         "0.0",
         "0.0"
        ],
        [
         "41",
         "Daniel Thompson",
         "03/11/2017 4:46:32 AM",
         "03/11/2017 4:57:02 AM",
         "Credit Card",
         "6",
         "2.69",
         "11.0",
         "0.0",
         "0.0"
        ],
        [
         "42",
         "Kayla Navarro",
         "04/27/2017 7:26:57 AM",
         "04/27/2017 7:28:21 AM",
         "Cash",
         "1",
         "0.42",
         "3.5",
         "0.86",
         "0.0"
        ],
        [
         "43",
         "Erin Parker",
         "01/05/2017 2:56:32 PM",
         "01/05/2017 3:24:31 PM",
         "Cash",
         "2",
         "2.6",
         "17.5",
         "0.0",
         "0.0"
        ],
        [
         "44",
         "Cynthia Garcia",
         "03/28/2017 7:10:03 PM",
         "03/28/2017 7:13:20 PM",
         "Cash",
         "1",
         "0.8",
         "4.5",
         "1.26",
         "0.0"
        ],
        [
         "45",
         "Eduardo Brown",
         "09/01/2017 9:37:29 AM",
         "09/01/2017 10:00:14 AM",
         "Debit Card",
         "1",
         "2.9",
         "16.0",
         "0.0",
         "0.0"
        ],
        [
         "46",
         "Luis Martin",
         "02/10/2017 11:47:00 AM",
         "02/10/2017 12:09:43 PM",
         "Debit Card",
         "1",
         "2.7",
         "15.5",
         "4.05",
         "0.0"
        ],
        [
         "47",
         "Stephen Huffman",
         "03/07/2017 8:19:42 PM",
         "03/07/2017 8:29:08 PM",
         "Cash",
         "2",
         "2.51",
         "10.0",
         "3.39",
         "0.0"
        ],
        [
         "48",
         "Aaron Pham",
         "03/18/2017 12:12:18 PM",
         "03/18/2017 12:20:32 PM",
         "Debit Card",
         "1",
         "0.78",
         "7.0",
         "0.0",
         "0.0"
        ],
        [
         "49",
         "Michelle Hughes",
         "03/03/2017 8:02:59 AM",
         "03/03/2017 8:05:43 AM",
         "Credit Card",
         "1",
         "0.85",
         "4.5",
         "1.59",
         "0.0"
        ]
       ],
       "shape": {
        "columns": 9,
        "rows": 19913
       }
      },
      "text/html": [
       "<div>\n",
       "<style scoped>\n",
       "    .dataframe tbody tr th:only-of-type {\n",
       "        vertical-align: middle;\n",
       "    }\n",
       "\n",
       "    .dataframe tbody tr th {\n",
       "        vertical-align: top;\n",
       "    }\n",
       "\n",
       "    .dataframe thead th {\n",
       "        text-align: right;\n",
       "    }\n",
       "</style>\n",
       "<table border=\"1\" class=\"dataframe\">\n",
       "  <thead>\n",
       "    <tr style=\"text-align: right;\">\n",
       "      <th></th>\n",
       "      <th>passenger_name</th>\n",
       "      <th>tpep_pickup_datetime</th>\n",
       "      <th>tpep_dropoff_datetime</th>\n",
       "      <th>payment_method</th>\n",
       "      <th>passenger_count</th>\n",
       "      <th>trip_distance</th>\n",
       "      <th>fare_amount</th>\n",
       "      <th>tip_amount</th>\n",
       "      <th>tolls_amount</th>\n",
       "    </tr>\n",
       "  </thead>\n",
       "  <tbody>\n",
       "    <tr>\n",
       "      <th>0</th>\n",
       "      <td>Pamela Duffy</td>\n",
       "      <td>03/25/2017 8:55:43 AM</td>\n",
       "      <td>03/25/2017 9:09:47 AM</td>\n",
       "      <td>Debit Card</td>\n",
       "      <td>6</td>\n",
       "      <td>3.34</td>\n",
       "      <td>13.0</td>\n",
       "      <td>2.76</td>\n",
       "      <td>0.0</td>\n",
       "    </tr>\n",
       "    <tr>\n",
       "      <th>1</th>\n",
       "      <td>Michelle Foster</td>\n",
       "      <td>04/11/2017 2:53:28 PM</td>\n",
       "      <td>04/11/2017 3:19:58 PM</td>\n",
       "      <td>Debit Card</td>\n",
       "      <td>1</td>\n",
       "      <td>1.80</td>\n",
       "      <td>16.0</td>\n",
       "      <td>4.00</td>\n",
       "      <td>0.0</td>\n",
       "    </tr>\n",
       "    <tr>\n",
       "      <th>2</th>\n",
       "      <td>Tina Combs</td>\n",
       "      <td>12/15/2017 7:26:56 AM</td>\n",
       "      <td>12/15/2017 7:34:08 AM</td>\n",
       "      <td>Debit Card</td>\n",
       "      <td>1</td>\n",
       "      <td>1.00</td>\n",
       "      <td>6.5</td>\n",
       "      <td>1.45</td>\n",
       "      <td>0.0</td>\n",
       "    </tr>\n",
       "    <tr>\n",
       "      <th>3</th>\n",
       "      <td>Brianna Johnson</td>\n",
       "      <td>04/15/2017 11:32:20 PM</td>\n",
       "      <td>04/15/2017 11:49:03 PM</td>\n",
       "      <td>Debit Card</td>\n",
       "      <td>1</td>\n",
       "      <td>4.37</td>\n",
       "      <td>16.5</td>\n",
       "      <td>0.00</td>\n",
       "      <td>0.0</td>\n",
       "    </tr>\n",
       "    <tr>\n",
       "      <th>4</th>\n",
       "      <td>Justin Smith</td>\n",
       "      <td>03/25/2017 8:34:11 PM</td>\n",
       "      <td>03/25/2017 8:42:11 PM</td>\n",
       "      <td>Debit Card</td>\n",
       "      <td>6</td>\n",
       "      <td>2.30</td>\n",
       "      <td>9.0</td>\n",
       "      <td>2.06</td>\n",
       "      <td>0.0</td>\n",
       "    </tr>\n",
       "    <tr>\n",
       "      <th>...</th>\n",
       "      <td>...</td>\n",
       "      <td>...</td>\n",
       "      <td>...</td>\n",
       "      <td>...</td>\n",
       "      <td>...</td>\n",
       "      <td>...</td>\n",
       "      <td>...</td>\n",
       "      <td>...</td>\n",
       "      <td>...</td>\n",
       "    </tr>\n",
       "    <tr>\n",
       "      <th>19908</th>\n",
       "      <td>Patrick Williams</td>\n",
       "      <td>08/10/2017 10:20:04 PM</td>\n",
       "      <td>08/10/2017 10:29:31 PM</td>\n",
       "      <td>Cash</td>\n",
       "      <td>1</td>\n",
       "      <td>0.89</td>\n",
       "      <td>7.5</td>\n",
       "      <td>1.76</td>\n",
       "      <td>0.0</td>\n",
       "    </tr>\n",
       "    <tr>\n",
       "      <th>19909</th>\n",
       "      <td>Austin Johnson</td>\n",
       "      <td>02/24/2017 5:37:23 PM</td>\n",
       "      <td>02/24/2017 5:40:39 PM</td>\n",
       "      <td>Cash</td>\n",
       "      <td>3</td>\n",
       "      <td>0.61</td>\n",
       "      <td>4.0</td>\n",
       "      <td>0.00</td>\n",
       "      <td>0.0</td>\n",
       "    </tr>\n",
       "    <tr>\n",
       "      <th>19910</th>\n",
       "      <td>Drew Graves</td>\n",
       "      <td>09/04/2017 2:54:14 PM</td>\n",
       "      <td>09/04/2017 2:58:22 PM</td>\n",
       "      <td>Debit Card</td>\n",
       "      <td>1</td>\n",
       "      <td>0.42</td>\n",
       "      <td>4.5</td>\n",
       "      <td>0.00</td>\n",
       "      <td>0.0</td>\n",
       "    </tr>\n",
       "    <tr>\n",
       "      <th>19911</th>\n",
       "      <td>Jonathan Copeland</td>\n",
       "      <td>07/15/2017 12:56:30 PM</td>\n",
       "      <td>07/15/2017 1:08:26 PM</td>\n",
       "      <td>Debit Card</td>\n",
       "      <td>1</td>\n",
       "      <td>2.36</td>\n",
       "      <td>10.5</td>\n",
       "      <td>1.70</td>\n",
       "      <td>0.0</td>\n",
       "    </tr>\n",
       "    <tr>\n",
       "      <th>19912</th>\n",
       "      <td>Benjamin Miller</td>\n",
       "      <td>03/02/2017 1:02:49 PM</td>\n",
       "      <td>03/02/2017 1:16:09 PM</td>\n",
       "      <td>Cash</td>\n",
       "      <td>1</td>\n",
       "      <td>2.10</td>\n",
       "      <td>11.0</td>\n",
       "      <td>2.35</td>\n",
       "      <td>0.0</td>\n",
       "    </tr>\n",
       "  </tbody>\n",
       "</table>\n",
       "<p>19913 rows × 9 columns</p>\n",
       "</div>"
      ],
      "text/plain": [
       "          passenger_name    tpep_pickup_datetime   tpep_dropoff_datetime  \\\n",
       "0           Pamela Duffy   03/25/2017 8:55:43 AM   03/25/2017 9:09:47 AM   \n",
       "1        Michelle Foster   04/11/2017 2:53:28 PM   04/11/2017 3:19:58 PM   \n",
       "2             Tina Combs   12/15/2017 7:26:56 AM   12/15/2017 7:34:08 AM   \n",
       "3        Brianna Johnson  04/15/2017 11:32:20 PM  04/15/2017 11:49:03 PM   \n",
       "4           Justin Smith   03/25/2017 8:34:11 PM   03/25/2017 8:42:11 PM   \n",
       "...                  ...                     ...                     ...   \n",
       "19908   Patrick Williams  08/10/2017 10:20:04 PM  08/10/2017 10:29:31 PM   \n",
       "19909     Austin Johnson   02/24/2017 5:37:23 PM   02/24/2017 5:40:39 PM   \n",
       "19910        Drew Graves   09/04/2017 2:54:14 PM   09/04/2017 2:58:22 PM   \n",
       "19911  Jonathan Copeland  07/15/2017 12:56:30 PM   07/15/2017 1:08:26 PM   \n",
       "19912    Benjamin Miller   03/02/2017 1:02:49 PM   03/02/2017 1:16:09 PM   \n",
       "\n",
       "      payment_method  passenger_count  trip_distance  fare_amount  tip_amount  \\\n",
       "0         Debit Card                6           3.34         13.0        2.76   \n",
       "1         Debit Card                1           1.80         16.0        4.00   \n",
       "2         Debit Card                1           1.00          6.5        1.45   \n",
       "3         Debit Card                1           4.37         16.5        0.00   \n",
       "4         Debit Card                6           2.30          9.0        2.06   \n",
       "...              ...              ...            ...          ...         ...   \n",
       "19908           Cash                1           0.89          7.5        1.76   \n",
       "19909           Cash                3           0.61          4.0        0.00   \n",
       "19910     Debit Card                1           0.42          4.5        0.00   \n",
       "19911     Debit Card                1           2.36         10.5        1.70   \n",
       "19912           Cash                1           2.10         11.0        2.35   \n",
       "\n",
       "       tolls_amount  \n",
       "0               0.0  \n",
       "1               0.0  \n",
       "2               0.0  \n",
       "3               0.0  \n",
       "4               0.0  \n",
       "...             ...  \n",
       "19908           0.0  \n",
       "19909           0.0  \n",
       "19910           0.0  \n",
       "19911           0.0  \n",
       "19912           0.0  \n",
       "\n",
       "[19913 rows x 9 columns]"
      ]
     },
     "execution_count": 67,
     "metadata": {},
     "output_type": "execute_result"
    }
   ],
   "source": [
    "data = data.loc[ (data['tip_amount']>tip_lower)&(data['tip_amount']<tip_higher) , : ]\n",
    "data = data.reset_index(drop=True)\n",
    "data"
   ]
  },
  {
   "cell_type": "markdown",
   "id": "023baabe",
   "metadata": {},
   "source": [
    "- tolls_amount의 scatter plot 그리기"
   ]
  },
  {
   "cell_type": "code",
   "execution_count": 68,
   "id": "f670f256",
   "metadata": {},
   "outputs": [
    {
     "data": {
      "image/png": "[encoded data removed]",
      "text/plain": [
       "<Figure size 640x480 with 1 Axes>"
      ]
     },
     "metadata": {},
     "output_type": "display_data"
    }
   ],
   "source": [
    "sns.scatterplot(data['tolls_amount'])\n",
    "plt.show()"
   ]
  },
  {
   "cell_type": "markdown",
   "id": "f3c76a7f",
   "metadata": {},
   "source": [
    "### 범주형 데이터 전처리"
   ]
  },
  {
   "cell_type": "markdown",
   "id": "0de04f2d",
   "metadata": {},
   "source": [
    "- payment_method의 값 Debit Card와 Credit Card를 Card로 통합"
   ]
  },
  {
   "cell_type": "code",
   "execution_count": 70,
   "id": "75ec43bd",
   "metadata": {},
   "outputs": [
    {
     "data": {
      "text/plain": [
       "array(['Debit Card', 'Cash', 'Credit Card'], dtype=object)"
      ]
     },
     "execution_count": 70,
     "metadata": {},
     "output_type": "execute_result"
    }
   ],
   "source": [
    "data['payment_method'].unique()"
   ]
  },
  {
   "cell_type": "code",
   "execution_count": 71,
   "id": "a6f44b4c",
   "metadata": {},
   "outputs": [
    {
     "data": {
      "text/plain": [
       "3"
      ]
     },
     "execution_count": 71,
     "metadata": {},
     "output_type": "execute_result"
    }
   ],
   "source": [
    "data['payment_method'].nunique()"
   ]
  },
  {
   "cell_type": "code",
   "execution_count": 72,
   "id": "f178828f",
   "metadata": {},
   "outputs": [
    {
     "data": {
      "application/vnd.microsoft.datawrangler.viewer.v0+json": {
       "columns": [
        {
         "name": "payment_method",
         "rawType": "object",
         "type": "string"
        },
        {
         "name": "count",
         "rawType": "int64",
         "type": "integer"
        }
       ],
       "ref": "8e6b1f90-a382-4c89-9124-203cc772a1af",
       "rows": [
        [
         "Cash",
         "9828"
        ],
        [
         "Debit Card",
         "5086"
        ],
        [
         "Credit Card",
         "4999"
        ]
       ],
       "shape": {
        "columns": 1,
        "rows": 3
       }
      },
      "text/plain": [
       "payment_method\n",
       "Cash           9828\n",
       "Debit Card     5086\n",
       "Credit Card    4999\n",
       "Name: count, dtype: int64"
      ]
     },
     "execution_count": 72,
     "metadata": {},
     "output_type": "execute_result"
    }
   ],
   "source": [
    "data['payment_method'].value_counts()"
   ]
  },
  {
   "cell_type": "code",
   "execution_count": 73,
   "id": "e9cf20e7",
   "metadata": {},
   "outputs": [],
   "source": [
    "data['payment_method'] = data['payment_method'].replace({'Debit Card': 'Card',\n",
    "                                                         'Credit Card': 'Card',\n",
    "                                                         })"
   ]
  },
  {
   "cell_type": "code",
   "execution_count": 74,
   "id": "3b0a0f4a",
   "metadata": {},
   "outputs": [
    {
     "data": {
      "application/vnd.microsoft.datawrangler.viewer.v0+json": {
       "columns": [
        {
         "name": "payment_method",
         "rawType": "object",
         "type": "string"
        },
        {
         "name": "count",
         "rawType": "int64",
         "type": "integer"
        }
       ],
       "ref": "fb426f7f-9985-4bd2-92cd-962433affbaf",
       "rows": [
        [
         "Card",
         "10085"
        ],
        [
         "Cash",
         "9828"
        ]
       ],
       "shape": {
        "columns": 1,
        "rows": 2
       }
      },
      "text/plain": [
       "payment_method\n",
       "Card    10085\n",
       "Cash     9828\n",
       "Name: count, dtype: int64"
      ]
     },
     "execution_count": 74,
     "metadata": {},
     "output_type": "execute_result"
    }
   ],
   "source": [
    "data['payment_method'].value_counts()"
   ]
  },
  {
   "cell_type": "markdown",
   "id": "8379f487",
   "metadata": {},
   "source": [
    "- passenger_name 컬럼의 성과 이름을 분리하여 성 부분만 passenger_first_name 컬럼에 저장"
   ]
  },
  {
   "cell_type": "code",
   "execution_count": 76,
   "id": "dd812f6f",
   "metadata": {},
   "outputs": [],
   "source": [
    "data['passenger_first_name'] = data['passenger_name'].str.split(expand=True)[0]"
   ]
  },
  {
   "cell_type": "code",
   "execution_count": 77,
   "id": "60658bea",
   "metadata": {},
   "outputs": [
    {
     "data": {
      "application/vnd.microsoft.datawrangler.viewer.v0+json": {
       "columns": [
        {
         "name": "index",
         "rawType": "int64",
         "type": "integer"
        },
        {
         "name": "passenger_name",
         "rawType": "object",
         "type": "string"
        },
        {
         "name": "tpep_pickup_datetime",
         "rawType": "object",
         "type": "string"
        },
        {
         "name": "tpep_dropoff_datetime",
         "rawType": "object",
         "type": "string"
        },
        {
         "name": "payment_method",
         "rawType": "object",
         "type": "string"
        },
        {
         "name": "passenger_count",
         "rawType": "int64",
         "type": "integer"
        },
        {
         "name": "trip_distance",
         "rawType": "float64",
         "type": "float"
        },
        {
         "name": "fare_amount",
         "rawType": "float64",
         "type": "float"
        },
        {
         "name": "tip_amount",
         "rawType": "float64",
         "type": "float"
        },
        {
         "name": "tolls_amount",
         "rawType": "float64",
         "type": "float"
        },
        {
         "name": "passenger_first_name",
         "rawType": "object",
         "type": "string"
        }
       ],
       "ref": "d848e2ed-d4e6-4d37-8b54-865b3bc8e6bb",
       "rows": [
        [
         "0",
         "Pamela Duffy",
         "03/25/2017 8:55:43 AM",
         "03/25/2017 9:09:47 AM",
         "Card",
         "6",
         "3.34",
         "13.0",
         "2.76",
         "0.0",
         "Pamela"
        ],
        [
         "1",
         "Michelle Foster",
         "04/11/2017 2:53:28 PM",
         "04/11/2017 3:19:58 PM",
         "Card",
         "1",
         "1.8",
         "16.0",
         "4.0",
         "0.0",
         "Michelle"
        ],
        [
         "2",
         "Tina Combs",
         "12/15/2017 7:26:56 AM",
         "12/15/2017 7:34:08 AM",
         "Card",
         "1",
         "1.0",
         "6.5",
         "1.45",
         "0.0",
         "Tina"
        ],
        [
         "3",
         "Brianna Johnson",
         "04/15/2017 11:32:20 PM",
         "04/15/2017 11:49:03 PM",
         "Card",
         "1",
         "4.37",
         "16.5",
         "0.0",
         "0.0",
         "Brianna"
        ],
        [
         "4",
         "Justin Smith",
         "03/25/2017 8:34:11 PM",
         "03/25/2017 8:42:11 PM",
         "Card",
         "6",
         "2.3",
         "9.0",
         "2.06",
         "0.0",
         "Justin"
        ]
       ],
       "shape": {
        "columns": 10,
        "rows": 5
       }
      },
      "text/html": [
       "<div>\n",
       "<style scoped>\n",
       "    .dataframe tbody tr th:only-of-type {\n",
       "        vertical-align: middle;\n",
       "    }\n",
       "\n",
       "    .dataframe tbody tr th {\n",
       "        vertical-align: top;\n",
       "    }\n",
       "\n",
       "    .dataframe thead th {\n",
       "        text-align: right;\n",
       "    }\n",
       "</style>\n",
       "<table border=\"1\" class=\"dataframe\">\n",
       "  <thead>\n",
       "    <tr style=\"text-align: right;\">\n",
       "      <th></th>\n",
       "      <th>passenger_name</th>\n",
       "      <th>tpep_pickup_datetime</th>\n",
       "      <th>tpep_dropoff_datetime</th>\n",
       "      <th>payment_method</th>\n",
       "      <th>passenger_count</th>\n",
       "      <th>trip_distance</th>\n",
       "      <th>fare_amount</th>\n",
       "      <th>tip_amount</th>\n",
       "      <th>tolls_amount</th>\n",
       "      <th>passenger_first_name</th>\n",
       "    </tr>\n",
       "  </thead>\n",
       "  <tbody>\n",
       "    <tr>\n",
       "      <th>0</th>\n",
       "      <td>Pamela Duffy</td>\n",
       "      <td>03/25/2017 8:55:43 AM</td>\n",
       "      <td>03/25/2017 9:09:47 AM</td>\n",
       "      <td>Card</td>\n",
       "      <td>6</td>\n",
       "      <td>3.34</td>\n",
       "      <td>13.0</td>\n",
       "      <td>2.76</td>\n",
       "      <td>0.0</td>\n",
       "      <td>Pamela</td>\n",
       "    </tr>\n",
       "    <tr>\n",
       "      <th>1</th>\n",
       "      <td>Michelle Foster</td>\n",
       "      <td>04/11/2017 2:53:28 PM</td>\n",
       "      <td>04/11/2017 3:19:58 PM</td>\n",
       "      <td>Card</td>\n",
       "      <td>1</td>\n",
       "      <td>1.80</td>\n",
       "      <td>16.0</td>\n",
       "      <td>4.00</td>\n",
       "      <td>0.0</td>\n",
       "      <td>Michelle</td>\n",
       "    </tr>\n",
       "    <tr>\n",
       "      <th>2</th>\n",
       "      <td>Tina Combs</td>\n",
       "      <td>12/15/2017 7:26:56 AM</td>\n",
       "      <td>12/15/2017 7:34:08 AM</td>\n",
       "      <td>Card</td>\n",
       "      <td>1</td>\n",
       "      <td>1.00</td>\n",
       "      <td>6.5</td>\n",
       "      <td>1.45</td>\n",
       "      <td>0.0</td>\n",
       "      <td>Tina</td>\n",
       "    </tr>\n",
       "    <tr>\n",
       "      <th>3</th>\n",
       "      <td>Brianna Johnson</td>\n",
       "      <td>04/15/2017 11:32:20 PM</td>\n",
       "      <td>04/15/2017 11:49:03 PM</td>\n",
       "      <td>Card</td>\n",
       "      <td>1</td>\n",
       "      <td>4.37</td>\n",
       "      <td>16.5</td>\n",
       "      <td>0.00</td>\n",
       "      <td>0.0</td>\n",
       "      <td>Brianna</td>\n",
       "    </tr>\n",
       "    <tr>\n",
       "      <th>4</th>\n",
       "      <td>Justin Smith</td>\n",
       "      <td>03/25/2017 8:34:11 PM</td>\n",
       "      <td>03/25/2017 8:42:11 PM</td>\n",
       "      <td>Card</td>\n",
       "      <td>6</td>\n",
       "      <td>2.30</td>\n",
       "      <td>9.0</td>\n",
       "      <td>2.06</td>\n",
       "      <td>0.0</td>\n",
       "      <td>Justin</td>\n",
       "    </tr>\n",
       "  </tbody>\n",
       "</table>\n",
       "</div>"
      ],
      "text/plain": [
       "    passenger_name    tpep_pickup_datetime   tpep_dropoff_datetime  \\\n",
       "0     Pamela Duffy   03/25/2017 8:55:43 AM   03/25/2017 9:09:47 AM   \n",
       "1  Michelle Foster   04/11/2017 2:53:28 PM   04/11/2017 3:19:58 PM   \n",
       "2       Tina Combs   12/15/2017 7:26:56 AM   12/15/2017 7:34:08 AM   \n",
       "3  Brianna Johnson  04/15/2017 11:32:20 PM  04/15/2017 11:49:03 PM   \n",
       "4     Justin Smith   03/25/2017 8:34:11 PM   03/25/2017 8:42:11 PM   \n",
       "\n",
       "  payment_method  passenger_count  trip_distance  fare_amount  tip_amount  \\\n",
       "0           Card                6           3.34         13.0        2.76   \n",
       "1           Card                1           1.80         16.0        4.00   \n",
       "2           Card                1           1.00          6.5        1.45   \n",
       "3           Card                1           4.37         16.5        0.00   \n",
       "4           Card                6           2.30          9.0        2.06   \n",
       "\n",
       "   tolls_amount passenger_first_name  \n",
       "0           0.0               Pamela  \n",
       "1           0.0             Michelle  \n",
       "2           0.0                 Tina  \n",
       "3           0.0              Brianna  \n",
       "4           0.0               Justin  "
      ]
     },
     "execution_count": 77,
     "metadata": {},
     "output_type": "execute_result"
    }
   ],
   "source": [
    "data.head()"
   ]
  },
  {
   "cell_type": "markdown",
   "id": "c0244ec7",
   "metadata": {},
   "source": [
    "- tpep_pickup_datetime 컬럼의 object 자료형을 datetime 자료형으로 변환\n",
    "- tpep_dropoff_datetime 컬럼의 object 자료형을 datetime 자료형으로 변환"
   ]
  },
  {
   "cell_type": "code",
   "execution_count": 78,
   "id": "9dce3e32",
   "metadata": {},
   "outputs": [],
   "source": [
    "data['tpep_pickup_datetime'] = pd.to_datetime(data['tpep_pickup_datetime'])\n",
    "data['tpep_dropoff_datetime'] = pd.to_datetime(data['tpep_dropoff_datetime'])"
   ]
  },
  {
   "cell_type": "code",
   "execution_count": 79,
   "id": "eae982b4",
   "metadata": {},
   "outputs": [
    {
     "name": "stdout",
     "output_type": "stream",
     "text": [
      "<class 'pandas.core.frame.DataFrame'>\n",
      "RangeIndex: 19913 entries, 0 to 19912\n",
      "Data columns (total 10 columns):\n",
      " #   Column                 Non-Null Count  Dtype         \n",
      "---  ------                 --------------  -----         \n",
      " 0   passenger_name         19913 non-null  object        \n",
      " 1   tpep_pickup_datetime   19913 non-null  datetime64[ns]\n",
      " 2   tpep_dropoff_datetime  19913 non-null  datetime64[ns]\n",
      " 3   payment_method         19913 non-null  object        \n",
      " 4   passenger_count        19913 non-null  int64         \n",
      " 5   trip_distance          19913 non-null  float64       \n",
      " 6   fare_amount            19913 non-null  float64       \n",
      " 7   tip_amount             19913 non-null  float64       \n",
      " 8   tolls_amount           19913 non-null  float64       \n",
      " 9   passenger_first_name   19913 non-null  object        \n",
      "dtypes: datetime64[ns](2), float64(4), int64(1), object(3)\n",
      "memory usage: 1.5+ MB\n"
     ]
    }
   ],
   "source": [
    "data.info()"
   ]
  },
  {
   "cell_type": "markdown",
   "id": "4d96e5ac",
   "metadata": {},
   "source": [
    "- 하차 시각과 승차 시각의 차이를 travel_time 컬럼으로 저장"
   ]
  },
  {
   "cell_type": "code",
   "execution_count": 80,
   "id": "0b43548c",
   "metadata": {},
   "outputs": [],
   "source": [
    "data['travel_time'] = data['tpep_dropoff_datetime'] - data['tpep_pickup_datetime']"
   ]
  },
  {
   "cell_type": "markdown",
   "id": "f5f24781",
   "metadata": {},
   "source": [
    "- travel_time 컬럼의 데이터를 초 단위로 변환"
   ]
  },
  {
   "cell_type": "code",
   "execution_count": 81,
   "id": "29e21931",
   "metadata": {},
   "outputs": [],
   "source": [
    "data['travel_time'] = data['travel_time'].dt.seconds"
   ]
  },
  {
   "cell_type": "markdown",
   "id": "6a3f8b4a",
   "metadata": {},
   "source": [
    "### Feature Engneering"
   ]
  },
  {
   "cell_type": "markdown",
   "id": "916b0737",
   "metadata": {},
   "source": [
    "- 승객이 지불한 총 요금을 total_amount 컬럼에 저장"
   ]
  },
  {
   "cell_type": "code",
   "execution_count": 82,
   "id": "161075c5",
   "metadata": {},
   "outputs": [],
   "source": [
    "data['total_amount'] = data['fare_amount'] + data['tip_amount'] + data['tolls_amount']"
   ]
  },
  {
   "cell_type": "markdown",
   "id": "8c383b2e",
   "metadata": {},
   "source": [
    "- fare_amount와 trip_distance 간의 관계를 scatter plot으로 그리기"
   ]
  },
  {
   "cell_type": "code",
   "execution_count": 83,
   "id": "dc75cdb6",
   "metadata": {},
   "outputs": [
    {
     "data": {
      "image/png": "[encoded data removed]",
      "text/plain": [
       "<Figure size 640x480 with 1 Axes>"
      ]
     },
     "metadata": {},
     "output_type": "display_data"
    }
   ],
   "source": [
    "sns.scatterplot(data=data, x='trip_distance', y='fare_amount')\n",
    "plt.show()"
   ]
  },
  {
   "cell_type": "markdown",
   "id": "453dae7b",
   "metadata": {},
   "source": [
    "- fare_amount와 travel_time 간의 관계를 scatter plot으로 그리기"
   ]
  },
  {
   "cell_type": "code",
   "execution_count": 84,
   "id": "7421af36",
   "metadata": {},
   "outputs": [
    {
     "data": {
      "image/png": "[encoded data removed]",
      "text/plain": [
       "<Figure size 640x480 with 1 Axes>"
      ]
     },
     "metadata": {},
     "output_type": "display_data"
    }
   ],
   "source": [
    "sns.scatterplot(data=data, x='travel_time', y='fare_amount')\n",
    "plt.show()"
   ]
  },
  {
   "cell_type": "markdown",
   "id": "bd6ebd8b",
   "metadata": {},
   "source": [
    "- trip_distance와 travel_time 간의 관계를 scatter plot으로 그리기"
   ]
  },
  {
   "cell_type": "code",
   "execution_count": 85,
   "id": "1f3c9cf1",
   "metadata": {},
   "outputs": [
    {
     "data": {
      "image/png": "[encoded data removed]",
      "text/plain": [
       "<Figure size 640x480 with 1 Axes>"
      ]
     },
     "metadata": {},
     "output_type": "display_data"
    }
   ],
   "source": [
    "sns.scatterplot(data=data, x='travel_time', y='trip_distance')\n",
    "plt.show()"
   ]
  },
  {
   "cell_type": "markdown",
   "id": "f445b594",
   "metadata": {},
   "source": [
    "- scatter plot으로 관찰된 travel_time의 이상치 제거"
   ]
  },
  {
   "cell_type": "code",
   "execution_count": 86,
   "id": "76da7729",
   "metadata": {},
   "outputs": [],
   "source": [
    "time_q1 = np.percentile(data['travel_time'], 25)\n",
    "time_q2 = np.percentile(data['travel_time'], 50)\n",
    "time_q3 = np.percentile(data['travel_time'], 75)\n",
    "time_iqr = time_q3 - time_q1\n",
    "\n",
    "time_lower = time_q1 - time_iqr*1.5  ## 어차피 0보다 아래의 값은 없다...\n",
    "time_higher = time_q3 + time_iqr*1.5\n",
    "\n",
    "data = data.loc[ data['travel_time']<time_higher , : ]\n",
    "data = data.reset_index(drop=True)"
   ]
  },
  {
   "cell_type": "code",
   "execution_count": 87,
   "id": "80249dd4",
   "metadata": {},
   "outputs": [
    {
     "data": {
      "image/png": "[encoded data removed]",
      "text/plain": [
       "<Figure size 640x480 with 1 Axes>"
      ]
     },
     "metadata": {},
     "output_type": "display_data"
    }
   ],
   "source": [
    "sns.scatterplot(data=data, x='travel_time', y='total_amount')\n",
    "plt.show()"
   ]
  }
 ],
 "metadata": {
  "kernelspec": {
   "display_name": ".venv (3.12.3)",
   "language": "python",
   "name": "python3"
  },
  "language_info": {
   "codemirror_mode": {
    "name": "ipython",
    "version": 3
   },
   "file_extension": ".py",
   "mimetype": "text/x-python",
   "name": "python",
   "nbconvert_exporter": "python",
   "pygments_lexer": "ipython3",
   "version": "3.12.3"
  }
 },
 "nbformat": 4,
 "nbformat_minor": 5
}
