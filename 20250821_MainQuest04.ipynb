{
  "cells": [
    {
      "cell_type": "code",
      "execution_count": 2,
      "metadata": {
        "id": "roCZN58vEV8j"
      },
      "outputs": [],
      "source": [
        "import pandas as pd\n",
        "import numpy as np\n",
        "\n",
        "import matplotlib\n",
        "import matplotlib.pyplot as plt\n",
        "import seaborn as sns"
      ]
    },
    {
      "cell_type": "code",
      "execution_count": 3,
      "metadata": {},
      "outputs": [],
      "source": [
        "plt.rc('font', family='NanumSquareRound')\n",
        "matplotlib.rcParams['axes.unicode_minus'] = False"
      ]
    },
    {
      "cell_type": "code",
      "execution_count": 4,
      "metadata": {
        "colab": {
          "base_uri": "https://localhost:8080/"
        },
        "id": "nzm86qcTEXKO",
        "outputId": "f81f1bf5-09aa-44d2-dffc-3756b5e09db5"
      },
      "outputs": [
        {
          "name": "stdout",
          "output_type": "stream",
          "text": [
            "Path to dataset files: /home/drkail/.cache/kagglehub/datasets/tunguz/online-retail/versions/1\n"
          ]
        },
        {
          "data": {
            "text/plain": [
              "(541909, 8)"
            ]
          },
          "execution_count": 4,
          "metadata": {},
          "output_type": "execute_result"
        }
      ],
      "source": [
        "import kagglehub\n",
        "import os\n",
        "\n",
        "# Download latest version\n",
        "path = kagglehub.dataset_download(\"tunguz/online-retail\")\n",
        "\n",
        "print(\"Path to dataset files:\", path)\n",
        "df = pd.read_csv(path + '/' + os.listdir(path)[0], encoding='latin1')\n",
        "df.shape"
      ]
    },
    {
      "cell_type": "code",
      "execution_count": 5,
      "metadata": {
        "colab": {
          "base_uri": "https://localhost:8080/",
          "height": 293
        },
        "id": "1a1z6CpsMVmm",
        "outputId": "30bfa160-b185-493f-f4eb-378581578016"
      },
      "outputs": [
        {
          "data": {
            "application/vnd.microsoft.datawrangler.viewer.v0+json": {
              "columns": [
                {
                  "name": "index",
                  "rawType": "int64",
                  "type": "integer"
                },
                {
                  "name": "InvoiceNo",
                  "rawType": "object",
                  "type": "string"
                },
                {
                  "name": "StockCode",
                  "rawType": "object",
                  "type": "string"
                },
                {
                  "name": "Description",
                  "rawType": "object",
                  "type": "string"
                },
                {
                  "name": "Quantity",
                  "rawType": "int64",
                  "type": "integer"
                },
                {
                  "name": "InvoiceDate",
                  "rawType": "object",
                  "type": "string"
                },
                {
                  "name": "UnitPrice",
                  "rawType": "float64",
                  "type": "float"
                },
                {
                  "name": "CustomerID",
                  "rawType": "float64",
                  "type": "float"
                },
                {
                  "name": "Country",
                  "rawType": "object",
                  "type": "string"
                }
              ],
              "ref": "6836c33f-140c-4445-aba4-1fd68ae0b272",
              "rows": [
                [
                  "0",
                  "536365",
                  "85123A",
                  "WHITE HANGING HEART T-LIGHT HOLDER",
                  "6",
                  "12/1/10 8:26",
                  "2.55",
                  "17850.0",
                  "United Kingdom"
                ],
                [
                  "1",
                  "536365",
                  "71053",
                  "WHITE METAL LANTERN",
                  "6",
                  "12/1/10 8:26",
                  "3.39",
                  "17850.0",
                  "United Kingdom"
                ],
                [
                  "2",
                  "536365",
                  "84406B",
                  "CREAM CUPID HEARTS COAT HANGER",
                  "8",
                  "12/1/10 8:26",
                  "2.75",
                  "17850.0",
                  "United Kingdom"
                ],
                [
                  "3",
                  "536365",
                  "84029G",
                  "KNITTED UNION FLAG HOT WATER BOTTLE",
                  "6",
                  "12/1/10 8:26",
                  "3.39",
                  "17850.0",
                  "United Kingdom"
                ],
                [
                  "4",
                  "536365",
                  "84029E",
                  "RED WOOLLY HOTTIE WHITE HEART.",
                  "6",
                  "12/1/10 8:26",
                  "3.39",
                  "17850.0",
                  "United Kingdom"
                ]
              ],
              "shape": {
                "columns": 8,
                "rows": 5
              }
            },
            "text/html": [
              "<div>\n",
              "<style scoped>\n",
              "    .dataframe tbody tr th:only-of-type {\n",
              "        vertical-align: middle;\n",
              "    }\n",
              "\n",
              "    .dataframe tbody tr th {\n",
              "        vertical-align: top;\n",
              "    }\n",
              "\n",
              "    .dataframe thead th {\n",
              "        text-align: right;\n",
              "    }\n",
              "</style>\n",
              "<table border=\"1\" class=\"dataframe\">\n",
              "  <thead>\n",
              "    <tr style=\"text-align: right;\">\n",
              "      <th></th>\n",
              "      <th>InvoiceNo</th>\n",
              "      <th>StockCode</th>\n",
              "      <th>Description</th>\n",
              "      <th>Quantity</th>\n",
              "      <th>InvoiceDate</th>\n",
              "      <th>UnitPrice</th>\n",
              "      <th>CustomerID</th>\n",
              "      <th>Country</th>\n",
              "    </tr>\n",
              "  </thead>\n",
              "  <tbody>\n",
              "    <tr>\n",
              "      <th>0</th>\n",
              "      <td>536365</td>\n",
              "      <td>85123A</td>\n",
              "      <td>WHITE HANGING HEART T-LIGHT HOLDER</td>\n",
              "      <td>6</td>\n",
              "      <td>12/1/10 8:26</td>\n",
              "      <td>2.55</td>\n",
              "      <td>17850.0</td>\n",
              "      <td>United Kingdom</td>\n",
              "    </tr>\n",
              "    <tr>\n",
              "      <th>1</th>\n",
              "      <td>536365</td>\n",
              "      <td>71053</td>\n",
              "      <td>WHITE METAL LANTERN</td>\n",
              "      <td>6</td>\n",
              "      <td>12/1/10 8:26</td>\n",
              "      <td>3.39</td>\n",
              "      <td>17850.0</td>\n",
              "      <td>United Kingdom</td>\n",
              "    </tr>\n",
              "    <tr>\n",
              "      <th>2</th>\n",
              "      <td>536365</td>\n",
              "      <td>84406B</td>\n",
              "      <td>CREAM CUPID HEARTS COAT HANGER</td>\n",
              "      <td>8</td>\n",
              "      <td>12/1/10 8:26</td>\n",
              "      <td>2.75</td>\n",
              "      <td>17850.0</td>\n",
              "      <td>United Kingdom</td>\n",
              "    </tr>\n",
              "    <tr>\n",
              "      <th>3</th>\n",
              "      <td>536365</td>\n",
              "      <td>84029G</td>\n",
              "      <td>KNITTED UNION FLAG HOT WATER BOTTLE</td>\n",
              "      <td>6</td>\n",
              "      <td>12/1/10 8:26</td>\n",
              "      <td>3.39</td>\n",
              "      <td>17850.0</td>\n",
              "      <td>United Kingdom</td>\n",
              "    </tr>\n",
              "    <tr>\n",
              "      <th>4</th>\n",
              "      <td>536365</td>\n",
              "      <td>84029E</td>\n",
              "      <td>RED WOOLLY HOTTIE WHITE HEART.</td>\n",
              "      <td>6</td>\n",
              "      <td>12/1/10 8:26</td>\n",
              "      <td>3.39</td>\n",
              "      <td>17850.0</td>\n",
              "      <td>United Kingdom</td>\n",
              "    </tr>\n",
              "  </tbody>\n",
              "</table>\n",
              "</div>"
            ],
            "text/plain": [
              "  InvoiceNo StockCode                          Description  Quantity  \\\n",
              "0    536365    85123A   WHITE HANGING HEART T-LIGHT HOLDER         6   \n",
              "1    536365     71053                  WHITE METAL LANTERN         6   \n",
              "2    536365    84406B       CREAM CUPID HEARTS COAT HANGER         8   \n",
              "3    536365    84029G  KNITTED UNION FLAG HOT WATER BOTTLE         6   \n",
              "4    536365    84029E       RED WOOLLY HOTTIE WHITE HEART.         6   \n",
              "\n",
              "    InvoiceDate  UnitPrice  CustomerID         Country  \n",
              "0  12/1/10 8:26       2.55     17850.0  United Kingdom  \n",
              "1  12/1/10 8:26       3.39     17850.0  United Kingdom  \n",
              "2  12/1/10 8:26       2.75     17850.0  United Kingdom  \n",
              "3  12/1/10 8:26       3.39     17850.0  United Kingdom  \n",
              "4  12/1/10 8:26       3.39     17850.0  United Kingdom  "
            ]
          },
          "execution_count": 5,
          "metadata": {},
          "output_type": "execute_result"
        }
      ],
      "source": [
        "df.head()"
      ]
    },
    {
      "cell_type": "code",
      "execution_count": 6,
      "metadata": {
        "colab": {
          "base_uri": "https://localhost:8080/"
        },
        "id": "L0HBCqRrKnx4",
        "outputId": "85a8ffbf-ef43-4e1a-efab-051c894edf49"
      },
      "outputs": [
        {
          "name": "stdout",
          "output_type": "stream",
          "text": [
            "<class 'pandas.core.frame.DataFrame'>\n",
            "RangeIndex: 541909 entries, 0 to 541908\n",
            "Data columns (total 8 columns):\n",
            " #   Column       Non-Null Count   Dtype  \n",
            "---  ------       --------------   -----  \n",
            " 0   InvoiceNo    541909 non-null  object \n",
            " 1   StockCode    541909 non-null  object \n",
            " 2   Description  540455 non-null  object \n",
            " 3   Quantity     541909 non-null  int64  \n",
            " 4   InvoiceDate  541909 non-null  object \n",
            " 5   UnitPrice    541909 non-null  float64\n",
            " 6   CustomerID   406829 non-null  float64\n",
            " 7   Country      541909 non-null  object \n",
            "dtypes: float64(2), int64(1), object(5)\n",
            "memory usage: 33.1+ MB\n"
          ]
        }
      ],
      "source": [
        "df.info()"
      ]
    },
    {
      "cell_type": "code",
      "execution_count": 7,
      "metadata": {
        "colab": {
          "base_uri": "https://localhost:8080/",
          "height": 362
        },
        "id": "9eMYZRXsMvDk",
        "outputId": "2c245f9a-eeb7-40dc-c999-8bce34ffd28b"
      },
      "outputs": [
        {
          "data": {
            "application/vnd.microsoft.datawrangler.viewer.v0+json": {
              "columns": [
                {
                  "name": "index",
                  "rawType": "int64",
                  "type": "integer"
                },
                {
                  "name": "InvoiceNo",
                  "rawType": "object",
                  "type": "string"
                },
                {
                  "name": "StockCode",
                  "rawType": "object",
                  "type": "string"
                },
                {
                  "name": "Description",
                  "rawType": "object",
                  "type": "string"
                },
                {
                  "name": "Quantity",
                  "rawType": "int64",
                  "type": "integer"
                },
                {
                  "name": "InvoiceDate",
                  "rawType": "object",
                  "type": "string"
                },
                {
                  "name": "UnitPrice",
                  "rawType": "float64",
                  "type": "float"
                },
                {
                  "name": "CustomerID",
                  "rawType": "float64",
                  "type": "float"
                },
                {
                  "name": "Country",
                  "rawType": "object",
                  "type": "string"
                },
                {
                  "name": "TotalPrice",
                  "rawType": "float64",
                  "type": "float"
                }
              ],
              "ref": "21c2838f-dd09-436e-b689-5a2f9a02b2d8",
              "rows": [
                [
                  "0",
                  "536365",
                  "85123A",
                  "WHITE HANGING HEART T-LIGHT HOLDER",
                  "6",
                  "12/1/10 8:26",
                  "2.55",
                  "17850.0",
                  "United Kingdom",
                  "15.299999999999999"
                ],
                [
                  "1",
                  "536365",
                  "71053",
                  "WHITE METAL LANTERN",
                  "6",
                  "12/1/10 8:26",
                  "3.39",
                  "17850.0",
                  "United Kingdom",
                  "20.34"
                ],
                [
                  "2",
                  "536365",
                  "84406B",
                  "CREAM CUPID HEARTS COAT HANGER",
                  "8",
                  "12/1/10 8:26",
                  "2.75",
                  "17850.0",
                  "United Kingdom",
                  "22.0"
                ],
                [
                  "3",
                  "536365",
                  "84029G",
                  "KNITTED UNION FLAG HOT WATER BOTTLE",
                  "6",
                  "12/1/10 8:26",
                  "3.39",
                  "17850.0",
                  "United Kingdom",
                  "20.34"
                ],
                [
                  "4",
                  "536365",
                  "84029E",
                  "RED WOOLLY HOTTIE WHITE HEART.",
                  "6",
                  "12/1/10 8:26",
                  "3.39",
                  "17850.0",
                  "United Kingdom",
                  "20.34"
                ]
              ],
              "shape": {
                "columns": 9,
                "rows": 5
              }
            },
            "text/html": [
              "<div>\n",
              "<style scoped>\n",
              "    .dataframe tbody tr th:only-of-type {\n",
              "        vertical-align: middle;\n",
              "    }\n",
              "\n",
              "    .dataframe tbody tr th {\n",
              "        vertical-align: top;\n",
              "    }\n",
              "\n",
              "    .dataframe thead th {\n",
              "        text-align: right;\n",
              "    }\n",
              "</style>\n",
              "<table border=\"1\" class=\"dataframe\">\n",
              "  <thead>\n",
              "    <tr style=\"text-align: right;\">\n",
              "      <th></th>\n",
              "      <th>InvoiceNo</th>\n",
              "      <th>StockCode</th>\n",
              "      <th>Description</th>\n",
              "      <th>Quantity</th>\n",
              "      <th>InvoiceDate</th>\n",
              "      <th>UnitPrice</th>\n",
              "      <th>CustomerID</th>\n",
              "      <th>Country</th>\n",
              "      <th>TotalPrice</th>\n",
              "    </tr>\n",
              "  </thead>\n",
              "  <tbody>\n",
              "    <tr>\n",
              "      <th>0</th>\n",
              "      <td>536365</td>\n",
              "      <td>85123A</td>\n",
              "      <td>WHITE HANGING HEART T-LIGHT HOLDER</td>\n",
              "      <td>6</td>\n",
              "      <td>12/1/10 8:26</td>\n",
              "      <td>2.55</td>\n",
              "      <td>17850.0</td>\n",
              "      <td>United Kingdom</td>\n",
              "      <td>15.30</td>\n",
              "    </tr>\n",
              "    <tr>\n",
              "      <th>1</th>\n",
              "      <td>536365</td>\n",
              "      <td>71053</td>\n",
              "      <td>WHITE METAL LANTERN</td>\n",
              "      <td>6</td>\n",
              "      <td>12/1/10 8:26</td>\n",
              "      <td>3.39</td>\n",
              "      <td>17850.0</td>\n",
              "      <td>United Kingdom</td>\n",
              "      <td>20.34</td>\n",
              "    </tr>\n",
              "    <tr>\n",
              "      <th>2</th>\n",
              "      <td>536365</td>\n",
              "      <td>84406B</td>\n",
              "      <td>CREAM CUPID HEARTS COAT HANGER</td>\n",
              "      <td>8</td>\n",
              "      <td>12/1/10 8:26</td>\n",
              "      <td>2.75</td>\n",
              "      <td>17850.0</td>\n",
              "      <td>United Kingdom</td>\n",
              "      <td>22.00</td>\n",
              "    </tr>\n",
              "    <tr>\n",
              "      <th>3</th>\n",
              "      <td>536365</td>\n",
              "      <td>84029G</td>\n",
              "      <td>KNITTED UNION FLAG HOT WATER BOTTLE</td>\n",
              "      <td>6</td>\n",
              "      <td>12/1/10 8:26</td>\n",
              "      <td>3.39</td>\n",
              "      <td>17850.0</td>\n",
              "      <td>United Kingdom</td>\n",
              "      <td>20.34</td>\n",
              "    </tr>\n",
              "    <tr>\n",
              "      <th>4</th>\n",
              "      <td>536365</td>\n",
              "      <td>84029E</td>\n",
              "      <td>RED WOOLLY HOTTIE WHITE HEART.</td>\n",
              "      <td>6</td>\n",
              "      <td>12/1/10 8:26</td>\n",
              "      <td>3.39</td>\n",
              "      <td>17850.0</td>\n",
              "      <td>United Kingdom</td>\n",
              "      <td>20.34</td>\n",
              "    </tr>\n",
              "  </tbody>\n",
              "</table>\n",
              "</div>"
            ],
            "text/plain": [
              "  InvoiceNo StockCode                          Description  Quantity  \\\n",
              "0    536365    85123A   WHITE HANGING HEART T-LIGHT HOLDER         6   \n",
              "1    536365     71053                  WHITE METAL LANTERN         6   \n",
              "2    536365    84406B       CREAM CUPID HEARTS COAT HANGER         8   \n",
              "3    536365    84029G  KNITTED UNION FLAG HOT WATER BOTTLE         6   \n",
              "4    536365    84029E       RED WOOLLY HOTTIE WHITE HEART.         6   \n",
              "\n",
              "    InvoiceDate  UnitPrice  CustomerID         Country  TotalPrice  \n",
              "0  12/1/10 8:26       2.55     17850.0  United Kingdom       15.30  \n",
              "1  12/1/10 8:26       3.39     17850.0  United Kingdom       20.34  \n",
              "2  12/1/10 8:26       2.75     17850.0  United Kingdom       22.00  \n",
              "3  12/1/10 8:26       3.39     17850.0  United Kingdom       20.34  \n",
              "4  12/1/10 8:26       3.39     17850.0  United Kingdom       20.34  "
            ]
          },
          "execution_count": 7,
          "metadata": {},
          "output_type": "execute_result"
        }
      ],
      "source": [
        "# 주문 가격\n",
        "df[\"TotalPrice\"] = df[\"Quantity\"] * df[\"UnitPrice\"]\n",
        "df.head()"
      ]
    },
    {
      "cell_type": "code",
      "execution_count": 8,
      "metadata": {
        "id": "Yjh3OImd9Yms"
      },
      "outputs": [
        {
          "name": "stderr",
          "output_type": "stream",
          "text": [
            "/tmp/ipykernel_67692/3844768752.py:2: UserWarning: Could not infer format, so each element will be parsed individually, falling back to `dateutil`. To ensure parsing is consistent and as-expected, please specify a format.\n",
            "  df['InvoiceDate'] = pd.to_datetime(df['InvoiceDate'])\n"
          ]
        }
      ],
      "source": [
        "# 'InvoiceDate' 컬럼을 이용하여 주중과 주말을 구분\n",
        "df['InvoiceDate'] = pd.to_datetime(df['InvoiceDate'])\n",
        "df['DayOfWeek'] = df['InvoiceDate'].dt.dayofweek\n",
        "\n",
        "# 'InvoiceDate' 컬럼 이용하여 판매 월 추출\n",
        "df[\"InvoiceDate\"] = pd.to_datetime(df[\"InvoiceDate\"].astype(str))\n",
        "df[\"InvoiceMonth\"] = df[\"InvoiceDate\"].dt.month"
      ]
    },
    {
      "cell_type": "markdown",
      "metadata": {
        "id": "JT3nUp9NMpGi"
      },
      "source": [
        "## 1. 모집단과 표본 집단의 TotalPrice를 비교해 주세요.\n",
        "\n",
        "* 데이터셋에서 무작위로 1000개의 표본을 추출하세요.\n",
        "* 추출된 표본과 전체 데이터셋의 'TotalPrice'에 대해 평균과 표준편차를 비교해주세요.  \n",
        "* 중심극한정리를 사용해 모집단과 표본의 차이를 설명해주세요."
      ]
    },
    {
      "cell_type": "code",
      "execution_count": 9,
      "metadata": {
        "id": "-VJd-zJU9qSR"
      },
      "outputs": [
        {
          "name": "stdout",
          "output_type": "stream",
          "text": [
            "<class 'pandas.core.frame.DataFrame'>\n",
            "Index: 1000 entries, 411342 to 248820\n",
            "Data columns (total 11 columns):\n",
            " #   Column        Non-Null Count  Dtype         \n",
            "---  ------        --------------  -----         \n",
            " 0   InvoiceNo     1000 non-null   object        \n",
            " 1   StockCode     1000 non-null   object        \n",
            " 2   Description   996 non-null    object        \n",
            " 3   Quantity      1000 non-null   int64         \n",
            " 4   InvoiceDate   1000 non-null   datetime64[ns]\n",
            " 5   UnitPrice     1000 non-null   float64       \n",
            " 6   CustomerID    733 non-null    float64       \n",
            " 7   Country       1000 non-null   object        \n",
            " 8   TotalPrice    1000 non-null   float64       \n",
            " 9   DayOfWeek     1000 non-null   int32         \n",
            " 10  InvoiceMonth  1000 non-null   int32         \n",
            "dtypes: datetime64[ns](1), float64(3), int32(2), int64(1), object(4)\n",
            "memory usage: 85.9+ KB\n"
          ]
        }
      ],
      "source": [
        "## 1000개 표본 추출\n",
        "\n",
        "df_sample = df.sample(1000, replace=False, random_state=2025)\n",
        "df_sample.info()"
      ]
    },
    {
      "cell_type": "code",
      "execution_count": 10,
      "metadata": {
        "id": "ZauLBaxV9qJf"
      },
      "outputs": [
        {
          "name": "stdout",
          "output_type": "stream",
          "text": [
            "전체 데이터셋의 평균: 17.987794876999644\n",
            "전체 데이터셋의 표준편차: 378.8108235059747\n",
            "--------------------\n",
            "표본 데이터의 평균: 18.00321\n",
            "표본 데이터의 표준편차: 43.63509340625356\n"
          ]
        }
      ],
      "source": [
        "## TotalPrice의 평균, 표준편차 비교\n",
        "\n",
        "print('전체 데이터셋의 평균:', df['TotalPrice'].mean() )\n",
        "print('전체 데이터셋의 표준편차:', df['TotalPrice'].std() )\n",
        "print('--------------------')\n",
        "print('표본 데이터의 평균:', df_sample['TotalPrice'].mean() )\n",
        "print('표본 데이터의 표준편차:', df_sample['TotalPrice'].std() )"
      ]
    },
    {
      "cell_type": "code",
      "execution_count": 11,
      "metadata": {},
      "outputs": [
        {
          "data": {
            "image/png": "[encoded data removed]",
            "text/plain": [
              "<Figure size 1000x800 with 1 Axes>"
            ]
          },
          "metadata": {},
          "output_type": "display_data"
        }
      ],
      "source": [
        "## 중심극한정리를 사용한 모집단과 표본의 차이\n",
        "\n",
        "## 중심극한정리는 모집단의 분포가 어떤 모양이건, 표본 크기(n)가 충분히 크면 \"표본 평균들의 분포\"가 정규분포 모양에 가까워지는 것을 의미.\n",
        "## 중심극한정리로 인해, 표본 평균이 모집단 평균값 주위에 정규분포 모양으로 퍼져있다는 것을 알 수 있고, 신뢰구간 같은 오차의 범위를 계산할 수 있다.\n",
        "\n",
        "sample_means = []\n",
        "for _ in range(10000):\n",
        "    sample = df.sample(1000, random_state=None)\n",
        "    sample_means.append( sample['TotalPrice'].mean() )\n",
        "\n",
        "plt.figure(figsize=(10, 8))\n",
        "plt.hist(sample_means, bins=20, edgecolor='black')\n",
        "plt.title(\"표본 평균들의 분포 (CLT 시뮬레이션)\")\n",
        "plt.xlabel('표본 평균')\n",
        "plt.ylabel('빈도')\n",
        "plt.axvline(df['TotalPrice'].mean(), color='red', label='모평균')\n",
        "plt.legend()\n",
        "plt.show()"
      ]
    },
    {
      "cell_type": "markdown",
      "metadata": {
        "id": "dvTXhGBpNG2E"
      },
      "source": [
        "## 2. 주문이 가장 많은 상위 두 국가의 'TotalPrice' 평균에 차이가 있는지 검증하세요.\n",
        "\n",
        "* 'Country' 변수를 바탕으로 주문이 가장 많은 상위 두 국가를 찾으세요.\n",
        "* 독립표본 t-검정을 사용하여 두 국가 간 'TotalPrice' 평균의 차이가 통계적으로 유의미한지 검증하세요.  \n",
        "* t-통계량과 p-값을 해석하여 결과를 설명하고, 1종 오류와 2종 오류의 개념을 적용하여 설명해주세요."
      ]
    },
    {
      "cell_type": "markdown",
      "metadata": {},
      "source": [
        "- Country 변수를 바탕으로 주문이 가장 많은 상위 두 국가를 찾으시오."
      ]
    },
    {
      "cell_type": "code",
      "execution_count": 12,
      "metadata": {
        "id": "ffgl-6Kk9rrO"
      },
      "outputs": [
        {
          "data": {
            "application/vnd.microsoft.datawrangler.viewer.v0+json": {
              "columns": [
                {
                  "name": "Country",
                  "rawType": "object",
                  "type": "string"
                },
                {
                  "name": "count",
                  "rawType": "int64",
                  "type": "integer"
                }
              ],
              "ref": "f3b95280-ed87-4700-bc5d-14a54e4ef669",
              "rows": [
                [
                  "United Kingdom",
                  "495478"
                ],
                [
                  "Germany",
                  "9495"
                ],
                [
                  "France",
                  "8557"
                ],
                [
                  "EIRE",
                  "8196"
                ],
                [
                  "Spain",
                  "2533"
                ],
                [
                  "Netherlands",
                  "2371"
                ],
                [
                  "Belgium",
                  "2069"
                ],
                [
                  "Switzerland",
                  "2002"
                ],
                [
                  "Portugal",
                  "1519"
                ],
                [
                  "Australia",
                  "1259"
                ],
                [
                  "Norway",
                  "1086"
                ],
                [
                  "Italy",
                  "803"
                ],
                [
                  "Channel Islands",
                  "758"
                ],
                [
                  "Finland",
                  "695"
                ],
                [
                  "Cyprus",
                  "622"
                ],
                [
                  "Sweden",
                  "462"
                ],
                [
                  "Unspecified",
                  "446"
                ],
                [
                  "Austria",
                  "401"
                ],
                [
                  "Denmark",
                  "389"
                ],
                [
                  "Japan",
                  "358"
                ],
                [
                  "Poland",
                  "341"
                ],
                [
                  "Israel",
                  "297"
                ],
                [
                  "USA",
                  "291"
                ],
                [
                  "Hong Kong",
                  "288"
                ],
                [
                  "Singapore",
                  "229"
                ],
                [
                  "Iceland",
                  "182"
                ],
                [
                  "Canada",
                  "151"
                ],
                [
                  "Greece",
                  "146"
                ],
                [
                  "Malta",
                  "127"
                ],
                [
                  "United Arab Emirates",
                  "68"
                ],
                [
                  "European Community",
                  "61"
                ],
                [
                  "RSA",
                  "58"
                ],
                [
                  "Lebanon",
                  "45"
                ],
                [
                  "Lithuania",
                  "35"
                ],
                [
                  "Brazil",
                  "32"
                ],
                [
                  "Czech Republic",
                  "30"
                ],
                [
                  "Bahrain",
                  "19"
                ],
                [
                  "Saudi Arabia",
                  "10"
                ]
              ],
              "shape": {
                "columns": 1,
                "rows": 38
              }
            },
            "text/plain": [
              "Country\n",
              "United Kingdom          495478\n",
              "Germany                   9495\n",
              "France                    8557\n",
              "EIRE                      8196\n",
              "Spain                     2533\n",
              "Netherlands               2371\n",
              "Belgium                   2069\n",
              "Switzerland               2002\n",
              "Portugal                  1519\n",
              "Australia                 1259\n",
              "Norway                    1086\n",
              "Italy                      803\n",
              "Channel Islands            758\n",
              "Finland                    695\n",
              "Cyprus                     622\n",
              "Sweden                     462\n",
              "Unspecified                446\n",
              "Austria                    401\n",
              "Denmark                    389\n",
              "Japan                      358\n",
              "Poland                     341\n",
              "Israel                     297\n",
              "USA                        291\n",
              "Hong Kong                  288\n",
              "Singapore                  229\n",
              "Iceland                    182\n",
              "Canada                     151\n",
              "Greece                     146\n",
              "Malta                      127\n",
              "United Arab Emirates        68\n",
              "European Community          61\n",
              "RSA                         58\n",
              "Lebanon                     45\n",
              "Lithuania                   35\n",
              "Brazil                      32\n",
              "Czech Republic              30\n",
              "Bahrain                     19\n",
              "Saudi Arabia                10\n",
              "Name: count, dtype: int64"
            ]
          },
          "execution_count": 12,
          "metadata": {},
          "output_type": "execute_result"
        }
      ],
      "source": [
        "df['Country'].value_counts()\n",
        "\n",
        "## 첫번째 국가. United Kingdom\n",
        "## 두번째 국가. Germany"
      ]
    },
    {
      "cell_type": "markdown",
      "metadata": {},
      "source": [
        "- 독립표본 t-검정을 사용하여 두 국가간 TotalPrice 평균의 차이가 통계적으로 유의미한지 검증하시오."
      ]
    },
    {
      "cell_type": "code",
      "execution_count": 13,
      "metadata": {
        "id": "UuN-1uRCNz_I"
      },
      "outputs": [],
      "source": [
        "## H0 : 두 국가의 TotalPrice 평균은 차이가 없다.\n",
        "## H1 : 두 국가의 TotalPrice 평균은 차이가 있다."
      ]
    },
    {
      "cell_type": "code",
      "execution_count": 14,
      "metadata": {},
      "outputs": [],
      "source": [
        "from scipy import stats"
      ]
    },
    {
      "cell_type": "code",
      "execution_count": 15,
      "metadata": {},
      "outputs": [],
      "source": [
        "## 국가별 TotalPrice 추출\n",
        "\n",
        "totalPrice_uk = df[df['Country']=='United Kingdom']['TotalPrice']\n",
        "totalPrice_ger = df[df['Country']=='Germany']['TotalPrice']"
      ]
    },
    {
      "cell_type": "code",
      "execution_count": 16,
      "metadata": {},
      "outputs": [
        {
          "data": {
            "application/vnd.microsoft.datawrangler.viewer.v0+json": {
              "columns": [
                {
                  "name": "index",
                  "rawType": "object",
                  "type": "string"
                },
                {
                  "name": "TotalPrice",
                  "rawType": "float64",
                  "type": "float"
                }
              ],
              "ref": "39f3faba-6e41-4dee-86e0-69fe96ce55ec",
              "rows": [
                [
                  "std",
                  "394.83911570239036"
                ]
              ],
              "shape": {
                "columns": 1,
                "rows": 1
              }
            },
            "text/plain": [
              "std    394.839116\n",
              "Name: TotalPrice, dtype: float64"
            ]
          },
          "execution_count": 16,
          "metadata": {},
          "output_type": "execute_result"
        }
      ],
      "source": [
        "## UK의 표준편차 확인\n",
        "\n",
        "totalPrice_uk.describe()[['std']]"
      ]
    },
    {
      "cell_type": "code",
      "execution_count": 17,
      "metadata": {},
      "outputs": [
        {
          "data": {
            "application/vnd.microsoft.datawrangler.viewer.v0+json": {
              "columns": [
                {
                  "name": "index",
                  "rawType": "object",
                  "type": "string"
                },
                {
                  "name": "TotalPrice",
                  "rawType": "float64",
                  "type": "float"
                }
              ],
              "ref": "499f5eff-bb31-43b2-9c77-a0263cac5634",
              "rows": [
                [
                  "std",
                  "37.32482568148618"
                ]
              ],
              "shape": {
                "columns": 1,
                "rows": 1
              }
            },
            "text/plain": [
              "std    37.324826\n",
              "Name: TotalPrice, dtype: float64"
            ]
          },
          "execution_count": 17,
          "metadata": {},
          "output_type": "execute_result"
        }
      ],
      "source": [
        "## Germany의 표준편차 확인\n",
        "\n",
        "totalPrice_ger.describe()[['std']]"
      ]
    },
    {
      "cell_type": "code",
      "execution_count": 18,
      "metadata": {},
      "outputs": [
        {
          "name": "stdout",
          "output_type": "stream",
          "text": [
            "t-통계량: -10.0464\n",
            "p-value: 0.00\n"
          ]
        }
      ],
      "source": [
        "t_stat, p_value = stats.ttest_ind(totalPrice_uk, totalPrice_ger, equal_var=False) ## 등분산성이 비슷하다고 보기 어렵기에 Welch's t-test 사용\n",
        "\n",
        "print( f't-통계량: {t_stat:.4f}')\n",
        "print( f'p-value: {p_value:.2f}' )"
      ]
    },
    {
      "cell_type": "markdown",
      "metadata": {},
      "source": [
        "- t-통계량과 p-값을 해석하여 결과를 설명하고, 1종 오류와 2종 오류의 개념을 적용하여 설명하시오.\n",
        "    - 평균의 차이가 있다고 보아야 한다. t-통계량 상, Germany의 평균이 더 높다고 나왔고, p-값 역시 매우 작게 나왔기에 이 차이가 우연은 아닐 것이다라고 해석할 수 있음.\n",
        "    - 여기서의 1종 오류는 두 국가 간 평균값 차이가 없는게 맞는데, 평균값 차이가 있다고 결론 내렸을 때 발생한다. 유의수준은 관습적으로 0.05로 설정한다. p-값이 0.000000... 으로 매우 작게 나왔지만, 그럼에도 우연히 평균값 차이가 있는 데이터로 검정을 한 것일 수도 있다. 그렇지만 전체 데이터로 t-검정을 수행한 것이니 1종 오류를 범하지 않았다고 생각한다.\n",
        "    - 반대로 2종 오류는 두 국가 간 평균값 차이가 있는게 맞는데, 평균값 차이가 없다는 주장을 기각하지 못했을 때 발생한다."
      ]
    },
    {
      "cell_type": "markdown",
      "metadata": {
        "id": "yWpUgBedN0PK"
      },
      "source": [
        "## 3. 주중, 주말에 따라서 발생하는 UnitPrice의 분포가 달라지는지 확인하세요.\n",
        "\n",
        "* 주중의 'UnitPrice'와 주말의 'UnitPrice'의 분포를 분석하기 위해 데이터의 중심경향치(평균, 중간값), 변산성(표준편차, 분산), 분위수를 계산하세요.  \n",
        "* 상자수염그림과 히스토그램을 그려 시각화를 통해 분포를 확인하고 데이터의 분포에 대해 설명해주세요."
      ]
    },
    {
      "cell_type": "markdown",
      "metadata": {},
      "source": [
        "- 주중의 'UnitPrice'와 주말의 'UnitPrice'의 분포를 분석하기 위해 데이터의 중심경향치(평균, 중간값), 변산성(표준편차, 분산), 분위수를 계산하세요.  "
      ]
    },
    {
      "cell_type": "code",
      "execution_count": 27,
      "metadata": {},
      "outputs": [],
      "source": [
        "## DayOfWeek 주중은 0 ~ 4, 주말은 5 ~ 6\n",
        "\n",
        "weekday = df[ df['DayOfWeek'] < 5 ]\n",
        "weekend = df[ df['DayOfWeek'] > 4 ]"
      ]
    },
    {
      "cell_type": "code",
      "execution_count": null,
      "metadata": {},
      "outputs": [
        {
          "name": "stdout",
          "output_type": "stream",
          "text": [
            "주중 데이터의 평균: 4.8434\n",
            "주중 데이터의 중앙값: 2.1000\n",
            "주중 데이터의 분산: 10615.6049\n",
            "주중 데이터의 표준편차: 103.0321\n",
            "주중 데이터의 1사분위수: 1.2500\n",
            "주중 데이터의 2사분위수: 2.1000\n",
            "주중 데이터의 3사분위수: 4.1300\n"
          ]
        }
      ],
      "source": [
        "## 주중 데이터의 통계량\n",
        "\n",
        "print(f'주중 데이터의 평균: {weekday['UnitPrice'].mean():.4f}')\n",
        "print(f'주중 데이터의 중앙값: {weekday['UnitPrice'].median():.4f}')\n",
        "\n",
        "print(f'주중 데이터의 분산: {weekday['UnitPrice'].var():.4f}')\n",
        "print(f'주중 데이터의 표준편차: {weekday['UnitPrice'].std():.4f}')\n",
        "\n",
        "print(f'주중 데이터의 1사분위수: {weekday['UnitPrice'].quantile(0.25):.4f}')\n",
        "print(f'주중 데이터의 2사분위수: {weekday['UnitPrice'].quantile(0.50):.4f}')\n",
        "print(f'주중 데이터의 3사분위수: {weekday['UnitPrice'].quantile(0.75):.4f}')"
      ]
    },
    {
      "cell_type": "code",
      "execution_count": 35,
      "metadata": {},
      "outputs": [
        {
          "name": "stdout",
          "output_type": "stream",
          "text": [
            "주말 데이터의 평균: 2.8878\n",
            "주말 데이터의 중앙값: 1.8500\n",
            "주말 데이터의 분산: 63.3536\n",
            "주말 데이터의 표준편차: 7.9595\n",
            "주말 데이터의 1사분위수: 1.2500\n",
            "주말 데이터의 2사분위수: 1.8500\n",
            "주말 데이터의 3사분위수: 3.7500\n"
          ]
        }
      ],
      "source": [
        "## 주말 데이터의 통계량\n",
        "\n",
        "print(f'주말 데이터의 평균: {weekend['UnitPrice'].mean():.4f}')\n",
        "print(f'주말 데이터의 중앙값: {weekend['UnitPrice'].median():.4f}')\n",
        "\n",
        "print(f'주말 데이터의 분산: {weekend['UnitPrice'].var():.4f}')\n",
        "print(f'주말 데이터의 표준편차: {weekend['UnitPrice'].std():.4f}')\n",
        "\n",
        "print(f'주말 데이터의 1사분위수: {weekend['UnitPrice'].quantile(0.25):.4f}')\n",
        "print(f'주말 데이터의 2사분위수: {weekend['UnitPrice'].quantile(0.50):.4f}')\n",
        "print(f'주말 데이터의 3사분위수: {weekend['UnitPrice'].quantile(0.75):.4f}')"
      ]
    },
    {
      "cell_type": "markdown",
      "metadata": {},
      "source": [
        "- 상자수염그림과 히스토그램을 그려 시각화를 통해 분포를 확인하고 데이터의 분포에 대해 설명해주세요.\n",
        "    - 주중 데이터에는 음수가 들어가있다. 그래서 주중 데이터와 주말 데이터의 그래프에 차이가 발생한다.\n",
        "    - 박스플롯을 보면 대부분 평균, 사분위수 등이 모두 0 근처에 있다. 보다 세밀한 분포 형태를 보려면 박스플롯을 기준으로 이상치를 제거한 후 다시 그래프를 그려야 가능하다."
      ]
    },
    {
      "cell_type": "code",
      "execution_count": 48,
      "metadata": {
        "id": "pBNoAnjj9tzh"
      },
      "outputs": [
        {
          "data": {
            "image/png": "[encoded data removed]",
            "text/plain": [
              "<Figure size 1000x500 with 1 Axes>"
            ]
          },
          "metadata": {},
          "output_type": "display_data"
        },
        {
          "data": {
            "image/png": "[encoded data removed]",
            "text/plain": [
              "<Figure size 500x500 with 1 Axes>"
            ]
          },
          "metadata": {},
          "output_type": "display_data"
        }
      ],
      "source": [
        "plt.figure(figsize=(10,5))\n",
        "sns.histplot(weekday['UnitPrice'], bins=20, kde=True)\n",
        "plt.title('주중 데이터의 히스토그램')\n",
        "plt.xlabel('주중 UnitPrice')\n",
        "plt.ylabel('빈도수')\n",
        "plt.show()\n",
        "\n",
        "plt.figure(figsize=(5,5))\n",
        "sns.boxplot(weekday['UnitPrice'])\n",
        "plt.title('주중 데이터의 박스플롯')\n",
        "plt.ylabel('주중 UnitPrice')\n",
        "plt.show()"
      ]
    },
    {
      "cell_type": "code",
      "execution_count": 49,
      "metadata": {},
      "outputs": [
        {
          "data": {
            "image/png": "[encoded data removed]",
            "text/plain": [
              "<Figure size 1000x500 with 1 Axes>"
            ]
          },
          "metadata": {},
          "output_type": "display_data"
        },
        {
          "data": {
            "image/png": "[encoded data removed]",
            "text/plain": [
              "<Figure size 500x500 with 1 Axes>"
            ]
          },
          "metadata": {},
          "output_type": "display_data"
        }
      ],
      "source": [
        "plt.figure(figsize=(10,5))\n",
        "sns.histplot(weekend['UnitPrice'], bins=20, kde=True)\n",
        "plt.title('주말 데이터의 히스토그램')\n",
        "plt.xlabel('주말 UnitPrice')\n",
        "plt.ylabel('빈도수')\n",
        "plt.show()\n",
        "\n",
        "plt.figure(figsize=(5,5))\n",
        "sns.boxplot(weekend['UnitPrice'])\n",
        "plt.title('주말 데이터의 박스플롯')\n",
        "plt.ylabel('주말 UnitPrice')\n",
        "plt.show()"
      ]
    },
    {
      "cell_type": "markdown",
      "metadata": {
        "id": "zbNpkFBBT4aK"
      },
      "source": [
        "## 4. 상품의 단가와 판매 국가, 판매 날짜을 이용해 판매 수량을 예측하는 회귀 모델을 만드세요.\n",
        "* 필요한 데이터를 정리하고 결측치와 이상치를 제거해주세요.  \n",
        "* 변수를 다음과 같이 설정하여 다중 선형 회귀 분석을 진행하세요.\n",
        "    * 종속변수: 판매 수량(`Quantity`)\n",
        "    * 독립변수: 상품 단가(`UnitPrice`), 판매 국가(`Country`), 판매 요일(`DayOfWeek`), 판매 월( `InvoiceMonth`)   \n",
        "* 회귀계수와 결정계수를 활용하여 회귀 분석 결과를 해석해주세요."
      ]
    },
    {
      "cell_type": "code",
      "execution_count": 59,
      "metadata": {
        "id": "katPA0wf9wST"
      },
      "outputs": [],
      "source": [
        "## 변수 선별\n",
        "df_fix = df[['Quantity', 'UnitPrice', 'Country', 'DayOfWeek', 'InvoiceMonth']]\n",
        "\n",
        "## 0 이하의 가격을 가진 행 제외\n",
        "df_fix = df_fix[ df_fix['UnitPrice'] > 0 ]\n",
        "\n",
        "## 국가, 요일, 월 더미변수화\n",
        "df_fix = pd.get_dummies(df_fix, columns=['Country', 'DayOfWeek', 'InvoiceMonth'], drop_first=True, dtype=int)\n",
        "\n",
        "## 인덱스 초기화\n",
        "df_fix = df_fix.reset_index(drop=True)\n",
        "\n",
        "## 독립변수, 종속변수 구분\n",
        "x_lr, y_lr = df_fix.iloc[: , 1:], df_fix.iloc[:, 0]"
      ]
    },
    {
      "cell_type": "code",
      "execution_count": null,
      "metadata": {},
      "outputs": [],
      "source": [
        "## 선형회귀 모델 불러오기 및 학습\n",
        "from sklearn.linear_model import LinearRegression\n",
        "\n",
        "model_lr = LinearRegression()\n",
        "\n",
        "model_lr.fit(x_lr, y_lr)"
      ]
    },
    {
      "cell_type": "code",
      "execution_count": null,
      "metadata": {},
      "outputs": [
        {
          "data": {
            "text/plain": [
              "array([-3.11926606e-03, -5.37262165e+01, -5.22708973e+01, -5.48527160e+01,\n",
              "       -5.48740986e+01, -4.69760889e+01, -5.36719777e+01, -5.55658469e+01,\n",
              "       -4.55712218e+01, -4.53497200e+01, -4.85934967e+01, -5.76786907e+01,\n",
              "       -5.09564858e+01, -5.29676423e+01, -5.34793337e+01, -5.43644224e+01,\n",
              "       -4.91396073e+01, -5.23030728e+01, -5.27429021e+01, -5.58112800e+01,\n",
              "        4.95200918e+00, -5.71700161e+01, -4.39105564e+01, -5.88695542e+01,\n",
              "        1.81961072e+01, -4.82000747e+01, -5.53549593e+01, -5.53298398e+01,\n",
              "       -6.10346925e+01, -5.94714191e+01, -4.22080005e+01, -5.51446876e+01,\n",
              "        1.16423997e+01, -5.08355912e+01, -6.21978682e+01, -5.23778538e+01,\n",
              "       -5.67296784e+01, -5.92199046e+01,  7.23065892e-01,  1.47204552e+00,\n",
              "        1.98836703e+00,  5.95901876e-01, -1.48727214e+00,  1.19522610e+00,\n",
              "        1.38637024e+00,  1.64086490e+00,  1.88639303e+00,  1.18618534e+00,\n",
              "        1.55357544e+00,  2.49348057e+00,  2.53191153e+00,  1.44156518e+00,\n",
              "        5.20118176e-01,  1.74478202e-01])"
            ]
          },
          "execution_count": 61,
          "metadata": {},
          "output_type": "execute_result"
        }
      ],
      "source": [
        "## 학습된 모델이 가지는 회귀계수\n",
        "model_lr.coef_"
      ]
    },
    {
      "cell_type": "code",
      "execution_count": null,
      "metadata": {},
      "outputs": [
        {
          "data": {
            "application/vnd.microsoft.datawrangler.viewer.v0+json": {
              "columns": [
                {
                  "name": "index",
                  "rawType": "object",
                  "type": "string"
                },
                {
                  "name": "0",
                  "rawType": "float64",
                  "type": "float"
                }
              ],
              "ref": "b922ba8b-f521-42bc-b3db-b11ab38230d5",
              "rows": [
                [
                  "UnitPrice",
                  "-0.00311926606083662"
                ],
                [
                  "Country_Austria",
                  "-53.726216493622736"
                ],
                [
                  "Country_Bahrain",
                  "-52.27089725338461"
                ],
                [
                  "Country_Belgium",
                  "-54.852716015843335"
                ],
                [
                  "Country_Brazil",
                  "-54.87409861489928"
                ],
                [
                  "Country_Canada",
                  "-46.976088945468334"
                ],
                [
                  "Country_Channel Islands",
                  "-53.67197772400818"
                ],
                [
                  "Country_Cyprus",
                  "-55.56584687957544"
                ],
                [
                  "Country_Czech Republic",
                  "-45.57122181565976"
                ],
                [
                  "Country_Denmark",
                  "-45.349719990796146"
                ],
                [
                  "Country_EIRE",
                  "-48.593496677725845"
                ],
                [
                  "Country_European Community",
                  "-57.67869065390531"
                ],
                [
                  "Country_Finland",
                  "-50.95648580921948"
                ],
                [
                  "Country_France",
                  "-52.967642255422234"
                ],
                [
                  "Country_Germany",
                  "-53.4793336925938"
                ],
                [
                  "Country_Greece",
                  "-54.36442240156356"
                ],
                [
                  "Country_Hong Kong",
                  "-49.139607267403285"
                ],
                [
                  "Country_Iceland",
                  "-52.303072840965264"
                ],
                [
                  "Country_Israel",
                  "-52.74290205414749"
                ],
                [
                  "Country_Italy",
                  "-55.811279994901724"
                ],
                [
                  "Country_Japan",
                  "4.952009175730748"
                ],
                [
                  "Country_Lebanon",
                  "-57.17001610470173"
                ],
                [
                  "Country_Lithuania",
                  "-43.91055635318055"
                ],
                [
                  "Country_Malta",
                  "-58.869554176271464"
                ],
                [
                  "Country_Netherlands",
                  "18.19610720001524"
                ],
                [
                  "Country_Norway",
                  "-48.20007473661649"
                ],
                [
                  "Country_Poland",
                  "-55.35495929105484"
                ],
                [
                  "Country_Portugal",
                  "-55.32983979944561"
                ],
                [
                  "Country_RSA",
                  "-61.03469252753516"
                ],
                [
                  "Country_Saudi Arabia",
                  "-59.47141906537278"
                ],
                [
                  "Country_Singapore",
                  "-42.2080005326287"
                ],
                [
                  "Country_Spain",
                  "-55.144687622063344"
                ],
                [
                  "Country_Sweden",
                  "11.642399670088018"
                ],
                [
                  "Country_Switzerland",
                  "-50.83559121756305"
                ],
                [
                  "Country_USA",
                  "-62.1978681747979"
                ],
                [
                  "Country_United Arab Emirates",
                  "-52.37785383757164"
                ],
                [
                  "Country_United Kingdom",
                  "-56.72967841469445"
                ],
                [
                  "Country_Unspecified",
                  "-59.21990460152939"
                ],
                [
                  "DayOfWeek_1",
                  "0.7230658921718955"
                ],
                [
                  "DayOfWeek_2",
                  "1.4720455243448285"
                ],
                [
                  "DayOfWeek_3",
                  "1.988367034339035"
                ],
                [
                  "DayOfWeek_4",
                  "0.5959018756653034"
                ],
                [
                  "DayOfWeek_6",
                  "-1.4872721401298032"
                ],
                [
                  "InvoiceMonth_2",
                  "1.1952261001024134"
                ],
                [
                  "InvoiceMonth_3",
                  "1.3863702407852472"
                ],
                [
                  "InvoiceMonth_4",
                  "1.6408649012821002"
                ],
                [
                  "InvoiceMonth_5",
                  "1.8863930314333857"
                ],
                [
                  "InvoiceMonth_6",
                  "1.1861853430136904"
                ],
                [
                  "InvoiceMonth_7",
                  "1.5535754422627024"
                ],
                [
                  "InvoiceMonth_8",
                  "2.4934805656350143"
                ]
              ],
              "shape": {
                "columns": 1,
                "rows": 54
              }
            },
            "text/html": [
              "<div>\n",
              "<style scoped>\n",
              "    .dataframe tbody tr th:only-of-type {\n",
              "        vertical-align: middle;\n",
              "    }\n",
              "\n",
              "    .dataframe tbody tr th {\n",
              "        vertical-align: top;\n",
              "    }\n",
              "\n",
              "    .dataframe thead th {\n",
              "        text-align: right;\n",
              "    }\n",
              "</style>\n",
              "<table border=\"1\" class=\"dataframe\">\n",
              "  <thead>\n",
              "    <tr style=\"text-align: right;\">\n",
              "      <th></th>\n",
              "      <th>0</th>\n",
              "    </tr>\n",
              "  </thead>\n",
              "  <tbody>\n",
              "    <tr>\n",
              "      <th>UnitPrice</th>\n",
              "      <td>-0.003119</td>\n",
              "    </tr>\n",
              "    <tr>\n",
              "      <th>Country_Austria</th>\n",
              "      <td>-53.726216</td>\n",
              "    </tr>\n",
              "    <tr>\n",
              "      <th>Country_Bahrain</th>\n",
              "      <td>-52.270897</td>\n",
              "    </tr>\n",
              "    <tr>\n",
              "      <th>Country_Belgium</th>\n",
              "      <td>-54.852716</td>\n",
              "    </tr>\n",
              "    <tr>\n",
              "      <th>Country_Brazil</th>\n",
              "      <td>-54.874099</td>\n",
              "    </tr>\n",
              "    <tr>\n",
              "      <th>Country_Canada</th>\n",
              "      <td>-46.976089</td>\n",
              "    </tr>\n",
              "    <tr>\n",
              "      <th>Country_Channel Islands</th>\n",
              "      <td>-53.671978</td>\n",
              "    </tr>\n",
              "    <tr>\n",
              "      <th>Country_Cyprus</th>\n",
              "      <td>-55.565847</td>\n",
              "    </tr>\n",
              "    <tr>\n",
              "      <th>Country_Czech Republic</th>\n",
              "      <td>-45.571222</td>\n",
              "    </tr>\n",
              "    <tr>\n",
              "      <th>Country_Denmark</th>\n",
              "      <td>-45.349720</td>\n",
              "    </tr>\n",
              "    <tr>\n",
              "      <th>Country_EIRE</th>\n",
              "      <td>-48.593497</td>\n",
              "    </tr>\n",
              "    <tr>\n",
              "      <th>Country_European Community</th>\n",
              "      <td>-57.678691</td>\n",
              "    </tr>\n",
              "    <tr>\n",
              "      <th>Country_Finland</th>\n",
              "      <td>-50.956486</td>\n",
              "    </tr>\n",
              "    <tr>\n",
              "      <th>Country_France</th>\n",
              "      <td>-52.967642</td>\n",
              "    </tr>\n",
              "    <tr>\n",
              "      <th>Country_Germany</th>\n",
              "      <td>-53.479334</td>\n",
              "    </tr>\n",
              "    <tr>\n",
              "      <th>Country_Greece</th>\n",
              "      <td>-54.364422</td>\n",
              "    </tr>\n",
              "    <tr>\n",
              "      <th>Country_Hong Kong</th>\n",
              "      <td>-49.139607</td>\n",
              "    </tr>\n",
              "    <tr>\n",
              "      <th>Country_Iceland</th>\n",
              "      <td>-52.303073</td>\n",
              "    </tr>\n",
              "    <tr>\n",
              "      <th>Country_Israel</th>\n",
              "      <td>-52.742902</td>\n",
              "    </tr>\n",
              "    <tr>\n",
              "      <th>Country_Italy</th>\n",
              "      <td>-55.811280</td>\n",
              "    </tr>\n",
              "    <tr>\n",
              "      <th>Country_Japan</th>\n",
              "      <td>4.952009</td>\n",
              "    </tr>\n",
              "    <tr>\n",
              "      <th>Country_Lebanon</th>\n",
              "      <td>-57.170016</td>\n",
              "    </tr>\n",
              "    <tr>\n",
              "      <th>Country_Lithuania</th>\n",
              "      <td>-43.910556</td>\n",
              "    </tr>\n",
              "    <tr>\n",
              "      <th>Country_Malta</th>\n",
              "      <td>-58.869554</td>\n",
              "    </tr>\n",
              "    <tr>\n",
              "      <th>Country_Netherlands</th>\n",
              "      <td>18.196107</td>\n",
              "    </tr>\n",
              "    <tr>\n",
              "      <th>Country_Norway</th>\n",
              "      <td>-48.200075</td>\n",
              "    </tr>\n",
              "    <tr>\n",
              "      <th>Country_Poland</th>\n",
              "      <td>-55.354959</td>\n",
              "    </tr>\n",
              "    <tr>\n",
              "      <th>Country_Portugal</th>\n",
              "      <td>-55.329840</td>\n",
              "    </tr>\n",
              "    <tr>\n",
              "      <th>Country_RSA</th>\n",
              "      <td>-61.034693</td>\n",
              "    </tr>\n",
              "    <tr>\n",
              "      <th>Country_Saudi Arabia</th>\n",
              "      <td>-59.471419</td>\n",
              "    </tr>\n",
              "    <tr>\n",
              "      <th>Country_Singapore</th>\n",
              "      <td>-42.208001</td>\n",
              "    </tr>\n",
              "    <tr>\n",
              "      <th>Country_Spain</th>\n",
              "      <td>-55.144688</td>\n",
              "    </tr>\n",
              "    <tr>\n",
              "      <th>Country_Sweden</th>\n",
              "      <td>11.642400</td>\n",
              "    </tr>\n",
              "    <tr>\n",
              "      <th>Country_Switzerland</th>\n",
              "      <td>-50.835591</td>\n",
              "    </tr>\n",
              "    <tr>\n",
              "      <th>Country_USA</th>\n",
              "      <td>-62.197868</td>\n",
              "    </tr>\n",
              "    <tr>\n",
              "      <th>Country_United Arab Emirates</th>\n",
              "      <td>-52.377854</td>\n",
              "    </tr>\n",
              "    <tr>\n",
              "      <th>Country_United Kingdom</th>\n",
              "      <td>-56.729678</td>\n",
              "    </tr>\n",
              "    <tr>\n",
              "      <th>Country_Unspecified</th>\n",
              "      <td>-59.219905</td>\n",
              "    </tr>\n",
              "    <tr>\n",
              "      <th>DayOfWeek_1</th>\n",
              "      <td>0.723066</td>\n",
              "    </tr>\n",
              "    <tr>\n",
              "      <th>DayOfWeek_2</th>\n",
              "      <td>1.472046</td>\n",
              "    </tr>\n",
              "    <tr>\n",
              "      <th>DayOfWeek_3</th>\n",
              "      <td>1.988367</td>\n",
              "    </tr>\n",
              "    <tr>\n",
              "      <th>DayOfWeek_4</th>\n",
              "      <td>0.595902</td>\n",
              "    </tr>\n",
              "    <tr>\n",
              "      <th>DayOfWeek_6</th>\n",
              "      <td>-1.487272</td>\n",
              "    </tr>\n",
              "    <tr>\n",
              "      <th>InvoiceMonth_2</th>\n",
              "      <td>1.195226</td>\n",
              "    </tr>\n",
              "    <tr>\n",
              "      <th>InvoiceMonth_3</th>\n",
              "      <td>1.386370</td>\n",
              "    </tr>\n",
              "    <tr>\n",
              "      <th>InvoiceMonth_4</th>\n",
              "      <td>1.640865</td>\n",
              "    </tr>\n",
              "    <tr>\n",
              "      <th>InvoiceMonth_5</th>\n",
              "      <td>1.886393</td>\n",
              "    </tr>\n",
              "    <tr>\n",
              "      <th>InvoiceMonth_6</th>\n",
              "      <td>1.186185</td>\n",
              "    </tr>\n",
              "    <tr>\n",
              "      <th>InvoiceMonth_7</th>\n",
              "      <td>1.553575</td>\n",
              "    </tr>\n",
              "    <tr>\n",
              "      <th>InvoiceMonth_8</th>\n",
              "      <td>2.493481</td>\n",
              "    </tr>\n",
              "    <tr>\n",
              "      <th>InvoiceMonth_9</th>\n",
              "      <td>2.531912</td>\n",
              "    </tr>\n",
              "    <tr>\n",
              "      <th>InvoiceMonth_10</th>\n",
              "      <td>1.441565</td>\n",
              "    </tr>\n",
              "    <tr>\n",
              "      <th>InvoiceMonth_11</th>\n",
              "      <td>0.520118</td>\n",
              "    </tr>\n",
              "    <tr>\n",
              "      <th>InvoiceMonth_12</th>\n",
              "      <td>0.174478</td>\n",
              "    </tr>\n",
              "  </tbody>\n",
              "</table>\n",
              "</div>"
            ],
            "text/plain": [
              "                                      0\n",
              "UnitPrice                     -0.003119\n",
              "Country_Austria              -53.726216\n",
              "Country_Bahrain              -52.270897\n",
              "Country_Belgium              -54.852716\n",
              "Country_Brazil               -54.874099\n",
              "Country_Canada               -46.976089\n",
              "Country_Channel Islands      -53.671978\n",
              "Country_Cyprus               -55.565847\n",
              "Country_Czech Republic       -45.571222\n",
              "Country_Denmark              -45.349720\n",
              "Country_EIRE                 -48.593497\n",
              "Country_European Community   -57.678691\n",
              "Country_Finland              -50.956486\n",
              "Country_France               -52.967642\n",
              "Country_Germany              -53.479334\n",
              "Country_Greece               -54.364422\n",
              "Country_Hong Kong            -49.139607\n",
              "Country_Iceland              -52.303073\n",
              "Country_Israel               -52.742902\n",
              "Country_Italy                -55.811280\n",
              "Country_Japan                  4.952009\n",
              "Country_Lebanon              -57.170016\n",
              "Country_Lithuania            -43.910556\n",
              "Country_Malta                -58.869554\n",
              "Country_Netherlands           18.196107\n",
              "Country_Norway               -48.200075\n",
              "Country_Poland               -55.354959\n",
              "Country_Portugal             -55.329840\n",
              "Country_RSA                  -61.034693\n",
              "Country_Saudi Arabia         -59.471419\n",
              "Country_Singapore            -42.208001\n",
              "Country_Spain                -55.144688\n",
              "Country_Sweden                11.642400\n",
              "Country_Switzerland          -50.835591\n",
              "Country_USA                  -62.197868\n",
              "Country_United Arab Emirates -52.377854\n",
              "Country_United Kingdom       -56.729678\n",
              "Country_Unspecified          -59.219905\n",
              "DayOfWeek_1                    0.723066\n",
              "DayOfWeek_2                    1.472046\n",
              "DayOfWeek_3                    1.988367\n",
              "DayOfWeek_4                    0.595902\n",
              "DayOfWeek_6                   -1.487272\n",
              "InvoiceMonth_2                 1.195226\n",
              "InvoiceMonth_3                 1.386370\n",
              "InvoiceMonth_4                 1.640865\n",
              "InvoiceMonth_5                 1.886393\n",
              "InvoiceMonth_6                 1.186185\n",
              "InvoiceMonth_7                 1.553575\n",
              "InvoiceMonth_8                 2.493481\n",
              "InvoiceMonth_9                 2.531912\n",
              "InvoiceMonth_10                1.441565\n",
              "InvoiceMonth_11                0.520118\n",
              "InvoiceMonth_12                0.174478"
            ]
          },
          "execution_count": 65,
          "metadata": {},
          "output_type": "execute_result"
        }
      ],
      "source": [
        "## 특정 국가 여부는 일본, 스웨덴을 제외하면 수량에 마이너스 영향을 주고,\n",
        "## 특정 요일, 특정 월의 여부는 수량 예측에 상대적으로 그 영향력이 낮다. -1 ~ 2 사이에 있다 대부분. \n",
        "pd.DataFrame(model_lr.coef_, index=x_lr.columns)"
      ]
    },
    {
      "cell_type": "code",
      "execution_count": null,
      "metadata": {},
      "outputs": [
        {
          "data": {
            "text/plain": [
              "np.float64(63.776232067337894)"
            ]
          },
          "execution_count": 62,
          "metadata": {},
          "output_type": "execute_result"
        }
      ],
      "source": [
        "## 학습된 모델이 가지는 절편\n",
        "## 기본적으로 설정된 Quantity라 할 수 있다.\n",
        "model_lr.intercept_"
      ]
    },
    {
      "cell_type": "code",
      "execution_count": null,
      "metadata": {},
      "outputs": [
        {
          "data": {
            "text/plain": [
              "0.0009126238792145358"
            ]
          },
          "execution_count": 63,
          "metadata": {},
          "output_type": "execute_result"
        }
      ],
      "source": [
        "## 학습된 모델의 설명력\n",
        "## 아-무것도 설명을 못한다.\n",
        "model_lr.score(x_lr, y_lr)"
      ]
    },
    {
      "cell_type": "markdown",
      "metadata": {
        "id": "QDgJTeRoUwjf"
      },
      "source": [
        "## 5. 상품 정보와 거래 정보를 바탕으로 해당 거래가 반품될 가능성을 예측하는 로지스틱 회귀 모델을 만드세요.\n",
        "* 필요한 데이터를 정리하고 결측치와 이상치를 제거해주세요.  \n",
        "* `Quantity` 피쳐를 활용해 `IsReturn` 피쳐를 생성하세요.\n",
        "* 모델 학습에 사용할 적절한 피쳐를 선정하세요.\n",
        "* 모델 학습과 검증을 위해 데이터셋을 train셋과 test셋으로 나누세요.\n",
        "* `IsReturn`을 예측하는 로지스틱 회귀 모델을 학습하세요.\n",
        "* 혼동행렬, 정밀도, 재현율, F1-score 등 다양한 평가지표를 사용하여 모델의 성능을 평가하세요.\n",
        "* 모델의 성능을 더 높일 수 있는 방안에 대해서 고민해보세요."
      ]
    },
    {
      "cell_type": "code",
      "execution_count": 90,
      "metadata": {
        "id": "mcvefNO19yk6"
      },
      "outputs": [],
      "source": [
        "## 원본 데이터프레임 복사\n",
        "df2 = df.copy()\n",
        "\n",
        "## IsReturn 피쳐 생성 및 0 미만의 값에 1 부여\n",
        "df2['IsReturn'] = 0\n",
        "df2.loc[ df2['Quantity']<0 , 'IsReturn' ] = 1\n",
        "\n",
        "## 사용 변수 설정\n",
        "x_logit = df2[['Quantity', 'UnitPrice', 'Country', 'TotalPrice', 'DayOfWeek', 'InvoiceMonth']]\n",
        "y_logit = df2['IsReturn']\n",
        "\n",
        "## 더미변수화\n",
        "x_logit = pd.get_dummies(x_logit, columns=['Country', 'DayOfWeek', 'InvoiceMonth'], drop_first=True, dtype=int)"
      ]
    },
    {
      "cell_type": "code",
      "execution_count": 91,
      "metadata": {},
      "outputs": [
        {
          "name": "stdout",
          "output_type": "stream",
          "text": [
            "<class 'pandas.core.frame.DataFrame'>\n",
            "RangeIndex: 541909 entries, 0 to 541908\n",
            "Data columns (total 56 columns):\n",
            " #   Column                        Non-Null Count   Dtype  \n",
            "---  ------                        --------------   -----  \n",
            " 0   Quantity                      541909 non-null  int64  \n",
            " 1   UnitPrice                     541909 non-null  float64\n",
            " 2   TotalPrice                    541909 non-null  float64\n",
            " 3   Country_Austria               541909 non-null  int64  \n",
            " 4   Country_Bahrain               541909 non-null  int64  \n",
            " 5   Country_Belgium               541909 non-null  int64  \n",
            " 6   Country_Brazil                541909 non-null  int64  \n",
            " 7   Country_Canada                541909 non-null  int64  \n",
            " 8   Country_Channel Islands       541909 non-null  int64  \n",
            " 9   Country_Cyprus                541909 non-null  int64  \n",
            " 10  Country_Czech Republic        541909 non-null  int64  \n",
            " 11  Country_Denmark               541909 non-null  int64  \n",
            " 12  Country_EIRE                  541909 non-null  int64  \n",
            " 13  Country_European Community    541909 non-null  int64  \n",
            " 14  Country_Finland               541909 non-null  int64  \n",
            " 15  Country_France                541909 non-null  int64  \n",
            " 16  Country_Germany               541909 non-null  int64  \n",
            " 17  Country_Greece                541909 non-null  int64  \n",
            " 18  Country_Hong Kong             541909 non-null  int64  \n",
            " 19  Country_Iceland               541909 non-null  int64  \n",
            " 20  Country_Israel                541909 non-null  int64  \n",
            " 21  Country_Italy                 541909 non-null  int64  \n",
            " 22  Country_Japan                 541909 non-null  int64  \n",
            " 23  Country_Lebanon               541909 non-null  int64  \n",
            " 24  Country_Lithuania             541909 non-null  int64  \n",
            " 25  Country_Malta                 541909 non-null  int64  \n",
            " 26  Country_Netherlands           541909 non-null  int64  \n",
            " 27  Country_Norway                541909 non-null  int64  \n",
            " 28  Country_Poland                541909 non-null  int64  \n",
            " 29  Country_Portugal              541909 non-null  int64  \n",
            " 30  Country_RSA                   541909 non-null  int64  \n",
            " 31  Country_Saudi Arabia          541909 non-null  int64  \n",
            " 32  Country_Singapore             541909 non-null  int64  \n",
            " 33  Country_Spain                 541909 non-null  int64  \n",
            " 34  Country_Sweden                541909 non-null  int64  \n",
            " 35  Country_Switzerland           541909 non-null  int64  \n",
            " 36  Country_USA                   541909 non-null  int64  \n",
            " 37  Country_United Arab Emirates  541909 non-null  int64  \n",
            " 38  Country_United Kingdom        541909 non-null  int64  \n",
            " 39  Country_Unspecified           541909 non-null  int64  \n",
            " 40  DayOfWeek_1                   541909 non-null  int64  \n",
            " 41  DayOfWeek_2                   541909 non-null  int64  \n",
            " 42  DayOfWeek_3                   541909 non-null  int64  \n",
            " 43  DayOfWeek_4                   541909 non-null  int64  \n",
            " 44  DayOfWeek_6                   541909 non-null  int64  \n",
            " 45  InvoiceMonth_2                541909 non-null  int64  \n",
            " 46  InvoiceMonth_3                541909 non-null  int64  \n",
            " 47  InvoiceMonth_4                541909 non-null  int64  \n",
            " 48  InvoiceMonth_5                541909 non-null  int64  \n",
            " 49  InvoiceMonth_6                541909 non-null  int64  \n",
            " 50  InvoiceMonth_7                541909 non-null  int64  \n",
            " 51  InvoiceMonth_8                541909 non-null  int64  \n",
            " 52  InvoiceMonth_9                541909 non-null  int64  \n",
            " 53  InvoiceMonth_10               541909 non-null  int64  \n",
            " 54  InvoiceMonth_11               541909 non-null  int64  \n",
            " 55  InvoiceMonth_12               541909 non-null  int64  \n",
            "dtypes: float64(2), int64(54)\n",
            "memory usage: 231.5 MB\n"
          ]
        }
      ],
      "source": [
        "## x_logit 정보 확인\n",
        "x_logit.info()"
      ]
    },
    {
      "cell_type": "code",
      "execution_count": 92,
      "metadata": {},
      "outputs": [
        {
          "name": "stdout",
          "output_type": "stream",
          "text": [
            "<class 'pandas.core.series.Series'>\n",
            "RangeIndex: 541909 entries, 0 to 541908\n",
            "Series name: IsReturn\n",
            "Non-Null Count   Dtype\n",
            "--------------   -----\n",
            "541909 non-null  int64\n",
            "dtypes: int64(1)\n",
            "memory usage: 4.1 MB\n"
          ]
        }
      ],
      "source": [
        "## y_logit 정보 확인\n",
        "y_logit.info()"
      ]
    },
    {
      "cell_type": "code",
      "execution_count": 93,
      "metadata": {},
      "outputs": [],
      "source": [
        "from sklearn.model_selection import train_test_split\n",
        "from sklearn.linear_model import LogisticRegression\n",
        "from sklearn.metrics import classification_report"
      ]
    },
    {
      "cell_type": "code",
      "execution_count": 94,
      "metadata": {},
      "outputs": [],
      "source": [
        "## 데이터 분할\n",
        "## 트레이닝셋:테스트셋=8:2\n",
        "## y_logit 불균형 하기에 트레이닝셋, 테스트셋에 모두 골고루 들어가도록 설정.\n",
        "x_train, x_test, y_train, y_test =\\\n",
        "    train_test_split(x_logit, y_logit, test_size=0.2, random_state=2025, stratify=y_logit)"
      ]
    },
    {
      "cell_type": "code",
      "execution_count": 95,
      "metadata": {},
      "outputs": [],
      "source": [
        "## 모델 불러오기 및 학습\n",
        "model_logit = LogisticRegression()\n",
        "model_logit.fit(x_train, y_train)\n",
        "\n",
        "## 예측값 생성\n",
        "y_pred = model_logit.predict(x_test)"
      ]
    },
    {
      "cell_type": "code",
      "execution_count": null,
      "metadata": {
        "id": "qk0d5pqM9yVk"
      },
      "outputs": [
        {
          "name": "stdout",
          "output_type": "stream",
          "text": [
            "              precision    recall  f1-score   support\n",
            "\n",
            "          정상       1.00      1.00      1.00    106257\n",
            "          반품       1.00      1.00      1.00      2125\n",
            "\n",
            "    accuracy                           1.00    108382\n",
            "   macro avg       1.00      1.00      1.00    108382\n",
            "weighted avg       1.00      1.00      1.00    108382\n",
            "\n"
          ]
        }
      ],
      "source": [
        "## 평가지표\n",
        "## 지표가 전부 1로 나오는 기이한 현상...\n",
        "## 아무리 생각해도 무어라 설명해얄지 모르겠습니다...\n",
        "\n",
        "print(classification_report(y_test, y_pred, target_names=['정상', '반품']) )"
      ]
    },
    {
      "cell_type": "code",
      "execution_count": null,
      "metadata": {},
      "outputs": [],
      "source": []
    }
  ],
  "metadata": {
    "colab": {
      "provenance": []
    },
    "kernelspec": {
      "display_name": ".venv (3.12.3)",
      "language": "python",
      "name": "python3"
    },
    "language_info": {
      "codemirror_mode": {
        "name": "ipython",
        "version": 3
      },
      "file_extension": ".py",
      "mimetype": "text/x-python",
      "name": "python",
      "nbconvert_exporter": "python",
      "pygments_lexer": "ipython3",
      "version": "3.12.3"
    }
  },
  "nbformat": 4,
  "nbformat_minor": 0
}
